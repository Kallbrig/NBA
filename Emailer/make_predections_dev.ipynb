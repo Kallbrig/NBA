{
 "cells": [
  {
   "cell_type": "code",
   "execution_count": null,
   "metadata": {
    "collapsed": true
   },
   "outputs": [],
   "source": [
    "import os\n",
    "import time\n",
    "from datetime import datetime\n",
    "\n",
    "import joblib\n",
    "import matplotlib.pyplot as plt\n",
    "import pandas as pd\n",
    "import seaborn as sns\n",
    "from sklearn.preprocessing import MinMaxScaler\n",
    "\n",
    "from send_email import *"
   ]
  },
  {
   "cell_type": "code",
   "execution_count": null,
   "outputs": [],
   "source": [
    "plt.rcParams['savefig.dpi'] = 200\n",
    "\n",
    "sns.set_style('whitegrid')"
   ],
   "metadata": {
    "collapsed": false,
    "pycharm": {
     "name": "#%%\n"
    }
   }
  },
  {
   "cell_type": "code",
   "execution_count": null,
   "outputs": [],
   "source": [
    "\n",
    "def trim_set(frame):\n",
    "    return frame[((frame['TRB'] > 2) | (frame['AST'] > 5)) & (frame['PTS'] > 15)]\n"
   ],
   "metadata": {
    "collapsed": false,
    "pycharm": {
     "name": "#%%\n"
    }
   }
  },
  {
   "cell_type": "code",
   "execution_count": null,
   "outputs": [],
   "source": [
    "all_files = [i for i in os.listdir(f'../ML - Regression/Historic Predictions/{date.today().year}')]\n",
    "\n",
    "li = []\n",
    "\n",
    "for filename in all_files:\n",
    "    df = pd.read_csv(f'../ML - Regression/Historic Predictions/{date.today().year}/{filename}', index_col=None, )\n",
    "    df['Date'] = filename[:8]\n",
    "    df['Date'] = pd.to_datetime(df['Date'])\n",
    "    li.append(df)\n",
    "\n",
    "frame = pd.concat(li, axis=0, ignore_index=True, )\n",
    "\n",
    "players_to_graph = frame.loc[(frame['Date'] == frame.Date.max()) & (frame['pred_rank'] <= 5), 'Player'].tolist()\n",
    "filtered_frame = frame[frame['Player'].isin(players_to_graph)]\n",
    "sns.lineplot(data=filtered_frame, x='Date', y='pred', hue='Player', marker='o')\n",
    "plt.xticks(rotation=45)\n",
    "\n",
    "plt.yticks([i / 100 for i in range(0, 101, 5)])\n",
    "\n",
    "plt.legend(bbox_to_anchor=(1, 1))\n",
    "\n",
    "plt.tight_layout()\n",
    "\n",
    "plt.savefig(\n",
    "    f'../ML - Regression/Historic Predictions/Graphs/{date.today().year}/{filtered_frame.Date.max().strftime(\"%Y%m%d\")}.png',\n",
    "    dpi=500)\n",
    "\n",
    "time.sleep(2)"
   ],
   "metadata": {
    "collapsed": false,
    "pycharm": {
     "name": "#%%\n"
    }
   }
  },
  {
   "cell_type": "code",
   "execution_count": null,
   "outputs": [],
   "source": [
    "rf_regressor_trained = joblib.load(\"../ML - Regression/models/MVP_Predictions.pkl\", )\n",
    "\n",
    "test_set = pd.read_csv(\n",
    "    f'/Users/chaseallbright/Dropbox/NBA/Data/Test Sets/{datetime.now().strftime(\"%Y\")}/{datetime.now().strftime(\"%Y%m%d\")}_player_stats.csv',\n",
    "    index_col=0)\n",
    "test_set = trim_set(test_set)\n",
    "\n",
    "feature_list = ['Age', 'G', 'GS', 'MP', 'FG', 'FGA',\n",
    "                'FG%', '3P', '3PA', '3P%', '2P', '2PA', '2P%', 'eFG%', 'FT', 'FTA',\n",
    "                'FT%', 'ORB', 'DRB', 'TRB', 'AST', 'STL', 'BLK', 'TOV', 'PF', 'PTS',\n",
    "                'PER', 'TS%', '3PAr', 'FTr', 'ORB%', 'DRB%', 'TRB%', 'AST%', 'STL%',\n",
    "                'BLK%', 'TOV%', 'USG%', 'OWS', 'DWS', 'WS', 'WS/48', 'OBPM', 'DBPM',\n",
    "                'BPM', 'VORP']\n",
    "\n",
    "x_test = test_set[feature_list]\n",
    "\n",
    "y_pred = rf_regressor_trained.predict(x_test)"
   ],
   "metadata": {
    "collapsed": false,
    "pycharm": {
     "name": "#%%\n"
    }
   }
  },
  {
   "cell_type": "code",
   "execution_count": null,
   "outputs": [],
   "source": [
    "test_set['pred'] = y_pred\n",
    "test_set['pred_scaled'] = MinMaxScaler().fit_transform(y_pred.reshape(-1, 1))\n",
    "\n",
    "test_set['pred_rank'] = test_set.pred.rank(ascending=False).astype(\"int\")\n",
    "\n",
    "saved = test_set.sort_values('pred_rank', ascending=True).head(10)[\n",
    "    ['pred_rank', 'Player', 'G', 'PTS', 'TS%', 'AST', 'TRB', 'STL', 'BLK', 'OWS', 'DWS', 'WS/48', 'BPM',\n",
    "     'pred']].set_index('pred_rank')"
   ],
   "metadata": {
    "collapsed": false,
    "pycharm": {
     "name": "#%%\n"
    }
   }
  },
  {
   "cell_type": "code",
   "execution_count": null,
   "outputs": [],
   "source": [
    "if not os.path.isdir(f'../ML - Regression/Historic Predictions/{datetime.now().strftime(\"%Y\")}'):\n",
    "    os.mkdir(f'../ML - Regression/Historic Predictions/{datetime.now().strftime(\"%Y\")}')\n",
    "\n",
    "saved.to_csv(\n",
    "    f'../ML - Regression/Historic Predictions/{datetime.now().strftime(\"%Y\")}/{datetime.now().strftime(\"%Y%m%d\")}_MVP_Predictions.csv')\n",
    "# print(test_set.sort_values('pred_rank', ascending=True).head(10)[\n",
    "#           ['pred_rank', 'Player', 'G', 'PTS', 'TS%', 'AST', 'TRB', 'STL', 'BLK','OWS','DWS', 'WS/48','BPM', 'pred']])\n",
    "\n",
    "saved.pred = saved.pred * 100\n",
    "saved.pred = saved.pred.round(1)\n",
    "saved.pred = saved.pred.astype(str) + '%'\n",
    "\n",
    "saved['TS%'] = saved['TS%'] * 100\n",
    "saved['TS%'] = saved['TS%'].round(1)\n",
    "saved['TS%'] = saved['TS%'].astype(str) + '%'\n",
    "\n",
    "saved.columns = ['Predicted Vote Share' if i == 'pred' else i for i in saved.columns]"
   ],
   "metadata": {
    "collapsed": false,
    "pycharm": {
     "name": "#%%\n"
    }
   }
  },
  {
   "cell_type": "code",
   "execution_count": null,
   "outputs": [],
   "source": [
    "html_table = saved.to_html()\n",
    "\n",
    "img_html = get_img_to_html(\n",
    "    f'../ML - Regression/Historic Predictions/Graphs/{date.today().year}/{datetime.now().strftime(\"%Y%m%d\")}.png')"
   ],
   "metadata": {
    "collapsed": false,
    "pycharm": {
     "name": "#%%\n"
    }
   }
  },
  {
   "cell_type": "code",
   "execution_count": null,
   "outputs": [],
   "source": [
    "email_text = format_email(html_table, img_html)\n",
    "send_email(email_text)\n"
   ],
   "metadata": {
    "collapsed": false,
    "pycharm": {
     "name": "#%%\n"
    }
   }
  }
 ],
 "metadata": {
  "kernelspec": {
   "display_name": "Python 3",
   "language": "python",
   "name": "python3"
  },
  "language_info": {
   "codemirror_mode": {
    "name": "ipython",
    "version": 2
   },
   "file_extension": ".py",
   "mimetype": "text/x-python",
   "name": "python",
   "nbconvert_exporter": "python",
   "pygments_lexer": "ipython2",
   "version": "2.7.6"
  }
 },
 "nbformat": 4,
 "nbformat_minor": 0
}