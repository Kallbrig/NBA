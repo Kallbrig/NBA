{
 "cells": [
  {
   "cell_type": "code",
   "execution_count": 1,
   "metadata": {
    "collapsed": true
   },
   "outputs": [],
   "source": [
    "import pandas as pd\n",
    "import matplotlib.pyplot as plt"
   ]
  },
  {
   "cell_type": "code",
   "execution_count": 4,
   "outputs": [],
   "source": [
    "data = pd.read_csv('../Data/Team Data/Combined/league_stats.csv',index_col=0)\n",
    "df = data.copy()"
   ],
   "metadata": {
    "collapsed": false,
    "pycharm": {
     "name": "#%%\n"
    }
   }
  },
  {
   "cell_type": "code",
   "execution_count": 5,
   "outputs": [
    {
     "data": {
      "text/plain": "                     Team   G     MP    FG   FGA    FG%    3P   3PA    3P%  \\\n0         Boston Celtics*  82  242.4  41.9  89.2  0.470   0.9   3.2  0.286   \n1     Los Angeles Lakers*  82  242.4  45.4  96.6  0.470   1.0   3.3  0.285   \n2     Philadelphia 76ers*  82  242.1  42.0  92.2  0.455   0.9   3.4  0.271   \n3    Seattle SuperSonics*  82  241.8  41.6  90.5  0.459   0.7   2.9  0.246   \n4           Phoenix Suns*  82  240.9  43.5  91.2  0.476   1.2   3.6  0.337   \n..                    ...  ..    ...   ...   ...    ...   ...   ...    ...   \n26  Oklahoma City Thunder  75  241.7  38.2  89.3  0.428  12.1  37.6  0.321   \n27        Houston Rockets  76  241.0  39.1  86.0  0.455  13.4  38.5  0.349   \n28        Detroit Pistons  76  241.3  38.1  88.7  0.430  11.1  34.2  0.326   \n29          Orlando Magic  76  241.3  38.2  88.2  0.434  12.0  36.4  0.329   \n30    League Average 2022  76  241.4  40.5  88.1  0.460  12.4  35.2  0.352   \n\n      2P  ...   SOS   SRS   ORtg   DRtg  NRtg   Pace    FTr   3PAr    TS%  \\\n0   41.0  ... -0.42  7.37  109.4  101.9   7.5  102.6  0.332  0.057  0.550   \n1   44.5  ... -0.51  5.40  109.5  103.9   5.6  104.1  0.284  0.014  0.569   \n2   41.1  ... -0.18  4.04  105.0  101.0   4.0  103.0  0.340  0.017  0.544   \n3   40.8  ... -0.42  4.24  105.8  101.2   4.6  101.8  0.298  0.025  0.520   \n4   42.2  ... -0.35  3.25  105.6  102.2   3.4  104.8  0.341  0.039  0.548   \n..   ...  ...   ...   ...    ...    ...   ...    ...    ...    ...    ...   \n26  26.2  ...  0.30 -7.13  104.6  112.0  -7.4   98.5  0.223  0.421  0.529   \n27  25.7  ...  0.33 -8.21  107.9  116.3  -8.4  100.8  0.285  0.447  0.564   \n28  27.0  ...  0.37 -7.45  105.7  113.6  -7.9   98.4  0.248  0.386  0.532   \n29  26.2  ...  0.25 -7.49  104.3  112.1  -7.8   99.2  0.226  0.413  0.537   \n30  28.1  ...  0.00  0.00  111.6  111.6   NaN   98.1  0.247  0.399  0.564   \n\n      Year  \n0   1980.0  \n1   1980.0  \n2   1980.0  \n3   1980.0  \n4   1980.0  \n..     ...  \n26  2022.0  \n27  2022.0  \n28  2022.0  \n29  2022.0  \n30  2022.0  \n\n[1237 rows x 38 columns]",
      "text/html": "<div>\n<style scoped>\n    .dataframe tbody tr th:only-of-type {\n        vertical-align: middle;\n    }\n\n    .dataframe tbody tr th {\n        vertical-align: top;\n    }\n\n    .dataframe thead th {\n        text-align: right;\n    }\n</style>\n<table border=\"1\" class=\"dataframe\">\n  <thead>\n    <tr style=\"text-align: right;\">\n      <th></th>\n      <th>Team</th>\n      <th>G</th>\n      <th>MP</th>\n      <th>FG</th>\n      <th>FGA</th>\n      <th>FG%</th>\n      <th>3P</th>\n      <th>3PA</th>\n      <th>3P%</th>\n      <th>2P</th>\n      <th>...</th>\n      <th>SOS</th>\n      <th>SRS</th>\n      <th>ORtg</th>\n      <th>DRtg</th>\n      <th>NRtg</th>\n      <th>Pace</th>\n      <th>FTr</th>\n      <th>3PAr</th>\n      <th>TS%</th>\n      <th>Year</th>\n    </tr>\n  </thead>\n  <tbody>\n    <tr>\n      <th>0</th>\n      <td>Boston Celtics*</td>\n      <td>82</td>\n      <td>242.4</td>\n      <td>41.9</td>\n      <td>89.2</td>\n      <td>0.470</td>\n      <td>0.9</td>\n      <td>3.2</td>\n      <td>0.286</td>\n      <td>41.0</td>\n      <td>...</td>\n      <td>-0.42</td>\n      <td>7.37</td>\n      <td>109.4</td>\n      <td>101.9</td>\n      <td>7.5</td>\n      <td>102.6</td>\n      <td>0.332</td>\n      <td>0.057</td>\n      <td>0.550</td>\n      <td>1980.0</td>\n    </tr>\n    <tr>\n      <th>1</th>\n      <td>Los Angeles Lakers*</td>\n      <td>82</td>\n      <td>242.4</td>\n      <td>45.4</td>\n      <td>96.6</td>\n      <td>0.470</td>\n      <td>1.0</td>\n      <td>3.3</td>\n      <td>0.285</td>\n      <td>44.5</td>\n      <td>...</td>\n      <td>-0.51</td>\n      <td>5.40</td>\n      <td>109.5</td>\n      <td>103.9</td>\n      <td>5.6</td>\n      <td>104.1</td>\n      <td>0.284</td>\n      <td>0.014</td>\n      <td>0.569</td>\n      <td>1980.0</td>\n    </tr>\n    <tr>\n      <th>2</th>\n      <td>Philadelphia 76ers*</td>\n      <td>82</td>\n      <td>242.1</td>\n      <td>42.0</td>\n      <td>92.2</td>\n      <td>0.455</td>\n      <td>0.9</td>\n      <td>3.4</td>\n      <td>0.271</td>\n      <td>41.1</td>\n      <td>...</td>\n      <td>-0.18</td>\n      <td>4.04</td>\n      <td>105.0</td>\n      <td>101.0</td>\n      <td>4.0</td>\n      <td>103.0</td>\n      <td>0.340</td>\n      <td>0.017</td>\n      <td>0.544</td>\n      <td>1980.0</td>\n    </tr>\n    <tr>\n      <th>3</th>\n      <td>Seattle SuperSonics*</td>\n      <td>82</td>\n      <td>241.8</td>\n      <td>41.6</td>\n      <td>90.5</td>\n      <td>0.459</td>\n      <td>0.7</td>\n      <td>2.9</td>\n      <td>0.246</td>\n      <td>40.8</td>\n      <td>...</td>\n      <td>-0.42</td>\n      <td>4.24</td>\n      <td>105.8</td>\n      <td>101.2</td>\n      <td>4.6</td>\n      <td>101.8</td>\n      <td>0.298</td>\n      <td>0.025</td>\n      <td>0.520</td>\n      <td>1980.0</td>\n    </tr>\n    <tr>\n      <th>4</th>\n      <td>Phoenix Suns*</td>\n      <td>82</td>\n      <td>240.9</td>\n      <td>43.5</td>\n      <td>91.2</td>\n      <td>0.476</td>\n      <td>1.2</td>\n      <td>3.6</td>\n      <td>0.337</td>\n      <td>42.2</td>\n      <td>...</td>\n      <td>-0.35</td>\n      <td>3.25</td>\n      <td>105.6</td>\n      <td>102.2</td>\n      <td>3.4</td>\n      <td>104.8</td>\n      <td>0.341</td>\n      <td>0.039</td>\n      <td>0.548</td>\n      <td>1980.0</td>\n    </tr>\n    <tr>\n      <th>...</th>\n      <td>...</td>\n      <td>...</td>\n      <td>...</td>\n      <td>...</td>\n      <td>...</td>\n      <td>...</td>\n      <td>...</td>\n      <td>...</td>\n      <td>...</td>\n      <td>...</td>\n      <td>...</td>\n      <td>...</td>\n      <td>...</td>\n      <td>...</td>\n      <td>...</td>\n      <td>...</td>\n      <td>...</td>\n      <td>...</td>\n      <td>...</td>\n      <td>...</td>\n      <td>...</td>\n    </tr>\n    <tr>\n      <th>26</th>\n      <td>Oklahoma City Thunder</td>\n      <td>75</td>\n      <td>241.7</td>\n      <td>38.2</td>\n      <td>89.3</td>\n      <td>0.428</td>\n      <td>12.1</td>\n      <td>37.6</td>\n      <td>0.321</td>\n      <td>26.2</td>\n      <td>...</td>\n      <td>0.30</td>\n      <td>-7.13</td>\n      <td>104.6</td>\n      <td>112.0</td>\n      <td>-7.4</td>\n      <td>98.5</td>\n      <td>0.223</td>\n      <td>0.421</td>\n      <td>0.529</td>\n      <td>2022.0</td>\n    </tr>\n    <tr>\n      <th>27</th>\n      <td>Houston Rockets</td>\n      <td>76</td>\n      <td>241.0</td>\n      <td>39.1</td>\n      <td>86.0</td>\n      <td>0.455</td>\n      <td>13.4</td>\n      <td>38.5</td>\n      <td>0.349</td>\n      <td>25.7</td>\n      <td>...</td>\n      <td>0.33</td>\n      <td>-8.21</td>\n      <td>107.9</td>\n      <td>116.3</td>\n      <td>-8.4</td>\n      <td>100.8</td>\n      <td>0.285</td>\n      <td>0.447</td>\n      <td>0.564</td>\n      <td>2022.0</td>\n    </tr>\n    <tr>\n      <th>28</th>\n      <td>Detroit Pistons</td>\n      <td>76</td>\n      <td>241.3</td>\n      <td>38.1</td>\n      <td>88.7</td>\n      <td>0.430</td>\n      <td>11.1</td>\n      <td>34.2</td>\n      <td>0.326</td>\n      <td>27.0</td>\n      <td>...</td>\n      <td>0.37</td>\n      <td>-7.45</td>\n      <td>105.7</td>\n      <td>113.6</td>\n      <td>-7.9</td>\n      <td>98.4</td>\n      <td>0.248</td>\n      <td>0.386</td>\n      <td>0.532</td>\n      <td>2022.0</td>\n    </tr>\n    <tr>\n      <th>29</th>\n      <td>Orlando Magic</td>\n      <td>76</td>\n      <td>241.3</td>\n      <td>38.2</td>\n      <td>88.2</td>\n      <td>0.434</td>\n      <td>12.0</td>\n      <td>36.4</td>\n      <td>0.329</td>\n      <td>26.2</td>\n      <td>...</td>\n      <td>0.25</td>\n      <td>-7.49</td>\n      <td>104.3</td>\n      <td>112.1</td>\n      <td>-7.8</td>\n      <td>99.2</td>\n      <td>0.226</td>\n      <td>0.413</td>\n      <td>0.537</td>\n      <td>2022.0</td>\n    </tr>\n    <tr>\n      <th>30</th>\n      <td>League Average 2022</td>\n      <td>76</td>\n      <td>241.4</td>\n      <td>40.5</td>\n      <td>88.1</td>\n      <td>0.460</td>\n      <td>12.4</td>\n      <td>35.2</td>\n      <td>0.352</td>\n      <td>28.1</td>\n      <td>...</td>\n      <td>0.00</td>\n      <td>0.00</td>\n      <td>111.6</td>\n      <td>111.6</td>\n      <td>NaN</td>\n      <td>98.1</td>\n      <td>0.247</td>\n      <td>0.399</td>\n      <td>0.564</td>\n      <td>2022.0</td>\n    </tr>\n  </tbody>\n</table>\n<p>1237 rows × 38 columns</p>\n</div>"
     },
     "execution_count": 5,
     "metadata": {},
     "output_type": "execute_result"
    }
   ],
   "source": [
    "df"
   ],
   "metadata": {
    "collapsed": false,
    "pycharm": {
     "name": "#%%\n"
    }
   }
  },
  {
   "cell_type": "code",
   "execution_count": 34,
   "outputs": [
    {
     "data": {
      "text/plain": "                     Team  Year   SRS   ORtg   DRtg  NRtg    TS%\n0          Boston Celtics  1980  7.37  109.4  101.9   7.5  0.550\n1      Los Angeles Lakers  1980  5.40  109.5  103.9   5.6  0.569\n2      Philadelphia 76ers  1980  4.04  105.0  101.0   4.0  0.544\n3     Seattle SuperSonics  1980  4.24  105.8  101.2   4.6  0.520\n4            Phoenix Suns  1980  3.25  105.6  102.2   3.4  0.548\n..                    ...   ...   ...    ...    ...   ...    ...\n26  Oklahoma City Thunder  2022 -7.13  104.6  112.0  -7.4  0.529\n27        Houston Rockets  2022 -8.21  107.9  116.3  -8.4  0.564\n28        Detroit Pistons  2022 -7.45  105.7  113.6  -7.9  0.532\n29          Orlando Magic  2022 -7.49  104.3  112.1  -7.8  0.537\n30    League Average 2022  2022  0.00  111.6  111.6   NaN  0.564\n\n[1237 rows x 7 columns]",
      "text/html": "<div>\n<style scoped>\n    .dataframe tbody tr th:only-of-type {\n        vertical-align: middle;\n    }\n\n    .dataframe tbody tr th {\n        vertical-align: top;\n    }\n\n    .dataframe thead th {\n        text-align: right;\n    }\n</style>\n<table border=\"1\" class=\"dataframe\">\n  <thead>\n    <tr style=\"text-align: right;\">\n      <th></th>\n      <th>Team</th>\n      <th>Year</th>\n      <th>SRS</th>\n      <th>ORtg</th>\n      <th>DRtg</th>\n      <th>NRtg</th>\n      <th>TS%</th>\n    </tr>\n  </thead>\n  <tbody>\n    <tr>\n      <th>0</th>\n      <td>Boston Celtics</td>\n      <td>1980</td>\n      <td>7.37</td>\n      <td>109.4</td>\n      <td>101.9</td>\n      <td>7.5</td>\n      <td>0.550</td>\n    </tr>\n    <tr>\n      <th>1</th>\n      <td>Los Angeles Lakers</td>\n      <td>1980</td>\n      <td>5.40</td>\n      <td>109.5</td>\n      <td>103.9</td>\n      <td>5.6</td>\n      <td>0.569</td>\n    </tr>\n    <tr>\n      <th>2</th>\n      <td>Philadelphia 76ers</td>\n      <td>1980</td>\n      <td>4.04</td>\n      <td>105.0</td>\n      <td>101.0</td>\n      <td>4.0</td>\n      <td>0.544</td>\n    </tr>\n    <tr>\n      <th>3</th>\n      <td>Seattle SuperSonics</td>\n      <td>1980</td>\n      <td>4.24</td>\n      <td>105.8</td>\n      <td>101.2</td>\n      <td>4.6</td>\n      <td>0.520</td>\n    </tr>\n    <tr>\n      <th>4</th>\n      <td>Phoenix Suns</td>\n      <td>1980</td>\n      <td>3.25</td>\n      <td>105.6</td>\n      <td>102.2</td>\n      <td>3.4</td>\n      <td>0.548</td>\n    </tr>\n    <tr>\n      <th>...</th>\n      <td>...</td>\n      <td>...</td>\n      <td>...</td>\n      <td>...</td>\n      <td>...</td>\n      <td>...</td>\n      <td>...</td>\n    </tr>\n    <tr>\n      <th>26</th>\n      <td>Oklahoma City Thunder</td>\n      <td>2022</td>\n      <td>-7.13</td>\n      <td>104.6</td>\n      <td>112.0</td>\n      <td>-7.4</td>\n      <td>0.529</td>\n    </tr>\n    <tr>\n      <th>27</th>\n      <td>Houston Rockets</td>\n      <td>2022</td>\n      <td>-8.21</td>\n      <td>107.9</td>\n      <td>116.3</td>\n      <td>-8.4</td>\n      <td>0.564</td>\n    </tr>\n    <tr>\n      <th>28</th>\n      <td>Detroit Pistons</td>\n      <td>2022</td>\n      <td>-7.45</td>\n      <td>105.7</td>\n      <td>113.6</td>\n      <td>-7.9</td>\n      <td>0.532</td>\n    </tr>\n    <tr>\n      <th>29</th>\n      <td>Orlando Magic</td>\n      <td>2022</td>\n      <td>-7.49</td>\n      <td>104.3</td>\n      <td>112.1</td>\n      <td>-7.8</td>\n      <td>0.537</td>\n    </tr>\n    <tr>\n      <th>30</th>\n      <td>League Average 2022</td>\n      <td>2022</td>\n      <td>0.00</td>\n      <td>111.6</td>\n      <td>111.6</td>\n      <td>NaN</td>\n      <td>0.564</td>\n    </tr>\n  </tbody>\n</table>\n<p>1237 rows × 7 columns</p>\n</div>"
     },
     "execution_count": 34,
     "metadata": {},
     "output_type": "execute_result"
    }
   ],
   "source": [
    "a = df.loc[:,['Team','Year','SRS','ORtg','DRtg','NRtg','TS%']]\n",
    "a.Year = a.Year.astype(int)\n",
    "a.Team = a.Team.str.strip('*')\n",
    "a"
   ],
   "metadata": {
    "collapsed": false,
    "pycharm": {
     "name": "#%%\n"
    }
   }
  },
  {
   "cell_type": "code",
   "execution_count": 72,
   "outputs": [
    {
     "data": {
      "text/plain": "    Wins  Losses                 Team   SRS   ORtg   DRtg  NRtg    TS%\n0      1       3      Milwaukee Bucks  6.69  110.5  103.6   6.9  0.545\n1      0       3       Boston Celtics  9.06  111.8  102.6   9.2  0.564\n2      0       3       Boston Celtics  6.57  113.5  106.8   6.7  0.577\n3      3       2  Cleveland Cavaliers  1.28  106.8  106.0   0.8  0.547\n4      1       4      Detroit Pistons  5.46  110.5  105.3   5.2  0.548\n5      3       2  Cleveland Cavaliers  7.95  110.6  102.9   7.7  0.559\n6      4       2      New York Knicks  3.62  111.1  107.5   3.6  0.553\n7      2       4      Detroit Pistons  6.24  110.8  104.7   6.1  0.551\n8      3       1      Milwaukee Bucks -1.06  107.3  108.1  -0.8  0.533\n9      4       1   Philadelphia 76ers  4.23  113.5  108.4   5.1  0.556\n10     3       4      Detroit Pistons  5.41  109.9  103.5   6.4  0.537",
      "text/html": "<div>\n<style scoped>\n    .dataframe tbody tr th:only-of-type {\n        vertical-align: middle;\n    }\n\n    .dataframe tbody tr th {\n        vertical-align: top;\n    }\n\n    .dataframe thead th {\n        text-align: right;\n    }\n</style>\n<table border=\"1\" class=\"dataframe\">\n  <thead>\n    <tr style=\"text-align: right;\">\n      <th></th>\n      <th>Wins</th>\n      <th>Losses</th>\n      <th>Team</th>\n      <th>SRS</th>\n      <th>ORtg</th>\n      <th>DRtg</th>\n      <th>NRtg</th>\n      <th>TS%</th>\n    </tr>\n  </thead>\n  <tbody>\n    <tr>\n      <th>0</th>\n      <td>1</td>\n      <td>3</td>\n      <td>Milwaukee Bucks</td>\n      <td>6.69</td>\n      <td>110.5</td>\n      <td>103.6</td>\n      <td>6.9</td>\n      <td>0.545</td>\n    </tr>\n    <tr>\n      <th>1</th>\n      <td>0</td>\n      <td>3</td>\n      <td>Boston Celtics</td>\n      <td>9.06</td>\n      <td>111.8</td>\n      <td>102.6</td>\n      <td>9.2</td>\n      <td>0.564</td>\n    </tr>\n    <tr>\n      <th>2</th>\n      <td>0</td>\n      <td>3</td>\n      <td>Boston Celtics</td>\n      <td>6.57</td>\n      <td>113.5</td>\n      <td>106.8</td>\n      <td>6.7</td>\n      <td>0.577</td>\n    </tr>\n    <tr>\n      <th>3</th>\n      <td>3</td>\n      <td>2</td>\n      <td>Cleveland Cavaliers</td>\n      <td>1.28</td>\n      <td>106.8</td>\n      <td>106.0</td>\n      <td>0.8</td>\n      <td>0.547</td>\n    </tr>\n    <tr>\n      <th>4</th>\n      <td>1</td>\n      <td>4</td>\n      <td>Detroit Pistons</td>\n      <td>5.46</td>\n      <td>110.5</td>\n      <td>105.3</td>\n      <td>5.2</td>\n      <td>0.548</td>\n    </tr>\n    <tr>\n      <th>5</th>\n      <td>3</td>\n      <td>2</td>\n      <td>Cleveland Cavaliers</td>\n      <td>7.95</td>\n      <td>110.6</td>\n      <td>102.9</td>\n      <td>7.7</td>\n      <td>0.559</td>\n    </tr>\n    <tr>\n      <th>6</th>\n      <td>4</td>\n      <td>2</td>\n      <td>New York Knicks</td>\n      <td>3.62</td>\n      <td>111.1</td>\n      <td>107.5</td>\n      <td>3.6</td>\n      <td>0.553</td>\n    </tr>\n    <tr>\n      <th>7</th>\n      <td>2</td>\n      <td>4</td>\n      <td>Detroit Pistons</td>\n      <td>6.24</td>\n      <td>110.8</td>\n      <td>104.7</td>\n      <td>6.1</td>\n      <td>0.551</td>\n    </tr>\n    <tr>\n      <th>8</th>\n      <td>3</td>\n      <td>1</td>\n      <td>Milwaukee Bucks</td>\n      <td>-1.06</td>\n      <td>107.3</td>\n      <td>108.1</td>\n      <td>-0.8</td>\n      <td>0.533</td>\n    </tr>\n    <tr>\n      <th>9</th>\n      <td>4</td>\n      <td>1</td>\n      <td>Philadelphia 76ers</td>\n      <td>4.23</td>\n      <td>113.5</td>\n      <td>108.4</td>\n      <td>5.1</td>\n      <td>0.556</td>\n    </tr>\n    <tr>\n      <th>10</th>\n      <td>3</td>\n      <td>4</td>\n      <td>Detroit Pistons</td>\n      <td>5.41</td>\n      <td>109.9</td>\n      <td>103.5</td>\n      <td>6.4</td>\n      <td>0.537</td>\n    </tr>\n  </tbody>\n</table>\n</div>"
     },
     "execution_count": 72,
     "metadata": {},
     "output_type": "execute_result"
    }
   ],
   "source": [
    "jordan = pd.read_excel('Jordan Playoff opon.xlsx')\n",
    "\n",
    "j = pd.merge(jordan,a,how='inner',left_on=['Oponent','Year'],right_on=['Team','Year']).drop(columns=['Year','Oponent'])\n",
    "j"
   ],
   "metadata": {
    "collapsed": false,
    "pycharm": {
     "name": "#%%\n"
    }
   }
  },
  {
   "cell_type": "markdown",
   "source": [],
   "metadata": {
    "collapsed": false
   }
  },
  {
   "cell_type": "code",
   "execution_count": 53,
   "outputs": [
    {
     "data": {
      "text/plain": "4.925283018867925"
     },
     "execution_count": 53,
     "metadata": {},
     "output_type": "execute_result"
    }
   ],
   "source": [
    "(sum(j.SRS * j.Wins) + sum(j.SRS * j.Losses))/(j.Wins.sum() +j.Losses.sum())"
   ],
   "metadata": {
    "collapsed": false,
    "pycharm": {
     "name": "#%%\n"
    }
   }
  },
  {
   "cell_type": "code",
   "execution_count": 55,
   "outputs": [
    {
     "name": "stdout",
     "output_type": "stream",
     "text": [
      "SRS 4.925283018867925\n",
      "ORtg 110.4679245283019\n",
      "DRtg 105.39056603773587\n",
      "NRtg 5.077358490566038\n",
      "TS% 0.5503396226415094\n"
     ]
    }
   ],
   "source": [
    "for i in ['SRS','ORtg','DRtg','NRtg','TS%']:\n",
    "\n",
    "    print(i,(sum(j[i] * j.Wins) + sum(j[i] * j.Losses))/(j.Wins.sum() +j.Losses.sum()))"
   ],
   "metadata": {
    "collapsed": false,
    "pycharm": {
     "name": "#%%\n"
    }
   }
  },
  {
   "cell_type": "code",
   "execution_count": 68,
   "outputs": [
    {
     "data": {
      "text/plain": "    Year  Wins  Losses                Team   SRS   ORtg   DRtg  NRtg    TS%\n0   2006     4       2  Washington Wizards  1.57  109.3  107.3   2.0  0.538\n1   2006     3       4     Detroit Pistons  6.24  110.8  103.1   7.7  0.535\n2   2007     4       0  Washington Wizards -0.80  110.1  110.6  -0.5  0.542\n3   2007     4       2     New Jersey Nets -1.00  105.7  106.6  -0.9  0.546\n4   2007     4       2     Detroit Pistons  3.69  108.9  104.2   4.7  0.535\n5   2007     0       4   San Antonio Spurs  8.35  109.2   99.9   9.3  0.561\n6   2008     4       2  Washington Wizards -0.61  109.2  109.6  -0.4  0.535\n7   2008     3       4      Boston Celtics  9.30  110.2   98.9  11.3  0.569\n8   2009     4       0     Detroit Pistons -0.36  107.4  108.0  -0.6  0.524\n9   2009     4       0       Atlanta Hawks  1.70  109.3  107.6   1.7  0.546\n10  2009     2       4       Orlando Magic  6.48  109.2  101.9   7.3  0.559\n11  2010     4       1       Chicago Bulls -1.64  103.5  105.3  -1.8  0.520\n12  2010     2       4      Boston Celtics  3.37  107.7  103.8   3.9  0.564",
      "text/html": "<div>\n<style scoped>\n    .dataframe tbody tr th:only-of-type {\n        vertical-align: middle;\n    }\n\n    .dataframe tbody tr th {\n        vertical-align: top;\n    }\n\n    .dataframe thead th {\n        text-align: right;\n    }\n</style>\n<table border=\"1\" class=\"dataframe\">\n  <thead>\n    <tr style=\"text-align: right;\">\n      <th></th>\n      <th>Year</th>\n      <th>Wins</th>\n      <th>Losses</th>\n      <th>Team</th>\n      <th>SRS</th>\n      <th>ORtg</th>\n      <th>DRtg</th>\n      <th>NRtg</th>\n      <th>TS%</th>\n    </tr>\n  </thead>\n  <tbody>\n    <tr>\n      <th>0</th>\n      <td>2006</td>\n      <td>4</td>\n      <td>2</td>\n      <td>Washington Wizards</td>\n      <td>1.57</td>\n      <td>109.3</td>\n      <td>107.3</td>\n      <td>2.0</td>\n      <td>0.538</td>\n    </tr>\n    <tr>\n      <th>1</th>\n      <td>2006</td>\n      <td>3</td>\n      <td>4</td>\n      <td>Detroit Pistons</td>\n      <td>6.24</td>\n      <td>110.8</td>\n      <td>103.1</td>\n      <td>7.7</td>\n      <td>0.535</td>\n    </tr>\n    <tr>\n      <th>2</th>\n      <td>2007</td>\n      <td>4</td>\n      <td>0</td>\n      <td>Washington Wizards</td>\n      <td>-0.80</td>\n      <td>110.1</td>\n      <td>110.6</td>\n      <td>-0.5</td>\n      <td>0.542</td>\n    </tr>\n    <tr>\n      <th>3</th>\n      <td>2007</td>\n      <td>4</td>\n      <td>2</td>\n      <td>New Jersey Nets</td>\n      <td>-1.00</td>\n      <td>105.7</td>\n      <td>106.6</td>\n      <td>-0.9</td>\n      <td>0.546</td>\n    </tr>\n    <tr>\n      <th>4</th>\n      <td>2007</td>\n      <td>4</td>\n      <td>2</td>\n      <td>Detroit Pistons</td>\n      <td>3.69</td>\n      <td>108.9</td>\n      <td>104.2</td>\n      <td>4.7</td>\n      <td>0.535</td>\n    </tr>\n    <tr>\n      <th>5</th>\n      <td>2007</td>\n      <td>0</td>\n      <td>4</td>\n      <td>San Antonio Spurs</td>\n      <td>8.35</td>\n      <td>109.2</td>\n      <td>99.9</td>\n      <td>9.3</td>\n      <td>0.561</td>\n    </tr>\n    <tr>\n      <th>6</th>\n      <td>2008</td>\n      <td>4</td>\n      <td>2</td>\n      <td>Washington Wizards</td>\n      <td>-0.61</td>\n      <td>109.2</td>\n      <td>109.6</td>\n      <td>-0.4</td>\n      <td>0.535</td>\n    </tr>\n    <tr>\n      <th>7</th>\n      <td>2008</td>\n      <td>3</td>\n      <td>4</td>\n      <td>Boston Celtics</td>\n      <td>9.30</td>\n      <td>110.2</td>\n      <td>98.9</td>\n      <td>11.3</td>\n      <td>0.569</td>\n    </tr>\n    <tr>\n      <th>8</th>\n      <td>2009</td>\n      <td>4</td>\n      <td>0</td>\n      <td>Detroit Pistons</td>\n      <td>-0.36</td>\n      <td>107.4</td>\n      <td>108.0</td>\n      <td>-0.6</td>\n      <td>0.524</td>\n    </tr>\n    <tr>\n      <th>9</th>\n      <td>2009</td>\n      <td>4</td>\n      <td>0</td>\n      <td>Atlanta Hawks</td>\n      <td>1.70</td>\n      <td>109.3</td>\n      <td>107.6</td>\n      <td>1.7</td>\n      <td>0.546</td>\n    </tr>\n    <tr>\n      <th>10</th>\n      <td>2009</td>\n      <td>2</td>\n      <td>4</td>\n      <td>Orlando Magic</td>\n      <td>6.48</td>\n      <td>109.2</td>\n      <td>101.9</td>\n      <td>7.3</td>\n      <td>0.559</td>\n    </tr>\n    <tr>\n      <th>11</th>\n      <td>2010</td>\n      <td>4</td>\n      <td>1</td>\n      <td>Chicago Bulls</td>\n      <td>-1.64</td>\n      <td>103.5</td>\n      <td>105.3</td>\n      <td>-1.8</td>\n      <td>0.520</td>\n    </tr>\n    <tr>\n      <th>12</th>\n      <td>2010</td>\n      <td>2</td>\n      <td>4</td>\n      <td>Boston Celtics</td>\n      <td>3.37</td>\n      <td>107.7</td>\n      <td>103.8</td>\n      <td>3.9</td>\n      <td>0.564</td>\n    </tr>\n  </tbody>\n</table>\n</div>"
     },
     "execution_count": 68,
     "metadata": {},
     "output_type": "execute_result"
    }
   ],
   "source": [
    "james = pd.read_excel('James Playoff opon.xlsx')\n",
    "\n",
    "ja = pd.merge(james,a,how='inner',left_on=['Opponent','Year'],right_on=['Team','Year']).drop(columns=['Opponent'])\n",
    "ja"
   ],
   "metadata": {
    "collapsed": false,
    "pycharm": {
     "name": "#%%\n"
    }
   }
  },
  {
   "cell_type": "code",
   "execution_count": 59,
   "outputs": [
    {
     "name": "stdout",
     "output_type": "stream",
     "text": [
      "SRS 3.0583098591549294\n",
      "ORtg 108.57042253521126\n",
      "DRtg 104.86338028169016\n",
      "NRtg 3.707042253521126\n",
      "TS% 0.5448169014084507\n"
     ]
    }
   ],
   "source": [
    "for i in ['SRS','ORtg','DRtg','NRtg','TS%']:\n",
    "    print(i)\n",
    "    stat = (sum(ja[i] * ja.Wins) + sum(ja[i] * ja.Losses))/(ja.Wins.sum() +ja.Losses.sum())\n"
   ],
   "metadata": {
    "collapsed": false,
    "pycharm": {
     "name": "#%%\n"
    }
   }
  },
  {
   "cell_type": "code",
   "execution_count": 71,
   "outputs": [
    {
     "data": {
      "text/plain": "Empty DataFrame\nColumns: [SRS, ORtg, DRtg, NRtg, TS%]\nIndex: []",
      "text/html": "<div>\n<style scoped>\n    .dataframe tbody tr th:only-of-type {\n        vertical-align: middle;\n    }\n\n    .dataframe tbody tr th {\n        vertical-align: top;\n    }\n\n    .dataframe thead th {\n        text-align: right;\n    }\n</style>\n<table border=\"1\" class=\"dataframe\">\n  <thead>\n    <tr style=\"text-align: right;\">\n      <th></th>\n      <th>SRS</th>\n      <th>ORtg</th>\n      <th>DRtg</th>\n      <th>NRtg</th>\n      <th>TS%</th>\n    </tr>\n  </thead>\n  <tbody>\n  </tbody>\n</table>\n</div>"
     },
     "execution_count": 71,
     "metadata": {},
     "output_type": "execute_result"
    }
   ],
   "source": [],
   "metadata": {
    "collapsed": false,
    "pycharm": {
     "name": "#%%\n"
    }
   }
  },
  {
   "cell_type": "code",
   "execution_count": 64,
   "outputs": [
    {
     "data": {
      "text/plain": "                   Team  Year  SRS   ORtg   DRtg  NRtg    TS%\n23  League Average 1985  1985  0.0  107.9  107.9   NaN  0.543",
      "text/html": "<div>\n<style scoped>\n    .dataframe tbody tr th:only-of-type {\n        vertical-align: middle;\n    }\n\n    .dataframe tbody tr th {\n        vertical-align: top;\n    }\n\n    .dataframe thead th {\n        text-align: right;\n    }\n</style>\n<table border=\"1\" class=\"dataframe\">\n  <thead>\n    <tr style=\"text-align: right;\">\n      <th></th>\n      <th>Team</th>\n      <th>Year</th>\n      <th>SRS</th>\n      <th>ORtg</th>\n      <th>DRtg</th>\n      <th>NRtg</th>\n      <th>TS%</th>\n    </tr>\n  </thead>\n  <tbody>\n    <tr>\n      <th>23</th>\n      <td>League Average 1985</td>\n      <td>1985</td>\n      <td>0.0</td>\n      <td>107.9</td>\n      <td>107.9</td>\n      <td>NaN</td>\n      <td>0.543</td>\n    </tr>\n  </tbody>\n</table>\n</div>"
     },
     "execution_count": 64,
     "metadata": {},
     "output_type": "execute_result"
    }
   ],
   "source": [],
   "metadata": {
    "collapsed": false,
    "pycharm": {
     "name": "#%%\n"
    }
   }
  },
  {
   "cell_type": "code",
   "execution_count": null,
   "outputs": [],
   "source": [],
   "metadata": {
    "collapsed": false,
    "pycharm": {
     "name": "#%%\n"
    }
   }
  }
 ],
 "metadata": {
  "kernelspec": {
   "display_name": "Python 3",
   "language": "python",
   "name": "python3"
  },
  "language_info": {
   "codemirror_mode": {
    "name": "ipython",
    "version": 2
   },
   "file_extension": ".py",
   "mimetype": "text/x-python",
   "name": "python",
   "nbconvert_exporter": "python",
   "pygments_lexer": "ipython2",
   "version": "2.7.6"
  }
 },
 "nbformat": 4,
 "nbformat_minor": 0
}