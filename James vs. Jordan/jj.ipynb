{
 "cells": [
  {
   "cell_type": "code",
   "execution_count": 1,
   "metadata": {
    "collapsed": true
   },
   "outputs": [],
   "source": [
    "import pandas as pd"
   ]
  },
  {
   "cell_type": "code",
   "execution_count": 4,
   "outputs": [],
   "source": [
    "james = pd.read_csv('Stats/James/Regular Season/totals.csv')"
   ],
   "metadata": {
    "collapsed": false,
    "pycharm": {
     "name": "#%%\n"
    }
   }
  },
  {
   "cell_type": "code",
   "execution_count": 9,
   "outputs": [
    {
     "data": {
      "text/plain": "0.7111077481840193"
     },
     "execution_count": 9,
     "metadata": {},
     "output_type": "execute_result"
    }
   ],
   "source": [
    "james.AST.sum()/james.MP.sum()"
   ],
   "metadata": {
    "collapsed": false,
    "pycharm": {
     "name": "#%%\n"
    }
   }
  },
  {
   "cell_type": "code",
   "execution_count": 12,
   "outputs": [],
   "source": [
    "jordan = pd.read_csv('Stats/Jordan/Regular Season/Totals.csv')"
   ],
   "metadata": {
    "collapsed": false,
    "pycharm": {
     "name": "#%%\n"
    }
   }
  },
  {
   "cell_type": "code",
   "execution_count": 13,
   "outputs": [
    {
     "data": {
      "text/plain": "     Season  Age   Tm   Lg Pos   G  GS    MP    FG   FGA  ...  DRB  TRB  AST  \\\n0   1984-85   21  CHI  NBA  SG  82  82  3144   837  1625  ...  367  534  481   \n1   1985-86   22  CHI  NBA  SG  18   7   451   150   328  ...   41   64   53   \n2   1986-87   23  CHI  NBA  SG  82  82  3281  1098  2279  ...  264  430  377   \n3   1987-88   24  CHI  NBA  SG  82  82  3311  1069  1998  ...  310  449  485   \n4   1988-89   25  CHI  NBA  SG  81  81  3255   966  1795  ...  503  652  650   \n5   1989-90   26  CHI  NBA  SG  82  82  3197  1034  1964  ...  422  565  519   \n6   1990-91   27  CHI  NBA  SG  82  82  3034   990  1837  ...  374  492  453   \n7   1991-92   28  CHI  NBA  SG  80  80  3102   943  1818  ...  420  511  489   \n8   1992-93   29  CHI  NBA  SG  78  78  3067   992  2003  ...  387  522  428   \n9   1994-95   31  CHI  NBA  SG  17  17   668   166   404  ...   92  117   90   \n10  1995-96   32  CHI  NBA  SG  82  82  3090   916  1850  ...  395  543  352   \n11  1996-97   33  CHI  NBA  SG  82  82  3106   920  1892  ...  369  482  352   \n12  1997-98   34  CHI  NBA  SG  82  82  3181   881  1893  ...  345  475  283   \n13  2001-02   38  WAS  NBA  SF  60  53  2093   551  1324  ...  289  339  310   \n14  2002-03   39  WAS  NBA  SF  82  67  3031   679  1527  ...  426  497  311   \n\n    STL  BLK  TOV   PF   PTS  Unnamed: 30  Trp Dbl  \n0   196   69  291  285  2313          NaN        3  \n1    37   21   45   46   408          NaN        0  \n2   236  125  272  237  3041          NaN        0  \n3   259  131  252  270  2868          NaN        2  \n4   234   65  290  247  2633          NaN       15  \n5   227   54  247  241  2753          NaN        1  \n6   223   83  202  229  2580          NaN        0  \n7   182   75  200  201  2404          NaN        2  \n8   221   61  207  188  2541          NaN        4  \n9    30   13   35   47   457          NaN        0  \n10  180   42  197  195  2491          NaN        0  \n11  140   44  166  156  2431          NaN        1  \n12  141   45  185  151  2357          NaN        0  \n13   85   26  162  119  1375          NaN        0  \n14  123   39  173  171  1640          NaN        0  \n\n[15 rows x 32 columns]",
      "text/html": "<div>\n<style scoped>\n    .dataframe tbody tr th:only-of-type {\n        vertical-align: middle;\n    }\n\n    .dataframe tbody tr th {\n        vertical-align: top;\n    }\n\n    .dataframe thead th {\n        text-align: right;\n    }\n</style>\n<table border=\"1\" class=\"dataframe\">\n  <thead>\n    <tr style=\"text-align: right;\">\n      <th></th>\n      <th>Season</th>\n      <th>Age</th>\n      <th>Tm</th>\n      <th>Lg</th>\n      <th>Pos</th>\n      <th>G</th>\n      <th>GS</th>\n      <th>MP</th>\n      <th>FG</th>\n      <th>FGA</th>\n      <th>...</th>\n      <th>DRB</th>\n      <th>TRB</th>\n      <th>AST</th>\n      <th>STL</th>\n      <th>BLK</th>\n      <th>TOV</th>\n      <th>PF</th>\n      <th>PTS</th>\n      <th>Unnamed: 30</th>\n      <th>Trp Dbl</th>\n    </tr>\n  </thead>\n  <tbody>\n    <tr>\n      <th>0</th>\n      <td>1984-85</td>\n      <td>21</td>\n      <td>CHI</td>\n      <td>NBA</td>\n      <td>SG</td>\n      <td>82</td>\n      <td>82</td>\n      <td>3144</td>\n      <td>837</td>\n      <td>1625</td>\n      <td>...</td>\n      <td>367</td>\n      <td>534</td>\n      <td>481</td>\n      <td>196</td>\n      <td>69</td>\n      <td>291</td>\n      <td>285</td>\n      <td>2313</td>\n      <td>NaN</td>\n      <td>3</td>\n    </tr>\n    <tr>\n      <th>1</th>\n      <td>1985-86</td>\n      <td>22</td>\n      <td>CHI</td>\n      <td>NBA</td>\n      <td>SG</td>\n      <td>18</td>\n      <td>7</td>\n      <td>451</td>\n      <td>150</td>\n      <td>328</td>\n      <td>...</td>\n      <td>41</td>\n      <td>64</td>\n      <td>53</td>\n      <td>37</td>\n      <td>21</td>\n      <td>45</td>\n      <td>46</td>\n      <td>408</td>\n      <td>NaN</td>\n      <td>0</td>\n    </tr>\n    <tr>\n      <th>2</th>\n      <td>1986-87</td>\n      <td>23</td>\n      <td>CHI</td>\n      <td>NBA</td>\n      <td>SG</td>\n      <td>82</td>\n      <td>82</td>\n      <td>3281</td>\n      <td>1098</td>\n      <td>2279</td>\n      <td>...</td>\n      <td>264</td>\n      <td>430</td>\n      <td>377</td>\n      <td>236</td>\n      <td>125</td>\n      <td>272</td>\n      <td>237</td>\n      <td>3041</td>\n      <td>NaN</td>\n      <td>0</td>\n    </tr>\n    <tr>\n      <th>3</th>\n      <td>1987-88</td>\n      <td>24</td>\n      <td>CHI</td>\n      <td>NBA</td>\n      <td>SG</td>\n      <td>82</td>\n      <td>82</td>\n      <td>3311</td>\n      <td>1069</td>\n      <td>1998</td>\n      <td>...</td>\n      <td>310</td>\n      <td>449</td>\n      <td>485</td>\n      <td>259</td>\n      <td>131</td>\n      <td>252</td>\n      <td>270</td>\n      <td>2868</td>\n      <td>NaN</td>\n      <td>2</td>\n    </tr>\n    <tr>\n      <th>4</th>\n      <td>1988-89</td>\n      <td>25</td>\n      <td>CHI</td>\n      <td>NBA</td>\n      <td>SG</td>\n      <td>81</td>\n      <td>81</td>\n      <td>3255</td>\n      <td>966</td>\n      <td>1795</td>\n      <td>...</td>\n      <td>503</td>\n      <td>652</td>\n      <td>650</td>\n      <td>234</td>\n      <td>65</td>\n      <td>290</td>\n      <td>247</td>\n      <td>2633</td>\n      <td>NaN</td>\n      <td>15</td>\n    </tr>\n    <tr>\n      <th>5</th>\n      <td>1989-90</td>\n      <td>26</td>\n      <td>CHI</td>\n      <td>NBA</td>\n      <td>SG</td>\n      <td>82</td>\n      <td>82</td>\n      <td>3197</td>\n      <td>1034</td>\n      <td>1964</td>\n      <td>...</td>\n      <td>422</td>\n      <td>565</td>\n      <td>519</td>\n      <td>227</td>\n      <td>54</td>\n      <td>247</td>\n      <td>241</td>\n      <td>2753</td>\n      <td>NaN</td>\n      <td>1</td>\n    </tr>\n    <tr>\n      <th>6</th>\n      <td>1990-91</td>\n      <td>27</td>\n      <td>CHI</td>\n      <td>NBA</td>\n      <td>SG</td>\n      <td>82</td>\n      <td>82</td>\n      <td>3034</td>\n      <td>990</td>\n      <td>1837</td>\n      <td>...</td>\n      <td>374</td>\n      <td>492</td>\n      <td>453</td>\n      <td>223</td>\n      <td>83</td>\n      <td>202</td>\n      <td>229</td>\n      <td>2580</td>\n      <td>NaN</td>\n      <td>0</td>\n    </tr>\n    <tr>\n      <th>7</th>\n      <td>1991-92</td>\n      <td>28</td>\n      <td>CHI</td>\n      <td>NBA</td>\n      <td>SG</td>\n      <td>80</td>\n      <td>80</td>\n      <td>3102</td>\n      <td>943</td>\n      <td>1818</td>\n      <td>...</td>\n      <td>420</td>\n      <td>511</td>\n      <td>489</td>\n      <td>182</td>\n      <td>75</td>\n      <td>200</td>\n      <td>201</td>\n      <td>2404</td>\n      <td>NaN</td>\n      <td>2</td>\n    </tr>\n    <tr>\n      <th>8</th>\n      <td>1992-93</td>\n      <td>29</td>\n      <td>CHI</td>\n      <td>NBA</td>\n      <td>SG</td>\n      <td>78</td>\n      <td>78</td>\n      <td>3067</td>\n      <td>992</td>\n      <td>2003</td>\n      <td>...</td>\n      <td>387</td>\n      <td>522</td>\n      <td>428</td>\n      <td>221</td>\n      <td>61</td>\n      <td>207</td>\n      <td>188</td>\n      <td>2541</td>\n      <td>NaN</td>\n      <td>4</td>\n    </tr>\n    <tr>\n      <th>9</th>\n      <td>1994-95</td>\n      <td>31</td>\n      <td>CHI</td>\n      <td>NBA</td>\n      <td>SG</td>\n      <td>17</td>\n      <td>17</td>\n      <td>668</td>\n      <td>166</td>\n      <td>404</td>\n      <td>...</td>\n      <td>92</td>\n      <td>117</td>\n      <td>90</td>\n      <td>30</td>\n      <td>13</td>\n      <td>35</td>\n      <td>47</td>\n      <td>457</td>\n      <td>NaN</td>\n      <td>0</td>\n    </tr>\n    <tr>\n      <th>10</th>\n      <td>1995-96</td>\n      <td>32</td>\n      <td>CHI</td>\n      <td>NBA</td>\n      <td>SG</td>\n      <td>82</td>\n      <td>82</td>\n      <td>3090</td>\n      <td>916</td>\n      <td>1850</td>\n      <td>...</td>\n      <td>395</td>\n      <td>543</td>\n      <td>352</td>\n      <td>180</td>\n      <td>42</td>\n      <td>197</td>\n      <td>195</td>\n      <td>2491</td>\n      <td>NaN</td>\n      <td>0</td>\n    </tr>\n    <tr>\n      <th>11</th>\n      <td>1996-97</td>\n      <td>33</td>\n      <td>CHI</td>\n      <td>NBA</td>\n      <td>SG</td>\n      <td>82</td>\n      <td>82</td>\n      <td>3106</td>\n      <td>920</td>\n      <td>1892</td>\n      <td>...</td>\n      <td>369</td>\n      <td>482</td>\n      <td>352</td>\n      <td>140</td>\n      <td>44</td>\n      <td>166</td>\n      <td>156</td>\n      <td>2431</td>\n      <td>NaN</td>\n      <td>1</td>\n    </tr>\n    <tr>\n      <th>12</th>\n      <td>1997-98</td>\n      <td>34</td>\n      <td>CHI</td>\n      <td>NBA</td>\n      <td>SG</td>\n      <td>82</td>\n      <td>82</td>\n      <td>3181</td>\n      <td>881</td>\n      <td>1893</td>\n      <td>...</td>\n      <td>345</td>\n      <td>475</td>\n      <td>283</td>\n      <td>141</td>\n      <td>45</td>\n      <td>185</td>\n      <td>151</td>\n      <td>2357</td>\n      <td>NaN</td>\n      <td>0</td>\n    </tr>\n    <tr>\n      <th>13</th>\n      <td>2001-02</td>\n      <td>38</td>\n      <td>WAS</td>\n      <td>NBA</td>\n      <td>SF</td>\n      <td>60</td>\n      <td>53</td>\n      <td>2093</td>\n      <td>551</td>\n      <td>1324</td>\n      <td>...</td>\n      <td>289</td>\n      <td>339</td>\n      <td>310</td>\n      <td>85</td>\n      <td>26</td>\n      <td>162</td>\n      <td>119</td>\n      <td>1375</td>\n      <td>NaN</td>\n      <td>0</td>\n    </tr>\n    <tr>\n      <th>14</th>\n      <td>2002-03</td>\n      <td>39</td>\n      <td>WAS</td>\n      <td>NBA</td>\n      <td>SF</td>\n      <td>82</td>\n      <td>67</td>\n      <td>3031</td>\n      <td>679</td>\n      <td>1527</td>\n      <td>...</td>\n      <td>426</td>\n      <td>497</td>\n      <td>311</td>\n      <td>123</td>\n      <td>39</td>\n      <td>173</td>\n      <td>171</td>\n      <td>1640</td>\n      <td>NaN</td>\n      <td>0</td>\n    </tr>\n  </tbody>\n</table>\n<p>15 rows × 32 columns</p>\n</div>"
     },
     "execution_count": 13,
     "metadata": {},
     "output_type": "execute_result"
    }
   ],
   "source": [
    "jordan"
   ],
   "metadata": {
    "collapsed": false,
    "pycharm": {
     "name": "#%%\n"
    }
   }
  },
  {
   "cell_type": "code",
   "execution_count": 15,
   "outputs": [
    {
     "data": {
      "text/plain": "0.13735339299212407"
     },
     "execution_count": 15,
     "metadata": {},
     "output_type": "execute_result"
    }
   ],
   "source": [
    "jordan.AST.sum()/jordan.MP.sum()"
   ],
   "metadata": {
    "collapsed": false,
    "pycharm": {
     "name": "#%%\n"
    }
   }
  },
  {
   "cell_type": "code",
   "execution_count": null,
   "outputs": [],
   "source": [],
   "metadata": {
    "collapsed": false,
    "pycharm": {
     "name": "#%%\n"
    }
   }
  }
 ],
 "metadata": {
  "kernelspec": {
   "display_name": "Python 3",
   "language": "python",
   "name": "python3"
  },
  "language_info": {
   "codemirror_mode": {
    "name": "ipython",
    "version": 2
   },
   "file_extension": ".py",
   "mimetype": "text/x-python",
   "name": "python",
   "nbconvert_exporter": "python",
   "pygments_lexer": "ipython2",
   "version": "2.7.6"
  }
 },
 "nbformat": 4,
 "nbformat_minor": 0
}