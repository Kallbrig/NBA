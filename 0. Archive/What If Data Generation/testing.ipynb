{
 "cells": [
  {
   "cell_type": "code",
   "execution_count": 8,
   "metadata": {
    "collapsed": true
   },
   "outputs": [],
   "source": [
    "import pandas as pd\n",
    "import random\n",
    "import numpy as np\n",
    "\n",
    "import matplotlib.pyplot as plt"
   ]
  },
  {
   "cell_type": "code",
   "execution_count": 2,
   "outputs": [],
   "source": [
    "def new_ranges(num, percentile):\n",
    "    ceil = round(num + (num * percentile))\n",
    "    flr = round(num - (num* percentile))\n",
    "\n",
    "    return flr, ceil"
   ],
   "metadata": {
    "collapsed": false,
    "pycharm": {
     "name": "#%%\n"
    }
   }
  },
  {
   "cell_type": "code",
   "execution_count": 4,
   "outputs": [
    {
     "data": {
      "text/plain": "                     Team     G     MP    FG   FGA    FG%    3P   3PA    3P%  \\\n0     Syracuse Nationals*  64.0    NaN  29.2  82.4  0.354   NaN   NaN    NaN   \n1     Minneapolis Lakers*  68.0    NaN  31.5  85.8  0.367   NaN   NaN    NaN   \n2       Rochester Royals*  68.0    NaN  28.8  77.2  0.373   NaN   NaN    NaN   \n3        New York Knicks*  68.0    NaN  27.8  78.7  0.353   NaN   NaN    NaN   \n4     Fort Wayne Pistons*  68.0    NaN  27.6  86.8  0.318   NaN   NaN    NaN   \n..                    ...   ...    ...   ...   ...    ...   ...   ...    ...   \n26  Oklahoma City Thunder  75.0  241.7  38.2  89.3  0.428  12.1  37.6  0.321   \n27        Houston Rockets  76.0  241.0  39.1  86.0  0.455  13.4  38.5  0.349   \n28        Detroit Pistons  76.0  241.3  38.1  88.7  0.430  11.1  34.2  0.326   \n29          Orlando Magic  76.0  241.3  38.2  88.2  0.434  12.0  36.4  0.329   \n30    League Average 2022  76.0  241.4  40.5  88.1  0.460  12.4  35.2  0.352   \n\n      2P  ...   SOS   SRS   ORtg   DRtg  NRtg   Pace    FTr   3PAr    TS%  \\\n0   29.2  ... -1.70  6.48    NaN    NaN   NaN    NaN  0.454    NaN  0.429   \n1   31.5  ... -0.09  8.25    NaN    NaN   NaN    NaN  0.333    NaN  0.427   \n2   28.8  ... -0.05  7.72    NaN    NaN   NaN    NaN  0.442    NaN  0.447   \n3   27.8  ...  0.41  2.53    NaN    NaN   NaN    NaN  0.449    NaN  0.428   \n4   27.6  ...  0.47  1.84    NaN    NaN   NaN    NaN  0.395    NaN  0.389   \n..   ...  ...   ...   ...    ...    ...   ...    ...    ...    ...    ...   \n26  26.2  ...  0.30 -7.13  104.6  112.0  -7.4   98.5  0.223  0.421  0.529   \n27  25.7  ...  0.33 -8.21  107.9  116.3  -8.4  100.8  0.285  0.447  0.564   \n28  27.0  ...  0.37 -7.45  105.7  113.6  -7.9   98.4  0.248  0.386  0.532   \n29  26.2  ...  0.25 -7.49  104.3  112.1  -7.8   99.2  0.226  0.413  0.537   \n30  28.1  ...  0.00  0.00  111.6  111.6   NaN   98.1  0.247  0.399  0.564   \n\n      Year  \n0   1950.0  \n1   1950.0  \n2   1950.0  \n3   1950.0  \n4   1950.0  \n..     ...  \n26  2022.0  \n27  2022.0  \n28  2022.0  \n29  2022.0  \n30  2022.0  \n\n[1646 rows x 38 columns]",
      "text/html": "<div>\n<style scoped>\n    .dataframe tbody tr th:only-of-type {\n        vertical-align: middle;\n    }\n\n    .dataframe tbody tr th {\n        vertical-align: top;\n    }\n\n    .dataframe thead th {\n        text-align: right;\n    }\n</style>\n<table border=\"1\" class=\"dataframe\">\n  <thead>\n    <tr style=\"text-align: right;\">\n      <th></th>\n      <th>Team</th>\n      <th>G</th>\n      <th>MP</th>\n      <th>FG</th>\n      <th>FGA</th>\n      <th>FG%</th>\n      <th>3P</th>\n      <th>3PA</th>\n      <th>3P%</th>\n      <th>2P</th>\n      <th>...</th>\n      <th>SOS</th>\n      <th>SRS</th>\n      <th>ORtg</th>\n      <th>DRtg</th>\n      <th>NRtg</th>\n      <th>Pace</th>\n      <th>FTr</th>\n      <th>3PAr</th>\n      <th>TS%</th>\n      <th>Year</th>\n    </tr>\n  </thead>\n  <tbody>\n    <tr>\n      <th>0</th>\n      <td>Syracuse Nationals*</td>\n      <td>64.0</td>\n      <td>NaN</td>\n      <td>29.2</td>\n      <td>82.4</td>\n      <td>0.354</td>\n      <td>NaN</td>\n      <td>NaN</td>\n      <td>NaN</td>\n      <td>29.2</td>\n      <td>...</td>\n      <td>-1.70</td>\n      <td>6.48</td>\n      <td>NaN</td>\n      <td>NaN</td>\n      <td>NaN</td>\n      <td>NaN</td>\n      <td>0.454</td>\n      <td>NaN</td>\n      <td>0.429</td>\n      <td>1950.0</td>\n    </tr>\n    <tr>\n      <th>1</th>\n      <td>Minneapolis Lakers*</td>\n      <td>68.0</td>\n      <td>NaN</td>\n      <td>31.5</td>\n      <td>85.8</td>\n      <td>0.367</td>\n      <td>NaN</td>\n      <td>NaN</td>\n      <td>NaN</td>\n      <td>31.5</td>\n      <td>...</td>\n      <td>-0.09</td>\n      <td>8.25</td>\n      <td>NaN</td>\n      <td>NaN</td>\n      <td>NaN</td>\n      <td>NaN</td>\n      <td>0.333</td>\n      <td>NaN</td>\n      <td>0.427</td>\n      <td>1950.0</td>\n    </tr>\n    <tr>\n      <th>2</th>\n      <td>Rochester Royals*</td>\n      <td>68.0</td>\n      <td>NaN</td>\n      <td>28.8</td>\n      <td>77.2</td>\n      <td>0.373</td>\n      <td>NaN</td>\n      <td>NaN</td>\n      <td>NaN</td>\n      <td>28.8</td>\n      <td>...</td>\n      <td>-0.05</td>\n      <td>7.72</td>\n      <td>NaN</td>\n      <td>NaN</td>\n      <td>NaN</td>\n      <td>NaN</td>\n      <td>0.442</td>\n      <td>NaN</td>\n      <td>0.447</td>\n      <td>1950.0</td>\n    </tr>\n    <tr>\n      <th>3</th>\n      <td>New York Knicks*</td>\n      <td>68.0</td>\n      <td>NaN</td>\n      <td>27.8</td>\n      <td>78.7</td>\n      <td>0.353</td>\n      <td>NaN</td>\n      <td>NaN</td>\n      <td>NaN</td>\n      <td>27.8</td>\n      <td>...</td>\n      <td>0.41</td>\n      <td>2.53</td>\n      <td>NaN</td>\n      <td>NaN</td>\n      <td>NaN</td>\n      <td>NaN</td>\n      <td>0.449</td>\n      <td>NaN</td>\n      <td>0.428</td>\n      <td>1950.0</td>\n    </tr>\n    <tr>\n      <th>4</th>\n      <td>Fort Wayne Pistons*</td>\n      <td>68.0</td>\n      <td>NaN</td>\n      <td>27.6</td>\n      <td>86.8</td>\n      <td>0.318</td>\n      <td>NaN</td>\n      <td>NaN</td>\n      <td>NaN</td>\n      <td>27.6</td>\n      <td>...</td>\n      <td>0.47</td>\n      <td>1.84</td>\n      <td>NaN</td>\n      <td>NaN</td>\n      <td>NaN</td>\n      <td>NaN</td>\n      <td>0.395</td>\n      <td>NaN</td>\n      <td>0.389</td>\n      <td>1950.0</td>\n    </tr>\n    <tr>\n      <th>...</th>\n      <td>...</td>\n      <td>...</td>\n      <td>...</td>\n      <td>...</td>\n      <td>...</td>\n      <td>...</td>\n      <td>...</td>\n      <td>...</td>\n      <td>...</td>\n      <td>...</td>\n      <td>...</td>\n      <td>...</td>\n      <td>...</td>\n      <td>...</td>\n      <td>...</td>\n      <td>...</td>\n      <td>...</td>\n      <td>...</td>\n      <td>...</td>\n      <td>...</td>\n      <td>...</td>\n    </tr>\n    <tr>\n      <th>26</th>\n      <td>Oklahoma City Thunder</td>\n      <td>75.0</td>\n      <td>241.7</td>\n      <td>38.2</td>\n      <td>89.3</td>\n      <td>0.428</td>\n      <td>12.1</td>\n      <td>37.6</td>\n      <td>0.321</td>\n      <td>26.2</td>\n      <td>...</td>\n      <td>0.30</td>\n      <td>-7.13</td>\n      <td>104.6</td>\n      <td>112.0</td>\n      <td>-7.4</td>\n      <td>98.5</td>\n      <td>0.223</td>\n      <td>0.421</td>\n      <td>0.529</td>\n      <td>2022.0</td>\n    </tr>\n    <tr>\n      <th>27</th>\n      <td>Houston Rockets</td>\n      <td>76.0</td>\n      <td>241.0</td>\n      <td>39.1</td>\n      <td>86.0</td>\n      <td>0.455</td>\n      <td>13.4</td>\n      <td>38.5</td>\n      <td>0.349</td>\n      <td>25.7</td>\n      <td>...</td>\n      <td>0.33</td>\n      <td>-8.21</td>\n      <td>107.9</td>\n      <td>116.3</td>\n      <td>-8.4</td>\n      <td>100.8</td>\n      <td>0.285</td>\n      <td>0.447</td>\n      <td>0.564</td>\n      <td>2022.0</td>\n    </tr>\n    <tr>\n      <th>28</th>\n      <td>Detroit Pistons</td>\n      <td>76.0</td>\n      <td>241.3</td>\n      <td>38.1</td>\n      <td>88.7</td>\n      <td>0.430</td>\n      <td>11.1</td>\n      <td>34.2</td>\n      <td>0.326</td>\n      <td>27.0</td>\n      <td>...</td>\n      <td>0.37</td>\n      <td>-7.45</td>\n      <td>105.7</td>\n      <td>113.6</td>\n      <td>-7.9</td>\n      <td>98.4</td>\n      <td>0.248</td>\n      <td>0.386</td>\n      <td>0.532</td>\n      <td>2022.0</td>\n    </tr>\n    <tr>\n      <th>29</th>\n      <td>Orlando Magic</td>\n      <td>76.0</td>\n      <td>241.3</td>\n      <td>38.2</td>\n      <td>88.2</td>\n      <td>0.434</td>\n      <td>12.0</td>\n      <td>36.4</td>\n      <td>0.329</td>\n      <td>26.2</td>\n      <td>...</td>\n      <td>0.25</td>\n      <td>-7.49</td>\n      <td>104.3</td>\n      <td>112.1</td>\n      <td>-7.8</td>\n      <td>99.2</td>\n      <td>0.226</td>\n      <td>0.413</td>\n      <td>0.537</td>\n      <td>2022.0</td>\n    </tr>\n    <tr>\n      <th>30</th>\n      <td>League Average 2022</td>\n      <td>76.0</td>\n      <td>241.4</td>\n      <td>40.5</td>\n      <td>88.1</td>\n      <td>0.460</td>\n      <td>12.4</td>\n      <td>35.2</td>\n      <td>0.352</td>\n      <td>28.1</td>\n      <td>...</td>\n      <td>0.00</td>\n      <td>0.00</td>\n      <td>111.6</td>\n      <td>111.6</td>\n      <td>NaN</td>\n      <td>98.1</td>\n      <td>0.247</td>\n      <td>0.399</td>\n      <td>0.564</td>\n      <td>2022.0</td>\n    </tr>\n  </tbody>\n</table>\n<p>1646 rows × 38 columns</p>\n</div>"
     },
     "execution_count": 4,
     "metadata": {},
     "output_type": "execute_result"
    }
   ],
   "source": [
    "nba = pd.read_csv('../Basketball Reference Stat Scraper/team_stats/pre_1980/all_pre_1980.csv',index_col='Unnamed: 0')\n",
    "nba"
   ],
   "metadata": {
    "collapsed": false,
    "pycharm": {
     "name": "#%%\n"
    }
   }
  },
  {
   "cell_type": "code",
   "execution_count": 22,
   "outputs": [
    {
     "ename": "ValueError",
     "evalue": "cannot reindex from a duplicate axis",
     "output_type": "error",
     "traceback": [
      "\u001B[0;31m---------------------------------------------------------------------------\u001B[0m",
      "\u001B[0;31mValueError\u001B[0m                                Traceback (most recent call last)",
      "Input \u001B[0;32mIn [22]\u001B[0m, in \u001B[0;36m<module>\u001B[0;34m\u001B[0m\n\u001B[1;32m      1\u001B[0m league \u001B[38;5;241m=\u001B[39m nba\u001B[38;5;241m.\u001B[39mloc[nba[\u001B[38;5;124m'\u001B[39m\u001B[38;5;124mTeam\u001B[39m\u001B[38;5;124m'\u001B[39m]\u001B[38;5;241m.\u001B[39mstr\u001B[38;5;241m.\u001B[39mcontains(\u001B[38;5;124m'\u001B[39m\u001B[38;5;124mLeague\u001B[39m\u001B[38;5;124m'\u001B[39m),:]\u001B[38;5;241m.\u001B[39mcopy()\n\u001B[0;32m----> 3\u001B[0m \u001B[38;5;28;01mfor\u001B[39;00m i \u001B[38;5;129;01min\u001B[39;00m league\u001B[38;5;241m.\u001B[39mloc[\u001B[43m(\u001B[49m\u001B[43mleague\u001B[49m\u001B[38;5;241;43m.\u001B[39;49m\u001B[43mselect_dtypes\u001B[49m\u001B[43m(\u001B[49m\u001B[43minclude\u001B[49m\u001B[38;5;241;43m=\u001B[39;49m\u001B[43m[\u001B[49m\u001B[43mnp\u001B[49m\u001B[38;5;241;43m.\u001B[39;49m\u001B[43mnumber\u001B[49m\u001B[43m]\u001B[49m\u001B[43m)\u001B[49m\u001B[43m)\u001B[49m\u001B[43m \u001B[49m\u001B[38;5;241;43m&\u001B[39;49m\u001B[43m \u001B[49m\u001B[43m(\u001B[49m\u001B[43mleague\u001B[49m\u001B[43m[\u001B[49m\u001B[38;5;124;43m'\u001B[39;49m\u001B[38;5;124;43mYear\u001B[39;49m\u001B[38;5;124;43m'\u001B[39;49m\u001B[43m]\u001B[49m\u001B[43m \u001B[49m\u001B[38;5;241;43m<\u001B[39;49m\u001B[43m \u001B[49m\u001B[38;5;241;43m1980\u001B[39;49m\u001B[43m)\u001B[49m,:]:\n\u001B[1;32m      4\u001B[0m     \u001B[38;5;28mprint\u001B[39m(i)\n\u001B[1;32m      5\u001B[0m     plt\u001B[38;5;241m.\u001B[39mplot(\u001B[38;5;124m'\u001B[39m\u001B[38;5;124mYear\u001B[39m\u001B[38;5;124m'\u001B[39m,i,league)\n",
      "File \u001B[0;32m~/Dropbox/NBA/venv/lib/python3.9/site-packages/pandas/core/ops/common.py:69\u001B[0m, in \u001B[0;36m_unpack_zerodim_and_defer.<locals>.new_method\u001B[0;34m(self, other)\u001B[0m\n\u001B[1;32m     65\u001B[0m             \u001B[38;5;28;01mreturn\u001B[39;00m \u001B[38;5;28mNotImplemented\u001B[39m\n\u001B[1;32m     67\u001B[0m other \u001B[38;5;241m=\u001B[39m item_from_zerodim(other)\n\u001B[0;32m---> 69\u001B[0m \u001B[38;5;28;01mreturn\u001B[39;00m \u001B[43mmethod\u001B[49m\u001B[43m(\u001B[49m\u001B[38;5;28;43mself\u001B[39;49m\u001B[43m,\u001B[49m\u001B[43m \u001B[49m\u001B[43mother\u001B[49m\u001B[43m)\u001B[49m\n",
      "File \u001B[0;32m~/Dropbox/NBA/venv/lib/python3.9/site-packages/pandas/core/arraylike.py:62\u001B[0m, in \u001B[0;36mOpsMixin.__and__\u001B[0;34m(self, other)\u001B[0m\n\u001B[1;32m     60\u001B[0m \u001B[38;5;129m@unpack_zerodim_and_defer\u001B[39m(\u001B[38;5;124m\"\u001B[39m\u001B[38;5;124m__and__\u001B[39m\u001B[38;5;124m\"\u001B[39m)\n\u001B[1;32m     61\u001B[0m \u001B[38;5;28;01mdef\u001B[39;00m \u001B[38;5;21m__and__\u001B[39m(\u001B[38;5;28mself\u001B[39m, other):\n\u001B[0;32m---> 62\u001B[0m     \u001B[38;5;28;01mreturn\u001B[39;00m \u001B[38;5;28;43mself\u001B[39;49m\u001B[38;5;241;43m.\u001B[39;49m\u001B[43m_logical_method\u001B[49m\u001B[43m(\u001B[49m\u001B[43mother\u001B[49m\u001B[43m,\u001B[49m\u001B[43m \u001B[49m\u001B[43moperator\u001B[49m\u001B[38;5;241;43m.\u001B[39;49m\u001B[43mand_\u001B[49m\u001B[43m)\u001B[49m\n",
      "File \u001B[0;32m~/Dropbox/NBA/venv/lib/python3.9/site-packages/pandas/core/frame.py:6864\u001B[0m, in \u001B[0;36mDataFrame._arith_method\u001B[0;34m(self, other, op)\u001B[0m\n\u001B[1;32m   6861\u001B[0m axis \u001B[38;5;241m=\u001B[39m \u001B[38;5;241m1\u001B[39m  \u001B[38;5;66;03m# only relevant for Series other case\u001B[39;00m\n\u001B[1;32m   6862\u001B[0m other \u001B[38;5;241m=\u001B[39m ops\u001B[38;5;241m.\u001B[39mmaybe_prepare_scalar_for_op(other, (\u001B[38;5;28mself\u001B[39m\u001B[38;5;241m.\u001B[39mshape[axis],))\n\u001B[0;32m-> 6864\u001B[0m \u001B[38;5;28mself\u001B[39m, other \u001B[38;5;241m=\u001B[39m \u001B[43mops\u001B[49m\u001B[38;5;241;43m.\u001B[39;49m\u001B[43malign_method_FRAME\u001B[49m\u001B[43m(\u001B[49m\u001B[38;5;28;43mself\u001B[39;49m\u001B[43m,\u001B[49m\u001B[43m \u001B[49m\u001B[43mother\u001B[49m\u001B[43m,\u001B[49m\u001B[43m \u001B[49m\u001B[43maxis\u001B[49m\u001B[43m,\u001B[49m\u001B[43m \u001B[49m\u001B[43mflex\u001B[49m\u001B[38;5;241;43m=\u001B[39;49m\u001B[38;5;28;43;01mTrue\u001B[39;49;00m\u001B[43m,\u001B[49m\u001B[43m \u001B[49m\u001B[43mlevel\u001B[49m\u001B[38;5;241;43m=\u001B[39;49m\u001B[38;5;28;43;01mNone\u001B[39;49;00m\u001B[43m)\u001B[49m\n\u001B[1;32m   6866\u001B[0m new_data \u001B[38;5;241m=\u001B[39m \u001B[38;5;28mself\u001B[39m\u001B[38;5;241m.\u001B[39m_dispatch_frame_op(other, op, axis\u001B[38;5;241m=\u001B[39maxis)\n\u001B[1;32m   6867\u001B[0m \u001B[38;5;28;01mreturn\u001B[39;00m \u001B[38;5;28mself\u001B[39m\u001B[38;5;241m.\u001B[39m_construct_result(new_data)\n",
      "File \u001B[0;32m~/Dropbox/NBA/venv/lib/python3.9/site-packages/pandas/core/ops/__init__.py:306\u001B[0m, in \u001B[0;36malign_method_FRAME\u001B[0;34m(left, right, axis, flex, level)\u001B[0m\n\u001B[1;32m    296\u001B[0m         \u001B[38;5;28;01mif\u001B[39;00m \u001B[38;5;129;01mnot\u001B[39;00m left\u001B[38;5;241m.\u001B[39maxes[axis]\u001B[38;5;241m.\u001B[39mequals(right\u001B[38;5;241m.\u001B[39mindex):\n\u001B[1;32m    297\u001B[0m             warnings\u001B[38;5;241m.\u001B[39mwarn(\n\u001B[1;32m    298\u001B[0m                 \u001B[38;5;124m\"\u001B[39m\u001B[38;5;124mAutomatic reindexing on DataFrame vs Series comparisons \u001B[39m\u001B[38;5;124m\"\u001B[39m\n\u001B[1;32m    299\u001B[0m                 \u001B[38;5;124m\"\u001B[39m\u001B[38;5;124mis deprecated and will raise ValueError in a future version.  \u001B[39m\u001B[38;5;124m\"\u001B[39m\n\u001B[0;32m   (...)\u001B[0m\n\u001B[1;32m    303\u001B[0m                 stacklevel\u001B[38;5;241m=\u001B[39m\u001B[38;5;241m5\u001B[39m,\n\u001B[1;32m    304\u001B[0m             )\n\u001B[0;32m--> 306\u001B[0m     left, right \u001B[38;5;241m=\u001B[39m \u001B[43mleft\u001B[49m\u001B[38;5;241;43m.\u001B[39;49m\u001B[43malign\u001B[49m\u001B[43m(\u001B[49m\n\u001B[1;32m    307\u001B[0m \u001B[43m        \u001B[49m\u001B[43mright\u001B[49m\u001B[43m,\u001B[49m\u001B[43m \u001B[49m\u001B[43mjoin\u001B[49m\u001B[38;5;241;43m=\u001B[39;49m\u001B[38;5;124;43m\"\u001B[39;49m\u001B[38;5;124;43mouter\u001B[39;49m\u001B[38;5;124;43m\"\u001B[39;49m\u001B[43m,\u001B[49m\u001B[43m \u001B[49m\u001B[43maxis\u001B[49m\u001B[38;5;241;43m=\u001B[39;49m\u001B[43maxis\u001B[49m\u001B[43m,\u001B[49m\u001B[43m \u001B[49m\u001B[43mlevel\u001B[49m\u001B[38;5;241;43m=\u001B[39;49m\u001B[43mlevel\u001B[49m\u001B[43m,\u001B[49m\u001B[43m \u001B[49m\u001B[43mcopy\u001B[49m\u001B[38;5;241;43m=\u001B[39;49m\u001B[38;5;28;43;01mFalse\u001B[39;49;00m\n\u001B[1;32m    308\u001B[0m \u001B[43m    \u001B[49m\u001B[43m)\u001B[49m\n\u001B[1;32m    309\u001B[0m     right \u001B[38;5;241m=\u001B[39m _maybe_align_series_as_frame(left, right, axis)\n\u001B[1;32m    311\u001B[0m \u001B[38;5;28;01mreturn\u001B[39;00m left, right\n",
      "File \u001B[0;32m~/Dropbox/NBA/venv/lib/python3.9/site-packages/pandas/core/frame.py:4677\u001B[0m, in \u001B[0;36mDataFrame.align\u001B[0;34m(self, other, join, axis, level, copy, fill_value, method, limit, fill_axis, broadcast_axis)\u001B[0m\n\u001B[1;32m   4663\u001B[0m \u001B[38;5;129m@doc\u001B[39m(NDFrame\u001B[38;5;241m.\u001B[39malign, \u001B[38;5;241m*\u001B[39m\u001B[38;5;241m*\u001B[39m_shared_doc_kwargs)\n\u001B[1;32m   4664\u001B[0m \u001B[38;5;28;01mdef\u001B[39;00m \u001B[38;5;21malign\u001B[39m(\n\u001B[1;32m   4665\u001B[0m     \u001B[38;5;28mself\u001B[39m,\n\u001B[0;32m   (...)\u001B[0m\n\u001B[1;32m   4675\u001B[0m     broadcast_axis: Axis \u001B[38;5;241m|\u001B[39m \u001B[38;5;28;01mNone\u001B[39;00m \u001B[38;5;241m=\u001B[39m \u001B[38;5;28;01mNone\u001B[39;00m,\n\u001B[1;32m   4676\u001B[0m ) \u001B[38;5;241m-\u001B[39m\u001B[38;5;241m>\u001B[39m DataFrame:\n\u001B[0;32m-> 4677\u001B[0m     \u001B[38;5;28;01mreturn\u001B[39;00m \u001B[38;5;28;43msuper\u001B[39;49m\u001B[43m(\u001B[49m\u001B[43m)\u001B[49m\u001B[38;5;241;43m.\u001B[39;49m\u001B[43malign\u001B[49m\u001B[43m(\u001B[49m\n\u001B[1;32m   4678\u001B[0m \u001B[43m        \u001B[49m\u001B[43mother\u001B[49m\u001B[43m,\u001B[49m\n\u001B[1;32m   4679\u001B[0m \u001B[43m        \u001B[49m\u001B[43mjoin\u001B[49m\u001B[38;5;241;43m=\u001B[39;49m\u001B[43mjoin\u001B[49m\u001B[43m,\u001B[49m\n\u001B[1;32m   4680\u001B[0m \u001B[43m        \u001B[49m\u001B[43maxis\u001B[49m\u001B[38;5;241;43m=\u001B[39;49m\u001B[43maxis\u001B[49m\u001B[43m,\u001B[49m\n\u001B[1;32m   4681\u001B[0m \u001B[43m        \u001B[49m\u001B[43mlevel\u001B[49m\u001B[38;5;241;43m=\u001B[39;49m\u001B[43mlevel\u001B[49m\u001B[43m,\u001B[49m\n\u001B[1;32m   4682\u001B[0m \u001B[43m        \u001B[49m\u001B[43mcopy\u001B[49m\u001B[38;5;241;43m=\u001B[39;49m\u001B[43mcopy\u001B[49m\u001B[43m,\u001B[49m\n\u001B[1;32m   4683\u001B[0m \u001B[43m        \u001B[49m\u001B[43mfill_value\u001B[49m\u001B[38;5;241;43m=\u001B[39;49m\u001B[43mfill_value\u001B[49m\u001B[43m,\u001B[49m\n\u001B[1;32m   4684\u001B[0m \u001B[43m        \u001B[49m\u001B[43mmethod\u001B[49m\u001B[38;5;241;43m=\u001B[39;49m\u001B[43mmethod\u001B[49m\u001B[43m,\u001B[49m\n\u001B[1;32m   4685\u001B[0m \u001B[43m        \u001B[49m\u001B[43mlimit\u001B[49m\u001B[38;5;241;43m=\u001B[39;49m\u001B[43mlimit\u001B[49m\u001B[43m,\u001B[49m\n\u001B[1;32m   4686\u001B[0m \u001B[43m        \u001B[49m\u001B[43mfill_axis\u001B[49m\u001B[38;5;241;43m=\u001B[39;49m\u001B[43mfill_axis\u001B[49m\u001B[43m,\u001B[49m\n\u001B[1;32m   4687\u001B[0m \u001B[43m        \u001B[49m\u001B[43mbroadcast_axis\u001B[49m\u001B[38;5;241;43m=\u001B[39;49m\u001B[43mbroadcast_axis\u001B[49m\u001B[43m,\u001B[49m\n\u001B[1;32m   4688\u001B[0m \u001B[43m    \u001B[49m\u001B[43m)\u001B[49m\n",
      "File \u001B[0;32m~/Dropbox/NBA/venv/lib/python3.9/site-packages/pandas/core/generic.py:8591\u001B[0m, in \u001B[0;36mNDFrame.align\u001B[0;34m(self, other, join, axis, level, copy, fill_value, method, limit, fill_axis, broadcast_axis)\u001B[0m\n\u001B[1;32m   8579\u001B[0m     \u001B[38;5;28;01mreturn\u001B[39;00m \u001B[38;5;28mself\u001B[39m\u001B[38;5;241m.\u001B[39m_align_frame(\n\u001B[1;32m   8580\u001B[0m         other,\n\u001B[1;32m   8581\u001B[0m         join\u001B[38;5;241m=\u001B[39mjoin,\n\u001B[0;32m   (...)\u001B[0m\n\u001B[1;32m   8588\u001B[0m         fill_axis\u001B[38;5;241m=\u001B[39mfill_axis,\n\u001B[1;32m   8589\u001B[0m     )\n\u001B[1;32m   8590\u001B[0m \u001B[38;5;28;01melif\u001B[39;00m \u001B[38;5;28misinstance\u001B[39m(other, ABCSeries):\n\u001B[0;32m-> 8591\u001B[0m     \u001B[38;5;28;01mreturn\u001B[39;00m \u001B[38;5;28;43mself\u001B[39;49m\u001B[38;5;241;43m.\u001B[39;49m\u001B[43m_align_series\u001B[49m\u001B[43m(\u001B[49m\n\u001B[1;32m   8592\u001B[0m \u001B[43m        \u001B[49m\u001B[43mother\u001B[49m\u001B[43m,\u001B[49m\n\u001B[1;32m   8593\u001B[0m \u001B[43m        \u001B[49m\u001B[43mjoin\u001B[49m\u001B[38;5;241;43m=\u001B[39;49m\u001B[43mjoin\u001B[49m\u001B[43m,\u001B[49m\n\u001B[1;32m   8594\u001B[0m \u001B[43m        \u001B[49m\u001B[43maxis\u001B[49m\u001B[38;5;241;43m=\u001B[39;49m\u001B[43maxis\u001B[49m\u001B[43m,\u001B[49m\n\u001B[1;32m   8595\u001B[0m \u001B[43m        \u001B[49m\u001B[43mlevel\u001B[49m\u001B[38;5;241;43m=\u001B[39;49m\u001B[43mlevel\u001B[49m\u001B[43m,\u001B[49m\n\u001B[1;32m   8596\u001B[0m \u001B[43m        \u001B[49m\u001B[43mcopy\u001B[49m\u001B[38;5;241;43m=\u001B[39;49m\u001B[43mcopy\u001B[49m\u001B[43m,\u001B[49m\n\u001B[1;32m   8597\u001B[0m \u001B[43m        \u001B[49m\u001B[43mfill_value\u001B[49m\u001B[38;5;241;43m=\u001B[39;49m\u001B[43mfill_value\u001B[49m\u001B[43m,\u001B[49m\n\u001B[1;32m   8598\u001B[0m \u001B[43m        \u001B[49m\u001B[43mmethod\u001B[49m\u001B[38;5;241;43m=\u001B[39;49m\u001B[43mmethod\u001B[49m\u001B[43m,\u001B[49m\n\u001B[1;32m   8599\u001B[0m \u001B[43m        \u001B[49m\u001B[43mlimit\u001B[49m\u001B[38;5;241;43m=\u001B[39;49m\u001B[43mlimit\u001B[49m\u001B[43m,\u001B[49m\n\u001B[1;32m   8600\u001B[0m \u001B[43m        \u001B[49m\u001B[43mfill_axis\u001B[49m\u001B[38;5;241;43m=\u001B[39;49m\u001B[43mfill_axis\u001B[49m\u001B[43m,\u001B[49m\n\u001B[1;32m   8601\u001B[0m \u001B[43m    \u001B[49m\u001B[43m)\u001B[49m\n\u001B[1;32m   8602\u001B[0m \u001B[38;5;28;01melse\u001B[39;00m:  \u001B[38;5;66;03m# pragma: no cover\u001B[39;00m\n\u001B[1;32m   8603\u001B[0m     \u001B[38;5;28;01mraise\u001B[39;00m \u001B[38;5;167;01mTypeError\u001B[39;00m(\u001B[38;5;124mf\u001B[39m\u001B[38;5;124m\"\u001B[39m\u001B[38;5;124munsupported type: \u001B[39m\u001B[38;5;132;01m{\u001B[39;00m\u001B[38;5;28mtype\u001B[39m(other)\u001B[38;5;132;01m}\u001B[39;00m\u001B[38;5;124m\"\u001B[39m)\n",
      "File \u001B[0;32m~/Dropbox/NBA/venv/lib/python3.9/site-packages/pandas/core/generic.py:8727\u001B[0m, in \u001B[0;36mNDFrame._align_series\u001B[0;34m(self, other, join, axis, level, copy, fill_value, method, limit, fill_axis)\u001B[0m\n\u001B[1;32m   8725\u001B[0m         right \u001B[38;5;241m=\u001B[39m other\n\u001B[1;32m   8726\u001B[0m     \u001B[38;5;28;01melse\u001B[39;00m:\n\u001B[0;32m-> 8727\u001B[0m         right \u001B[38;5;241m=\u001B[39m \u001B[43mother\u001B[49m\u001B[38;5;241;43m.\u001B[39;49m\u001B[43mreindex\u001B[49m\u001B[43m(\u001B[49m\u001B[43mjoin_index\u001B[49m\u001B[43m,\u001B[49m\u001B[43m \u001B[49m\u001B[43mlevel\u001B[49m\u001B[38;5;241;43m=\u001B[39;49m\u001B[43mlevel\u001B[49m\u001B[43m)\u001B[49m\n\u001B[1;32m   8729\u001B[0m \u001B[38;5;66;03m# fill\u001B[39;00m\n\u001B[1;32m   8730\u001B[0m fill_na \u001B[38;5;241m=\u001B[39m notna(fill_value) \u001B[38;5;129;01mor\u001B[39;00m (method \u001B[38;5;129;01mis\u001B[39;00m \u001B[38;5;129;01mnot\u001B[39;00m \u001B[38;5;28;01mNone\u001B[39;00m)\n",
      "File \u001B[0;32m~/Dropbox/NBA/venv/lib/python3.9/site-packages/pandas/core/series.py:4580\u001B[0m, in \u001B[0;36mSeries.reindex\u001B[0;34m(self, index, **kwargs)\u001B[0m\n\u001B[1;32m   4572\u001B[0m \u001B[38;5;129m@doc\u001B[39m(\n\u001B[1;32m   4573\u001B[0m     NDFrame\u001B[38;5;241m.\u001B[39mreindex,  \u001B[38;5;66;03m# type: ignore[has-type]\u001B[39;00m\n\u001B[1;32m   4574\u001B[0m     klass\u001B[38;5;241m=\u001B[39m_shared_doc_kwargs[\u001B[38;5;124m\"\u001B[39m\u001B[38;5;124mklass\u001B[39m\u001B[38;5;124m\"\u001B[39m],\n\u001B[0;32m   (...)\u001B[0m\n\u001B[1;32m   4578\u001B[0m )\n\u001B[1;32m   4579\u001B[0m \u001B[38;5;28;01mdef\u001B[39;00m \u001B[38;5;21mreindex\u001B[39m(\u001B[38;5;28mself\u001B[39m, index\u001B[38;5;241m=\u001B[39m\u001B[38;5;28;01mNone\u001B[39;00m, \u001B[38;5;241m*\u001B[39m\u001B[38;5;241m*\u001B[39mkwargs):\n\u001B[0;32m-> 4580\u001B[0m     \u001B[38;5;28;01mreturn\u001B[39;00m \u001B[38;5;28;43msuper\u001B[39;49m\u001B[43m(\u001B[49m\u001B[43m)\u001B[49m\u001B[38;5;241;43m.\u001B[39;49m\u001B[43mreindex\u001B[49m\u001B[43m(\u001B[49m\u001B[43mindex\u001B[49m\u001B[38;5;241;43m=\u001B[39;49m\u001B[43mindex\u001B[49m\u001B[43m,\u001B[49m\u001B[43m \u001B[49m\u001B[38;5;241;43m*\u001B[39;49m\u001B[38;5;241;43m*\u001B[39;49m\u001B[43mkwargs\u001B[49m\u001B[43m)\u001B[49m\n",
      "File \u001B[0;32m~/Dropbox/NBA/venv/lib/python3.9/site-packages/pandas/core/generic.py:4818\u001B[0m, in \u001B[0;36mNDFrame.reindex\u001B[0;34m(self, *args, **kwargs)\u001B[0m\n\u001B[1;32m   4815\u001B[0m     \u001B[38;5;28;01mreturn\u001B[39;00m \u001B[38;5;28mself\u001B[39m\u001B[38;5;241m.\u001B[39m_reindex_multi(axes, copy, fill_value)\n\u001B[1;32m   4817\u001B[0m \u001B[38;5;66;03m# perform the reindex on the axes\u001B[39;00m\n\u001B[0;32m-> 4818\u001B[0m \u001B[38;5;28;01mreturn\u001B[39;00m \u001B[38;5;28;43mself\u001B[39;49m\u001B[38;5;241;43m.\u001B[39;49m\u001B[43m_reindex_axes\u001B[49m\u001B[43m(\u001B[49m\n\u001B[1;32m   4819\u001B[0m \u001B[43m    \u001B[49m\u001B[43maxes\u001B[49m\u001B[43m,\u001B[49m\u001B[43m \u001B[49m\u001B[43mlevel\u001B[49m\u001B[43m,\u001B[49m\u001B[43m \u001B[49m\u001B[43mlimit\u001B[49m\u001B[43m,\u001B[49m\u001B[43m \u001B[49m\u001B[43mtolerance\u001B[49m\u001B[43m,\u001B[49m\u001B[43m \u001B[49m\u001B[43mmethod\u001B[49m\u001B[43m,\u001B[49m\u001B[43m \u001B[49m\u001B[43mfill_value\u001B[49m\u001B[43m,\u001B[49m\u001B[43m \u001B[49m\u001B[43mcopy\u001B[49m\n\u001B[1;32m   4820\u001B[0m \u001B[43m\u001B[49m\u001B[43m)\u001B[49m\u001B[38;5;241m.\u001B[39m__finalize__(\u001B[38;5;28mself\u001B[39m, method\u001B[38;5;241m=\u001B[39m\u001B[38;5;124m\"\u001B[39m\u001B[38;5;124mreindex\u001B[39m\u001B[38;5;124m\"\u001B[39m)\n",
      "File \u001B[0;32m~/Dropbox/NBA/venv/lib/python3.9/site-packages/pandas/core/generic.py:4839\u001B[0m, in \u001B[0;36mNDFrame._reindex_axes\u001B[0;34m(self, axes, level, limit, tolerance, method, fill_value, copy)\u001B[0m\n\u001B[1;32m   4834\u001B[0m     new_index, indexer \u001B[38;5;241m=\u001B[39m ax\u001B[38;5;241m.\u001B[39mreindex(\n\u001B[1;32m   4835\u001B[0m         labels, level\u001B[38;5;241m=\u001B[39mlevel, limit\u001B[38;5;241m=\u001B[39mlimit, tolerance\u001B[38;5;241m=\u001B[39mtolerance, method\u001B[38;5;241m=\u001B[39mmethod\n\u001B[1;32m   4836\u001B[0m     )\n\u001B[1;32m   4838\u001B[0m     axis \u001B[38;5;241m=\u001B[39m \u001B[38;5;28mself\u001B[39m\u001B[38;5;241m.\u001B[39m_get_axis_number(a)\n\u001B[0;32m-> 4839\u001B[0m     obj \u001B[38;5;241m=\u001B[39m \u001B[43mobj\u001B[49m\u001B[38;5;241;43m.\u001B[39;49m\u001B[43m_reindex_with_indexers\u001B[49m\u001B[43m(\u001B[49m\n\u001B[1;32m   4840\u001B[0m \u001B[43m        \u001B[49m\u001B[43m{\u001B[49m\u001B[43maxis\u001B[49m\u001B[43m:\u001B[49m\u001B[43m \u001B[49m\u001B[43m[\u001B[49m\u001B[43mnew_index\u001B[49m\u001B[43m,\u001B[49m\u001B[43m \u001B[49m\u001B[43mindexer\u001B[49m\u001B[43m]\u001B[49m\u001B[43m}\u001B[49m\u001B[43m,\u001B[49m\n\u001B[1;32m   4841\u001B[0m \u001B[43m        \u001B[49m\u001B[43mfill_value\u001B[49m\u001B[38;5;241;43m=\u001B[39;49m\u001B[43mfill_value\u001B[49m\u001B[43m,\u001B[49m\n\u001B[1;32m   4842\u001B[0m \u001B[43m        \u001B[49m\u001B[43mcopy\u001B[49m\u001B[38;5;241;43m=\u001B[39;49m\u001B[43mcopy\u001B[49m\u001B[43m,\u001B[49m\n\u001B[1;32m   4843\u001B[0m \u001B[43m        \u001B[49m\u001B[43mallow_dups\u001B[49m\u001B[38;5;241;43m=\u001B[39;49m\u001B[38;5;28;43;01mFalse\u001B[39;49;00m\u001B[43m,\u001B[49m\n\u001B[1;32m   4844\u001B[0m \u001B[43m    \u001B[49m\u001B[43m)\u001B[49m\n\u001B[1;32m   4846\u001B[0m \u001B[38;5;28;01mreturn\u001B[39;00m obj\n",
      "File \u001B[0;32m~/Dropbox/NBA/venv/lib/python3.9/site-packages/pandas/core/generic.py:4883\u001B[0m, in \u001B[0;36mNDFrame._reindex_with_indexers\u001B[0;34m(self, reindexers, fill_value, copy, allow_dups)\u001B[0m\n\u001B[1;32m   4880\u001B[0m     indexer \u001B[38;5;241m=\u001B[39m ensure_platform_int(indexer)\n\u001B[1;32m   4882\u001B[0m \u001B[38;5;66;03m# TODO: speed up on homogeneous DataFrame objects\u001B[39;00m\n\u001B[0;32m-> 4883\u001B[0m new_data \u001B[38;5;241m=\u001B[39m \u001B[43mnew_data\u001B[49m\u001B[38;5;241;43m.\u001B[39;49m\u001B[43mreindex_indexer\u001B[49m\u001B[43m(\u001B[49m\n\u001B[1;32m   4884\u001B[0m \u001B[43m    \u001B[49m\u001B[43mindex\u001B[49m\u001B[43m,\u001B[49m\n\u001B[1;32m   4885\u001B[0m \u001B[43m    \u001B[49m\u001B[43mindexer\u001B[49m\u001B[43m,\u001B[49m\n\u001B[1;32m   4886\u001B[0m \u001B[43m    \u001B[49m\u001B[43maxis\u001B[49m\u001B[38;5;241;43m=\u001B[39;49m\u001B[43mbaxis\u001B[49m\u001B[43m,\u001B[49m\n\u001B[1;32m   4887\u001B[0m \u001B[43m    \u001B[49m\u001B[43mfill_value\u001B[49m\u001B[38;5;241;43m=\u001B[39;49m\u001B[43mfill_value\u001B[49m\u001B[43m,\u001B[49m\n\u001B[1;32m   4888\u001B[0m \u001B[43m    \u001B[49m\u001B[43mallow_dups\u001B[49m\u001B[38;5;241;43m=\u001B[39;49m\u001B[43mallow_dups\u001B[49m\u001B[43m,\u001B[49m\n\u001B[1;32m   4889\u001B[0m \u001B[43m    \u001B[49m\u001B[43mcopy\u001B[49m\u001B[38;5;241;43m=\u001B[39;49m\u001B[43mcopy\u001B[49m\u001B[43m,\u001B[49m\n\u001B[1;32m   4890\u001B[0m \u001B[43m\u001B[49m\u001B[43m)\u001B[49m\n\u001B[1;32m   4891\u001B[0m \u001B[38;5;66;03m# If we've made a copy once, no need to make another one\u001B[39;00m\n\u001B[1;32m   4892\u001B[0m copy \u001B[38;5;241m=\u001B[39m \u001B[38;5;28;01mFalse\u001B[39;00m\n",
      "File \u001B[0;32m~/Dropbox/NBA/venv/lib/python3.9/site-packages/pandas/core/internals/managers.py:670\u001B[0m, in \u001B[0;36mBaseBlockManager.reindex_indexer\u001B[0;34m(self, new_axis, indexer, axis, fill_value, allow_dups, copy, consolidate, only_slice)\u001B[0m\n\u001B[1;32m    668\u001B[0m \u001B[38;5;66;03m# some axes don't allow reindexing with dups\u001B[39;00m\n\u001B[1;32m    669\u001B[0m \u001B[38;5;28;01mif\u001B[39;00m \u001B[38;5;129;01mnot\u001B[39;00m allow_dups:\n\u001B[0;32m--> 670\u001B[0m     \u001B[38;5;28;43mself\u001B[39;49m\u001B[38;5;241;43m.\u001B[39;49m\u001B[43maxes\u001B[49m\u001B[43m[\u001B[49m\u001B[43maxis\u001B[49m\u001B[43m]\u001B[49m\u001B[38;5;241;43m.\u001B[39;49m\u001B[43m_validate_can_reindex\u001B[49m\u001B[43m(\u001B[49m\u001B[43mindexer\u001B[49m\u001B[43m)\u001B[49m\n\u001B[1;32m    672\u001B[0m \u001B[38;5;28;01mif\u001B[39;00m axis \u001B[38;5;241m>\u001B[39m\u001B[38;5;241m=\u001B[39m \u001B[38;5;28mself\u001B[39m\u001B[38;5;241m.\u001B[39mndim:\n\u001B[1;32m    673\u001B[0m     \u001B[38;5;28;01mraise\u001B[39;00m \u001B[38;5;167;01mIndexError\u001B[39;00m(\u001B[38;5;124m\"\u001B[39m\u001B[38;5;124mRequested axis not found in manager\u001B[39m\u001B[38;5;124m\"\u001B[39m)\n",
      "File \u001B[0;32m~/Dropbox/NBA/venv/lib/python3.9/site-packages/pandas/core/indexes/base.py:3785\u001B[0m, in \u001B[0;36mIndex._validate_can_reindex\u001B[0;34m(self, indexer)\u001B[0m\n\u001B[1;32m   3783\u001B[0m \u001B[38;5;66;03m# trying to reindex on an axis with duplicates\u001B[39;00m\n\u001B[1;32m   3784\u001B[0m \u001B[38;5;28;01mif\u001B[39;00m \u001B[38;5;129;01mnot\u001B[39;00m \u001B[38;5;28mself\u001B[39m\u001B[38;5;241m.\u001B[39m_index_as_unique \u001B[38;5;129;01mand\u001B[39;00m \u001B[38;5;28mlen\u001B[39m(indexer):\n\u001B[0;32m-> 3785\u001B[0m     \u001B[38;5;28;01mraise\u001B[39;00m \u001B[38;5;167;01mValueError\u001B[39;00m(\u001B[38;5;124m\"\u001B[39m\u001B[38;5;124mcannot reindex from a duplicate axis\u001B[39m\u001B[38;5;124m\"\u001B[39m)\n",
      "\u001B[0;31mValueError\u001B[0m: cannot reindex from a duplicate axis"
     ]
    }
   ],
   "source": [
    "league = nba.loc[nba['Team'].str.contains('League'),:].copy()\n",
    "\n",
    "for i in league.loc[(league.select_dtypes(include=[np.number])),:]:\n",
    "    print(i)\n",
    "    plt.plot('Year',i,league)\n",
    "    plt.show()"
   ],
   "metadata": {
    "collapsed": false,
    "pycharm": {
     "name": "#%%\n"
    }
   }
  },
  {
   "cell_type": "code",
   "execution_count": 20,
   "outputs": [],
   "source": [
    "graph = league.select_dtypes(include=[np.number]).fillna(0)\n",
    "# for i in graph:\n",
    "#     graph.loc[:,[i,'Year'],].plot('Year',i)"
   ],
   "metadata": {
    "collapsed": false,
    "pycharm": {
     "name": "#%%\n"
    }
   }
  },
  {
   "cell_type": "code",
   "execution_count": 21,
   "outputs": [
    {
     "data": {
      "text/plain": "       G     MP    FG   FGA   FG%   3P  3PA  3P%    2P   2PA  ...  SOS  SRS  \\\n14  82.0  241.6  45.7  99.4  0.46  0.0  0.0  0.0  45.7  99.4  ...  0.0  0.0   \n\n    ORtg  DRtg  NRtg   Pace    FTr  3PAr    TS%    Year  \n14  99.0  99.0   0.0  117.1  0.339   0.0  0.511  1970.0  \n\n[1 rows x 37 columns]",
      "text/html": "<div>\n<style scoped>\n    .dataframe tbody tr th:only-of-type {\n        vertical-align: middle;\n    }\n\n    .dataframe tbody tr th {\n        vertical-align: top;\n    }\n\n    .dataframe thead th {\n        text-align: right;\n    }\n</style>\n<table border=\"1\" class=\"dataframe\">\n  <thead>\n    <tr style=\"text-align: right;\">\n      <th></th>\n      <th>G</th>\n      <th>MP</th>\n      <th>FG</th>\n      <th>FGA</th>\n      <th>FG%</th>\n      <th>3P</th>\n      <th>3PA</th>\n      <th>3P%</th>\n      <th>2P</th>\n      <th>2PA</th>\n      <th>...</th>\n      <th>SOS</th>\n      <th>SRS</th>\n      <th>ORtg</th>\n      <th>DRtg</th>\n      <th>NRtg</th>\n      <th>Pace</th>\n      <th>FTr</th>\n      <th>3PAr</th>\n      <th>TS%</th>\n      <th>Year</th>\n    </tr>\n  </thead>\n  <tbody>\n    <tr>\n      <th>14</th>\n      <td>82.0</td>\n      <td>241.6</td>\n      <td>45.7</td>\n      <td>99.4</td>\n      <td>0.46</td>\n      <td>0.0</td>\n      <td>0.0</td>\n      <td>0.0</td>\n      <td>45.7</td>\n      <td>99.4</td>\n      <td>...</td>\n      <td>0.0</td>\n      <td>0.0</td>\n      <td>99.0</td>\n      <td>99.0</td>\n      <td>0.0</td>\n      <td>117.1</td>\n      <td>0.339</td>\n      <td>0.0</td>\n      <td>0.511</td>\n      <td>1970.0</td>\n    </tr>\n  </tbody>\n</table>\n<p>1 rows × 37 columns</p>\n</div>"
     },
     "execution_count": 21,
     "metadata": {},
     "output_type": "execute_result"
    }
   ],
   "source": [
    "graph.loc[]"
   ],
   "metadata": {
    "collapsed": false,
    "pycharm": {
     "name": "#%%\n"
    }
   }
  },
  {
   "cell_type": "code",
   "execution_count": null,
   "outputs": [],
   "source": [
    "league"
   ],
   "metadata": {
    "collapsed": false,
    "pycharm": {
     "name": "#%%\n"
    }
   }
  }
 ],
 "metadata": {
  "kernelspec": {
   "display_name": "Python 3",
   "language": "python",
   "name": "python3"
  },
  "language_info": {
   "codemirror_mode": {
    "name": "ipython",
    "version": 2
   },
   "file_extension": ".py",
   "mimetype": "text/x-python",
   "name": "python",
   "nbconvert_exporter": "python",
   "pygments_lexer": "ipython2",
   "version": "2.7.6"
  }
 },
 "nbformat": 4,
 "nbformat_minor": 0
}