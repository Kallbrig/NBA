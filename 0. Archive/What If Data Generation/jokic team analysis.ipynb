{
 "cells": [
  {
   "cell_type": "code",
   "execution_count": 73,
   "metadata": {
    "collapsed": true
   },
   "outputs": [],
   "source": [
    "import pandas as pd\n",
    "import plotly.express as px"
   ]
  },
  {
   "cell_type": "code",
   "execution_count": 97,
   "outputs": [
    {
     "data": {
      "text/plain": "                  Team     G  MP    FG   FGA    FG%  3P  3PA  3P%    2P  ...  \\\n0  Syracuse Nationals*  64.0 NaN  29.2  82.4  0.354 NaN  NaN  NaN  29.2  ...   \n1  Minneapolis Lakers*  68.0 NaN  31.5  85.8  0.367 NaN  NaN  NaN  31.5  ...   \n2    Rochester Royals*  68.0 NaN  28.8  77.2  0.373 NaN  NaN  NaN  28.8  ...   \n3     New York Knicks*  68.0 NaN  27.8  78.7  0.353 NaN  NaN  NaN  27.8  ...   \n4  Fort Wayne Pistons*  68.0 NaN  27.6  86.8  0.318 NaN  NaN  NaN  27.6  ...   \n\n    SOS   SRS  ORtg  DRtg  NRtg  Pace    FTr  3PAr    TS%    Year  \n0 -1.70  6.48   NaN   NaN   NaN   NaN  0.454   NaN  0.429  1950.0  \n1 -0.09  8.25   NaN   NaN   NaN   NaN  0.333   NaN  0.427  1950.0  \n2 -0.05  7.72   NaN   NaN   NaN   NaN  0.442   NaN  0.447  1950.0  \n3  0.41  2.53   NaN   NaN   NaN   NaN  0.449   NaN  0.428  1950.0  \n4  0.47  1.84   NaN   NaN   NaN   NaN  0.395   NaN  0.389  1950.0  \n\n[5 rows x 38 columns]",
      "text/html": "<div>\n<style scoped>\n    .dataframe tbody tr th:only-of-type {\n        vertical-align: middle;\n    }\n\n    .dataframe tbody tr th {\n        vertical-align: top;\n    }\n\n    .dataframe thead th {\n        text-align: right;\n    }\n</style>\n<table border=\"1\" class=\"dataframe\">\n  <thead>\n    <tr style=\"text-align: right;\">\n      <th></th>\n      <th>Team</th>\n      <th>G</th>\n      <th>MP</th>\n      <th>FG</th>\n      <th>FGA</th>\n      <th>FG%</th>\n      <th>3P</th>\n      <th>3PA</th>\n      <th>3P%</th>\n      <th>2P</th>\n      <th>...</th>\n      <th>SOS</th>\n      <th>SRS</th>\n      <th>ORtg</th>\n      <th>DRtg</th>\n      <th>NRtg</th>\n      <th>Pace</th>\n      <th>FTr</th>\n      <th>3PAr</th>\n      <th>TS%</th>\n      <th>Year</th>\n    </tr>\n  </thead>\n  <tbody>\n    <tr>\n      <th>0</th>\n      <td>Syracuse Nationals*</td>\n      <td>64.0</td>\n      <td>NaN</td>\n      <td>29.2</td>\n      <td>82.4</td>\n      <td>0.354</td>\n      <td>NaN</td>\n      <td>NaN</td>\n      <td>NaN</td>\n      <td>29.2</td>\n      <td>...</td>\n      <td>-1.70</td>\n      <td>6.48</td>\n      <td>NaN</td>\n      <td>NaN</td>\n      <td>NaN</td>\n      <td>NaN</td>\n      <td>0.454</td>\n      <td>NaN</td>\n      <td>0.429</td>\n      <td>1950.0</td>\n    </tr>\n    <tr>\n      <th>1</th>\n      <td>Minneapolis Lakers*</td>\n      <td>68.0</td>\n      <td>NaN</td>\n      <td>31.5</td>\n      <td>85.8</td>\n      <td>0.367</td>\n      <td>NaN</td>\n      <td>NaN</td>\n      <td>NaN</td>\n      <td>31.5</td>\n      <td>...</td>\n      <td>-0.09</td>\n      <td>8.25</td>\n      <td>NaN</td>\n      <td>NaN</td>\n      <td>NaN</td>\n      <td>NaN</td>\n      <td>0.333</td>\n      <td>NaN</td>\n      <td>0.427</td>\n      <td>1950.0</td>\n    </tr>\n    <tr>\n      <th>2</th>\n      <td>Rochester Royals*</td>\n      <td>68.0</td>\n      <td>NaN</td>\n      <td>28.8</td>\n      <td>77.2</td>\n      <td>0.373</td>\n      <td>NaN</td>\n      <td>NaN</td>\n      <td>NaN</td>\n      <td>28.8</td>\n      <td>...</td>\n      <td>-0.05</td>\n      <td>7.72</td>\n      <td>NaN</td>\n      <td>NaN</td>\n      <td>NaN</td>\n      <td>NaN</td>\n      <td>0.442</td>\n      <td>NaN</td>\n      <td>0.447</td>\n      <td>1950.0</td>\n    </tr>\n    <tr>\n      <th>3</th>\n      <td>New York Knicks*</td>\n      <td>68.0</td>\n      <td>NaN</td>\n      <td>27.8</td>\n      <td>78.7</td>\n      <td>0.353</td>\n      <td>NaN</td>\n      <td>NaN</td>\n      <td>NaN</td>\n      <td>27.8</td>\n      <td>...</td>\n      <td>0.41</td>\n      <td>2.53</td>\n      <td>NaN</td>\n      <td>NaN</td>\n      <td>NaN</td>\n      <td>NaN</td>\n      <td>0.449</td>\n      <td>NaN</td>\n      <td>0.428</td>\n      <td>1950.0</td>\n    </tr>\n    <tr>\n      <th>4</th>\n      <td>Fort Wayne Pistons*</td>\n      <td>68.0</td>\n      <td>NaN</td>\n      <td>27.6</td>\n      <td>86.8</td>\n      <td>0.318</td>\n      <td>NaN</td>\n      <td>NaN</td>\n      <td>NaN</td>\n      <td>27.6</td>\n      <td>...</td>\n      <td>0.47</td>\n      <td>1.84</td>\n      <td>NaN</td>\n      <td>NaN</td>\n      <td>NaN</td>\n      <td>NaN</td>\n      <td>0.395</td>\n      <td>NaN</td>\n      <td>0.389</td>\n      <td>1950.0</td>\n    </tr>\n  </tbody>\n</table>\n<p>5 rows × 38 columns</p>\n</div>"
     },
     "execution_count": 97,
     "metadata": {},
     "output_type": "execute_result"
    }
   ],
   "source": [
    "df = pd.read_csv('../../Basketball Reference Stat Scraper/team_stats/pre_1980/all_pre_1980.csv',index_col=0)\n",
    "df.head(5)"
   ],
   "metadata": {
    "collapsed": false,
    "pycharm": {
     "name": "#%%\n"
    }
   }
  },
  {
   "cell_type": "code",
   "execution_count": 99,
   "outputs": [
    {
     "data": {
      "application/vnd.plotly.v1+json": {
       "data": [
        {
         "customdata": [
          [
           "Syracuse Nationals*",
           1950.0
          ],
          [
           "Minneapolis Lakers*",
           1950.0
          ],
          [
           "Rochester Royals*",
           1950.0
          ],
          [
           "New York Knicks*",
           1950.0
          ],
          [
           "Fort Wayne Pistons*",
           1950.0
          ],
          [
           "Chicago Stags*",
           1950.0
          ],
          [
           "Indianapolis Olympians*",
           1950.0
          ],
          [
           "Anderson Packers*",
           1950.0
          ],
          [
           "Washington Capitols*",
           1950.0
          ],
          [
           "Tri-Cities Blackhawks*",
           1950.0
          ],
          [
           "Philadelphia Warriors*",
           1950.0
          ],
          [
           "St. Louis Bombers",
           1950.0
          ],
          [
           "Baltimore Bullets",
           1950.0
          ],
          [
           "Sheboygan Red Skins*",
           1950.0
          ],
          [
           "Boston Celtics",
           1950.0
          ],
          [
           "Waterloo Hawks",
           1950.0
          ],
          [
           "Denver Nuggets",
           1950.0
          ],
          [
           "League Average 1950",
           1950.0
          ],
          [
           "Minneapolis Lakers*",
           1951.0
          ],
          [
           "Rochester Royals*",
           1951.0
          ],
          [
           "Philadelphia Warriors*",
           1951.0
          ],
          [
           "Boston Celtics*",
           1951.0
          ],
          [
           "New York Knicks*",
           1951.0
          ],
          [
           "Syracuse Nationals*",
           1951.0
          ],
          [
           "Fort Wayne Pistons*",
           1951.0
          ],
          [
           "Indianapolis Olympians*",
           1951.0
          ],
          [
           "Tri-Cities Blackhawks",
           1951.0
          ],
          [
           "Baltimore Bullets",
           1951.0
          ],
          [
           "Washington Capitols",
           1951.0
          ],
          [
           "League Average 1951",
           1951.0
          ],
          [
           "Rochester Royals*",
           1952.0
          ],
          [
           "Syracuse Nationals*",
           1952.0
          ],
          [
           "Minneapolis Lakers*",
           1952.0
          ],
          [
           "Boston Celtics*",
           1952.0
          ],
          [
           "New York Knicks*",
           1952.0
          ],
          [
           "Indianapolis Olympians*",
           1952.0
          ],
          [
           "Philadelphia Warriors*",
           1952.0
          ],
          [
           "Fort Wayne Pistons*",
           1952.0
          ],
          [
           "Baltimore Bullets",
           1952.0
          ],
          [
           "Milwaukee Hawks",
           1952.0
          ],
          [
           "League Average 1952",
           1952.0
          ],
          [
           "Minneapolis Lakers*",
           1953.0
          ],
          [
           "Syracuse Nationals*",
           1953.0
          ],
          [
           "New York Knicks*",
           1953.0
          ],
          [
           "Boston Celtics*",
           1953.0
          ],
          [
           "Rochester Royals*",
           1953.0
          ],
          [
           "Fort Wayne Pistons*",
           1953.0
          ],
          [
           "Indianapolis Olympians*",
           1953.0
          ],
          [
           "Milwaukee Hawks",
           1953.0
          ],
          [
           "Baltimore Bullets*",
           1953.0
          ],
          [
           "Philadelphia Warriors",
           1953.0
          ],
          [
           "League Average 1953",
           1953.0
          ],
          [
           "Minneapolis Lakers*",
           1954.0
          ],
          [
           "Rochester Royals*",
           1954.0
          ],
          [
           "New York Knicks*",
           1954.0
          ],
          [
           "Boston Celtics*",
           1954.0
          ],
          [
           "Syracuse Nationals*",
           1954.0
          ],
          [
           "Fort Wayne Pistons*",
           1954.0
          ],
          [
           "Philadelphia Warriors",
           1954.0
          ],
          [
           "Milwaukee Hawks",
           1954.0
          ],
          [
           "Baltimore Bullets",
           1954.0
          ],
          [
           "League Average 1954",
           1954.0
          ],
          [
           "Fort Wayne Pistons*",
           1955.0
          ],
          [
           "Syracuse Nationals*",
           1955.0
          ],
          [
           "Minneapolis Lakers*",
           1955.0
          ],
          [
           "New York Knicks*",
           1955.0
          ],
          [
           "Boston Celtics*",
           1955.0
          ],
          [
           "Philadelphia Warriors",
           1955.0
          ],
          [
           "Rochester Royals*",
           1955.0
          ],
          [
           "Milwaukee Hawks",
           1955.0
          ],
          [
           "Baltimore Bullets",
           1955.0
          ],
          [
           "League Average 1955",
           1955.0
          ],
          [
           "Philadelphia Warriors*",
           1956.0
          ],
          [
           "Boston Celtics*",
           1956.0
          ],
          [
           "Fort Wayne Pistons*",
           1956.0
          ],
          [
           "New York Knicks*",
           1956.0
          ],
          [
           "Syracuse Nationals*",
           1956.0
          ],
          [
           "Minneapolis Lakers*",
           1956.0
          ],
          [
           "St. Louis Hawks*",
           1956.0
          ],
          [
           "Rochester Royals",
           1956.0
          ],
          [
           "League Average 1956",
           1956.0
          ],
          [
           "Boston Celtics*",
           1957.0
          ],
          [
           "Syracuse Nationals*",
           1957.0
          ],
          [
           "Philadelphia Warriors*",
           1957.0
          ],
          [
           "New York Knicks",
           1957.0
          ],
          [
           "Minneapolis Lakers*",
           1957.0
          ],
          [
           "St. Louis Hawks*",
           1957.0
          ],
          [
           "Fort Wayne Pistons*",
           1957.0
          ],
          [
           "Rochester Royals",
           1957.0
          ],
          [
           "League Average 1957",
           1957.0
          ],
          [
           "Boston Celtics*",
           1958.0
          ],
          [
           "St. Louis Hawks*",
           1958.0
          ],
          [
           "Syracuse Nationals*",
           1958.0
          ],
          [
           "Philadelphia Warriors*",
           1958.0
          ],
          [
           "New York Knicks",
           1958.0
          ],
          [
           "Detroit Pistons*",
           1958.0
          ],
          [
           "Cincinnati Royals*",
           1958.0
          ],
          [
           "Minneapolis Lakers",
           1958.0
          ],
          [
           "League Average 1958",
           1958.0
          ],
          [
           "Boston Celtics*",
           1959.0
          ],
          [
           "St. Louis Hawks*",
           1959.0
          ],
          [
           "New York Knicks*",
           1959.0
          ],
          [
           "Syracuse Nationals*",
           1959.0
          ],
          [
           "Minneapolis Lakers*",
           1959.0
          ],
          [
           "Philadelphia Warriors",
           1959.0
          ],
          [
           "Detroit Pistons*",
           1959.0
          ],
          [
           "Cincinnati Royals",
           1959.0
          ],
          [
           "League Average 1959",
           1959.0
          ],
          [
           "Boston Celtics*",
           1960.0
          ],
          [
           "Philadelphia Warriors*",
           1960.0
          ],
          [
           "St. Louis Hawks*",
           1960.0
          ],
          [
           "Syracuse Nationals*",
           1960.0
          ],
          [
           "Detroit Pistons*",
           1960.0
          ],
          [
           "New York Knicks",
           1960.0
          ],
          [
           "Minneapolis Lakers*",
           1960.0
          ],
          [
           "Cincinnati Royals",
           1960.0
          ],
          [
           "League Average 1960",
           1960.0
          ],
          [
           "Boston Celtics*",
           1961.0
          ],
          [
           "St. Louis Hawks*",
           1961.0
          ],
          [
           "Philadelphia Warriors*",
           1961.0
          ],
          [
           "Syracuse Nationals*",
           1961.0
          ],
          [
           "Los Angeles Lakers*",
           1961.0
          ],
          [
           "Detroit Pistons*",
           1961.0
          ],
          [
           "Cincinnati Royals",
           1961.0
          ],
          [
           "New York Knicks",
           1961.0
          ],
          [
           "League Average 1961",
           1961.0
          ],
          [
           "Boston Celtics*",
           1962.0
          ],
          [
           "Los Angeles Lakers*",
           1962.0
          ],
          [
           "Philadelphia Warriors*",
           1962.0
          ],
          [
           "Cincinnati Royals*",
           1962.0
          ],
          [
           "Syracuse Nationals*",
           1962.0
          ],
          [
           "Detroit Pistons*",
           1962.0
          ],
          [
           "St. Louis Hawks",
           1962.0
          ],
          [
           "New York Knicks",
           1962.0
          ],
          [
           "Chicago Packers",
           1962.0
          ],
          [
           "League Average 1962",
           1962.0
          ],
          [
           "Boston Celtics*",
           1963.0
          ],
          [
           "Los Angeles Lakers*",
           1963.0
          ],
          [
           "Syracuse Nationals*",
           1963.0
          ],
          [
           "St. Louis Hawks*",
           1963.0
          ],
          [
           "Cincinnati Royals*",
           1963.0
          ],
          [
           "Detroit Pistons*",
           1963.0
          ],
          [
           "San Francisco Warriors",
           1963.0
          ],
          [
           "Chicago Zephyrs",
           1963.0
          ],
          [
           "New York Knicks",
           1963.0
          ],
          [
           "League Average 1963",
           1963.0
          ],
          [
           "Boston Celtics*",
           1964.0
          ],
          [
           "Cincinnati Royals*",
           1964.0
          ],
          [
           "San Francisco Warriors*",
           1964.0
          ],
          [
           "St. Louis Hawks*",
           1964.0
          ],
          [
           "Los Angeles Lakers*",
           1964.0
          ],
          [
           "Philadelphia 76ers*",
           1964.0
          ],
          [
           "Baltimore Bullets",
           1964.0
          ],
          [
           "Detroit Pistons",
           1964.0
          ],
          [
           "New York Knicks",
           1964.0
          ],
          [
           "League Average 1964",
           1964.0
          ],
          [
           "Boston Celtics*",
           1965.0
          ],
          [
           "Los Angeles Lakers*",
           1965.0
          ],
          [
           "Cincinnati Royals*",
           1965.0
          ],
          [
           "St. Louis Hawks*",
           1965.0
          ],
          [
           "Philadelphia 76ers*",
           1965.0
          ],
          [
           "Baltimore Bullets*",
           1965.0
          ],
          [
           "Detroit Pistons",
           1965.0
          ],
          [
           "New York Knicks",
           1965.0
          ],
          [
           "San Francisco Warriors",
           1965.0
          ],
          [
           "League Average 1965",
           1965.0
          ],
          [
           "Philadelphia 76ers*",
           1966.0
          ],
          [
           "Boston Celtics*",
           1966.0
          ],
          [
           "Los Angeles Lakers*",
           1966.0
          ],
          [
           "Cincinnati Royals*",
           1966.0
          ],
          [
           "Baltimore Bullets*",
           1966.0
          ],
          [
           "St. Louis Hawks*",
           1966.0
          ],
          [
           "San Francisco Warriors",
           1966.0
          ],
          [
           "New York Knicks",
           1966.0
          ],
          [
           "Detroit Pistons",
           1966.0
          ],
          [
           "League Average 1966",
           1966.0
          ],
          [
           "Philadelphia 76ers*",
           1967.0
          ],
          [
           "Boston Celtics*",
           1967.0
          ],
          [
           "San Francisco Warriors*",
           1967.0
          ],
          [
           "Cincinnati Royals*",
           1967.0
          ],
          [
           "St. Louis Hawks*",
           1967.0
          ],
          [
           "Los Angeles Lakers*",
           1967.0
          ],
          [
           "New York Knicks*",
           1967.0
          ],
          [
           "Chicago Bulls*",
           1967.0
          ],
          [
           "Detroit Pistons",
           1967.0
          ],
          [
           "Baltimore Bullets",
           1967.0
          ],
          [
           "League Average 1967",
           1967.0
          ],
          [
           "Philadelphia 76ers*",
           1968.0
          ],
          [
           "St. Louis Hawks*",
           1968.0
          ],
          [
           "Boston Celtics*",
           1968.0
          ],
          [
           "Los Angeles Lakers*",
           1968.0
          ],
          [
           "San Francisco Warriors*",
           1968.0
          ],
          [
           "New York Knicks*",
           1968.0
          ],
          [
           "Detroit Pistons*",
           1968.0
          ],
          [
           "Cincinnati Royals",
           1968.0
          ],
          [
           "Baltimore Bullets",
           1968.0
          ],
          [
           "Chicago Bulls*",
           1968.0
          ],
          [
           "Seattle SuperSonics",
           1968.0
          ],
          [
           "San Diego Rockets",
           1968.0
          ],
          [
           "League Average 1968",
           1968.0
          ],
          [
           "Baltimore Bullets*",
           1969.0
          ],
          [
           "Philadelphia 76ers*",
           1969.0
          ],
          [
           "Los Angeles Lakers*",
           1969.0
          ],
          [
           "New York Knicks*",
           1969.0
          ],
          [
           "Atlanta Hawks*",
           1969.0
          ],
          [
           "Boston Celtics*",
           1969.0
          ],
          [
           "Cincinnati Royals",
           1969.0
          ],
          [
           "San Francisco Warriors*",
           1969.0
          ],
          [
           "San Diego Rockets*",
           1969.0
          ],
          [
           "Chicago Bulls",
           1969.0
          ],
          [
           "Detroit Pistons",
           1969.0
          ],
          [
           "Seattle SuperSonics",
           1969.0
          ],
          [
           "Milwaukee Bucks",
           1969.0
          ],
          [
           "Phoenix Suns",
           1969.0
          ],
          [
           "League Average 1969",
           1969.0
          ],
          [
           "New York Knicks*",
           1970.0
          ],
          [
           "Milwaukee Bucks*",
           1970.0
          ],
          [
           "Baltimore Bullets*",
           1970.0
          ],
          [
           "Atlanta Hawks*",
           1970.0
          ],
          [
           "Los Angeles Lakers*",
           1970.0
          ],
          [
           "Philadelphia 76ers*",
           1970.0
          ],
          [
           "Phoenix Suns*",
           1970.0
          ],
          [
           "Chicago Bulls*",
           1970.0
          ],
          [
           "Cincinnati Royals",
           1970.0
          ],
          [
           "Seattle SuperSonics",
           1970.0
          ],
          [
           "Boston Celtics",
           1970.0
          ],
          [
           "Detroit Pistons",
           1970.0
          ],
          [
           "San Francisco Warriors",
           1970.0
          ],
          [
           "San Diego Rockets",
           1970.0
          ],
          [
           "League Average 1970",
           1970.0
          ],
          [
           "Milwaukee Bucks*",
           1971.0
          ],
          [
           "New York Knicks*",
           1971.0
          ],
          [
           "Chicago Bulls*",
           1971.0
          ],
          [
           "Los Angeles Lakers*",
           1971.0
          ],
          [
           "Phoenix Suns",
           1971.0
          ],
          [
           "Philadelphia 76ers*",
           1971.0
          ],
          [
           "Detroit Pistons",
           1971.0
          ],
          [
           "Boston Celtics",
           1971.0
          ],
          [
           "Baltimore Bullets*",
           1971.0
          ],
          [
           "San Francisco Warriors*",
           1971.0
          ],
          [
           "San Diego Rockets",
           1971.0
          ],
          [
           "Seattle SuperSonics",
           1971.0
          ],
          [
           "Atlanta Hawks*",
           1971.0
          ],
          [
           "Cincinnati Royals",
           1971.0
          ],
          [
           "Portland Trail Blazers",
           1971.0
          ],
          [
           "Buffalo Braves",
           1971.0
          ],
          [
           "Cleveland Cavaliers",
           1971.0
          ],
          [
           "League Average 1971",
           1971.0
          ],
          [
           "Los Angeles Lakers*",
           1972.0
          ],
          [
           "Milwaukee Bucks*",
           1972.0
          ],
          [
           "Chicago Bulls*",
           1972.0
          ],
          [
           "Boston Celtics*",
           1972.0
          ],
          [
           "Golden State Warriors*",
           1972.0
          ],
          [
           "Phoenix Suns",
           1972.0
          ],
          [
           "New York Knicks*",
           1972.0
          ],
          [
           "Seattle SuperSonics",
           1972.0
          ],
          [
           "Baltimore Bullets*",
           1972.0
          ],
          [
           "Atlanta Hawks*",
           1972.0
          ],
          [
           "Houston Rockets",
           1972.0
          ],
          [
           "Cincinnati Royals",
           1972.0
          ],
          [
           "Philadelphia 76ers",
           1972.0
          ],
          [
           "Detroit Pistons",
           1972.0
          ],
          [
           "Cleveland Cavaliers",
           1972.0
          ],
          [
           "Buffalo Braves",
           1972.0
          ],
          [
           "Portland Trail Blazers",
           1972.0
          ],
          [
           "League Average 1972",
           1972.0
          ],
          [
           "Boston Celtics*",
           1973.0
          ],
          [
           "Milwaukee Bucks*",
           1973.0
          ],
          [
           "Los Angeles Lakers*",
           1973.0
          ],
          [
           "New York Knicks*",
           1973.0
          ],
          [
           "Baltimore Bullets*",
           1973.0
          ],
          [
           "Chicago Bulls*",
           1973.0
          ],
          [
           "Golden State Warriors*",
           1973.0
          ],
          [
           "Atlanta Hawks*",
           1973.0
          ],
          [
           "Detroit Pistons",
           1973.0
          ],
          [
           "Phoenix Suns",
           1973.0
          ],
          [
           "Kansas City-Omaha Kings",
           1973.0
          ],
          [
           "Houston Rockets",
           1973.0
          ],
          [
           "Cleveland Cavaliers",
           1973.0
          ],
          [
           "Seattle SuperSonics",
           1973.0
          ],
          [
           "Portland Trail Blazers",
           1973.0
          ],
          [
           "Buffalo Braves",
           1973.0
          ],
          [
           "Philadelphia 76ers",
           1973.0
          ],
          [
           "League Average 1973",
           1973.0
          ],
          [
           "Milwaukee Bucks*",
           1974.0
          ],
          [
           "Boston Celtics*",
           1974.0
          ],
          [
           "Chicago Bulls*",
           1974.0
          ],
          [
           "Detroit Pistons*",
           1974.0
          ],
          [
           "New York Knicks*",
           1974.0
          ],
          [
           "Los Angeles Lakers*",
           1974.0
          ],
          [
           "Capital Bullets*",
           1974.0
          ],
          [
           "Golden State Warriors",
           1974.0
          ],
          [
           "Buffalo Braves*",
           1974.0
          ],
          [
           "Seattle SuperSonics",
           1974.0
          ],
          [
           "Atlanta Hawks",
           1974.0
          ],
          [
           "Kansas City-Omaha Kings",
           1974.0
          ],
          [
           "Houston Rockets",
           1974.0
          ],
          [
           "Phoenix Suns",
           1974.0
          ],
          [
           "Cleveland Cavaliers",
           1974.0
          ],
          [
           "Portland Trail Blazers",
           1974.0
          ],
          [
           "Philadelphia 76ers",
           1974.0
          ],
          [
           "League Average 1974",
           1974.0
          ],
          [
           "Washington Bullets*",
           1975.0
          ],
          [
           "Boston Celtics*",
           1975.0
          ],
          [
           "Buffalo Braves*",
           1975.0
          ],
          [
           "Golden State Warriors*",
           1975.0
          ],
          [
           "Chicago Bulls*",
           1975.0
          ],
          [
           "Kansas City-Omaha Kings*",
           1975.0
          ],
          [
           "Seattle SuperSonics*",
           1975.0
          ],
          [
           "Houston Rockets*",
           1975.0
          ],
          [
           "New York Knicks*",
           1975.0
          ],
          [
           "Cleveland Cavaliers",
           1975.0
          ],
          [
           "Detroit Pistons*",
           1975.0
          ],
          [
           "Portland Trail Blazers",
           1975.0
          ],
          [
           "Milwaukee Bucks",
           1975.0
          ],
          [
           "Philadelphia 76ers",
           1975.0
          ],
          [
           "Phoenix Suns",
           1975.0
          ],
          [
           "Atlanta Hawks",
           1975.0
          ],
          [
           "Los Angeles Lakers",
           1975.0
          ],
          [
           "New Orleans Jazz",
           1975.0
          ],
          [
           "League Average 1975",
           1975.0
          ],
          [
           "Golden State Warriors*",
           1976.0
          ],
          [
           "Boston Celtics*",
           1976.0
          ],
          [
           "Cleveland Cavaliers*",
           1976.0
          ],
          [
           "Washington Bullets*",
           1976.0
          ],
          [
           "Philadelphia 76ers*",
           1976.0
          ],
          [
           "Buffalo Braves*",
           1976.0
          ],
          [
           "Seattle SuperSonics*",
           1976.0
          ],
          [
           "Phoenix Suns*",
           1976.0
          ],
          [
           "Los Angeles Lakers",
           1976.0
          ],
          [
           "Houston Rockets",
           1976.0
          ],
          [
           "Milwaukee Bucks*",
           1976.0
          ],
          [
           "New York Knicks",
           1976.0
          ],
          [
           "New Orleans Jazz",
           1976.0
          ],
          [
           "Portland Trail Blazers",
           1976.0
          ],
          [
           "Detroit Pistons*",
           1976.0
          ],
          [
           "Kansas City Kings",
           1976.0
          ],
          [
           "Atlanta Hawks",
           1976.0
          ],
          [
           "Chicago Bulls",
           1976.0
          ],
          [
           "League Average 1976",
           1976.0
          ],
          [
           "Los Angeles Lakers*",
           1977.0
          ],
          [
           "Philadelphia 76ers*",
           1977.0
          ],
          [
           "Denver Nuggets*",
           1977.0
          ],
          [
           "Houston Rockets*",
           1977.0
          ],
          [
           "Portland Trail Blazers*",
           1977.0
          ],
          [
           "Washington Bullets*",
           1977.0
          ],
          [
           "Golden State Warriors*",
           1977.0
          ],
          [
           "Chicago Bulls*",
           1977.0
          ],
          [
           "Boston Celtics*",
           1977.0
          ],
          [
           "San Antonio Spurs*",
           1977.0
          ],
          [
           "Detroit Pistons*",
           1977.0
          ],
          [
           "Cleveland Cavaliers*",
           1977.0
          ],
          [
           "Kansas City Kings",
           1977.0
          ],
          [
           "New York Knicks",
           1977.0
          ],
          [
           "Seattle SuperSonics",
           1977.0
          ],
          [
           "Indiana Pacers",
           1977.0
          ],
          [
           "New Orleans Jazz",
           1977.0
          ],
          [
           "Phoenix Suns",
           1977.0
          ],
          [
           "Atlanta Hawks",
           1977.0
          ],
          [
           "Milwaukee Bucks",
           1977.0
          ],
          [
           "Buffalo Braves",
           1977.0
          ],
          [
           "New York Nets",
           1977.0
          ],
          [
           "League Average 1977",
           1977.0
          ],
          [
           "Portland Trail Blazers*",
           1978.0
          ],
          [
           "Philadelphia 76ers*",
           1978.0
          ],
          [
           "San Antonio Spurs*",
           1978.0
          ],
          [
           "Phoenix Suns*",
           1978.0
          ],
          [
           "Denver Nuggets*",
           1978.0
          ],
          [
           "Seattle SuperSonics*",
           1978.0
          ],
          [
           "Los Angeles Lakers*",
           1978.0
          ],
          [
           "Milwaukee Bucks*",
           1978.0
          ],
          [
           "Washington Bullets*",
           1978.0
          ],
          [
           "New York Knicks*",
           1978.0
          ],
          [
           "Cleveland Cavaliers*",
           1978.0
          ],
          [
           "Golden State Warriors",
           1978.0
          ],
          [
           "Atlanta Hawks*",
           1978.0
          ],
          [
           "Chicago Bulls",
           1978.0
          ],
          [
           "New Orleans Jazz",
           1978.0
          ],
          [
           "Detroit Pistons",
           1978.0
          ],
          [
           "Boston Celtics",
           1978.0
          ],
          [
           "Indiana Pacers",
           1978.0
          ],
          [
           "Kansas City Kings",
           1978.0
          ],
          [
           "Houston Rockets",
           1978.0
          ],
          [
           "Buffalo Braves",
           1978.0
          ],
          [
           "New Jersey Nets",
           1978.0
          ],
          [
           "League Average 1978",
           1978.0
          ],
          [
           "Washington Bullets*",
           1979.0
          ],
          [
           "Seattle SuperSonics*",
           1979.0
          ],
          [
           "Phoenix Suns*",
           1979.0
          ],
          [
           "San Antonio Spurs*",
           1979.0
          ],
          [
           "Kansas City Kings*",
           1979.0
          ],
          [
           "Philadelphia 76ers*",
           1979.0
          ],
          [
           "Houston Rockets*",
           1979.0
          ],
          [
           "Los Angeles Lakers*",
           1979.0
          ],
          [
           "Denver Nuggets*",
           1979.0
          ],
          [
           "Atlanta Hawks*",
           1979.0
          ],
          [
           "Portland Trail Blazers*",
           1979.0
          ],
          [
           "San Diego Clippers",
           1979.0
          ],
          [
           "Indiana Pacers",
           1979.0
          ],
          [
           "Milwaukee Bucks",
           1979.0
          ],
          [
           "Golden State Warriors",
           1979.0
          ],
          [
           "New Jersey Nets*",
           1979.0
          ],
          [
           "New York Knicks",
           1979.0
          ],
          [
           "Chicago Bulls",
           1979.0
          ],
          [
           "Detroit Pistons",
           1979.0
          ],
          [
           "Cleveland Cavaliers",
           1979.0
          ],
          [
           "Boston Celtics",
           1979.0
          ],
          [
           "New Orleans Jazz",
           1979.0
          ],
          [
           "League Average 1979",
           1979.0
          ]
         ],
         "hovertemplate": "SRS=%{x}<br>Pace=%{y}<br>TS%=%{z}<br>Team=%{customdata[0]}<br>Year=%{marker.color}<extra></extra>",
         "legendgroup": "",
         "marker": {
          "color": [
           1950.0,
           1950.0,
           1950.0,
           1950.0,
           1950.0,
           1950.0,
           1950.0,
           1950.0,
           1950.0,
           1950.0,
           1950.0,
           1950.0,
           1950.0,
           1950.0,
           1950.0,
           1950.0,
           1950.0,
           1950.0,
           1951.0,
           1951.0,
           1951.0,
           1951.0,
           1951.0,
           1951.0,
           1951.0,
           1951.0,
           1951.0,
           1951.0,
           1951.0,
           1951.0,
           1952.0,
           1952.0,
           1952.0,
           1952.0,
           1952.0,
           1952.0,
           1952.0,
           1952.0,
           1952.0,
           1952.0,
           1952.0,
           1953.0,
           1953.0,
           1953.0,
           1953.0,
           1953.0,
           1953.0,
           1953.0,
           1953.0,
           1953.0,
           1953.0,
           1953.0,
           1954.0,
           1954.0,
           1954.0,
           1954.0,
           1954.0,
           1954.0,
           1954.0,
           1954.0,
           1954.0,
           1954.0,
           1955.0,
           1955.0,
           1955.0,
           1955.0,
           1955.0,
           1955.0,
           1955.0,
           1955.0,
           1955.0,
           1955.0,
           1956.0,
           1956.0,
           1956.0,
           1956.0,
           1956.0,
           1956.0,
           1956.0,
           1956.0,
           1956.0,
           1957.0,
           1957.0,
           1957.0,
           1957.0,
           1957.0,
           1957.0,
           1957.0,
           1957.0,
           1957.0,
           1958.0,
           1958.0,
           1958.0,
           1958.0,
           1958.0,
           1958.0,
           1958.0,
           1958.0,
           1958.0,
           1959.0,
           1959.0,
           1959.0,
           1959.0,
           1959.0,
           1959.0,
           1959.0,
           1959.0,
           1959.0,
           1960.0,
           1960.0,
           1960.0,
           1960.0,
           1960.0,
           1960.0,
           1960.0,
           1960.0,
           1960.0,
           1961.0,
           1961.0,
           1961.0,
           1961.0,
           1961.0,
           1961.0,
           1961.0,
           1961.0,
           1961.0,
           1962.0,
           1962.0,
           1962.0,
           1962.0,
           1962.0,
           1962.0,
           1962.0,
           1962.0,
           1962.0,
           1962.0,
           1963.0,
           1963.0,
           1963.0,
           1963.0,
           1963.0,
           1963.0,
           1963.0,
           1963.0,
           1963.0,
           1963.0,
           1964.0,
           1964.0,
           1964.0,
           1964.0,
           1964.0,
           1964.0,
           1964.0,
           1964.0,
           1964.0,
           1964.0,
           1965.0,
           1965.0,
           1965.0,
           1965.0,
           1965.0,
           1965.0,
           1965.0,
           1965.0,
           1965.0,
           1965.0,
           1966.0,
           1966.0,
           1966.0,
           1966.0,
           1966.0,
           1966.0,
           1966.0,
           1966.0,
           1966.0,
           1966.0,
           1967.0,
           1967.0,
           1967.0,
           1967.0,
           1967.0,
           1967.0,
           1967.0,
           1967.0,
           1967.0,
           1967.0,
           1967.0,
           1968.0,
           1968.0,
           1968.0,
           1968.0,
           1968.0,
           1968.0,
           1968.0,
           1968.0,
           1968.0,
           1968.0,
           1968.0,
           1968.0,
           1968.0,
           1969.0,
           1969.0,
           1969.0,
           1969.0,
           1969.0,
           1969.0,
           1969.0,
           1969.0,
           1969.0,
           1969.0,
           1969.0,
           1969.0,
           1969.0,
           1969.0,
           1969.0,
           1970.0,
           1970.0,
           1970.0,
           1970.0,
           1970.0,
           1970.0,
           1970.0,
           1970.0,
           1970.0,
           1970.0,
           1970.0,
           1970.0,
           1970.0,
           1970.0,
           1970.0,
           1971.0,
           1971.0,
           1971.0,
           1971.0,
           1971.0,
           1971.0,
           1971.0,
           1971.0,
           1971.0,
           1971.0,
           1971.0,
           1971.0,
           1971.0,
           1971.0,
           1971.0,
           1971.0,
           1971.0,
           1971.0,
           1972.0,
           1972.0,
           1972.0,
           1972.0,
           1972.0,
           1972.0,
           1972.0,
           1972.0,
           1972.0,
           1972.0,
           1972.0,
           1972.0,
           1972.0,
           1972.0,
           1972.0,
           1972.0,
           1972.0,
           1972.0,
           1973.0,
           1973.0,
           1973.0,
           1973.0,
           1973.0,
           1973.0,
           1973.0,
           1973.0,
           1973.0,
           1973.0,
           1973.0,
           1973.0,
           1973.0,
           1973.0,
           1973.0,
           1973.0,
           1973.0,
           1973.0,
           1974.0,
           1974.0,
           1974.0,
           1974.0,
           1974.0,
           1974.0,
           1974.0,
           1974.0,
           1974.0,
           1974.0,
           1974.0,
           1974.0,
           1974.0,
           1974.0,
           1974.0,
           1974.0,
           1974.0,
           1974.0,
           1975.0,
           1975.0,
           1975.0,
           1975.0,
           1975.0,
           1975.0,
           1975.0,
           1975.0,
           1975.0,
           1975.0,
           1975.0,
           1975.0,
           1975.0,
           1975.0,
           1975.0,
           1975.0,
           1975.0,
           1975.0,
           1975.0,
           1976.0,
           1976.0,
           1976.0,
           1976.0,
           1976.0,
           1976.0,
           1976.0,
           1976.0,
           1976.0,
           1976.0,
           1976.0,
           1976.0,
           1976.0,
           1976.0,
           1976.0,
           1976.0,
           1976.0,
           1976.0,
           1976.0,
           1977.0,
           1977.0,
           1977.0,
           1977.0,
           1977.0,
           1977.0,
           1977.0,
           1977.0,
           1977.0,
           1977.0,
           1977.0,
           1977.0,
           1977.0,
           1977.0,
           1977.0,
           1977.0,
           1977.0,
           1977.0,
           1977.0,
           1977.0,
           1977.0,
           1977.0,
           1977.0,
           1978.0,
           1978.0,
           1978.0,
           1978.0,
           1978.0,
           1978.0,
           1978.0,
           1978.0,
           1978.0,
           1978.0,
           1978.0,
           1978.0,
           1978.0,
           1978.0,
           1978.0,
           1978.0,
           1978.0,
           1978.0,
           1978.0,
           1978.0,
           1978.0,
           1978.0,
           1978.0,
           1979.0,
           1979.0,
           1979.0,
           1979.0,
           1979.0,
           1979.0,
           1979.0,
           1979.0,
           1979.0,
           1979.0,
           1979.0,
           1979.0,
           1979.0,
           1979.0,
           1979.0,
           1979.0,
           1979.0,
           1979.0,
           1979.0,
           1979.0,
           1979.0,
           1979.0,
           1979.0
          ],
          "coloraxis": "coloraxis",
          "symbol": "circle"
         },
         "mode": "markers",
         "name": "",
         "scene": "scene",
         "showlegend": false,
         "x": [
          6.48,
          8.25,
          7.72,
          2.53,
          1.84,
          2.06,
          2.59,
          2.42,
          -0.28,
          -1.43,
          -2.27,
          -2.01,
          -4.55,
          -5.85,
          -1.73,
          -5.96,
          -11.31,
          0.0,
          4.79,
          2.54,
          3.4,
          -0.41,
          0.49,
          0.62,
          -1.81,
          -2.0,
          -3.22,
          -1.94,
          -4.63,
          0.0,
          2.92,
          3.94,
          5.28,
          3.6,
          0.67,
          0.08,
          -1.08,
          -1.83,
          -6.6,
          -7.04,
          -0.01,
          5.54,
          3.62,
          4.39,
          1.94,
          2.62,
          0.17,
          -2.3,
          -2.49,
          -5.8,
          -7.75,
          0.01,
          2.71,
          2.24,
          -0.16,
          1.97,
          4.27,
          1.45,
          -1.89,
          -4.55,
          -5.98,
          0.01,
          2.01,
          1.23,
          0.96,
          0.11,
          -0.03,
          -0.19,
          -1.43,
          -2.66,
          null,
          0.0,
          3.82,
          0.72,
          0.45,
          -0.2,
          0.17,
          -0.92,
          -1.42,
          -2.61,
          0.0,
          4.78,
          -1.03,
          1.54,
          0.07,
          -0.89,
          -0.27,
          -2.18,
          -2.08,
          -0.01,
          5.02,
          0.82,
          2.18,
          0.21,
          1.35,
          -2.32,
          -1.47,
          -5.78,
          0.0,
          5.84,
          2.89,
          0.49,
          3.74,
          -1.42,
          -2.29,
          -1.36,
          -7.89,
          0.0,
          7.62,
          2.77,
          1.77,
          2.77,
          -3.45,
          -1.43,
          -4.14,
          -5.92,
          0.0,
          4.94,
          2.99,
          0.89,
          1.93,
          -0.11,
          -2.11,
          -3.04,
          -5.43,
          0.01,
          8.25,
          1.8,
          2.63,
          1.28,
          2.24,
          -1.72,
          -2.96,
          -3.98,
          -7.54,
          0.0,
          6.38,
          2.67,
          3.4,
          1.38,
          1.24,
          -3.38,
          -1.86,
          -3.63,
          -6.2,
          0.0,
          6.93,
          4.43,
          4.41,
          1.39,
          0.87,
          -3.75,
          -1.59,
          -6.77,
          -5.91,
          0.0,
          7.46,
          1.7,
          2.04,
          2.68,
          -0.13,
          -1.97,
          -3.03,
          -3.26,
          -5.49,
          0.0,
          4.16,
          4.34,
          2.76,
          1.03,
          -1.06,
          -0.5,
          -2.36,
          -2.31,
          -6.07,
          0.0,
          8.5,
          7.24,
          2.58,
          -0.23,
          -1.44,
          0.31,
          -2.74,
          -3.37,
          -4.98,
          -5.87,
          0.0,
          7.96,
          2.37,
          3.87,
          4.99,
          -0.66,
          1.78,
          -1.7,
          -0.64,
          -0.23,
          -3.76,
          -6.0,
          -7.94,
          0.0,
          4.05,
          4.79,
          3.84,
          5.48,
          2.06,
          5.35,
          -0.83,
          -1.53,
          -0.3,
          -2.11,
          -2.79,
          -4.68,
          -5.07,
          -8.26,
          0.0,
          8.42,
          4.25,
          1.94,
          0.31,
          1.76,
          3.32,
          -1.66,
          -1.71,
          -2.55,
          -2.43,
          -1.6,
          -2.94,
          -4.15,
          -2.95,
          0.0,
          11.92,
          5.05,
          5.47,
          3.27,
          2.33,
          1.81,
          -0.33,
          2.3,
          0.91,
          -0.83,
          0.21,
          -1.53,
          -1.3,
          -2.96,
          -6.2,
          -8.02,
          -12.04,
          0.0,
          11.65,
          10.7,
          7.91,
          4.38,
          0.92,
          5.57,
          2.28,
          0.86,
          -1.26,
          -1.94,
          -1.22,
          -4.13,
          -3.44,
          -6.11,
          -7.9,
          -9.44,
          -8.84,
          0.0,
          7.35,
          7.84,
          8.16,
          6.07,
          2.85,
          3.43,
          3.12,
          -0.15,
          0.54,
          -0.96,
          -2.36,
          -1.81,
          -2.64,
          -5.33,
          -5.67,
          -8.85,
          -11.5,
          0.01,
          7.61,
          3.42,
          3.2,
          4.02,
          2.42,
          0.85,
          1.19,
          2.42,
          -0.19,
          -2.29,
          -1.47,
          -3.24,
          -0.34,
          -3.2,
          -4.16,
          -4.3,
          -5.94,
          0.0,
          6.53,
          5.4,
          2.16,
          2.86,
          2.88,
          -0.16,
          -1.19,
          0.84,
          -0.92,
          -0.31,
          -1.19,
          0.27,
          0.25,
          -2.6,
          -2.36,
          -1.32,
          -3.94,
          -7.3,
          -0.01,
          6.23,
          2.25,
          2.34,
          2.2,
          0.33,
          0.85,
          -0.15,
          0.59,
          0.18,
          -0.71,
          -1.55,
          -1.05,
          -0.74,
          -1.11,
          -1.18,
          -2.83,
          -2.66,
          -2.89,
          0.01,
          2.64,
          3.78,
          4.95,
          1.44,
          5.39,
          0.9,
          3.1,
          0.92,
          -1.9,
          0.53,
          -1.0,
          1.08,
          0.93,
          0.01,
          -1.43,
          -1.68,
          -2.68,
          0.64,
          -3.87,
          -2.99,
          -4.28,
          -6.54,
          0.0,
          5.92,
          4.87,
          3.2,
          3.5,
          0.8,
          1.48,
          2.59,
          -0.59,
          0.82,
          -0.53,
          0.44,
          0.41,
          -0.13,
          -0.79,
          -1.8,
          -1.22,
          -1.86,
          -2.37,
          -1.76,
          -3.83,
          -3.55,
          -5.61,
          0.0,
          4.75,
          2.69,
          3.55,
          4.97,
          2.73,
          1.74,
          0.92,
          2.95,
          1.24,
          1.92,
          1.12,
          -1.76,
          -1.41,
          2.12,
          0.46,
          -4.0,
          -3.29,
          -3.78,
          -2.6,
          -3.57,
          -4.78,
          -5.97,
          0.0
         ],
         "y": [
          null,
          null,
          null,
          null,
          null,
          null,
          null,
          null,
          null,
          null,
          null,
          null,
          null,
          null,
          null,
          null,
          null,
          null,
          94.8,
          92.3,
          99.3,
          95.9,
          94.8,
          98.1,
          102.4,
          96.4,
          103.9,
          96.8,
          97.1,
          97.4,
          92.7,
          96.1,
          97.2,
          100.0,
          94.9,
          96.7,
          95.5,
          90.1,
          97.3,
          90.7,
          95.1,
          93.7,
          92.8,
          93.1,
          94.7,
          94.1,
          91.1,
          86.3,
          88.4,
          95.2,
          94.7,
          92.4,
          93.5,
          90.9,
          87.4,
          93.0,
          93.5,
          86.9,
          89.4,
          84.2,
          91.3,
          90.0,
          100.7,
          103.6,
          105.5,
          101.8,
          108.6,
          102.9,
          99.5,
          100.5,
          null,
          102.9,
          108.5,
          114.5,
          103.2,
          106.5,
          108.5,
          108.0,
          109.4,
          111.7,
          108.8,
          118.0,
          112.3,
          108.0,
          110.5,
          114.8,
          108.3,
          107.7,
          109.4,
          111.1,
          124.8,
          119.5,
          119.1,
          117.8,
          121.5,
          118.8,
          117.3,
          118.8,
          119.7,
          128.7,
          115.6,
          118.0,
          121.0,
          115.5,
          118.4,
          117.8,
          116.4,
          118.9,
          136.3,
          133.3,
          120.0,
          127.2,
          123.1,
          125.9,
          121.2,
          121.6,
          126.1,
          134.4,
          129.1,
          132.0,
          129.1,
          124.9,
          126.0,
          122.8,
          122.9,
          127.7,
          130.8,
          123.3,
          131.1,
          124.9,
          128.8,
          124.1,
          124.6,
          125.6,
          122.9,
          126.2,
          127.3,
          117.8,
          123.3,
          115.6,
          119.0,
          120.3,
          123.2,
          112.2,
          117.5,
          119.6,
          125.0,
          115.9,
          115.1,
          114.6,
          111.6,
          119.4,
          117.0,
          115.9,
          117.1,
          116.8,
          123.6,
          113.9,
          115.8,
          115.1,
          119.1,
          116.2,
          119.2,
          113.5,
          119.7,
          117.3,
          122.8,
          122.0,
          121.2,
          120.4,
          123.1,
          116.6,
          124.6,
          118.9,
          123.4,
          121.4,
          122.9,
          121.2,
          127.4,
          118.6,
          117.7,
          123.0,
          118.5,
          122.2,
          121.5,
          123.0,
          121.6,
          124.3,
          113.7,
          121.1,
          118.1,
          123.6,
          117.2,
          122.0,
          114.6,
          121.5,
          115.7,
          123.9,
          121.9,
          119.8,
          121.8,
          120.4,
          112.6,
          112.4,
          113.9,
          117.5,
          113.6,
          117.1,
          123.8,
          113.4,
          116.8,
          117.4,
          117.5,
          118.4,
          116.9,
          114.3,
          115.8,
          121.0,
          114.4,
          113.9,
          120.9,
          116.7,
          116.5,
          118.5,
          116.4,
          117.5,
          111.6,
          116.3,
          125.1,
          117.1,
          113.4,
          112.2,
          109.7,
          115.7,
          115.3,
          115.7,
          111.3,
          120.2,
          116.5,
          113.5,
          118.5,
          116.5,
          117.2,
          118.5,
          120.6,
          111.9,
          110.6,
          115.1,
          116.9,
          111.2,
          108.6,
          116.1,
          113.0,
          113.7,
          108.0,
          110.5,
          110.5,
          110.7,
          114.7,
          109.5,
          115.8,
          112.8,
          111.5,
          108.3,
          112.3,
          112.0,
          114.5,
          108.3,
          112.0,
          105.9,
          108.7,
          104.5,
          112.2,
          113.8,
          111.5,
          113.0,
          107.3,
          115.2,
          108.3,
          110.0,
          110.4,
          110.9,
          115.2,
          110.7,
          105.4,
          110.0,
          105.0,
          106.5,
          103.5,
          111.7,
          106.3,
          108.9,
          111.6,
          110.2,
          110.8,
          106.1,
          106.1,
          109.6,
          104.1,
          108.5,
          108.3,
          107.8,
          106.1,
          106.1,
          107.7,
          107.6,
          99.7,
          104.4,
          105.5,
          102.9,
          103.1,
          100.4,
          100.5,
          104.7,
          102.1,
          103.4,
          104.3,
          106.3,
          106.4,
          109.4,
          104.5,
          108.3,
          106.9,
          101.6,
          104.3,
          107.5,
          108.2,
          107.7,
          105.6,
          108.0,
          104.7,
          103.9,
          104.1,
          106.7,
          107.7,
          105.2,
          105.7,
          103.6,
          100.3,
          105.5,
          104.7,
          108.3,
          111.2,
          101.3,
          108.0,
          105.9,
          107.8,
          100.0,
          107.5,
          111.8,
          108.8,
          101.5,
          106.4,
          108.1,
          106.8,
          107.1,
          107.2,
          106.6,
          104.6,
          108.3,
          107.3,
          103.7,
          106.5,
          104.2,
          108.4,
          109.0,
          111.4,
          108.5,
          104.8,
          106.1,
          108.7,
          108.1,
          109.7,
          103.5,
          106.0,
          103.3,
          101.5,
          108.3,
          107.7,
          105.9,
          108.2,
          108.2,
          101.3,
          104.3,
          110.9,
          106.7,
          106.5,
          103.4,
          108.5,
          110.6,
          107.3,
          106.7,
          103.8,
          105.9,
          105.9,
          102.5,
          103.4,
          106.3,
          105.3,
          106.5,
          102.2,
          109.5,
          104.9,
          102.9,
          107.2,
          102.7,
          106.5,
          108.6,
          105.8
         ],
         "z": [
          0.429,
          0.427,
          0.447,
          0.428,
          0.389,
          0.397,
          0.441,
          0.384,
          0.405,
          0.407,
          0.377,
          0.415,
          0.385,
          0.422,
          0.404,
          0.425,
          0.397,
          0.41,
          0.436,
          0.452,
          0.425,
          0.441,
          0.445,
          0.435,
          0.41,
          0.42,
          0.403,
          0.421,
          0.416,
          0.428,
          0.465,
          0.451,
          0.429,
          0.459,
          0.449,
          0.429,
          0.453,
          0.431,
          0.416,
          0.402,
          0.438,
          0.457,
          0.459,
          0.46,
          0.467,
          0.455,
          0.442,
          0.427,
          0.423,
          0.439,
          0.422,
          0.445,
          0.438,
          0.438,
          0.452,
          0.471,
          0.446,
          0.451,
          0.438,
          0.416,
          0.43,
          0.442,
          0.464,
          0.442,
          0.455,
          0.458,
          0.473,
          0.454,
          0.461,
          0.436,
          null,
          0.455,
          0.483,
          0.469,
          0.461,
          0.47,
          0.444,
          0.464,
          0.443,
          0.43,
          0.458,
          0.448,
          0.445,
          0.469,
          0.459,
          0.447,
          0.451,
          0.45,
          0.428,
          0.449,
          0.445,
          0.455,
          0.455,
          0.446,
          0.466,
          0.445,
          0.437,
          0.444,
          0.449,
          0.453,
          0.476,
          0.473,
          0.471,
          0.461,
          0.438,
          0.447,
          0.443,
          0.457,
          0.463,
          0.451,
          0.481,
          0.474,
          0.456,
          0.475,
          0.444,
          0.465,
          0.463,
          0.449,
          0.465,
          0.466,
          0.477,
          0.462,
          0.479,
          0.49,
          0.468,
          0.469,
          0.47,
          0.487,
          0.485,
          0.506,
          0.476,
          0.474,
          0.487,
          0.465,
          0.458,
          0.479,
          0.475,
          0.5,
          0.506,
          0.486,
          0.513,
          0.482,
          0.49,
          0.503,
          0.479,
          0.493,
          0.458,
          0.51,
          0.477,
          0.488,
          0.503,
          0.479,
          0.488,
          0.472,
          0.491,
          0.485,
          0.463,
          0.5,
          0.504,
          0.483,
          0.481,
          0.498,
          0.461,
          0.477,
          0.446,
          0.479,
          0.49,
          0.47,
          0.505,
          0.501,
          0.492,
          0.49,
          0.473,
          0.504,
          0.455,
          0.487,
          0.528,
          0.502,
          0.488,
          0.506,
          0.494,
          0.501,
          0.505,
          0.471,
          0.463,
          0.477,
          0.493,
          0.509,
          0.507,
          0.492,
          0.528,
          0.481,
          0.506,
          0.498,
          0.523,
          0.494,
          0.481,
          0.49,
          0.468,
          0.498,
          0.488,
          0.506,
          0.511,
          0.507,
          0.503,
          0.48,
          0.518,
          0.47,
          0.474,
          0.469,
          0.502,
          0.486,
          0.48,
          0.48,
          0.491,
          0.52,
          0.531,
          0.509,
          0.531,
          0.512,
          0.52,
          0.526,
          0.502,
          0.505,
          0.516,
          0.5,
          0.518,
          0.485,
          0.483,
          0.511,
          0.549,
          0.495,
          0.512,
          0.52,
          0.498,
          0.504,
          0.504,
          0.491,
          0.491,
          0.499,
          0.478,
          0.509,
          0.514,
          0.499,
          0.486,
          0.483,
          0.474,
          0.5,
          0.537,
          0.54,
          0.504,
          0.5,
          0.492,
          0.518,
          0.506,
          0.519,
          0.499,
          0.512,
          0.481,
          0.512,
          0.495,
          0.506,
          0.475,
          0.49,
          0.49,
          0.504,
          0.49,
          0.514,
          0.52,
          0.505,
          0.497,
          0.488,
          0.496,
          0.505,
          0.507,
          0.508,
          0.52,
          0.503,
          0.478,
          0.494,
          0.496,
          0.484,
          0.464,
          0.498,
          0.527,
          0.503,
          0.498,
          0.505,
          0.504,
          0.504,
          0.48,
          0.506,
          0.524,
          0.489,
          0.51,
          0.506,
          0.528,
          0.508,
          0.48,
          0.509,
          0.48,
          0.503,
          0.501,
          0.502,
          0.523,
          0.504,
          0.499,
          0.505,
          0.496,
          0.524,
          0.494,
          0.498,
          0.512,
          0.525,
          0.507,
          0.488,
          0.489,
          0.485,
          0.495,
          0.489,
          0.502,
          0.504,
          0.493,
          0.49,
          0.513,
          0.494,
          0.527,
          0.499,
          0.521,
          0.511,
          0.531,
          0.503,
          0.499,
          0.499,
          0.512,
          0.506,
          0.504,
          0.499,
          0.464,
          0.504,
          0.515,
          0.53,
          0.531,
          0.529,
          0.53,
          0.51,
          0.518,
          0.498,
          0.491,
          0.538,
          0.518,
          0.489,
          0.509,
          0.527,
          0.491,
          0.495,
          0.501,
          0.519,
          0.508,
          0.508,
          0.502,
          0.478,
          0.511,
          0.528,
          0.539,
          0.547,
          0.52,
          0.531,
          0.489,
          0.526,
          0.52,
          0.506,
          0.528,
          0.496,
          0.507,
          0.514,
          0.524,
          0.505,
          0.524,
          0.505,
          0.5,
          0.514,
          0.499,
          0.518,
          0.485,
          0.515,
          0.527,
          0.514,
          0.555,
          0.554,
          0.533,
          0.535,
          0.545,
          0.557,
          0.53,
          0.525,
          0.53,
          0.528,
          0.521,
          0.54,
          0.521,
          0.509,
          0.52,
          0.532,
          0.513,
          0.512,
          0.53,
          0.518,
          0.53
         ],
         "type": "scatter3d"
        }
       ],
       "layout": {
        "template": {
         "data": {
          "bar": [
           {
            "error_x": {
             "color": "#2a3f5f"
            },
            "error_y": {
             "color": "#2a3f5f"
            },
            "marker": {
             "line": {
              "color": "#E5ECF6",
              "width": 0.5
             },
             "pattern": {
              "fillmode": "overlay",
              "size": 10,
              "solidity": 0.2
             }
            },
            "type": "bar"
           }
          ],
          "barpolar": [
           {
            "marker": {
             "line": {
              "color": "#E5ECF6",
              "width": 0.5
             },
             "pattern": {
              "fillmode": "overlay",
              "size": 10,
              "solidity": 0.2
             }
            },
            "type": "barpolar"
           }
          ],
          "carpet": [
           {
            "aaxis": {
             "endlinecolor": "#2a3f5f",
             "gridcolor": "white",
             "linecolor": "white",
             "minorgridcolor": "white",
             "startlinecolor": "#2a3f5f"
            },
            "baxis": {
             "endlinecolor": "#2a3f5f",
             "gridcolor": "white",
             "linecolor": "white",
             "minorgridcolor": "white",
             "startlinecolor": "#2a3f5f"
            },
            "type": "carpet"
           }
          ],
          "choropleth": [
           {
            "colorbar": {
             "outlinewidth": 0,
             "ticks": ""
            },
            "type": "choropleth"
           }
          ],
          "contour": [
           {
            "colorbar": {
             "outlinewidth": 0,
             "ticks": ""
            },
            "colorscale": [
             [
              0.0,
              "#0d0887"
             ],
             [
              0.1111111111111111,
              "#46039f"
             ],
             [
              0.2222222222222222,
              "#7201a8"
             ],
             [
              0.3333333333333333,
              "#9c179e"
             ],
             [
              0.4444444444444444,
              "#bd3786"
             ],
             [
              0.5555555555555556,
              "#d8576b"
             ],
             [
              0.6666666666666666,
              "#ed7953"
             ],
             [
              0.7777777777777778,
              "#fb9f3a"
             ],
             [
              0.8888888888888888,
              "#fdca26"
             ],
             [
              1.0,
              "#f0f921"
             ]
            ],
            "type": "contour"
           }
          ],
          "contourcarpet": [
           {
            "colorbar": {
             "outlinewidth": 0,
             "ticks": ""
            },
            "type": "contourcarpet"
           }
          ],
          "heatmap": [
           {
            "colorbar": {
             "outlinewidth": 0,
             "ticks": ""
            },
            "colorscale": [
             [
              0.0,
              "#0d0887"
             ],
             [
              0.1111111111111111,
              "#46039f"
             ],
             [
              0.2222222222222222,
              "#7201a8"
             ],
             [
              0.3333333333333333,
              "#9c179e"
             ],
             [
              0.4444444444444444,
              "#bd3786"
             ],
             [
              0.5555555555555556,
              "#d8576b"
             ],
             [
              0.6666666666666666,
              "#ed7953"
             ],
             [
              0.7777777777777778,
              "#fb9f3a"
             ],
             [
              0.8888888888888888,
              "#fdca26"
             ],
             [
              1.0,
              "#f0f921"
             ]
            ],
            "type": "heatmap"
           }
          ],
          "heatmapgl": [
           {
            "colorbar": {
             "outlinewidth": 0,
             "ticks": ""
            },
            "colorscale": [
             [
              0.0,
              "#0d0887"
             ],
             [
              0.1111111111111111,
              "#46039f"
             ],
             [
              0.2222222222222222,
              "#7201a8"
             ],
             [
              0.3333333333333333,
              "#9c179e"
             ],
             [
              0.4444444444444444,
              "#bd3786"
             ],
             [
              0.5555555555555556,
              "#d8576b"
             ],
             [
              0.6666666666666666,
              "#ed7953"
             ],
             [
              0.7777777777777778,
              "#fb9f3a"
             ],
             [
              0.8888888888888888,
              "#fdca26"
             ],
             [
              1.0,
              "#f0f921"
             ]
            ],
            "type": "heatmapgl"
           }
          ],
          "histogram": [
           {
            "marker": {
             "pattern": {
              "fillmode": "overlay",
              "size": 10,
              "solidity": 0.2
             }
            },
            "type": "histogram"
           }
          ],
          "histogram2d": [
           {
            "colorbar": {
             "outlinewidth": 0,
             "ticks": ""
            },
            "colorscale": [
             [
              0.0,
              "#0d0887"
             ],
             [
              0.1111111111111111,
              "#46039f"
             ],
             [
              0.2222222222222222,
              "#7201a8"
             ],
             [
              0.3333333333333333,
              "#9c179e"
             ],
             [
              0.4444444444444444,
              "#bd3786"
             ],
             [
              0.5555555555555556,
              "#d8576b"
             ],
             [
              0.6666666666666666,
              "#ed7953"
             ],
             [
              0.7777777777777778,
              "#fb9f3a"
             ],
             [
              0.8888888888888888,
              "#fdca26"
             ],
             [
              1.0,
              "#f0f921"
             ]
            ],
            "type": "histogram2d"
           }
          ],
          "histogram2dcontour": [
           {
            "colorbar": {
             "outlinewidth": 0,
             "ticks": ""
            },
            "colorscale": [
             [
              0.0,
              "#0d0887"
             ],
             [
              0.1111111111111111,
              "#46039f"
             ],
             [
              0.2222222222222222,
              "#7201a8"
             ],
             [
              0.3333333333333333,
              "#9c179e"
             ],
             [
              0.4444444444444444,
              "#bd3786"
             ],
             [
              0.5555555555555556,
              "#d8576b"
             ],
             [
              0.6666666666666666,
              "#ed7953"
             ],
             [
              0.7777777777777778,
              "#fb9f3a"
             ],
             [
              0.8888888888888888,
              "#fdca26"
             ],
             [
              1.0,
              "#f0f921"
             ]
            ],
            "type": "histogram2dcontour"
           }
          ],
          "mesh3d": [
           {
            "colorbar": {
             "outlinewidth": 0,
             "ticks": ""
            },
            "type": "mesh3d"
           }
          ],
          "parcoords": [
           {
            "line": {
             "colorbar": {
              "outlinewidth": 0,
              "ticks": ""
             }
            },
            "type": "parcoords"
           }
          ],
          "pie": [
           {
            "automargin": true,
            "type": "pie"
           }
          ],
          "scatter": [
           {
            "marker": {
             "colorbar": {
              "outlinewidth": 0,
              "ticks": ""
             }
            },
            "type": "scatter"
           }
          ],
          "scatter3d": [
           {
            "line": {
             "colorbar": {
              "outlinewidth": 0,
              "ticks": ""
             }
            },
            "marker": {
             "colorbar": {
              "outlinewidth": 0,
              "ticks": ""
             }
            },
            "type": "scatter3d"
           }
          ],
          "scattercarpet": [
           {
            "marker": {
             "colorbar": {
              "outlinewidth": 0,
              "ticks": ""
             }
            },
            "type": "scattercarpet"
           }
          ],
          "scattergeo": [
           {
            "marker": {
             "colorbar": {
              "outlinewidth": 0,
              "ticks": ""
             }
            },
            "type": "scattergeo"
           }
          ],
          "scattergl": [
           {
            "marker": {
             "colorbar": {
              "outlinewidth": 0,
              "ticks": ""
             }
            },
            "type": "scattergl"
           }
          ],
          "scattermapbox": [
           {
            "marker": {
             "colorbar": {
              "outlinewidth": 0,
              "ticks": ""
             }
            },
            "type": "scattermapbox"
           }
          ],
          "scatterpolar": [
           {
            "marker": {
             "colorbar": {
              "outlinewidth": 0,
              "ticks": ""
             }
            },
            "type": "scatterpolar"
           }
          ],
          "scatterpolargl": [
           {
            "marker": {
             "colorbar": {
              "outlinewidth": 0,
              "ticks": ""
             }
            },
            "type": "scatterpolargl"
           }
          ],
          "scatterternary": [
           {
            "marker": {
             "colorbar": {
              "outlinewidth": 0,
              "ticks": ""
             }
            },
            "type": "scatterternary"
           }
          ],
          "surface": [
           {
            "colorbar": {
             "outlinewidth": 0,
             "ticks": ""
            },
            "colorscale": [
             [
              0.0,
              "#0d0887"
             ],
             [
              0.1111111111111111,
              "#46039f"
             ],
             [
              0.2222222222222222,
              "#7201a8"
             ],
             [
              0.3333333333333333,
              "#9c179e"
             ],
             [
              0.4444444444444444,
              "#bd3786"
             ],
             [
              0.5555555555555556,
              "#d8576b"
             ],
             [
              0.6666666666666666,
              "#ed7953"
             ],
             [
              0.7777777777777778,
              "#fb9f3a"
             ],
             [
              0.8888888888888888,
              "#fdca26"
             ],
             [
              1.0,
              "#f0f921"
             ]
            ],
            "type": "surface"
           }
          ],
          "table": [
           {
            "cells": {
             "fill": {
              "color": "#EBF0F8"
             },
             "line": {
              "color": "white"
             }
            },
            "header": {
             "fill": {
              "color": "#C8D4E3"
             },
             "line": {
              "color": "white"
             }
            },
            "type": "table"
           }
          ]
         },
         "layout": {
          "annotationdefaults": {
           "arrowcolor": "#2a3f5f",
           "arrowhead": 0,
           "arrowwidth": 1
          },
          "autotypenumbers": "strict",
          "coloraxis": {
           "colorbar": {
            "outlinewidth": 0,
            "ticks": ""
           }
          },
          "colorscale": {
           "diverging": [
            [
             0,
             "#8e0152"
            ],
            [
             0.1,
             "#c51b7d"
            ],
            [
             0.2,
             "#de77ae"
            ],
            [
             0.3,
             "#f1b6da"
            ],
            [
             0.4,
             "#fde0ef"
            ],
            [
             0.5,
             "#f7f7f7"
            ],
            [
             0.6,
             "#e6f5d0"
            ],
            [
             0.7,
             "#b8e186"
            ],
            [
             0.8,
             "#7fbc41"
            ],
            [
             0.9,
             "#4d9221"
            ],
            [
             1,
             "#276419"
            ]
           ],
           "sequential": [
            [
             0.0,
             "#0d0887"
            ],
            [
             0.1111111111111111,
             "#46039f"
            ],
            [
             0.2222222222222222,
             "#7201a8"
            ],
            [
             0.3333333333333333,
             "#9c179e"
            ],
            [
             0.4444444444444444,
             "#bd3786"
            ],
            [
             0.5555555555555556,
             "#d8576b"
            ],
            [
             0.6666666666666666,
             "#ed7953"
            ],
            [
             0.7777777777777778,
             "#fb9f3a"
            ],
            [
             0.8888888888888888,
             "#fdca26"
            ],
            [
             1.0,
             "#f0f921"
            ]
           ],
           "sequentialminus": [
            [
             0.0,
             "#0d0887"
            ],
            [
             0.1111111111111111,
             "#46039f"
            ],
            [
             0.2222222222222222,
             "#7201a8"
            ],
            [
             0.3333333333333333,
             "#9c179e"
            ],
            [
             0.4444444444444444,
             "#bd3786"
            ],
            [
             0.5555555555555556,
             "#d8576b"
            ],
            [
             0.6666666666666666,
             "#ed7953"
            ],
            [
             0.7777777777777778,
             "#fb9f3a"
            ],
            [
             0.8888888888888888,
             "#fdca26"
            ],
            [
             1.0,
             "#f0f921"
            ]
           ]
          },
          "colorway": [
           "#636efa",
           "#EF553B",
           "#00cc96",
           "#ab63fa",
           "#FFA15A",
           "#19d3f3",
           "#FF6692",
           "#B6E880",
           "#FF97FF",
           "#FECB52"
          ],
          "font": {
           "color": "#2a3f5f"
          },
          "geo": {
           "bgcolor": "white",
           "lakecolor": "white",
           "landcolor": "#E5ECF6",
           "showlakes": true,
           "showland": true,
           "subunitcolor": "white"
          },
          "hoverlabel": {
           "align": "left"
          },
          "hovermode": "closest",
          "mapbox": {
           "style": "light"
          },
          "paper_bgcolor": "white",
          "plot_bgcolor": "#E5ECF6",
          "polar": {
           "angularaxis": {
            "gridcolor": "white",
            "linecolor": "white",
            "ticks": ""
           },
           "bgcolor": "#E5ECF6",
           "radialaxis": {
            "gridcolor": "white",
            "linecolor": "white",
            "ticks": ""
           }
          },
          "scene": {
           "xaxis": {
            "backgroundcolor": "#E5ECF6",
            "gridcolor": "white",
            "gridwidth": 2,
            "linecolor": "white",
            "showbackground": true,
            "ticks": "",
            "zerolinecolor": "white"
           },
           "yaxis": {
            "backgroundcolor": "#E5ECF6",
            "gridcolor": "white",
            "gridwidth": 2,
            "linecolor": "white",
            "showbackground": true,
            "ticks": "",
            "zerolinecolor": "white"
           },
           "zaxis": {
            "backgroundcolor": "#E5ECF6",
            "gridcolor": "white",
            "gridwidth": 2,
            "linecolor": "white",
            "showbackground": true,
            "ticks": "",
            "zerolinecolor": "white"
           }
          },
          "shapedefaults": {
           "line": {
            "color": "#2a3f5f"
           }
          },
          "ternary": {
           "aaxis": {
            "gridcolor": "white",
            "linecolor": "white",
            "ticks": ""
           },
           "baxis": {
            "gridcolor": "white",
            "linecolor": "white",
            "ticks": ""
           },
           "bgcolor": "#E5ECF6",
           "caxis": {
            "gridcolor": "white",
            "linecolor": "white",
            "ticks": ""
           }
          },
          "title": {
           "x": 0.05
          },
          "xaxis": {
           "automargin": true,
           "gridcolor": "white",
           "linecolor": "white",
           "ticks": "",
           "title": {
            "standoff": 15
           },
           "zerolinecolor": "white",
           "zerolinewidth": 2
          },
          "yaxis": {
           "automargin": true,
           "gridcolor": "white",
           "linecolor": "white",
           "ticks": "",
           "title": {
            "standoff": 15
           },
           "zerolinecolor": "white",
           "zerolinewidth": 2
          }
         }
        },
        "scene": {
         "domain": {
          "x": [
           0.0,
           1.0
          ],
          "y": [
           0.0,
           1.0
          ]
         },
         "xaxis": {
          "title": {
           "text": "SRS"
          }
         },
         "yaxis": {
          "title": {
           "text": "Pace"
          }
         },
         "zaxis": {
          "title": {
           "text": "TS%"
          }
         }
        },
        "coloraxis": {
         "colorbar": {
          "title": {
           "text": "Year"
          }
         },
         "colorscale": [
          [
           0.0,
           "#0d0887"
          ],
          [
           0.1111111111111111,
           "#46039f"
          ],
          [
           0.2222222222222222,
           "#7201a8"
          ],
          [
           0.3333333333333333,
           "#9c179e"
          ],
          [
           0.4444444444444444,
           "#bd3786"
          ],
          [
           0.5555555555555556,
           "#d8576b"
          ],
          [
           0.6666666666666666,
           "#ed7953"
          ],
          [
           0.7777777777777778,
           "#fb9f3a"
          ],
          [
           0.8888888888888888,
           "#fdca26"
          ],
          [
           1.0,
           "#f0f921"
          ]
         ]
        },
        "legend": {
         "tracegroupgap": 0
        },
        "margin": {
         "t": 60
        }
       },
       "config": {
        "plotlyServerURL": "https://plot.ly"
       }
      },
      "text/html": "<div>                            <div id=\"4fc695fd-3eb6-4c50-9792-ea10e2a70f39\" class=\"plotly-graph-div\" style=\"height:525px; width:100%;\"></div>            <script type=\"text/javascript\">                require([\"plotly\"], function(Plotly) {                    window.PLOTLYENV=window.PLOTLYENV || {};                                    if (document.getElementById(\"4fc695fd-3eb6-4c50-9792-ea10e2a70f39\")) {                    Plotly.newPlot(                        \"4fc695fd-3eb6-4c50-9792-ea10e2a70f39\",                        [{\"customdata\":[[\"Syracuse Nationals*\",1950.0],[\"Minneapolis Lakers*\",1950.0],[\"Rochester Royals*\",1950.0],[\"New York Knicks*\",1950.0],[\"Fort Wayne Pistons*\",1950.0],[\"Chicago Stags*\",1950.0],[\"Indianapolis Olympians*\",1950.0],[\"Anderson Packers*\",1950.0],[\"Washington Capitols*\",1950.0],[\"Tri-Cities Blackhawks*\",1950.0],[\"Philadelphia Warriors*\",1950.0],[\"St. Louis Bombers\",1950.0],[\"Baltimore Bullets\",1950.0],[\"Sheboygan Red Skins*\",1950.0],[\"Boston Celtics\",1950.0],[\"Waterloo Hawks\",1950.0],[\"Denver Nuggets\",1950.0],[\"League Average 1950\",1950.0],[\"Minneapolis Lakers*\",1951.0],[\"Rochester Royals*\",1951.0],[\"Philadelphia Warriors*\",1951.0],[\"Boston Celtics*\",1951.0],[\"New York Knicks*\",1951.0],[\"Syracuse Nationals*\",1951.0],[\"Fort Wayne Pistons*\",1951.0],[\"Indianapolis Olympians*\",1951.0],[\"Tri-Cities Blackhawks\",1951.0],[\"Baltimore Bullets\",1951.0],[\"Washington Capitols\",1951.0],[\"League Average 1951\",1951.0],[\"Rochester Royals*\",1952.0],[\"Syracuse Nationals*\",1952.0],[\"Minneapolis Lakers*\",1952.0],[\"Boston Celtics*\",1952.0],[\"New York Knicks*\",1952.0],[\"Indianapolis Olympians*\",1952.0],[\"Philadelphia Warriors*\",1952.0],[\"Fort Wayne Pistons*\",1952.0],[\"Baltimore Bullets\",1952.0],[\"Milwaukee Hawks\",1952.0],[\"League Average 1952\",1952.0],[\"Minneapolis Lakers*\",1953.0],[\"Syracuse Nationals*\",1953.0],[\"New York Knicks*\",1953.0],[\"Boston Celtics*\",1953.0],[\"Rochester Royals*\",1953.0],[\"Fort Wayne Pistons*\",1953.0],[\"Indianapolis Olympians*\",1953.0],[\"Milwaukee Hawks\",1953.0],[\"Baltimore Bullets*\",1953.0],[\"Philadelphia Warriors\",1953.0],[\"League Average 1953\",1953.0],[\"Minneapolis Lakers*\",1954.0],[\"Rochester Royals*\",1954.0],[\"New York Knicks*\",1954.0],[\"Boston Celtics*\",1954.0],[\"Syracuse Nationals*\",1954.0],[\"Fort Wayne Pistons*\",1954.0],[\"Philadelphia Warriors\",1954.0],[\"Milwaukee Hawks\",1954.0],[\"Baltimore Bullets\",1954.0],[\"League Average 1954\",1954.0],[\"Fort Wayne Pistons*\",1955.0],[\"Syracuse Nationals*\",1955.0],[\"Minneapolis Lakers*\",1955.0],[\"New York Knicks*\",1955.0],[\"Boston Celtics*\",1955.0],[\"Philadelphia Warriors\",1955.0],[\"Rochester Royals*\",1955.0],[\"Milwaukee Hawks\",1955.0],[\"Baltimore Bullets\",1955.0],[\"League Average 1955\",1955.0],[\"Philadelphia Warriors*\",1956.0],[\"Boston Celtics*\",1956.0],[\"Fort Wayne Pistons*\",1956.0],[\"New York Knicks*\",1956.0],[\"Syracuse Nationals*\",1956.0],[\"Minneapolis Lakers*\",1956.0],[\"St. Louis Hawks*\",1956.0],[\"Rochester Royals\",1956.0],[\"League Average 1956\",1956.0],[\"Boston Celtics*\",1957.0],[\"Syracuse Nationals*\",1957.0],[\"Philadelphia Warriors*\",1957.0],[\"New York Knicks\",1957.0],[\"Minneapolis Lakers*\",1957.0],[\"St. Louis Hawks*\",1957.0],[\"Fort Wayne Pistons*\",1957.0],[\"Rochester Royals\",1957.0],[\"League Average 1957\",1957.0],[\"Boston Celtics*\",1958.0],[\"St. Louis Hawks*\",1958.0],[\"Syracuse Nationals*\",1958.0],[\"Philadelphia Warriors*\",1958.0],[\"New York Knicks\",1958.0],[\"Detroit Pistons*\",1958.0],[\"Cincinnati Royals*\",1958.0],[\"Minneapolis Lakers\",1958.0],[\"League Average 1958\",1958.0],[\"Boston Celtics*\",1959.0],[\"St. Louis Hawks*\",1959.0],[\"New York Knicks*\",1959.0],[\"Syracuse Nationals*\",1959.0],[\"Minneapolis Lakers*\",1959.0],[\"Philadelphia Warriors\",1959.0],[\"Detroit Pistons*\",1959.0],[\"Cincinnati Royals\",1959.0],[\"League Average 1959\",1959.0],[\"Boston Celtics*\",1960.0],[\"Philadelphia Warriors*\",1960.0],[\"St. Louis Hawks*\",1960.0],[\"Syracuse Nationals*\",1960.0],[\"Detroit Pistons*\",1960.0],[\"New York Knicks\",1960.0],[\"Minneapolis Lakers*\",1960.0],[\"Cincinnati Royals\",1960.0],[\"League Average 1960\",1960.0],[\"Boston Celtics*\",1961.0],[\"St. Louis Hawks*\",1961.0],[\"Philadelphia Warriors*\",1961.0],[\"Syracuse Nationals*\",1961.0],[\"Los Angeles Lakers*\",1961.0],[\"Detroit Pistons*\",1961.0],[\"Cincinnati Royals\",1961.0],[\"New York Knicks\",1961.0],[\"League Average 1961\",1961.0],[\"Boston Celtics*\",1962.0],[\"Los Angeles Lakers*\",1962.0],[\"Philadelphia Warriors*\",1962.0],[\"Cincinnati Royals*\",1962.0],[\"Syracuse Nationals*\",1962.0],[\"Detroit Pistons*\",1962.0],[\"St. Louis Hawks\",1962.0],[\"New York Knicks\",1962.0],[\"Chicago Packers\",1962.0],[\"League Average 1962\",1962.0],[\"Boston Celtics*\",1963.0],[\"Los Angeles Lakers*\",1963.0],[\"Syracuse Nationals*\",1963.0],[\"St. Louis Hawks*\",1963.0],[\"Cincinnati Royals*\",1963.0],[\"Detroit Pistons*\",1963.0],[\"San Francisco Warriors\",1963.0],[\"Chicago Zephyrs\",1963.0],[\"New York Knicks\",1963.0],[\"League Average 1963\",1963.0],[\"Boston Celtics*\",1964.0],[\"Cincinnati Royals*\",1964.0],[\"San Francisco Warriors*\",1964.0],[\"St. Louis Hawks*\",1964.0],[\"Los Angeles Lakers*\",1964.0],[\"Philadelphia 76ers*\",1964.0],[\"Baltimore Bullets\",1964.0],[\"Detroit Pistons\",1964.0],[\"New York Knicks\",1964.0],[\"League Average 1964\",1964.0],[\"Boston Celtics*\",1965.0],[\"Los Angeles Lakers*\",1965.0],[\"Cincinnati Royals*\",1965.0],[\"St. Louis Hawks*\",1965.0],[\"Philadelphia 76ers*\",1965.0],[\"Baltimore Bullets*\",1965.0],[\"Detroit Pistons\",1965.0],[\"New York Knicks\",1965.0],[\"San Francisco Warriors\",1965.0],[\"League Average 1965\",1965.0],[\"Philadelphia 76ers*\",1966.0],[\"Boston Celtics*\",1966.0],[\"Los Angeles Lakers*\",1966.0],[\"Cincinnati Royals*\",1966.0],[\"Baltimore Bullets*\",1966.0],[\"St. Louis Hawks*\",1966.0],[\"San Francisco Warriors\",1966.0],[\"New York Knicks\",1966.0],[\"Detroit Pistons\",1966.0],[\"League Average 1966\",1966.0],[\"Philadelphia 76ers*\",1967.0],[\"Boston Celtics*\",1967.0],[\"San Francisco Warriors*\",1967.0],[\"Cincinnati Royals*\",1967.0],[\"St. Louis Hawks*\",1967.0],[\"Los Angeles Lakers*\",1967.0],[\"New York Knicks*\",1967.0],[\"Chicago Bulls*\",1967.0],[\"Detroit Pistons\",1967.0],[\"Baltimore Bullets\",1967.0],[\"League Average 1967\",1967.0],[\"Philadelphia 76ers*\",1968.0],[\"St. Louis Hawks*\",1968.0],[\"Boston Celtics*\",1968.0],[\"Los Angeles Lakers*\",1968.0],[\"San Francisco Warriors*\",1968.0],[\"New York Knicks*\",1968.0],[\"Detroit Pistons*\",1968.0],[\"Cincinnati Royals\",1968.0],[\"Baltimore Bullets\",1968.0],[\"Chicago Bulls*\",1968.0],[\"Seattle SuperSonics\",1968.0],[\"San Diego Rockets\",1968.0],[\"League Average 1968\",1968.0],[\"Baltimore Bullets*\",1969.0],[\"Philadelphia 76ers*\",1969.0],[\"Los Angeles Lakers*\",1969.0],[\"New York Knicks*\",1969.0],[\"Atlanta Hawks*\",1969.0],[\"Boston Celtics*\",1969.0],[\"Cincinnati Royals\",1969.0],[\"San Francisco Warriors*\",1969.0],[\"San Diego Rockets*\",1969.0],[\"Chicago Bulls\",1969.0],[\"Detroit Pistons\",1969.0],[\"Seattle SuperSonics\",1969.0],[\"Milwaukee Bucks\",1969.0],[\"Phoenix Suns\",1969.0],[\"League Average 1969\",1969.0],[\"New York Knicks*\",1970.0],[\"Milwaukee Bucks*\",1970.0],[\"Baltimore Bullets*\",1970.0],[\"Atlanta Hawks*\",1970.0],[\"Los Angeles Lakers*\",1970.0],[\"Philadelphia 76ers*\",1970.0],[\"Phoenix Suns*\",1970.0],[\"Chicago Bulls*\",1970.0],[\"Cincinnati Royals\",1970.0],[\"Seattle SuperSonics\",1970.0],[\"Boston Celtics\",1970.0],[\"Detroit Pistons\",1970.0],[\"San Francisco Warriors\",1970.0],[\"San Diego Rockets\",1970.0],[\"League Average 1970\",1970.0],[\"Milwaukee Bucks*\",1971.0],[\"New York Knicks*\",1971.0],[\"Chicago Bulls*\",1971.0],[\"Los Angeles Lakers*\",1971.0],[\"Phoenix Suns\",1971.0],[\"Philadelphia 76ers*\",1971.0],[\"Detroit Pistons\",1971.0],[\"Boston Celtics\",1971.0],[\"Baltimore Bullets*\",1971.0],[\"San Francisco Warriors*\",1971.0],[\"San Diego Rockets\",1971.0],[\"Seattle SuperSonics\",1971.0],[\"Atlanta Hawks*\",1971.0],[\"Cincinnati Royals\",1971.0],[\"Portland Trail Blazers\",1971.0],[\"Buffalo Braves\",1971.0],[\"Cleveland Cavaliers\",1971.0],[\"League Average 1971\",1971.0],[\"Los Angeles Lakers*\",1972.0],[\"Milwaukee Bucks*\",1972.0],[\"Chicago Bulls*\",1972.0],[\"Boston Celtics*\",1972.0],[\"Golden State Warriors*\",1972.0],[\"Phoenix Suns\",1972.0],[\"New York Knicks*\",1972.0],[\"Seattle SuperSonics\",1972.0],[\"Baltimore Bullets*\",1972.0],[\"Atlanta Hawks*\",1972.0],[\"Houston Rockets\",1972.0],[\"Cincinnati Royals\",1972.0],[\"Philadelphia 76ers\",1972.0],[\"Detroit Pistons\",1972.0],[\"Cleveland Cavaliers\",1972.0],[\"Buffalo Braves\",1972.0],[\"Portland Trail Blazers\",1972.0],[\"League Average 1972\",1972.0],[\"Boston Celtics*\",1973.0],[\"Milwaukee Bucks*\",1973.0],[\"Los Angeles Lakers*\",1973.0],[\"New York Knicks*\",1973.0],[\"Baltimore Bullets*\",1973.0],[\"Chicago Bulls*\",1973.0],[\"Golden State Warriors*\",1973.0],[\"Atlanta Hawks*\",1973.0],[\"Detroit Pistons\",1973.0],[\"Phoenix Suns\",1973.0],[\"Kansas City-Omaha Kings\",1973.0],[\"Houston Rockets\",1973.0],[\"Cleveland Cavaliers\",1973.0],[\"Seattle SuperSonics\",1973.0],[\"Portland Trail Blazers\",1973.0],[\"Buffalo Braves\",1973.0],[\"Philadelphia 76ers\",1973.0],[\"League Average 1973\",1973.0],[\"Milwaukee Bucks*\",1974.0],[\"Boston Celtics*\",1974.0],[\"Chicago Bulls*\",1974.0],[\"Detroit Pistons*\",1974.0],[\"New York Knicks*\",1974.0],[\"Los Angeles Lakers*\",1974.0],[\"Capital Bullets*\",1974.0],[\"Golden State Warriors\",1974.0],[\"Buffalo Braves*\",1974.0],[\"Seattle SuperSonics\",1974.0],[\"Atlanta Hawks\",1974.0],[\"Kansas City-Omaha Kings\",1974.0],[\"Houston Rockets\",1974.0],[\"Phoenix Suns\",1974.0],[\"Cleveland Cavaliers\",1974.0],[\"Portland Trail Blazers\",1974.0],[\"Philadelphia 76ers\",1974.0],[\"League Average 1974\",1974.0],[\"Washington Bullets*\",1975.0],[\"Boston Celtics*\",1975.0],[\"Buffalo Braves*\",1975.0],[\"Golden State Warriors*\",1975.0],[\"Chicago Bulls*\",1975.0],[\"Kansas City-Omaha Kings*\",1975.0],[\"Seattle SuperSonics*\",1975.0],[\"Houston Rockets*\",1975.0],[\"New York Knicks*\",1975.0],[\"Cleveland Cavaliers\",1975.0],[\"Detroit Pistons*\",1975.0],[\"Portland Trail Blazers\",1975.0],[\"Milwaukee Bucks\",1975.0],[\"Philadelphia 76ers\",1975.0],[\"Phoenix Suns\",1975.0],[\"Atlanta Hawks\",1975.0],[\"Los Angeles Lakers\",1975.0],[\"New Orleans Jazz\",1975.0],[\"League Average 1975\",1975.0],[\"Golden State Warriors*\",1976.0],[\"Boston Celtics*\",1976.0],[\"Cleveland Cavaliers*\",1976.0],[\"Washington Bullets*\",1976.0],[\"Philadelphia 76ers*\",1976.0],[\"Buffalo Braves*\",1976.0],[\"Seattle SuperSonics*\",1976.0],[\"Phoenix Suns*\",1976.0],[\"Los Angeles Lakers\",1976.0],[\"Houston Rockets\",1976.0],[\"Milwaukee Bucks*\",1976.0],[\"New York Knicks\",1976.0],[\"New Orleans Jazz\",1976.0],[\"Portland Trail Blazers\",1976.0],[\"Detroit Pistons*\",1976.0],[\"Kansas City Kings\",1976.0],[\"Atlanta Hawks\",1976.0],[\"Chicago Bulls\",1976.0],[\"League Average 1976\",1976.0],[\"Los Angeles Lakers*\",1977.0],[\"Philadelphia 76ers*\",1977.0],[\"Denver Nuggets*\",1977.0],[\"Houston Rockets*\",1977.0],[\"Portland Trail Blazers*\",1977.0],[\"Washington Bullets*\",1977.0],[\"Golden State Warriors*\",1977.0],[\"Chicago Bulls*\",1977.0],[\"Boston Celtics*\",1977.0],[\"San Antonio Spurs*\",1977.0],[\"Detroit Pistons*\",1977.0],[\"Cleveland Cavaliers*\",1977.0],[\"Kansas City Kings\",1977.0],[\"New York Knicks\",1977.0],[\"Seattle SuperSonics\",1977.0],[\"Indiana Pacers\",1977.0],[\"New Orleans Jazz\",1977.0],[\"Phoenix Suns\",1977.0],[\"Atlanta Hawks\",1977.0],[\"Milwaukee Bucks\",1977.0],[\"Buffalo Braves\",1977.0],[\"New York Nets\",1977.0],[\"League Average 1977\",1977.0],[\"Portland Trail Blazers*\",1978.0],[\"Philadelphia 76ers*\",1978.0],[\"San Antonio Spurs*\",1978.0],[\"Phoenix Suns*\",1978.0],[\"Denver Nuggets*\",1978.0],[\"Seattle SuperSonics*\",1978.0],[\"Los Angeles Lakers*\",1978.0],[\"Milwaukee Bucks*\",1978.0],[\"Washington Bullets*\",1978.0],[\"New York Knicks*\",1978.0],[\"Cleveland Cavaliers*\",1978.0],[\"Golden State Warriors\",1978.0],[\"Atlanta Hawks*\",1978.0],[\"Chicago Bulls\",1978.0],[\"New Orleans Jazz\",1978.0],[\"Detroit Pistons\",1978.0],[\"Boston Celtics\",1978.0],[\"Indiana Pacers\",1978.0],[\"Kansas City Kings\",1978.0],[\"Houston Rockets\",1978.0],[\"Buffalo Braves\",1978.0],[\"New Jersey Nets\",1978.0],[\"League Average 1978\",1978.0],[\"Washington Bullets*\",1979.0],[\"Seattle SuperSonics*\",1979.0],[\"Phoenix Suns*\",1979.0],[\"San Antonio Spurs*\",1979.0],[\"Kansas City Kings*\",1979.0],[\"Philadelphia 76ers*\",1979.0],[\"Houston Rockets*\",1979.0],[\"Los Angeles Lakers*\",1979.0],[\"Denver Nuggets*\",1979.0],[\"Atlanta Hawks*\",1979.0],[\"Portland Trail Blazers*\",1979.0],[\"San Diego Clippers\",1979.0],[\"Indiana Pacers\",1979.0],[\"Milwaukee Bucks\",1979.0],[\"Golden State Warriors\",1979.0],[\"New Jersey Nets*\",1979.0],[\"New York Knicks\",1979.0],[\"Chicago Bulls\",1979.0],[\"Detroit Pistons\",1979.0],[\"Cleveland Cavaliers\",1979.0],[\"Boston Celtics\",1979.0],[\"New Orleans Jazz\",1979.0],[\"League Average 1979\",1979.0]],\"hovertemplate\":\"SRS=%{x}<br>Pace=%{y}<br>TS%=%{z}<br>Team=%{customdata[0]}<br>Year=%{marker.color}<extra></extra>\",\"legendgroup\":\"\",\"marker\":{\"color\":[1950.0,1950.0,1950.0,1950.0,1950.0,1950.0,1950.0,1950.0,1950.0,1950.0,1950.0,1950.0,1950.0,1950.0,1950.0,1950.0,1950.0,1950.0,1951.0,1951.0,1951.0,1951.0,1951.0,1951.0,1951.0,1951.0,1951.0,1951.0,1951.0,1951.0,1952.0,1952.0,1952.0,1952.0,1952.0,1952.0,1952.0,1952.0,1952.0,1952.0,1952.0,1953.0,1953.0,1953.0,1953.0,1953.0,1953.0,1953.0,1953.0,1953.0,1953.0,1953.0,1954.0,1954.0,1954.0,1954.0,1954.0,1954.0,1954.0,1954.0,1954.0,1954.0,1955.0,1955.0,1955.0,1955.0,1955.0,1955.0,1955.0,1955.0,1955.0,1955.0,1956.0,1956.0,1956.0,1956.0,1956.0,1956.0,1956.0,1956.0,1956.0,1957.0,1957.0,1957.0,1957.0,1957.0,1957.0,1957.0,1957.0,1957.0,1958.0,1958.0,1958.0,1958.0,1958.0,1958.0,1958.0,1958.0,1958.0,1959.0,1959.0,1959.0,1959.0,1959.0,1959.0,1959.0,1959.0,1959.0,1960.0,1960.0,1960.0,1960.0,1960.0,1960.0,1960.0,1960.0,1960.0,1961.0,1961.0,1961.0,1961.0,1961.0,1961.0,1961.0,1961.0,1961.0,1962.0,1962.0,1962.0,1962.0,1962.0,1962.0,1962.0,1962.0,1962.0,1962.0,1963.0,1963.0,1963.0,1963.0,1963.0,1963.0,1963.0,1963.0,1963.0,1963.0,1964.0,1964.0,1964.0,1964.0,1964.0,1964.0,1964.0,1964.0,1964.0,1964.0,1965.0,1965.0,1965.0,1965.0,1965.0,1965.0,1965.0,1965.0,1965.0,1965.0,1966.0,1966.0,1966.0,1966.0,1966.0,1966.0,1966.0,1966.0,1966.0,1966.0,1967.0,1967.0,1967.0,1967.0,1967.0,1967.0,1967.0,1967.0,1967.0,1967.0,1967.0,1968.0,1968.0,1968.0,1968.0,1968.0,1968.0,1968.0,1968.0,1968.0,1968.0,1968.0,1968.0,1968.0,1969.0,1969.0,1969.0,1969.0,1969.0,1969.0,1969.0,1969.0,1969.0,1969.0,1969.0,1969.0,1969.0,1969.0,1969.0,1970.0,1970.0,1970.0,1970.0,1970.0,1970.0,1970.0,1970.0,1970.0,1970.0,1970.0,1970.0,1970.0,1970.0,1970.0,1971.0,1971.0,1971.0,1971.0,1971.0,1971.0,1971.0,1971.0,1971.0,1971.0,1971.0,1971.0,1971.0,1971.0,1971.0,1971.0,1971.0,1971.0,1972.0,1972.0,1972.0,1972.0,1972.0,1972.0,1972.0,1972.0,1972.0,1972.0,1972.0,1972.0,1972.0,1972.0,1972.0,1972.0,1972.0,1972.0,1973.0,1973.0,1973.0,1973.0,1973.0,1973.0,1973.0,1973.0,1973.0,1973.0,1973.0,1973.0,1973.0,1973.0,1973.0,1973.0,1973.0,1973.0,1974.0,1974.0,1974.0,1974.0,1974.0,1974.0,1974.0,1974.0,1974.0,1974.0,1974.0,1974.0,1974.0,1974.0,1974.0,1974.0,1974.0,1974.0,1975.0,1975.0,1975.0,1975.0,1975.0,1975.0,1975.0,1975.0,1975.0,1975.0,1975.0,1975.0,1975.0,1975.0,1975.0,1975.0,1975.0,1975.0,1975.0,1976.0,1976.0,1976.0,1976.0,1976.0,1976.0,1976.0,1976.0,1976.0,1976.0,1976.0,1976.0,1976.0,1976.0,1976.0,1976.0,1976.0,1976.0,1976.0,1977.0,1977.0,1977.0,1977.0,1977.0,1977.0,1977.0,1977.0,1977.0,1977.0,1977.0,1977.0,1977.0,1977.0,1977.0,1977.0,1977.0,1977.0,1977.0,1977.0,1977.0,1977.0,1977.0,1978.0,1978.0,1978.0,1978.0,1978.0,1978.0,1978.0,1978.0,1978.0,1978.0,1978.0,1978.0,1978.0,1978.0,1978.0,1978.0,1978.0,1978.0,1978.0,1978.0,1978.0,1978.0,1978.0,1979.0,1979.0,1979.0,1979.0,1979.0,1979.0,1979.0,1979.0,1979.0,1979.0,1979.0,1979.0,1979.0,1979.0,1979.0,1979.0,1979.0,1979.0,1979.0,1979.0,1979.0,1979.0,1979.0],\"coloraxis\":\"coloraxis\",\"symbol\":\"circle\"},\"mode\":\"markers\",\"name\":\"\",\"scene\":\"scene\",\"showlegend\":false,\"x\":[6.48,8.25,7.72,2.53,1.84,2.06,2.59,2.42,-0.28,-1.43,-2.27,-2.01,-4.55,-5.85,-1.73,-5.96,-11.31,0.0,4.79,2.54,3.4,-0.41,0.49,0.62,-1.81,-2.0,-3.22,-1.94,-4.63,0.0,2.92,3.94,5.28,3.6,0.67,0.08,-1.08,-1.83,-6.6,-7.04,-0.01,5.54,3.62,4.39,1.94,2.62,0.17,-2.3,-2.49,-5.8,-7.75,0.01,2.71,2.24,-0.16,1.97,4.27,1.45,-1.89,-4.55,-5.98,0.01,2.01,1.23,0.96,0.11,-0.03,-0.19,-1.43,-2.66,null,0.0,3.82,0.72,0.45,-0.2,0.17,-0.92,-1.42,-2.61,0.0,4.78,-1.03,1.54,0.07,-0.89,-0.27,-2.18,-2.08,-0.01,5.02,0.82,2.18,0.21,1.35,-2.32,-1.47,-5.78,0.0,5.84,2.89,0.49,3.74,-1.42,-2.29,-1.36,-7.89,0.0,7.62,2.77,1.77,2.77,-3.45,-1.43,-4.14,-5.92,0.0,4.94,2.99,0.89,1.93,-0.11,-2.11,-3.04,-5.43,0.01,8.25,1.8,2.63,1.28,2.24,-1.72,-2.96,-3.98,-7.54,0.0,6.38,2.67,3.4,1.38,1.24,-3.38,-1.86,-3.63,-6.2,0.0,6.93,4.43,4.41,1.39,0.87,-3.75,-1.59,-6.77,-5.91,0.0,7.46,1.7,2.04,2.68,-0.13,-1.97,-3.03,-3.26,-5.49,0.0,4.16,4.34,2.76,1.03,-1.06,-0.5,-2.36,-2.31,-6.07,0.0,8.5,7.24,2.58,-0.23,-1.44,0.31,-2.74,-3.37,-4.98,-5.87,0.0,7.96,2.37,3.87,4.99,-0.66,1.78,-1.7,-0.64,-0.23,-3.76,-6.0,-7.94,0.0,4.05,4.79,3.84,5.48,2.06,5.35,-0.83,-1.53,-0.3,-2.11,-2.79,-4.68,-5.07,-8.26,0.0,8.42,4.25,1.94,0.31,1.76,3.32,-1.66,-1.71,-2.55,-2.43,-1.6,-2.94,-4.15,-2.95,0.0,11.92,5.05,5.47,3.27,2.33,1.81,-0.33,2.3,0.91,-0.83,0.21,-1.53,-1.3,-2.96,-6.2,-8.02,-12.04,0.0,11.65,10.7,7.91,4.38,0.92,5.57,2.28,0.86,-1.26,-1.94,-1.22,-4.13,-3.44,-6.11,-7.9,-9.44,-8.84,0.0,7.35,7.84,8.16,6.07,2.85,3.43,3.12,-0.15,0.54,-0.96,-2.36,-1.81,-2.64,-5.33,-5.67,-8.85,-11.5,0.01,7.61,3.42,3.2,4.02,2.42,0.85,1.19,2.42,-0.19,-2.29,-1.47,-3.24,-0.34,-3.2,-4.16,-4.3,-5.94,0.0,6.53,5.4,2.16,2.86,2.88,-0.16,-1.19,0.84,-0.92,-0.31,-1.19,0.27,0.25,-2.6,-2.36,-1.32,-3.94,-7.3,-0.01,6.23,2.25,2.34,2.2,0.33,0.85,-0.15,0.59,0.18,-0.71,-1.55,-1.05,-0.74,-1.11,-1.18,-2.83,-2.66,-2.89,0.01,2.64,3.78,4.95,1.44,5.39,0.9,3.1,0.92,-1.9,0.53,-1.0,1.08,0.93,0.01,-1.43,-1.68,-2.68,0.64,-3.87,-2.99,-4.28,-6.54,0.0,5.92,4.87,3.2,3.5,0.8,1.48,2.59,-0.59,0.82,-0.53,0.44,0.41,-0.13,-0.79,-1.8,-1.22,-1.86,-2.37,-1.76,-3.83,-3.55,-5.61,0.0,4.75,2.69,3.55,4.97,2.73,1.74,0.92,2.95,1.24,1.92,1.12,-1.76,-1.41,2.12,0.46,-4.0,-3.29,-3.78,-2.6,-3.57,-4.78,-5.97,0.0],\"y\":[null,null,null,null,null,null,null,null,null,null,null,null,null,null,null,null,null,null,94.8,92.3,99.3,95.9,94.8,98.1,102.4,96.4,103.9,96.8,97.1,97.4,92.7,96.1,97.2,100.0,94.9,96.7,95.5,90.1,97.3,90.7,95.1,93.7,92.8,93.1,94.7,94.1,91.1,86.3,88.4,95.2,94.7,92.4,93.5,90.9,87.4,93.0,93.5,86.9,89.4,84.2,91.3,90.0,100.7,103.6,105.5,101.8,108.6,102.9,99.5,100.5,null,102.9,108.5,114.5,103.2,106.5,108.5,108.0,109.4,111.7,108.8,118.0,112.3,108.0,110.5,114.8,108.3,107.7,109.4,111.1,124.8,119.5,119.1,117.8,121.5,118.8,117.3,118.8,119.7,128.7,115.6,118.0,121.0,115.5,118.4,117.8,116.4,118.9,136.3,133.3,120.0,127.2,123.1,125.9,121.2,121.6,126.1,134.4,129.1,132.0,129.1,124.9,126.0,122.8,122.9,127.7,130.8,123.3,131.1,124.9,128.8,124.1,124.6,125.6,122.9,126.2,127.3,117.8,123.3,115.6,119.0,120.3,123.2,112.2,117.5,119.6,125.0,115.9,115.1,114.6,111.6,119.4,117.0,115.9,117.1,116.8,123.6,113.9,115.8,115.1,119.1,116.2,119.2,113.5,119.7,117.3,122.8,122.0,121.2,120.4,123.1,116.6,124.6,118.9,123.4,121.4,122.9,121.2,127.4,118.6,117.7,123.0,118.5,122.2,121.5,123.0,121.6,124.3,113.7,121.1,118.1,123.6,117.2,122.0,114.6,121.5,115.7,123.9,121.9,119.8,121.8,120.4,112.6,112.4,113.9,117.5,113.6,117.1,123.8,113.4,116.8,117.4,117.5,118.4,116.9,114.3,115.8,121.0,114.4,113.9,120.9,116.7,116.5,118.5,116.4,117.5,111.6,116.3,125.1,117.1,113.4,112.2,109.7,115.7,115.3,115.7,111.3,120.2,116.5,113.5,118.5,116.5,117.2,118.5,120.6,111.9,110.6,115.1,116.9,111.2,108.6,116.1,113.0,113.7,108.0,110.5,110.5,110.7,114.7,109.5,115.8,112.8,111.5,108.3,112.3,112.0,114.5,108.3,112.0,105.9,108.7,104.5,112.2,113.8,111.5,113.0,107.3,115.2,108.3,110.0,110.4,110.9,115.2,110.7,105.4,110.0,105.0,106.5,103.5,111.7,106.3,108.9,111.6,110.2,110.8,106.1,106.1,109.6,104.1,108.5,108.3,107.8,106.1,106.1,107.7,107.6,99.7,104.4,105.5,102.9,103.1,100.4,100.5,104.7,102.1,103.4,104.3,106.3,106.4,109.4,104.5,108.3,106.9,101.6,104.3,107.5,108.2,107.7,105.6,108.0,104.7,103.9,104.1,106.7,107.7,105.2,105.7,103.6,100.3,105.5,104.7,108.3,111.2,101.3,108.0,105.9,107.8,100.0,107.5,111.8,108.8,101.5,106.4,108.1,106.8,107.1,107.2,106.6,104.6,108.3,107.3,103.7,106.5,104.2,108.4,109.0,111.4,108.5,104.8,106.1,108.7,108.1,109.7,103.5,106.0,103.3,101.5,108.3,107.7,105.9,108.2,108.2,101.3,104.3,110.9,106.7,106.5,103.4,108.5,110.6,107.3,106.7,103.8,105.9,105.9,102.5,103.4,106.3,105.3,106.5,102.2,109.5,104.9,102.9,107.2,102.7,106.5,108.6,105.8],\"z\":[0.429,0.427,0.447,0.428,0.389,0.397,0.441,0.384,0.405,0.407,0.377,0.415,0.385,0.422,0.404,0.425,0.397,0.41,0.436,0.452,0.425,0.441,0.445,0.435,0.41,0.42,0.403,0.421,0.416,0.428,0.465,0.451,0.429,0.459,0.449,0.429,0.453,0.431,0.416,0.402,0.438,0.457,0.459,0.46,0.467,0.455,0.442,0.427,0.423,0.439,0.422,0.445,0.438,0.438,0.452,0.471,0.446,0.451,0.438,0.416,0.43,0.442,0.464,0.442,0.455,0.458,0.473,0.454,0.461,0.436,null,0.455,0.483,0.469,0.461,0.47,0.444,0.464,0.443,0.43,0.458,0.448,0.445,0.469,0.459,0.447,0.451,0.45,0.428,0.449,0.445,0.455,0.455,0.446,0.466,0.445,0.437,0.444,0.449,0.453,0.476,0.473,0.471,0.461,0.438,0.447,0.443,0.457,0.463,0.451,0.481,0.474,0.456,0.475,0.444,0.465,0.463,0.449,0.465,0.466,0.477,0.462,0.479,0.49,0.468,0.469,0.47,0.487,0.485,0.506,0.476,0.474,0.487,0.465,0.458,0.479,0.475,0.5,0.506,0.486,0.513,0.482,0.49,0.503,0.479,0.493,0.458,0.51,0.477,0.488,0.503,0.479,0.488,0.472,0.491,0.485,0.463,0.5,0.504,0.483,0.481,0.498,0.461,0.477,0.446,0.479,0.49,0.47,0.505,0.501,0.492,0.49,0.473,0.504,0.455,0.487,0.528,0.502,0.488,0.506,0.494,0.501,0.505,0.471,0.463,0.477,0.493,0.509,0.507,0.492,0.528,0.481,0.506,0.498,0.523,0.494,0.481,0.49,0.468,0.498,0.488,0.506,0.511,0.507,0.503,0.48,0.518,0.47,0.474,0.469,0.502,0.486,0.48,0.48,0.491,0.52,0.531,0.509,0.531,0.512,0.52,0.526,0.502,0.505,0.516,0.5,0.518,0.485,0.483,0.511,0.549,0.495,0.512,0.52,0.498,0.504,0.504,0.491,0.491,0.499,0.478,0.509,0.514,0.499,0.486,0.483,0.474,0.5,0.537,0.54,0.504,0.5,0.492,0.518,0.506,0.519,0.499,0.512,0.481,0.512,0.495,0.506,0.475,0.49,0.49,0.504,0.49,0.514,0.52,0.505,0.497,0.488,0.496,0.505,0.507,0.508,0.52,0.503,0.478,0.494,0.496,0.484,0.464,0.498,0.527,0.503,0.498,0.505,0.504,0.504,0.48,0.506,0.524,0.489,0.51,0.506,0.528,0.508,0.48,0.509,0.48,0.503,0.501,0.502,0.523,0.504,0.499,0.505,0.496,0.524,0.494,0.498,0.512,0.525,0.507,0.488,0.489,0.485,0.495,0.489,0.502,0.504,0.493,0.49,0.513,0.494,0.527,0.499,0.521,0.511,0.531,0.503,0.499,0.499,0.512,0.506,0.504,0.499,0.464,0.504,0.515,0.53,0.531,0.529,0.53,0.51,0.518,0.498,0.491,0.538,0.518,0.489,0.509,0.527,0.491,0.495,0.501,0.519,0.508,0.508,0.502,0.478,0.511,0.528,0.539,0.547,0.52,0.531,0.489,0.526,0.52,0.506,0.528,0.496,0.507,0.514,0.524,0.505,0.524,0.505,0.5,0.514,0.499,0.518,0.485,0.515,0.527,0.514,0.555,0.554,0.533,0.535,0.545,0.557,0.53,0.525,0.53,0.528,0.521,0.54,0.521,0.509,0.52,0.532,0.513,0.512,0.53,0.518,0.53],\"type\":\"scatter3d\"}],                        {\"template\":{\"data\":{\"bar\":[{\"error_x\":{\"color\":\"#2a3f5f\"},\"error_y\":{\"color\":\"#2a3f5f\"},\"marker\":{\"line\":{\"color\":\"#E5ECF6\",\"width\":0.5},\"pattern\":{\"fillmode\":\"overlay\",\"size\":10,\"solidity\":0.2}},\"type\":\"bar\"}],\"barpolar\":[{\"marker\":{\"line\":{\"color\":\"#E5ECF6\",\"width\":0.5},\"pattern\":{\"fillmode\":\"overlay\",\"size\":10,\"solidity\":0.2}},\"type\":\"barpolar\"}],\"carpet\":[{\"aaxis\":{\"endlinecolor\":\"#2a3f5f\",\"gridcolor\":\"white\",\"linecolor\":\"white\",\"minorgridcolor\":\"white\",\"startlinecolor\":\"#2a3f5f\"},\"baxis\":{\"endlinecolor\":\"#2a3f5f\",\"gridcolor\":\"white\",\"linecolor\":\"white\",\"minorgridcolor\":\"white\",\"startlinecolor\":\"#2a3f5f\"},\"type\":\"carpet\"}],\"choropleth\":[{\"colorbar\":{\"outlinewidth\":0,\"ticks\":\"\"},\"type\":\"choropleth\"}],\"contour\":[{\"colorbar\":{\"outlinewidth\":0,\"ticks\":\"\"},\"colorscale\":[[0.0,\"#0d0887\"],[0.1111111111111111,\"#46039f\"],[0.2222222222222222,\"#7201a8\"],[0.3333333333333333,\"#9c179e\"],[0.4444444444444444,\"#bd3786\"],[0.5555555555555556,\"#d8576b\"],[0.6666666666666666,\"#ed7953\"],[0.7777777777777778,\"#fb9f3a\"],[0.8888888888888888,\"#fdca26\"],[1.0,\"#f0f921\"]],\"type\":\"contour\"}],\"contourcarpet\":[{\"colorbar\":{\"outlinewidth\":0,\"ticks\":\"\"},\"type\":\"contourcarpet\"}],\"heatmap\":[{\"colorbar\":{\"outlinewidth\":0,\"ticks\":\"\"},\"colorscale\":[[0.0,\"#0d0887\"],[0.1111111111111111,\"#46039f\"],[0.2222222222222222,\"#7201a8\"],[0.3333333333333333,\"#9c179e\"],[0.4444444444444444,\"#bd3786\"],[0.5555555555555556,\"#d8576b\"],[0.6666666666666666,\"#ed7953\"],[0.7777777777777778,\"#fb9f3a\"],[0.8888888888888888,\"#fdca26\"],[1.0,\"#f0f921\"]],\"type\":\"heatmap\"}],\"heatmapgl\":[{\"colorbar\":{\"outlinewidth\":0,\"ticks\":\"\"},\"colorscale\":[[0.0,\"#0d0887\"],[0.1111111111111111,\"#46039f\"],[0.2222222222222222,\"#7201a8\"],[0.3333333333333333,\"#9c179e\"],[0.4444444444444444,\"#bd3786\"],[0.5555555555555556,\"#d8576b\"],[0.6666666666666666,\"#ed7953\"],[0.7777777777777778,\"#fb9f3a\"],[0.8888888888888888,\"#fdca26\"],[1.0,\"#f0f921\"]],\"type\":\"heatmapgl\"}],\"histogram\":[{\"marker\":{\"pattern\":{\"fillmode\":\"overlay\",\"size\":10,\"solidity\":0.2}},\"type\":\"histogram\"}],\"histogram2d\":[{\"colorbar\":{\"outlinewidth\":0,\"ticks\":\"\"},\"colorscale\":[[0.0,\"#0d0887\"],[0.1111111111111111,\"#46039f\"],[0.2222222222222222,\"#7201a8\"],[0.3333333333333333,\"#9c179e\"],[0.4444444444444444,\"#bd3786\"],[0.5555555555555556,\"#d8576b\"],[0.6666666666666666,\"#ed7953\"],[0.7777777777777778,\"#fb9f3a\"],[0.8888888888888888,\"#fdca26\"],[1.0,\"#f0f921\"]],\"type\":\"histogram2d\"}],\"histogram2dcontour\":[{\"colorbar\":{\"outlinewidth\":0,\"ticks\":\"\"},\"colorscale\":[[0.0,\"#0d0887\"],[0.1111111111111111,\"#46039f\"],[0.2222222222222222,\"#7201a8\"],[0.3333333333333333,\"#9c179e\"],[0.4444444444444444,\"#bd3786\"],[0.5555555555555556,\"#d8576b\"],[0.6666666666666666,\"#ed7953\"],[0.7777777777777778,\"#fb9f3a\"],[0.8888888888888888,\"#fdca26\"],[1.0,\"#f0f921\"]],\"type\":\"histogram2dcontour\"}],\"mesh3d\":[{\"colorbar\":{\"outlinewidth\":0,\"ticks\":\"\"},\"type\":\"mesh3d\"}],\"parcoords\":[{\"line\":{\"colorbar\":{\"outlinewidth\":0,\"ticks\":\"\"}},\"type\":\"parcoords\"}],\"pie\":[{\"automargin\":true,\"type\":\"pie\"}],\"scatter\":[{\"marker\":{\"colorbar\":{\"outlinewidth\":0,\"ticks\":\"\"}},\"type\":\"scatter\"}],\"scatter3d\":[{\"line\":{\"colorbar\":{\"outlinewidth\":0,\"ticks\":\"\"}},\"marker\":{\"colorbar\":{\"outlinewidth\":0,\"ticks\":\"\"}},\"type\":\"scatter3d\"}],\"scattercarpet\":[{\"marker\":{\"colorbar\":{\"outlinewidth\":0,\"ticks\":\"\"}},\"type\":\"scattercarpet\"}],\"scattergeo\":[{\"marker\":{\"colorbar\":{\"outlinewidth\":0,\"ticks\":\"\"}},\"type\":\"scattergeo\"}],\"scattergl\":[{\"marker\":{\"colorbar\":{\"outlinewidth\":0,\"ticks\":\"\"}},\"type\":\"scattergl\"}],\"scattermapbox\":[{\"marker\":{\"colorbar\":{\"outlinewidth\":0,\"ticks\":\"\"}},\"type\":\"scattermapbox\"}],\"scatterpolar\":[{\"marker\":{\"colorbar\":{\"outlinewidth\":0,\"ticks\":\"\"}},\"type\":\"scatterpolar\"}],\"scatterpolargl\":[{\"marker\":{\"colorbar\":{\"outlinewidth\":0,\"ticks\":\"\"}},\"type\":\"scatterpolargl\"}],\"scatterternary\":[{\"marker\":{\"colorbar\":{\"outlinewidth\":0,\"ticks\":\"\"}},\"type\":\"scatterternary\"}],\"surface\":[{\"colorbar\":{\"outlinewidth\":0,\"ticks\":\"\"},\"colorscale\":[[0.0,\"#0d0887\"],[0.1111111111111111,\"#46039f\"],[0.2222222222222222,\"#7201a8\"],[0.3333333333333333,\"#9c179e\"],[0.4444444444444444,\"#bd3786\"],[0.5555555555555556,\"#d8576b\"],[0.6666666666666666,\"#ed7953\"],[0.7777777777777778,\"#fb9f3a\"],[0.8888888888888888,\"#fdca26\"],[1.0,\"#f0f921\"]],\"type\":\"surface\"}],\"table\":[{\"cells\":{\"fill\":{\"color\":\"#EBF0F8\"},\"line\":{\"color\":\"white\"}},\"header\":{\"fill\":{\"color\":\"#C8D4E3\"},\"line\":{\"color\":\"white\"}},\"type\":\"table\"}]},\"layout\":{\"annotationdefaults\":{\"arrowcolor\":\"#2a3f5f\",\"arrowhead\":0,\"arrowwidth\":1},\"autotypenumbers\":\"strict\",\"coloraxis\":{\"colorbar\":{\"outlinewidth\":0,\"ticks\":\"\"}},\"colorscale\":{\"diverging\":[[0,\"#8e0152\"],[0.1,\"#c51b7d\"],[0.2,\"#de77ae\"],[0.3,\"#f1b6da\"],[0.4,\"#fde0ef\"],[0.5,\"#f7f7f7\"],[0.6,\"#e6f5d0\"],[0.7,\"#b8e186\"],[0.8,\"#7fbc41\"],[0.9,\"#4d9221\"],[1,\"#276419\"]],\"sequential\":[[0.0,\"#0d0887\"],[0.1111111111111111,\"#46039f\"],[0.2222222222222222,\"#7201a8\"],[0.3333333333333333,\"#9c179e\"],[0.4444444444444444,\"#bd3786\"],[0.5555555555555556,\"#d8576b\"],[0.6666666666666666,\"#ed7953\"],[0.7777777777777778,\"#fb9f3a\"],[0.8888888888888888,\"#fdca26\"],[1.0,\"#f0f921\"]],\"sequentialminus\":[[0.0,\"#0d0887\"],[0.1111111111111111,\"#46039f\"],[0.2222222222222222,\"#7201a8\"],[0.3333333333333333,\"#9c179e\"],[0.4444444444444444,\"#bd3786\"],[0.5555555555555556,\"#d8576b\"],[0.6666666666666666,\"#ed7953\"],[0.7777777777777778,\"#fb9f3a\"],[0.8888888888888888,\"#fdca26\"],[1.0,\"#f0f921\"]]},\"colorway\":[\"#636efa\",\"#EF553B\",\"#00cc96\",\"#ab63fa\",\"#FFA15A\",\"#19d3f3\",\"#FF6692\",\"#B6E880\",\"#FF97FF\",\"#FECB52\"],\"font\":{\"color\":\"#2a3f5f\"},\"geo\":{\"bgcolor\":\"white\",\"lakecolor\":\"white\",\"landcolor\":\"#E5ECF6\",\"showlakes\":true,\"showland\":true,\"subunitcolor\":\"white\"},\"hoverlabel\":{\"align\":\"left\"},\"hovermode\":\"closest\",\"mapbox\":{\"style\":\"light\"},\"paper_bgcolor\":\"white\",\"plot_bgcolor\":\"#E5ECF6\",\"polar\":{\"angularaxis\":{\"gridcolor\":\"white\",\"linecolor\":\"white\",\"ticks\":\"\"},\"bgcolor\":\"#E5ECF6\",\"radialaxis\":{\"gridcolor\":\"white\",\"linecolor\":\"white\",\"ticks\":\"\"}},\"scene\":{\"xaxis\":{\"backgroundcolor\":\"#E5ECF6\",\"gridcolor\":\"white\",\"gridwidth\":2,\"linecolor\":\"white\",\"showbackground\":true,\"ticks\":\"\",\"zerolinecolor\":\"white\"},\"yaxis\":{\"backgroundcolor\":\"#E5ECF6\",\"gridcolor\":\"white\",\"gridwidth\":2,\"linecolor\":\"white\",\"showbackground\":true,\"ticks\":\"\",\"zerolinecolor\":\"white\"},\"zaxis\":{\"backgroundcolor\":\"#E5ECF6\",\"gridcolor\":\"white\",\"gridwidth\":2,\"linecolor\":\"white\",\"showbackground\":true,\"ticks\":\"\",\"zerolinecolor\":\"white\"}},\"shapedefaults\":{\"line\":{\"color\":\"#2a3f5f\"}},\"ternary\":{\"aaxis\":{\"gridcolor\":\"white\",\"linecolor\":\"white\",\"ticks\":\"\"},\"baxis\":{\"gridcolor\":\"white\",\"linecolor\":\"white\",\"ticks\":\"\"},\"bgcolor\":\"#E5ECF6\",\"caxis\":{\"gridcolor\":\"white\",\"linecolor\":\"white\",\"ticks\":\"\"}},\"title\":{\"x\":0.05},\"xaxis\":{\"automargin\":true,\"gridcolor\":\"white\",\"linecolor\":\"white\",\"ticks\":\"\",\"title\":{\"standoff\":15},\"zerolinecolor\":\"white\",\"zerolinewidth\":2},\"yaxis\":{\"automargin\":true,\"gridcolor\":\"white\",\"linecolor\":\"white\",\"ticks\":\"\",\"title\":{\"standoff\":15},\"zerolinecolor\":\"white\",\"zerolinewidth\":2}}},\"scene\":{\"domain\":{\"x\":[0.0,1.0],\"y\":[0.0,1.0]},\"xaxis\":{\"title\":{\"text\":\"SRS\"}},\"yaxis\":{\"title\":{\"text\":\"Pace\"}},\"zaxis\":{\"title\":{\"text\":\"TS%\"}}},\"coloraxis\":{\"colorbar\":{\"title\":{\"text\":\"Year\"}},\"colorscale\":[[0.0,\"#0d0887\"],[0.1111111111111111,\"#46039f\"],[0.2222222222222222,\"#7201a8\"],[0.3333333333333333,\"#9c179e\"],[0.4444444444444444,\"#bd3786\"],[0.5555555555555556,\"#d8576b\"],[0.6666666666666666,\"#ed7953\"],[0.7777777777777778,\"#fb9f3a\"],[0.8888888888888888,\"#fdca26\"],[1.0,\"#f0f921\"]]},\"legend\":{\"tracegroupgap\":0},\"margin\":{\"t\":60}},                        {\"responsive\": true}                    ).then(function(){\n                            \nvar gd = document.getElementById('4fc695fd-3eb6-4c50-9792-ea10e2a70f39');\nvar x = new MutationObserver(function (mutations, observer) {{\n        var display = window.getComputedStyle(gd).display;\n        if (!display || display === 'none') {{\n            console.log([gd, 'removed!']);\n            Plotly.purge(gd);\n            observer.disconnect();\n        }}\n}});\n\n// Listen for the removal of the full notebook cells\nvar notebookContainer = gd.closest('#notebook-container');\nif (notebookContainer) {{\n    x.observe(notebookContainer, {childList: true});\n}}\n\n// Listen for the clearing of the current output cell\nvar outputEl = gd.closest('.output');\nif (outputEl) {{\n    x.observe(outputEl, {childList: true});\n}}\n\n                        })                };                });            </script>        </div>"
     },
     "metadata": {},
     "output_type": "display_data"
    }
   ],
   "source": [
    "df.loc[:,['Team','Year','ORtg','TS%','NRtg','SRS','W']].sort_values('ORtg',ascending=False)\n",
    "# df.loc[:,['Team','Year','ORtg','TS%','NRtg','SRS','W']].sort_values('ORtg',ascending=False)\n",
    "\n",
    "px.scatter_3d(df.loc[df.Year < 1980,:],'SRS','Pace','TS%',color='Year',hover_data=['Team','Year','SRS','TS%'])"
   ],
   "metadata": {
    "collapsed": false,
    "pycharm": {
     "name": "#%%\n"
    }
   }
  },
  {
   "cell_type": "code",
   "execution_count": 100,
   "outputs": [],
   "source": [
    "df.loc[:,'Team'] = df.loc[:,'Team'].str.strip('*')\n",
    "df.loc[:,'Year'] = df.Year.astype(int)"
   ],
   "metadata": {
    "collapsed": false,
    "pycharm": {
     "name": "#%%\n"
    }
   }
  },
  {
   "cell_type": "code",
   "execution_count": 126,
   "outputs": [
    {
     "data": {
      "text/plain": "                     Team  Year    SRS    TS%   ORtg   DRtg\n0   Golden State Warriors  2017  11.35  0.597  115.6  104.0\n0         Milwaukee Bucks  2020   9.41  0.583  112.4  102.9\n0               Utah Jazz  2021   8.97  0.597  117.6  108.3\n0         Houston Rockets  2018   8.21  0.590  114.7  106.1\n0         Milwaukee Bucks  2019   8.04  0.583  113.8  105.2\n..                    ...   ...    ...    ...    ...    ...\n29           Phoenix Suns  2018  -8.80  0.532  103.5  112.8\n29        New York Knicks  2019  -8.93  0.529  104.5  113.7\n27          Orlando Magic  2021  -9.02  0.527  105.1  114.5\n28    Cleveland Cavaliers  2019  -9.39  0.540  107.7  117.6\n25  Oklahoma City Thunder  2021 -10.13  0.539  103.5  114.0\n\n[186 rows x 6 columns]",
      "text/html": "<div>\n<style scoped>\n    .dataframe tbody tr th:only-of-type {\n        vertical-align: middle;\n    }\n\n    .dataframe tbody tr th {\n        vertical-align: top;\n    }\n\n    .dataframe thead th {\n        text-align: right;\n    }\n</style>\n<table border=\"1\" class=\"dataframe\">\n  <thead>\n    <tr style=\"text-align: right;\">\n      <th></th>\n      <th>Team</th>\n      <th>Year</th>\n      <th>SRS</th>\n      <th>TS%</th>\n      <th>ORtg</th>\n      <th>DRtg</th>\n    </tr>\n  </thead>\n  <tbody>\n    <tr>\n      <th>0</th>\n      <td>Golden State Warriors</td>\n      <td>2017</td>\n      <td>11.35</td>\n      <td>0.597</td>\n      <td>115.6</td>\n      <td>104.0</td>\n    </tr>\n    <tr>\n      <th>0</th>\n      <td>Milwaukee Bucks</td>\n      <td>2020</td>\n      <td>9.41</td>\n      <td>0.583</td>\n      <td>112.4</td>\n      <td>102.9</td>\n    </tr>\n    <tr>\n      <th>0</th>\n      <td>Utah Jazz</td>\n      <td>2021</td>\n      <td>8.97</td>\n      <td>0.597</td>\n      <td>117.6</td>\n      <td>108.3</td>\n    </tr>\n    <tr>\n      <th>0</th>\n      <td>Houston Rockets</td>\n      <td>2018</td>\n      <td>8.21</td>\n      <td>0.590</td>\n      <td>114.7</td>\n      <td>106.1</td>\n    </tr>\n    <tr>\n      <th>0</th>\n      <td>Milwaukee Bucks</td>\n      <td>2019</td>\n      <td>8.04</td>\n      <td>0.583</td>\n      <td>113.8</td>\n      <td>105.2</td>\n    </tr>\n    <tr>\n      <th>...</th>\n      <td>...</td>\n      <td>...</td>\n      <td>...</td>\n      <td>...</td>\n      <td>...</td>\n      <td>...</td>\n    </tr>\n    <tr>\n      <th>29</th>\n      <td>Phoenix Suns</td>\n      <td>2018</td>\n      <td>-8.80</td>\n      <td>0.532</td>\n      <td>103.5</td>\n      <td>112.8</td>\n    </tr>\n    <tr>\n      <th>29</th>\n      <td>New York Knicks</td>\n      <td>2019</td>\n      <td>-8.93</td>\n      <td>0.529</td>\n      <td>104.5</td>\n      <td>113.7</td>\n    </tr>\n    <tr>\n      <th>27</th>\n      <td>Orlando Magic</td>\n      <td>2021</td>\n      <td>-9.02</td>\n      <td>0.527</td>\n      <td>105.1</td>\n      <td>114.5</td>\n    </tr>\n    <tr>\n      <th>28</th>\n      <td>Cleveland Cavaliers</td>\n      <td>2019</td>\n      <td>-9.39</td>\n      <td>0.540</td>\n      <td>107.7</td>\n      <td>117.6</td>\n    </tr>\n    <tr>\n      <th>25</th>\n      <td>Oklahoma City Thunder</td>\n      <td>2021</td>\n      <td>-10.13</td>\n      <td>0.539</td>\n      <td>103.5</td>\n      <td>114.0</td>\n    </tr>\n  </tbody>\n</table>\n<p>186 rows × 6 columns</p>\n</div>"
     },
     "execution_count": 126,
     "metadata": {},
     "output_type": "execute_result"
    }
   ],
   "source": [
    "df.loc[((df.Year.isin(range(2017,2023)) )) ,['Team','Year','SRS','TS%','ORtg','DRtg']].sort_values('SRS',ascending=False)"
   ],
   "metadata": {
    "collapsed": false,
    "pycharm": {
     "name": "#%%\n"
    }
   }
  },
  {
   "cell_type": "code",
   "execution_count": 48,
   "outputs": [
    {
     "data": {
      "text/plain": "                   Team   G     MP    FG   FGA    FG%    3P   3PA    3P%  \\\n22  League Average 1980  82  241.8  43.6  90.6  0.481   0.8   2.8  0.280   \n23  League Average 1981  82  241.4  43.0  88.4  0.486   0.5   2.0  0.245   \n23  League Average 1982  82  241.6  43.3  88.2  0.491   0.6   2.3  0.262   \n23  League Average 1983  82  241.3  43.5  89.7  0.485   0.5   2.3  0.238   \n23  League Average 1984  82  242.0  43.5  88.4  0.492   0.6   2.4  0.250   \n23  League Average 1985  82  241.4  43.8  89.1  0.491   0.9   3.1  0.282   \n23  League Average 1986  82  241.6  43.2  88.6  0.487   0.9   3.3  0.282   \n23  League Average 1987  82  241.6  42.6  88.8  0.480   1.4   4.7  0.301   \n23  League Average 1988  82  241.3  42.1  87.7  0.480   1.6   5.0  0.316   \n25  League Average 1989  82  241.5  42.5  89.0  0.477   2.1   6.6  0.323   \n27  League Average 1990  82  241.5  41.5  87.2  0.476   2.2   6.6  0.331   \n27  League Average 1991  82  241.8  41.4  87.2  0.474   2.3   7.1  0.320   \n27  League Average 1992  82  241.8  41.3  87.3  0.472   2.5   7.6  0.331   \n27  League Average 1993  82  241.7  40.7  86.0  0.473   3.0   9.0  0.336   \n27  League Average 1994  82  241.1  39.3  84.4  0.466   3.3   9.9  0.333   \n27  League Average 1995  82  241.9  38.0  81.5  0.466   5.5  15.3  0.359   \n29  League Average 1996  82  241.6  37.0  80.2  0.462   5.9  16.0  0.367   \n29  League Average 1997  82  241.9  36.1  79.3  0.455   6.0  16.8  0.360   \n29  League Average 1998  82  241.9  35.9  79.7  0.450   4.4  12.7  0.346   \n29  League Average 1999  50  241.8  34.2  78.2  0.437   4.5  13.2  0.339   \n29  League Average 2000  82  241.5  36.8  82.1  0.449   4.8  13.7  0.353   \n29  League Average 2001  82  242.0  35.7  80.6  0.443   4.8  13.7  0.354   \n29  League Average 2002  82  241.7  36.2  81.3  0.445   5.2  14.7  0.354   \n29  League Average 2003  82  242.0  35.7  80.8  0.442   5.1  14.7  0.349   \n29  League Average 2004  82  241.7  35.0  79.8  0.439   5.2  14.9  0.347   \n30  League Average 2005  82  241.9  35.9  80.3  0.447   5.6  15.8  0.356   \n30  League Average 2006  82  242.1  35.8  79.0  0.454   5.7  16.0  0.358   \n30  League Average 2007  82  242.2  36.5  79.7  0.458   6.1  16.9  0.358   \n30  League Average 2008  82  241.5  37.3  81.5  0.457   6.6  18.1  0.362   \n30  League Average 2009  82  241.7  37.1  80.9  0.459   6.6  18.1  0.367   \n30  League Average 2010  82  241.7  37.7  81.7  0.461   6.4  18.1  0.355   \n30  League Average 2011  82  241.9  37.2  81.2  0.459   6.5  18.0  0.358   \n30  League Average 2012  66  241.9  36.5  81.4  0.448   6.4  18.4  0.349   \n30  League Average 2013  82  241.9  37.1  82.0  0.453   7.2  20.0  0.359   \n30  League Average 2014  82  242.0  37.7  83.0  0.454   7.7  21.5  0.360   \n30  League Average 2015  82  242.0  37.5  83.6  0.449   7.8  22.4  0.350   \n30  League Average 2016  82  241.8  38.2  84.6  0.452   8.5  24.1  0.354   \n30  League Average 2017  82  241.6  39.0  85.4  0.457   9.7  27.0  0.358   \n30  League Average 2018  82  241.4  39.6  86.1  0.460  10.5  29.0  0.362   \n30  League Average 2019  82  241.6  41.1  89.2  0.461  11.4  32.0  0.355   \n30  League Average 2020  71  241.8  40.9  88.8  0.460  12.2  34.1  0.358   \n30  League Average 2021  72  241.4  41.2  88.4  0.466  12.7  34.6  0.367   \n30  League Average 2022  76  241.4  40.5  88.1  0.460  12.4  35.2  0.352   \n\n      2P  ...   SOS   SRS   ORtg   DRtg  NRtg   Pace    FTr   3PAr    TS%  \\\n22  42.9  ...  0.00  0.00  105.3  105.3   NaN  103.1  0.307  0.031  0.531   \n23  42.5  ...  0.00  0.00  105.5  105.5   NaN  101.8  0.327  0.023  0.534   \n23  42.7  ...  0.00  0.00  106.9  106.9   NaN  100.9  0.324  0.026  0.539   \n23  43.0  ...  0.00  0.00  104.7  104.7   NaN  103.1  0.315  0.025  0.531   \n23  42.9  ...  0.00  0.00  107.6  107.6   NaN  101.4  0.336  0.027  0.543   \n23  42.9  ...  0.00  0.00  107.9  107.9   NaN  102.1  0.330  0.035  0.543   \n23  42.3  ...  0.00  0.00  107.2  107.2   NaN  102.1  0.341  0.038  0.541   \n23  41.2  ... -0.01 -0.01  108.3  108.3   NaN  100.8  0.343  0.053  0.538   \n23  40.6  ...  0.00  0.00  108.0  108.0   NaN   99.6  0.332  0.057  0.538   \n25  40.4  ...  0.00  0.00  107.8  107.8   NaN  100.6  0.324  0.074  0.537   \n27  39.3  ...  0.00  0.00  108.1  108.1   NaN   98.3  0.327  0.076  0.537   \n27  39.1  ...  0.00  0.00  107.9  107.9   NaN   97.8  0.320  0.082  0.534   \n27  38.7  ...  0.00  0.00  108.2  108.2   NaN   96.6  0.305  0.087  0.531   \n27  37.7  ...  0.00  0.00  108.0  108.0   NaN   96.8  0.323  0.104  0.536   \n27  36.0  ...  0.00  0.00  106.3  106.3   NaN   95.1  0.315  0.117  0.528   \n27  32.5  ...  0.01  0.01  108.3  108.3   NaN   92.9  0.332  0.188  0.543   \n29  31.2  ...  0.00  0.00  107.6  107.6   NaN   91.8  0.329  0.200  0.542   \n29  30.0  ...  0.00  0.00  106.7  106.7   NaN   90.1  0.320  0.212  0.536   \n29  31.5  ...  0.00  0.00  105.0  105.0   NaN   90.3  0.330  0.159  0.524   \n29  29.7  ...  0.00  0.00  102.2  102.2   NaN   88.9  0.330  0.168  0.511   \n29  32.0  ...  0.00  0.00  104.1  104.1   NaN   93.1  0.308  0.167  0.523   \n29  30.8  ...  0.00  0.00  103.0  103.0   NaN   91.3  0.309  0.170  0.518   \n29  31.0  ...  0.00  0.00  104.5  104.5   NaN   90.7  0.293  0.181  0.520   \n29  30.6  ...  0.00  0.00  103.6  103.6   NaN   91.0  0.302  0.182  0.519   \n29  29.8  ...  0.00  0.00  102.9  102.9   NaN   90.1  0.303  0.187  0.516   \n30  30.3  ...  0.00  0.00  106.1  106.1   NaN   90.9  0.324  0.196  0.529   \n30  30.1  ...  0.00  0.00  106.2  106.2   NaN   90.5  0.333  0.202  0.536   \n30  30.5  ...  0.00  0.00  106.5  106.5   NaN   91.9  0.327  0.213  0.541   \n30  30.7  ...  0.00  0.00  107.5  107.5   NaN   92.4  0.306  0.222  0.540   \n30  30.5  ...  0.00  0.00  108.3  108.3   NaN   91.7  0.306  0.224  0.544   \n30  31.3  ... -0.01 -0.01  107.6  107.6   NaN   92.7  0.300  0.222  0.543   \n30  30.8  ...  0.00  0.00  107.3  107.3   NaN   92.1  0.300  0.222  0.541   \n30  30.1  ...  0.00  0.00  104.6  104.6   NaN   91.3  0.276  0.226  0.527   \n30  30.0  ...  0.00  0.00  105.9  105.9   NaN   92.0  0.270  0.243  0.535   \n30  30.0  ...  0.00  0.00  106.7  106.7   NaN   93.9  0.284  0.259  0.541   \n30  29.7  ...  0.00  0.00  105.6  105.6   NaN   93.9  0.273  0.268  0.534   \n30  29.7  ...  0.00  0.00  106.4  106.4   NaN   95.8  0.276  0.285  0.541   \n30  29.4  ...  0.00  0.00  108.8  108.8   NaN   96.4  0.271  0.316  0.552   \n30  29.1  ...  0.00  0.00  108.6  108.6   NaN   97.3  0.252  0.337  0.556   \n30  29.7  ...  0.00  0.00  110.4  110.4   NaN  100.0  0.259  0.359  0.560   \n30  28.7  ...  0.00  0.00  110.6  110.6   NaN  100.3  0.260  0.384  0.565   \n30  28.5  ...  0.00  0.00  112.3  112.3   NaN   99.2  0.247  0.392  0.572   \n30  28.1  ...  0.00  0.00  111.6  111.6   NaN   98.1  0.247  0.399  0.564   \n\n    Year  \n22  1980  \n23  1981  \n23  1982  \n23  1983  \n23  1984  \n23  1985  \n23  1986  \n23  1987  \n23  1988  \n25  1989  \n27  1990  \n27  1991  \n27  1992  \n27  1993  \n27  1994  \n27  1995  \n29  1996  \n29  1997  \n29  1998  \n29  1999  \n29  2000  \n29  2001  \n29  2002  \n29  2003  \n29  2004  \n30  2005  \n30  2006  \n30  2007  \n30  2008  \n30  2009  \n30  2010  \n30  2011  \n30  2012  \n30  2013  \n30  2014  \n30  2015  \n30  2016  \n30  2017  \n30  2018  \n30  2019  \n30  2020  \n30  2021  \n30  2022  \n\n[43 rows x 38 columns]",
      "text/html": "<div>\n<style scoped>\n    .dataframe tbody tr th:only-of-type {\n        vertical-align: middle;\n    }\n\n    .dataframe tbody tr th {\n        vertical-align: top;\n    }\n\n    .dataframe thead th {\n        text-align: right;\n    }\n</style>\n<table border=\"1\" class=\"dataframe\">\n  <thead>\n    <tr style=\"text-align: right;\">\n      <th></th>\n      <th>Team</th>\n      <th>G</th>\n      <th>MP</th>\n      <th>FG</th>\n      <th>FGA</th>\n      <th>FG%</th>\n      <th>3P</th>\n      <th>3PA</th>\n      <th>3P%</th>\n      <th>2P</th>\n      <th>...</th>\n      <th>SOS</th>\n      <th>SRS</th>\n      <th>ORtg</th>\n      <th>DRtg</th>\n      <th>NRtg</th>\n      <th>Pace</th>\n      <th>FTr</th>\n      <th>3PAr</th>\n      <th>TS%</th>\n      <th>Year</th>\n    </tr>\n  </thead>\n  <tbody>\n    <tr>\n      <th>22</th>\n      <td>League Average 1980</td>\n      <td>82</td>\n      <td>241.8</td>\n      <td>43.6</td>\n      <td>90.6</td>\n      <td>0.481</td>\n      <td>0.8</td>\n      <td>2.8</td>\n      <td>0.280</td>\n      <td>42.9</td>\n      <td>...</td>\n      <td>0.00</td>\n      <td>0.00</td>\n      <td>105.3</td>\n      <td>105.3</td>\n      <td>NaN</td>\n      <td>103.1</td>\n      <td>0.307</td>\n      <td>0.031</td>\n      <td>0.531</td>\n      <td>1980</td>\n    </tr>\n    <tr>\n      <th>23</th>\n      <td>League Average 1981</td>\n      <td>82</td>\n      <td>241.4</td>\n      <td>43.0</td>\n      <td>88.4</td>\n      <td>0.486</td>\n      <td>0.5</td>\n      <td>2.0</td>\n      <td>0.245</td>\n      <td>42.5</td>\n      <td>...</td>\n      <td>0.00</td>\n      <td>0.00</td>\n      <td>105.5</td>\n      <td>105.5</td>\n      <td>NaN</td>\n      <td>101.8</td>\n      <td>0.327</td>\n      <td>0.023</td>\n      <td>0.534</td>\n      <td>1981</td>\n    </tr>\n    <tr>\n      <th>23</th>\n      <td>League Average 1982</td>\n      <td>82</td>\n      <td>241.6</td>\n      <td>43.3</td>\n      <td>88.2</td>\n      <td>0.491</td>\n      <td>0.6</td>\n      <td>2.3</td>\n      <td>0.262</td>\n      <td>42.7</td>\n      <td>...</td>\n      <td>0.00</td>\n      <td>0.00</td>\n      <td>106.9</td>\n      <td>106.9</td>\n      <td>NaN</td>\n      <td>100.9</td>\n      <td>0.324</td>\n      <td>0.026</td>\n      <td>0.539</td>\n      <td>1982</td>\n    </tr>\n    <tr>\n      <th>23</th>\n      <td>League Average 1983</td>\n      <td>82</td>\n      <td>241.3</td>\n      <td>43.5</td>\n      <td>89.7</td>\n      <td>0.485</td>\n      <td>0.5</td>\n      <td>2.3</td>\n      <td>0.238</td>\n      <td>43.0</td>\n      <td>...</td>\n      <td>0.00</td>\n      <td>0.00</td>\n      <td>104.7</td>\n      <td>104.7</td>\n      <td>NaN</td>\n      <td>103.1</td>\n      <td>0.315</td>\n      <td>0.025</td>\n      <td>0.531</td>\n      <td>1983</td>\n    </tr>\n    <tr>\n      <th>23</th>\n      <td>League Average 1984</td>\n      <td>82</td>\n      <td>242.0</td>\n      <td>43.5</td>\n      <td>88.4</td>\n      <td>0.492</td>\n      <td>0.6</td>\n      <td>2.4</td>\n      <td>0.250</td>\n      <td>42.9</td>\n      <td>...</td>\n      <td>0.00</td>\n      <td>0.00</td>\n      <td>107.6</td>\n      <td>107.6</td>\n      <td>NaN</td>\n      <td>101.4</td>\n      <td>0.336</td>\n      <td>0.027</td>\n      <td>0.543</td>\n      <td>1984</td>\n    </tr>\n    <tr>\n      <th>23</th>\n      <td>League Average 1985</td>\n      <td>82</td>\n      <td>241.4</td>\n      <td>43.8</td>\n      <td>89.1</td>\n      <td>0.491</td>\n      <td>0.9</td>\n      <td>3.1</td>\n      <td>0.282</td>\n      <td>42.9</td>\n      <td>...</td>\n      <td>0.00</td>\n      <td>0.00</td>\n      <td>107.9</td>\n      <td>107.9</td>\n      <td>NaN</td>\n      <td>102.1</td>\n      <td>0.330</td>\n      <td>0.035</td>\n      <td>0.543</td>\n      <td>1985</td>\n    </tr>\n    <tr>\n      <th>23</th>\n      <td>League Average 1986</td>\n      <td>82</td>\n      <td>241.6</td>\n      <td>43.2</td>\n      <td>88.6</td>\n      <td>0.487</td>\n      <td>0.9</td>\n      <td>3.3</td>\n      <td>0.282</td>\n      <td>42.3</td>\n      <td>...</td>\n      <td>0.00</td>\n      <td>0.00</td>\n      <td>107.2</td>\n      <td>107.2</td>\n      <td>NaN</td>\n      <td>102.1</td>\n      <td>0.341</td>\n      <td>0.038</td>\n      <td>0.541</td>\n      <td>1986</td>\n    </tr>\n    <tr>\n      <th>23</th>\n      <td>League Average 1987</td>\n      <td>82</td>\n      <td>241.6</td>\n      <td>42.6</td>\n      <td>88.8</td>\n      <td>0.480</td>\n      <td>1.4</td>\n      <td>4.7</td>\n      <td>0.301</td>\n      <td>41.2</td>\n      <td>...</td>\n      <td>-0.01</td>\n      <td>-0.01</td>\n      <td>108.3</td>\n      <td>108.3</td>\n      <td>NaN</td>\n      <td>100.8</td>\n      <td>0.343</td>\n      <td>0.053</td>\n      <td>0.538</td>\n      <td>1987</td>\n    </tr>\n    <tr>\n      <th>23</th>\n      <td>League Average 1988</td>\n      <td>82</td>\n      <td>241.3</td>\n      <td>42.1</td>\n      <td>87.7</td>\n      <td>0.480</td>\n      <td>1.6</td>\n      <td>5.0</td>\n      <td>0.316</td>\n      <td>40.6</td>\n      <td>...</td>\n      <td>0.00</td>\n      <td>0.00</td>\n      <td>108.0</td>\n      <td>108.0</td>\n      <td>NaN</td>\n      <td>99.6</td>\n      <td>0.332</td>\n      <td>0.057</td>\n      <td>0.538</td>\n      <td>1988</td>\n    </tr>\n    <tr>\n      <th>25</th>\n      <td>League Average 1989</td>\n      <td>82</td>\n      <td>241.5</td>\n      <td>42.5</td>\n      <td>89.0</td>\n      <td>0.477</td>\n      <td>2.1</td>\n      <td>6.6</td>\n      <td>0.323</td>\n      <td>40.4</td>\n      <td>...</td>\n      <td>0.00</td>\n      <td>0.00</td>\n      <td>107.8</td>\n      <td>107.8</td>\n      <td>NaN</td>\n      <td>100.6</td>\n      <td>0.324</td>\n      <td>0.074</td>\n      <td>0.537</td>\n      <td>1989</td>\n    </tr>\n    <tr>\n      <th>27</th>\n      <td>League Average 1990</td>\n      <td>82</td>\n      <td>241.5</td>\n      <td>41.5</td>\n      <td>87.2</td>\n      <td>0.476</td>\n      <td>2.2</td>\n      <td>6.6</td>\n      <td>0.331</td>\n      <td>39.3</td>\n      <td>...</td>\n      <td>0.00</td>\n      <td>0.00</td>\n      <td>108.1</td>\n      <td>108.1</td>\n      <td>NaN</td>\n      <td>98.3</td>\n      <td>0.327</td>\n      <td>0.076</td>\n      <td>0.537</td>\n      <td>1990</td>\n    </tr>\n    <tr>\n      <th>27</th>\n      <td>League Average 1991</td>\n      <td>82</td>\n      <td>241.8</td>\n      <td>41.4</td>\n      <td>87.2</td>\n      <td>0.474</td>\n      <td>2.3</td>\n      <td>7.1</td>\n      <td>0.320</td>\n      <td>39.1</td>\n      <td>...</td>\n      <td>0.00</td>\n      <td>0.00</td>\n      <td>107.9</td>\n      <td>107.9</td>\n      <td>NaN</td>\n      <td>97.8</td>\n      <td>0.320</td>\n      <td>0.082</td>\n      <td>0.534</td>\n      <td>1991</td>\n    </tr>\n    <tr>\n      <th>27</th>\n      <td>League Average 1992</td>\n      <td>82</td>\n      <td>241.8</td>\n      <td>41.3</td>\n      <td>87.3</td>\n      <td>0.472</td>\n      <td>2.5</td>\n      <td>7.6</td>\n      <td>0.331</td>\n      <td>38.7</td>\n      <td>...</td>\n      <td>0.00</td>\n      <td>0.00</td>\n      <td>108.2</td>\n      <td>108.2</td>\n      <td>NaN</td>\n      <td>96.6</td>\n      <td>0.305</td>\n      <td>0.087</td>\n      <td>0.531</td>\n      <td>1992</td>\n    </tr>\n    <tr>\n      <th>27</th>\n      <td>League Average 1993</td>\n      <td>82</td>\n      <td>241.7</td>\n      <td>40.7</td>\n      <td>86.0</td>\n      <td>0.473</td>\n      <td>3.0</td>\n      <td>9.0</td>\n      <td>0.336</td>\n      <td>37.7</td>\n      <td>...</td>\n      <td>0.00</td>\n      <td>0.00</td>\n      <td>108.0</td>\n      <td>108.0</td>\n      <td>NaN</td>\n      <td>96.8</td>\n      <td>0.323</td>\n      <td>0.104</td>\n      <td>0.536</td>\n      <td>1993</td>\n    </tr>\n    <tr>\n      <th>27</th>\n      <td>League Average 1994</td>\n      <td>82</td>\n      <td>241.1</td>\n      <td>39.3</td>\n      <td>84.4</td>\n      <td>0.466</td>\n      <td>3.3</td>\n      <td>9.9</td>\n      <td>0.333</td>\n      <td>36.0</td>\n      <td>...</td>\n      <td>0.00</td>\n      <td>0.00</td>\n      <td>106.3</td>\n      <td>106.3</td>\n      <td>NaN</td>\n      <td>95.1</td>\n      <td>0.315</td>\n      <td>0.117</td>\n      <td>0.528</td>\n      <td>1994</td>\n    </tr>\n    <tr>\n      <th>27</th>\n      <td>League Average 1995</td>\n      <td>82</td>\n      <td>241.9</td>\n      <td>38.0</td>\n      <td>81.5</td>\n      <td>0.466</td>\n      <td>5.5</td>\n      <td>15.3</td>\n      <td>0.359</td>\n      <td>32.5</td>\n      <td>...</td>\n      <td>0.01</td>\n      <td>0.01</td>\n      <td>108.3</td>\n      <td>108.3</td>\n      <td>NaN</td>\n      <td>92.9</td>\n      <td>0.332</td>\n      <td>0.188</td>\n      <td>0.543</td>\n      <td>1995</td>\n    </tr>\n    <tr>\n      <th>29</th>\n      <td>League Average 1996</td>\n      <td>82</td>\n      <td>241.6</td>\n      <td>37.0</td>\n      <td>80.2</td>\n      <td>0.462</td>\n      <td>5.9</td>\n      <td>16.0</td>\n      <td>0.367</td>\n      <td>31.2</td>\n      <td>...</td>\n      <td>0.00</td>\n      <td>0.00</td>\n      <td>107.6</td>\n      <td>107.6</td>\n      <td>NaN</td>\n      <td>91.8</td>\n      <td>0.329</td>\n      <td>0.200</td>\n      <td>0.542</td>\n      <td>1996</td>\n    </tr>\n    <tr>\n      <th>29</th>\n      <td>League Average 1997</td>\n      <td>82</td>\n      <td>241.9</td>\n      <td>36.1</td>\n      <td>79.3</td>\n      <td>0.455</td>\n      <td>6.0</td>\n      <td>16.8</td>\n      <td>0.360</td>\n      <td>30.0</td>\n      <td>...</td>\n      <td>0.00</td>\n      <td>0.00</td>\n      <td>106.7</td>\n      <td>106.7</td>\n      <td>NaN</td>\n      <td>90.1</td>\n      <td>0.320</td>\n      <td>0.212</td>\n      <td>0.536</td>\n      <td>1997</td>\n    </tr>\n    <tr>\n      <th>29</th>\n      <td>League Average 1998</td>\n      <td>82</td>\n      <td>241.9</td>\n      <td>35.9</td>\n      <td>79.7</td>\n      <td>0.450</td>\n      <td>4.4</td>\n      <td>12.7</td>\n      <td>0.346</td>\n      <td>31.5</td>\n      <td>...</td>\n      <td>0.00</td>\n      <td>0.00</td>\n      <td>105.0</td>\n      <td>105.0</td>\n      <td>NaN</td>\n      <td>90.3</td>\n      <td>0.330</td>\n      <td>0.159</td>\n      <td>0.524</td>\n      <td>1998</td>\n    </tr>\n    <tr>\n      <th>29</th>\n      <td>League Average 1999</td>\n      <td>50</td>\n      <td>241.8</td>\n      <td>34.2</td>\n      <td>78.2</td>\n      <td>0.437</td>\n      <td>4.5</td>\n      <td>13.2</td>\n      <td>0.339</td>\n      <td>29.7</td>\n      <td>...</td>\n      <td>0.00</td>\n      <td>0.00</td>\n      <td>102.2</td>\n      <td>102.2</td>\n      <td>NaN</td>\n      <td>88.9</td>\n      <td>0.330</td>\n      <td>0.168</td>\n      <td>0.511</td>\n      <td>1999</td>\n    </tr>\n    <tr>\n      <th>29</th>\n      <td>League Average 2000</td>\n      <td>82</td>\n      <td>241.5</td>\n      <td>36.8</td>\n      <td>82.1</td>\n      <td>0.449</td>\n      <td>4.8</td>\n      <td>13.7</td>\n      <td>0.353</td>\n      <td>32.0</td>\n      <td>...</td>\n      <td>0.00</td>\n      <td>0.00</td>\n      <td>104.1</td>\n      <td>104.1</td>\n      <td>NaN</td>\n      <td>93.1</td>\n      <td>0.308</td>\n      <td>0.167</td>\n      <td>0.523</td>\n      <td>2000</td>\n    </tr>\n    <tr>\n      <th>29</th>\n      <td>League Average 2001</td>\n      <td>82</td>\n      <td>242.0</td>\n      <td>35.7</td>\n      <td>80.6</td>\n      <td>0.443</td>\n      <td>4.8</td>\n      <td>13.7</td>\n      <td>0.354</td>\n      <td>30.8</td>\n      <td>...</td>\n      <td>0.00</td>\n      <td>0.00</td>\n      <td>103.0</td>\n      <td>103.0</td>\n      <td>NaN</td>\n      <td>91.3</td>\n      <td>0.309</td>\n      <td>0.170</td>\n      <td>0.518</td>\n      <td>2001</td>\n    </tr>\n    <tr>\n      <th>29</th>\n      <td>League Average 2002</td>\n      <td>82</td>\n      <td>241.7</td>\n      <td>36.2</td>\n      <td>81.3</td>\n      <td>0.445</td>\n      <td>5.2</td>\n      <td>14.7</td>\n      <td>0.354</td>\n      <td>31.0</td>\n      <td>...</td>\n      <td>0.00</td>\n      <td>0.00</td>\n      <td>104.5</td>\n      <td>104.5</td>\n      <td>NaN</td>\n      <td>90.7</td>\n      <td>0.293</td>\n      <td>0.181</td>\n      <td>0.520</td>\n      <td>2002</td>\n    </tr>\n    <tr>\n      <th>29</th>\n      <td>League Average 2003</td>\n      <td>82</td>\n      <td>242.0</td>\n      <td>35.7</td>\n      <td>80.8</td>\n      <td>0.442</td>\n      <td>5.1</td>\n      <td>14.7</td>\n      <td>0.349</td>\n      <td>30.6</td>\n      <td>...</td>\n      <td>0.00</td>\n      <td>0.00</td>\n      <td>103.6</td>\n      <td>103.6</td>\n      <td>NaN</td>\n      <td>91.0</td>\n      <td>0.302</td>\n      <td>0.182</td>\n      <td>0.519</td>\n      <td>2003</td>\n    </tr>\n    <tr>\n      <th>29</th>\n      <td>League Average 2004</td>\n      <td>82</td>\n      <td>241.7</td>\n      <td>35.0</td>\n      <td>79.8</td>\n      <td>0.439</td>\n      <td>5.2</td>\n      <td>14.9</td>\n      <td>0.347</td>\n      <td>29.8</td>\n      <td>...</td>\n      <td>0.00</td>\n      <td>0.00</td>\n      <td>102.9</td>\n      <td>102.9</td>\n      <td>NaN</td>\n      <td>90.1</td>\n      <td>0.303</td>\n      <td>0.187</td>\n      <td>0.516</td>\n      <td>2004</td>\n    </tr>\n    <tr>\n      <th>30</th>\n      <td>League Average 2005</td>\n      <td>82</td>\n      <td>241.9</td>\n      <td>35.9</td>\n      <td>80.3</td>\n      <td>0.447</td>\n      <td>5.6</td>\n      <td>15.8</td>\n      <td>0.356</td>\n      <td>30.3</td>\n      <td>...</td>\n      <td>0.00</td>\n      <td>0.00</td>\n      <td>106.1</td>\n      <td>106.1</td>\n      <td>NaN</td>\n      <td>90.9</td>\n      <td>0.324</td>\n      <td>0.196</td>\n      <td>0.529</td>\n      <td>2005</td>\n    </tr>\n    <tr>\n      <th>30</th>\n      <td>League Average 2006</td>\n      <td>82</td>\n      <td>242.1</td>\n      <td>35.8</td>\n      <td>79.0</td>\n      <td>0.454</td>\n      <td>5.7</td>\n      <td>16.0</td>\n      <td>0.358</td>\n      <td>30.1</td>\n      <td>...</td>\n      <td>0.00</td>\n      <td>0.00</td>\n      <td>106.2</td>\n      <td>106.2</td>\n      <td>NaN</td>\n      <td>90.5</td>\n      <td>0.333</td>\n      <td>0.202</td>\n      <td>0.536</td>\n      <td>2006</td>\n    </tr>\n    <tr>\n      <th>30</th>\n      <td>League Average 2007</td>\n      <td>82</td>\n      <td>242.2</td>\n      <td>36.5</td>\n      <td>79.7</td>\n      <td>0.458</td>\n      <td>6.1</td>\n      <td>16.9</td>\n      <td>0.358</td>\n      <td>30.5</td>\n      <td>...</td>\n      <td>0.00</td>\n      <td>0.00</td>\n      <td>106.5</td>\n      <td>106.5</td>\n      <td>NaN</td>\n      <td>91.9</td>\n      <td>0.327</td>\n      <td>0.213</td>\n      <td>0.541</td>\n      <td>2007</td>\n    </tr>\n    <tr>\n      <th>30</th>\n      <td>League Average 2008</td>\n      <td>82</td>\n      <td>241.5</td>\n      <td>37.3</td>\n      <td>81.5</td>\n      <td>0.457</td>\n      <td>6.6</td>\n      <td>18.1</td>\n      <td>0.362</td>\n      <td>30.7</td>\n      <td>...</td>\n      <td>0.00</td>\n      <td>0.00</td>\n      <td>107.5</td>\n      <td>107.5</td>\n      <td>NaN</td>\n      <td>92.4</td>\n      <td>0.306</td>\n      <td>0.222</td>\n      <td>0.540</td>\n      <td>2008</td>\n    </tr>\n    <tr>\n      <th>30</th>\n      <td>League Average 2009</td>\n      <td>82</td>\n      <td>241.7</td>\n      <td>37.1</td>\n      <td>80.9</td>\n      <td>0.459</td>\n      <td>6.6</td>\n      <td>18.1</td>\n      <td>0.367</td>\n      <td>30.5</td>\n      <td>...</td>\n      <td>0.00</td>\n      <td>0.00</td>\n      <td>108.3</td>\n      <td>108.3</td>\n      <td>NaN</td>\n      <td>91.7</td>\n      <td>0.306</td>\n      <td>0.224</td>\n      <td>0.544</td>\n      <td>2009</td>\n    </tr>\n    <tr>\n      <th>30</th>\n      <td>League Average 2010</td>\n      <td>82</td>\n      <td>241.7</td>\n      <td>37.7</td>\n      <td>81.7</td>\n      <td>0.461</td>\n      <td>6.4</td>\n      <td>18.1</td>\n      <td>0.355</td>\n      <td>31.3</td>\n      <td>...</td>\n      <td>-0.01</td>\n      <td>-0.01</td>\n      <td>107.6</td>\n      <td>107.6</td>\n      <td>NaN</td>\n      <td>92.7</td>\n      <td>0.300</td>\n      <td>0.222</td>\n      <td>0.543</td>\n      <td>2010</td>\n    </tr>\n    <tr>\n      <th>30</th>\n      <td>League Average 2011</td>\n      <td>82</td>\n      <td>241.9</td>\n      <td>37.2</td>\n      <td>81.2</td>\n      <td>0.459</td>\n      <td>6.5</td>\n      <td>18.0</td>\n      <td>0.358</td>\n      <td>30.8</td>\n      <td>...</td>\n      <td>0.00</td>\n      <td>0.00</td>\n      <td>107.3</td>\n      <td>107.3</td>\n      <td>NaN</td>\n      <td>92.1</td>\n      <td>0.300</td>\n      <td>0.222</td>\n      <td>0.541</td>\n      <td>2011</td>\n    </tr>\n    <tr>\n      <th>30</th>\n      <td>League Average 2012</td>\n      <td>66</td>\n      <td>241.9</td>\n      <td>36.5</td>\n      <td>81.4</td>\n      <td>0.448</td>\n      <td>6.4</td>\n      <td>18.4</td>\n      <td>0.349</td>\n      <td>30.1</td>\n      <td>...</td>\n      <td>0.00</td>\n      <td>0.00</td>\n      <td>104.6</td>\n      <td>104.6</td>\n      <td>NaN</td>\n      <td>91.3</td>\n      <td>0.276</td>\n      <td>0.226</td>\n      <td>0.527</td>\n      <td>2012</td>\n    </tr>\n    <tr>\n      <th>30</th>\n      <td>League Average 2013</td>\n      <td>82</td>\n      <td>241.9</td>\n      <td>37.1</td>\n      <td>82.0</td>\n      <td>0.453</td>\n      <td>7.2</td>\n      <td>20.0</td>\n      <td>0.359</td>\n      <td>30.0</td>\n      <td>...</td>\n      <td>0.00</td>\n      <td>0.00</td>\n      <td>105.9</td>\n      <td>105.9</td>\n      <td>NaN</td>\n      <td>92.0</td>\n      <td>0.270</td>\n      <td>0.243</td>\n      <td>0.535</td>\n      <td>2013</td>\n    </tr>\n    <tr>\n      <th>30</th>\n      <td>League Average 2014</td>\n      <td>82</td>\n      <td>242.0</td>\n      <td>37.7</td>\n      <td>83.0</td>\n      <td>0.454</td>\n      <td>7.7</td>\n      <td>21.5</td>\n      <td>0.360</td>\n      <td>30.0</td>\n      <td>...</td>\n      <td>0.00</td>\n      <td>0.00</td>\n      <td>106.7</td>\n      <td>106.7</td>\n      <td>NaN</td>\n      <td>93.9</td>\n      <td>0.284</td>\n      <td>0.259</td>\n      <td>0.541</td>\n      <td>2014</td>\n    </tr>\n    <tr>\n      <th>30</th>\n      <td>League Average 2015</td>\n      <td>82</td>\n      <td>242.0</td>\n      <td>37.5</td>\n      <td>83.6</td>\n      <td>0.449</td>\n      <td>7.8</td>\n      <td>22.4</td>\n      <td>0.350</td>\n      <td>29.7</td>\n      <td>...</td>\n      <td>0.00</td>\n      <td>0.00</td>\n      <td>105.6</td>\n      <td>105.6</td>\n      <td>NaN</td>\n      <td>93.9</td>\n      <td>0.273</td>\n      <td>0.268</td>\n      <td>0.534</td>\n      <td>2015</td>\n    </tr>\n    <tr>\n      <th>30</th>\n      <td>League Average 2016</td>\n      <td>82</td>\n      <td>241.8</td>\n      <td>38.2</td>\n      <td>84.6</td>\n      <td>0.452</td>\n      <td>8.5</td>\n      <td>24.1</td>\n      <td>0.354</td>\n      <td>29.7</td>\n      <td>...</td>\n      <td>0.00</td>\n      <td>0.00</td>\n      <td>106.4</td>\n      <td>106.4</td>\n      <td>NaN</td>\n      <td>95.8</td>\n      <td>0.276</td>\n      <td>0.285</td>\n      <td>0.541</td>\n      <td>2016</td>\n    </tr>\n    <tr>\n      <th>30</th>\n      <td>League Average 2017</td>\n      <td>82</td>\n      <td>241.6</td>\n      <td>39.0</td>\n      <td>85.4</td>\n      <td>0.457</td>\n      <td>9.7</td>\n      <td>27.0</td>\n      <td>0.358</td>\n      <td>29.4</td>\n      <td>...</td>\n      <td>0.00</td>\n      <td>0.00</td>\n      <td>108.8</td>\n      <td>108.8</td>\n      <td>NaN</td>\n      <td>96.4</td>\n      <td>0.271</td>\n      <td>0.316</td>\n      <td>0.552</td>\n      <td>2017</td>\n    </tr>\n    <tr>\n      <th>30</th>\n      <td>League Average 2018</td>\n      <td>82</td>\n      <td>241.4</td>\n      <td>39.6</td>\n      <td>86.1</td>\n      <td>0.460</td>\n      <td>10.5</td>\n      <td>29.0</td>\n      <td>0.362</td>\n      <td>29.1</td>\n      <td>...</td>\n      <td>0.00</td>\n      <td>0.00</td>\n      <td>108.6</td>\n      <td>108.6</td>\n      <td>NaN</td>\n      <td>97.3</td>\n      <td>0.252</td>\n      <td>0.337</td>\n      <td>0.556</td>\n      <td>2018</td>\n    </tr>\n    <tr>\n      <th>30</th>\n      <td>League Average 2019</td>\n      <td>82</td>\n      <td>241.6</td>\n      <td>41.1</td>\n      <td>89.2</td>\n      <td>0.461</td>\n      <td>11.4</td>\n      <td>32.0</td>\n      <td>0.355</td>\n      <td>29.7</td>\n      <td>...</td>\n      <td>0.00</td>\n      <td>0.00</td>\n      <td>110.4</td>\n      <td>110.4</td>\n      <td>NaN</td>\n      <td>100.0</td>\n      <td>0.259</td>\n      <td>0.359</td>\n      <td>0.560</td>\n      <td>2019</td>\n    </tr>\n    <tr>\n      <th>30</th>\n      <td>League Average 2020</td>\n      <td>71</td>\n      <td>241.8</td>\n      <td>40.9</td>\n      <td>88.8</td>\n      <td>0.460</td>\n      <td>12.2</td>\n      <td>34.1</td>\n      <td>0.358</td>\n      <td>28.7</td>\n      <td>...</td>\n      <td>0.00</td>\n      <td>0.00</td>\n      <td>110.6</td>\n      <td>110.6</td>\n      <td>NaN</td>\n      <td>100.3</td>\n      <td>0.260</td>\n      <td>0.384</td>\n      <td>0.565</td>\n      <td>2020</td>\n    </tr>\n    <tr>\n      <th>30</th>\n      <td>League Average 2021</td>\n      <td>72</td>\n      <td>241.4</td>\n      <td>41.2</td>\n      <td>88.4</td>\n      <td>0.466</td>\n      <td>12.7</td>\n      <td>34.6</td>\n      <td>0.367</td>\n      <td>28.5</td>\n      <td>...</td>\n      <td>0.00</td>\n      <td>0.00</td>\n      <td>112.3</td>\n      <td>112.3</td>\n      <td>NaN</td>\n      <td>99.2</td>\n      <td>0.247</td>\n      <td>0.392</td>\n      <td>0.572</td>\n      <td>2021</td>\n    </tr>\n    <tr>\n      <th>30</th>\n      <td>League Average 2022</td>\n      <td>76</td>\n      <td>241.4</td>\n      <td>40.5</td>\n      <td>88.1</td>\n      <td>0.460</td>\n      <td>12.4</td>\n      <td>35.2</td>\n      <td>0.352</td>\n      <td>28.1</td>\n      <td>...</td>\n      <td>0.00</td>\n      <td>0.00</td>\n      <td>111.6</td>\n      <td>111.6</td>\n      <td>NaN</td>\n      <td>98.1</td>\n      <td>0.247</td>\n      <td>0.399</td>\n      <td>0.564</td>\n      <td>2022</td>\n    </tr>\n  </tbody>\n</table>\n<p>43 rows × 38 columns</p>\n</div>"
     },
     "execution_count": 48,
     "metadata": {},
     "output_type": "execute_result"
    }
   ],
   "source": [
    "df.loc[df.Team.str.contains('League')]"
   ],
   "metadata": {
    "collapsed": false,
    "pycharm": {
     "name": "#%%\n"
    }
   }
  },
  {
   "cell_type": "code",
   "execution_count": 49,
   "outputs": [
    {
     "data": {
      "text/plain": "<AxesSubplot:xlabel='Year'>"
     },
     "execution_count": 49,
     "metadata": {},
     "output_type": "execute_result"
    },
    {
     "data": {
      "text/plain": "<Figure size 432x288 with 1 Axes>",
      "image/png": "[encoded data removed]"
     },
     "metadata": {
      "needs_background": "light"
     },
     "output_type": "display_data"
    }
   ],
   "source": [
    "df.loc[df.Team.str.contains('League')].plot(x='Year',y=['TS%'],marker='o',grid=True)\n"
   ],
   "metadata": {
    "collapsed": false,
    "pycharm": {
     "name": "#%%\n"
    }
   }
  },
  {
   "cell_type": "code",
   "execution_count": 57,
   "outputs": [
    {
     "data": {
      "text/plain": "<AxesSubplot:xlabel='Year'>"
     },
     "execution_count": 57,
     "metadata": {},
     "output_type": "execute_result"
    },
    {
     "data": {
      "text/plain": "<Figure size 432x288 with 1 Axes>",
      "image/png": "[encoded data removed]"
     },
     "metadata": {
      "needs_background": "light"
     },
     "output_type": "display_data"
    }
   ],
   "source": [
    "df.loc[df.Team.str.contains('League')].plot(x='Year',y=['FT%'],marker='o',grid=True)"
   ],
   "metadata": {
    "collapsed": false,
    "pycharm": {
     "name": "#%%\n"
    }
   }
  },
  {
   "cell_type": "code",
   "execution_count": null,
   "outputs": [],
   "source": [],
   "metadata": {
    "collapsed": false,
    "pycharm": {
     "name": "#%%\n"
    }
   }
  }
 ],
 "metadata": {
  "kernelspec": {
   "display_name": "Python 3",
   "language": "python",
   "name": "python3"
  },
  "language_info": {
   "codemirror_mode": {
    "name": "ipython",
    "version": 2
   },
   "file_extension": ".py",
   "mimetype": "text/x-python",
   "name": "python",
   "nbconvert_exporter": "python",
   "pygments_lexer": "ipython2",
   "version": "2.7.6"
  }
 },
 "nbformat": 4,
 "nbformat_minor": 0
}