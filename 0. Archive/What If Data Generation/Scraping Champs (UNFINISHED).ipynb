{
 "cells": [
  {
   "cell_type": "code",
   "execution_count": 1,
   "metadata": {
    "collapsed": true
   },
   "outputs": [],
   "source": [
    "# import necessary libraries\n",
    "from bs4 import BeautifulSoup\n",
    "import requests\n",
    "import re"
   ]
  },
  {
   "cell_type": "code",
   "execution_count": 2,
   "outputs": [],
   "source": [
    "\n",
    "# function to extract html document from given url\n",
    "def getHTMLdocument(url):\n",
    "\n",
    "    # request for HTML document of given url\n",
    "    response = requests.get(url)\n",
    "\n",
    "    # response will be provided in JSON format\n",
    "    return response.text\n"
   ],
   "metadata": {
    "collapsed": false,
    "pycharm": {
     "name": "#%%\n"
    }
   }
  },
  {
   "cell_type": "code",
   "execution_count": 11,
   "outputs": [
    {
     "name": "stdout",
     "output_type": "stream",
     "text": [
      "<p><a href=\"http://www.sportslogos.net/\">via Sports Logos.net</a></p>\n",
      "<p><a href=\"https://www.sports-reference.com/blog/2016/06/redesign-team-and-league-logos-courtesy-sportslogos-net/\">About logos</a></p>\n",
      "<p><strong>League Champion</strong>: <a href=\"/teams/MIL/2021.html\">Milwaukee Bucks</a></p>\n",
      "<p><strong>Most Valuable Player</strong>: <a href=\"/players/j/jokicni01.html\">Nikola Jokić</a> (26.4/10.8/8.3)</p>\n",
      "<p><strong>Rookie of the Year</strong>: <a href=\"/players/b/ballla01.html\">LaMelo Ball</a> (15.7/5.9/6.1)</p>\n",
      "<p><strong>PPG Leader</strong>: <a href=\"/players/c/curryst01.html\">Stephen Curry</a> (32.0)</p>\n",
      "<p><strong>RPG Leader</strong>: <a href=\"/players/c/capelca01.html\">Clint Capela</a> (14.3)</p>\n",
      "<p><strong>APG Leader</strong>: <a href=\"/players/w/westbru01.html\">Russell Westbrook</a> (11.7)</p>\n",
      "<p><strong>WS Leader</strong>: <a href=\"/players/j/jokicni01.html\">Nikola Jokić</a> (15.6)</p>\n",
      "<p class=\"listhead\"><strong>Player Stats</strong></p>\n",
      "<p class=\"listhead\"><strong>Other</strong></p>\n",
      "<p class=\"listhead\"><a href=\"/playoffs/NBA_2021.html\">2021 Playoffs Summary</a></p>\n",
      "<p class=\"listhead inpage\">On this page:</p>\n",
      "<p><a href=\"/leagues/NBA_2021.html\"><u>2020-21 NBA Season</u></a></p>\n",
      "<p class=\"listhead\"><strong>Player Stats</strong></p>\n",
      "<p class=\"listhead\"><strong>Other</strong></p>\n",
      "<p class=\"listhead\"><a href=\"/playoffs/NBA_2021.html\">2021 Playoffs Summary</a></p>\n",
      "<p>Every <a href=\"https://www.sports-reference.com/blog/sports-reference-social-media/\">Sports Reference Social Media Account</a></p>\n",
      "<p><strong>Site Last Updated:</strong> Monday, May  9,  4:36AM\n",
      "</p>\n",
      "<p><a class=\"button\" href=\"https://www.sports-reference.com/feedback/\" style=\"display: block\">Question, Comment, Feedback, or Correction?</a></p>\n",
      "<p><a class=\"button\" href=\"https://www.basketball-reference.com/email\" style=\"display: block\">Subscribe to our Free Email Newsletter</a></p>\n",
      "<p><a class=\"button alt\" href=\"https://www.sports-reference.com/this-month.html?&amp;utm_medium=sr&amp;utm_source=bbr&amp;utm_campaign=site-footer-twisr\" style=\"background-color:#155ca9; color: #fff;\">This Month in Sports Reference<br/><em>Find out when we add a feature or make a change</em></a></p>\n",
      "<p><a href=\"https://www.sports-reference.com/blog/ways-sports-reference-can-help-your-website/?utm_medium=sr&amp;utm_source=bbr&amp;utm_campaign=site-footer-ways-help\">Do you have a sports website? Or write about sports? We have tools and resources that can help you use sports data.  Find out more.</a></p>\n",
      "<p>All logos are the trademark &amp; property of their owners and not Sports Reference LLC.  We present them here for purely educational purposes.\n",
      "\t\t\t\t<a href=\"https://www.sports-reference.com/blog/2016/06/redesign-team-and-league-logos-courtesy-sportslogos-net/\">Our reasoning for presenting offensive logos.</a></p>\n",
      "<p>\n",
      "\t\t\t\t\t\n",
      "\t\t\t\t\tLogos were compiled by the amazing <a href=\"http://sportslogos.net/\">SportsLogos.net.</a>\n",
      "</p>\n",
      "<p>Data Provided By\n",
      "\t<a href=\"https://www.sportradar.com/\" rel=\"nofollow\"><img alt=\"SportRadar\" border=\"0\" src=\"https://d2p3bygnnzw9w3.cloudfront.net/req/202205052/images/klecko/sportradar.png\" style=\"background-color:#666; padding:.5em; border-radius:.25em\" width=\"275\"/></a>\n",
      "\tthe official stats partner of the NBA.</p>\n",
      "<p>Copyright © 2000-2022 <a href=\"//www.sports-reference.com/\">Sports Reference LLC</a>. All rights reserved.</p>\n"
     ]
    }
   ],
   "source": [
    "# assign required credentials\n",
    "# assign URL\n",
    "url_to_scrape = \"https://www.basketball-reference.com/leagues/NBA_2021.html\"\n",
    "\n",
    "# create document\n",
    "html_document = getHTMLdocument(url_to_scrape)\n",
    "\n",
    "# create soap object\n",
    "soup = BeautifulSoup(html_document, 'html.parser')\n",
    "# print(soup)\n",
    "\n",
    "\n",
    "# find all the anchor tags with \"href\"\n",
    "# attribute starting with \"https://\"\n",
    "# for link in soup.find_all('a',\n",
    "#                           attrs={'href': re.compile(\"^https://\")}):\n",
    "#     # display the actual urls\n",
    "#     print(link.get('href'))"
   ],
   "metadata": {
    "collapsed": false,
    "pycharm": {
     "name": "#%%\n"
    }
   }
  },
  {
   "cell_type": "code",
   "execution_count": 23,
   "outputs": [
    {
     "name": "stdout",
     "output_type": "stream",
     "text": [
      "Milwaukee Bucks\n"
     ]
    }
   ],
   "source": [
    "for i in soup.findAll('p'):\n",
    "    if i.text.lower().__contains__('champ'):\n",
    "        print(' '.join(i.text.split()[-2:]))"
   ],
   "metadata": {
    "collapsed": false,
    "pycharm": {
     "name": "#%%\n"
    }
   }
  },
  {
   "cell_type": "code",
   "execution_count": 15,
   "outputs": [
    {
     "data": {
      "text/plain": "[<strong>Season Summary</strong>,\n <strong>League Champion</strong>,\n <strong>Most Valuable Player</strong>,\n <strong>Rookie of the Year</strong>,\n <strong>PPG Leader</strong>,\n <strong>RPG Leader</strong>,\n <strong>APG Leader</strong>,\n <strong>WS Leader</strong>,\n <strong>Player Stats</strong>,\n <strong>Other</strong>,\n <strong>Atlantic Division</strong>,\n <strong>Central Division</strong>,\n <strong>Southeast Division</strong>,\n <strong>Northwest Division</strong>,\n <strong>Pacific Division</strong>,\n <strong>Southwest Division</strong>,\n <strong>Player Stats</strong>,\n <strong>Other</strong>,\n <strong>Season Summary</strong>,\n <strong>In the News</strong>,\n <strong>All-Time Greats</strong>,\n <strong>Active Greats</strong>,\n <strong>Atlantic</strong>,\n <strong>Central</strong>,\n <strong>Southeast</strong>,\n <strong>Northwest</strong>,\n <strong>Pacific</strong>,\n <strong>Southwest</strong>,\n <strong>Player Finders</strong>,\n <strong>Team Finders</strong>,\n <strong>WNBA Tools</strong>,\n <strong>Other Finders</strong>,\n <strong>Site Last Updated:</strong>]"
     },
     "execution_count": 15,
     "metadata": {},
     "output_type": "execute_result"
    }
   ],
   "source": [
    "soup.findAll('strong')\n"
   ],
   "metadata": {
    "collapsed": false,
    "pycharm": {
     "name": "#%%\n"
    }
   }
  }
 ],
 "metadata": {
  "kernelspec": {
   "display_name": "Python 3",
   "language": "python",
   "name": "python3"
  },
  "language_info": {
   "codemirror_mode": {
    "name": "ipython",
    "version": 2
   },
   "file_extension": ".py",
   "mimetype": "text/x-python",
   "name": "python",
   "nbconvert_exporter": "python",
   "pygments_lexer": "ipython2",
   "version": "2.7.6"
  }
 },
 "nbformat": 4,
 "nbformat_minor": 0
}