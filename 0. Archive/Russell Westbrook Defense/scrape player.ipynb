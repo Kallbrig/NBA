{
 "cells": [
  {
   "cell_type": "code",
   "execution_count": 46,
   "outputs": [],
   "source": [
    "from datetime import datetime\n",
    "import pandas as pd\n",
    "import requests\n",
    "from matplotlib import pyplot as plt\n",
    "import os\n",
    "\n",
    "from selenium.webdriver import Chrome\n",
    "from selenium.webdriver.chrome.options import Options\n",
    "from time import sleep"
   ],
   "metadata": {
    "collapsed": false,
    "pycharm": {
     "name": "#%%\n"
    }
   }
  },
  {
   "cell_type": "code",
   "execution_count": 39,
   "outputs": [],
   "source": [
    "def remove_multiindex(df:pd.DataFrame):\n",
    "\treturn df.droplevel(level=0,axis=1)"
   ],
   "metadata": {
    "collapsed": false,
    "pycharm": {
     "name": "#%%\n"
    }
   }
  },
  {
   "cell_type": "code",
   "execution_count": 28,
   "outputs": [],
   "source": [
    "\n",
    "# link for extract html data\n",
    "def getdata(url):\n",
    "    r = requests.get(url)\n",
    "    return r.text\n",
    "\n",
    "def getdata_selenium(url):\n",
    "\n",
    "    opts = Options()\n",
    "    opts.headless = True\n",
    "\n",
    "    assert opts.headless  # Operating in headless mode\n",
    "    browser = Chrome(options=opts)\n",
    "    browser.set_page_load_timeout(15)\n",
    "    browser.get(url)\n",
    "    txt = browser.page_source\n",
    "    browser.close()\n",
    "    return txt"
   ],
   "metadata": {
    "collapsed": false,
    "pycharm": {
     "name": "#%%\n"
    }
   }
  },
  {
   "cell_type": "code",
   "execution_count": null,
   "outputs": [],
   "source": [
    "\n",
    "\n",
    "\n",
    "def fetch_player_stats_single_year(year: int):\n",
    "    df = pd.read_html(getdata(f'https://www.basketball-reference.com/leagues/NBA_{year}_per_game.html'))[0]\n",
    "    df_adv = pd.read_html(getdata(f'https://www.basketball-reference.com/leagues/NBA_{year}_advanced.html'))[0]\n",
    "    df_on_off = pd.read_html(getdata(f'https://www.basketball-reference.com/leagues/NBA_{year}_advanced.html'))[0]\n",
    "\n",
    "    df = df.drop(df[df['Player'] == 'Player'].index)\n",
    "\n",
    "    df_adv = df_adv.drop(df_adv[df_adv['Player'] == 'Player'].index)\n",
    "\n",
    "    df_on_off = df_on_off.drop(df_on_off[df_on_off['Player'] == 'Player'].index)\n",
    "\n",
    "    new = pd.merge(df, df_adv, on=['Player', 'Age', 'Tm', 'Pos'])\n",
    "    new = pd.merge(new,df_on_off , on=['Player', 'Age', 'Tm', 'Pos'])\n",
    "\n",
    "    player_stats_list = ['Player', 'Pos', 'Age', 'Tm', 'G_x', 'GS', 'MP_x', 'FG', 'FGA',\n",
    "                         'FG%', '3P', '3PA', '3P%', '2P', '2PA', '2P%', 'eFG%', 'FT', 'FTA',\n",
    "                         'FT%', 'ORB', 'DRB', 'TRB', 'AST', 'STL', 'BLK', 'TOV', 'PF', 'PTS',\n",
    "                         'PER', 'TS%', '3PAr', 'FTr', 'ORB%', 'DRB%', 'TRB%',\n",
    "                         'AST%', 'STL%', 'BLK%', 'TOV%', 'USG%', 'OWS', 'DWS',\n",
    "                         'WS', 'WS/48', 'OBPM', 'DBPM', 'BPM', 'VORP']\n",
    "\n",
    "    player_stats_list_correct = ['Player', 'Pos', 'Age', 'Tm', 'G', 'GS', 'MP', 'FG', 'FGA', 'FG%',\n",
    "                                 '3P', '3PA', '3P%', '2P', '2PA', '2P%', 'eFG%', 'FT', 'FTA', 'FT%',\n",
    "                                 'ORB', 'DRB', 'TRB', 'AST', 'STL', 'BLK', 'TOV', 'PF', 'PTS', 'PER',\n",
    "                                 'TS%', '3PAr', 'FTr', 'ORB%', 'DRB%', 'TRB%', 'AST%', 'STL%', 'BLK%',\n",
    "                                 'TOV%', 'USG%', 'OWS', 'DWS', 'WS', 'WS/48', 'OBPM', 'DBPM', 'BPM',\n",
    "                                 'VORP']\n",
    "\n",
    "    # cuts down the columns to what is listed in player_stats_list_correct\n",
    "    new = new[player_stats_list]\n",
    "    new.columns = player_stats_list_correct\n",
    "\n",
    "    # This gets rid of traded players entirely\n",
    "    new = new.drop_duplicates(subset='Player', keep=False).reset_index(drop=True)\n",
    "\n",
    "    # Fills nan's with 0\n",
    "    new.fillna(value=0, inplace=True)\n",
    "\n",
    "    # Adds a year column\n",
    "    new['Year'] = year\n",
    "\n",
    "    if not os.path.isdir(f'Data/Test Sets/{datetime.now().strftime(\"%Y\")}'):\n",
    "        os.mkdir(f'Data/Test Sets/{datetime.now().strftime(\"%Y\")}')\n",
    "\n",
    "    new.to_csv(f'Data/Test Sets/{datetime.now().strftime(\"%Y\")}/{datetime.now().strftime(\"%Y%m%d\")}_player_stats.csv')\n",
    "    print(datetime.now().strftime(\"%m/%d/%Y\"), 'Complete')"
   ],
   "metadata": {
    "collapsed": false,
    "pycharm": {
     "name": "#%%\n"
    }
   }
  },
  {
   "cell_type": "code",
   "execution_count": 58,
   "outputs": [],
   "source": [
    "df_list_1 = pd.read_html(getdata_selenium(f'https://www.basketball-reference.com/players/l/lowryky01.html'))\n",
    "df_list_2 = pd.read_html(getdata_selenium(f'https://www.basketball-reference.com/players/w/westbru01.html'))"
   ],
   "metadata": {
    "collapsed": false,
    "pycharm": {
     "name": "#%%\n"
    }
   }
  },
  {
   "cell_type": "code",
   "execution_count": 66,
   "outputs": [],
   "source": [
    "\n",
    "def process_df(df:pd.DataFrame):\n",
    "    # df_on_off_1 = df_list_1[12]\n",
    "    # df_on_off_2 = df_list_2[12]\n",
    "    df = remove_multiindex(df)\n",
    "    df.drop(range(df[df.Season == 'Career'].index[0],len(df)),inplace=True)\n",
    "    # df.drop(range(df[df.Season == 'Career'].index[0],len(df)),inplace=True)\n",
    "\n",
    "    df = df[[i for i in df.columns if 'Unnamed' not in i]]\n",
    "\n",
    "    return df\n"
   ],
   "metadata": {
    "collapsed": false,
    "pycharm": {
     "name": "#%%\n"
    }
   }
  },
  {
   "cell_type": "code",
   "execution_count": 67,
   "outputs": [
    {
     "data": {
      "text/plain": "     Season   Age   Tm   Lg Pos     G      MP   PG%  SG%  SF%  ...  Shoot  \\\n0   2006-07  20.0  MEM  NBA  PG  10.0   175.0   17%  83%  NaN  ...   10.0   \n1   2007-08  21.0  MEM  NBA  PG  82.0  2089.0   92%   8%  NaN  ...  144.0   \n2   2008-09  22.0  TOT  NBA  PG  77.0  1679.0   95%   5%  NaN  ...   98.0   \n3   2008-09  22.0  MEM  NBA  PG  49.0  1071.0   98%   2%  NaN  ...   68.0   \n4   2008-09  22.0  HOU  NBA  PG  28.0   608.0   88%  12%  NaN  ...   30.0   \n5   2009-10  23.0  HOU  NBA  PG  68.0  1651.0   55%  45%  NaN  ...  107.0   \n6   2010-11  24.0  HOU  NBA  PG  75.0  2563.0   92%   8%  NaN  ...   88.0   \n7   2011-12  25.0  HOU  NBA  PG  47.0  1510.0  100%  NaN  NaN  ...   73.0   \n8   2012-13  26.0  TOR  NBA  PG  68.0  2020.0   96%   4%  NaN  ...   85.0   \n9   2013-14  27.0  TOR  NBA  PG  79.0  2862.0  100%  NaN  NaN  ...  125.0   \n10  2014-15  28.0  TOR  NBA  PG  70.0  2414.0  100%  NaN  NaN  ...  127.0   \n11  2015-16  29.0  TOR  NBA  PG  77.0  2851.0  100%  NaN  NaN  ...  193.0   \n12  2016-17  30.0  TOR  NBA  PG  60.0  2244.0  100%  NaN  NaN  ...  162.0   \n13  2017-18  31.0  TOR  NBA  PG  78.0  2510.0  100%  NaN  NaN  ...  103.0   \n14  2018-19  32.0  TOR  NBA  PG  65.0  2213.0   70%  30%  NaN  ...   69.0   \n15  2019-20  33.0  TOR  NBA  PG  58.0  2098.0  100%  NaN  NaN  ...  119.0   \n16  2020-21  34.0  TOR  NBA  PG  46.0  1601.0   92%   8%  NaN  ...   62.0   \n17  2021-22  35.0  MIA  NBA  PG  63.0  2133.0  100%  NaN  NaN  ...   55.0   \n\n    Off.  Off.  Shoot  Shoot  Off.  Off.     PGA  And1  Blkd  \n0    3.0   6.0   10.0   10.0   3.0   6.0    77.0   2.0   3.0  \n1   22.0  48.0   75.0  144.0  22.0  48.0   724.0  25.0  66.0  \n2   16.0  34.0   59.0   98.0  16.0  34.0   613.0  20.0  44.0  \n3    8.0  22.0   40.0   68.0   8.0  22.0   392.0  15.0  30.0  \n4    8.0  12.0   19.0   30.0   8.0  12.0   221.0   5.0  14.0  \n5   15.0  51.0   62.0  107.0  15.0  51.0   713.0  25.0  37.0  \n6   20.0  25.0   74.0   88.0  20.0  25.0  1172.0  19.0  43.0  \n7   15.0  26.0   49.0   73.0  15.0  26.0   695.0  14.0  35.0  \n8   11.0  28.0  100.0   85.0  11.0  28.0   965.0  13.0  44.0  \n9   20.0  48.0   95.0  125.0  20.0  48.0  1317.0  25.0  51.0  \n10  19.0  29.0   79.0  127.0  19.0  29.0  1080.0  26.0  57.0  \n11  20.0  29.0   87.0  193.0  20.0  29.0  1141.0  26.0  74.0  \n12  11.0  20.0   70.0  162.0  11.0  20.0   940.0  41.0  57.0  \n13   8.0  20.0   70.0  103.0   8.0  20.0  1209.0  25.0  43.0  \n14  11.0  48.0   60.0   69.0  11.0  48.0  1282.0  18.0  30.0  \n15  17.0  52.0   81.0  119.0  17.0  52.0   997.0  21.0  46.0  \n16  15.0  39.0   50.0   62.0  15.0  39.0   816.0  13.0  25.0  \n17  10.0  45.0   78.0   55.0  10.0  45.0  1126.0  11.0  20.0  \n\n[18 rows x 27 columns]",
      "text/html": "<div>\n<style scoped>\n    .dataframe tbody tr th:only-of-type {\n        vertical-align: middle;\n    }\n\n    .dataframe tbody tr th {\n        vertical-align: top;\n    }\n\n    .dataframe thead th {\n        text-align: right;\n    }\n</style>\n<table border=\"1\" class=\"dataframe\">\n  <thead>\n    <tr style=\"text-align: right;\">\n      <th></th>\n      <th>Season</th>\n      <th>Age</th>\n      <th>Tm</th>\n      <th>Lg</th>\n      <th>Pos</th>\n      <th>G</th>\n      <th>MP</th>\n      <th>PG%</th>\n      <th>SG%</th>\n      <th>SF%</th>\n      <th>...</th>\n      <th>Shoot</th>\n      <th>Off.</th>\n      <th>Off.</th>\n      <th>Shoot</th>\n      <th>Shoot</th>\n      <th>Off.</th>\n      <th>Off.</th>\n      <th>PGA</th>\n      <th>And1</th>\n      <th>Blkd</th>\n    </tr>\n  </thead>\n  <tbody>\n    <tr>\n      <th>0</th>\n      <td>2006-07</td>\n      <td>20.0</td>\n      <td>MEM</td>\n      <td>NBA</td>\n      <td>PG</td>\n      <td>10.0</td>\n      <td>175.0</td>\n      <td>17%</td>\n      <td>83%</td>\n      <td>NaN</td>\n      <td>...</td>\n      <td>10.0</td>\n      <td>3.0</td>\n      <td>6.0</td>\n      <td>10.0</td>\n      <td>10.0</td>\n      <td>3.0</td>\n      <td>6.0</td>\n      <td>77.0</td>\n      <td>2.0</td>\n      <td>3.0</td>\n    </tr>\n    <tr>\n      <th>1</th>\n      <td>2007-08</td>\n      <td>21.0</td>\n      <td>MEM</td>\n      <td>NBA</td>\n      <td>PG</td>\n      <td>82.0</td>\n      <td>2089.0</td>\n      <td>92%</td>\n      <td>8%</td>\n      <td>NaN</td>\n      <td>...</td>\n      <td>144.0</td>\n      <td>22.0</td>\n      <td>48.0</td>\n      <td>75.0</td>\n      <td>144.0</td>\n      <td>22.0</td>\n      <td>48.0</td>\n      <td>724.0</td>\n      <td>25.0</td>\n      <td>66.0</td>\n    </tr>\n    <tr>\n      <th>2</th>\n      <td>2008-09</td>\n      <td>22.0</td>\n      <td>TOT</td>\n      <td>NBA</td>\n      <td>PG</td>\n      <td>77.0</td>\n      <td>1679.0</td>\n      <td>95%</td>\n      <td>5%</td>\n      <td>NaN</td>\n      <td>...</td>\n      <td>98.0</td>\n      <td>16.0</td>\n      <td>34.0</td>\n      <td>59.0</td>\n      <td>98.0</td>\n      <td>16.0</td>\n      <td>34.0</td>\n      <td>613.0</td>\n      <td>20.0</td>\n      <td>44.0</td>\n    </tr>\n    <tr>\n      <th>3</th>\n      <td>2008-09</td>\n      <td>22.0</td>\n      <td>MEM</td>\n      <td>NBA</td>\n      <td>PG</td>\n      <td>49.0</td>\n      <td>1071.0</td>\n      <td>98%</td>\n      <td>2%</td>\n      <td>NaN</td>\n      <td>...</td>\n      <td>68.0</td>\n      <td>8.0</td>\n      <td>22.0</td>\n      <td>40.0</td>\n      <td>68.0</td>\n      <td>8.0</td>\n      <td>22.0</td>\n      <td>392.0</td>\n      <td>15.0</td>\n      <td>30.0</td>\n    </tr>\n    <tr>\n      <th>4</th>\n      <td>2008-09</td>\n      <td>22.0</td>\n      <td>HOU</td>\n      <td>NBA</td>\n      <td>PG</td>\n      <td>28.0</td>\n      <td>608.0</td>\n      <td>88%</td>\n      <td>12%</td>\n      <td>NaN</td>\n      <td>...</td>\n      <td>30.0</td>\n      <td>8.0</td>\n      <td>12.0</td>\n      <td>19.0</td>\n      <td>30.0</td>\n      <td>8.0</td>\n      <td>12.0</td>\n      <td>221.0</td>\n      <td>5.0</td>\n      <td>14.0</td>\n    </tr>\n    <tr>\n      <th>5</th>\n      <td>2009-10</td>\n      <td>23.0</td>\n      <td>HOU</td>\n      <td>NBA</td>\n      <td>PG</td>\n      <td>68.0</td>\n      <td>1651.0</td>\n      <td>55%</td>\n      <td>45%</td>\n      <td>NaN</td>\n      <td>...</td>\n      <td>107.0</td>\n      <td>15.0</td>\n      <td>51.0</td>\n      <td>62.0</td>\n      <td>107.0</td>\n      <td>15.0</td>\n      <td>51.0</td>\n      <td>713.0</td>\n      <td>25.0</td>\n      <td>37.0</td>\n    </tr>\n    <tr>\n      <th>6</th>\n      <td>2010-11</td>\n      <td>24.0</td>\n      <td>HOU</td>\n      <td>NBA</td>\n      <td>PG</td>\n      <td>75.0</td>\n      <td>2563.0</td>\n      <td>92%</td>\n      <td>8%</td>\n      <td>NaN</td>\n      <td>...</td>\n      <td>88.0</td>\n      <td>20.0</td>\n      <td>25.0</td>\n      <td>74.0</td>\n      <td>88.0</td>\n      <td>20.0</td>\n      <td>25.0</td>\n      <td>1172.0</td>\n      <td>19.0</td>\n      <td>43.0</td>\n    </tr>\n    <tr>\n      <th>7</th>\n      <td>2011-12</td>\n      <td>25.0</td>\n      <td>HOU</td>\n      <td>NBA</td>\n      <td>PG</td>\n      <td>47.0</td>\n      <td>1510.0</td>\n      <td>100%</td>\n      <td>NaN</td>\n      <td>NaN</td>\n      <td>...</td>\n      <td>73.0</td>\n      <td>15.0</td>\n      <td>26.0</td>\n      <td>49.0</td>\n      <td>73.0</td>\n      <td>15.0</td>\n      <td>26.0</td>\n      <td>695.0</td>\n      <td>14.0</td>\n      <td>35.0</td>\n    </tr>\n    <tr>\n      <th>8</th>\n      <td>2012-13</td>\n      <td>26.0</td>\n      <td>TOR</td>\n      <td>NBA</td>\n      <td>PG</td>\n      <td>68.0</td>\n      <td>2020.0</td>\n      <td>96%</td>\n      <td>4%</td>\n      <td>NaN</td>\n      <td>...</td>\n      <td>85.0</td>\n      <td>11.0</td>\n      <td>28.0</td>\n      <td>100.0</td>\n      <td>85.0</td>\n      <td>11.0</td>\n      <td>28.0</td>\n      <td>965.0</td>\n      <td>13.0</td>\n      <td>44.0</td>\n    </tr>\n    <tr>\n      <th>9</th>\n      <td>2013-14</td>\n      <td>27.0</td>\n      <td>TOR</td>\n      <td>NBA</td>\n      <td>PG</td>\n      <td>79.0</td>\n      <td>2862.0</td>\n      <td>100%</td>\n      <td>NaN</td>\n      <td>NaN</td>\n      <td>...</td>\n      <td>125.0</td>\n      <td>20.0</td>\n      <td>48.0</td>\n      <td>95.0</td>\n      <td>125.0</td>\n      <td>20.0</td>\n      <td>48.0</td>\n      <td>1317.0</td>\n      <td>25.0</td>\n      <td>51.0</td>\n    </tr>\n    <tr>\n      <th>10</th>\n      <td>2014-15</td>\n      <td>28.0</td>\n      <td>TOR</td>\n      <td>NBA</td>\n      <td>PG</td>\n      <td>70.0</td>\n      <td>2414.0</td>\n      <td>100%</td>\n      <td>NaN</td>\n      <td>NaN</td>\n      <td>...</td>\n      <td>127.0</td>\n      <td>19.0</td>\n      <td>29.0</td>\n      <td>79.0</td>\n      <td>127.0</td>\n      <td>19.0</td>\n      <td>29.0</td>\n      <td>1080.0</td>\n      <td>26.0</td>\n      <td>57.0</td>\n    </tr>\n    <tr>\n      <th>11</th>\n      <td>2015-16</td>\n      <td>29.0</td>\n      <td>TOR</td>\n      <td>NBA</td>\n      <td>PG</td>\n      <td>77.0</td>\n      <td>2851.0</td>\n      <td>100%</td>\n      <td>NaN</td>\n      <td>NaN</td>\n      <td>...</td>\n      <td>193.0</td>\n      <td>20.0</td>\n      <td>29.0</td>\n      <td>87.0</td>\n      <td>193.0</td>\n      <td>20.0</td>\n      <td>29.0</td>\n      <td>1141.0</td>\n      <td>26.0</td>\n      <td>74.0</td>\n    </tr>\n    <tr>\n      <th>12</th>\n      <td>2016-17</td>\n      <td>30.0</td>\n      <td>TOR</td>\n      <td>NBA</td>\n      <td>PG</td>\n      <td>60.0</td>\n      <td>2244.0</td>\n      <td>100%</td>\n      <td>NaN</td>\n      <td>NaN</td>\n      <td>...</td>\n      <td>162.0</td>\n      <td>11.0</td>\n      <td>20.0</td>\n      <td>70.0</td>\n      <td>162.0</td>\n      <td>11.0</td>\n      <td>20.0</td>\n      <td>940.0</td>\n      <td>41.0</td>\n      <td>57.0</td>\n    </tr>\n    <tr>\n      <th>13</th>\n      <td>2017-18</td>\n      <td>31.0</td>\n      <td>TOR</td>\n      <td>NBA</td>\n      <td>PG</td>\n      <td>78.0</td>\n      <td>2510.0</td>\n      <td>100%</td>\n      <td>NaN</td>\n      <td>NaN</td>\n      <td>...</td>\n      <td>103.0</td>\n      <td>8.0</td>\n      <td>20.0</td>\n      <td>70.0</td>\n      <td>103.0</td>\n      <td>8.0</td>\n      <td>20.0</td>\n      <td>1209.0</td>\n      <td>25.0</td>\n      <td>43.0</td>\n    </tr>\n    <tr>\n      <th>14</th>\n      <td>2018-19</td>\n      <td>32.0</td>\n      <td>TOR</td>\n      <td>NBA</td>\n      <td>PG</td>\n      <td>65.0</td>\n      <td>2213.0</td>\n      <td>70%</td>\n      <td>30%</td>\n      <td>NaN</td>\n      <td>...</td>\n      <td>69.0</td>\n      <td>11.0</td>\n      <td>48.0</td>\n      <td>60.0</td>\n      <td>69.0</td>\n      <td>11.0</td>\n      <td>48.0</td>\n      <td>1282.0</td>\n      <td>18.0</td>\n      <td>30.0</td>\n    </tr>\n    <tr>\n      <th>15</th>\n      <td>2019-20</td>\n      <td>33.0</td>\n      <td>TOR</td>\n      <td>NBA</td>\n      <td>PG</td>\n      <td>58.0</td>\n      <td>2098.0</td>\n      <td>100%</td>\n      <td>NaN</td>\n      <td>NaN</td>\n      <td>...</td>\n      <td>119.0</td>\n      <td>17.0</td>\n      <td>52.0</td>\n      <td>81.0</td>\n      <td>119.0</td>\n      <td>17.0</td>\n      <td>52.0</td>\n      <td>997.0</td>\n      <td>21.0</td>\n      <td>46.0</td>\n    </tr>\n    <tr>\n      <th>16</th>\n      <td>2020-21</td>\n      <td>34.0</td>\n      <td>TOR</td>\n      <td>NBA</td>\n      <td>PG</td>\n      <td>46.0</td>\n      <td>1601.0</td>\n      <td>92%</td>\n      <td>8%</td>\n      <td>NaN</td>\n      <td>...</td>\n      <td>62.0</td>\n      <td>15.0</td>\n      <td>39.0</td>\n      <td>50.0</td>\n      <td>62.0</td>\n      <td>15.0</td>\n      <td>39.0</td>\n      <td>816.0</td>\n      <td>13.0</td>\n      <td>25.0</td>\n    </tr>\n    <tr>\n      <th>17</th>\n      <td>2021-22</td>\n      <td>35.0</td>\n      <td>MIA</td>\n      <td>NBA</td>\n      <td>PG</td>\n      <td>63.0</td>\n      <td>2133.0</td>\n      <td>100%</td>\n      <td>NaN</td>\n      <td>NaN</td>\n      <td>...</td>\n      <td>55.0</td>\n      <td>10.0</td>\n      <td>45.0</td>\n      <td>78.0</td>\n      <td>55.0</td>\n      <td>10.0</td>\n      <td>45.0</td>\n      <td>1126.0</td>\n      <td>11.0</td>\n      <td>20.0</td>\n    </tr>\n  </tbody>\n</table>\n<p>18 rows × 27 columns</p>\n</div>"
     },
     "execution_count": 67,
     "metadata": {},
     "output_type": "execute_result"
    }
   ],
   "source": [],
   "metadata": {
    "collapsed": false,
    "pycharm": {
     "name": "#%%\n"
    }
   }
  },
  {
   "cell_type": "code",
   "execution_count": 68,
   "outputs": [
    {
     "data": {
      "text/plain": "<Figure size 432x288 with 1 Axes>",
      "image/png": "[encoded data removed]"
     },
     "metadata": {
      "needs_background": "light"
     },
     "output_type": "display_data"
    }
   ],
   "source": [
    "for i in [df_list_1,df_list_2,]:\n",
    "    df = process_df(i[12])\n",
    "\n",
    "    plt.plot('Age','PGA',data=df,)\n",
    "    plt.legend()\n",
    "\n",
    "# df_on_off_1.plot('Age','PGA')\n",
    "# df_on_off_2.plot('Age','PGA')"
   ],
   "metadata": {
    "collapsed": false,
    "pycharm": {
     "name": "#%%\n"
    }
   }
  },
  {
   "cell_type": "code",
   "execution_count": null,
   "outputs": [],
   "source": [],
   "metadata": {
    "collapsed": false,
    "pycharm": {
     "name": "#%%\n"
    }
   }
  }
 ],
 "metadata": {
  "kernelspec": {
   "display_name": "Python 3",
   "language": "python",
   "name": "python3"
  },
  "language_info": {
   "codemirror_mode": {
    "name": "ipython",
    "version": 2
   },
   "file_extension": ".py",
   "mimetype": "text/x-python",
   "name": "python",
   "nbconvert_exporter": "python",
   "pygments_lexer": "ipython2",
   "version": "2.7.6"
  }
 },
 "nbformat": 4,
 "nbformat_minor": 0
}