{
 "cells": [
  {
   "cell_type": "code",
   "execution_count": 56,
   "metadata": {
    "collapsed": true
   },
   "outputs": [],
   "source": [
    "from matplotlib import pyplot as plt\n",
    "from plotly import express as px\n",
    "from sklearn.decomposition import PCA\n",
    "import pandas as pd\n",
    "import numpy as np\n",
    "from sklearn.preprocessing import MinMaxScaler"
   ]
  },
  {
   "cell_type": "code",
   "execution_count": 57,
   "outputs": [],
   "source": [
    "df = pd.read_csv('../Basketball Reference Stat Scraper/all/all.csv',index_col=0)\n",
    "drop_l = ['Player','Pos','Tm','tm_Team', 'tm_G', 'tm_MP', 'tm_FG', 'tm_FGA', 'tm_FG%',\n",
    "       'tm_3P', 'tm_3PA', 'tm_3P%', 'tm_2P', 'tm_2PA', 'tm_2P%', 'tm_FT',\n",
    "       'tm_FTA', 'tm_FT%', 'tm_ORB', 'tm_DRB', 'tm_TRB', 'tm_AST', 'tm_STL',\n",
    "       'tm_BLK', 'tm_TOV', 'tm_PF', 'tm_PTS', 'tm_Age', 'tm_W', 'tm_L',\n",
    "       'tm_MOV', 'tm_SOS', 'tm_SRS', 'tm_ORtg', 'tm_DRtg', 'tm_NRtg',\n",
    "       'tm_Pace', 'tm_FTr', 'tm_3PAr', 'tm_TS%', 'tm_Year', 'tm_Team No Star',\n",
    "       'tm_Abbreviation']\n",
    "df.columns\n",
    "\n",
    "hof = df[df['Player'].apply(lambda x: True if '*' in x else False)]"
   ],
   "metadata": {
    "collapsed": false,
    "pycharm": {
     "name": "#%%\n"
    }
   }
  },
  {
   "cell_type": "code",
   "execution_count": 58,
   "outputs": [],
   "source": [
    "pc = PCA(n_components=4)\n",
    "one_number = pd.DataFrame(pc.fit_transform(hof.drop(columns=drop_l)))"
   ],
   "metadata": {
    "collapsed": false,
    "pycharm": {
     "name": "#%%\n"
    }
   }
  },
  {
   "cell_type": "code",
   "execution_count": 61,
   "outputs": [
    {
     "name": "stderr",
     "output_type": "stream",
     "text": [
      "/Users/chaseallbright/Dropbox/NBA/venv/lib/python3.9/site-packages/pandas/core/frame.py:3641: SettingWithCopyWarning:\n",
      "\n",
      "\n",
      "A value is trying to be set on a copy of a slice from a DataFrame.\n",
      "Try using .loc[row_indexer,col_indexer] = value instead\n",
      "\n",
      "See the caveats in the documentation: https://pandas.pydata.org/pandas-docs/stable/user_guide/indexing.html#returning-a-view-versus-a-copy\n",
      "\n",
      "/Users/chaseallbright/Dropbox/NBA/venv/lib/python3.9/site-packages/pandas/core/generic.py:5516: SettingWithCopyWarning:\n",
      "\n",
      "\n",
      "A value is trying to be set on a copy of a slice from a DataFrame.\n",
      "Try using .loc[row_indexer,col_indexer] = value instead\n",
      "\n",
      "See the caveats in the documentation: https://pandas.pydata.org/pandas-docs/stable/user_guide/indexing.html#returning-a-view-versus-a-copy\n",
      "\n"
     ]
    }
   ],
   "source": [
    "hof[['one_number','two_number','three_number','four_number']] = one_number\n",
    "mm = MinMaxScaler()\n",
    "hof.four_number = mm.fit_transform(hof[['four_number']])"
   ],
   "metadata": {
    "collapsed": false,
    "pycharm": {
     "name": "#%%\n"
    }
   }
  },
  {
   "cell_type": "code",
   "execution_count": 64,
   "outputs": [
    {
     "data": {
      "application/vnd.plotly.v1+json": {
       "data": [
        {
         "customdata": [
          [
           "Kareem Abdul-Jabbar*",
           1980
          ],
          [
           "Magic Johnson*",
           1980
          ],
          [
           "Jamaal Wilkes*",
           1980
          ],
          [
           "Tiny Archibald*",
           1980
          ],
          [
           "Larry Bird*",
           1980
          ],
          [
           "Elvin Hayes*",
           1980
          ],
          [
           "Wes Unseld*",
           1980
          ],
          [
           "Dennis Johnson*",
           1980
          ],
          [
           "Moses Malone*",
           1980
          ],
          [
           "Calvin Murphy*",
           1980
          ],
          [
           "Julius Erving*",
           1980
          ],
          [
           "Adrian Dantley*",
           1980
          ],
          [
           "George Gervin*",
           1980
          ],
          [
           "Bob McAdoo*",
           1980
          ],
          [
           "Dan Issel*",
           1980
          ],
          [
           "Kareem Abdul-Jabbar*",
           1981
          ],
          [
           "Magic Johnson*",
           1981
          ],
          [
           "Jamaal Wilkes*",
           1981
          ],
          [
           "Tiny Archibald*",
           1981
          ],
          [
           "Larry Bird*",
           1981
          ],
          [
           "Jack Sikma*",
           1981
          ],
          [
           "Elvin Hayes*",
           1981
          ],
          [
           "Adrian Dantley*",
           1981
          ],
          [
           "Bernard King*",
           1981
          ],
          [
           "Moses Malone*",
           1981
          ],
          [
           "Alex English*",
           1981
          ],
          [
           "Kareem Abdul-Jabbar*",
           1982
          ],
          [
           "Magic Johnson*",
           1982
          ],
          [
           "Jamaal Wilkes*",
           1982
          ],
          [
           "Dennis Johnson*",
           1982
          ],
          [
           "Larry Bird*",
           1982
          ],
          [
           "George Gervin*",
           1982
          ],
          [
           "Sidney Moncrief*",
           1982
          ],
          [
           "Jack Sikma*",
           1982
          ],
          [
           "Bernard King*",
           1982
          ],
          [
           "Adrian Dantley*",
           1982
          ],
          [
           "Elvin Hayes*",
           1982
          ],
          [
           "Moses Malone*",
           1982
          ],
          [
           "Alex English*",
           1982
          ],
          [
           "Magic Johnson*",
           1983
          ],
          [
           "Larry Bird*",
           1983
          ],
          [
           "Alex English*",
           1983
          ],
          [
           "George Gervin*",
           1983
          ],
          [
           "Isiah Thomas*",
           1983
          ],
          [
           "Sidney Moncrief*",
           1983
          ],
          [
           "Moses Malone*",
           1983
          ],
          [
           "Adrian Dantley*",
           1983
          ],
          [
           "Magic Johnson*",
           1984
          ],
          [
           "Larry Bird*",
           1984
          ],
          [
           "Robert Parish*",
           1984
          ],
          [
           "Adrian Dantley*",
           1984
          ],
          [
           "Sidney Moncrief*",
           1984
          ],
          [
           "Isiah Thomas*",
           1984
          ],
          [
           "Jack Sikma*",
           1984
          ],
          [
           "Dominique Wilkins*",
           1984
          ],
          [
           "Moses Malone*",
           1984
          ],
          [
           "Magic Johnson*",
           1985
          ],
          [
           "Larry Bird*",
           1985
          ],
          [
           "Dennis Johnson*",
           1985
          ],
          [
           "Robert Parish*",
           1985
          ],
          [
           "Adrian Dantley*",
           1985
          ],
          [
           "Bernard King*",
           1985
          ],
          [
           "Moses Malone*",
           1985
          ],
          [
           "Isiah Thomas*",
           1985
          ],
          [
           "Jack Sikma*",
           1985
          ],
          [
           "Sidney Moncrief*",
           1985
          ],
          [
           "Dominique Wilkins*",
           1985
          ],
          [
           "Alex English*",
           1985
          ],
          [
           "Michael Jordan*",
           1985
          ],
          [
           "Hakeem Olajuwon*",
           1985
          ],
          [
           "Ralph Sampson*",
           1985
          ],
          [
           "Magic Johnson*",
           1986
          ],
          [
           "Larry Bird*",
           1986
          ],
          [
           "Kevin McHale*",
           1986
          ],
          [
           "Patrick Ewing*",
           1986
          ],
          [
           "Adrian Dantley*",
           1986
          ],
          [
           "Charles Barkley*",
           1986
          ],
          [
           "Maurice Cheeks*",
           1986
          ],
          [
           "Moses Malone*",
           1986
          ],
          [
           "Dominique Wilkins*",
           1986
          ],
          [
           "Isiah Thomas*",
           1986
          ],
          [
           "Sidney Moncrief*",
           1986
          ],
          [
           "Alex English*",
           1986
          ],
          [
           "Hakeem Olajuwon*",
           1986
          ],
          [
           "Ralph Sampson*",
           1986
          ],
          [
           "Magic Johnson*",
           1987
          ],
          [
           "Larry Bird*",
           1987
          ],
          [
           "Dennis Johnson*",
           1987
          ],
          [
           "Kevin McHale*",
           1987
          ],
          [
           "Robert Parish*",
           1987
          ],
          [
           "Alex English*",
           1987
          ],
          [
           "Hakeem Olajuwon*",
           1987
          ],
          [
           "Michael Jordan*",
           1987
          ],
          [
           "Charles Barkley*",
           1987
          ],
          [
           "Maurice Cheeks*",
           1987
          ],
          [
           "Dominique Wilkins*",
           1987
          ],
          [
           "Clyde Drexler*",
           1987
          ],
          [
           "Isiah Thomas*",
           1987
          ],
          [
           "Bernard King*",
           1987
          ],
          [
           "Magic Johnson*",
           1988
          ],
          [
           "James Worthy*",
           1988
          ],
          [
           "Larry Bird*",
           1988
          ],
          [
           "Kevin McHale*",
           1988
          ],
          [
           "Alex English*",
           1988
          ],
          [
           "Charles Barkley*",
           1988
          ],
          [
           "Maurice Cheeks*",
           1988
          ],
          [
           "Karl Malone*",
           1988
          ],
          [
           "Dominique Wilkins*",
           1988
          ],
          [
           "Isiah Thomas*",
           1988
          ],
          [
           "Jack Sikma*",
           1988
          ],
          [
           "Michael Jordan*",
           1988
          ],
          [
           "Hakeem Olajuwon*",
           1988
          ],
          [
           "Clyde Drexler*",
           1988
          ],
          [
           "Magic Johnson*",
           1989
          ],
          [
           "James Worthy*",
           1989
          ],
          [
           "Kevin McHale*",
           1989
          ],
          [
           "Robert Parish*",
           1989
          ],
          [
           "Alex English*",
           1989
          ],
          [
           "Clyde Drexler*",
           1989
          ],
          [
           "Charles Barkley*",
           1989
          ],
          [
           "Karl Malone*",
           1989
          ],
          [
           "John Stockton*",
           1989
          ],
          [
           "Moses Malone*",
           1989
          ],
          [
           "Dominique Wilkins*",
           1989
          ],
          [
           "Chris Mullin*",
           1989
          ],
          [
           "Patrick Ewing*",
           1989
          ],
          [
           "Michael Jordan*",
           1989
          ],
          [
           "Hakeem Olajuwon*",
           1989
          ],
          [
           "Isiah Thomas*",
           1989
          ],
          [
           "Isiah Thomas*",
           1990
          ],
          [
           "Charles Barkley*",
           1990
          ],
          [
           "David Robinson*",
           1990
          ],
          [
           "Michael Jordan*",
           1990
          ],
          [
           "Scottie Pippen*",
           1990
          ],
          [
           "Larry Bird*",
           1990
          ],
          [
           "Karl Malone*",
           1990
          ],
          [
           "John Stockton*",
           1990
          ],
          [
           "Dominique Wilkins*",
           1990
          ],
          [
           "Chris Mullin*",
           1990
          ],
          [
           "Mitch Richmond*",
           1990
          ],
          [
           "Hakeem Olajuwon*",
           1990
          ],
          [
           "Clyde Drexler*",
           1990
          ],
          [
           "Magic Johnson*",
           1990
          ],
          [
           "James Worthy*",
           1990
          ],
          [
           "Patrick Ewing*",
           1990
          ],
          [
           "Reggie Miller*",
           1990
          ],
          [
           "Joe Dumars*",
           1991
          ],
          [
           "Bernard King*",
           1991
          ],
          [
           "Charles Barkley*",
           1991
          ],
          [
           "David Robinson*",
           1991
          ],
          [
           "Michael Jordan*",
           1991
          ],
          [
           "Scottie Pippen*",
           1991
          ],
          [
           "Chris Mullin*",
           1991
          ],
          [
           "Mitch Richmond*",
           1991
          ],
          [
           "Karl Malone*",
           1991
          ],
          [
           "John Stockton*",
           1991
          ],
          [
           "Dominique Wilkins*",
           1991
          ],
          [
           "Larry Bird*",
           1991
          ],
          [
           "Hakeem Olajuwon*",
           1991
          ],
          [
           "Magic Johnson*",
           1991
          ],
          [
           "James Worthy*",
           1991
          ],
          [
           "Patrick Ewing*",
           1991
          ],
          [
           "Reggie Miller*",
           1991
          ],
          [
           "Clyde Drexler*",
           1992
          ],
          [
           "Dikembe Mutombo*",
           1992
          ],
          [
           "Dražen Petrović*",
           1992
          ],
          [
           "Joe Dumars*",
           1992
          ],
          [
           "Dennis Rodman*",
           1992
          ],
          [
           "Isiah Thomas*",
           1992
          ],
          [
           "Chris Mullin*",
           1992
          ],
          [
           "Charles Barkley*",
           1992
          ],
          [
           "David Robinson*",
           1992
          ],
          [
           "Patrick Ewing*",
           1992
          ],
          [
           "Michael Jordan*",
           1992
          ],
          [
           "Scottie Pippen*",
           1992
          ],
          [
           "Dominique Wilkins*",
           1992
          ],
          [
           "Karl Malone*",
           1992
          ],
          [
           "John Stockton*",
           1992
          ],
          [
           "Larry Bird*",
           1992
          ],
          [
           "Mitch Richmond*",
           1992
          ],
          [
           "Hakeem Olajuwon*",
           1992
          ],
          [
           "James Worthy*",
           1992
          ],
          [
           "Reggie Miller*",
           1992
          ],
          [
           "Dikembe Mutombo*",
           1993
          ],
          [
           "Dražen Petrović*",
           1993
          ],
          [
           "Joe Dumars*",
           1993
          ],
          [
           "Dennis Rodman*",
           1993
          ],
          [
           "Isiah Thomas*",
           1993
          ],
          [
           "Charles Barkley*",
           1993
          ],
          [
           "Chris Mullin*",
           1993
          ],
          [
           "Patrick Ewing*",
           1993
          ],
          [
           "Shaquille O'Neal*",
           1993
          ],
          [
           "David Robinson*",
           1993
          ],
          [
           "Michael Jordan*",
           1993
          ],
          [
           "Scottie Pippen*",
           1993
          ],
          [
           "Dominique Wilkins*",
           1993
          ],
          [
           "Karl Malone*",
           1993
          ],
          [
           "Mitch Richmond*",
           1993
          ],
          [
           "Hakeem Olajuwon*",
           1993
          ],
          [
           "Reggie Miller*",
           1993
          ],
          [
           "Charles Barkley*",
           1994
          ],
          [
           "Chris Mullin*",
           1994
          ],
          [
           "Patrick Ewing*",
           1994
          ],
          [
           "Joe Dumars*",
           1994
          ],
          [
           "Shaquille O'Neal*",
           1994
          ],
          [
           "David Robinson*",
           1994
          ],
          [
           "Dennis Rodman*",
           1994
          ],
          [
           "Scottie Pippen*",
           1994
          ],
          [
           "Gary Payton*",
           1994
          ],
          [
           "Karl Malone*",
           1994
          ],
          [
           "John Stockton*",
           1994
          ],
          [
           "Mitch Richmond*",
           1994
          ],
          [
           "Hakeem Olajuwon*",
           1994
          ],
          [
           "Dikembe Mutombo*",
           1995
          ],
          [
           "Alonzo Mourning*",
           1995
          ],
          [
           "Joe Dumars*",
           1995
          ],
          [
           "Grant Hill*",
           1995
          ],
          [
           "Chris Mullin*",
           1995
          ],
          [
           "Shaquille O'Neal*",
           1995
          ],
          [
           "David Robinson*",
           1995
          ],
          [
           "Patrick Ewing*",
           1995
          ],
          [
           "Michael Jordan*",
           1995
          ],
          [
           "Scottie Pippen*",
           1995
          ],
          [
           "Gary Payton*",
           1995
          ],
          [
           "Karl Malone*",
           1995
          ],
          [
           "Vlade Divac*",
           1995
          ],
          [
           "Hakeem Olajuwon*",
           1995
          ],
          [
           "Mitch Richmond*",
           1995
          ],
          [
           "Chris Webber*",
           1995
          ],
          [
           "Dikembe Mutombo*",
           1996
          ],
          [
           "David Robinson*",
           1996
          ],
          [
           "Shaquille O'Neal*",
           1996
          ],
          [
           "Gary Payton*",
           1996
          ],
          [
           "Alonzo Mourning*",
           1996
          ],
          [
           "Grant Hill*",
           1996
          ],
          [
           "Charles Barkley*",
           1996
          ],
          [
           "Dino Radja*",
           1996
          ],
          [
           "Karl Malone*",
           1996
          ],
          [
           "John Stockton*",
           1996
          ],
          [
           "Clyde Drexler*",
           1996
          ],
          [
           "Hakeem Olajuwon*",
           1996
          ],
          [
           "Jason Kidd*",
           1996
          ],
          [
           "Michael Jordan*",
           1996
          ],
          [
           "Scottie Pippen*",
           1996
          ],
          [
           "Chris Webber*",
           1996
          ],
          [
           "Mitch Richmond*",
           1996
          ],
          [
           "Patrick Ewing*",
           1996
          ],
          [
           "Mitch Richmond*",
           1997
          ],
          [
           "Vlade Divac*",
           1997
          ],
          [
           "Dikembe Mutombo*",
           1997
          ],
          [
           "Chris Webber*",
           1997
          ],
          [
           "Karl Malone*",
           1997
          ],
          [
           "John Stockton*",
           1997
          ],
          [
           "Alonzo Mourning*",
           1997
          ],
          [
           "Charles Barkley*",
           1997
          ],
          [
           "Clyde Drexler*",
           1997
          ],
          [
           "Hakeem Olajuwon*",
           1997
          ],
          [
           "Reggie Miller*",
           1997
          ],
          [
           "Shaquille O'Neal*",
           1997
          ],
          [
           "Allen Iverson*",
           1997
          ],
          [
           "Patrick Ewing*",
           1997
          ],
          [
           "Michael Jordan*",
           1997
          ],
          [
           "Scottie Pippen*",
           1997
          ],
          [
           "Dennis Rodman*",
           1997
          ],
          [
           "Kevin Garnett*",
           1997
          ],
          [
           "Gary Payton*",
           1997
          ],
          [
           "Joe Dumars*",
           1997
          ],
          [
           "Grant Hill*",
           1997
          ],
          [
           "Mitch Richmond*",
           1998
          ],
          [
           "Ray Allen*",
           1998
          ],
          [
           "Dikembe Mutombo*",
           1998
          ],
          [
           "Karl Malone*",
           1998
          ],
          [
           "Gary Payton*",
           1998
          ],
          [
           "Clyde Drexler*",
           1998
          ],
          [
           "Shaquille O'Neal*",
           1998
          ],
          [
           "Allen Iverson*",
           1998
          ],
          [
           "Michael Jordan*",
           1998
          ],
          [
           "Scottie Pippen*",
           1998
          ],
          [
           "Dennis Rodman*",
           1998
          ],
          [
           "Jason Kidd*",
           1998
          ],
          [
           "Tim Duncan*",
           1998
          ],
          [
           "Kevin Garnett*",
           1998
          ],
          [
           "Chris Webber*",
           1998
          ],
          [
           "Grant Hill*",
           1998
          ],
          [
           "Vlade Divac*",
           1999
          ],
          [
           "Chris Webber*",
           1999
          ],
          [
           "Karl Malone*",
           1999
          ],
          [
           "Alonzo Mourning*",
           1999
          ],
          [
           "Jason Kidd*",
           1999
          ],
          [
           "Gary Payton*",
           1999
          ],
          [
           "Charles Barkley*",
           1999
          ],
          [
           "Hakeem Olajuwon*",
           1999
          ],
          [
           "Scottie Pippen*",
           1999
          ],
          [
           "Toni Kukoč*",
           1999
          ],
          [
           "Allen Iverson*",
           1999
          ],
          [
           "Reggie Miller*",
           1999
          ],
          [
           "Dikembe Mutombo*",
           1999
          ],
          [
           "Mitch Richmond*",
           1999
          ],
          [
           "Kobe Bryant*",
           1999
          ],
          [
           "Grant Hill*",
           1999
          ],
          [
           "Kevin Garnett*",
           1999
          ],
          [
           "Tim Duncan*",
           1999
          ],
          [
           "Ray Allen*",
           2000
          ],
          [
           "Paul Pierce*",
           2000
          ],
          [
           "Chris Webber*",
           2000
          ],
          [
           "Kevin Garnett*",
           2000
          ],
          [
           "Jason Kidd*",
           2000
          ],
          [
           "Gary Payton*",
           2000
          ],
          [
           "Reggie Miller*",
           2000
          ],
          [
           "Dikembe Mutombo*",
           2000
          ],
          [
           "Allen Iverson*",
           2000
          ],
          [
           "Grant Hill*",
           2000
          ],
          [
           "Kobe Bryant*",
           2000
          ],
          [
           "Shaquille O'Neal*",
           2000
          ],
          [
           "Tim Duncan*",
           2000
          ],
          [
           "Karl Malone*",
           2000
          ],
          [
           "Tracy McGrady*",
           2001
          ],
          [
           "Ray Allen*",
           2001
          ],
          [
           "Tim Duncan*",
           2001
          ],
          [
           "Paul Pierce*",
           2001
          ],
          [
           "Chris Webber*",
           2001
          ],
          [
           "Kevin Garnett*",
           2001
          ],
          [
           "Gary Payton*",
           2001
          ],
          [
           "Allen Iverson*",
           2001
          ],
          [
           "Reggie Miller*",
           2001
          ],
          [
           "Karl Malone*",
           2001
          ],
          [
           "Kobe Bryant*",
           2001
          ],
          [
           "Shaquille O'Neal*",
           2001
          ],
          [
           "Jason Kidd*",
           2001
          ],
          [
           "Ben Wallace*",
           2002
          ],
          [
           "Ray Allen*",
           2002
          ],
          [
           "Karl Malone*",
           2002
          ],
          [
           "Paul Pierce*",
           2002
          ],
          [
           "Jason Kidd*",
           2002
          ],
          [
           "Grant Hill*",
           2002
          ],
          [
           "Tracy McGrady*",
           2002
          ],
          [
           "Kevin Garnett*",
           2002
          ],
          [
           "Gary Payton*",
           2002
          ],
          [
           "Allen Iverson*",
           2002
          ],
          [
           "Dikembe Mutombo*",
           2002
          ],
          [
           "Reggie Miller*",
           2002
          ],
          [
           "Chris Webber*",
           2002
          ],
          [
           "Tim Duncan*",
           2002
          ],
          [
           "Kobe Bryant*",
           2002
          ],
          [
           "Shaquille O'Neal*",
           2002
          ],
          [
           "Karl Malone*",
           2003
          ],
          [
           "Jason Kidd*",
           2003
          ],
          [
           "Tracy McGrady*",
           2003
          ],
          [
           "Ben Wallace*",
           2003
          ],
          [
           "Paul Pierce*",
           2003
          ],
          [
           "Tim Duncan*",
           2003
          ],
          [
           "Chris Webber*",
           2003
          ],
          [
           "Michael Jordan*",
           2003
          ],
          [
           "Kobe Bryant*",
           2003
          ],
          [
           "Shaquille O'Neal*",
           2003
          ],
          [
           "Allen Iverson*",
           2003
          ],
          [
           "Kevin Garnett*",
           2003
          ],
          [
           "Ray Allen*",
           2004
          ],
          [
           "Jason Kidd*",
           2004
          ],
          [
           "Paul Pierce*",
           2004
          ],
          [
           "Chris Webber*",
           2004
          ],
          [
           "Ben Wallace*",
           2004
          ],
          [
           "Tracy McGrady*",
           2004
          ],
          [
           "Tim Duncan*",
           2004
          ],
          [
           "Kobe Bryant*",
           2004
          ],
          [
           "Shaquille O'Neal*",
           2004
          ],
          [
           "Allen Iverson*",
           2004
          ],
          [
           "Kevin Garnett*",
           2004
          ],
          [
           "Ray Allen*",
           2005
          ],
          [
           "Paul Pierce*",
           2005
          ],
          [
           "Chris Bosh*",
           2005
          ],
          [
           "Kobe Bryant*",
           2005
          ],
          [
           "Jason Kidd*",
           2005
          ],
          [
           "Ben Wallace*",
           2005
          ],
          [
           "Tracy McGrady*",
           2005
          ],
          [
           "Allen Iverson*",
           2005
          ],
          [
           "Kevin Garnett*",
           2005
          ],
          [
           "Ben Wallace*",
           2006
          ],
          [
           "Ray Allen*",
           2006
          ],
          [
           "Paul Pierce*",
           2006
          ],
          [
           "Tracy McGrady*",
           2006
          ],
          [
           "Chris Bosh*",
           2006
          ],
          [
           "Steve Nash*",
           2006
          ],
          [
           "Allen Iverson*",
           2006
          ],
          [
           "Chris Webber*",
           2006
          ],
          [
           "Kobe Bryant*",
           2006
          ],
          [
           "Kevin Garnett*",
           2006
          ],
          [
           "Jason Kidd*",
           2006
          ],
          [
           "Jason Kidd*",
           2007
          ],
          [
           "Ray Allen*",
           2007
          ],
          [
           "Paul Pierce*",
           2007
          ],
          [
           "Tracy McGrady*",
           2007
          ],
          [
           "Steve Nash*",
           2007
          ],
          [
           "Chris Bosh*",
           2007
          ],
          [
           "Kevin Garnett*",
           2007
          ],
          [
           "Kobe Bryant*",
           2007
          ],
          [
           "Ray Allen*",
           2008
          ],
          [
           "Paul Pierce*",
           2008
          ],
          [
           "Tracy McGrady*",
           2008
          ],
          [
           "Yao Ming*",
           2008
          ],
          [
           "Allen Iverson*",
           2008
          ],
          [
           "Chris Bosh*",
           2008
          ],
          [
           "Kobe Bryant*",
           2008
          ],
          [
           "Chris Bosh*",
           2009
          ],
          [
           "Ray Allen*",
           2009
          ],
          [
           "Paul Pierce*",
           2009
          ],
          [
           "Kobe Bryant*",
           2009
          ],
          [
           "Jason Kidd*",
           2009
          ],
          [
           "Ray Allen*",
           2010
          ],
          [
           "Chris Bosh*",
           2010
          ],
          [
           "Jason Kidd*",
           2010
          ],
          [
           "Kobe Bryant*",
           2010
          ],
          [
           "Ray Allen*",
           2011
          ],
          [
           "Chris Bosh*",
           2011
          ],
          [
           "Chris Bosh*",
           2012
          ],
          [
           "Kobe Bryant*",
           2012
          ],
          [
           "Kobe Bryant*",
           2013
          ],
          [
           "Chris Bosh*",
           2015
          ]
         ],
         "hovertemplate": "one_number=%{x}<br>two_number=%{y}<br>three_number=%{z}<br>Player=%{customdata[0]}<br>Year=%{customdata[1]}<br>four_number=%{marker.color}<extra></extra>",
         "legendgroup": "",
         "marker": {
          "color": [
           0.8271436875267542,
           0.6022093587535878,
           0.5741347027568389,
           0.8183059201660627,
           0.8736067576288488,
           0.7402050986356096,
           0.549927205234333,
           0.6837313220291245,
           0.48019500034810547,
           0.44974956524381127,
           0.24808320624894145,
           0.46573703077152184,
           0.4854698534081028,
           0.3198279657157663,
           0.4378941490965591,
           0.8271436875267542,
           0.5741347027568389,
           0.817738034006636,
           0.8183059201660627,
           0.8736067576288488,
           0.09759921882592942,
           0.764828883738677,
           0.4998331666654943,
           0.46745629285376455,
           0.17694333235084359,
           0.20676760771778707,
           0.8271436875267542,
           0.7395680461318621,
           0.46937822222443426,
           0.5947068724948541,
           0.5758998675091707,
           0.5386357713072507,
           0.4191000607295398,
           0.4422255298678264,
           0.6164717128405051,
           0.44317255929056554,
           0.725601605720362,
           0.7722873224129604,
           0.30842340292877446,
           0.6703734615564965,
           0.18191792687888564,
           0.4484761236985422,
           0.5197475206567725,
           0.9977578902122672,
           0.4095661770275434,
           0.4662684785639692,
           0.4378941490965591,
           0.6703734615564965,
           0.18191792687888564,
           0.5470842634086746,
           0.6922881713822738,
           0.24252065921902377,
           0.38771366555610276,
           0.38767203119118776,
           0.5186289547173414,
           0.6762435116950208,
           0.6116156157751048,
           0.42518153499340733,
           0.6694178452035316,
           0.4484761236985422,
           0.549927205234333,
           0.43834362099058893,
           0.6490409326297392,
           0.5041102746680004,
           0.1986065953442081,
           0.07266944814656895,
           0.45986552431973343,
           0.3044192811437327,
           0.5194226141470764,
           0.7531045364637201,
           0.6471543627484584,
           0.3026073781851333,
           0.6922881713822738,
           0.8255864208562065,
           0.5713158649140807,
           0.5539817017198214,
           0.3974244409687162,
           0.24808320624894145,
           0.5334379814191919,
           0.642494676769514,
           0.4171264512136671,
           0.5886213779547723,
           0.8321371238205961,
           0.18382421282696298,
           0.5422472212184876,
           0.7395680461318621,
           0.6922881713822738,
           0.6172882134462899,
           0.8255864208562065,
           0.6463784404583729,
           0.4307342792102627,
           0.6050934806645858,
           0.2834980162428411,
           0.46745629285376455,
           0.4095661770275434,
           0.4230466123434891,
           0.4534840515049965,
           0.21519836522114294,
           0.8321371238205961,
           0.7395680461318621,
           0.46937822222443426,
           0.8784707304368401,
           0.16131112380628404,
           0.6113038575884757,
           0.4601363528119094,
           0.5541935793188023,
           0.2142209931407067,
           0.5358413228884836,
           0.4095661770275434,
           0.3878407729992756,
           0.7414377642006833,
           0.3883245992203289,
           0.725601605720362,
           0.7395680461318621,
           0.7030552374890796,
           0.5947068724948541,
           0.5808710092698495,
           0.3610294539664027,
           0.463782816594757,
           0.5386357713072507,
           0.3788151702892346,
           0.586878869257437,
           0.3376634126635034,
           0.412324829462387,
           0.2886909859460677,
           0.4534840515049965,
           0.5886213779547723,
           0.5340447675381972,
           0.2662923660220086,
           0.8736016869482488,
           0.6471314399723224,
           0.3717001928816625,
           0.3974244409687162,
           0.5334379814191919,
           0.5291598558733835,
           0.5358413228884836,
           0.412324829462387,
           0.47242349602895123,
           0.9514370722671694,
           0.41445455685565386,
           0.7722873224129604,
           0.5619244381103254,
           0.3082085729948548,
           0.3609971436820215,
           0.31461601116127835,
           0.24110589044872047,
           0.42518153499340733,
           0.5325162828577575,
           0.468094225218561,
           0.5084813824187326,
           0.44974956524381127,
           0.3788151702892346,
           0.5138543053190496,
           0.24808320624894145,
           0.48930366081937193,
           0.24531459755531973,
           0.7855414916646425,
           0.3878407729992756,
           0.3872140315858677,
           0.37187902288904784,
           0.34223326951929606,
           0.40661618115134546,
           0.532407487922297,
           0.7395680461318621,
           0.48234184901545984,
           0.4692534344084949,
           0.23502287237959582,
           0.5923497046154954,
           0.4743680143238263,
           0.8943052285106794,
           0.7045955257319622,
           0.4319717619324151,
           0.9977578902122672,
           0.5291598558733835,
           0.5781897758407736,
           0.46745629285376455,
           0.5290442980818117,
           0.6218739893874976,
           0.5921023532369603,
           0.5340447675381972,
           0.46620288295619944,
           0.6563856108274814,
           0.7174177065006251,
           0.18656154030790761,
           0.42518153499340733,
           0.6694178452035316,
           0.49055801535379057,
           0.09759921882592942,
           0.8255864208562065,
           0.468094225218561,
           0.36533808558147346,
           0.6650586019976507,
           0.6724471968898668,
           0.5781897758407736,
           0.47237415033449637,
           0.5749965623110455,
           0.6321776689814833,
           0.41062794045269013,
           0.6861750370581127,
           0.4130931746250074,
           0.5039614549002961,
           0.5386357713072507,
           0.567407033498134,
           0.6471314399723224,
           0.24808320624894145,
           0.682357911215681,
           0.47237415033449637,
           0.7410189337748032,
           0.24531459755531973,
           0.5194226141470764,
           0.4540441923368525,
           0.41062794045269013,
           0.34223326951929606,
           0.5741347027568389,
           0.9224969921957971,
           0.8736067576288488,
           0.8736016869482488,
           0.23502287237959582,
           0.5138543053190496,
           0.5041102746680004,
           0.5593273623178249,
           0.48930366081937193,
           0.38767203119118776,
           0.3969849873633589,
           0.44586346412947236,
           0.30301487945018823,
           0.3928301511776563,
           0.33087656895111417,
           0.42852252411320746,
           0.18656154030790761,
           0.8736016869482488,
           0.7045955257319622,
           0.575493564401625,
           0.23250183166305102,
           0.412324829462387,
           0.4095661770275434,
           0.3437924514299018,
           0.5186289547173414,
           0.697117735177377,
           0.725601605720362,
           0.2956862288221689,
           0.4574964599338951,
           0.3872140315858677,
           0.31461601116127835,
           0.23075866117618796,
           0.47755541988282146,
           0.0,
           0.49995056499143775,
           0.7961126408894266,
           0.7848614338609038,
           0.8943052285106794,
           0.42189144582237825,
           0.3974244409687162,
           0.34050829931743465,
           0.7134223192476155,
           0.4619729793842854,
           0.06392681707251935,
           0.3981598343966094,
           0.44586346412947236,
           0.7126489327239216,
           0.41793809886042893,
           0.7233390236643089,
           0.3601129272548095,
           0.36774175575562146,
           0.4881547278455679,
           0.24110589044872047,
           0.42852252411320746,
           0.2654883834542333,
           0.49995056499143775,
           0.37515108626171345,
           0.4692534344084949,
           0.36533808558147346,
           0.10343952418131325,
           0.3376634126635034,
           0.5371969631714159,
           0.4357134963940387,
           0.3587051957632894,
           0.7520756208555164,
           0.17694333235084359,
           0.30842340292877446,
           0.5212912822210978,
           0.7950586452478718,
           0.532407487922297,
           0.5355511727851908,
           0.6703734615564965,
           0.7030552374890796,
           0.6471314399723224,
           0.4948655904521648,
           0.5358413228884836,
           0.3437924514299018,
           0.47242349602895123,
           0.45847725007304707,
           0.11940831771937321,
           0.697117735177377,
           0.14211427716197417,
           0.30301487945018823,
           0.7722873224129604,
           0.5422472212184876,
           0.7950586452478718,
           0.2819673290864629,
           0.6633617939667346,
           0.6856214905382386,
           0.3610294539664027,
           0.4743680143238263,
           0.567407033498134,
           0.5358413228884836,
           0.38767203119118776,
           0.7190466490343149,
           0.7855414916646425,
           0.5074974258802227,
           0.30842340292877446,
           0.3609971436820215,
           0.6980416803289501,
           0.19778457059977028,
           0.1743807184520087,
           0.2582630817861385,
           0.8736067576288488,
           0.42518153499340733,
           1.0,
           0.468094225218561,
           0.43834362099058893,
           0.5781897758407736,
           0.5290442980818117,
           0.5371969631714159,
           0.5435418341189105,
           0.44317255929056554,
           0.5763671186324006,
           0.6980416803289501,
           0.2917985256050015,
           0.7127181076210595,
           0.7461546699280215,
           0.5713158649140807,
           0.9977578902122672,
           0.5290442980818117,
           0.4230466123434891,
           0.3723201787336079,
           0.4854698534081028,
           0.4660108976991413,
           0.21519836522114294,
           0.8321371238205961,
           0.9042064959035458,
           0.2889353618263223,
           0.7233390236643089,
           0.5583654016558085,
           0.612813657385488,
           0.1528160314464374,
           0.06392681707251935,
           0.6579752614640993,
           0.972675860303597,
           0.680083594492984,
           0.4378941490965591,
           0.10951882263485496,
           0.6861750370581127,
           0.38227723332218233,
           0.4023185766227928,
           0.1291587452940655,
           0.6728025763328789,
           0.8784707304368401,
           0.2852669624201748,
           0.5781897758407736,
           0.652170463721119,
           0.45986552431973343,
           0.7134103405611977,
           0.6430576190232201,
           0.21519836522114294,
           0.6599069710470187,
           0.6563564195940093,
           0.3390474677299742,
           0.9657361632986904,
           0.6922881713822738,
           1.0,
           0.7593680239432558,
           0.33826408861737023,
           0.3928301511776563,
           0.5194226141470764,
           0.34223326951929606,
           0.38227723332218233,
           0.6842467771303049,
           0.5750293729530462,
           0.5039614549002961,
           0.23502287237959582,
           0.5859545087917373,
           0.697117735177377,
           0.7551574614448772,
           0.19778457059977028,
           0.1291587452940655,
           0.7301972755837469,
           0.3609530409019551,
           0.16131112380628404,
           0.6837313220291245,
           0.5539817017198214,
           0.6004917842221151,
           0.15085295753888306,
           0.2956862288221689,
           0.39396834702610045,
           0.6728025763328789,
           0.09759921882592942,
           0.5325162828577575,
           0.2852669624201748,
           0.25141988221608186,
           0.5615973548439784,
           0.210355261823035,
           0.23075866117618796,
           0.6116156157751048,
           0.567407033498134,
           0.2852669624201748,
           0.7542501217489668,
           0.697117735177377,
           0.5470842634086746,
           0.4171264512136671,
           0.7190466490343149,
           0.3390474677299742,
           0.31981322715934096,
           0.3974244409687162,
           0.45986552431973343,
           0.7690133553019658,
           0.10951882263485496,
           0.7593680239432558
          ],
          "coloraxis": "coloraxis",
          "symbol": "circle"
         },
         "mode": "markers",
         "name": "",
         "scene": "scene",
         "showlegend": false,
         "x": [
          39.39265704069178,
          42.039320752750335,
          -30.133346079988915,
          60.494240311086195,
          40.15776594721437,
          44.22762257785586,
          67.44470789079746,
          -9.159168225371493,
          -26.5692790888325,
          37.09456422047217,
          59.21919678491606,
          -22.64596614248971,
          -32.24634364768338,
          -10.455061384796759,
          -26.297397625792936,
          39.39265704069178,
          -30.133346079988915,
          42.96523694222391,
          60.494240311086195,
          40.15776594721437,
          -23.108459382614708,
          41.80006529133496,
          49.24191041314294,
          -25.25406468458702,
          -16.47334744940795,
          -23.823433286675325,
          39.39265704069178,
          49.583677304876716,
          46.79128430022369,
          46.124359180288366,
          -24.177422334789302,
          -23.739441021003657,
          -20.235244913636038,
          43.09409394558565,
          -6.07942733433902,
          -5.764546474450562,
          -31.000612525306963,
          -26.561817252341253,
          52.07335308987343,
          43.05923233782804,
          -16.02804955931651,
          78.85343074500771,
          -25.33460264824553,
          43.25193430253519,
          -5.289580172603502,
          -30.923451841622143,
          -26.297397625792936,
          43.05923233782804,
          -16.02804955931651,
          53.09350626797228,
          42.770928838899096,
          51.5617457809456,
          -26.589175773059363,
          -31.89271878346746,
          -21.155460684220728,
          -29.082928316550653,
          44.21198442571383,
          49.78826028062225,
          45.95438737624343,
          78.85343074500771,
          67.44470789079746,
          -24.012729591524053,
          -27.67771415991317,
          -28.581817119032085,
          -21.093336735919046,
          14.752486471563037,
          -24.345838446837334,
          49.39157629304978,
          3.7213388212325813,
          -30.969288208739265,
          -28.901534823587685,
          51.93620972382729,
          42.770928838899096,
          40.10426409907666,
          -29.408136702632607,
          -26.9123950682443,
          -15.972197999155355,
          59.21919678491606,
          -24.162667273243425,
          -23.47931202032531,
          22.868806435757325,
          -32.05718315425862,
          -39.0407048289977,
          -10.90479324394992,
          -25.71904995307841,
          49.583677304876716,
          42.770928838899096,
          -31.80643331708565,
          40.10426409907666,
          44.256464064075466,
          -22.905892548900468,
          -30.140241911489504,
          -21.575675859770815,
          -25.25406468458702,
          -5.289580172603502,
          -23.504691418728157,
          -16.703200790808236,
          -25.329076322587028,
          -39.0407048289977,
          49.583677304876716,
          46.79128430022369,
          73.1336127640348,
          -21.356858894221183,
          45.18203298426031,
          35.55182303582249,
          -22.75737736479744,
          51.831209882866766,
          -25.163544237988834,
          -5.289580172603502,
          -25.025979396989065,
          -12.501040399239784,
          -13.192588159203918,
          -31.000612525306963,
          49.583677304876716,
          59.65389527429734,
          46.124359180288366,
          55.64164391607466,
          83.74718905140512,
          18.825977108080675,
          -23.739441021003657,
          11.706167277754226,
          -11.081803325496704,
          52.48527098011485,
          61.13155756407312,
          -21.350713849149606,
          -16.703200790808236,
          -32.05718315425862,
          -27.91128121286758,
          29.71835324855142,
          57.155456717175596,
          -28.78984464606474,
          52.99571701130129,
          -15.972197999155355,
          -24.162667273243425,
          -10.179958555929419,
          -25.163544237988834,
          61.13155756407312,
          32.40371878526831,
          69.21255250926863,
          -17.57266174148528,
          -26.561817252341253,
          -20.423923559842383,
          12.376769410027178,
          -9.363386615244023,
          -23.129751662846832,
          53.748927921717446,
          49.78826028062225,
          61.326493566662556,
          -26.926395691456577,
          35.96811889936226,
          37.09456422047217,
          11.706167277754226,
          54.39677393665669,
          59.21919678491606,
          -11.318947008476739,
          45.16335418697706,
          -28.267816843992634,
          -25.025979396989065,
          1.070079984759281,
          70.13824178347784,
          -27.4140347439454,
          46.133987241091496,
          -31.418555071486274,
          49.583677304876716,
          45.4732459449395,
          -25.14895889382894,
          7.439981799302109,
          -23.6556339655916,
          -27.052362217299425,
          -33.171562529260804,
          60.810560449649806,
          55.87423009173127,
          43.25193430253519,
          -10.179958555929419,
          -27.64889814594023,
          -25.25406468458702,
          -17.98370187911042,
          -30.292979181602323,
          -28.28627831026534,
          -27.91128121286758,
          -24.57919307499299,
          -28.30360738372108,
          -31.95324702095447,
          -23.856049371595645,
          49.78826028062225,
          45.95438737624343,
          46.87751702288331,
          -23.108459382614708,
          40.10426409907666,
          -26.926395691456577,
          57.24114735108534,
          -32.60132681017973,
          -29.163295665253443,
          -27.64889814594023,
          18.32828389897751,
          -10.996730113566423,
          -32.98000186875916,
          42.30516472512648,
          -30.658717458593507,
          36.75801338819354,
          48.55479124407608,
          -23.739441021003657,
          -31.030612506247508,
          -28.78984464606474,
          59.21919678491606,
          74.22281964290433,
          18.32828389897751,
          -30.13949701262894,
          45.16335418697706,
          3.7213388212325813,
          -27.51582797830997,
          42.30516472512648,
          -27.4140347439454,
          -30.133346079988915,
          44.87877093077559,
          40.15776594721437,
          57.155456717175596,
          7.439981799302109,
          54.39677393665669,
          -28.581817119032085,
          -23.823117398232593,
          -11.318947008476739,
          -31.89271878346746,
          -17.342599386349185,
          39.0664154587885,
          -20.999036167355957,
          -27.03418974770388,
          11.714565408701468,
          15.882003728081795,
          -23.856049371595645,
          57.155456717175596,
          60.810560449649806,
          -16.967844634261372,
          -20.07502119351775,
          61.13155756407312,
          -5.289580172603502,
          49.96564714402709,
          -21.155460684220728,
          -24.07298425180135,
          -31.000612525306963,
          14.300538253492535,
          -28.141728723788823,
          1.070079984759281,
          -23.129751662846832,
          -27.719852873749463,
          -26.932434725410115,
          -22.611914278468294,
          4.414853419001211,
          41.39654719413221,
          -29.318122795183136,
          -33.171562529260804,
          -25.853376124638466,
          -15.972197999155355,
          -11.416607939314048,
          -15.082738772113755,
          57.18077423210577,
          46.601657515134455,
          84.03419717570047,
          39.0664154587885,
          -31.557741922035913,
          -26.2079778565241,
          -31.459120566769528,
          -23.43749641553908,
          -15.564338040672974,
          22.876919959712875,
          53.748927921717446,
          15.882003728081795,
          29.768798936220183,
          4.414853419001211,
          80.90403495073589,
          -25.14895889382894,
          57.24114735108534,
          -2.211438101338816,
          52.48527098011485,
          -25.864460133519415,
          -27.642626873106437,
          -29.543454649960264,
          -26.918601312822318,
          -16.47334744940795,
          52.07335308987343,
          -25.325123892886275,
          -34.35666934664487,
          -31.418555071486274,
          44.467080334190136,
          43.05923233782804,
          59.65389527429734,
          -28.78984464606474,
          2.820710168436468,
          -25.163544237988834,
          49.96564714402709,
          32.40371878526831,
          79.53523017186883,
          10.373899164220761,
          -24.07298425180135,
          45.127684978710484,
          -20.999036167355957,
          -26.561817252341253,
          -25.71904995307841,
          -34.35666934664487,
          -18.402951005354204,
          -31.21792753030874,
          -14.132641246975824,
          83.74718905140512,
          -27.052362217299425,
          -31.030612506247508,
          -25.163544237988834,
          -31.89271878346746,
          12.839418850319614,
          -28.267816843992634,
          5.766803277328869,
          52.07335308987343,
          -9.363386615244023,
          -8.863023286024395,
          -32.59311396151578,
          -31.55973061110873,
          -24.578556266056516,
          40.15776594721437,
          49.78826028062225,
          39.61746522086765,
          -26.926395691456577,
          -24.012729591524053,
          -27.64889814594023,
          -17.98370187911042,
          -25.864460133519415,
          -26.837465438047698,
          -5.764546474450562,
          -20.54649434344425,
          -8.863023286024395,
          13.402786006983904,
          43.31762575389468,
          43.766113924132085,
          -29.408136702632607,
          43.25193430253519,
          -17.98370187911042,
          -23.504691418728157,
          -18.727222274685804,
          -32.24634364768338,
          -16.770503032128286,
          -25.329076322587028,
          -39.0407048289977,
          67.24550573448994,
          -22.545078484334326,
          -31.459120566769528,
          -25.40003900647595,
          -22.606794168441624,
          -22.288611122554745,
          46.601657515134455,
          -34.226398868296855,
          60.50621132499211,
          -25.460195160604968,
          -26.297397625792936,
          -10.50525507243769,
          -30.658717458593507,
          -27.19890847201681,
          -29.556074427245722,
          55.34502208058462,
          16.53181197341555,
          73.1336127640348,
          -16.435953095784004,
          -27.64889814594023,
          -31.086869938837037,
          -24.345838446837334,
          -29.308380312265758,
          -5.786821996013292,
          -25.329076322587028,
          -26.346895331967858,
          -28.477631174922948,
          -9.76279567134252,
          39.64771821377773,
          42.770928838899096,
          39.61746522086765,
          -25.948955710895156,
          -24.39008492456604,
          -27.03418974770388,
          3.7213388212325813,
          -27.4140347439454,
          -27.19890847201681,
          -27.756859091639,
          -30.83007331767935,
          48.55479124407608,
          7.439981799302109,
          -21.519564064994867,
          -24.07298425180135,
          -37.0801048363384,
          -32.59311396151578,
          55.34502208058462,
          -31.96659826488706,
          -28.40280941121649,
          -21.356858894221183,
          -9.159168225371493,
          -26.9123950682443,
          -25.351101929043487,
          -28.30088928314036,
          14.300538253492535,
          73.99488657407478,
          16.53181197341555,
          -23.108459382614708,
          61.326493566662556,
          -16.435953095784004,
          38.403316322463375,
          -27.093675220726478,
          -14.787724398796126,
          -27.719852873749463,
          44.21198442571383,
          -31.030612506247508,
          -16.435953095784004,
          11.362785585699367,
          -24.07298425180135,
          53.09350626797228,
          22.868806435757325,
          12.839418850319614,
          -9.76279567134252,
          -12.19805426659467,
          -15.972197999155355,
          -24.345838446837334,
          -37.25452019170685,
          -10.50525507243769,
          -25.948955710895156
         ],
         "y": [
          -37.788490950574314,
          -36.613633465841,
          -7.861683444740749,
          -1.8539011438751416,
          -36.386228332628384,
          -34.11206280079086,
          -2.844298881819194,
          -11.201375889159676,
          -7.644797191105678,
          11.887588187189248,
          -13.07541809234279,
          -4.0962038256251265,
          -0.23584658542013842,
          4.107591283334653,
          -6.271627258235833,
          -37.788490950574314,
          -7.861683444740749,
          -37.84720114094107,
          -1.8539011438751416,
          -36.386228332628384,
          -4.250219840868903,
          -37.510202340295955,
          -32.938394662929355,
          -6.1709993010857875,
          -0.1224549116972532,
          0.01364543450683947,
          -37.788490950574314,
          -29.438018474390393,
          -35.93320987905839,
          -32.56693753088441,
          -10.061605143216859,
          -7.193806723848197,
          -7.884752889041081,
          -27.418630795717565,
          -2.660622298086695,
          -5.8354920162427515,
          -6.005493832752426,
          -5.568790306539627,
          -31.2022232075797,
          -39.12122473932874,
          -6.182142701750284,
          23.194563164528997,
          -6.002615395070487,
          20.95548993640611,
          -14.895306071825676,
          -4.610644936539127,
          -6.271627258235833,
          -39.12122473932874,
          -6.182142701750284,
          -24.366970046437416,
          -37.03329042771361,
          -26.436729293700942,
          -2.628126706705489,
          -1.0904020053075878,
          -5.218864299308718,
          -4.615683923449787,
          -32.206256620138966,
          -38.12281821966039,
          -36.94012352984159,
          23.194563164528997,
          -2.844298881819194,
          -7.218406510176981,
          -4.760106161045737,
          -5.983039454312093,
          -2.020926066664182,
          -16.24496842023553,
          -5.054388293130619,
          -34.66949389667888,
          4.4341439274092975,
          -5.729864746983743,
          -5.455990481891987,
          -32.1960301743299,
          -37.03329042771361,
          -38.165561012933075,
          -7.656603691887031,
          -7.679000057604817,
          -4.056417187746153,
          -13.07541809234279,
          -7.131739111061478,
          -6.410658701506483,
          -7.994257760160821,
          -5.175592414493361,
          -6.331700459390926,
          4.073717221697559,
          -5.900103133836645,
          -29.438018474390393,
          -37.03329042771361,
          -7.867513285706171,
          -38.165561012933075,
          -37.809424848938775,
          -7.001686772616576,
          -7.273124136251731,
          -4.3028068667130865,
          -6.1709993010857875,
          -14.895306071825676,
          -6.254587273270334,
          -1.712698723668607,
          -4.093831562024234,
          -6.331700459390926,
          -29.438018474390393,
          -35.93320987905839,
          20.646494628389068,
          -3.980429713459567,
          -35.02025641936319,
          13.69410217556701,
          -5.158918174478027,
          -31.76811044332374,
          -4.785465380951625,
          -14.895306071825676,
          0.3215939401314419,
          -1.5651396698788982,
          -1.64568460603334,
          -6.005493832752426,
          -29.438018474390393,
          -5.338860283265314,
          -32.56693753088441,
          -21.1649743951,
          34.14788869678654,
          -26.448107011474576,
          -7.193806723848197,
          -18.69988535941623,
          -0.5432461213324034,
          -28.83128288693396,
          0.44333831765463627,
          -2.171050885901721,
          -1.712698723668607,
          -5.175592414493361,
          -3.6477393728176026,
          -2.946221377475702,
          2.3246673622804774,
          -5.037277089369221,
          -29.287516880176437,
          -4.056417187746153,
          -7.131739111061478,
          -6.968170196415268,
          -4.785465380951625,
          0.44333831765463627,
          -2.889857700842417,
          29.614343990299677,
          4.057912769573251,
          -5.568790306539627,
          -5.531022109890364,
          1.7737452051236144,
          2.083701185703265,
          -1.5999478707639074,
          -28.185421504074846,
          -38.12281821966039,
          -12.099305960383235,
          -6.919911779298518,
          -33.18794734075157,
          11.887588187189248,
          -18.69988535941623,
          -26.028992390938914,
          -13.07541809234279,
          -2.4847936405300226,
          -29.75308802463819,
          -6.128920549019195,
          0.3215939401314419,
          -5.966225784882324,
          16.796857106749158,
          -3.0043240327245475,
          -32.62577478429108,
          -5.029161773994896,
          -29.438018474390393,
          -36.08953422416913,
          -3.8271999388087763,
          -2.7510801729833396,
          -8.232211506517237,
          -8.00561484542658,
          -10.382298488632024,
          -7.797675581830562,
          -19.842336292800358,
          20.95548993640611,
          -6.968170196415268,
          -7.522957040711536,
          -6.1709993010857875,
          -2.2852945894022643,
          -6.169063286111204,
          -8.81954472964674,
          -3.6477393728176026,
          -3.1892303855038224,
          -5.297806572283737,
          -6.4393955990174465,
          -3.823746815557477,
          -38.12281821966039,
          -36.94012352984159,
          -36.22710409412399,
          -4.250219840868903,
          -38.165561012933075,
          -6.919911779298518,
          -19.53144708603241,
          -7.525523915400079,
          -6.715323362318846,
          -7.522957040711536,
          5.3271427848882675,
          1.595630281670323,
          -5.1300820107521865,
          -32.153961108061374,
          -6.875869736907182,
          -28.070811785035698,
          -31.5302190907419,
          -7.193806723848197,
          -7.375438068921473,
          -5.037277089369221,
          -13.07541809234279,
          15.60860339507834,
          5.3271427848882675,
          -5.746662361380744,
          -29.75308802463819,
          4.4341439274092975,
          -4.901239912184167,
          -32.153961108061374,
          -3.0043240327245475,
          -7.861683444740749,
          -27.879393799078315,
          -36.386228332628384,
          2.3246673622804774,
          -2.7510801729833396,
          -26.028992390938914,
          -5.983039454312093,
          -3.6136152164336983,
          -2.4847936405300226,
          -1.0904020053075878,
          3.0412925190920332,
          12.728640726777655,
          -3.334650826668045,
          -4.627614154923181,
          -19.6176075662198,
          16.90050907787182,
          -3.823746815557477,
          2.3246673622804774,
          -7.797675581830562,
          -2.3004173585746126,
          -5.26874142401674,
          0.44333831765463627,
          -14.895306071825676,
          -30.74777510779805,
          -5.218864299308718,
          -0.597312624002094,
          -6.005493832752426,
          7.396228581571227,
          2.902071936528921,
          -5.966225784882324,
          -1.5999478707639074,
          4.1646720096409835,
          -3.9499580783852837,
          -0.35903970853180717,
          -3.759769280139475,
          -38.938447447462124,
          -8.075350978118879,
          -10.382298488632024,
          -8.532451019638977,
          -4.056417187746153,
          -0.6368610484279515,
          -3.0852845362443424,
          -22.042892072704927,
          -29.133551099138053,
          26.933342614568474,
          12.728640726777655,
          -6.716306133637252,
          -3.2007128908083855,
          -6.558022910114307,
          -2.7434300489207497,
          -1.6222828991317062,
          13.111176241683799,
          -28.185421504074846,
          16.90050907787182,
          -20.54624396418738,
          -3.759769280139475,
          17.993899359445365,
          -3.8271999388087763,
          -19.53144708603241,
          -8.759613534539744,
          -28.83128288693396,
          -4.117457701977827,
          -6.6858753613818385,
          -1.0238408527788374,
          -1.6410854076761525,
          -0.1224549116972532,
          -31.2022232075797,
          -4.148771571437948,
          -6.088792620283805,
          -5.029161773994896,
          -22.891799447813767,
          -39.12122473932874,
          -5.338860283265314,
          -5.037277089369221,
          -0.39669176130155986,
          -4.785465380951625,
          -30.74777510779805,
          -2.889857700842417,
          23.411567662642952,
          -16.878332125117712,
          -0.597312624002094,
          -28.01589171358368,
          -3.334650826668045,
          -5.568790306539627,
          -5.900103133836645,
          -6.088792620283805,
          -6.389414236311274,
          -5.168542120674596,
          0.7502510600186928,
          34.14788869678654,
          -8.00561484542658,
          -7.375438068921473,
          -4.785465380951625,
          -1.0904020053075878,
          8.683143382719676,
          -6.128920549019195,
          -6.4510523954500325,
          -31.2022232075797,
          2.083701185703265,
          5.702289450923761,
          2.9859153784206347,
          2.999456775362439,
          2.6617127231550564,
          -36.386228332628384,
          -38.12281821966039,
          -38.47472492145206,
          -6.919911779298518,
          -7.218406510176981,
          -7.522957040711536,
          -2.2852945894022643,
          -4.117457701977827,
          -4.935519461829247,
          -5.8354920162427515,
          0.4725357846393008,
          5.702289450923761,
          -11.922831614449011,
          -37.35427600102008,
          -36.989284522472516,
          -7.656603691887031,
          20.95548993640611,
          -2.2852945894022643,
          -6.254587273270334,
          -6.062442837884839,
          -0.23584658542013842,
          -3.1522900883869744,
          -4.093831562024234,
          -6.331700459390926,
          33.71830820783923,
          -2.172897947790694,
          -6.558022910114307,
          1.0441564749043455,
          -0.19314307860355662,
          -2.102792965224019,
          -29.133551099138053,
          -6.395959750510636,
          20.952199786808478,
          -5.219421618194093,
          -6.271627258235833,
          3.9869709191104516,
          -6.875869736907182,
          -2.12010546308063,
          -2.788910014262849,
          -22.144837560472503,
          17.270663227232177,
          20.646494628389068,
          -4.052537292597859,
          -7.522957040711536,
          -6.168224837598607,
          -5.054388293130619,
          -5.657004166425689,
          1.9159736157268243,
          -4.093831562024234,
          -5.222434031944377,
          -3.280944788549908,
          2.203824357557096,
          -36.77497630815293,
          -37.03329042771361,
          -38.47472492145206,
          -7.807019711475817,
          -4.677347574105388,
          -4.627614154923181,
          4.4341439274092975,
          -3.0043240327245475,
          -2.12010546308063,
          -6.265540870107486,
          -7.015469985624341,
          -31.5302190907419,
          -2.7510801729833396,
          -4.384164026187707,
          -0.597312624002094,
          -4.72360196128498,
          2.9859153784206347,
          -22.144837560472503,
          -4.439042166368608,
          -4.092784880846071,
          -3.980429713459567,
          -11.201375889159676,
          -7.679000057604817,
          -5.87837003694234,
          0.17800505114953105,
          7.396228581571227,
          16.44192820293106,
          17.270663227232177,
          -4.250219840868903,
          -12.099305960383235,
          -4.052537292597859,
          -12.439882520577353,
          -8.00148556637495,
          -7.265934159475946,
          4.1646720096409835,
          -32.206256620138966,
          -7.375438068921473,
          -4.052537292597859,
          2.4496805343264554,
          -0.597312624002094,
          -24.366970046437416,
          -7.994257760160821,
          8.683143382719676,
          2.203824357557096,
          -2.7515576491220997,
          -4.056417187746153,
          -5.054388293130619,
          -3.3304537440396516,
          3.9869709191104516,
          -7.807019711475817
         ],
         "z": [
          7.774276194624406,
          25.68229267930142,
          -4.373032146200286,
          15.708524282306584,
          6.73903473572969,
          17.59869973382347,
          -3.9456913138930347,
          3.0476280036757615,
          -20.75350914854796,
          -9.947832253016205,
          14.89874121523561,
          -0.13539842321179543,
          25.21717513045564,
          15.068007952388612,
          -1.7984532022185187,
          7.774276194624406,
          -4.373032146200286,
          0.22780898568573613,
          15.708524282306584,
          6.73903473572969,
          8.806234947079076,
          11.525621729846197,
          1.5973035462885061,
          -18.691015025066502,
          10.27747877626474,
          14.113323883109677,
          7.774276194624406,
          -7.291560155380084,
          -5.34018203325153,
          20.508213981801937,
          -14.83052538959483,
          2.3944161125625842,
          -6.275628504065414,
          -0.33264168704583874,
          -4.162582552375313,
          16.25920287436074,
          -5.493432962645819,
          6.005352711112597,
          2.5766712379717878,
          9.69092688733098,
          13.393474693801716,
          12.400337958502249,
          -5.801620038387362,
          18.270109425493853,
          -13.005637432044773,
          9.354917009714203,
          -1.7984532022185187,
          9.69092688733098,
          13.393474693801716,
          0.8442607265169392,
          11.568605845737622,
          -3.3490379705235416,
          9.378517277156615,
          28.855931517999398,
          -10.679779585292176,
          -5.798173487922461,
          16.497365844838328,
          -4.582433524076722,
          -3.953644787322929,
          12.400337958502249,
          -3.9456913138930347,
          -1.612900132709552,
          4.627249524947954,
          -10.569202130116171,
          9.660114184605922,
          21.795722393208667,
          -15.452693995122893,
          6.117587005426234,
          12.713819541377394,
          -3.845917781934678,
          0.881368907044483,
          10.574387985522176,
          11.568605845737622,
          18.056222577713946,
          -13.233496348524449,
          -7.627291984112649,
          -1.661849865797039,
          14.89874121523561,
          -15.976637565879575,
          1.6218677293339074,
          -14.596320178308478,
          12.457413035074559,
          19.28667687675608,
          13.783914777181742,
          -17.821544229301537,
          -7.291560155380084,
          11.568605845737622,
          2.969673624901696,
          18.056222577713946,
          -3.601248629616969,
          4.4888922294822216,
          3.1035448250615696,
          7.600422523122192,
          -18.691015025066502,
          -13.005637432044773,
          -16.6919043456147,
          6.3727254586448145,
          5.473943042106696,
          19.28667687675608,
          -7.291560155380084,
          -5.34018203325153,
          -4.2341660969034915,
          9.432386574212506,
          14.204289647810187,
          -1.355459342082308,
          4.973580584029346,
          -9.058731514108194,
          -6.143310509982311,
          -13.005637432044773,
          24.29697744564152,
          -10.12956315448943,
          -17.396239920433626,
          -5.493432962645819,
          -7.291560155380084,
          13.399571818098822,
          20.508213981801937,
          2.1560446455625266,
          20.65493206527697,
          -8.251972485776617,
          2.3944161125625842,
          -9.720225198555692,
          4.607786888138622,
          2.346210213624497,
          -0.013067895672223906,
          6.690309460870532,
          6.3727254586448145,
          12.457413035074559,
          8.779062185465543,
          -12.889930717328241,
          22.786263616811453,
          0.02415002014512495,
          0.10720740778276697,
          -1.661849865797039,
          -15.976637565879575,
          -6.6191406145570495,
          -6.143310509982311,
          -0.013067895672223906,
          6.14102211517671,
          13.70308390282139,
          22.31779341484241,
          6.005352711112597,
          -7.107951903634792,
          3.2874394076723097,
          12.827706482395655,
          17.536334673510584,
          8.919081098651901,
          -4.582433524076722,
          3.013541437402944,
          2.0968008939325156,
          -4.052016381939256,
          -9.947832253016205,
          -9.720225198555692,
          -0.8655334970872941,
          14.89874121523561,
          3.5428047338389517,
          -0.691299860228965,
          2.3603044318247695,
          24.29697744564152,
          -1.7536925458511685,
          -7.544677167579324,
          -0.7231569152205819,
          -12.25487739107583,
          4.046471943407624,
          -7.291560155380084,
          1.3068592662362462,
          7.589809051626919,
          18.8987911497992,
          -15.464908535235242,
          -16.798047232684013,
          -10.030713330072617,
          -2.6520336392510795,
          16.719891157813187,
          18.270109425493853,
          -6.6191406145570495,
          -15.270831742139203,
          -18.691015025066502,
          7.7267051802946405,
          7.163266894627054,
          -17.285022138593778,
          8.779062185465543,
          3.021576165656623,
          0.7460910611711348,
          -12.218669288261713,
          13.846923197609444,
          -4.582433524076722,
          -3.953644787322929,
          8.624508364583885,
          8.806234947079076,
          18.056222577713946,
          2.0968008939325156,
          16.866405448145667,
          7.021642633240843,
          8.103360957772495,
          -15.270831742139203,
          -9.387121613627158,
          -7.228315043897379,
          5.615450911412912,
          -14.061689520999911,
          -14.022989138242755,
          -15.669441280239827,
          19.3057309131782,
          2.3944161125625842,
          5.7295481147891305,
          0.02415002014512495,
          14.89874121523561,
          4.197306194858269,
          -9.387121613627158,
          6.463890561126905,
          -0.691299860228965,
          12.713819541377394,
          -0.4175408286199946,
          -14.061689520999911,
          -0.7231569152205819,
          -4.373032146200286,
          13.035055070576142,
          6.73903473572969,
          22.786263616811453,
          18.8987911497992,
          -0.8655334970872941,
          -10.569202130116171,
          2.5673843040203894,
          3.5428047338389517,
          28.855931517999398,
          22.580347038512485,
          6.313206766013531,
          -13.0739535801814,
          -9.558827689600568,
          -20.476879649726662,
          26.381881118702374,
          13.846923197609444,
          22.786263616811453,
          -2.6520336392510795,
          1.6753271513715122,
          0.8582486209577221,
          -0.013067895672223906,
          -13.005637432044773,
          -9.910060870840509,
          -10.679779585292176,
          10.952599141247937,
          -5.493432962645819,
          4.166181122189872,
          22.720398054742176,
          -1.7536925458511685,
          17.536334673510584,
          35.57730398723132,
          0.6025236478209984,
          6.337853886274682,
          -6.191113503372777,
          6.530920501737585,
          7.064879049941423,
          -10.030713330072617,
          -6.156797385825517,
          -1.661849865797039,
          -8.404732429211009,
          -17.173479111098654,
          -5.155124445641098,
          22.192549228824856,
          -10.082239514961984,
          6.313206766013531,
          -9.312401583169532,
          2.484197745028402,
          -15.922910704401254,
          0.8320187406756417,
          9.98180736793862,
          -0.4654826833367811,
          8.919081098651901,
          26.381881118702374,
          -2.5763025561544795,
          -6.191113503372777,
          0.4003835485666023,
          7.589809051626919,
          16.866405448145667,
          15.911541826767149,
          2.346210213624497,
          0.07907314667847745,
          -3.468472838142805,
          21.73843911186679,
          7.772970173291499,
          10.27747877626474,
          2.5766712379717878,
          -18.887980052797122,
          -5.376214268376791,
          4.046471943407624,
          14.110965262488653,
          9.69092688733098,
          13.399571818098822,
          0.02415002014512495,
          -18.438360962602903,
          -6.143310509982311,
          -9.910060870840509,
          6.14102211517671,
          1.1491760783770162,
          12.163473539892356,
          10.952599141247937,
          32.189707276364594,
          -13.0739535801814,
          6.005352711112597,
          -17.821544229301537,
          -5.376214268376791,
          -29.13734987967811,
          -13.298665158455469,
          -12.734072073667447,
          20.65493206527697,
          -16.798047232684013,
          5.7295481147891305,
          -6.143310509982311,
          28.855931517999398,
          -6.330008175870117,
          2.3603044318247695,
          5.132113001588534,
          2.5766712379717878,
          12.827706482395655,
          13.16438616513978,
          34.030226586245114,
          29.83147256846093,
          17.949203670824566,
          6.73903473572969,
          -4.582433524076722,
          -2.1246146566334585,
          2.0968008939325156,
          -1.612900132709552,
          -15.270831742139203,
          7.7267051802946405,
          0.07907314667847745,
          -11.407856590300634,
          16.25920287436074,
          8.949453297158708,
          13.16438616513978,
          -10.80029469384885,
          1.4390303745189053,
          3.012025561959255,
          -13.233496348524449,
          18.270109425493853,
          7.7267051802946405,
          -16.6919043456147,
          -11.8885158586719,
          25.21717513045564,
          3.143539522488661,
          5.473943042106696,
          19.28667687675608,
          13.54104611130157,
          -11.028697113424315,
          -15.922910704401254,
          12.87582201562374,
          -4.515193517333308,
          13.777155185878643,
          22.192549228824856,
          11.861984829835313,
          20.65515591709627,
          -6.078574591229045,
          -1.7984532022185187,
          7.1330427699069645,
          -14.022989138242755,
          13.175984325551338,
          1.5168017994909708,
          0.865093313999245,
          5.905239565550086,
          -4.2341660969034915,
          3.4278618451770044,
          -15.270831742139203,
          9.075465269115846,
          -15.452693995122893,
          6.182626450532677,
          -4.922333494547816,
          5.473943042106696,
          -13.191151378639548,
          8.2638048391746,
          -8.430597191950648,
          18.94730722973197,
          11.568605845737622,
          -2.1246146566334585,
          -18.280466944781356,
          -19.443179563872494,
          -9.558827689600568,
          12.713819541377394,
          -0.7231569152205819,
          13.175984325551338,
          7.985816021532854,
          -2.7645599589578844,
          19.3057309131782,
          18.8987911497992,
          4.7933630399262945,
          10.952599141247937,
          13.431908538498055,
          34.030226586245114,
          0.865093313999245,
          -6.789104238821859,
          2.602304584288642,
          9.432386574212506,
          3.0476280036757615,
          -7.627291984112649,
          5.731842055251252,
          31.29727847576969,
          4.166181122189872,
          -15.756911438662485,
          5.905239565550086,
          8.806234947079076,
          3.013541437402944,
          3.4278618451770044,
          19.226807985693387,
          -6.129263566895396,
          -16.443764038411203,
          35.57730398723132,
          16.497365844838328,
          5.7295481147891305,
          3.4278618451770044,
          9.508510462019487,
          10.952599141247937,
          0.8442607265169392,
          -14.596320178308478,
          -6.330008175870117,
          -8.430597191950648,
          -4.979121652857494,
          -1.661849865797039,
          -15.452693995122893,
          18.451470244303867,
          7.1330427699069645,
          -18.280466944781356
         ],
         "type": "scatter3d"
        }
       ],
       "layout": {
        "template": {
         "data": {
          "bar": [
           {
            "error_x": {
             "color": "#2a3f5f"
            },
            "error_y": {
             "color": "#2a3f5f"
            },
            "marker": {
             "line": {
              "color": "#E5ECF6",
              "width": 0.5
             },
             "pattern": {
              "fillmode": "overlay",
              "size": 10,
              "solidity": 0.2
             }
            },
            "type": "bar"
           }
          ],
          "barpolar": [
           {
            "marker": {
             "line": {
              "color": "#E5ECF6",
              "width": 0.5
             },
             "pattern": {
              "fillmode": "overlay",
              "size": 10,
              "solidity": 0.2
             }
            },
            "type": "barpolar"
           }
          ],
          "carpet": [
           {
            "aaxis": {
             "endlinecolor": "#2a3f5f",
             "gridcolor": "white",
             "linecolor": "white",
             "minorgridcolor": "white",
             "startlinecolor": "#2a3f5f"
            },
            "baxis": {
             "endlinecolor": "#2a3f5f",
             "gridcolor": "white",
             "linecolor": "white",
             "minorgridcolor": "white",
             "startlinecolor": "#2a3f5f"
            },
            "type": "carpet"
           }
          ],
          "choropleth": [
           {
            "colorbar": {
             "outlinewidth": 0,
             "ticks": ""
            },
            "type": "choropleth"
           }
          ],
          "contour": [
           {
            "colorbar": {
             "outlinewidth": 0,
             "ticks": ""
            },
            "colorscale": [
             [
              0.0,
              "#0d0887"
             ],
             [
              0.1111111111111111,
              "#46039f"
             ],
             [
              0.2222222222222222,
              "#7201a8"
             ],
             [
              0.3333333333333333,
              "#9c179e"
             ],
             [
              0.4444444444444444,
              "#bd3786"
             ],
             [
              0.5555555555555556,
              "#d8576b"
             ],
             [
              0.6666666666666666,
              "#ed7953"
             ],
             [
              0.7777777777777778,
              "#fb9f3a"
             ],
             [
              0.8888888888888888,
              "#fdca26"
             ],
             [
              1.0,
              "#f0f921"
             ]
            ],
            "type": "contour"
           }
          ],
          "contourcarpet": [
           {
            "colorbar": {
             "outlinewidth": 0,
             "ticks": ""
            },
            "type": "contourcarpet"
           }
          ],
          "heatmap": [
           {
            "colorbar": {
             "outlinewidth": 0,
             "ticks": ""
            },
            "colorscale": [
             [
              0.0,
              "#0d0887"
             ],
             [
              0.1111111111111111,
              "#46039f"
             ],
             [
              0.2222222222222222,
              "#7201a8"
             ],
             [
              0.3333333333333333,
              "#9c179e"
             ],
             [
              0.4444444444444444,
              "#bd3786"
             ],
             [
              0.5555555555555556,
              "#d8576b"
             ],
             [
              0.6666666666666666,
              "#ed7953"
             ],
             [
              0.7777777777777778,
              "#fb9f3a"
             ],
             [
              0.8888888888888888,
              "#fdca26"
             ],
             [
              1.0,
              "#f0f921"
             ]
            ],
            "type": "heatmap"
           }
          ],
          "heatmapgl": [
           {
            "colorbar": {
             "outlinewidth": 0,
             "ticks": ""
            },
            "colorscale": [
             [
              0.0,
              "#0d0887"
             ],
             [
              0.1111111111111111,
              "#46039f"
             ],
             [
              0.2222222222222222,
              "#7201a8"
             ],
             [
              0.3333333333333333,
              "#9c179e"
             ],
             [
              0.4444444444444444,
              "#bd3786"
             ],
             [
              0.5555555555555556,
              "#d8576b"
             ],
             [
              0.6666666666666666,
              "#ed7953"
             ],
             [
              0.7777777777777778,
              "#fb9f3a"
             ],
             [
              0.8888888888888888,
              "#fdca26"
             ],
             [
              1.0,
              "#f0f921"
             ]
            ],
            "type": "heatmapgl"
           }
          ],
          "histogram": [
           {
            "marker": {
             "pattern": {
              "fillmode": "overlay",
              "size": 10,
              "solidity": 0.2
             }
            },
            "type": "histogram"
           }
          ],
          "histogram2d": [
           {
            "colorbar": {
             "outlinewidth": 0,
             "ticks": ""
            },
            "colorscale": [
             [
              0.0,
              "#0d0887"
             ],
             [
              0.1111111111111111,
              "#46039f"
             ],
             [
              0.2222222222222222,
              "#7201a8"
             ],
             [
              0.3333333333333333,
              "#9c179e"
             ],
             [
              0.4444444444444444,
              "#bd3786"
             ],
             [
              0.5555555555555556,
              "#d8576b"
             ],
             [
              0.6666666666666666,
              "#ed7953"
             ],
             [
              0.7777777777777778,
              "#fb9f3a"
             ],
             [
              0.8888888888888888,
              "#fdca26"
             ],
             [
              1.0,
              "#f0f921"
             ]
            ],
            "type": "histogram2d"
           }
          ],
          "histogram2dcontour": [
           {
            "colorbar": {
             "outlinewidth": 0,
             "ticks": ""
            },
            "colorscale": [
             [
              0.0,
              "#0d0887"
             ],
             [
              0.1111111111111111,
              "#46039f"
             ],
             [
              0.2222222222222222,
              "#7201a8"
             ],
             [
              0.3333333333333333,
              "#9c179e"
             ],
             [
              0.4444444444444444,
              "#bd3786"
             ],
             [
              0.5555555555555556,
              "#d8576b"
             ],
             [
              0.6666666666666666,
              "#ed7953"
             ],
             [
              0.7777777777777778,
              "#fb9f3a"
             ],
             [
              0.8888888888888888,
              "#fdca26"
             ],
             [
              1.0,
              "#f0f921"
             ]
            ],
            "type": "histogram2dcontour"
           }
          ],
          "mesh3d": [
           {
            "colorbar": {
             "outlinewidth": 0,
             "ticks": ""
            },
            "type": "mesh3d"
           }
          ],
          "parcoords": [
           {
            "line": {
             "colorbar": {
              "outlinewidth": 0,
              "ticks": ""
             }
            },
            "type": "parcoords"
           }
          ],
          "pie": [
           {
            "automargin": true,
            "type": "pie"
           }
          ],
          "scatter": [
           {
            "marker": {
             "colorbar": {
              "outlinewidth": 0,
              "ticks": ""
             }
            },
            "type": "scatter"
           }
          ],
          "scatter3d": [
           {
            "line": {
             "colorbar": {
              "outlinewidth": 0,
              "ticks": ""
             }
            },
            "marker": {
             "colorbar": {
              "outlinewidth": 0,
              "ticks": ""
             }
            },
            "type": "scatter3d"
           }
          ],
          "scattercarpet": [
           {
            "marker": {
             "colorbar": {
              "outlinewidth": 0,
              "ticks": ""
             }
            },
            "type": "scattercarpet"
           }
          ],
          "scattergeo": [
           {
            "marker": {
             "colorbar": {
              "outlinewidth": 0,
              "ticks": ""
             }
            },
            "type": "scattergeo"
           }
          ],
          "scattergl": [
           {
            "marker": {
             "colorbar": {
              "outlinewidth": 0,
              "ticks": ""
             }
            },
            "type": "scattergl"
           }
          ],
          "scattermapbox": [
           {
            "marker": {
             "colorbar": {
              "outlinewidth": 0,
              "ticks": ""
             }
            },
            "type": "scattermapbox"
           }
          ],
          "scatterpolar": [
           {
            "marker": {
             "colorbar": {
              "outlinewidth": 0,
              "ticks": ""
             }
            },
            "type": "scatterpolar"
           }
          ],
          "scatterpolargl": [
           {
            "marker": {
             "colorbar": {
              "outlinewidth": 0,
              "ticks": ""
             }
            },
            "type": "scatterpolargl"
           }
          ],
          "scatterternary": [
           {
            "marker": {
             "colorbar": {
              "outlinewidth": 0,
              "ticks": ""
             }
            },
            "type": "scatterternary"
           }
          ],
          "surface": [
           {
            "colorbar": {
             "outlinewidth": 0,
             "ticks": ""
            },
            "colorscale": [
             [
              0.0,
              "#0d0887"
             ],
             [
              0.1111111111111111,
              "#46039f"
             ],
             [
              0.2222222222222222,
              "#7201a8"
             ],
             [
              0.3333333333333333,
              "#9c179e"
             ],
             [
              0.4444444444444444,
              "#bd3786"
             ],
             [
              0.5555555555555556,
              "#d8576b"
             ],
             [
              0.6666666666666666,
              "#ed7953"
             ],
             [
              0.7777777777777778,
              "#fb9f3a"
             ],
             [
              0.8888888888888888,
              "#fdca26"
             ],
             [
              1.0,
              "#f0f921"
             ]
            ],
            "type": "surface"
           }
          ],
          "table": [
           {
            "cells": {
             "fill": {
              "color": "#EBF0F8"
             },
             "line": {
              "color": "white"
             }
            },
            "header": {
             "fill": {
              "color": "#C8D4E3"
             },
             "line": {
              "color": "white"
             }
            },
            "type": "table"
           }
          ]
         },
         "layout": {
          "annotationdefaults": {
           "arrowcolor": "#2a3f5f",
           "arrowhead": 0,
           "arrowwidth": 1
          },
          "autotypenumbers": "strict",
          "coloraxis": {
           "colorbar": {
            "outlinewidth": 0,
            "ticks": ""
           }
          },
          "colorscale": {
           "diverging": [
            [
             0,
             "#8e0152"
            ],
            [
             0.1,
             "#c51b7d"
            ],
            [
             0.2,
             "#de77ae"
            ],
            [
             0.3,
             "#f1b6da"
            ],
            [
             0.4,
             "#fde0ef"
            ],
            [
             0.5,
             "#f7f7f7"
            ],
            [
             0.6,
             "#e6f5d0"
            ],
            [
             0.7,
             "#b8e186"
            ],
            [
             0.8,
             "#7fbc41"
            ],
            [
             0.9,
             "#4d9221"
            ],
            [
             1,
             "#276419"
            ]
           ],
           "sequential": [
            [
             0.0,
             "#0d0887"
            ],
            [
             0.1111111111111111,
             "#46039f"
            ],
            [
             0.2222222222222222,
             "#7201a8"
            ],
            [
             0.3333333333333333,
             "#9c179e"
            ],
            [
             0.4444444444444444,
             "#bd3786"
            ],
            [
             0.5555555555555556,
             "#d8576b"
            ],
            [
             0.6666666666666666,
             "#ed7953"
            ],
            [
             0.7777777777777778,
             "#fb9f3a"
            ],
            [
             0.8888888888888888,
             "#fdca26"
            ],
            [
             1.0,
             "#f0f921"
            ]
           ],
           "sequentialminus": [
            [
             0.0,
             "#0d0887"
            ],
            [
             0.1111111111111111,
             "#46039f"
            ],
            [
             0.2222222222222222,
             "#7201a8"
            ],
            [
             0.3333333333333333,
             "#9c179e"
            ],
            [
             0.4444444444444444,
             "#bd3786"
            ],
            [
             0.5555555555555556,
             "#d8576b"
            ],
            [
             0.6666666666666666,
             "#ed7953"
            ],
            [
             0.7777777777777778,
             "#fb9f3a"
            ],
            [
             0.8888888888888888,
             "#fdca26"
            ],
            [
             1.0,
             "#f0f921"
            ]
           ]
          },
          "colorway": [
           "#636efa",
           "#EF553B",
           "#00cc96",
           "#ab63fa",
           "#FFA15A",
           "#19d3f3",
           "#FF6692",
           "#B6E880",
           "#FF97FF",
           "#FECB52"
          ],
          "font": {
           "color": "#2a3f5f"
          },
          "geo": {
           "bgcolor": "white",
           "lakecolor": "white",
           "landcolor": "#E5ECF6",
           "showlakes": true,
           "showland": true,
           "subunitcolor": "white"
          },
          "hoverlabel": {
           "align": "left"
          },
          "hovermode": "closest",
          "mapbox": {
           "style": "light"
          },
          "paper_bgcolor": "white",
          "plot_bgcolor": "#E5ECF6",
          "polar": {
           "angularaxis": {
            "gridcolor": "white",
            "linecolor": "white",
            "ticks": ""
           },
           "bgcolor": "#E5ECF6",
           "radialaxis": {
            "gridcolor": "white",
            "linecolor": "white",
            "ticks": ""
           }
          },
          "scene": {
           "xaxis": {
            "backgroundcolor": "#E5ECF6",
            "gridcolor": "white",
            "gridwidth": 2,
            "linecolor": "white",
            "showbackground": true,
            "ticks": "",
            "zerolinecolor": "white"
           },
           "yaxis": {
            "backgroundcolor": "#E5ECF6",
            "gridcolor": "white",
            "gridwidth": 2,
            "linecolor": "white",
            "showbackground": true,
            "ticks": "",
            "zerolinecolor": "white"
           },
           "zaxis": {
            "backgroundcolor": "#E5ECF6",
            "gridcolor": "white",
            "gridwidth": 2,
            "linecolor": "white",
            "showbackground": true,
            "ticks": "",
            "zerolinecolor": "white"
           }
          },
          "shapedefaults": {
           "line": {
            "color": "#2a3f5f"
           }
          },
          "ternary": {
           "aaxis": {
            "gridcolor": "white",
            "linecolor": "white",
            "ticks": ""
           },
           "baxis": {
            "gridcolor": "white",
            "linecolor": "white",
            "ticks": ""
           },
           "bgcolor": "#E5ECF6",
           "caxis": {
            "gridcolor": "white",
            "linecolor": "white",
            "ticks": ""
           }
          },
          "title": {
           "x": 0.05
          },
          "xaxis": {
           "automargin": true,
           "gridcolor": "white",
           "linecolor": "white",
           "ticks": "",
           "title": {
            "standoff": 15
           },
           "zerolinecolor": "white",
           "zerolinewidth": 2
          },
          "yaxis": {
           "automargin": true,
           "gridcolor": "white",
           "linecolor": "white",
           "ticks": "",
           "title": {
            "standoff": 15
           },
           "zerolinecolor": "white",
           "zerolinewidth": 2
          }
         }
        },
        "scene": {
         "domain": {
          "x": [
           0.0,
           1.0
          ],
          "y": [
           0.0,
           1.0
          ]
         },
         "xaxis": {
          "title": {
           "text": "one_number"
          }
         },
         "yaxis": {
          "title": {
           "text": "two_number"
          }
         },
         "zaxis": {
          "title": {
           "text": "three_number"
          }
         }
        },
        "coloraxis": {
         "colorbar": {
          "title": {
           "text": "four_number"
          }
         },
         "colorscale": [
          [
           0.0,
           "#0d0887"
          ],
          [
           0.1111111111111111,
           "#46039f"
          ],
          [
           0.2222222222222222,
           "#7201a8"
          ],
          [
           0.3333333333333333,
           "#9c179e"
          ],
          [
           0.4444444444444444,
           "#bd3786"
          ],
          [
           0.5555555555555556,
           "#d8576b"
          ],
          [
           0.6666666666666666,
           "#ed7953"
          ],
          [
           0.7777777777777778,
           "#fb9f3a"
          ],
          [
           0.8888888888888888,
           "#fdca26"
          ],
          [
           1.0,
           "#f0f921"
          ]
         ]
        },
        "legend": {
         "tracegroupgap": 0
        },
        "margin": {
         "t": 60
        }
       },
       "config": {
        "plotlyServerURL": "https://plot.ly"
       }
      },
      "text/html": "<div>                            <div id=\"20277bb6-9789-4201-bd3d-4131b615e4b1\" class=\"plotly-graph-div\" style=\"height:525px; width:100%;\"></div>            <script type=\"text/javascript\">                require([\"plotly\"], function(Plotly) {                    window.PLOTLYENV=window.PLOTLYENV || {};                                    if (document.getElementById(\"20277bb6-9789-4201-bd3d-4131b615e4b1\")) {                    Plotly.newPlot(                        \"20277bb6-9789-4201-bd3d-4131b615e4b1\",                        [{\"customdata\":[[\"Kareem Abdul-Jabbar*\",1980],[\"Magic Johnson*\",1980],[\"Jamaal Wilkes*\",1980],[\"Tiny Archibald*\",1980],[\"Larry Bird*\",1980],[\"Elvin Hayes*\",1980],[\"Wes Unseld*\",1980],[\"Dennis Johnson*\",1980],[\"Moses Malone*\",1980],[\"Calvin Murphy*\",1980],[\"Julius Erving*\",1980],[\"Adrian Dantley*\",1980],[\"George Gervin*\",1980],[\"Bob McAdoo*\",1980],[\"Dan Issel*\",1980],[\"Kareem Abdul-Jabbar*\",1981],[\"Magic Johnson*\",1981],[\"Jamaal Wilkes*\",1981],[\"Tiny Archibald*\",1981],[\"Larry Bird*\",1981],[\"Jack Sikma*\",1981],[\"Elvin Hayes*\",1981],[\"Adrian Dantley*\",1981],[\"Bernard King*\",1981],[\"Moses Malone*\",1981],[\"Alex English*\",1981],[\"Kareem Abdul-Jabbar*\",1982],[\"Magic Johnson*\",1982],[\"Jamaal Wilkes*\",1982],[\"Dennis Johnson*\",1982],[\"Larry Bird*\",1982],[\"George Gervin*\",1982],[\"Sidney Moncrief*\",1982],[\"Jack Sikma*\",1982],[\"Bernard King*\",1982],[\"Adrian Dantley*\",1982],[\"Elvin Hayes*\",1982],[\"Moses Malone*\",1982],[\"Alex English*\",1982],[\"Magic Johnson*\",1983],[\"Larry Bird*\",1983],[\"Alex English*\",1983],[\"George Gervin*\",1983],[\"Isiah Thomas*\",1983],[\"Sidney Moncrief*\",1983],[\"Moses Malone*\",1983],[\"Adrian Dantley*\",1983],[\"Magic Johnson*\",1984],[\"Larry Bird*\",1984],[\"Robert Parish*\",1984],[\"Adrian Dantley*\",1984],[\"Sidney Moncrief*\",1984],[\"Isiah Thomas*\",1984],[\"Jack Sikma*\",1984],[\"Dominique Wilkins*\",1984],[\"Moses Malone*\",1984],[\"Magic Johnson*\",1985],[\"Larry Bird*\",1985],[\"Dennis Johnson*\",1985],[\"Robert Parish*\",1985],[\"Adrian Dantley*\",1985],[\"Bernard King*\",1985],[\"Moses Malone*\",1985],[\"Isiah Thomas*\",1985],[\"Jack Sikma*\",1985],[\"Sidney Moncrief*\",1985],[\"Dominique Wilkins*\",1985],[\"Alex English*\",1985],[\"Michael Jordan*\",1985],[\"Hakeem Olajuwon*\",1985],[\"Ralph Sampson*\",1985],[\"Magic Johnson*\",1986],[\"Larry Bird*\",1986],[\"Kevin McHale*\",1986],[\"Patrick Ewing*\",1986],[\"Adrian Dantley*\",1986],[\"Charles Barkley*\",1986],[\"Maurice Cheeks*\",1986],[\"Moses Malone*\",1986],[\"Dominique Wilkins*\",1986],[\"Isiah Thomas*\",1986],[\"Sidney Moncrief*\",1986],[\"Alex English*\",1986],[\"Hakeem Olajuwon*\",1986],[\"Ralph Sampson*\",1986],[\"Magic Johnson*\",1987],[\"Larry Bird*\",1987],[\"Dennis Johnson*\",1987],[\"Kevin McHale*\",1987],[\"Robert Parish*\",1987],[\"Alex English*\",1987],[\"Hakeem Olajuwon*\",1987],[\"Michael Jordan*\",1987],[\"Charles Barkley*\",1987],[\"Maurice Cheeks*\",1987],[\"Dominique Wilkins*\",1987],[\"Clyde Drexler*\",1987],[\"Isiah Thomas*\",1987],[\"Bernard King*\",1987],[\"Magic Johnson*\",1988],[\"James Worthy*\",1988],[\"Larry Bird*\",1988],[\"Kevin McHale*\",1988],[\"Alex English*\",1988],[\"Charles Barkley*\",1988],[\"Maurice Cheeks*\",1988],[\"Karl Malone*\",1988],[\"Dominique Wilkins*\",1988],[\"Isiah Thomas*\",1988],[\"Jack Sikma*\",1988],[\"Michael Jordan*\",1988],[\"Hakeem Olajuwon*\",1988],[\"Clyde Drexler*\",1988],[\"Magic Johnson*\",1989],[\"James Worthy*\",1989],[\"Kevin McHale*\",1989],[\"Robert Parish*\",1989],[\"Alex English*\",1989],[\"Clyde Drexler*\",1989],[\"Charles Barkley*\",1989],[\"Karl Malone*\",1989],[\"John Stockton*\",1989],[\"Moses Malone*\",1989],[\"Dominique Wilkins*\",1989],[\"Chris Mullin*\",1989],[\"Patrick Ewing*\",1989],[\"Michael Jordan*\",1989],[\"Hakeem Olajuwon*\",1989],[\"Isiah Thomas*\",1989],[\"Isiah Thomas*\",1990],[\"Charles Barkley*\",1990],[\"David Robinson*\",1990],[\"Michael Jordan*\",1990],[\"Scottie Pippen*\",1990],[\"Larry Bird*\",1990],[\"Karl Malone*\",1990],[\"John Stockton*\",1990],[\"Dominique Wilkins*\",1990],[\"Chris Mullin*\",1990],[\"Mitch Richmond*\",1990],[\"Hakeem Olajuwon*\",1990],[\"Clyde Drexler*\",1990],[\"Magic Johnson*\",1990],[\"James Worthy*\",1990],[\"Patrick Ewing*\",1990],[\"Reggie Miller*\",1990],[\"Joe Dumars*\",1991],[\"Bernard King*\",1991],[\"Charles Barkley*\",1991],[\"David Robinson*\",1991],[\"Michael Jordan*\",1991],[\"Scottie Pippen*\",1991],[\"Chris Mullin*\",1991],[\"Mitch Richmond*\",1991],[\"Karl Malone*\",1991],[\"John Stockton*\",1991],[\"Dominique Wilkins*\",1991],[\"Larry Bird*\",1991],[\"Hakeem Olajuwon*\",1991],[\"Magic Johnson*\",1991],[\"James Worthy*\",1991],[\"Patrick Ewing*\",1991],[\"Reggie Miller*\",1991],[\"Clyde Drexler*\",1992],[\"Dikembe Mutombo*\",1992],[\"Dra\\u017een Petrovi\\u0107*\",1992],[\"Joe Dumars*\",1992],[\"Dennis Rodman*\",1992],[\"Isiah Thomas*\",1992],[\"Chris Mullin*\",1992],[\"Charles Barkley*\",1992],[\"David Robinson*\",1992],[\"Patrick Ewing*\",1992],[\"Michael Jordan*\",1992],[\"Scottie Pippen*\",1992],[\"Dominique Wilkins*\",1992],[\"Karl Malone*\",1992],[\"John Stockton*\",1992],[\"Larry Bird*\",1992],[\"Mitch Richmond*\",1992],[\"Hakeem Olajuwon*\",1992],[\"James Worthy*\",1992],[\"Reggie Miller*\",1992],[\"Dikembe Mutombo*\",1993],[\"Dra\\u017een Petrovi\\u0107*\",1993],[\"Joe Dumars*\",1993],[\"Dennis Rodman*\",1993],[\"Isiah Thomas*\",1993],[\"Charles Barkley*\",1993],[\"Chris Mullin*\",1993],[\"Patrick Ewing*\",1993],[\"Shaquille O'Neal*\",1993],[\"David Robinson*\",1993],[\"Michael Jordan*\",1993],[\"Scottie Pippen*\",1993],[\"Dominique Wilkins*\",1993],[\"Karl Malone*\",1993],[\"Mitch Richmond*\",1993],[\"Hakeem Olajuwon*\",1993],[\"Reggie Miller*\",1993],[\"Charles Barkley*\",1994],[\"Chris Mullin*\",1994],[\"Patrick Ewing*\",1994],[\"Joe Dumars*\",1994],[\"Shaquille O'Neal*\",1994],[\"David Robinson*\",1994],[\"Dennis Rodman*\",1994],[\"Scottie Pippen*\",1994],[\"Gary Payton*\",1994],[\"Karl Malone*\",1994],[\"John Stockton*\",1994],[\"Mitch Richmond*\",1994],[\"Hakeem Olajuwon*\",1994],[\"Dikembe Mutombo*\",1995],[\"Alonzo Mourning*\",1995],[\"Joe Dumars*\",1995],[\"Grant Hill*\",1995],[\"Chris Mullin*\",1995],[\"Shaquille O'Neal*\",1995],[\"David Robinson*\",1995],[\"Patrick Ewing*\",1995],[\"Michael Jordan*\",1995],[\"Scottie Pippen*\",1995],[\"Gary Payton*\",1995],[\"Karl Malone*\",1995],[\"Vlade Divac*\",1995],[\"Hakeem Olajuwon*\",1995],[\"Mitch Richmond*\",1995],[\"Chris Webber*\",1995],[\"Dikembe Mutombo*\",1996],[\"David Robinson*\",1996],[\"Shaquille O'Neal*\",1996],[\"Gary Payton*\",1996],[\"Alonzo Mourning*\",1996],[\"Grant Hill*\",1996],[\"Charles Barkley*\",1996],[\"Dino Radja*\",1996],[\"Karl Malone*\",1996],[\"John Stockton*\",1996],[\"Clyde Drexler*\",1996],[\"Hakeem Olajuwon*\",1996],[\"Jason Kidd*\",1996],[\"Michael Jordan*\",1996],[\"Scottie Pippen*\",1996],[\"Chris Webber*\",1996],[\"Mitch Richmond*\",1996],[\"Patrick Ewing*\",1996],[\"Mitch Richmond*\",1997],[\"Vlade Divac*\",1997],[\"Dikembe Mutombo*\",1997],[\"Chris Webber*\",1997],[\"Karl Malone*\",1997],[\"John Stockton*\",1997],[\"Alonzo Mourning*\",1997],[\"Charles Barkley*\",1997],[\"Clyde Drexler*\",1997],[\"Hakeem Olajuwon*\",1997],[\"Reggie Miller*\",1997],[\"Shaquille O'Neal*\",1997],[\"Allen Iverson*\",1997],[\"Patrick Ewing*\",1997],[\"Michael Jordan*\",1997],[\"Scottie Pippen*\",1997],[\"Dennis Rodman*\",1997],[\"Kevin Garnett*\",1997],[\"Gary Payton*\",1997],[\"Joe Dumars*\",1997],[\"Grant Hill*\",1997],[\"Mitch Richmond*\",1998],[\"Ray Allen*\",1998],[\"Dikembe Mutombo*\",1998],[\"Karl Malone*\",1998],[\"Gary Payton*\",1998],[\"Clyde Drexler*\",1998],[\"Shaquille O'Neal*\",1998],[\"Allen Iverson*\",1998],[\"Michael Jordan*\",1998],[\"Scottie Pippen*\",1998],[\"Dennis Rodman*\",1998],[\"Jason Kidd*\",1998],[\"Tim Duncan*\",1998],[\"Kevin Garnett*\",1998],[\"Chris Webber*\",1998],[\"Grant Hill*\",1998],[\"Vlade Divac*\",1999],[\"Chris Webber*\",1999],[\"Karl Malone*\",1999],[\"Alonzo Mourning*\",1999],[\"Jason Kidd*\",1999],[\"Gary Payton*\",1999],[\"Charles Barkley*\",1999],[\"Hakeem Olajuwon*\",1999],[\"Scottie Pippen*\",1999],[\"Toni Kuko\\u010d*\",1999],[\"Allen Iverson*\",1999],[\"Reggie Miller*\",1999],[\"Dikembe Mutombo*\",1999],[\"Mitch Richmond*\",1999],[\"Kobe Bryant*\",1999],[\"Grant Hill*\",1999],[\"Kevin Garnett*\",1999],[\"Tim Duncan*\",1999],[\"Ray Allen*\",2000],[\"Paul Pierce*\",2000],[\"Chris Webber*\",2000],[\"Kevin Garnett*\",2000],[\"Jason Kidd*\",2000],[\"Gary Payton*\",2000],[\"Reggie Miller*\",2000],[\"Dikembe Mutombo*\",2000],[\"Allen Iverson*\",2000],[\"Grant Hill*\",2000],[\"Kobe Bryant*\",2000],[\"Shaquille O'Neal*\",2000],[\"Tim Duncan*\",2000],[\"Karl Malone*\",2000],[\"Tracy McGrady*\",2001],[\"Ray Allen*\",2001],[\"Tim Duncan*\",2001],[\"Paul Pierce*\",2001],[\"Chris Webber*\",2001],[\"Kevin Garnett*\",2001],[\"Gary Payton*\",2001],[\"Allen Iverson*\",2001],[\"Reggie Miller*\",2001],[\"Karl Malone*\",2001],[\"Kobe Bryant*\",2001],[\"Shaquille O'Neal*\",2001],[\"Jason Kidd*\",2001],[\"Ben Wallace*\",2002],[\"Ray Allen*\",2002],[\"Karl Malone*\",2002],[\"Paul Pierce*\",2002],[\"Jason Kidd*\",2002],[\"Grant Hill*\",2002],[\"Tracy McGrady*\",2002],[\"Kevin Garnett*\",2002],[\"Gary Payton*\",2002],[\"Allen Iverson*\",2002],[\"Dikembe Mutombo*\",2002],[\"Reggie Miller*\",2002],[\"Chris Webber*\",2002],[\"Tim Duncan*\",2002],[\"Kobe Bryant*\",2002],[\"Shaquille O'Neal*\",2002],[\"Karl Malone*\",2003],[\"Jason Kidd*\",2003],[\"Tracy McGrady*\",2003],[\"Ben Wallace*\",2003],[\"Paul Pierce*\",2003],[\"Tim Duncan*\",2003],[\"Chris Webber*\",2003],[\"Michael Jordan*\",2003],[\"Kobe Bryant*\",2003],[\"Shaquille O'Neal*\",2003],[\"Allen Iverson*\",2003],[\"Kevin Garnett*\",2003],[\"Ray Allen*\",2004],[\"Jason Kidd*\",2004],[\"Paul Pierce*\",2004],[\"Chris Webber*\",2004],[\"Ben Wallace*\",2004],[\"Tracy McGrady*\",2004],[\"Tim Duncan*\",2004],[\"Kobe Bryant*\",2004],[\"Shaquille O'Neal*\",2004],[\"Allen Iverson*\",2004],[\"Kevin Garnett*\",2004],[\"Ray Allen*\",2005],[\"Paul Pierce*\",2005],[\"Chris Bosh*\",2005],[\"Kobe Bryant*\",2005],[\"Jason Kidd*\",2005],[\"Ben Wallace*\",2005],[\"Tracy McGrady*\",2005],[\"Allen Iverson*\",2005],[\"Kevin Garnett*\",2005],[\"Ben Wallace*\",2006],[\"Ray Allen*\",2006],[\"Paul Pierce*\",2006],[\"Tracy McGrady*\",2006],[\"Chris Bosh*\",2006],[\"Steve Nash*\",2006],[\"Allen Iverson*\",2006],[\"Chris Webber*\",2006],[\"Kobe Bryant*\",2006],[\"Kevin Garnett*\",2006],[\"Jason Kidd*\",2006],[\"Jason Kidd*\",2007],[\"Ray Allen*\",2007],[\"Paul Pierce*\",2007],[\"Tracy McGrady*\",2007],[\"Steve Nash*\",2007],[\"Chris Bosh*\",2007],[\"Kevin Garnett*\",2007],[\"Kobe Bryant*\",2007],[\"Ray Allen*\",2008],[\"Paul Pierce*\",2008],[\"Tracy McGrady*\",2008],[\"Yao Ming*\",2008],[\"Allen Iverson*\",2008],[\"Chris Bosh*\",2008],[\"Kobe Bryant*\",2008],[\"Chris Bosh*\",2009],[\"Ray Allen*\",2009],[\"Paul Pierce*\",2009],[\"Kobe Bryant*\",2009],[\"Jason Kidd*\",2009],[\"Ray Allen*\",2010],[\"Chris Bosh*\",2010],[\"Jason Kidd*\",2010],[\"Kobe Bryant*\",2010],[\"Ray Allen*\",2011],[\"Chris Bosh*\",2011],[\"Chris Bosh*\",2012],[\"Kobe Bryant*\",2012],[\"Kobe Bryant*\",2013],[\"Chris Bosh*\",2015]],\"hovertemplate\":\"one_number=%{x}<br>two_number=%{y}<br>three_number=%{z}<br>Player=%{customdata[0]}<br>Year=%{customdata[1]}<br>four_number=%{marker.color}<extra></extra>\",\"legendgroup\":\"\",\"marker\":{\"color\":[0.8271436875267542,0.6022093587535878,0.5741347027568389,0.8183059201660627,0.8736067576288488,0.7402050986356096,0.549927205234333,0.6837313220291245,0.48019500034810547,0.44974956524381127,0.24808320624894145,0.46573703077152184,0.4854698534081028,0.3198279657157663,0.4378941490965591,0.8271436875267542,0.5741347027568389,0.817738034006636,0.8183059201660627,0.8736067576288488,0.09759921882592942,0.764828883738677,0.4998331666654943,0.46745629285376455,0.17694333235084359,0.20676760771778707,0.8271436875267542,0.7395680461318621,0.46937822222443426,0.5947068724948541,0.5758998675091707,0.5386357713072507,0.4191000607295398,0.4422255298678264,0.6164717128405051,0.44317255929056554,0.725601605720362,0.7722873224129604,0.30842340292877446,0.6703734615564965,0.18191792687888564,0.4484761236985422,0.5197475206567725,0.9977578902122672,0.4095661770275434,0.4662684785639692,0.4378941490965591,0.6703734615564965,0.18191792687888564,0.5470842634086746,0.6922881713822738,0.24252065921902377,0.38771366555610276,0.38767203119118776,0.5186289547173414,0.6762435116950208,0.6116156157751048,0.42518153499340733,0.6694178452035316,0.4484761236985422,0.549927205234333,0.43834362099058893,0.6490409326297392,0.5041102746680004,0.1986065953442081,0.07266944814656895,0.45986552431973343,0.3044192811437327,0.5194226141470764,0.7531045364637201,0.6471543627484584,0.3026073781851333,0.6922881713822738,0.8255864208562065,0.5713158649140807,0.5539817017198214,0.3974244409687162,0.24808320624894145,0.5334379814191919,0.642494676769514,0.4171264512136671,0.5886213779547723,0.8321371238205961,0.18382421282696298,0.5422472212184876,0.7395680461318621,0.6922881713822738,0.6172882134462899,0.8255864208562065,0.6463784404583729,0.4307342792102627,0.6050934806645858,0.2834980162428411,0.46745629285376455,0.4095661770275434,0.4230466123434891,0.4534840515049965,0.21519836522114294,0.8321371238205961,0.7395680461318621,0.46937822222443426,0.8784707304368401,0.16131112380628404,0.6113038575884757,0.4601363528119094,0.5541935793188023,0.2142209931407067,0.5358413228884836,0.4095661770275434,0.3878407729992756,0.7414377642006833,0.3883245992203289,0.725601605720362,0.7395680461318621,0.7030552374890796,0.5947068724948541,0.5808710092698495,0.3610294539664027,0.463782816594757,0.5386357713072507,0.3788151702892346,0.586878869257437,0.3376634126635034,0.412324829462387,0.2886909859460677,0.4534840515049965,0.5886213779547723,0.5340447675381972,0.2662923660220086,0.8736016869482488,0.6471314399723224,0.3717001928816625,0.3974244409687162,0.5334379814191919,0.5291598558733835,0.5358413228884836,0.412324829462387,0.47242349602895123,0.9514370722671694,0.41445455685565386,0.7722873224129604,0.5619244381103254,0.3082085729948548,0.3609971436820215,0.31461601116127835,0.24110589044872047,0.42518153499340733,0.5325162828577575,0.468094225218561,0.5084813824187326,0.44974956524381127,0.3788151702892346,0.5138543053190496,0.24808320624894145,0.48930366081937193,0.24531459755531973,0.7855414916646425,0.3878407729992756,0.3872140315858677,0.37187902288904784,0.34223326951929606,0.40661618115134546,0.532407487922297,0.7395680461318621,0.48234184901545984,0.4692534344084949,0.23502287237959582,0.5923497046154954,0.4743680143238263,0.8943052285106794,0.7045955257319622,0.4319717619324151,0.9977578902122672,0.5291598558733835,0.5781897758407736,0.46745629285376455,0.5290442980818117,0.6218739893874976,0.5921023532369603,0.5340447675381972,0.46620288295619944,0.6563856108274814,0.7174177065006251,0.18656154030790761,0.42518153499340733,0.6694178452035316,0.49055801535379057,0.09759921882592942,0.8255864208562065,0.468094225218561,0.36533808558147346,0.6650586019976507,0.6724471968898668,0.5781897758407736,0.47237415033449637,0.5749965623110455,0.6321776689814833,0.41062794045269013,0.6861750370581127,0.4130931746250074,0.5039614549002961,0.5386357713072507,0.567407033498134,0.6471314399723224,0.24808320624894145,0.682357911215681,0.47237415033449637,0.7410189337748032,0.24531459755531973,0.5194226141470764,0.4540441923368525,0.41062794045269013,0.34223326951929606,0.5741347027568389,0.9224969921957971,0.8736067576288488,0.8736016869482488,0.23502287237959582,0.5138543053190496,0.5041102746680004,0.5593273623178249,0.48930366081937193,0.38767203119118776,0.3969849873633589,0.44586346412947236,0.30301487945018823,0.3928301511776563,0.33087656895111417,0.42852252411320746,0.18656154030790761,0.8736016869482488,0.7045955257319622,0.575493564401625,0.23250183166305102,0.412324829462387,0.4095661770275434,0.3437924514299018,0.5186289547173414,0.697117735177377,0.725601605720362,0.2956862288221689,0.4574964599338951,0.3872140315858677,0.31461601116127835,0.23075866117618796,0.47755541988282146,0.0,0.49995056499143775,0.7961126408894266,0.7848614338609038,0.8943052285106794,0.42189144582237825,0.3974244409687162,0.34050829931743465,0.7134223192476155,0.4619729793842854,0.06392681707251935,0.3981598343966094,0.44586346412947236,0.7126489327239216,0.41793809886042893,0.7233390236643089,0.3601129272548095,0.36774175575562146,0.4881547278455679,0.24110589044872047,0.42852252411320746,0.2654883834542333,0.49995056499143775,0.37515108626171345,0.4692534344084949,0.36533808558147346,0.10343952418131325,0.3376634126635034,0.5371969631714159,0.4357134963940387,0.3587051957632894,0.7520756208555164,0.17694333235084359,0.30842340292877446,0.5212912822210978,0.7950586452478718,0.532407487922297,0.5355511727851908,0.6703734615564965,0.7030552374890796,0.6471314399723224,0.4948655904521648,0.5358413228884836,0.3437924514299018,0.47242349602895123,0.45847725007304707,0.11940831771937321,0.697117735177377,0.14211427716197417,0.30301487945018823,0.7722873224129604,0.5422472212184876,0.7950586452478718,0.2819673290864629,0.6633617939667346,0.6856214905382386,0.3610294539664027,0.4743680143238263,0.567407033498134,0.5358413228884836,0.38767203119118776,0.7190466490343149,0.7855414916646425,0.5074974258802227,0.30842340292877446,0.3609971436820215,0.6980416803289501,0.19778457059977028,0.1743807184520087,0.2582630817861385,0.8736067576288488,0.42518153499340733,1.0,0.468094225218561,0.43834362099058893,0.5781897758407736,0.5290442980818117,0.5371969631714159,0.5435418341189105,0.44317255929056554,0.5763671186324006,0.6980416803289501,0.2917985256050015,0.7127181076210595,0.7461546699280215,0.5713158649140807,0.9977578902122672,0.5290442980818117,0.4230466123434891,0.3723201787336079,0.4854698534081028,0.4660108976991413,0.21519836522114294,0.8321371238205961,0.9042064959035458,0.2889353618263223,0.7233390236643089,0.5583654016558085,0.612813657385488,0.1528160314464374,0.06392681707251935,0.6579752614640993,0.972675860303597,0.680083594492984,0.4378941490965591,0.10951882263485496,0.6861750370581127,0.38227723332218233,0.4023185766227928,0.1291587452940655,0.6728025763328789,0.8784707304368401,0.2852669624201748,0.5781897758407736,0.652170463721119,0.45986552431973343,0.7134103405611977,0.6430576190232201,0.21519836522114294,0.6599069710470187,0.6563564195940093,0.3390474677299742,0.9657361632986904,0.6922881713822738,1.0,0.7593680239432558,0.33826408861737023,0.3928301511776563,0.5194226141470764,0.34223326951929606,0.38227723332218233,0.6842467771303049,0.5750293729530462,0.5039614549002961,0.23502287237959582,0.5859545087917373,0.697117735177377,0.7551574614448772,0.19778457059977028,0.1291587452940655,0.7301972755837469,0.3609530409019551,0.16131112380628404,0.6837313220291245,0.5539817017198214,0.6004917842221151,0.15085295753888306,0.2956862288221689,0.39396834702610045,0.6728025763328789,0.09759921882592942,0.5325162828577575,0.2852669624201748,0.25141988221608186,0.5615973548439784,0.210355261823035,0.23075866117618796,0.6116156157751048,0.567407033498134,0.2852669624201748,0.7542501217489668,0.697117735177377,0.5470842634086746,0.4171264512136671,0.7190466490343149,0.3390474677299742,0.31981322715934096,0.3974244409687162,0.45986552431973343,0.7690133553019658,0.10951882263485496,0.7593680239432558],\"coloraxis\":\"coloraxis\",\"symbol\":\"circle\"},\"mode\":\"markers\",\"name\":\"\",\"scene\":\"scene\",\"showlegend\":false,\"x\":[39.39265704069178,42.039320752750335,-30.133346079988915,60.494240311086195,40.15776594721437,44.22762257785586,67.44470789079746,-9.159168225371493,-26.5692790888325,37.09456422047217,59.21919678491606,-22.64596614248971,-32.24634364768338,-10.455061384796759,-26.297397625792936,39.39265704069178,-30.133346079988915,42.96523694222391,60.494240311086195,40.15776594721437,-23.108459382614708,41.80006529133496,49.24191041314294,-25.25406468458702,-16.47334744940795,-23.823433286675325,39.39265704069178,49.583677304876716,46.79128430022369,46.124359180288366,-24.177422334789302,-23.739441021003657,-20.235244913636038,43.09409394558565,-6.07942733433902,-5.764546474450562,-31.000612525306963,-26.561817252341253,52.07335308987343,43.05923233782804,-16.02804955931651,78.85343074500771,-25.33460264824553,43.25193430253519,-5.289580172603502,-30.923451841622143,-26.297397625792936,43.05923233782804,-16.02804955931651,53.09350626797228,42.770928838899096,51.5617457809456,-26.589175773059363,-31.89271878346746,-21.155460684220728,-29.082928316550653,44.21198442571383,49.78826028062225,45.95438737624343,78.85343074500771,67.44470789079746,-24.012729591524053,-27.67771415991317,-28.581817119032085,-21.093336735919046,14.752486471563037,-24.345838446837334,49.39157629304978,3.7213388212325813,-30.969288208739265,-28.901534823587685,51.93620972382729,42.770928838899096,40.10426409907666,-29.408136702632607,-26.9123950682443,-15.972197999155355,59.21919678491606,-24.162667273243425,-23.47931202032531,22.868806435757325,-32.05718315425862,-39.0407048289977,-10.90479324394992,-25.71904995307841,49.583677304876716,42.770928838899096,-31.80643331708565,40.10426409907666,44.256464064075466,-22.905892548900468,-30.140241911489504,-21.575675859770815,-25.25406468458702,-5.289580172603502,-23.504691418728157,-16.703200790808236,-25.329076322587028,-39.0407048289977,49.583677304876716,46.79128430022369,73.1336127640348,-21.356858894221183,45.18203298426031,35.55182303582249,-22.75737736479744,51.831209882866766,-25.163544237988834,-5.289580172603502,-25.025979396989065,-12.501040399239784,-13.192588159203918,-31.000612525306963,49.583677304876716,59.65389527429734,46.124359180288366,55.64164391607466,83.74718905140512,18.825977108080675,-23.739441021003657,11.706167277754226,-11.081803325496704,52.48527098011485,61.13155756407312,-21.350713849149606,-16.703200790808236,-32.05718315425862,-27.91128121286758,29.71835324855142,57.155456717175596,-28.78984464606474,52.99571701130129,-15.972197999155355,-24.162667273243425,-10.179958555929419,-25.163544237988834,61.13155756407312,32.40371878526831,69.21255250926863,-17.57266174148528,-26.561817252341253,-20.423923559842383,12.376769410027178,-9.363386615244023,-23.129751662846832,53.748927921717446,49.78826028062225,61.326493566662556,-26.926395691456577,35.96811889936226,37.09456422047217,11.706167277754226,54.39677393665669,59.21919678491606,-11.318947008476739,45.16335418697706,-28.267816843992634,-25.025979396989065,1.070079984759281,70.13824178347784,-27.4140347439454,46.133987241091496,-31.418555071486274,49.583677304876716,45.4732459449395,-25.14895889382894,7.439981799302109,-23.6556339655916,-27.052362217299425,-33.171562529260804,60.810560449649806,55.87423009173127,43.25193430253519,-10.179958555929419,-27.64889814594023,-25.25406468458702,-17.98370187911042,-30.292979181602323,-28.28627831026534,-27.91128121286758,-24.57919307499299,-28.30360738372108,-31.95324702095447,-23.856049371595645,49.78826028062225,45.95438737624343,46.87751702288331,-23.108459382614708,40.10426409907666,-26.926395691456577,57.24114735108534,-32.60132681017973,-29.163295665253443,-27.64889814594023,18.32828389897751,-10.996730113566423,-32.98000186875916,42.30516472512648,-30.658717458593507,36.75801338819354,48.55479124407608,-23.739441021003657,-31.030612506247508,-28.78984464606474,59.21919678491606,74.22281964290433,18.32828389897751,-30.13949701262894,45.16335418697706,3.7213388212325813,-27.51582797830997,42.30516472512648,-27.4140347439454,-30.133346079988915,44.87877093077559,40.15776594721437,57.155456717175596,7.439981799302109,54.39677393665669,-28.581817119032085,-23.823117398232593,-11.318947008476739,-31.89271878346746,-17.342599386349185,39.0664154587885,-20.999036167355957,-27.03418974770388,11.714565408701468,15.882003728081795,-23.856049371595645,57.155456717175596,60.810560449649806,-16.967844634261372,-20.07502119351775,61.13155756407312,-5.289580172603502,49.96564714402709,-21.155460684220728,-24.07298425180135,-31.000612525306963,14.300538253492535,-28.141728723788823,1.070079984759281,-23.129751662846832,-27.719852873749463,-26.932434725410115,-22.611914278468294,4.414853419001211,41.39654719413221,-29.318122795183136,-33.171562529260804,-25.853376124638466,-15.972197999155355,-11.416607939314048,-15.082738772113755,57.18077423210577,46.601657515134455,84.03419717570047,39.0664154587885,-31.557741922035913,-26.2079778565241,-31.459120566769528,-23.43749641553908,-15.564338040672974,22.876919959712875,53.748927921717446,15.882003728081795,29.768798936220183,4.414853419001211,80.90403495073589,-25.14895889382894,57.24114735108534,-2.211438101338816,52.48527098011485,-25.864460133519415,-27.642626873106437,-29.543454649960264,-26.918601312822318,-16.47334744940795,52.07335308987343,-25.325123892886275,-34.35666934664487,-31.418555071486274,44.467080334190136,43.05923233782804,59.65389527429734,-28.78984464606474,2.820710168436468,-25.163544237988834,49.96564714402709,32.40371878526831,79.53523017186883,10.373899164220761,-24.07298425180135,45.127684978710484,-20.999036167355957,-26.561817252341253,-25.71904995307841,-34.35666934664487,-18.402951005354204,-31.21792753030874,-14.132641246975824,83.74718905140512,-27.052362217299425,-31.030612506247508,-25.163544237988834,-31.89271878346746,12.839418850319614,-28.267816843992634,5.766803277328869,52.07335308987343,-9.363386615244023,-8.863023286024395,-32.59311396151578,-31.55973061110873,-24.578556266056516,40.15776594721437,49.78826028062225,39.61746522086765,-26.926395691456577,-24.012729591524053,-27.64889814594023,-17.98370187911042,-25.864460133519415,-26.837465438047698,-5.764546474450562,-20.54649434344425,-8.863023286024395,13.402786006983904,43.31762575389468,43.766113924132085,-29.408136702632607,43.25193430253519,-17.98370187911042,-23.504691418728157,-18.727222274685804,-32.24634364768338,-16.770503032128286,-25.329076322587028,-39.0407048289977,67.24550573448994,-22.545078484334326,-31.459120566769528,-25.40003900647595,-22.606794168441624,-22.288611122554745,46.601657515134455,-34.226398868296855,60.50621132499211,-25.460195160604968,-26.297397625792936,-10.50525507243769,-30.658717458593507,-27.19890847201681,-29.556074427245722,55.34502208058462,16.53181197341555,73.1336127640348,-16.435953095784004,-27.64889814594023,-31.086869938837037,-24.345838446837334,-29.308380312265758,-5.786821996013292,-25.329076322587028,-26.346895331967858,-28.477631174922948,-9.76279567134252,39.64771821377773,42.770928838899096,39.61746522086765,-25.948955710895156,-24.39008492456604,-27.03418974770388,3.7213388212325813,-27.4140347439454,-27.19890847201681,-27.756859091639,-30.83007331767935,48.55479124407608,7.439981799302109,-21.519564064994867,-24.07298425180135,-37.0801048363384,-32.59311396151578,55.34502208058462,-31.96659826488706,-28.40280941121649,-21.356858894221183,-9.159168225371493,-26.9123950682443,-25.351101929043487,-28.30088928314036,14.300538253492535,73.99488657407478,16.53181197341555,-23.108459382614708,61.326493566662556,-16.435953095784004,38.403316322463375,-27.093675220726478,-14.787724398796126,-27.719852873749463,44.21198442571383,-31.030612506247508,-16.435953095784004,11.362785585699367,-24.07298425180135,53.09350626797228,22.868806435757325,12.839418850319614,-9.76279567134252,-12.19805426659467,-15.972197999155355,-24.345838446837334,-37.25452019170685,-10.50525507243769,-25.948955710895156],\"y\":[-37.788490950574314,-36.613633465841,-7.861683444740749,-1.8539011438751416,-36.386228332628384,-34.11206280079086,-2.844298881819194,-11.201375889159676,-7.644797191105678,11.887588187189248,-13.07541809234279,-4.0962038256251265,-0.23584658542013842,4.107591283334653,-6.271627258235833,-37.788490950574314,-7.861683444740749,-37.84720114094107,-1.8539011438751416,-36.386228332628384,-4.250219840868903,-37.510202340295955,-32.938394662929355,-6.1709993010857875,-0.1224549116972532,0.01364543450683947,-37.788490950574314,-29.438018474390393,-35.93320987905839,-32.56693753088441,-10.061605143216859,-7.193806723848197,-7.884752889041081,-27.418630795717565,-2.660622298086695,-5.8354920162427515,-6.005493832752426,-5.568790306539627,-31.2022232075797,-39.12122473932874,-6.182142701750284,23.194563164528997,-6.002615395070487,20.95548993640611,-14.895306071825676,-4.610644936539127,-6.271627258235833,-39.12122473932874,-6.182142701750284,-24.366970046437416,-37.03329042771361,-26.436729293700942,-2.628126706705489,-1.0904020053075878,-5.218864299308718,-4.615683923449787,-32.206256620138966,-38.12281821966039,-36.94012352984159,23.194563164528997,-2.844298881819194,-7.218406510176981,-4.760106161045737,-5.983039454312093,-2.020926066664182,-16.24496842023553,-5.054388293130619,-34.66949389667888,4.4341439274092975,-5.729864746983743,-5.455990481891987,-32.1960301743299,-37.03329042771361,-38.165561012933075,-7.656603691887031,-7.679000057604817,-4.056417187746153,-13.07541809234279,-7.131739111061478,-6.410658701506483,-7.994257760160821,-5.175592414493361,-6.331700459390926,4.073717221697559,-5.900103133836645,-29.438018474390393,-37.03329042771361,-7.867513285706171,-38.165561012933075,-37.809424848938775,-7.001686772616576,-7.273124136251731,-4.3028068667130865,-6.1709993010857875,-14.895306071825676,-6.254587273270334,-1.712698723668607,-4.093831562024234,-6.331700459390926,-29.438018474390393,-35.93320987905839,20.646494628389068,-3.980429713459567,-35.02025641936319,13.69410217556701,-5.158918174478027,-31.76811044332374,-4.785465380951625,-14.895306071825676,0.3215939401314419,-1.5651396698788982,-1.64568460603334,-6.005493832752426,-29.438018474390393,-5.338860283265314,-32.56693753088441,-21.1649743951,34.14788869678654,-26.448107011474576,-7.193806723848197,-18.69988535941623,-0.5432461213324034,-28.83128288693396,0.44333831765463627,-2.171050885901721,-1.712698723668607,-5.175592414493361,-3.6477393728176026,-2.946221377475702,2.3246673622804774,-5.037277089369221,-29.287516880176437,-4.056417187746153,-7.131739111061478,-6.968170196415268,-4.785465380951625,0.44333831765463627,-2.889857700842417,29.614343990299677,4.057912769573251,-5.568790306539627,-5.531022109890364,1.7737452051236144,2.083701185703265,-1.5999478707639074,-28.185421504074846,-38.12281821966039,-12.099305960383235,-6.919911779298518,-33.18794734075157,11.887588187189248,-18.69988535941623,-26.028992390938914,-13.07541809234279,-2.4847936405300226,-29.75308802463819,-6.128920549019195,0.3215939401314419,-5.966225784882324,16.796857106749158,-3.0043240327245475,-32.62577478429108,-5.029161773994896,-29.438018474390393,-36.08953422416913,-3.8271999388087763,-2.7510801729833396,-8.232211506517237,-8.00561484542658,-10.382298488632024,-7.797675581830562,-19.842336292800358,20.95548993640611,-6.968170196415268,-7.522957040711536,-6.1709993010857875,-2.2852945894022643,-6.169063286111204,-8.81954472964674,-3.6477393728176026,-3.1892303855038224,-5.297806572283737,-6.4393955990174465,-3.823746815557477,-38.12281821966039,-36.94012352984159,-36.22710409412399,-4.250219840868903,-38.165561012933075,-6.919911779298518,-19.53144708603241,-7.525523915400079,-6.715323362318846,-7.522957040711536,5.3271427848882675,1.595630281670323,-5.1300820107521865,-32.153961108061374,-6.875869736907182,-28.070811785035698,-31.5302190907419,-7.193806723848197,-7.375438068921473,-5.037277089369221,-13.07541809234279,15.60860339507834,5.3271427848882675,-5.746662361380744,-29.75308802463819,4.4341439274092975,-4.901239912184167,-32.153961108061374,-3.0043240327245475,-7.861683444740749,-27.879393799078315,-36.386228332628384,2.3246673622804774,-2.7510801729833396,-26.028992390938914,-5.983039454312093,-3.6136152164336983,-2.4847936405300226,-1.0904020053075878,3.0412925190920332,12.728640726777655,-3.334650826668045,-4.627614154923181,-19.6176075662198,16.90050907787182,-3.823746815557477,2.3246673622804774,-7.797675581830562,-2.3004173585746126,-5.26874142401674,0.44333831765463627,-14.895306071825676,-30.74777510779805,-5.218864299308718,-0.597312624002094,-6.005493832752426,7.396228581571227,2.902071936528921,-5.966225784882324,-1.5999478707639074,4.1646720096409835,-3.9499580783852837,-0.35903970853180717,-3.759769280139475,-38.938447447462124,-8.075350978118879,-10.382298488632024,-8.532451019638977,-4.056417187746153,-0.6368610484279515,-3.0852845362443424,-22.042892072704927,-29.133551099138053,26.933342614568474,12.728640726777655,-6.716306133637252,-3.2007128908083855,-6.558022910114307,-2.7434300489207497,-1.6222828991317062,13.111176241683799,-28.185421504074846,16.90050907787182,-20.54624396418738,-3.759769280139475,17.993899359445365,-3.8271999388087763,-19.53144708603241,-8.759613534539744,-28.83128288693396,-4.117457701977827,-6.6858753613818385,-1.0238408527788374,-1.6410854076761525,-0.1224549116972532,-31.2022232075797,-4.148771571437948,-6.088792620283805,-5.029161773994896,-22.891799447813767,-39.12122473932874,-5.338860283265314,-5.037277089369221,-0.39669176130155986,-4.785465380951625,-30.74777510779805,-2.889857700842417,23.411567662642952,-16.878332125117712,-0.597312624002094,-28.01589171358368,-3.334650826668045,-5.568790306539627,-5.900103133836645,-6.088792620283805,-6.389414236311274,-5.168542120674596,0.7502510600186928,34.14788869678654,-8.00561484542658,-7.375438068921473,-4.785465380951625,-1.0904020053075878,8.683143382719676,-6.128920549019195,-6.4510523954500325,-31.2022232075797,2.083701185703265,5.702289450923761,2.9859153784206347,2.999456775362439,2.6617127231550564,-36.386228332628384,-38.12281821966039,-38.47472492145206,-6.919911779298518,-7.218406510176981,-7.522957040711536,-2.2852945894022643,-4.117457701977827,-4.935519461829247,-5.8354920162427515,0.4725357846393008,5.702289450923761,-11.922831614449011,-37.35427600102008,-36.989284522472516,-7.656603691887031,20.95548993640611,-2.2852945894022643,-6.254587273270334,-6.062442837884839,-0.23584658542013842,-3.1522900883869744,-4.093831562024234,-6.331700459390926,33.71830820783923,-2.172897947790694,-6.558022910114307,1.0441564749043455,-0.19314307860355662,-2.102792965224019,-29.133551099138053,-6.395959750510636,20.952199786808478,-5.219421618194093,-6.271627258235833,3.9869709191104516,-6.875869736907182,-2.12010546308063,-2.788910014262849,-22.144837560472503,17.270663227232177,20.646494628389068,-4.052537292597859,-7.522957040711536,-6.168224837598607,-5.054388293130619,-5.657004166425689,1.9159736157268243,-4.093831562024234,-5.222434031944377,-3.280944788549908,2.203824357557096,-36.77497630815293,-37.03329042771361,-38.47472492145206,-7.807019711475817,-4.677347574105388,-4.627614154923181,4.4341439274092975,-3.0043240327245475,-2.12010546308063,-6.265540870107486,-7.015469985624341,-31.5302190907419,-2.7510801729833396,-4.384164026187707,-0.597312624002094,-4.72360196128498,2.9859153784206347,-22.144837560472503,-4.439042166368608,-4.092784880846071,-3.980429713459567,-11.201375889159676,-7.679000057604817,-5.87837003694234,0.17800505114953105,7.396228581571227,16.44192820293106,17.270663227232177,-4.250219840868903,-12.099305960383235,-4.052537292597859,-12.439882520577353,-8.00148556637495,-7.265934159475946,4.1646720096409835,-32.206256620138966,-7.375438068921473,-4.052537292597859,2.4496805343264554,-0.597312624002094,-24.366970046437416,-7.994257760160821,8.683143382719676,2.203824357557096,-2.7515576491220997,-4.056417187746153,-5.054388293130619,-3.3304537440396516,3.9869709191104516,-7.807019711475817],\"z\":[7.774276194624406,25.68229267930142,-4.373032146200286,15.708524282306584,6.73903473572969,17.59869973382347,-3.9456913138930347,3.0476280036757615,-20.75350914854796,-9.947832253016205,14.89874121523561,-0.13539842321179543,25.21717513045564,15.068007952388612,-1.7984532022185187,7.774276194624406,-4.373032146200286,0.22780898568573613,15.708524282306584,6.73903473572969,8.806234947079076,11.525621729846197,1.5973035462885061,-18.691015025066502,10.27747877626474,14.113323883109677,7.774276194624406,-7.291560155380084,-5.34018203325153,20.508213981801937,-14.83052538959483,2.3944161125625842,-6.275628504065414,-0.33264168704583874,-4.162582552375313,16.25920287436074,-5.493432962645819,6.005352711112597,2.5766712379717878,9.69092688733098,13.393474693801716,12.400337958502249,-5.801620038387362,18.270109425493853,-13.005637432044773,9.354917009714203,-1.7984532022185187,9.69092688733098,13.393474693801716,0.8442607265169392,11.568605845737622,-3.3490379705235416,9.378517277156615,28.855931517999398,-10.679779585292176,-5.798173487922461,16.497365844838328,-4.582433524076722,-3.953644787322929,12.400337958502249,-3.9456913138930347,-1.612900132709552,4.627249524947954,-10.569202130116171,9.660114184605922,21.795722393208667,-15.452693995122893,6.117587005426234,12.713819541377394,-3.845917781934678,0.881368907044483,10.574387985522176,11.568605845737622,18.056222577713946,-13.233496348524449,-7.627291984112649,-1.661849865797039,14.89874121523561,-15.976637565879575,1.6218677293339074,-14.596320178308478,12.457413035074559,19.28667687675608,13.783914777181742,-17.821544229301537,-7.291560155380084,11.568605845737622,2.969673624901696,18.056222577713946,-3.601248629616969,4.4888922294822216,3.1035448250615696,7.600422523122192,-18.691015025066502,-13.005637432044773,-16.6919043456147,6.3727254586448145,5.473943042106696,19.28667687675608,-7.291560155380084,-5.34018203325153,-4.2341660969034915,9.432386574212506,14.204289647810187,-1.355459342082308,4.973580584029346,-9.058731514108194,-6.143310509982311,-13.005637432044773,24.29697744564152,-10.12956315448943,-17.396239920433626,-5.493432962645819,-7.291560155380084,13.399571818098822,20.508213981801937,2.1560446455625266,20.65493206527697,-8.251972485776617,2.3944161125625842,-9.720225198555692,4.607786888138622,2.346210213624497,-0.013067895672223906,6.690309460870532,6.3727254586448145,12.457413035074559,8.779062185465543,-12.889930717328241,22.786263616811453,0.02415002014512495,0.10720740778276697,-1.661849865797039,-15.976637565879575,-6.6191406145570495,-6.143310509982311,-0.013067895672223906,6.14102211517671,13.70308390282139,22.31779341484241,6.005352711112597,-7.107951903634792,3.2874394076723097,12.827706482395655,17.536334673510584,8.919081098651901,-4.582433524076722,3.013541437402944,2.0968008939325156,-4.052016381939256,-9.947832253016205,-9.720225198555692,-0.8655334970872941,14.89874121523561,3.5428047338389517,-0.691299860228965,2.3603044318247695,24.29697744564152,-1.7536925458511685,-7.544677167579324,-0.7231569152205819,-12.25487739107583,4.046471943407624,-7.291560155380084,1.3068592662362462,7.589809051626919,18.8987911497992,-15.464908535235242,-16.798047232684013,-10.030713330072617,-2.6520336392510795,16.719891157813187,18.270109425493853,-6.6191406145570495,-15.270831742139203,-18.691015025066502,7.7267051802946405,7.163266894627054,-17.285022138593778,8.779062185465543,3.021576165656623,0.7460910611711348,-12.218669288261713,13.846923197609444,-4.582433524076722,-3.953644787322929,8.624508364583885,8.806234947079076,18.056222577713946,2.0968008939325156,16.866405448145667,7.021642633240843,8.103360957772495,-15.270831742139203,-9.387121613627158,-7.228315043897379,5.615450911412912,-14.061689520999911,-14.022989138242755,-15.669441280239827,19.3057309131782,2.3944161125625842,5.7295481147891305,0.02415002014512495,14.89874121523561,4.197306194858269,-9.387121613627158,6.463890561126905,-0.691299860228965,12.713819541377394,-0.4175408286199946,-14.061689520999911,-0.7231569152205819,-4.373032146200286,13.035055070576142,6.73903473572969,22.786263616811453,18.8987911497992,-0.8655334970872941,-10.569202130116171,2.5673843040203894,3.5428047338389517,28.855931517999398,22.580347038512485,6.313206766013531,-13.0739535801814,-9.558827689600568,-20.476879649726662,26.381881118702374,13.846923197609444,22.786263616811453,-2.6520336392510795,1.6753271513715122,0.8582486209577221,-0.013067895672223906,-13.005637432044773,-9.910060870840509,-10.679779585292176,10.952599141247937,-5.493432962645819,4.166181122189872,22.720398054742176,-1.7536925458511685,17.536334673510584,35.57730398723132,0.6025236478209984,6.337853886274682,-6.191113503372777,6.530920501737585,7.064879049941423,-10.030713330072617,-6.156797385825517,-1.661849865797039,-8.404732429211009,-17.173479111098654,-5.155124445641098,22.192549228824856,-10.082239514961984,6.313206766013531,-9.312401583169532,2.484197745028402,-15.922910704401254,0.8320187406756417,9.98180736793862,-0.4654826833367811,8.919081098651901,26.381881118702374,-2.5763025561544795,-6.191113503372777,0.4003835485666023,7.589809051626919,16.866405448145667,15.911541826767149,2.346210213624497,0.07907314667847745,-3.468472838142805,21.73843911186679,7.772970173291499,10.27747877626474,2.5766712379717878,-18.887980052797122,-5.376214268376791,4.046471943407624,14.110965262488653,9.69092688733098,13.399571818098822,0.02415002014512495,-18.438360962602903,-6.143310509982311,-9.910060870840509,6.14102211517671,1.1491760783770162,12.163473539892356,10.952599141247937,32.189707276364594,-13.0739535801814,6.005352711112597,-17.821544229301537,-5.376214268376791,-29.13734987967811,-13.298665158455469,-12.734072073667447,20.65493206527697,-16.798047232684013,5.7295481147891305,-6.143310509982311,28.855931517999398,-6.330008175870117,2.3603044318247695,5.132113001588534,2.5766712379717878,12.827706482395655,13.16438616513978,34.030226586245114,29.83147256846093,17.949203670824566,6.73903473572969,-4.582433524076722,-2.1246146566334585,2.0968008939325156,-1.612900132709552,-15.270831742139203,7.7267051802946405,0.07907314667847745,-11.407856590300634,16.25920287436074,8.949453297158708,13.16438616513978,-10.80029469384885,1.4390303745189053,3.012025561959255,-13.233496348524449,18.270109425493853,7.7267051802946405,-16.6919043456147,-11.8885158586719,25.21717513045564,3.143539522488661,5.473943042106696,19.28667687675608,13.54104611130157,-11.028697113424315,-15.922910704401254,12.87582201562374,-4.515193517333308,13.777155185878643,22.192549228824856,11.861984829835313,20.65515591709627,-6.078574591229045,-1.7984532022185187,7.1330427699069645,-14.022989138242755,13.175984325551338,1.5168017994909708,0.865093313999245,5.905239565550086,-4.2341660969034915,3.4278618451770044,-15.270831742139203,9.075465269115846,-15.452693995122893,6.182626450532677,-4.922333494547816,5.473943042106696,-13.191151378639548,8.2638048391746,-8.430597191950648,18.94730722973197,11.568605845737622,-2.1246146566334585,-18.280466944781356,-19.443179563872494,-9.558827689600568,12.713819541377394,-0.7231569152205819,13.175984325551338,7.985816021532854,-2.7645599589578844,19.3057309131782,18.8987911497992,4.7933630399262945,10.952599141247937,13.431908538498055,34.030226586245114,0.865093313999245,-6.789104238821859,2.602304584288642,9.432386574212506,3.0476280036757615,-7.627291984112649,5.731842055251252,31.29727847576969,4.166181122189872,-15.756911438662485,5.905239565550086,8.806234947079076,3.013541437402944,3.4278618451770044,19.226807985693387,-6.129263566895396,-16.443764038411203,35.57730398723132,16.497365844838328,5.7295481147891305,3.4278618451770044,9.508510462019487,10.952599141247937,0.8442607265169392,-14.596320178308478,-6.330008175870117,-8.430597191950648,-4.979121652857494,-1.661849865797039,-15.452693995122893,18.451470244303867,7.1330427699069645,-18.280466944781356],\"type\":\"scatter3d\"}],                        {\"template\":{\"data\":{\"bar\":[{\"error_x\":{\"color\":\"#2a3f5f\"},\"error_y\":{\"color\":\"#2a3f5f\"},\"marker\":{\"line\":{\"color\":\"#E5ECF6\",\"width\":0.5},\"pattern\":{\"fillmode\":\"overlay\",\"size\":10,\"solidity\":0.2}},\"type\":\"bar\"}],\"barpolar\":[{\"marker\":{\"line\":{\"color\":\"#E5ECF6\",\"width\":0.5},\"pattern\":{\"fillmode\":\"overlay\",\"size\":10,\"solidity\":0.2}},\"type\":\"barpolar\"}],\"carpet\":[{\"aaxis\":{\"endlinecolor\":\"#2a3f5f\",\"gridcolor\":\"white\",\"linecolor\":\"white\",\"minorgridcolor\":\"white\",\"startlinecolor\":\"#2a3f5f\"},\"baxis\":{\"endlinecolor\":\"#2a3f5f\",\"gridcolor\":\"white\",\"linecolor\":\"white\",\"minorgridcolor\":\"white\",\"startlinecolor\":\"#2a3f5f\"},\"type\":\"carpet\"}],\"choropleth\":[{\"colorbar\":{\"outlinewidth\":0,\"ticks\":\"\"},\"type\":\"choropleth\"}],\"contour\":[{\"colorbar\":{\"outlinewidth\":0,\"ticks\":\"\"},\"colorscale\":[[0.0,\"#0d0887\"],[0.1111111111111111,\"#46039f\"],[0.2222222222222222,\"#7201a8\"],[0.3333333333333333,\"#9c179e\"],[0.4444444444444444,\"#bd3786\"],[0.5555555555555556,\"#d8576b\"],[0.6666666666666666,\"#ed7953\"],[0.7777777777777778,\"#fb9f3a\"],[0.8888888888888888,\"#fdca26\"],[1.0,\"#f0f921\"]],\"type\":\"contour\"}],\"contourcarpet\":[{\"colorbar\":{\"outlinewidth\":0,\"ticks\":\"\"},\"type\":\"contourcarpet\"}],\"heatmap\":[{\"colorbar\":{\"outlinewidth\":0,\"ticks\":\"\"},\"colorscale\":[[0.0,\"#0d0887\"],[0.1111111111111111,\"#46039f\"],[0.2222222222222222,\"#7201a8\"],[0.3333333333333333,\"#9c179e\"],[0.4444444444444444,\"#bd3786\"],[0.5555555555555556,\"#d8576b\"],[0.6666666666666666,\"#ed7953\"],[0.7777777777777778,\"#fb9f3a\"],[0.8888888888888888,\"#fdca26\"],[1.0,\"#f0f921\"]],\"type\":\"heatmap\"}],\"heatmapgl\":[{\"colorbar\":{\"outlinewidth\":0,\"ticks\":\"\"},\"colorscale\":[[0.0,\"#0d0887\"],[0.1111111111111111,\"#46039f\"],[0.2222222222222222,\"#7201a8\"],[0.3333333333333333,\"#9c179e\"],[0.4444444444444444,\"#bd3786\"],[0.5555555555555556,\"#d8576b\"],[0.6666666666666666,\"#ed7953\"],[0.7777777777777778,\"#fb9f3a\"],[0.8888888888888888,\"#fdca26\"],[1.0,\"#f0f921\"]],\"type\":\"heatmapgl\"}],\"histogram\":[{\"marker\":{\"pattern\":{\"fillmode\":\"overlay\",\"size\":10,\"solidity\":0.2}},\"type\":\"histogram\"}],\"histogram2d\":[{\"colorbar\":{\"outlinewidth\":0,\"ticks\":\"\"},\"colorscale\":[[0.0,\"#0d0887\"],[0.1111111111111111,\"#46039f\"],[0.2222222222222222,\"#7201a8\"],[0.3333333333333333,\"#9c179e\"],[0.4444444444444444,\"#bd3786\"],[0.5555555555555556,\"#d8576b\"],[0.6666666666666666,\"#ed7953\"],[0.7777777777777778,\"#fb9f3a\"],[0.8888888888888888,\"#fdca26\"],[1.0,\"#f0f921\"]],\"type\":\"histogram2d\"}],\"histogram2dcontour\":[{\"colorbar\":{\"outlinewidth\":0,\"ticks\":\"\"},\"colorscale\":[[0.0,\"#0d0887\"],[0.1111111111111111,\"#46039f\"],[0.2222222222222222,\"#7201a8\"],[0.3333333333333333,\"#9c179e\"],[0.4444444444444444,\"#bd3786\"],[0.5555555555555556,\"#d8576b\"],[0.6666666666666666,\"#ed7953\"],[0.7777777777777778,\"#fb9f3a\"],[0.8888888888888888,\"#fdca26\"],[1.0,\"#f0f921\"]],\"type\":\"histogram2dcontour\"}],\"mesh3d\":[{\"colorbar\":{\"outlinewidth\":0,\"ticks\":\"\"},\"type\":\"mesh3d\"}],\"parcoords\":[{\"line\":{\"colorbar\":{\"outlinewidth\":0,\"ticks\":\"\"}},\"type\":\"parcoords\"}],\"pie\":[{\"automargin\":true,\"type\":\"pie\"}],\"scatter\":[{\"marker\":{\"colorbar\":{\"outlinewidth\":0,\"ticks\":\"\"}},\"type\":\"scatter\"}],\"scatter3d\":[{\"line\":{\"colorbar\":{\"outlinewidth\":0,\"ticks\":\"\"}},\"marker\":{\"colorbar\":{\"outlinewidth\":0,\"ticks\":\"\"}},\"type\":\"scatter3d\"}],\"scattercarpet\":[{\"marker\":{\"colorbar\":{\"outlinewidth\":0,\"ticks\":\"\"}},\"type\":\"scattercarpet\"}],\"scattergeo\":[{\"marker\":{\"colorbar\":{\"outlinewidth\":0,\"ticks\":\"\"}},\"type\":\"scattergeo\"}],\"scattergl\":[{\"marker\":{\"colorbar\":{\"outlinewidth\":0,\"ticks\":\"\"}},\"type\":\"scattergl\"}],\"scattermapbox\":[{\"marker\":{\"colorbar\":{\"outlinewidth\":0,\"ticks\":\"\"}},\"type\":\"scattermapbox\"}],\"scatterpolar\":[{\"marker\":{\"colorbar\":{\"outlinewidth\":0,\"ticks\":\"\"}},\"type\":\"scatterpolar\"}],\"scatterpolargl\":[{\"marker\":{\"colorbar\":{\"outlinewidth\":0,\"ticks\":\"\"}},\"type\":\"scatterpolargl\"}],\"scatterternary\":[{\"marker\":{\"colorbar\":{\"outlinewidth\":0,\"ticks\":\"\"}},\"type\":\"scatterternary\"}],\"surface\":[{\"colorbar\":{\"outlinewidth\":0,\"ticks\":\"\"},\"colorscale\":[[0.0,\"#0d0887\"],[0.1111111111111111,\"#46039f\"],[0.2222222222222222,\"#7201a8\"],[0.3333333333333333,\"#9c179e\"],[0.4444444444444444,\"#bd3786\"],[0.5555555555555556,\"#d8576b\"],[0.6666666666666666,\"#ed7953\"],[0.7777777777777778,\"#fb9f3a\"],[0.8888888888888888,\"#fdca26\"],[1.0,\"#f0f921\"]],\"type\":\"surface\"}],\"table\":[{\"cells\":{\"fill\":{\"color\":\"#EBF0F8\"},\"line\":{\"color\":\"white\"}},\"header\":{\"fill\":{\"color\":\"#C8D4E3\"},\"line\":{\"color\":\"white\"}},\"type\":\"table\"}]},\"layout\":{\"annotationdefaults\":{\"arrowcolor\":\"#2a3f5f\",\"arrowhead\":0,\"arrowwidth\":1},\"autotypenumbers\":\"strict\",\"coloraxis\":{\"colorbar\":{\"outlinewidth\":0,\"ticks\":\"\"}},\"colorscale\":{\"diverging\":[[0,\"#8e0152\"],[0.1,\"#c51b7d\"],[0.2,\"#de77ae\"],[0.3,\"#f1b6da\"],[0.4,\"#fde0ef\"],[0.5,\"#f7f7f7\"],[0.6,\"#e6f5d0\"],[0.7,\"#b8e186\"],[0.8,\"#7fbc41\"],[0.9,\"#4d9221\"],[1,\"#276419\"]],\"sequential\":[[0.0,\"#0d0887\"],[0.1111111111111111,\"#46039f\"],[0.2222222222222222,\"#7201a8\"],[0.3333333333333333,\"#9c179e\"],[0.4444444444444444,\"#bd3786\"],[0.5555555555555556,\"#d8576b\"],[0.6666666666666666,\"#ed7953\"],[0.7777777777777778,\"#fb9f3a\"],[0.8888888888888888,\"#fdca26\"],[1.0,\"#f0f921\"]],\"sequentialminus\":[[0.0,\"#0d0887\"],[0.1111111111111111,\"#46039f\"],[0.2222222222222222,\"#7201a8\"],[0.3333333333333333,\"#9c179e\"],[0.4444444444444444,\"#bd3786\"],[0.5555555555555556,\"#d8576b\"],[0.6666666666666666,\"#ed7953\"],[0.7777777777777778,\"#fb9f3a\"],[0.8888888888888888,\"#fdca26\"],[1.0,\"#f0f921\"]]},\"colorway\":[\"#636efa\",\"#EF553B\",\"#00cc96\",\"#ab63fa\",\"#FFA15A\",\"#19d3f3\",\"#FF6692\",\"#B6E880\",\"#FF97FF\",\"#FECB52\"],\"font\":{\"color\":\"#2a3f5f\"},\"geo\":{\"bgcolor\":\"white\",\"lakecolor\":\"white\",\"landcolor\":\"#E5ECF6\",\"showlakes\":true,\"showland\":true,\"subunitcolor\":\"white\"},\"hoverlabel\":{\"align\":\"left\"},\"hovermode\":\"closest\",\"mapbox\":{\"style\":\"light\"},\"paper_bgcolor\":\"white\",\"plot_bgcolor\":\"#E5ECF6\",\"polar\":{\"angularaxis\":{\"gridcolor\":\"white\",\"linecolor\":\"white\",\"ticks\":\"\"},\"bgcolor\":\"#E5ECF6\",\"radialaxis\":{\"gridcolor\":\"white\",\"linecolor\":\"white\",\"ticks\":\"\"}},\"scene\":{\"xaxis\":{\"backgroundcolor\":\"#E5ECF6\",\"gridcolor\":\"white\",\"gridwidth\":2,\"linecolor\":\"white\",\"showbackground\":true,\"ticks\":\"\",\"zerolinecolor\":\"white\"},\"yaxis\":{\"backgroundcolor\":\"#E5ECF6\",\"gridcolor\":\"white\",\"gridwidth\":2,\"linecolor\":\"white\",\"showbackground\":true,\"ticks\":\"\",\"zerolinecolor\":\"white\"},\"zaxis\":{\"backgroundcolor\":\"#E5ECF6\",\"gridcolor\":\"white\",\"gridwidth\":2,\"linecolor\":\"white\",\"showbackground\":true,\"ticks\":\"\",\"zerolinecolor\":\"white\"}},\"shapedefaults\":{\"line\":{\"color\":\"#2a3f5f\"}},\"ternary\":{\"aaxis\":{\"gridcolor\":\"white\",\"linecolor\":\"white\",\"ticks\":\"\"},\"baxis\":{\"gridcolor\":\"white\",\"linecolor\":\"white\",\"ticks\":\"\"},\"bgcolor\":\"#E5ECF6\",\"caxis\":{\"gridcolor\":\"white\",\"linecolor\":\"white\",\"ticks\":\"\"}},\"title\":{\"x\":0.05},\"xaxis\":{\"automargin\":true,\"gridcolor\":\"white\",\"linecolor\":\"white\",\"ticks\":\"\",\"title\":{\"standoff\":15},\"zerolinecolor\":\"white\",\"zerolinewidth\":2},\"yaxis\":{\"automargin\":true,\"gridcolor\":\"white\",\"linecolor\":\"white\",\"ticks\":\"\",\"title\":{\"standoff\":15},\"zerolinecolor\":\"white\",\"zerolinewidth\":2}}},\"scene\":{\"domain\":{\"x\":[0.0,1.0],\"y\":[0.0,1.0]},\"xaxis\":{\"title\":{\"text\":\"one_number\"}},\"yaxis\":{\"title\":{\"text\":\"two_number\"}},\"zaxis\":{\"title\":{\"text\":\"three_number\"}}},\"coloraxis\":{\"colorbar\":{\"title\":{\"text\":\"four_number\"}},\"colorscale\":[[0.0,\"#0d0887\"],[0.1111111111111111,\"#46039f\"],[0.2222222222222222,\"#7201a8\"],[0.3333333333333333,\"#9c179e\"],[0.4444444444444444,\"#bd3786\"],[0.5555555555555556,\"#d8576b\"],[0.6666666666666666,\"#ed7953\"],[0.7777777777777778,\"#fb9f3a\"],[0.8888888888888888,\"#fdca26\"],[1.0,\"#f0f921\"]]},\"legend\":{\"tracegroupgap\":0},\"margin\":{\"t\":60}},                        {\"responsive\": true}                    ).then(function(){\n                            \nvar gd = document.getElementById('20277bb6-9789-4201-bd3d-4131b615e4b1');\nvar x = new MutationObserver(function (mutations, observer) {{\n        var display = window.getComputedStyle(gd).display;\n        if (!display || display === 'none') {{\n            console.log([gd, 'removed!']);\n            Plotly.purge(gd);\n            observer.disconnect();\n        }}\n}});\n\n// Listen for the removal of the full notebook cells\nvar notebookContainer = gd.closest('#notebook-container');\nif (notebookContainer) {{\n    x.observe(notebookContainer, {childList: true});\n}}\n\n// Listen for the clearing of the current output cell\nvar outputEl = gd.closest('.output');\nif (outputEl) {{\n    x.observe(outputEl, {childList: true});\n}}\n\n                        })                };                });            </script>        </div>"
     },
     "metadata": {},
     "output_type": "display_data"
    }
   ],
   "source": [
    "filtered = hof[hof['MP'] > 35]\n",
    "px.scatter_3d(data_frame=filtered,x='one_number',y='two_number',z='three_number',hover_data=['Player','Year'],color='four_number')"
   ],
   "metadata": {
    "collapsed": false,
    "pycharm": {
     "name": "#%%\n"
    }
   }
  },
  {
   "cell_type": "code",
   "execution_count": 63,
   "outputs": [
    {
     "name": "stderr",
     "output_type": "stream",
     "text": [
      "/Users/chaseallbright/Dropbox/NBA/venv/lib/python3.9/site-packages/pandas/core/frame.py:3641: SettingWithCopyWarning:\n",
      "\n",
      "\n",
      "A value is trying to be set on a copy of a slice from a DataFrame.\n",
      "Try using .loc[row_indexer,col_indexer] = value instead\n",
      "\n",
      "See the caveats in the documentation: https://pandas.pydata.org/pandas-docs/stable/user_guide/indexing.html#returning-a-view-versus-a-copy\n",
      "\n"
     ]
    }
   ],
   "source": [
    "for year in range(1980,2023):\n",
    "    filtered = df[df['Year'] == year]\n",
    "    pc = PCA(n_components=2)\n",
    "    one_number = pd.DataFrame(pc.fit_transform(filtered.drop(columns=drop_l)))\n",
    "    filtered[['one_number','two_number']] = one_number\n",
    "\n",
    "    filtered = filtered[filtered['MP'] > 35]\n",
    "    px.scatter(data_frame=filtered,x='one_number',y='two_number',hover_data=['Player','Year'])\n",
    "    break"
   ],
   "metadata": {
    "collapsed": false,
    "pycharm": {
     "name": "#%%\n"
    }
   }
  },
  {
   "cell_type": "code",
   "execution_count": 68,
   "outputs": [
    {
     "data": {
      "text/plain": "Age              132.587030\nG                158.567369\nGS               154.232818\nMP               133.199526\nFG               114.741309\n                   ...     \ntm_Year         1607.096571\none_number       119.924197\ntwo_number       107.088096\nthree_number     112.361459\nfour_number      109.782278\nLength: 88, dtype: float64"
     },
     "execution_count": 68,
     "metadata": {},
     "output_type": "execute_result"
    }
   ],
   "source": [
    "\n",
    "hof.describe().mean()"
   ],
   "metadata": {
    "collapsed": false,
    "pycharm": {
     "name": "#%%\n"
    }
   }
  },
  {
   "cell_type": "code",
   "execution_count": null,
   "outputs": [],
   "source": [],
   "metadata": {
    "collapsed": false,
    "pycharm": {
     "name": "#%%\n"
    }
   }
  }
 ],
 "metadata": {
  "kernelspec": {
   "display_name": "Python 3",
   "language": "python",
   "name": "python3"
  },
  "language_info": {
   "codemirror_mode": {
    "name": "ipython",
    "version": 2
   },
   "file_extension": ".py",
   "mimetype": "text/x-python",
   "name": "python",
   "nbconvert_exporter": "python",
   "pygments_lexer": "ipython2",
   "version": "2.7.6"
  }
 },
 "nbformat": 4,
 "nbformat_minor": 0
}