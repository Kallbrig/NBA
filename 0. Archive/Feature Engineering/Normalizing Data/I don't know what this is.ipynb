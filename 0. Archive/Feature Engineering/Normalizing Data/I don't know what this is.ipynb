{
 "cells": [
  {
   "cell_type": "code",
   "execution_count": 5,
   "metadata": {},
   "outputs": [],
   "source": [
    "import pandas as pd\n",
    "\n",
    "pd.set_option('display.max_columns', None)"
   ]
  },
  {
   "cell_type": "code",
   "execution_count": 6,
   "metadata": {},
   "outputs": [],
   "source": [
    "nba_players = pd.read_csv('../../Data/Combined Player and Team Data/improved_combined_player_and_team_data.csv',index_col='Unnamed: 0')\n",
    "nba_players[['FG%','2P%','eFG%','FT%','3P%']] = nba_players[['FG%','2P%','eFG%','FT%','3P%']].fillna(0) "
   ]
  },
  {
   "cell_type": "code",
   "execution_count": 9,
   "metadata": {},
   "outputs": [],
   "source": [
    "teams = pd.read_csv('../../Data/Team Data/Combined/league_stats.csv',index_col='Unnamed: 0')"
   ]
  },
  {
   "cell_type": "code",
   "execution_count": 10,
   "metadata": {},
   "outputs": [],
   "source": [
    "def fix_years(x):\n",
    "    return str(x).split('-')[0]\n",
    "    "
   ]
  },
  {
   "cell_type": "code",
   "execution_count": 11,
   "metadata": {},
   "outputs": [],
   "source": [
    "teams.SEASON = teams.SEASON.apply(fix_years)"
   ]
  },
  {
   "cell_type": "code",
   "execution_count": 12,
   "metadata": {},
   "outputs": [
    {
     "data": {
      "text/plain": "  TEAM SEASON   AGE   W   L  PW  PL   MOV   SOS   SRS   ORtg   DRtg  NRtg  \\\n0  CHI   1979  25.9  30  52  34  48 -2.71  0.08 -2.63  104.3  107.0  -2.7   \n1  CHI   1980  26.5  45  37  46  36  1.98  0.37  2.34  107.8  105.8   2.0   \n2  CHI   1981  26.5  34  48  36  46 -2.02  0.45 -1.57  106.6  108.6  -2.0   \n\n    PACE    FTr   3PAr    TS%   eFG%  TOV%  ORB%  FT/FGA  eFG%.1  TOV%.1  \\\n0  101.8  0.373  0.040  0.545  0.489  17.2  32.2   0.291   0.500    15.7   \n1  100.6  0.371  0.026  0.556  0.504  17.2  36.9   0.288   0.493    15.5   \n2   99.0  0.378  0.032  0.557  0.505  17.3  33.6   0.290   0.499    13.2   \n\n   DRB%  FT/FGA.1            ARENA  ATTENDANCE  ATTENDANCE/G  \n0  68.0     0.251  Chicago Stadium         NaN       18508.0  \n1  68.4     0.232  Chicago Stadium    391118.0           NaN  \n2  69.0     0.207  Chicago Stadium    372613.0           NaN  ",
      "text/html": "<div>\n<style scoped>\n    .dataframe tbody tr th:only-of-type {\n        vertical-align: middle;\n    }\n\n    .dataframe tbody tr th {\n        vertical-align: top;\n    }\n\n    .dataframe thead th {\n        text-align: right;\n    }\n</style>\n<table border=\"1\" class=\"dataframe\">\n  <thead>\n    <tr style=\"text-align: right;\">\n      <th></th>\n      <th>TEAM</th>\n      <th>SEASON</th>\n      <th>AGE</th>\n      <th>W</th>\n      <th>L</th>\n      <th>PW</th>\n      <th>PL</th>\n      <th>MOV</th>\n      <th>SOS</th>\n      <th>SRS</th>\n      <th>ORtg</th>\n      <th>DRtg</th>\n      <th>NRtg</th>\n      <th>PACE</th>\n      <th>FTr</th>\n      <th>3PAr</th>\n      <th>TS%</th>\n      <th>eFG%</th>\n      <th>TOV%</th>\n      <th>ORB%</th>\n      <th>FT/FGA</th>\n      <th>eFG%.1</th>\n      <th>TOV%.1</th>\n      <th>DRB%</th>\n      <th>FT/FGA.1</th>\n      <th>ARENA</th>\n      <th>ATTENDANCE</th>\n      <th>ATTENDANCE/G</th>\n    </tr>\n  </thead>\n  <tbody>\n    <tr>\n      <th>0</th>\n      <td>CHI</td>\n      <td>1979</td>\n      <td>25.9</td>\n      <td>30</td>\n      <td>52</td>\n      <td>34</td>\n      <td>48</td>\n      <td>-2.71</td>\n      <td>0.08</td>\n      <td>-2.63</td>\n      <td>104.3</td>\n      <td>107.0</td>\n      <td>-2.7</td>\n      <td>101.8</td>\n      <td>0.373</td>\n      <td>0.040</td>\n      <td>0.545</td>\n      <td>0.489</td>\n      <td>17.2</td>\n      <td>32.2</td>\n      <td>0.291</td>\n      <td>0.500</td>\n      <td>15.7</td>\n      <td>68.0</td>\n      <td>0.251</td>\n      <td>Chicago Stadium</td>\n      <td>NaN</td>\n      <td>18508.0</td>\n    </tr>\n    <tr>\n      <th>1</th>\n      <td>CHI</td>\n      <td>1980</td>\n      <td>26.5</td>\n      <td>45</td>\n      <td>37</td>\n      <td>46</td>\n      <td>36</td>\n      <td>1.98</td>\n      <td>0.37</td>\n      <td>2.34</td>\n      <td>107.8</td>\n      <td>105.8</td>\n      <td>2.0</td>\n      <td>100.6</td>\n      <td>0.371</td>\n      <td>0.026</td>\n      <td>0.556</td>\n      <td>0.504</td>\n      <td>17.2</td>\n      <td>36.9</td>\n      <td>0.288</td>\n      <td>0.493</td>\n      <td>15.5</td>\n      <td>68.4</td>\n      <td>0.232</td>\n      <td>Chicago Stadium</td>\n      <td>391118.0</td>\n      <td>NaN</td>\n    </tr>\n    <tr>\n      <th>2</th>\n      <td>CHI</td>\n      <td>1981</td>\n      <td>26.5</td>\n      <td>34</td>\n      <td>48</td>\n      <td>36</td>\n      <td>46</td>\n      <td>-2.02</td>\n      <td>0.45</td>\n      <td>-1.57</td>\n      <td>106.6</td>\n      <td>108.6</td>\n      <td>-2.0</td>\n      <td>99.0</td>\n      <td>0.378</td>\n      <td>0.032</td>\n      <td>0.557</td>\n      <td>0.505</td>\n      <td>17.3</td>\n      <td>33.6</td>\n      <td>0.290</td>\n      <td>0.499</td>\n      <td>13.2</td>\n      <td>69.0</td>\n      <td>0.207</td>\n      <td>Chicago Stadium</td>\n      <td>372613.0</td>\n      <td>NaN</td>\n    </tr>\n  </tbody>\n</table>\n</div>"
     },
     "execution_count": 12,
     "metadata": {},
     "output_type": "execute_result"
    }
   ],
   "source": [
    "teams.head(3)"
   ]
  },
  {
   "cell_type": "code",
   "execution_count": 167,
   "metadata": {},
   "outputs": [],
   "source": [
    "# Divides team data up by year and puts it in it's own folder\n",
    "\n",
    "for i in teams.SEASON.unique():\n",
    "    teams.loc[teams['SEASON'] == str(i)].to_csv(f'../../Data/Team Data/By Year/{i}_team_data.csv')\n",
    "\n",
    "    "
   ]
  },
  {
   "cell_type": "code",
   "execution_count": 180,
   "metadata": {},
   "outputs": [
    {
     "ename": "TypeError",
     "evalue": "f() argument after * must be an iterable, not float",
     "output_type": "error",
     "traceback": [
      "\u001B[0;31m---------------------------------------------------------------------------\u001B[0m",
      "\u001B[0;31mTypeError\u001B[0m                                 Traceback (most recent call last)",
      "\u001B[0;32m<ipython-input-180-52501196778d>\u001B[0m in \u001B[0;36m<module>\u001B[0;34m\u001B[0m\n\u001B[1;32m      1\u001B[0m \u001B[0mk\u001B[0m \u001B[0;34m=\u001B[0m \u001B[0mpd\u001B[0m\u001B[0;34m.\u001B[0m\u001B[0mread_csv\u001B[0m\u001B[0;34m(\u001B[0m\u001B[0;34m'../Data/Team Data/By Year/2012_team_data.csv'\u001B[0m\u001B[0;34m,\u001B[0m\u001B[0mindex_col\u001B[0m\u001B[0;34m=\u001B[0m\u001B[0;34m'Unnamed: 0'\u001B[0m\u001B[0;34m)\u001B[0m\u001B[0;34m\u001B[0m\u001B[0;34m\u001B[0m\u001B[0m\n\u001B[1;32m      2\u001B[0m \u001B[0;32mfor\u001B[0m \u001B[0mkey\u001B[0m \u001B[0;32min\u001B[0m \u001B[0;34m[\u001B[0m\u001B[0;34m'AGE'\u001B[0m\u001B[0;34m,\u001B[0m \u001B[0;34m'W'\u001B[0m\u001B[0;34m,\u001B[0m \u001B[0;34m'L'\u001B[0m\u001B[0;34m,\u001B[0m \u001B[0;34m'PW'\u001B[0m\u001B[0;34m,\u001B[0m \u001B[0;34m'PL'\u001B[0m\u001B[0;34m,\u001B[0m \u001B[0;34m'MOV'\u001B[0m\u001B[0;34m,\u001B[0m \u001B[0;34m'SOS'\u001B[0m\u001B[0;34m,\u001B[0m \u001B[0;34m'SRS'\u001B[0m\u001B[0;34m,\u001B[0m\u001B[0;34m'ORtg'\u001B[0m\u001B[0;34m,\u001B[0m \u001B[0;34m'DRtg'\u001B[0m\u001B[0;34m,\u001B[0m \u001B[0;34m'NRtg'\u001B[0m\u001B[0;34m,\u001B[0m \u001B[0;34m'PACE'\u001B[0m\u001B[0;34m,\u001B[0m \u001B[0;34m'FTr'\u001B[0m\u001B[0;34m,\u001B[0m \u001B[0;34m'3PAr'\u001B[0m\u001B[0;34m,\u001B[0m \u001B[0;34m'TS%'\u001B[0m\u001B[0;34m,\u001B[0m \u001B[0;34m'eFG%'\u001B[0m\u001B[0;34m,\u001B[0m \u001B[0;34m'TOV%'\u001B[0m\u001B[0;34m,\u001B[0m\u001B[0;34m'ORB%'\u001B[0m\u001B[0;34m,\u001B[0m \u001B[0;34m'FT/FGA'\u001B[0m\u001B[0;34m,\u001B[0m \u001B[0;34m'eFG%.1'\u001B[0m\u001B[0;34m,\u001B[0m \u001B[0;34m'TOV%.1'\u001B[0m\u001B[0;34m,\u001B[0m \u001B[0;34m'DRB%'\u001B[0m\u001B[0;34m,\u001B[0m \u001B[0;34m'FT/FGA.1'\u001B[0m\u001B[0;34m,\u001B[0m\u001B[0;34m]\u001B[0m\u001B[0;34m:\u001B[0m\u001B[0;34m\u001B[0m\u001B[0;34m\u001B[0m\u001B[0m\n\u001B[0;32m----> 3\u001B[0;31m     \u001B[0mk\u001B[0m\u001B[0;34m[\u001B[0m\u001B[0mkey\u001B[0m\u001B[0;34m]\u001B[0m\u001B[0;34m.\u001B[0m\u001B[0mapply\u001B[0m\u001B[0;34m(\u001B[0m\u001B[0mf\u001B[0m\u001B[0;34m,\u001B[0m \u001B[0margs\u001B[0m\u001B[0;34m=\u001B[0m\u001B[0;34m(\u001B[0m\u001B[0mk\u001B[0m\u001B[0;34m[\u001B[0m\u001B[0mkey\u001B[0m\u001B[0;34m]\u001B[0m\u001B[0;34m.\u001B[0m\u001B[0mmean\u001B[0m\u001B[0;34m(\u001B[0m\u001B[0;34m)\u001B[0m\u001B[0;34m)\u001B[0m\u001B[0;34m)\u001B[0m\u001B[0;34m\u001B[0m\u001B[0;34m\u001B[0m\u001B[0m\n\u001B[0m\u001B[1;32m      4\u001B[0m \u001B[0mk\u001B[0m\u001B[0;34m\u001B[0m\u001B[0;34m\u001B[0m\u001B[0m\n",
      "\u001B[0;32m~/opt/anaconda3/lib/python3.8/site-packages/pandas/core/series.py\u001B[0m in \u001B[0;36mapply\u001B[0;34m(self, func, convert_dtype, args, **kwds)\u001B[0m\n\u001B[1;32m   4198\u001B[0m             \u001B[0;32melse\u001B[0m\u001B[0;34m:\u001B[0m\u001B[0;34m\u001B[0m\u001B[0;34m\u001B[0m\u001B[0m\n\u001B[1;32m   4199\u001B[0m                 \u001B[0mvalues\u001B[0m \u001B[0;34m=\u001B[0m \u001B[0mself\u001B[0m\u001B[0;34m.\u001B[0m\u001B[0mastype\u001B[0m\u001B[0;34m(\u001B[0m\u001B[0mobject\u001B[0m\u001B[0;34m)\u001B[0m\u001B[0;34m.\u001B[0m\u001B[0m_values\u001B[0m\u001B[0;34m\u001B[0m\u001B[0;34m\u001B[0m\u001B[0m\n\u001B[0;32m-> 4200\u001B[0;31m                 \u001B[0mmapped\u001B[0m \u001B[0;34m=\u001B[0m \u001B[0mlib\u001B[0m\u001B[0;34m.\u001B[0m\u001B[0mmap_infer\u001B[0m\u001B[0;34m(\u001B[0m\u001B[0mvalues\u001B[0m\u001B[0;34m,\u001B[0m \u001B[0mf\u001B[0m\u001B[0;34m,\u001B[0m \u001B[0mconvert\u001B[0m\u001B[0;34m=\u001B[0m\u001B[0mconvert_dtype\u001B[0m\u001B[0;34m)\u001B[0m\u001B[0;34m\u001B[0m\u001B[0;34m\u001B[0m\u001B[0m\n\u001B[0m\u001B[1;32m   4201\u001B[0m \u001B[0;34m\u001B[0m\u001B[0m\n\u001B[1;32m   4202\u001B[0m         \u001B[0;32mif\u001B[0m \u001B[0mlen\u001B[0m\u001B[0;34m(\u001B[0m\u001B[0mmapped\u001B[0m\u001B[0;34m)\u001B[0m \u001B[0;32mand\u001B[0m \u001B[0misinstance\u001B[0m\u001B[0;34m(\u001B[0m\u001B[0mmapped\u001B[0m\u001B[0;34m[\u001B[0m\u001B[0;36m0\u001B[0m\u001B[0;34m]\u001B[0m\u001B[0;34m,\u001B[0m \u001B[0mSeries\u001B[0m\u001B[0;34m)\u001B[0m\u001B[0;34m:\u001B[0m\u001B[0;34m\u001B[0m\u001B[0;34m\u001B[0m\u001B[0m\n",
      "\u001B[0;32mpandas/_libs/lib.pyx\u001B[0m in \u001B[0;36mpandas._libs.lib.map_infer\u001B[0;34m()\u001B[0m\n",
      "\u001B[0;32m~/opt/anaconda3/lib/python3.8/site-packages/pandas/core/series.py\u001B[0m in \u001B[0;36mf\u001B[0;34m(x)\u001B[0m\n\u001B[1;32m   4183\u001B[0m \u001B[0;34m\u001B[0m\u001B[0m\n\u001B[1;32m   4184\u001B[0m             \u001B[0;32mdef\u001B[0m \u001B[0mf\u001B[0m\u001B[0;34m(\u001B[0m\u001B[0mx\u001B[0m\u001B[0;34m)\u001B[0m\u001B[0;34m:\u001B[0m\u001B[0;34m\u001B[0m\u001B[0;34m\u001B[0m\u001B[0m\n\u001B[0;32m-> 4185\u001B[0;31m                 \u001B[0;32mreturn\u001B[0m \u001B[0mfunc\u001B[0m\u001B[0;34m(\u001B[0m\u001B[0mx\u001B[0m\u001B[0;34m,\u001B[0m \u001B[0;34m*\u001B[0m\u001B[0margs\u001B[0m\u001B[0;34m,\u001B[0m \u001B[0;34m**\u001B[0m\u001B[0mkwds\u001B[0m\u001B[0;34m)\u001B[0m\u001B[0;34m\u001B[0m\u001B[0;34m\u001B[0m\u001B[0m\n\u001B[0m\u001B[1;32m   4186\u001B[0m \u001B[0;34m\u001B[0m\u001B[0m\n\u001B[1;32m   4187\u001B[0m         \u001B[0;32melse\u001B[0m\u001B[0;34m:\u001B[0m\u001B[0;34m\u001B[0m\u001B[0;34m\u001B[0m\u001B[0m\n",
      "\u001B[0;31mTypeError\u001B[0m: f() argument after * must be an iterable, not float"
     ]
    }
   ],
   "source": [
    "k = pd.read_csv('../../Data/Team Data/By Year/2012_team_data.csv',index_col='Unnamed: 0')\n",
    "for key in ['AGE', 'W', 'L', 'PW', 'PL', 'MOV', 'SOS', 'SRS','ORtg', 'DRtg', 'NRtg', 'PACE', 'FTr', '3PAr', 'TS%', 'eFG%', 'TOV%','ORB%', 'FT/FGA', 'eFG%.1', 'TOV%.1', 'DRB%', 'FT/FGA.1',]:\n",
    "    k[key].apply(f, args=(k[key].mean()))\n",
    "k"
   ]
  },
  {
   "cell_type": "code",
   "execution_count": 99,
   "metadata": {},
   "outputs": [],
   "source": [
    "\n",
    "yr = teams[teams.SEASON == str(1980)]\n",
    "\n",
    "FTr = yr.FTr.mean()\n",
    "# print(FTr)\n",
    "l = []\n",
    "for i in yr.FTr:\n",
    "    if i < FTr:\n",
    "        l.append(FTr - i)\n",
    "    elif i > FTr:\n",
    "        l.append(i - FTr)\n",
    "    elif FTr == i:\n",
    "        l.append(FTr)"
   ]
  },
  {
   "cell_type": "code",
   "execution_count": 121,
   "metadata": {},
   "outputs": [],
   "source": [
    "for key in ['AGE', 'W', 'L', 'PW', 'PL', 'MOV', 'SOS', 'SRS','ORtg', 'DRtg', 'NRtg', 'PACE', 'FTr', '3PAr', 'TS%', 'eFG%', 'TOV%','ORB%', 'FT/FGA', 'eFG%.1', 'TOV%.1', 'DRB%', 'FT/FGA.1',]:\n",
    "    for year in teams.SEASON.unique():\n",
    "        l = list()\n",
    "        teams.loc[teams['SEASON'] == str(year),key]"
   ]
  },
  {
   "cell_type": "code",
   "execution_count": 128,
   "metadata": {},
   "outputs": [
    {
     "ename": "ValueError",
     "evalue": "cannot set a row with mismatched columns",
     "output_type": "error",
     "traceback": [
      "\u001B[0;31m---------------------------------------------------------------------------\u001B[0m",
      "\u001B[0;31mValueError\u001B[0m                                Traceback (most recent call last)",
      "\u001B[0;32m<ipython-input-128-1cc516b4b84c>\u001B[0m in \u001B[0;36m<module>\u001B[0;34m\u001B[0m\n\u001B[1;32m      9\u001B[0m     \u001B[0;32melif\u001B[0m \u001B[0mmean\u001B[0m \u001B[0;34m==\u001B[0m \u001B[0mi\u001B[0m\u001B[0;34m:\u001B[0m\u001B[0;34m\u001B[0m\u001B[0;34m\u001B[0m\u001B[0m\n\u001B[1;32m     10\u001B[0m         \u001B[0ml\u001B[0m\u001B[0;34m.\u001B[0m\u001B[0mappend\u001B[0m\u001B[0;34m(\u001B[0m\u001B[0mmean\u001B[0m\u001B[0;34m)\u001B[0m\u001B[0;34m\u001B[0m\u001B[0;34m\u001B[0m\u001B[0m\n\u001B[0;32m---> 11\u001B[0;31m \u001B[0mteams\u001B[0m\u001B[0;34m.\u001B[0m\u001B[0mloc\u001B[0m\u001B[0;34m[\u001B[0m\u001B[0mteams\u001B[0m\u001B[0;34m[\u001B[0m\u001B[0;34m'SEASON'\u001B[0m\u001B[0;34m]\u001B[0m \u001B[0;34m==\u001B[0m \u001B[0mstr\u001B[0m\u001B[0;34m(\u001B[0m\u001B[0myear\u001B[0m\u001B[0;34m)\u001B[0m\u001B[0;34m]\u001B[0m\u001B[0;34m.\u001B[0m\u001B[0mloc\u001B[0m\u001B[0;34m[\u001B[0m\u001B[0mkey\u001B[0m\u001B[0;34m]\u001B[0m \u001B[0;34m=\u001B[0m \u001B[0ml\u001B[0m\u001B[0;34m\u001B[0m\u001B[0;34m\u001B[0m\u001B[0m\n\u001B[0m\u001B[1;32m     12\u001B[0m \u001B[0ml\u001B[0m\u001B[0;34m\u001B[0m\u001B[0;34m\u001B[0m\u001B[0m\n",
      "\u001B[0;32m~/opt/anaconda3/lib/python3.8/site-packages/pandas/core/indexing.py\u001B[0m in \u001B[0;36m__setitem__\u001B[0;34m(self, key, value)\u001B[0m\n\u001B[1;32m    668\u001B[0m \u001B[0;34m\u001B[0m\u001B[0m\n\u001B[1;32m    669\u001B[0m         \u001B[0miloc\u001B[0m \u001B[0;34m=\u001B[0m \u001B[0mself\u001B[0m \u001B[0;32mif\u001B[0m \u001B[0mself\u001B[0m\u001B[0;34m.\u001B[0m\u001B[0mname\u001B[0m \u001B[0;34m==\u001B[0m \u001B[0;34m\"iloc\"\u001B[0m \u001B[0;32melse\u001B[0m \u001B[0mself\u001B[0m\u001B[0;34m.\u001B[0m\u001B[0mobj\u001B[0m\u001B[0;34m.\u001B[0m\u001B[0miloc\u001B[0m\u001B[0;34m\u001B[0m\u001B[0;34m\u001B[0m\u001B[0m\n\u001B[0;32m--> 670\u001B[0;31m         \u001B[0miloc\u001B[0m\u001B[0;34m.\u001B[0m\u001B[0m_setitem_with_indexer\u001B[0m\u001B[0;34m(\u001B[0m\u001B[0mindexer\u001B[0m\u001B[0;34m,\u001B[0m \u001B[0mvalue\u001B[0m\u001B[0;34m)\u001B[0m\u001B[0;34m\u001B[0m\u001B[0;34m\u001B[0m\u001B[0m\n\u001B[0m\u001B[1;32m    671\u001B[0m \u001B[0;34m\u001B[0m\u001B[0m\n\u001B[1;32m    672\u001B[0m     \u001B[0;32mdef\u001B[0m \u001B[0m_validate_key\u001B[0m\u001B[0;34m(\u001B[0m\u001B[0mself\u001B[0m\u001B[0;34m,\u001B[0m \u001B[0mkey\u001B[0m\u001B[0;34m,\u001B[0m \u001B[0maxis\u001B[0m\u001B[0;34m:\u001B[0m \u001B[0mint\u001B[0m\u001B[0;34m)\u001B[0m\u001B[0;34m:\u001B[0m\u001B[0;34m\u001B[0m\u001B[0;34m\u001B[0m\u001B[0m\n",
      "\u001B[0;32m~/opt/anaconda3/lib/python3.8/site-packages/pandas/core/indexing.py\u001B[0m in \u001B[0;36m_setitem_with_indexer\u001B[0;34m(self, indexer, value)\u001B[0m\n\u001B[1;32m   1624\u001B[0m \u001B[0;34m\u001B[0m\u001B[0m\n\u001B[1;32m   1625\u001B[0m             \u001B[0;32mif\u001B[0m \u001B[0mmissing\u001B[0m\u001B[0;34m:\u001B[0m\u001B[0;34m\u001B[0m\u001B[0;34m\u001B[0m\u001B[0m\n\u001B[0;32m-> 1626\u001B[0;31m                 \u001B[0mself\u001B[0m\u001B[0;34m.\u001B[0m\u001B[0m_setitem_with_indexer_missing\u001B[0m\u001B[0;34m(\u001B[0m\u001B[0mindexer\u001B[0m\u001B[0;34m,\u001B[0m \u001B[0mvalue\u001B[0m\u001B[0;34m)\u001B[0m\u001B[0;34m\u001B[0m\u001B[0;34m\u001B[0m\u001B[0m\n\u001B[0m\u001B[1;32m   1627\u001B[0m                 \u001B[0;32mreturn\u001B[0m\u001B[0;34m\u001B[0m\u001B[0;34m\u001B[0m\u001B[0m\n\u001B[1;32m   1628\u001B[0m \u001B[0;34m\u001B[0m\u001B[0m\n",
      "\u001B[0;32m~/opt/anaconda3/lib/python3.8/site-packages/pandas/core/indexing.py\u001B[0m in \u001B[0;36m_setitem_with_indexer_missing\u001B[0;34m(self, indexer, value)\u001B[0m\n\u001B[1;32m   1856\u001B[0m                     \u001B[0;31m# must have conforming columns\u001B[0m\u001B[0;34m\u001B[0m\u001B[0;34m\u001B[0m\u001B[0;34m\u001B[0m\u001B[0m\n\u001B[1;32m   1857\u001B[0m                     \u001B[0;32mif\u001B[0m \u001B[0mlen\u001B[0m\u001B[0;34m(\u001B[0m\u001B[0mvalue\u001B[0m\u001B[0;34m)\u001B[0m \u001B[0;34m!=\u001B[0m \u001B[0mlen\u001B[0m\u001B[0;34m(\u001B[0m\u001B[0mself\u001B[0m\u001B[0;34m.\u001B[0m\u001B[0mobj\u001B[0m\u001B[0;34m.\u001B[0m\u001B[0mcolumns\u001B[0m\u001B[0;34m)\u001B[0m\u001B[0;34m:\u001B[0m\u001B[0;34m\u001B[0m\u001B[0;34m\u001B[0m\u001B[0m\n\u001B[0;32m-> 1858\u001B[0;31m                         \u001B[0;32mraise\u001B[0m \u001B[0mValueError\u001B[0m\u001B[0;34m(\u001B[0m\u001B[0;34m\"cannot set a row with mismatched columns\"\u001B[0m\u001B[0;34m)\u001B[0m\u001B[0;34m\u001B[0m\u001B[0;34m\u001B[0m\u001B[0m\n\u001B[0m\u001B[1;32m   1859\u001B[0m \u001B[0;34m\u001B[0m\u001B[0m\n\u001B[1;32m   1860\u001B[0m                 \u001B[0mvalue\u001B[0m \u001B[0;34m=\u001B[0m \u001B[0mSeries\u001B[0m\u001B[0;34m(\u001B[0m\u001B[0mvalue\u001B[0m\u001B[0;34m,\u001B[0m \u001B[0mindex\u001B[0m\u001B[0;34m=\u001B[0m\u001B[0mself\u001B[0m\u001B[0;34m.\u001B[0m\u001B[0mobj\u001B[0m\u001B[0;34m.\u001B[0m\u001B[0mcolumns\u001B[0m\u001B[0;34m,\u001B[0m \u001B[0mname\u001B[0m\u001B[0;34m=\u001B[0m\u001B[0mindexer\u001B[0m\u001B[0;34m)\u001B[0m\u001B[0;34m\u001B[0m\u001B[0;34m\u001B[0m\u001B[0m\n",
      "\u001B[0;31mValueError\u001B[0m: cannot set a row with mismatched columns"
     ]
    }
   ],
   "source": [
    "a = teams.loc[teams['SEASON'] == str(year),key]\n",
    "mean = a.mean()\n",
    "l = list()\n",
    "for i in a:\n",
    "    if i < mean:\n",
    "        return mean - i\n",
    "    elif i > FTr:\n",
    "        return i - mean\n",
    "    elif mean == i:\n",
    "        return mean\n"
   ]
  },
  {
   "cell_type": "code",
   "execution_count": 129,
   "metadata": {},
   "outputs": [],
   "source": [
    "def f(x,mean):\n",
    "    if x < mean:\n",
    "        return mean - x\n",
    "    elif x > mean:\n",
    "        return x - mean\n",
    "    elif mean == x:\n",
    "        return mean"
   ]
  },
  {
   "cell_type": "code",
   "execution_count": 140,
   "metadata": {},
   "outputs": [],
   "source": [
    "for key in ['AGE', 'W', 'L', 'PW', 'PL', 'MOV', 'SOS', 'SRS','ORtg', 'DRtg', 'NRtg', 'PACE', 'FTr', '3PAr', 'TS%', 'eFG%', 'TOV%','ORB%', 'FT/FGA', 'eFG%.1', 'TOV%.1', 'DRB%', 'FT/FGA.1',]:\n",
    "    for year in list(teams.SEASON.unique()):\n",
    "        teams.loc[teams['SEASON'] == str(year),key].apply(f,args=[teams.loc[teams['SEASON'] == str(year),key].mean()])\n"
   ]
  },
  {
   "cell_type": "code",
   "execution_count": 13,
   "metadata": {
    "pycharm": {
     "name": "#%%\n"
    }
   },
   "outputs": [
    {
     "data": {
      "text/plain": "array(['1979', '1980', '1981', '1982', '1983', '1984', '1985', '1986',\n       '1987', '1988', '1989', '1990', '1991', '1992', '1993', '1994',\n       '1995', '1996', '1997', '1998', '1999', '2000', '2001', '2002',\n       '2003', '2004', '2005', '2006', '2007', '2008', '2009', '2010',\n       '2011', '2012', '2013', '2014', '2015', '2016', '2017', '2018'],\n      dtype=object)"
     },
     "execution_count": 13,
     "metadata": {},
     "output_type": "execute_result"
    }
   ],
   "source": [
    "teams.SEASON.unique()"
   ]
  },
  {
   "cell_type": "code",
   "execution_count": null,
   "outputs": [],
   "source": [],
   "metadata": {
    "collapsed": false,
    "pycharm": {
     "name": "#%%\n"
    }
   }
  }
 ],
 "metadata": {
  "kernelspec": {
   "display_name": "Python 3 (ipykernel)",
   "language": "python",
   "name": "python3"
  },
  "language_info": {
   "codemirror_mode": {
    "name": "ipython",
    "version": 3
   },
   "file_extension": ".py",
   "mimetype": "text/x-python",
   "name": "python",
   "nbconvert_exporter": "python",
   "pygments_lexer": "ipython3",
   "version": "3.8.5"
  }
 },
 "nbformat": 4,
 "nbformat_minor": 4
}