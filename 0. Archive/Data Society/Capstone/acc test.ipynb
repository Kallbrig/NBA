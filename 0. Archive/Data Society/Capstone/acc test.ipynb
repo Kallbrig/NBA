{
 "cells": [
  {
   "cell_type": "code",
   "execution_count": 1,
   "metadata": {
    "collapsed": true
   },
   "outputs": [],
   "source": [
    "import matplotlib.pyplot as plt\n",
    "import numpy as np\n",
    "import pandas as pd\n",
    "import seaborn as sns\n",
    "from sklearn import metrics\n",
    "from sklearn.ensemble import RandomForestClassifier, RandomForestRegressor"
   ]
  },
  {
   "cell_type": "code",
   "execution_count": 20,
   "outputs": [
    {
     "data": {
      "text/plain": "(18264, 55)"
     },
     "execution_count": 20,
     "metadata": {},
     "output_type": "execute_result"
    }
   ],
   "source": [
    "sns.set_style('whitegrid')\n",
    "sns.set_palette('flare')\n",
    "test_cols = ['3P', '2P', 'FT', 'TRB', 'AST', 'STL', 'BLK', 'TOV', 'PF', 'PTS', 'PER', 'TS%',\n",
    "             '3PAr', 'FTr', 'TRB%', 'STL%', 'BLK%',\n",
    "             'USG%', 'OWS', 'DWS', 'VORP', 'Year_x']\n",
    "df = pd.read_csv('Full Dataset.csv', index_col=0)\n",
    "df_copy = df.copy()\n",
    "df.drop(columns=['All_Star'], inplace=True)\n",
    "df.shape\n"
   ],
   "metadata": {
    "collapsed": false,
    "pycharm": {
     "name": "#%%\n"
    }
   }
  },
  {
   "cell_type": "code",
   "execution_count": 21,
   "outputs": [],
   "source": [
    "df['Got_MVP_Votes'] = pd.Categorical(np.where(df['MVP_Share'] != 0, 1, 0))\n",
    "df.Got_MVP_Votes = df.Got_MVP_Votes.astype(np.int64)\n",
    "\n",
    "X = df.drop(columns=['Player', 'Tm', 'GS', 'MVP_Pts Won', 'MVP_Share', 'MVP_Pts Max', 'MVP_Rank', 'MVP_First',\n",
    "                     'Got_MVP_Votes'])\n",
    "\n",
    "X = X[test_cols]\n",
    "\n",
    "y = df[['MVP_Share', 'Got_MVP_Votes', 'Year_x']]"
   ],
   "metadata": {
    "collapsed": false,
    "pycharm": {
     "name": "#%%\n"
    }
   }
  },
  {
   "cell_type": "code",
   "execution_count": 56,
   "outputs": [
    {
     "name": "stdout",
     "output_type": "stream",
     "text": [
      "Precision 1980: 0.5\n",
      "Recall 1980: 0.6666666666666666\n",
      "Precision 1981: 1.0\n",
      "Recall 1981: 0.25925925925925924\n",
      "Precision 1982: 1.0\n",
      "Recall 1982: 0.4782608695652174\n",
      "Precision 1983: 1.0\n",
      "Recall 1983: 0.5\n",
      "Precision 1984: 0.7692307692307693\n",
      "Recall 1984: 0.6666666666666666\n",
      "Precision 1985: 0.9166666666666666\n",
      "Recall 1985: 0.5238095238095238\n",
      "Precision 1986: 0.8888888888888888\n",
      "Recall 1986: 0.5\n",
      "Precision 1987: 0.8\n",
      "Recall 1987: 0.8\n",
      "Precision 1988: 0.9090909090909091\n",
      "Recall 1988: 0.5882352941176471\n",
      "Precision 1989: 0.75\n",
      "Recall 1989: 0.5294117647058824\n",
      "Precision 1990: 0.6470588235294118\n",
      "Recall 1990: 0.7857142857142857\n",
      "Precision 1991: 0.8125\n",
      "Recall 1991: 0.65\n",
      "Precision 1992: 0.9090909090909091\n",
      "Recall 1992: 0.5882352941176471\n",
      "Precision 1993: 0.9090909090909091\n",
      "Recall 1993: 0.7142857142857143\n",
      "Precision 1994: 1.0\n",
      "Recall 1994: 0.5294117647058824\n",
      "Precision 1995: 0.8333333333333334\n",
      "Recall 1995: 0.6666666666666666\n",
      "Precision 1996: 0.9285714285714286\n",
      "Recall 1996: 0.7647058823529411\n",
      "Precision 1997: 0.8571428571428571\n",
      "Recall 1997: 0.6\n",
      "Precision 1998: 0.875\n",
      "Recall 1998: 0.3888888888888889\n",
      "Precision 1999: 1.0\n",
      "Recall 1999: 0.23809523809523808\n",
      "Precision 2000: 0.8461538461538461\n",
      "Recall 2000: 0.6875\n",
      "Precision 2001: 0.8125\n",
      "Recall 2001: 0.8125\n",
      "Precision 2002: 0.9166666666666666\n",
      "Recall 2002: 0.6470588235294118\n",
      "Precision 2003: 0.7857142857142857\n",
      "Recall 2003: 0.9166666666666666\n",
      "Precision 2004: 0.875\n",
      "Recall 2004: 0.4666666666666667\n",
      "Precision 2005: 0.7857142857142857\n",
      "Recall 2005: 0.7857142857142857\n",
      "Precision 2006: 0.5789473684210527\n",
      "Recall 2006: 1.0\n",
      "Precision 2007: 0.7142857142857143\n",
      "Recall 2007: 0.6666666666666666\n",
      "Precision 2008: 0.8461538461538461\n",
      "Recall 2008: 0.6470588235294118\n",
      "Precision 2009: 1.0\n",
      "Recall 2009: 0.75\n",
      "Precision 2010: 1.0\n",
      "Recall 2010: 0.6\n",
      "Precision 2011: 0.8\n",
      "Recall 2011: 0.5714285714285714\n",
      "Precision 2012: 1.0\n",
      "Recall 2012: 0.4\n",
      "Precision 2013: 1.0\n",
      "Recall 2013: 0.5625\n",
      "Precision 2014: 0.9\n",
      "Recall 2014: 0.5294117647058824\n",
      "Precision 2015: 1.0\n",
      "Recall 2015: 0.5833333333333334\n",
      "Precision 2016: 0.7272727272727273\n",
      "Recall 2016: 0.8\n",
      "Precision 2017: 0.6111111111111112\n",
      "Recall 2017: 1.0\n",
      "Precision 2018: 0.9090909090909091\n",
      "Recall 2018: 0.7692307692307693\n",
      "Precision 2019: 0.7333333333333333\n",
      "Recall 2019: 1.0\n",
      "Precision 2020: 0.8888888888888888\n",
      "Recall 2020: 0.6666666666666666\n",
      "Precision 2021: 0.7\n",
      "Recall 2021: 0.4666666666666667\n",
      "Precision 2022: 0.8181818181818182\n",
      "Recall 2022: 0.75\n"
     ]
    }
   ],
   "source": [
    "plist= []\n",
    "rlist= []\n",
    "f1list = []\n",
    "\n",
    "for year in range(1980,2023):\n",
    "\n",
    "\n",
    "    X_train = X[X['Year_x'] != year].copy()\n",
    "    X_test = X[X['Year_x'] == year].copy()\n",
    "    y_train = y[y['Year_x'] != year].copy()\n",
    "    y_test = y[y['Year_x'] == year].copy()\n",
    "    for i in [X_train, X_test, y_train, y_test]:\n",
    "        i.drop(columns=['Year_x'], inplace=True)\n",
    "\n",
    "    rf_clf = RandomForestClassifier()\n",
    "    rf_clf.fit(X_train, y_train['Got_MVP_Votes'])\n",
    "\n",
    "    precision = metrics.precision_score(y_test['Got_MVP_Votes'],rf_clf.predict(X_test))\n",
    "    recall = metrics.recall_score(y_test['Got_MVP_Votes'],rf_clf.predict(X_test))\n",
    "    f1score = metrics.f1_score(y_test['Got_MVP_Votes'],rf_clf.predict(X_test))\n",
    "    plist.append(precision)\n",
    "    rlist.append(recall)\n",
    "    f1list.append(f1score)\n",
    "    print(f'Precision {year}: {precision}',)\n",
    "    print(f'Recall {year}: {recall}')\n",
    "\n",
    "\n",
    "    X_test['got_votes_pred'] = rf_clf.predict(X_test)\n",
    "    X_test_reg = X_test.loc[X_test.got_votes_pred == 1, X_test.drop(columns=['got_votes_pred']).columns]\n",
    "\n",
    "    pred_vote_getters =  df.loc[(X_test_reg.index),'Player'].tolist()\n",
    "\n",
    "    actual_vote_getters = df.loc[(df.Got_MVP_Votes == 1) & (df.Year_x == year),'Player'].tolist()\n",
    "\n",
    "    tp = [i for i in pred_vote_getters if i in actual_vote_getters]\n",
    "    fn = [i for i in actual_vote_getters if i not in pred_vote_getters]\n",
    "    fp = [i for i in pred_vote_getters if i not in actual_vote_getters]\n",
    "    # tn = [i for i in pred_vote_getters if i in actual_vote_getters]\n",
    "\n",
    "\n",
    "    # for i in fp:\n",
    "        # print(f'{i}, ',end='')\n",
    "\n",
    "\n",
    "\n",
    "\n"
   ],
   "metadata": {
    "collapsed": false,
    "pycharm": {
     "name": "#%%\n"
    }
   }
  },
  {
   "cell_type": "code",
   "execution_count": 57,
   "outputs": [
    {
     "data": {
      "text/plain": "0.7046430050807206"
     },
     "execution_count": 57,
     "metadata": {},
     "output_type": "execute_result"
    }
   ],
   "source": [
    "np.mean(f1list)"
   ],
   "metadata": {
    "collapsed": false,
    "pycharm": {
     "name": "#%%\n"
    }
   }
  },
  {
   "cell_type": "code",
   "execution_count": 14,
   "outputs": [
    {
     "data": {
      "text/plain": "0.6418691502109095"
     },
     "execution_count": 14,
     "metadata": {},
     "output_type": "execute_result"
    }
   ],
   "source": [
    "X_test['got_votes_pred'] = rf_clf.predict(X_test)\n",
    "\n",
    "X_test_reg = X_test.loc[X_test.got_votes_pred == 1, X_test.drop(columns=['got_votes_pred']).columns]\n"
   ],
   "metadata": {
    "collapsed": false,
    "pycharm": {
     "name": "#%%\n"
    }
   }
  },
  {
   "cell_type": "code",
   "execution_count": 48,
   "outputs": [],
   "source": [
    "\n",
    "\n",
    "year = 2022\n",
    "\n",
    "X_train = X[X['Year_x'] != year].copy()\n",
    "X_test = X[X['Year_x'] == year].copy()\n",
    "y_train = y[y['Year_x'] != year].copy()\n",
    "y_test = y[y['Year_x'] == year].copy()\n",
    "for i in [X_train, X_test, y_train, y_test]:\n",
    "    i.drop(columns=['Year_x'], inplace=True)\n"
   ],
   "metadata": {
    "collapsed": false,
    "pycharm": {
     "name": "#%%\n"
    }
   }
  },
  {
   "cell_type": "code",
   "execution_count": 49,
   "outputs": [
    {
     "data": {
      "text/plain": "RandomForestRegressor()"
     },
     "execution_count": 49,
     "metadata": {},
     "output_type": "execute_result"
    }
   ],
   "source": [
    "rf = RandomForestRegressor()\n",
    "rf.fit(X_train,y_train['MVP_Share'])"
   ],
   "metadata": {
    "collapsed": false,
    "pycharm": {
     "name": "#%%\n"
    }
   }
  },
  {
   "cell_type": "code",
   "execution_count": 50,
   "outputs": [],
   "source": [
    "pred = rf.predict(X_test)"
   ],
   "metadata": {
    "collapsed": false,
    "pycharm": {
     "name": "#%%\n"
    }
   }
  },
  {
   "cell_type": "code",
   "execution_count": 51,
   "outputs": [
    {
     "name": "stdout",
     "output_type": "stream",
     "text": [
      "RMSE: 0.016\n",
      "MAE: 0.00214\n",
      "R2: 0.955\n"
     ]
    }
   ],
   "source": [
    "print(f'RMSE: {round(np.sqrt(metrics.mean_squared_error(y_test[\"MVP_Share\"],pred)),3)}')\n",
    "print(f'MAE: {round(metrics.mean_absolute_error(y_test[\"MVP_Share\"],pred),5)}')\n",
    "print(f'R2: {round(np.sqrt(metrics.r2_score(y_test[\"MVP_Share\"],pred)),3)}')"
   ],
   "metadata": {
    "collapsed": false,
    "pycharm": {
     "name": "#%%\n"
    }
   }
  },
  {
   "cell_type": "code",
   "execution_count": 51,
   "outputs": [],
   "source": [],
   "metadata": {
    "collapsed": false,
    "pycharm": {
     "name": "#%%\n"
    }
   }
  },
  {
   "cell_type": "code",
   "execution_count": 51,
   "outputs": [],
   "source": [],
   "metadata": {
    "collapsed": false,
    "pycharm": {
     "name": "#%%\n"
    }
   }
  },
  {
   "cell_type": "code",
   "execution_count": 52,
   "outputs": [
    {
     "data": {
      "text/plain": "                      Player  Pos  Age   Tm   G  GS    MP    FG   FGA    FG%  \\\n17948           Nikola Jokić    5   26  DEN  74  74  33.5  10.3  17.7  0.583   \n17670  Giannis Antetokounmpo    4   27  MIL  67  67  32.9  10.3  18.6  0.553   \n17820            Joel Embiid    5   27  PHI  68  68  33.8   9.8  19.6  0.499   \n17799            Luka Dončić    1   22  DAL  65  65  35.4   9.9  21.6  0.457   \n17932           LeBron James    4   37  LAL  56  56  37.2  11.4  21.8  0.524   \n18184           Jayson Tatum    3   23  BOS  76  76  35.9   9.3  20.6  0.453   \n17812           Kevin Durant    4   33  BRK  55  55  37.2  10.5  20.3  0.518   \n18260             Trae Young    1   23  ATL  76  76  34.9   9.4  20.3  0.460   \n17785          Anthony Davis    5   28  LAL  40  40  35.1   9.3  17.4  0.532   \n17717           Devin Booker    2   25  PHO  68  68  34.5   9.7  20.9  0.466   \n\n       ...   BPM  VORP  Year_x  MVP_Rank  MVP_First  MVP_Pts Won  MVP_Pts Max  \\\n17948  ...  13.7   9.8    2022       0.0       65.0        875.0       1000.0   \n17670  ...  11.2   7.4    2022       2.0        9.0        595.0       1000.0   \n17820  ...   9.2   6.5    2022       1.0       26.0        706.0       1000.0   \n17799  ...   8.2   5.9    2022       4.0        0.0        146.0       1000.0   \n17932  ...   7.7   5.1    2022       9.0        0.0          1.0       1000.0   \n18184  ...   4.9   4.8    2022       5.0        0.0         43.0       1000.0   \n17812  ...   7.2   4.8    2022       9.0        0.0          1.0       1000.0   \n18260  ...   5.2   4.8    2022       0.0        0.0          0.0          0.0   \n17785  ...   3.8   2.0    2022       0.0        0.0          0.0          0.0   \n17717  ...   4.1   3.6    2022       3.0        0.0        216.0       1000.0   \n\n       MVP_Share  Got_MVP_Votes  Pred_MVP_Share  \n17948      0.875              1         0.80690  \n17670      0.595              1         0.65720  \n17820      0.706              1         0.52880  \n17799      0.146              1         0.27883  \n17932      0.001              1         0.18416  \n18184      0.043              1         0.09783  \n17812      0.001              1         0.09714  \n18260      0.000              0         0.08321  \n17785      0.000              0         0.04566  \n17717      0.216              1         0.04047  \n\n[10 rows x 57 columns]",
      "text/html": "<div>\n<style scoped>\n    .dataframe tbody tr th:only-of-type {\n        vertical-align: middle;\n    }\n\n    .dataframe tbody tr th {\n        vertical-align: top;\n    }\n\n    .dataframe thead th {\n        text-align: right;\n    }\n</style>\n<table border=\"1\" class=\"dataframe\">\n  <thead>\n    <tr style=\"text-align: right;\">\n      <th></th>\n      <th>Player</th>\n      <th>Pos</th>\n      <th>Age</th>\n      <th>Tm</th>\n      <th>G</th>\n      <th>GS</th>\n      <th>MP</th>\n      <th>FG</th>\n      <th>FGA</th>\n      <th>FG%</th>\n      <th>...</th>\n      <th>BPM</th>\n      <th>VORP</th>\n      <th>Year_x</th>\n      <th>MVP_Rank</th>\n      <th>MVP_First</th>\n      <th>MVP_Pts Won</th>\n      <th>MVP_Pts Max</th>\n      <th>MVP_Share</th>\n      <th>Got_MVP_Votes</th>\n      <th>Pred_MVP_Share</th>\n    </tr>\n  </thead>\n  <tbody>\n    <tr>\n      <th>17948</th>\n      <td>Nikola Jokić</td>\n      <td>5</td>\n      <td>26</td>\n      <td>DEN</td>\n      <td>74</td>\n      <td>74</td>\n      <td>33.5</td>\n      <td>10.3</td>\n      <td>17.7</td>\n      <td>0.583</td>\n      <td>...</td>\n      <td>13.7</td>\n      <td>9.8</td>\n      <td>2022</td>\n      <td>0.0</td>\n      <td>65.0</td>\n      <td>875.0</td>\n      <td>1000.0</td>\n      <td>0.875</td>\n      <td>1</td>\n      <td>0.80690</td>\n    </tr>\n    <tr>\n      <th>17670</th>\n      <td>Giannis Antetokounmpo</td>\n      <td>4</td>\n      <td>27</td>\n      <td>MIL</td>\n      <td>67</td>\n      <td>67</td>\n      <td>32.9</td>\n      <td>10.3</td>\n      <td>18.6</td>\n      <td>0.553</td>\n      <td>...</td>\n      <td>11.2</td>\n      <td>7.4</td>\n      <td>2022</td>\n      <td>2.0</td>\n      <td>9.0</td>\n      <td>595.0</td>\n      <td>1000.0</td>\n      <td>0.595</td>\n      <td>1</td>\n      <td>0.65720</td>\n    </tr>\n    <tr>\n      <th>17820</th>\n      <td>Joel Embiid</td>\n      <td>5</td>\n      <td>27</td>\n      <td>PHI</td>\n      <td>68</td>\n      <td>68</td>\n      <td>33.8</td>\n      <td>9.8</td>\n      <td>19.6</td>\n      <td>0.499</td>\n      <td>...</td>\n      <td>9.2</td>\n      <td>6.5</td>\n      <td>2022</td>\n      <td>1.0</td>\n      <td>26.0</td>\n      <td>706.0</td>\n      <td>1000.0</td>\n      <td>0.706</td>\n      <td>1</td>\n      <td>0.52880</td>\n    </tr>\n    <tr>\n      <th>17799</th>\n      <td>Luka Dončić</td>\n      <td>1</td>\n      <td>22</td>\n      <td>DAL</td>\n      <td>65</td>\n      <td>65</td>\n      <td>35.4</td>\n      <td>9.9</td>\n      <td>21.6</td>\n      <td>0.457</td>\n      <td>...</td>\n      <td>8.2</td>\n      <td>5.9</td>\n      <td>2022</td>\n      <td>4.0</td>\n      <td>0.0</td>\n      <td>146.0</td>\n      <td>1000.0</td>\n      <td>0.146</td>\n      <td>1</td>\n      <td>0.27883</td>\n    </tr>\n    <tr>\n      <th>17932</th>\n      <td>LeBron James</td>\n      <td>4</td>\n      <td>37</td>\n      <td>LAL</td>\n      <td>56</td>\n      <td>56</td>\n      <td>37.2</td>\n      <td>11.4</td>\n      <td>21.8</td>\n      <td>0.524</td>\n      <td>...</td>\n      <td>7.7</td>\n      <td>5.1</td>\n      <td>2022</td>\n      <td>9.0</td>\n      <td>0.0</td>\n      <td>1.0</td>\n      <td>1000.0</td>\n      <td>0.001</td>\n      <td>1</td>\n      <td>0.18416</td>\n    </tr>\n    <tr>\n      <th>18184</th>\n      <td>Jayson Tatum</td>\n      <td>3</td>\n      <td>23</td>\n      <td>BOS</td>\n      <td>76</td>\n      <td>76</td>\n      <td>35.9</td>\n      <td>9.3</td>\n      <td>20.6</td>\n      <td>0.453</td>\n      <td>...</td>\n      <td>4.9</td>\n      <td>4.8</td>\n      <td>2022</td>\n      <td>5.0</td>\n      <td>0.0</td>\n      <td>43.0</td>\n      <td>1000.0</td>\n      <td>0.043</td>\n      <td>1</td>\n      <td>0.09783</td>\n    </tr>\n    <tr>\n      <th>17812</th>\n      <td>Kevin Durant</td>\n      <td>4</td>\n      <td>33</td>\n      <td>BRK</td>\n      <td>55</td>\n      <td>55</td>\n      <td>37.2</td>\n      <td>10.5</td>\n      <td>20.3</td>\n      <td>0.518</td>\n      <td>...</td>\n      <td>7.2</td>\n      <td>4.8</td>\n      <td>2022</td>\n      <td>9.0</td>\n      <td>0.0</td>\n      <td>1.0</td>\n      <td>1000.0</td>\n      <td>0.001</td>\n      <td>1</td>\n      <td>0.09714</td>\n    </tr>\n    <tr>\n      <th>18260</th>\n      <td>Trae Young</td>\n      <td>1</td>\n      <td>23</td>\n      <td>ATL</td>\n      <td>76</td>\n      <td>76</td>\n      <td>34.9</td>\n      <td>9.4</td>\n      <td>20.3</td>\n      <td>0.460</td>\n      <td>...</td>\n      <td>5.2</td>\n      <td>4.8</td>\n      <td>2022</td>\n      <td>0.0</td>\n      <td>0.0</td>\n      <td>0.0</td>\n      <td>0.0</td>\n      <td>0.000</td>\n      <td>0</td>\n      <td>0.08321</td>\n    </tr>\n    <tr>\n      <th>17785</th>\n      <td>Anthony Davis</td>\n      <td>5</td>\n      <td>28</td>\n      <td>LAL</td>\n      <td>40</td>\n      <td>40</td>\n      <td>35.1</td>\n      <td>9.3</td>\n      <td>17.4</td>\n      <td>0.532</td>\n      <td>...</td>\n      <td>3.8</td>\n      <td>2.0</td>\n      <td>2022</td>\n      <td>0.0</td>\n      <td>0.0</td>\n      <td>0.0</td>\n      <td>0.0</td>\n      <td>0.000</td>\n      <td>0</td>\n      <td>0.04566</td>\n    </tr>\n    <tr>\n      <th>17717</th>\n      <td>Devin Booker</td>\n      <td>2</td>\n      <td>25</td>\n      <td>PHO</td>\n      <td>68</td>\n      <td>68</td>\n      <td>34.5</td>\n      <td>9.7</td>\n      <td>20.9</td>\n      <td>0.466</td>\n      <td>...</td>\n      <td>4.1</td>\n      <td>3.6</td>\n      <td>2022</td>\n      <td>3.0</td>\n      <td>0.0</td>\n      <td>216.0</td>\n      <td>1000.0</td>\n      <td>0.216</td>\n      <td>1</td>\n      <td>0.04047</td>\n    </tr>\n  </tbody>\n</table>\n<p>10 rows × 57 columns</p>\n</div>"
     },
     "execution_count": 52,
     "metadata": {},
     "output_type": "execute_result"
    }
   ],
   "source": [
    "df.loc[X_test.index,'Pred_MVP_Share'] = pred\n",
    "\n",
    "\n",
    "\n",
    "df.loc[X_test.index,:].sort_values('Pred_MVP_Share',ascending=False).head(10)"
   ],
   "metadata": {
    "collapsed": false,
    "pycharm": {
     "name": "#%%\n"
    }
   }
  },
  {
   "cell_type": "code",
   "execution_count": 53,
   "outputs": [],
   "source": [
    "X_test['Pred_MVP_Share'] = pred"
   ],
   "metadata": {
    "collapsed": false,
    "pycharm": {
     "name": "#%%\n"
    }
   }
  },
  {
   "cell_type": "code",
   "execution_count": 55,
   "outputs": [
    {
     "data": {
      "text/plain": "<Figure size 1500x1000 with 1 Axes>",
      "image/png": "[encoded data removed]"
     },
     "metadata": {},
     "output_type": "display_data"
    }
   ],
   "source": [
    "plt.rcdefaults()\n",
    "sns.set_style('whitegrid')\n",
    "\n",
    "\n",
    "plt.figure(figsize=(15,10))\n",
    "# X_test['Pred_MVP_Share'] =X_test['Pred_MVP_Share'] *100\n",
    "\n",
    "sns.barplot(x='Pred_MVP_Share', y='Player',\n",
    "            data=X_test.sort_values('Pred_MVP_Share', ascending=False)[:10],palette=sns.color_palette('flare',10))\n",
    "plt.xticks([i for i in range(0, 110, 10)])\n",
    "plt.ylabel('')\n",
    "plt.title(f'Predicted Top 10 Vote Getters \\n{year}',fontdict={'size':22,})\n",
    "\n",
    "# plt.savefig(f'Predicted Top 10 Vote Getters {year}.png',dpi=400)\n",
    "\n",
    "plt.show()"
   ],
   "metadata": {
    "collapsed": false,
    "pycharm": {
     "name": "#%%\n"
    }
   }
  },
  {
   "cell_type": "code",
   "execution_count": 54,
   "outputs": [],
   "source": [
    "X_test['Player'] = df.loc[X_test.index,'Player']"
   ],
   "metadata": {
    "collapsed": false,
    "pycharm": {
     "name": "#%%\n"
    }
   }
  },
  {
   "cell_type": "code",
   "execution_count": null,
   "outputs": [],
   "source": [],
   "metadata": {
    "collapsed": false,
    "pycharm": {
     "name": "#%%\n"
    }
   }
  }
 ],
 "metadata": {
  "kernelspec": {
   "display_name": "Python 3",
   "language": "python",
   "name": "python3"
  },
  "language_info": {
   "codemirror_mode": {
    "name": "ipython",
    "version": 2
   },
   "file_extension": ".py",
   "mimetype": "text/x-python",
   "name": "python",
   "nbconvert_exporter": "python",
   "pygments_lexer": "ipython2",
   "version": "2.7.6"
  }
 },
 "nbformat": 4,
 "nbformat_minor": 0
}