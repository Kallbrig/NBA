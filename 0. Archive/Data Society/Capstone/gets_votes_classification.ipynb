{
 "cells": [
  {
   "cell_type": "code",
   "execution_count": 473,
   "metadata": {
    "collapsed": true
   },
   "outputs": [],
   "source": [
    "import matplotlib.pyplot as plt\n",
    "import pandas as pd\n",
    "import numpy as np\n",
    "from sklearn.tree import DecisionTreeClassifier\n",
    "from sklearn.ensemble import RandomForestClassifier,RandomForestRegressor\n",
    "from sklearn import metrics\n",
    "\n",
    "from sklearn.preprocessing import StandardScaler, MinMaxScaler\n",
    "\n",
    "import seaborn as sns\n",
    "\n",
    "sns.set_style('whitegrid')"
   ]
  },
  {
   "cell_type": "code",
   "execution_count": 474,
   "outputs": [],
   "source": [
    "df = pd.read_csv('Full Dataset.csv',index_col=0)\n",
    "df_copy = df.copy()"
   ],
   "metadata": {
    "collapsed": false,
    "pycharm": {
     "name": "#%%\n"
    }
   }
  },
  {
   "cell_type": "code",
   "execution_count": 501,
   "outputs": [
    {
     "data": {
      "text/plain": "<AxesSubplot:xlabel='MVP_Share_scaled', ylabel='Player'>"
     },
     "execution_count": 501,
     "metadata": {},
     "output_type": "execute_result"
    },
    {
     "data": {
      "text/plain": "<Figure size 432x288 with 1 Axes>",
      "image/png": "[encoded data removed]"
     },
     "metadata": {},
     "output_type": "display_data"
    }
   ],
   "source": [
    "df = df_copy.copy()\n",
    "\n",
    "# df.sort_values('MVP_Share',ascending=False)\n",
    "year = 1987\n",
    "# sns.barplot(x='MVP_Share',y='Player',data=df.sort_values('MVP_Share',ascending=False)[:10],ci=False)\n",
    "\n",
    "df = df[(df['MVP_Share'] != 0) & (df['Year_x'] == year)]\n",
    "\n",
    "std = StandardScaler()\n",
    "mvp_share_scaled = std.fit_transform(df[['MVP_Share']])\n",
    "\n",
    "df['MVP_Share_scaled'] = mvp_share_scaled\n",
    "sns.barplot(x='MVP_Share_scaled',y='Player',label='Year_x',data=df.sort_values('MVP_Share',ascending=False).head(8),ci=False)\n",
    "\n",
    "\n",
    "# df.sort_values('MVP_Share_scaled',ascending=False)\n",
    "# plt.xlim((0.95,1))"
   ],
   "metadata": {
    "collapsed": false,
    "pycharm": {
     "name": "#%%\n"
    }
   }
  },
  {
   "cell_type": "code",
   "execution_count": 502,
   "outputs": [
    {
     "data": {
      "text/plain": "0.0    17594\n1.0      670\nName: MVP_Votes_Bool, dtype: int64"
     },
     "execution_count": 502,
     "metadata": {},
     "output_type": "execute_result"
    }
   ],
   "source": [
    "df = df_copy.copy()\n",
    "\n",
    "df.loc[(df['MVP_Share'] != 0),['MVP_Votes_Bool']] = 1\n",
    "\n",
    "df.loc[df['MVP_Votes_Bool'] != 1,['MVP_Votes_Bool']] = 0\n",
    "df.MVP_Votes_Bool = pd.Categorical(df.loc[:,'MVP_Votes_Bool'])\n",
    "\n",
    "\n",
    "df.MVP_Votes_Bool.value_counts()"
   ],
   "metadata": {
    "collapsed": false,
    "pycharm": {
     "name": "#%%\n"
    }
   }
  },
  {
   "cell_type": "code",
   "execution_count": 503,
   "outputs": [],
   "source": [
    "reg_feat_list = ['VORP','WS','BPM','PTS','PER','TOV','FT']\n",
    "clf_feat_list = ['Pos', 'Age', 'G', 'MP', 'FG', 'FGA', 'FG%', '3P', '3PA', '3P%', '2P',\n",
    "       '2PA', '2P%', 'eFG%', 'FT', 'FTA', 'FT%', 'ORB', 'DRB', 'TRB', 'AST',\n",
    "       'STL', 'BLK', 'TOV', 'PF', 'PTS', 'PER', 'TS%', '3PAr', 'FTr', 'ORB%',\n",
    "       'DRB%', 'TRB%', 'AST%', 'STL%', 'BLK%', 'TOV%', 'USG%', 'OWS', 'DWS',\n",
    "       'WS', 'WS/48', 'OBPM', 'DBPM', 'BPM', 'VORP']\n"
   ],
   "metadata": {
    "collapsed": false,
    "pycharm": {
     "name": "#%%\n"
    }
   }
  },
  {
   "cell_type": "code",
   "execution_count": 504,
   "outputs": [
    {
     "data": {
      "text/plain": "       Pos  Age   G    MP    FG   FGA    FG%   3P  3PA    3P%  ...  TOV%  \\\n0        5   32  82  38.3  10.2  16.9  0.604  0.0  0.0  0.000  ...  15.7   \n3        1   31  80  35.8   4.8   9.9  0.482  0.1  0.2  0.222  ...  19.7   \n17       4   23  82  36.0   8.5  17.8  0.474  0.7  1.7  0.406  ...  14.0   \n84       3   29  78  36.1  10.7  20.7  0.519  0.1  0.3  0.200  ...  13.3   \n97       2   27  78  37.6  13.1  24.9  0.528  0.4  1.3  0.314  ...  10.3   \n...    ...  ...  ..   ...   ...   ...    ...  ...  ...    ...  ...   ...   \n17932    4   37  56  37.2  11.4  21.8  0.524  2.9  8.0  0.359  ...  12.5   \n17948    5   26  74  33.5  10.3  17.7  0.583  1.3  3.9  0.337  ...  15.6   \n18048    1   22  57  33.1  10.2  20.6  0.493  1.5  4.5  0.344  ...  12.6   \n18096    1   36  65  32.9   5.6  11.3  0.493  1.0  3.1  0.317  ...  15.6   \n18184    3   23  76  35.9   9.3  20.6  0.453  3.0  8.6  0.353  ...  10.9   \n\n       USG%   OWS  DWS    WS  WS/48  OBPM  DBPM   BPM  VORP  \n0      24.1   9.5  5.3  14.8  0.227   4.8   2.4   7.2   7.3  \n3      17.0   5.9  2.9   8.9  0.148   1.4  -0.3   1.1   2.3  \n17     25.3   5.6  5.6  11.2  0.182   3.0   1.5   4.5   4.8  \n84     30.3   7.3  5.2  12.5  0.213   5.7   1.9   7.6   6.8  \n97     31.7   9.3  1.3  10.6  0.173   5.5  -1.6   3.9   4.4  \n...     ...   ...  ...   ...    ...   ...   ...   ...   ...  \n17932  32.3   5.2  2.3   7.5  0.172   6.9   0.8   7.7   5.1  \n17948  31.9  10.8  4.5  15.2  0.296   9.2   4.5  13.7   9.8  \n18048  33.7   4.6  2.1   6.7  0.171   6.2  -0.1   6.1   3.9  \n18096  19.7   5.8  3.6   9.4  0.210   3.1   2.3   5.4   4.0  \n18184  32.1   5.0  4.6   9.6  0.169   4.3   0.6   4.9   4.8  \n\n[655 rows x 46 columns]",
      "text/html": "<div>\n<style scoped>\n    .dataframe tbody tr th:only-of-type {\n        vertical-align: middle;\n    }\n\n    .dataframe tbody tr th {\n        vertical-align: top;\n    }\n\n    .dataframe thead th {\n        text-align: right;\n    }\n</style>\n<table border=\"1\" class=\"dataframe\">\n  <thead>\n    <tr style=\"text-align: right;\">\n      <th></th>\n      <th>Pos</th>\n      <th>Age</th>\n      <th>G</th>\n      <th>MP</th>\n      <th>FG</th>\n      <th>FGA</th>\n      <th>FG%</th>\n      <th>3P</th>\n      <th>3PA</th>\n      <th>3P%</th>\n      <th>...</th>\n      <th>TOV%</th>\n      <th>USG%</th>\n      <th>OWS</th>\n      <th>DWS</th>\n      <th>WS</th>\n      <th>WS/48</th>\n      <th>OBPM</th>\n      <th>DBPM</th>\n      <th>BPM</th>\n      <th>VORP</th>\n    </tr>\n  </thead>\n  <tbody>\n    <tr>\n      <th>0</th>\n      <td>5</td>\n      <td>32</td>\n      <td>82</td>\n      <td>38.3</td>\n      <td>10.2</td>\n      <td>16.9</td>\n      <td>0.604</td>\n      <td>0.0</td>\n      <td>0.0</td>\n      <td>0.000</td>\n      <td>...</td>\n      <td>15.7</td>\n      <td>24.1</td>\n      <td>9.5</td>\n      <td>5.3</td>\n      <td>14.8</td>\n      <td>0.227</td>\n      <td>4.8</td>\n      <td>2.4</td>\n      <td>7.2</td>\n      <td>7.3</td>\n    </tr>\n    <tr>\n      <th>3</th>\n      <td>1</td>\n      <td>31</td>\n      <td>80</td>\n      <td>35.8</td>\n      <td>4.8</td>\n      <td>9.9</td>\n      <td>0.482</td>\n      <td>0.1</td>\n      <td>0.2</td>\n      <td>0.222</td>\n      <td>...</td>\n      <td>19.7</td>\n      <td>17.0</td>\n      <td>5.9</td>\n      <td>2.9</td>\n      <td>8.9</td>\n      <td>0.148</td>\n      <td>1.4</td>\n      <td>-0.3</td>\n      <td>1.1</td>\n      <td>2.3</td>\n    </tr>\n    <tr>\n      <th>17</th>\n      <td>4</td>\n      <td>23</td>\n      <td>82</td>\n      <td>36.0</td>\n      <td>8.5</td>\n      <td>17.8</td>\n      <td>0.474</td>\n      <td>0.7</td>\n      <td>1.7</td>\n      <td>0.406</td>\n      <td>...</td>\n      <td>14.0</td>\n      <td>25.3</td>\n      <td>5.6</td>\n      <td>5.6</td>\n      <td>11.2</td>\n      <td>0.182</td>\n      <td>3.0</td>\n      <td>1.5</td>\n      <td>4.5</td>\n      <td>4.8</td>\n    </tr>\n    <tr>\n      <th>84</th>\n      <td>3</td>\n      <td>29</td>\n      <td>78</td>\n      <td>36.1</td>\n      <td>10.7</td>\n      <td>20.7</td>\n      <td>0.519</td>\n      <td>0.1</td>\n      <td>0.3</td>\n      <td>0.200</td>\n      <td>...</td>\n      <td>13.3</td>\n      <td>30.3</td>\n      <td>7.3</td>\n      <td>5.2</td>\n      <td>12.5</td>\n      <td>0.213</td>\n      <td>5.7</td>\n      <td>1.9</td>\n      <td>7.6</td>\n      <td>6.8</td>\n    </tr>\n    <tr>\n      <th>97</th>\n      <td>2</td>\n      <td>27</td>\n      <td>78</td>\n      <td>37.6</td>\n      <td>13.1</td>\n      <td>24.9</td>\n      <td>0.528</td>\n      <td>0.4</td>\n      <td>1.3</td>\n      <td>0.314</td>\n      <td>...</td>\n      <td>10.3</td>\n      <td>31.7</td>\n      <td>9.3</td>\n      <td>1.3</td>\n      <td>10.6</td>\n      <td>0.173</td>\n      <td>5.5</td>\n      <td>-1.6</td>\n      <td>3.9</td>\n      <td>4.4</td>\n    </tr>\n    <tr>\n      <th>...</th>\n      <td>...</td>\n      <td>...</td>\n      <td>...</td>\n      <td>...</td>\n      <td>...</td>\n      <td>...</td>\n      <td>...</td>\n      <td>...</td>\n      <td>...</td>\n      <td>...</td>\n      <td>...</td>\n      <td>...</td>\n      <td>...</td>\n      <td>...</td>\n      <td>...</td>\n      <td>...</td>\n      <td>...</td>\n      <td>...</td>\n      <td>...</td>\n      <td>...</td>\n      <td>...</td>\n    </tr>\n    <tr>\n      <th>17932</th>\n      <td>4</td>\n      <td>37</td>\n      <td>56</td>\n      <td>37.2</td>\n      <td>11.4</td>\n      <td>21.8</td>\n      <td>0.524</td>\n      <td>2.9</td>\n      <td>8.0</td>\n      <td>0.359</td>\n      <td>...</td>\n      <td>12.5</td>\n      <td>32.3</td>\n      <td>5.2</td>\n      <td>2.3</td>\n      <td>7.5</td>\n      <td>0.172</td>\n      <td>6.9</td>\n      <td>0.8</td>\n      <td>7.7</td>\n      <td>5.1</td>\n    </tr>\n    <tr>\n      <th>17948</th>\n      <td>5</td>\n      <td>26</td>\n      <td>74</td>\n      <td>33.5</td>\n      <td>10.3</td>\n      <td>17.7</td>\n      <td>0.583</td>\n      <td>1.3</td>\n      <td>3.9</td>\n      <td>0.337</td>\n      <td>...</td>\n      <td>15.6</td>\n      <td>31.9</td>\n      <td>10.8</td>\n      <td>4.5</td>\n      <td>15.2</td>\n      <td>0.296</td>\n      <td>9.2</td>\n      <td>4.5</td>\n      <td>13.7</td>\n      <td>9.8</td>\n    </tr>\n    <tr>\n      <th>18048</th>\n      <td>1</td>\n      <td>22</td>\n      <td>57</td>\n      <td>33.1</td>\n      <td>10.2</td>\n      <td>20.6</td>\n      <td>0.493</td>\n      <td>1.5</td>\n      <td>4.5</td>\n      <td>0.344</td>\n      <td>...</td>\n      <td>12.6</td>\n      <td>33.7</td>\n      <td>4.6</td>\n      <td>2.1</td>\n      <td>6.7</td>\n      <td>0.171</td>\n      <td>6.2</td>\n      <td>-0.1</td>\n      <td>6.1</td>\n      <td>3.9</td>\n    </tr>\n    <tr>\n      <th>18096</th>\n      <td>1</td>\n      <td>36</td>\n      <td>65</td>\n      <td>32.9</td>\n      <td>5.6</td>\n      <td>11.3</td>\n      <td>0.493</td>\n      <td>1.0</td>\n      <td>3.1</td>\n      <td>0.317</td>\n      <td>...</td>\n      <td>15.6</td>\n      <td>19.7</td>\n      <td>5.8</td>\n      <td>3.6</td>\n      <td>9.4</td>\n      <td>0.210</td>\n      <td>3.1</td>\n      <td>2.3</td>\n      <td>5.4</td>\n      <td>4.0</td>\n    </tr>\n    <tr>\n      <th>18184</th>\n      <td>3</td>\n      <td>23</td>\n      <td>76</td>\n      <td>35.9</td>\n      <td>9.3</td>\n      <td>20.6</td>\n      <td>0.453</td>\n      <td>3.0</td>\n      <td>8.6</td>\n      <td>0.353</td>\n      <td>...</td>\n      <td>10.9</td>\n      <td>32.1</td>\n      <td>5.0</td>\n      <td>4.6</td>\n      <td>9.6</td>\n      <td>0.169</td>\n      <td>4.3</td>\n      <td>0.6</td>\n      <td>4.9</td>\n      <td>4.8</td>\n    </tr>\n  </tbody>\n</table>\n<p>655 rows × 46 columns</p>\n</div>"
     },
     "execution_count": 504,
     "metadata": {},
     "output_type": "execute_result"
    }
   ],
   "source": [
    "\n",
    "# year = 2016\n",
    "\n",
    "\n",
    "train_data  = df[(df['Year_x'] != year)].copy()\n",
    "\n",
    "X_train_clf = train_data.loc[:,clf_feat_list]\n",
    "X_train_reg = train_data.loc[train_data['MVP_Votes_Bool'] == 1,clf_feat_list]\n",
    "y_train_clf = train_data.MVP_Votes_Bool\n",
    "y_train_reg = train_data.loc[train_data['MVP_Votes_Bool'] == 1,['MVP_Share']]\n",
    "\n",
    "X_train_reg"
   ],
   "metadata": {
    "collapsed": false,
    "pycharm": {
     "name": "#%%\n"
    }
   }
  },
  {
   "cell_type": "code",
   "execution_count": 505,
   "outputs": [
    {
     "data": {
      "text/plain": "      VORP    WS   BPM   PTS   PER  TOV    FT\n2169   3.4   8.9   3.1  25.7  22.1  2.7   5.4\n2179   6.0  12.0   6.7  23.0  25.1  4.7   6.3\n2186   8.6  15.2   9.4  28.1  26.4  3.2   5.6\n2189   2.1   8.0   1.0  21.0  18.1  2.2   5.2\n2247   3.1   8.1   1.9  28.6  20.5  2.6   5.0\n2296   8.0  15.9   8.8  23.9  27.0  3.8   6.7\n2304  10.6  16.9  10.8  37.1  29.8  3.3  10.2\n2319   5.4   9.7   5.0  18.9  20.8  2.0   3.0\n2329   1.7   6.9   0.3  21.7  18.0  2.9   3.9\n2330   3.0   9.4   2.8  24.1  23.8  2.8   7.8\n2344   5.5  14.8   5.1  26.1  24.0  2.6   5.6\n2369   5.4  10.9   5.8  23.4  23.8  3.0   5.3\n2373   2.4   9.2   1.2  17.5  17.7  2.4   2.8\n2436   4.0   7.6   3.3  20.6  18.8  4.2   4.9\n2475   5.6  12.2   5.5  29.0  23.5  2.7   7.7",
      "text/html": "<div>\n<style scoped>\n    .dataframe tbody tr th:only-of-type {\n        vertical-align: middle;\n    }\n\n    .dataframe tbody tr th {\n        vertical-align: top;\n    }\n\n    .dataframe thead th {\n        text-align: right;\n    }\n</style>\n<table border=\"1\" class=\"dataframe\">\n  <thead>\n    <tr style=\"text-align: right;\">\n      <th></th>\n      <th>VORP</th>\n      <th>WS</th>\n      <th>BPM</th>\n      <th>PTS</th>\n      <th>PER</th>\n      <th>TOV</th>\n      <th>FT</th>\n    </tr>\n  </thead>\n  <tbody>\n    <tr>\n      <th>2169</th>\n      <td>3.4</td>\n      <td>8.9</td>\n      <td>3.1</td>\n      <td>25.7</td>\n      <td>22.1</td>\n      <td>2.7</td>\n      <td>5.4</td>\n    </tr>\n    <tr>\n      <th>2179</th>\n      <td>6.0</td>\n      <td>12.0</td>\n      <td>6.7</td>\n      <td>23.0</td>\n      <td>25.1</td>\n      <td>4.7</td>\n      <td>6.3</td>\n    </tr>\n    <tr>\n      <th>2186</th>\n      <td>8.6</td>\n      <td>15.2</td>\n      <td>9.4</td>\n      <td>28.1</td>\n      <td>26.4</td>\n      <td>3.2</td>\n      <td>5.6</td>\n    </tr>\n    <tr>\n      <th>2189</th>\n      <td>2.1</td>\n      <td>8.0</td>\n      <td>1.0</td>\n      <td>21.0</td>\n      <td>18.1</td>\n      <td>2.2</td>\n      <td>5.2</td>\n    </tr>\n    <tr>\n      <th>2247</th>\n      <td>3.1</td>\n      <td>8.1</td>\n      <td>1.9</td>\n      <td>28.6</td>\n      <td>20.5</td>\n      <td>2.6</td>\n      <td>5.0</td>\n    </tr>\n    <tr>\n      <th>2296</th>\n      <td>8.0</td>\n      <td>15.9</td>\n      <td>8.8</td>\n      <td>23.9</td>\n      <td>27.0</td>\n      <td>3.8</td>\n      <td>6.7</td>\n    </tr>\n    <tr>\n      <th>2304</th>\n      <td>10.6</td>\n      <td>16.9</td>\n      <td>10.8</td>\n      <td>37.1</td>\n      <td>29.8</td>\n      <td>3.3</td>\n      <td>10.2</td>\n    </tr>\n    <tr>\n      <th>2319</th>\n      <td>5.4</td>\n      <td>9.7</td>\n      <td>5.0</td>\n      <td>18.9</td>\n      <td>20.8</td>\n      <td>2.0</td>\n      <td>3.0</td>\n    </tr>\n    <tr>\n      <th>2329</th>\n      <td>1.7</td>\n      <td>6.9</td>\n      <td>0.3</td>\n      <td>21.7</td>\n      <td>18.0</td>\n      <td>2.9</td>\n      <td>3.9</td>\n    </tr>\n    <tr>\n      <th>2330</th>\n      <td>3.0</td>\n      <td>9.4</td>\n      <td>2.8</td>\n      <td>24.1</td>\n      <td>23.8</td>\n      <td>2.8</td>\n      <td>7.8</td>\n    </tr>\n    <tr>\n      <th>2344</th>\n      <td>5.5</td>\n      <td>14.8</td>\n      <td>5.1</td>\n      <td>26.1</td>\n      <td>24.0</td>\n      <td>2.6</td>\n      <td>5.6</td>\n    </tr>\n    <tr>\n      <th>2369</th>\n      <td>5.4</td>\n      <td>10.9</td>\n      <td>5.8</td>\n      <td>23.4</td>\n      <td>23.8</td>\n      <td>3.0</td>\n      <td>5.3</td>\n    </tr>\n    <tr>\n      <th>2373</th>\n      <td>2.4</td>\n      <td>9.2</td>\n      <td>1.2</td>\n      <td>17.5</td>\n      <td>17.7</td>\n      <td>2.4</td>\n      <td>2.8</td>\n    </tr>\n    <tr>\n      <th>2436</th>\n      <td>4.0</td>\n      <td>7.6</td>\n      <td>3.3</td>\n      <td>20.6</td>\n      <td>18.8</td>\n      <td>4.2</td>\n      <td>4.9</td>\n    </tr>\n    <tr>\n      <th>2475</th>\n      <td>5.6</td>\n      <td>12.2</td>\n      <td>5.5</td>\n      <td>29.0</td>\n      <td>23.5</td>\n      <td>2.7</td>\n      <td>7.7</td>\n    </tr>\n  </tbody>\n</table>\n</div>"
     },
     "execution_count": 505,
     "metadata": {},
     "output_type": "execute_result"
    }
   ],
   "source": [
    "from sklearn.model_selection import train_test_split\n",
    "\n",
    "\n",
    "test_data  = df[(df['Year_x'] == year)].copy()\n",
    "\n",
    "X_test_clf = test_data.loc[:,clf_feat_list]\n",
    "X_test_reg = test_data.loc[test_data['MVP_Votes_Bool'] == 1,reg_feat_list]\n",
    "y_test_clf = test_data.MVP_Votes_Bool\n",
    "y_test_reg = test_data.MVP_Share\n",
    "\n",
    "X_test_reg"
   ],
   "metadata": {
    "collapsed": false,
    "pycharm": {
     "name": "#%%\n"
    }
   }
  },
  {
   "cell_type": "code",
   "execution_count": 506,
   "outputs": [
    {
     "name": "stdout",
     "output_type": "stream",
     "text": [
      "RandomForestClassifier() Accuracy: 98.2%\n"
     ]
    },
    {
     "data": {
      "text/plain": "<Figure size 432x288 with 1 Axes>",
      "image/png": "[encoded data removed]"
     },
     "metadata": {},
     "output_type": "display_data"
    },
    {
     "name": "stdout",
     "output_type": "stream",
     "text": [
      "DecisionTreeClassifier() Accuracy: 95.21%\n"
     ]
    },
    {
     "data": {
      "text/plain": "<Figure size 432x288 with 1 Axes>",
      "image/png": "[encoded data removed]"
     },
     "metadata": {},
     "output_type": "display_data"
    }
   ],
   "source": [
    "\n",
    "for clf in [RandomForestClassifier(),DecisionTreeClassifier(),]:\n",
    "    clf.fit(X_train_clf,y_train_clf)\n",
    "    # feature_importance = clf.feature_importances_\n",
    "\n",
    "    print(f'{clf} Accuracy: {round(clf.score(X_test_clf,y_test_clf)*100,2)}%')\n",
    "\n",
    "    feature_importances = pd.Series(clf.feature_importances_, index=X_train_clf.columns).reset_index()\n",
    "\n",
    "    # feature_importances = feature_importances.reset_index()\n",
    "    feature_importances.columns = ['index','feat_imp']\n",
    "\n",
    "    sns.barplot(x='feat_imp',y='index',data=feature_importances.nlargest(10,columns=['feat_imp']).sort_values(ascending=False,by='feat_imp'))\n",
    "    plt.show()"
   ],
   "metadata": {
    "collapsed": false,
    "pycharm": {
     "name": "#%%\n"
    }
   }
  },
  {
   "cell_type": "code",
   "execution_count": 506,
   "outputs": [],
   "source": [],
   "metadata": {
    "collapsed": false,
    "pycharm": {
     "name": "#%%\n"
    }
   }
  },
  {
   "cell_type": "code",
   "execution_count": 507,
   "outputs": [
    {
     "data": {
      "text/plain": "RandomForestClassifier()"
     },
     "execution_count": 507,
     "metadata": {},
     "output_type": "execute_result"
    }
   ],
   "source": [
    "clf = RandomForestClassifier()\n",
    "clf.fit(X_train_clf[clf_feat_list],y_train_clf)\n"
   ],
   "metadata": {
    "collapsed": false,
    "pycharm": {
     "name": "#%%\n"
    }
   }
  },
  {
   "cell_type": "code",
   "execution_count": 508,
   "outputs": [
    {
     "data": {
      "text/plain": "      Pos  Age   G    MP    FG   FGA    FG%   3P  3PA    3P%  ...  USG%   OWS  \\\n2169    3   27  80  33.3   9.8  19.9  0.495  0.7  1.9  0.353  ...  31.3   6.8   \n2179    4   23  68  40.3   8.2  13.8  0.594  0.3  1.5  0.202  ...  23.1   7.7   \n2186    3   30  74  40.6  10.6  20.2  0.525  1.2  3.0  0.400  ...  27.5  10.4   \n2236    2   24  82  38.0   8.6  17.2  0.502  0.1  0.6  0.234  ...  23.6   6.6   \n2247    3   33  82  37.6  11.8  23.4  0.503  0.0  0.2  0.267  ...  29.2   7.0   \n2254    1   26  82  37.4   6.1  12.6  0.488  0.9  2.3  0.384  ...  20.3   8.3   \n2296    1   27  80  36.3   8.5  16.4  0.522  0.1  0.5  0.205  ...  26.3  12.1   \n2304    2   23  82  40.0  13.4  27.8  0.482  0.1  0.8  0.182  ...  38.3  11.9   \n2330    5   31  73  34.1   8.2  18.0  0.454  0.0  0.2  0.000  ...  29.3   6.0   \n2344    4   29  77  39.7  10.3  17.0  0.604  0.0  0.1  0.000  ...  24.1  10.8   \n2369    5   24  75  36.8   9.0  17.8  0.508  0.0  0.1  0.200  ...  26.8   4.9   \n2436    1   25  81  37.2   7.7  16.7  0.463  0.2  1.2  0.194  ...  25.9   3.8   \n2475    3   27  79  37.6  10.5  22.6  0.463  0.4  1.3  0.292  ...  32.3   8.4   \n\n      DWS    WS  WS/48  OBPM  DBPM   BPM  VORP  pred  \n2169  2.1   8.9  0.160   4.1  -1.1   3.1   3.4   1.0  \n2179  4.3  12.0  0.210   5.4   1.3   6.7   6.0   1.0  \n2186  4.8  15.2  0.243   7.3   2.0   9.4   8.6   1.0  \n2236  3.7  10.3  0.158   3.5   1.4   4.9   5.4   1.0  \n2247  1.1   8.1  0.126   4.0  -2.0   1.9   3.1   1.0  \n2254  1.7  10.0  0.157   4.4  -0.1   4.3   4.9   1.0  \n2296  3.8  15.9  0.263   7.5   1.3   8.8   8.0   1.0  \n2304  5.0  16.9  0.247   8.4   2.4  10.8  10.6   1.0  \n2330  3.4   9.4  0.182   4.3  -1.5   2.8   3.0   1.0  \n2344  4.0  14.8  0.232   4.7   0.4   5.1   5.5   1.0  \n2369  6.0  10.9  0.189   3.1   2.7   5.8   5.4   1.0  \n2436  3.8   7.6  0.121   2.9   0.4   3.3   4.0   1.0  \n2475  3.7  12.2  0.197   5.5   0.0   5.5   5.6   1.0  \n\n[13 rows x 47 columns]",
      "text/html": "<div>\n<style scoped>\n    .dataframe tbody tr th:only-of-type {\n        vertical-align: middle;\n    }\n\n    .dataframe tbody tr th {\n        vertical-align: top;\n    }\n\n    .dataframe thead th {\n        text-align: right;\n    }\n</style>\n<table border=\"1\" class=\"dataframe\">\n  <thead>\n    <tr style=\"text-align: right;\">\n      <th></th>\n      <th>Pos</th>\n      <th>Age</th>\n      <th>G</th>\n      <th>MP</th>\n      <th>FG</th>\n      <th>FGA</th>\n      <th>FG%</th>\n      <th>3P</th>\n      <th>3PA</th>\n      <th>3P%</th>\n      <th>...</th>\n      <th>USG%</th>\n      <th>OWS</th>\n      <th>DWS</th>\n      <th>WS</th>\n      <th>WS/48</th>\n      <th>OBPM</th>\n      <th>DBPM</th>\n      <th>BPM</th>\n      <th>VORP</th>\n      <th>pred</th>\n    </tr>\n  </thead>\n  <tbody>\n    <tr>\n      <th>2169</th>\n      <td>3</td>\n      <td>27</td>\n      <td>80</td>\n      <td>33.3</td>\n      <td>9.8</td>\n      <td>19.9</td>\n      <td>0.495</td>\n      <td>0.7</td>\n      <td>1.9</td>\n      <td>0.353</td>\n      <td>...</td>\n      <td>31.3</td>\n      <td>6.8</td>\n      <td>2.1</td>\n      <td>8.9</td>\n      <td>0.160</td>\n      <td>4.1</td>\n      <td>-1.1</td>\n      <td>3.1</td>\n      <td>3.4</td>\n      <td>1.0</td>\n    </tr>\n    <tr>\n      <th>2179</th>\n      <td>4</td>\n      <td>23</td>\n      <td>68</td>\n      <td>40.3</td>\n      <td>8.2</td>\n      <td>13.8</td>\n      <td>0.594</td>\n      <td>0.3</td>\n      <td>1.5</td>\n      <td>0.202</td>\n      <td>...</td>\n      <td>23.1</td>\n      <td>7.7</td>\n      <td>4.3</td>\n      <td>12.0</td>\n      <td>0.210</td>\n      <td>5.4</td>\n      <td>1.3</td>\n      <td>6.7</td>\n      <td>6.0</td>\n      <td>1.0</td>\n    </tr>\n    <tr>\n      <th>2186</th>\n      <td>3</td>\n      <td>30</td>\n      <td>74</td>\n      <td>40.6</td>\n      <td>10.6</td>\n      <td>20.2</td>\n      <td>0.525</td>\n      <td>1.2</td>\n      <td>3.0</td>\n      <td>0.400</td>\n      <td>...</td>\n      <td>27.5</td>\n      <td>10.4</td>\n      <td>4.8</td>\n      <td>15.2</td>\n      <td>0.243</td>\n      <td>7.3</td>\n      <td>2.0</td>\n      <td>9.4</td>\n      <td>8.6</td>\n      <td>1.0</td>\n    </tr>\n    <tr>\n      <th>2236</th>\n      <td>2</td>\n      <td>24</td>\n      <td>82</td>\n      <td>38.0</td>\n      <td>8.6</td>\n      <td>17.2</td>\n      <td>0.502</td>\n      <td>0.1</td>\n      <td>0.6</td>\n      <td>0.234</td>\n      <td>...</td>\n      <td>23.6</td>\n      <td>6.6</td>\n      <td>3.7</td>\n      <td>10.3</td>\n      <td>0.158</td>\n      <td>3.5</td>\n      <td>1.4</td>\n      <td>4.9</td>\n      <td>5.4</td>\n      <td>1.0</td>\n    </tr>\n    <tr>\n      <th>2247</th>\n      <td>3</td>\n      <td>33</td>\n      <td>82</td>\n      <td>37.6</td>\n      <td>11.8</td>\n      <td>23.4</td>\n      <td>0.503</td>\n      <td>0.0</td>\n      <td>0.2</td>\n      <td>0.267</td>\n      <td>...</td>\n      <td>29.2</td>\n      <td>7.0</td>\n      <td>1.1</td>\n      <td>8.1</td>\n      <td>0.126</td>\n      <td>4.0</td>\n      <td>-2.0</td>\n      <td>1.9</td>\n      <td>3.1</td>\n      <td>1.0</td>\n    </tr>\n    <tr>\n      <th>2254</th>\n      <td>1</td>\n      <td>26</td>\n      <td>82</td>\n      <td>37.4</td>\n      <td>6.1</td>\n      <td>12.6</td>\n      <td>0.488</td>\n      <td>0.9</td>\n      <td>2.3</td>\n      <td>0.384</td>\n      <td>...</td>\n      <td>20.3</td>\n      <td>8.3</td>\n      <td>1.7</td>\n      <td>10.0</td>\n      <td>0.157</td>\n      <td>4.4</td>\n      <td>-0.1</td>\n      <td>4.3</td>\n      <td>4.9</td>\n      <td>1.0</td>\n    </tr>\n    <tr>\n      <th>2296</th>\n      <td>1</td>\n      <td>27</td>\n      <td>80</td>\n      <td>36.3</td>\n      <td>8.5</td>\n      <td>16.4</td>\n      <td>0.522</td>\n      <td>0.1</td>\n      <td>0.5</td>\n      <td>0.205</td>\n      <td>...</td>\n      <td>26.3</td>\n      <td>12.1</td>\n      <td>3.8</td>\n      <td>15.9</td>\n      <td>0.263</td>\n      <td>7.5</td>\n      <td>1.3</td>\n      <td>8.8</td>\n      <td>8.0</td>\n      <td>1.0</td>\n    </tr>\n    <tr>\n      <th>2304</th>\n      <td>2</td>\n      <td>23</td>\n      <td>82</td>\n      <td>40.0</td>\n      <td>13.4</td>\n      <td>27.8</td>\n      <td>0.482</td>\n      <td>0.1</td>\n      <td>0.8</td>\n      <td>0.182</td>\n      <td>...</td>\n      <td>38.3</td>\n      <td>11.9</td>\n      <td>5.0</td>\n      <td>16.9</td>\n      <td>0.247</td>\n      <td>8.4</td>\n      <td>2.4</td>\n      <td>10.8</td>\n      <td>10.6</td>\n      <td>1.0</td>\n    </tr>\n    <tr>\n      <th>2330</th>\n      <td>5</td>\n      <td>31</td>\n      <td>73</td>\n      <td>34.1</td>\n      <td>8.2</td>\n      <td>18.0</td>\n      <td>0.454</td>\n      <td>0.0</td>\n      <td>0.2</td>\n      <td>0.000</td>\n      <td>...</td>\n      <td>29.3</td>\n      <td>6.0</td>\n      <td>3.4</td>\n      <td>9.4</td>\n      <td>0.182</td>\n      <td>4.3</td>\n      <td>-1.5</td>\n      <td>2.8</td>\n      <td>3.0</td>\n      <td>1.0</td>\n    </tr>\n    <tr>\n      <th>2344</th>\n      <td>4</td>\n      <td>29</td>\n      <td>77</td>\n      <td>39.7</td>\n      <td>10.3</td>\n      <td>17.0</td>\n      <td>0.604</td>\n      <td>0.0</td>\n      <td>0.1</td>\n      <td>0.000</td>\n      <td>...</td>\n      <td>24.1</td>\n      <td>10.8</td>\n      <td>4.0</td>\n      <td>14.8</td>\n      <td>0.232</td>\n      <td>4.7</td>\n      <td>0.4</td>\n      <td>5.1</td>\n      <td>5.5</td>\n      <td>1.0</td>\n    </tr>\n    <tr>\n      <th>2369</th>\n      <td>5</td>\n      <td>24</td>\n      <td>75</td>\n      <td>36.8</td>\n      <td>9.0</td>\n      <td>17.8</td>\n      <td>0.508</td>\n      <td>0.0</td>\n      <td>0.1</td>\n      <td>0.200</td>\n      <td>...</td>\n      <td>26.8</td>\n      <td>4.9</td>\n      <td>6.0</td>\n      <td>10.9</td>\n      <td>0.189</td>\n      <td>3.1</td>\n      <td>2.7</td>\n      <td>5.8</td>\n      <td>5.4</td>\n      <td>1.0</td>\n    </tr>\n    <tr>\n      <th>2436</th>\n      <td>1</td>\n      <td>25</td>\n      <td>81</td>\n      <td>37.2</td>\n      <td>7.7</td>\n      <td>16.7</td>\n      <td>0.463</td>\n      <td>0.2</td>\n      <td>1.2</td>\n      <td>0.194</td>\n      <td>...</td>\n      <td>25.9</td>\n      <td>3.8</td>\n      <td>3.8</td>\n      <td>7.6</td>\n      <td>0.121</td>\n      <td>2.9</td>\n      <td>0.4</td>\n      <td>3.3</td>\n      <td>4.0</td>\n      <td>1.0</td>\n    </tr>\n    <tr>\n      <th>2475</th>\n      <td>3</td>\n      <td>27</td>\n      <td>79</td>\n      <td>37.6</td>\n      <td>10.5</td>\n      <td>22.6</td>\n      <td>0.463</td>\n      <td>0.4</td>\n      <td>1.3</td>\n      <td>0.292</td>\n      <td>...</td>\n      <td>32.3</td>\n      <td>8.4</td>\n      <td>3.7</td>\n      <td>12.2</td>\n      <td>0.197</td>\n      <td>5.5</td>\n      <td>0.0</td>\n      <td>5.5</td>\n      <td>5.6</td>\n      <td>1.0</td>\n    </tr>\n  </tbody>\n</table>\n<p>13 rows × 47 columns</p>\n</div>"
     },
     "execution_count": 508,
     "metadata": {},
     "output_type": "execute_result"
    }
   ],
   "source": [
    "pred = clf.predict(X_test_clf[clf_feat_list])\n",
    "clf.score(X_test_clf[clf_feat_list],y_test_clf)\n",
    "\n",
    "X_test_clf['pred'] = pred\n",
    "\n",
    "X_test_got_votes = X_test_clf[X_test_clf['pred'] == 1]\n",
    "\n",
    "X_test_got_votes"
   ],
   "metadata": {
    "collapsed": false,
    "pycharm": {
     "name": "#%%\n"
    }
   }
  },
  {
   "cell_type": "code",
   "execution_count": 508,
   "outputs": [],
   "source": [],
   "metadata": {
    "collapsed": false,
    "pycharm": {
     "name": "#%%\n"
    }
   }
  },
  {
   "cell_type": "code",
   "execution_count": 508,
   "outputs": [],
   "source": [],
   "metadata": {
    "collapsed": false,
    "pycharm": {
     "name": "#%%\n"
    }
   }
  },
  {
   "cell_type": "code",
   "execution_count": 509,
   "outputs": [
    {
     "name": "stderr",
     "output_type": "stream",
     "text": [
      "/var/folders/0p/ttyhqytj0zxf3tq1njp37rqw0000gn/T/ipykernel_20952/4155944798.py:2: DataConversionWarning: A column-vector y was passed when a 1d array was expected. Please change the shape of y to (n_samples,), for example using ravel().\n",
      "  reg.fit(X_train_reg,y_train_reg)\n"
     ]
    },
    {
     "data": {
      "text/plain": "RandomForestRegressor()"
     },
     "execution_count": 509,
     "metadata": {},
     "output_type": "execute_result"
    }
   ],
   "source": [
    "reg = RandomForestRegressor()\n",
    "reg.fit(X_train_reg,y_train_reg)"
   ],
   "metadata": {
    "collapsed": false,
    "pycharm": {
     "name": "#%%\n"
    }
   }
  },
  {
   "cell_type": "code",
   "execution_count": 510,
   "outputs": [],
   "source": [
    "# # rf.feature_importances_\n",
    "#\n",
    "# # rf.fit(X_train_clf,y_train_clf)\n",
    "# # feature_importance = clf.feature_importances_\n",
    "#\n",
    "# # print(f'{clf} Accuracy: {round(clf.score(X_test_clf,y_test_clf)*100,2)}%')\n",
    "#\n",
    "# feature_importances = pd.Series(rf.feature_importances_, index=X_feat_imp.columns).reset_index()\n",
    "#\n",
    "# # feature_importances = feature_importances.reset_index()\n",
    "# feature_importances.columns = ['index','feat_imp']\n",
    "#\n",
    "# sns.barplot(x='feat_imp',y='index',data=feature_importances.nlargest(15,columns=['feat_imp']).sort_values(ascending=False,by='feat_imp'))\n",
    "# plt.show()"
   ],
   "metadata": {
    "collapsed": false,
    "pycharm": {
     "name": "#%%\n"
    }
   }
  },
  {
   "cell_type": "code",
   "execution_count": 511,
   "outputs": [],
   "source": [
    "reg_feature_list = ['WS','VORP','PER','BPM','USG%','TOV','PTS','FTr','PF']"
   ],
   "metadata": {
    "collapsed": false,
    "pycharm": {
     "name": "#%%\n"
    }
   }
  },
  {
   "cell_type": "code",
   "execution_count": 512,
   "outputs": [],
   "source": [
    "\n",
    "# X_reg_train = df.loc[(df['MVP_Share'] != 0) & (df.Year_x != year),reg_feature_list]\n",
    "X_reg_train = df.loc[(df['MVP_Share'] != 0) & (df.Year_x != year),reg_feature_list]\n",
    "y_reg_train = df.loc[(df['MVP_Share'] != 0) & (df.Year_x != year),'MVP_Share']\n",
    "\n",
    "# X_reg_test = df.loc[(df['MVP_Share'] != 0) & (df.Year_x == year),reg_feature_list]\n",
    "X_reg_test = X_test_got_votes.loc[:,reg_feature_list]\n",
    "# y_reg_test = df.loc[(df['MVP_Share'] != 0) & (df.Year_x == year),'MVP_Share']"
   ],
   "metadata": {
    "collapsed": false,
    "pycharm": {
     "name": "#%%\n"
    }
   }
  },
  {
   "cell_type": "code",
   "execution_count": 513,
   "outputs": [
    {
     "data": {
      "text/plain": "RandomForestRegressor()"
     },
     "execution_count": 513,
     "metadata": {},
     "output_type": "execute_result"
    }
   ],
   "source": [
    "rf = RandomForestRegressor()\n",
    "rf.fit(X_reg_train,y_reg_train)"
   ],
   "metadata": {
    "collapsed": false,
    "pycharm": {
     "name": "#%%\n"
    }
   }
  },
  {
   "cell_type": "code",
   "execution_count": 514,
   "outputs": [],
   "source": [
    "# rf.score(X_reg_test,y_reg_test)"
   ],
   "metadata": {
    "collapsed": false,
    "pycharm": {
     "name": "#%%\n"
    }
   }
  },
  {
   "cell_type": "code",
   "execution_count": 515,
   "outputs": [
    {
     "data": {
      "text/plain": "array([0.04759, 0.29116, 0.74581, 0.0591 , 0.03117, 0.07141, 0.59776,\n       0.63651, 0.08502, 0.22631, 0.13165, 0.00702, 0.3337 ])"
     },
     "execution_count": 515,
     "metadata": {},
     "output_type": "execute_result"
    }
   ],
   "source": [
    "rf.predict(X_reg_test)"
   ],
   "metadata": {
    "collapsed": false,
    "pycharm": {
     "name": "#%%\n"
    }
   }
  },
  {
   "cell_type": "code",
   "execution_count": 516,
   "outputs": [],
   "source": [
    "pred = pd.DataFrame(rf.predict(X_reg_test),columns=['Predicted_y'])\n",
    "\n",
    "results = pd.DataFrame(np.column_stack((df.loc[X_reg_test.index,['Player','Year_x']],pred,)),columns=['Player','Year','Pred_MVP',])\n",
    "\n",
    "results.Pred_MVP = results.Pred_MVP*100"
   ],
   "metadata": {
    "collapsed": false,
    "pycharm": {
     "name": "#%%\n"
    }
   }
  },
  {
   "cell_type": "code",
   "execution_count": 517,
   "outputs": [
    {
     "data": {
      "text/plain": "               Player  Year Pred_MVP\n0        Mark Aguirre  1987    4.759\n1     Charles Barkley  1987   29.116\n2          Larry Bird  1987   74.581\n3       Clyde Drexler  1987     5.91\n4        Alex English  1987    3.117\n5        Sleepy Floyd  1987    7.141\n6       Magic Johnson  1987   59.776\n7      Michael Jordan  1987   63.651\n8        Moses Malone  1987    8.502\n9        Kevin McHale  1987   22.631\n10    Hakeem Olajuwon  1987   13.165\n11       Isiah Thomas  1987    0.702\n12  Dominique Wilkins  1987    33.37",
      "text/html": "<div>\n<style scoped>\n    .dataframe tbody tr th:only-of-type {\n        vertical-align: middle;\n    }\n\n    .dataframe tbody tr th {\n        vertical-align: top;\n    }\n\n    .dataframe thead th {\n        text-align: right;\n    }\n</style>\n<table border=\"1\" class=\"dataframe\">\n  <thead>\n    <tr style=\"text-align: right;\">\n      <th></th>\n      <th>Player</th>\n      <th>Year</th>\n      <th>Pred_MVP</th>\n    </tr>\n  </thead>\n  <tbody>\n    <tr>\n      <th>0</th>\n      <td>Mark Aguirre</td>\n      <td>1987</td>\n      <td>4.759</td>\n    </tr>\n    <tr>\n      <th>1</th>\n      <td>Charles Barkley</td>\n      <td>1987</td>\n      <td>29.116</td>\n    </tr>\n    <tr>\n      <th>2</th>\n      <td>Larry Bird</td>\n      <td>1987</td>\n      <td>74.581</td>\n    </tr>\n    <tr>\n      <th>3</th>\n      <td>Clyde Drexler</td>\n      <td>1987</td>\n      <td>5.91</td>\n    </tr>\n    <tr>\n      <th>4</th>\n      <td>Alex English</td>\n      <td>1987</td>\n      <td>3.117</td>\n    </tr>\n    <tr>\n      <th>5</th>\n      <td>Sleepy Floyd</td>\n      <td>1987</td>\n      <td>7.141</td>\n    </tr>\n    <tr>\n      <th>6</th>\n      <td>Magic Johnson</td>\n      <td>1987</td>\n      <td>59.776</td>\n    </tr>\n    <tr>\n      <th>7</th>\n      <td>Michael Jordan</td>\n      <td>1987</td>\n      <td>63.651</td>\n    </tr>\n    <tr>\n      <th>8</th>\n      <td>Moses Malone</td>\n      <td>1987</td>\n      <td>8.502</td>\n    </tr>\n    <tr>\n      <th>9</th>\n      <td>Kevin McHale</td>\n      <td>1987</td>\n      <td>22.631</td>\n    </tr>\n    <tr>\n      <th>10</th>\n      <td>Hakeem Olajuwon</td>\n      <td>1987</td>\n      <td>13.165</td>\n    </tr>\n    <tr>\n      <th>11</th>\n      <td>Isiah Thomas</td>\n      <td>1987</td>\n      <td>0.702</td>\n    </tr>\n    <tr>\n      <th>12</th>\n      <td>Dominique Wilkins</td>\n      <td>1987</td>\n      <td>33.37</td>\n    </tr>\n  </tbody>\n</table>\n</div>"
     },
     "execution_count": 517,
     "metadata": {},
     "output_type": "execute_result"
    }
   ],
   "source": [
    "results"
   ],
   "metadata": {
    "collapsed": false,
    "pycharm": {
     "name": "#%%\n"
    }
   }
  },
  {
   "cell_type": "code",
   "execution_count": 518,
   "outputs": [
    {
     "data": {
      "text/plain": "<Figure size 720x576 with 1 Axes>",
      "image/png": "[encoded data removed]"
     },
     "metadata": {},
     "output_type": "display_data"
    }
   ],
   "source": [
    "\n",
    "\n",
    "\n",
    "sns.set_style('whitegrid')\n",
    "plt.figure(figsize=(10,8),)\n",
    "# sns.barplot(x='Pred_MVP',y='Player',data=results.sort_values('Pred_MVP',ascending=False).head(10),ci=False,palette=sns.color_palette(\"flare\",10))\n",
    "sns.barplot(x='Pred_MVP',y='Player',data=results.sort_values('Pred_MVP',ascending=False).head(10),ci=False,palette=sns.color_palette(\"flare\",10))\n",
    "plt.ylabel('')\n",
    "plt.xlabel('Predicted % of MVP Votes')\n",
    "plt.title(f'Predicting the {year} NBA MVP')\n",
    "\n",
    "sns.color_palette(\"rocket\", as_cmap=True)\n",
    "plt.xlim(left=0,right=100)\n",
    "plt.subplots_adjust(left=0.2, )\n",
    "\n",
    "plt.savefig(f'/Users/chaseallbright/Downloads/{year}_predicted_MVP_RandomForest.png',dpi=400)\n",
    "\n",
    "# results"
   ],
   "metadata": {
    "collapsed": false,
    "pycharm": {
     "name": "#%%\n"
    }
   }
  },
  {
   "cell_type": "code",
   "execution_count": 519,
   "outputs": [
    {
     "name": "stderr",
     "output_type": "stream",
     "text": [
      "/Users/chaseallbright/Dropbox/NBA/venv/lib/python3.9/site-packages/pandas/core/generic.py:5516: SettingWithCopyWarning: \n",
      "A value is trying to be set on a copy of a slice from a DataFrame.\n",
      "Try using .loc[row_indexer,col_indexer] = value instead\n",
      "\n",
      "See the caveats in the documentation: https://pandas.pydata.org/pandas-docs/stable/user_guide/indexing.html#returning-a-view-versus-a-copy\n",
      "  self[name] = value\n"
     ]
    },
    {
     "data": {
      "text/plain": "                 Player  Pos  Age   Tm   G  GS    MP    FG   FGA    FG%  ...  \\\n2169       Mark Aguirre    3   27  DAL  80  80  33.3   9.8  19.9  0.495  ...   \n2179    Charles Barkley    4   23  PHI  68  62  40.3   8.2  13.8  0.594  ...   \n2186         Larry Bird    3   30  BOS  74  73  40.6  10.6  20.2  0.525  ...   \n2189   Rolando Blackman    2   27  DAL  80  80  34.5   7.8  15.8  0.495  ...   \n2247       Alex English    3   33  DEN  82  82  37.6  11.8  23.4  0.503  ...   \n2296      Magic Johnson    1   27  LAL  80  80  36.3   8.5  16.4  0.522  ...   \n2304     Michael Jordan    2   23  CHI  82  82  40.0  13.4  27.8  0.482  ...   \n2319          Fat Lever    1   26  DEN  82  82  37.2   7.8  16.7  0.469  ...   \n2329        Karl Malone    4   23  UTA  82  82  34.8   8.9  17.3  0.512  ...   \n2330       Moses Malone    5   31  WSB  73  70  34.1   8.2  18.0  0.454  ...   \n2344       Kevin McHale    4   29  BOS  77  77  39.7  10.3  17.0  0.604  ...   \n2369    Hakeem Olajuwon    5   24  HOU  75  75  36.8   9.0  17.8  0.508  ...   \n2373      Robert Parish    5   33  BOS  80  80  37.4   7.4  13.2  0.556  ...   \n2436       Isiah Thomas    1   25  DET  81  81  37.2   7.7  16.7  0.463  ...   \n2475  Dominique Wilkins    3   27  ATL  79  79  37.6  10.5  22.6  0.463  ...   \n\n      DBPM   BPM  VORP  Year_x  MVP_Rank  MVP_First  MVP_Pts Won  MVP_Pts Max  \\\n2169  -1.1   3.1   3.4    1987      15.0        0.0          1.0        780.0   \n2179   1.3   6.7   6.0    1987       6.0        1.0        113.0        780.0   \n2186   2.0   9.4   8.6    1987       3.0        1.0        271.0        780.0   \n2189  -1.1   1.0   2.1    1987      15.0        0.0          1.0        780.0   \n2247  -2.0   1.9   3.1    1987      14.0        0.0          2.0        780.0   \n2296   1.3   8.8   8.0    1987       1.0       65.0        733.0        780.0   \n2304   2.4  10.8  10.6    1987       2.0       10.0        449.0        780.0   \n2319   1.4   5.0   5.4    1987       9.0        0.0         11.0        780.0   \n2329   0.0   0.3   1.7    1987      12.0        0.0          3.0        780.0   \n2330  -1.5   2.8   3.0    1987      10.0        0.0          9.0        780.0   \n2344   0.4   5.1   5.5    1987       4.0        0.0        254.0        780.0   \n2369   2.7   5.8   5.4    1987       7.0        1.0         28.0        780.0   \n2373   0.3   1.2   2.4    1987      12.0        0.0          3.0        780.0   \n2436   0.4   3.3   4.0    1987       8.0        0.0         17.0        780.0   \n2475   0.0   5.5   5.6    1987       5.0        0.0        128.0        780.0   \n\n      MVP_Share  MVP_Votes_Bool  \n2169        0.1             1.0  \n2179       14.5             1.0  \n2186       34.7             1.0  \n2189        0.1             1.0  \n2247        0.3             1.0  \n2296       94.0             1.0  \n2304       57.6             1.0  \n2319        1.4             1.0  \n2329        0.4             1.0  \n2330        1.2             1.0  \n2344       32.6             1.0  \n2369        3.6             1.0  \n2373        0.4             1.0  \n2436        2.2             1.0  \n2475       16.4             1.0  \n\n[15 rows x 56 columns]",
      "text/html": "<div>\n<style scoped>\n    .dataframe tbody tr th:only-of-type {\n        vertical-align: middle;\n    }\n\n    .dataframe tbody tr th {\n        vertical-align: top;\n    }\n\n    .dataframe thead th {\n        text-align: right;\n    }\n</style>\n<table border=\"1\" class=\"dataframe\">\n  <thead>\n    <tr style=\"text-align: right;\">\n      <th></th>\n      <th>Player</th>\n      <th>Pos</th>\n      <th>Age</th>\n      <th>Tm</th>\n      <th>G</th>\n      <th>GS</th>\n      <th>MP</th>\n      <th>FG</th>\n      <th>FGA</th>\n      <th>FG%</th>\n      <th>...</th>\n      <th>DBPM</th>\n      <th>BPM</th>\n      <th>VORP</th>\n      <th>Year_x</th>\n      <th>MVP_Rank</th>\n      <th>MVP_First</th>\n      <th>MVP_Pts Won</th>\n      <th>MVP_Pts Max</th>\n      <th>MVP_Share</th>\n      <th>MVP_Votes_Bool</th>\n    </tr>\n  </thead>\n  <tbody>\n    <tr>\n      <th>2169</th>\n      <td>Mark Aguirre</td>\n      <td>3</td>\n      <td>27</td>\n      <td>DAL</td>\n      <td>80</td>\n      <td>80</td>\n      <td>33.3</td>\n      <td>9.8</td>\n      <td>19.9</td>\n      <td>0.495</td>\n      <td>...</td>\n      <td>-1.1</td>\n      <td>3.1</td>\n      <td>3.4</td>\n      <td>1987</td>\n      <td>15.0</td>\n      <td>0.0</td>\n      <td>1.0</td>\n      <td>780.0</td>\n      <td>0.1</td>\n      <td>1.0</td>\n    </tr>\n    <tr>\n      <th>2179</th>\n      <td>Charles Barkley</td>\n      <td>4</td>\n      <td>23</td>\n      <td>PHI</td>\n      <td>68</td>\n      <td>62</td>\n      <td>40.3</td>\n      <td>8.2</td>\n      <td>13.8</td>\n      <td>0.594</td>\n      <td>...</td>\n      <td>1.3</td>\n      <td>6.7</td>\n      <td>6.0</td>\n      <td>1987</td>\n      <td>6.0</td>\n      <td>1.0</td>\n      <td>113.0</td>\n      <td>780.0</td>\n      <td>14.5</td>\n      <td>1.0</td>\n    </tr>\n    <tr>\n      <th>2186</th>\n      <td>Larry Bird</td>\n      <td>3</td>\n      <td>30</td>\n      <td>BOS</td>\n      <td>74</td>\n      <td>73</td>\n      <td>40.6</td>\n      <td>10.6</td>\n      <td>20.2</td>\n      <td>0.525</td>\n      <td>...</td>\n      <td>2.0</td>\n      <td>9.4</td>\n      <td>8.6</td>\n      <td>1987</td>\n      <td>3.0</td>\n      <td>1.0</td>\n      <td>271.0</td>\n      <td>780.0</td>\n      <td>34.7</td>\n      <td>1.0</td>\n    </tr>\n    <tr>\n      <th>2189</th>\n      <td>Rolando Blackman</td>\n      <td>2</td>\n      <td>27</td>\n      <td>DAL</td>\n      <td>80</td>\n      <td>80</td>\n      <td>34.5</td>\n      <td>7.8</td>\n      <td>15.8</td>\n      <td>0.495</td>\n      <td>...</td>\n      <td>-1.1</td>\n      <td>1.0</td>\n      <td>2.1</td>\n      <td>1987</td>\n      <td>15.0</td>\n      <td>0.0</td>\n      <td>1.0</td>\n      <td>780.0</td>\n      <td>0.1</td>\n      <td>1.0</td>\n    </tr>\n    <tr>\n      <th>2247</th>\n      <td>Alex English</td>\n      <td>3</td>\n      <td>33</td>\n      <td>DEN</td>\n      <td>82</td>\n      <td>82</td>\n      <td>37.6</td>\n      <td>11.8</td>\n      <td>23.4</td>\n      <td>0.503</td>\n      <td>...</td>\n      <td>-2.0</td>\n      <td>1.9</td>\n      <td>3.1</td>\n      <td>1987</td>\n      <td>14.0</td>\n      <td>0.0</td>\n      <td>2.0</td>\n      <td>780.0</td>\n      <td>0.3</td>\n      <td>1.0</td>\n    </tr>\n    <tr>\n      <th>2296</th>\n      <td>Magic Johnson</td>\n      <td>1</td>\n      <td>27</td>\n      <td>LAL</td>\n      <td>80</td>\n      <td>80</td>\n      <td>36.3</td>\n      <td>8.5</td>\n      <td>16.4</td>\n      <td>0.522</td>\n      <td>...</td>\n      <td>1.3</td>\n      <td>8.8</td>\n      <td>8.0</td>\n      <td>1987</td>\n      <td>1.0</td>\n      <td>65.0</td>\n      <td>733.0</td>\n      <td>780.0</td>\n      <td>94.0</td>\n      <td>1.0</td>\n    </tr>\n    <tr>\n      <th>2304</th>\n      <td>Michael Jordan</td>\n      <td>2</td>\n      <td>23</td>\n      <td>CHI</td>\n      <td>82</td>\n      <td>82</td>\n      <td>40.0</td>\n      <td>13.4</td>\n      <td>27.8</td>\n      <td>0.482</td>\n      <td>...</td>\n      <td>2.4</td>\n      <td>10.8</td>\n      <td>10.6</td>\n      <td>1987</td>\n      <td>2.0</td>\n      <td>10.0</td>\n      <td>449.0</td>\n      <td>780.0</td>\n      <td>57.6</td>\n      <td>1.0</td>\n    </tr>\n    <tr>\n      <th>2319</th>\n      <td>Fat Lever</td>\n      <td>1</td>\n      <td>26</td>\n      <td>DEN</td>\n      <td>82</td>\n      <td>82</td>\n      <td>37.2</td>\n      <td>7.8</td>\n      <td>16.7</td>\n      <td>0.469</td>\n      <td>...</td>\n      <td>1.4</td>\n      <td>5.0</td>\n      <td>5.4</td>\n      <td>1987</td>\n      <td>9.0</td>\n      <td>0.0</td>\n      <td>11.0</td>\n      <td>780.0</td>\n      <td>1.4</td>\n      <td>1.0</td>\n    </tr>\n    <tr>\n      <th>2329</th>\n      <td>Karl Malone</td>\n      <td>4</td>\n      <td>23</td>\n      <td>UTA</td>\n      <td>82</td>\n      <td>82</td>\n      <td>34.8</td>\n      <td>8.9</td>\n      <td>17.3</td>\n      <td>0.512</td>\n      <td>...</td>\n      <td>0.0</td>\n      <td>0.3</td>\n      <td>1.7</td>\n      <td>1987</td>\n      <td>12.0</td>\n      <td>0.0</td>\n      <td>3.0</td>\n      <td>780.0</td>\n      <td>0.4</td>\n      <td>1.0</td>\n    </tr>\n    <tr>\n      <th>2330</th>\n      <td>Moses Malone</td>\n      <td>5</td>\n      <td>31</td>\n      <td>WSB</td>\n      <td>73</td>\n      <td>70</td>\n      <td>34.1</td>\n      <td>8.2</td>\n      <td>18.0</td>\n      <td>0.454</td>\n      <td>...</td>\n      <td>-1.5</td>\n      <td>2.8</td>\n      <td>3.0</td>\n      <td>1987</td>\n      <td>10.0</td>\n      <td>0.0</td>\n      <td>9.0</td>\n      <td>780.0</td>\n      <td>1.2</td>\n      <td>1.0</td>\n    </tr>\n    <tr>\n      <th>2344</th>\n      <td>Kevin McHale</td>\n      <td>4</td>\n      <td>29</td>\n      <td>BOS</td>\n      <td>77</td>\n      <td>77</td>\n      <td>39.7</td>\n      <td>10.3</td>\n      <td>17.0</td>\n      <td>0.604</td>\n      <td>...</td>\n      <td>0.4</td>\n      <td>5.1</td>\n      <td>5.5</td>\n      <td>1987</td>\n      <td>4.0</td>\n      <td>0.0</td>\n      <td>254.0</td>\n      <td>780.0</td>\n      <td>32.6</td>\n      <td>1.0</td>\n    </tr>\n    <tr>\n      <th>2369</th>\n      <td>Hakeem Olajuwon</td>\n      <td>5</td>\n      <td>24</td>\n      <td>HOU</td>\n      <td>75</td>\n      <td>75</td>\n      <td>36.8</td>\n      <td>9.0</td>\n      <td>17.8</td>\n      <td>0.508</td>\n      <td>...</td>\n      <td>2.7</td>\n      <td>5.8</td>\n      <td>5.4</td>\n      <td>1987</td>\n      <td>7.0</td>\n      <td>1.0</td>\n      <td>28.0</td>\n      <td>780.0</td>\n      <td>3.6</td>\n      <td>1.0</td>\n    </tr>\n    <tr>\n      <th>2373</th>\n      <td>Robert Parish</td>\n      <td>5</td>\n      <td>33</td>\n      <td>BOS</td>\n      <td>80</td>\n      <td>80</td>\n      <td>37.4</td>\n      <td>7.4</td>\n      <td>13.2</td>\n      <td>0.556</td>\n      <td>...</td>\n      <td>0.3</td>\n      <td>1.2</td>\n      <td>2.4</td>\n      <td>1987</td>\n      <td>12.0</td>\n      <td>0.0</td>\n      <td>3.0</td>\n      <td>780.0</td>\n      <td>0.4</td>\n      <td>1.0</td>\n    </tr>\n    <tr>\n      <th>2436</th>\n      <td>Isiah Thomas</td>\n      <td>1</td>\n      <td>25</td>\n      <td>DET</td>\n      <td>81</td>\n      <td>81</td>\n      <td>37.2</td>\n      <td>7.7</td>\n      <td>16.7</td>\n      <td>0.463</td>\n      <td>...</td>\n      <td>0.4</td>\n      <td>3.3</td>\n      <td>4.0</td>\n      <td>1987</td>\n      <td>8.0</td>\n      <td>0.0</td>\n      <td>17.0</td>\n      <td>780.0</td>\n      <td>2.2</td>\n      <td>1.0</td>\n    </tr>\n    <tr>\n      <th>2475</th>\n      <td>Dominique Wilkins</td>\n      <td>3</td>\n      <td>27</td>\n      <td>ATL</td>\n      <td>79</td>\n      <td>79</td>\n      <td>37.6</td>\n      <td>10.5</td>\n      <td>22.6</td>\n      <td>0.463</td>\n      <td>...</td>\n      <td>0.0</td>\n      <td>5.5</td>\n      <td>5.6</td>\n      <td>1987</td>\n      <td>5.0</td>\n      <td>0.0</td>\n      <td>128.0</td>\n      <td>780.0</td>\n      <td>16.4</td>\n      <td>1.0</td>\n    </tr>\n  </tbody>\n</table>\n<p>15 rows × 56 columns</p>\n</div>"
     },
     "execution_count": 519,
     "metadata": {},
     "output_type": "execute_result"
    },
    {
     "data": {
      "text/plain": "<Figure size 720x576 with 1 Axes>",
      "image/png": "[encoded data removed]"
     },
     "metadata": {},
     "output_type": "display_data"
    }
   ],
   "source": [
    "actual = df.loc[(df.Year_x == year) & (df.MVP_Share != 0),:]\n",
    "\n",
    "actual.MVP_Share = actual.MVP_Share*100\n",
    "\n",
    "sns.set_style('whitegrid')\n",
    "plt.figure(figsize=(10,8),)\n",
    "sns.barplot(x='MVP_Share',y='Player',data=actual.sort_values('MVP_Share',ascending=False).head(10),ci=False,palette=sns.color_palette(\"flare\",10))\n",
    "plt.ylabel('')\n",
    "plt.xlabel('Percentage (%) of MVP Votes Received')\n",
    "plt.title(f'{year} NBA MVP Voting')\n",
    "plt.xlim(left=0,right=100)\n",
    "plt.subplots_adjust(left=0.2, )\n",
    "\n",
    "plt.savefig(f'/Users/chaseallbright/Downloads/{year}_MVP.png',dpi=400)\n",
    "\n",
    "# fig.savefig('myimage.svg', format='svg', dpi=1200)\n",
    "actual"
   ],
   "metadata": {
    "collapsed": false,
    "pycharm": {
     "name": "#%%\n"
    }
   }
  },
  {
   "cell_type": "code",
   "execution_count": 520,
   "outputs": [
    {
     "data": {
      "text/plain": "               Player  Year Pred_MVP\n0        Mark Aguirre  1987    4.759\n1     Charles Barkley  1987   29.116\n2          Larry Bird  1987   74.581\n3       Clyde Drexler  1987     5.91\n4        Alex English  1987    3.117\n5        Sleepy Floyd  1987    7.141\n6       Magic Johnson  1987   59.776\n7      Michael Jordan  1987   63.651\n8        Moses Malone  1987    8.502\n9        Kevin McHale  1987   22.631\n10    Hakeem Olajuwon  1987   13.165\n11       Isiah Thomas  1987    0.702\n12  Dominique Wilkins  1987    33.37",
      "text/html": "<div>\n<style scoped>\n    .dataframe tbody tr th:only-of-type {\n        vertical-align: middle;\n    }\n\n    .dataframe tbody tr th {\n        vertical-align: top;\n    }\n\n    .dataframe thead th {\n        text-align: right;\n    }\n</style>\n<table border=\"1\" class=\"dataframe\">\n  <thead>\n    <tr style=\"text-align: right;\">\n      <th></th>\n      <th>Player</th>\n      <th>Year</th>\n      <th>Pred_MVP</th>\n    </tr>\n  </thead>\n  <tbody>\n    <tr>\n      <th>0</th>\n      <td>Mark Aguirre</td>\n      <td>1987</td>\n      <td>4.759</td>\n    </tr>\n    <tr>\n      <th>1</th>\n      <td>Charles Barkley</td>\n      <td>1987</td>\n      <td>29.116</td>\n    </tr>\n    <tr>\n      <th>2</th>\n      <td>Larry Bird</td>\n      <td>1987</td>\n      <td>74.581</td>\n    </tr>\n    <tr>\n      <th>3</th>\n      <td>Clyde Drexler</td>\n      <td>1987</td>\n      <td>5.91</td>\n    </tr>\n    <tr>\n      <th>4</th>\n      <td>Alex English</td>\n      <td>1987</td>\n      <td>3.117</td>\n    </tr>\n    <tr>\n      <th>5</th>\n      <td>Sleepy Floyd</td>\n      <td>1987</td>\n      <td>7.141</td>\n    </tr>\n    <tr>\n      <th>6</th>\n      <td>Magic Johnson</td>\n      <td>1987</td>\n      <td>59.776</td>\n    </tr>\n    <tr>\n      <th>7</th>\n      <td>Michael Jordan</td>\n      <td>1987</td>\n      <td>63.651</td>\n    </tr>\n    <tr>\n      <th>8</th>\n      <td>Moses Malone</td>\n      <td>1987</td>\n      <td>8.502</td>\n    </tr>\n    <tr>\n      <th>9</th>\n      <td>Kevin McHale</td>\n      <td>1987</td>\n      <td>22.631</td>\n    </tr>\n    <tr>\n      <th>10</th>\n      <td>Hakeem Olajuwon</td>\n      <td>1987</td>\n      <td>13.165</td>\n    </tr>\n    <tr>\n      <th>11</th>\n      <td>Isiah Thomas</td>\n      <td>1987</td>\n      <td>0.702</td>\n    </tr>\n    <tr>\n      <th>12</th>\n      <td>Dominique Wilkins</td>\n      <td>1987</td>\n      <td>33.37</td>\n    </tr>\n  </tbody>\n</table>\n</div>"
     },
     "execution_count": 520,
     "metadata": {},
     "output_type": "execute_result"
    }
   ],
   "source": [
    "results"
   ],
   "metadata": {
    "collapsed": false,
    "pycharm": {
     "name": "#%%\n"
    }
   }
  },
  {
   "cell_type": "code",
   "execution_count": 521,
   "outputs": [
    {
     "data": {
      "text/plain": "                 Player  Year_x  MVP_Share\n2169       Mark Aguirre    1987        0.1\n2179    Charles Barkley    1987       14.5\n2186         Larry Bird    1987       34.7\n2189   Rolando Blackman    1987        0.1\n2247       Alex English    1987        0.3\n2296      Magic Johnson    1987       94.0\n2304     Michael Jordan    1987       57.6\n2319          Fat Lever    1987        1.4\n2329        Karl Malone    1987        0.4\n2330       Moses Malone    1987        1.2\n2344       Kevin McHale    1987       32.6\n2369    Hakeem Olajuwon    1987        3.6\n2373      Robert Parish    1987        0.4\n2436       Isiah Thomas    1987        2.2\n2475  Dominique Wilkins    1987       16.4",
      "text/html": "<div>\n<style scoped>\n    .dataframe tbody tr th:only-of-type {\n        vertical-align: middle;\n    }\n\n    .dataframe tbody tr th {\n        vertical-align: top;\n    }\n\n    .dataframe thead th {\n        text-align: right;\n    }\n</style>\n<table border=\"1\" class=\"dataframe\">\n  <thead>\n    <tr style=\"text-align: right;\">\n      <th></th>\n      <th>Player</th>\n      <th>Year_x</th>\n      <th>MVP_Share</th>\n    </tr>\n  </thead>\n  <tbody>\n    <tr>\n      <th>2169</th>\n      <td>Mark Aguirre</td>\n      <td>1987</td>\n      <td>0.1</td>\n    </tr>\n    <tr>\n      <th>2179</th>\n      <td>Charles Barkley</td>\n      <td>1987</td>\n      <td>14.5</td>\n    </tr>\n    <tr>\n      <th>2186</th>\n      <td>Larry Bird</td>\n      <td>1987</td>\n      <td>34.7</td>\n    </tr>\n    <tr>\n      <th>2189</th>\n      <td>Rolando Blackman</td>\n      <td>1987</td>\n      <td>0.1</td>\n    </tr>\n    <tr>\n      <th>2247</th>\n      <td>Alex English</td>\n      <td>1987</td>\n      <td>0.3</td>\n    </tr>\n    <tr>\n      <th>2296</th>\n      <td>Magic Johnson</td>\n      <td>1987</td>\n      <td>94.0</td>\n    </tr>\n    <tr>\n      <th>2304</th>\n      <td>Michael Jordan</td>\n      <td>1987</td>\n      <td>57.6</td>\n    </tr>\n    <tr>\n      <th>2319</th>\n      <td>Fat Lever</td>\n      <td>1987</td>\n      <td>1.4</td>\n    </tr>\n    <tr>\n      <th>2329</th>\n      <td>Karl Malone</td>\n      <td>1987</td>\n      <td>0.4</td>\n    </tr>\n    <tr>\n      <th>2330</th>\n      <td>Moses Malone</td>\n      <td>1987</td>\n      <td>1.2</td>\n    </tr>\n    <tr>\n      <th>2344</th>\n      <td>Kevin McHale</td>\n      <td>1987</td>\n      <td>32.6</td>\n    </tr>\n    <tr>\n      <th>2369</th>\n      <td>Hakeem Olajuwon</td>\n      <td>1987</td>\n      <td>3.6</td>\n    </tr>\n    <tr>\n      <th>2373</th>\n      <td>Robert Parish</td>\n      <td>1987</td>\n      <td>0.4</td>\n    </tr>\n    <tr>\n      <th>2436</th>\n      <td>Isiah Thomas</td>\n      <td>1987</td>\n      <td>2.2</td>\n    </tr>\n    <tr>\n      <th>2475</th>\n      <td>Dominique Wilkins</td>\n      <td>1987</td>\n      <td>16.4</td>\n    </tr>\n  </tbody>\n</table>\n</div>"
     },
     "execution_count": 521,
     "metadata": {},
     "output_type": "execute_result"
    }
   ],
   "source": [
    "actual.loc[:,['Player','Year_x','MVP_Share']]"
   ],
   "metadata": {
    "collapsed": false,
    "pycharm": {
     "name": "#%%\n"
    }
   }
  },
  {
   "cell_type": "code",
   "execution_count": 522,
   "outputs": [
    {
     "data": {
      "text/plain": "['Mark Aguirre',\n 'Charles Barkley',\n 'Larry Bird',\n 'Alex English',\n 'Magic Johnson',\n 'Michael Jordan',\n 'Moses Malone',\n 'Kevin McHale',\n 'Hakeem Olajuwon',\n 'Isiah Thomas',\n 'Dominique Wilkins']"
     },
     "execution_count": 522,
     "metadata": {},
     "output_type": "execute_result"
    }
   ],
   "source": [
    "# Players who made both\n",
    "\n",
    "[i for i in actual.Player if i in results.Player.tolist()]"
   ],
   "metadata": {
    "collapsed": false,
    "pycharm": {
     "name": "#%%\n"
    }
   }
  },
  {
   "cell_type": "code",
   "execution_count": 523,
   "outputs": [
    {
     "data": {
      "text/plain": "['Clyde Drexler', 'Sleepy Floyd']"
     },
     "execution_count": 523,
     "metadata": {},
     "output_type": "execute_result"
    }
   ],
   "source": [
    "# Players who were predicted to make it but didn't\n",
    "\n",
    "[i for i in results.Player if i not in actual.Player.tolist()]"
   ],
   "metadata": {
    "collapsed": false,
    "pycharm": {
     "name": "#%%\n"
    }
   }
  },
  {
   "cell_type": "code",
   "execution_count": 524,
   "outputs": [
    {
     "data": {
      "text/plain": "['Rolando Blackman', 'Fat Lever', 'Karl Malone', 'Robert Parish']"
     },
     "execution_count": 524,
     "metadata": {},
     "output_type": "execute_result"
    }
   ],
   "source": [
    "# Players who got votes but weren't predicted to.\n",
    "\n",
    "[i for i in actual.Player if i not in results.Player.tolist()]"
   ],
   "metadata": {
    "collapsed": false,
    "pycharm": {
     "name": "#%%\n"
    }
   }
  },
  {
   "cell_type": "code",
   "execution_count": 525,
   "outputs": [
    {
     "data": {
      "text/plain": "               Player  Year Pred_MVP\n11       Isiah Thomas  1987    0.702\n4        Alex English  1987    3.117\n0        Mark Aguirre  1987    4.759\n3       Clyde Drexler  1987     5.91\n5        Sleepy Floyd  1987    7.141\n8        Moses Malone  1987    8.502\n10    Hakeem Olajuwon  1987   13.165\n9        Kevin McHale  1987   22.631\n1     Charles Barkley  1987   29.116\n12  Dominique Wilkins  1987    33.37\n6       Magic Johnson  1987   59.776\n7      Michael Jordan  1987   63.651\n2          Larry Bird  1987   74.581",
      "text/html": "<div>\n<style scoped>\n    .dataframe tbody tr th:only-of-type {\n        vertical-align: middle;\n    }\n\n    .dataframe tbody tr th {\n        vertical-align: top;\n    }\n\n    .dataframe thead th {\n        text-align: right;\n    }\n</style>\n<table border=\"1\" class=\"dataframe\">\n  <thead>\n    <tr style=\"text-align: right;\">\n      <th></th>\n      <th>Player</th>\n      <th>Year</th>\n      <th>Pred_MVP</th>\n    </tr>\n  </thead>\n  <tbody>\n    <tr>\n      <th>11</th>\n      <td>Isiah Thomas</td>\n      <td>1987</td>\n      <td>0.702</td>\n    </tr>\n    <tr>\n      <th>4</th>\n      <td>Alex English</td>\n      <td>1987</td>\n      <td>3.117</td>\n    </tr>\n    <tr>\n      <th>0</th>\n      <td>Mark Aguirre</td>\n      <td>1987</td>\n      <td>4.759</td>\n    </tr>\n    <tr>\n      <th>3</th>\n      <td>Clyde Drexler</td>\n      <td>1987</td>\n      <td>5.91</td>\n    </tr>\n    <tr>\n      <th>5</th>\n      <td>Sleepy Floyd</td>\n      <td>1987</td>\n      <td>7.141</td>\n    </tr>\n    <tr>\n      <th>8</th>\n      <td>Moses Malone</td>\n      <td>1987</td>\n      <td>8.502</td>\n    </tr>\n    <tr>\n      <th>10</th>\n      <td>Hakeem Olajuwon</td>\n      <td>1987</td>\n      <td>13.165</td>\n    </tr>\n    <tr>\n      <th>9</th>\n      <td>Kevin McHale</td>\n      <td>1987</td>\n      <td>22.631</td>\n    </tr>\n    <tr>\n      <th>1</th>\n      <td>Charles Barkley</td>\n      <td>1987</td>\n      <td>29.116</td>\n    </tr>\n    <tr>\n      <th>12</th>\n      <td>Dominique Wilkins</td>\n      <td>1987</td>\n      <td>33.37</td>\n    </tr>\n    <tr>\n      <th>6</th>\n      <td>Magic Johnson</td>\n      <td>1987</td>\n      <td>59.776</td>\n    </tr>\n    <tr>\n      <th>7</th>\n      <td>Michael Jordan</td>\n      <td>1987</td>\n      <td>63.651</td>\n    </tr>\n    <tr>\n      <th>2</th>\n      <td>Larry Bird</td>\n      <td>1987</td>\n      <td>74.581</td>\n    </tr>\n  </tbody>\n</table>\n</div>"
     },
     "execution_count": 525,
     "metadata": {},
     "output_type": "execute_result"
    }
   ],
   "source": [
    "results.sort_values('Pred_MVP')"
   ],
   "metadata": {
    "collapsed": false,
    "pycharm": {
     "name": "#%%\n"
    }
   }
  },
  {
   "cell_type": "code",
   "execution_count": 526,
   "outputs": [
    {
     "data": {
      "text/plain": "                 Player  Year_x  MVP_Share\n2169       Mark Aguirre    1987        0.1\n2189   Rolando Blackman    1987        0.1\n2247       Alex English    1987        0.3\n2329        Karl Malone    1987        0.4\n2373      Robert Parish    1987        0.4\n2330       Moses Malone    1987        1.2\n2319          Fat Lever    1987        1.4\n2436       Isiah Thomas    1987        2.2\n2369    Hakeem Olajuwon    1987        3.6\n2179    Charles Barkley    1987       14.5\n2475  Dominique Wilkins    1987       16.4\n2344       Kevin McHale    1987       32.6\n2186         Larry Bird    1987       34.7\n2304     Michael Jordan    1987       57.6\n2296      Magic Johnson    1987       94.0",
      "text/html": "<div>\n<style scoped>\n    .dataframe tbody tr th:only-of-type {\n        vertical-align: middle;\n    }\n\n    .dataframe tbody tr th {\n        vertical-align: top;\n    }\n\n    .dataframe thead th {\n        text-align: right;\n    }\n</style>\n<table border=\"1\" class=\"dataframe\">\n  <thead>\n    <tr style=\"text-align: right;\">\n      <th></th>\n      <th>Player</th>\n      <th>Year_x</th>\n      <th>MVP_Share</th>\n    </tr>\n  </thead>\n  <tbody>\n    <tr>\n      <th>2169</th>\n      <td>Mark Aguirre</td>\n      <td>1987</td>\n      <td>0.1</td>\n    </tr>\n    <tr>\n      <th>2189</th>\n      <td>Rolando Blackman</td>\n      <td>1987</td>\n      <td>0.1</td>\n    </tr>\n    <tr>\n      <th>2247</th>\n      <td>Alex English</td>\n      <td>1987</td>\n      <td>0.3</td>\n    </tr>\n    <tr>\n      <th>2329</th>\n      <td>Karl Malone</td>\n      <td>1987</td>\n      <td>0.4</td>\n    </tr>\n    <tr>\n      <th>2373</th>\n      <td>Robert Parish</td>\n      <td>1987</td>\n      <td>0.4</td>\n    </tr>\n    <tr>\n      <th>2330</th>\n      <td>Moses Malone</td>\n      <td>1987</td>\n      <td>1.2</td>\n    </tr>\n    <tr>\n      <th>2319</th>\n      <td>Fat Lever</td>\n      <td>1987</td>\n      <td>1.4</td>\n    </tr>\n    <tr>\n      <th>2436</th>\n      <td>Isiah Thomas</td>\n      <td>1987</td>\n      <td>2.2</td>\n    </tr>\n    <tr>\n      <th>2369</th>\n      <td>Hakeem Olajuwon</td>\n      <td>1987</td>\n      <td>3.6</td>\n    </tr>\n    <tr>\n      <th>2179</th>\n      <td>Charles Barkley</td>\n      <td>1987</td>\n      <td>14.5</td>\n    </tr>\n    <tr>\n      <th>2475</th>\n      <td>Dominique Wilkins</td>\n      <td>1987</td>\n      <td>16.4</td>\n    </tr>\n    <tr>\n      <th>2344</th>\n      <td>Kevin McHale</td>\n      <td>1987</td>\n      <td>32.6</td>\n    </tr>\n    <tr>\n      <th>2186</th>\n      <td>Larry Bird</td>\n      <td>1987</td>\n      <td>34.7</td>\n    </tr>\n    <tr>\n      <th>2304</th>\n      <td>Michael Jordan</td>\n      <td>1987</td>\n      <td>57.6</td>\n    </tr>\n    <tr>\n      <th>2296</th>\n      <td>Magic Johnson</td>\n      <td>1987</td>\n      <td>94.0</td>\n    </tr>\n  </tbody>\n</table>\n</div>"
     },
     "execution_count": 526,
     "metadata": {},
     "output_type": "execute_result"
    }
   ],
   "source": [
    "actual.sort_values('MVP_Share').loc[:,['Player','Year_x','MVP_Share']]"
   ],
   "metadata": {
    "collapsed": false,
    "pycharm": {
     "name": "#%%\n"
    }
   }
  },
  {
   "cell_type": "code",
   "execution_count": null,
   "outputs": [],
   "source": [],
   "metadata": {
    "collapsed": false,
    "pycharm": {
     "name": "#%%\n"
    }
   }
  }
 ],
 "metadata": {
  "kernelspec": {
   "display_name": "Python 3",
   "language": "python",
   "name": "python3"
  },
  "language_info": {
   "codemirror_mode": {
    "name": "ipython",
    "version": 2
   },
   "file_extension": ".py",
   "mimetype": "text/x-python",
   "name": "python",
   "nbconvert_exporter": "python",
   "pygments_lexer": "ipython2",
   "version": "2.7.6"
  }
 },
 "nbformat": 4,
 "nbformat_minor": 0
}