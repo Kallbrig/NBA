{
 "cells": [
  {
   "cell_type": "code",
   "execution_count": 34,
   "metadata": {
    "collapsed": true
   },
   "source": [
    "\n",
    "import pandas as pd\n",
    "import requests"
   ],
   "outputs": []
  },
  {
   "cell_type": "code",
   "execution_count": 35,
   "source": [
    "\n",
    "# link for extract html data\n",
    "def getdata(url):\n",
    "    r = requests.get(url)\n",
    "    return r.text"
   ],
   "metadata": {
    "collapsed": false,
    "pycharm": {
     "name": "#%%\n"
    }
   },
   "outputs": []
  },
  {
   "cell_type": "code",
   "execution_count": 39,
   "source": [
    "\n",
    "def fetch_player_stats_single_year(year: int):\n",
    "    df = pd.read_html(getdata(f'https://www.basketball-reference.com/leagues/NBA_{year}_per_game.html'))[0]\n",
    "    df_adv = pd.read_html(getdata(f'https://www.basketball-reference.com/leagues/NBA_{year}_advanced.html'))[0]\n",
    "\n",
    "    df = df.drop(df[df['Player'] == 'Player'].index)\n",
    "\n",
    "    df_adv = df_adv.drop(df_adv[df_adv['Player'] == 'Player'].index)\n",
    "\n",
    "    new = pd.merge(df, df_adv, on=['Player', 'Age', 'Tm', 'Pos'])\n",
    "\n",
    "    player_stats_list = ['Player', 'Pos', 'Age', 'Tm', 'G_x', 'GS', 'MP_x', 'FG', 'FGA',\n",
    "                         'FG%', '3P', '3PA', '3P%', '2P', '2PA', '2P%', 'eFG%', 'FT', 'FTA',\n",
    "                         'FT%', 'ORB', 'DRB', 'TRB', 'AST', 'STL', 'BLK', 'TOV', 'PF', 'PTS',\n",
    "                         'PER', 'TS%', '3PAr', 'FTr', 'ORB%', 'DRB%', 'TRB%',\n",
    "                         'AST%', 'STL%', 'BLK%', 'TOV%', 'USG%', 'OWS', 'DWS',\n",
    "                         'WS', 'WS/48', 'OBPM', 'DBPM', 'BPM', 'VORP']\n",
    "\n",
    "    player_stats_list_correct = ['Player', 'Pos', 'Age', 'Tm', 'G', 'GS', 'MP', 'FG', 'FGA', 'FG%',\n",
    "                                 '3P', '3PA', '3P%', '2P', '2PA', '2P%', 'eFG%', 'FT', 'FTA', 'FT%',\n",
    "                                 'ORB', 'DRB', 'TRB', 'AST', 'STL', 'BLK', 'TOV', 'PF', 'PTS', 'PER',\n",
    "                                 'TS%', '3PAr', 'FTr', 'ORB%', 'DRB%', 'TRB%', 'AST%', 'STL%', 'BLK%',\n",
    "                                 'TOV%', 'USG%', 'OWS', 'DWS', 'WS', 'WS/48', 'OBPM', 'DBPM', 'BPM',\n",
    "                                 'VORP']\n",
    "\n",
    "    # cuts down the columns to what is listed in player_stats_list_correct\n",
    "    new = new[player_stats_list]\n",
    "    new.columns = player_stats_list_correct\n",
    "\n",
    "    # This gets rid of traded players entirely\n",
    "    # new = new.drop_duplicates(subset='Player', keep=False).reset_index(drop=True)\n",
    "    new.drop_duplicates(subset=['Player'], keep='first', inplace=True)\n",
    "    # Fills nan's with 0\n",
    "    new.fillna(value=0, inplace=True)\n",
    "\n",
    "    # Adds a year column\n",
    "    new['Year'] = year\n",
    "\n",
    "    return new\n",
    "\n",
    "    # if not os.path.isdir(f'Data/Test Sets/{datetime.now().strftime(\"%Y\")}'):\n",
    "    #     os.mkdir(f'Data/Test Sets/{datetime.now().strftime(\"%Y\")}')\n",
    "    #\n",
    "    # new.to_csv(f'Data/Test Sets/{datetime.now().strftime(\"%Y\")}/{datetime.now().strftime(\"%Y%m%d\")}_player_stats.csv')\n",
    "    # print(datetime.now().strftime(\"%m/%d/%Y\"), 'Complete')\n",
    "\n",
    "\n"
   ],
   "metadata": {
    "collapsed": false,
    "pycharm": {
     "name": "#%%\n"
    }
   },
   "outputs": []
  },
  {
   "cell_type": "code",
   "execution_count": 37,
   "source": [
    "player_list = []\n",
    "for i in range(1980, 2023):\n",
    "    print(f'Done - {i}')\n",
    "    player_list.append(fetch_player_stats_single_year(i))\n",
    "\n",
    "\n",
    "df = pd.concat(player_list)"
   ],
   "metadata": {
    "collapsed": false,
    "pycharm": {
     "name": "#%%\n"
    }
   },
   "outputs": []
  },
  {
   "cell_type": "code",
   "execution_count": 38,
   "source": [
    "df.shape"
   ],
   "metadata": {
    "collapsed": false,
    "pycharm": {
     "name": "#%%\n"
    }
   },
   "outputs": []
  },
  {
   "cell_type": "code",
   "execution_count": 12,
   "source": [
    "\n",
    "\n",
    "# df['All_Star'] = df.Player.str.contains('\\*')\n",
    "#\n",
    "df.Player = df.Player.str.strip('\\*')\n",
    "# df['All_Star']\n"
   ],
   "metadata": {
    "collapsed": false,
    "pycharm": {
     "name": "#%%\n"
    }
   },
   "outputs": []
  },
  {
   "cell_type": "code",
   "execution_count": 32,
   "source": [
    "import numpy as np\n",
    "\n",
    "# df.All_Star = np.where(df.All_Star == True,False,True)\n",
    "\n",
    "\n",
    "df[df.Player == 'Stephen Curry']"
   ],
   "metadata": {
    "collapsed": false,
    "pycharm": {
     "name": "#%%\n"
    }
   },
   "outputs": []
  },
  {
   "cell_type": "code",
   "execution_count": 15,
   "source": [
    "df2 = df.copy()"
   ],
   "metadata": {
    "collapsed": false,
    "pycharm": {
     "name": "#%%\n"
    }
   },
   "outputs": []
  },
  {
   "cell_type": "code",
   "execution_count": 16,
   "source": [
    "df2[(df2.Year == 1987) & (df2.Player == 'Michael Jordan')]"
   ],
   "metadata": {
    "collapsed": false,
    "pycharm": {
     "name": "#%%\n"
    }
   },
   "outputs": []
  },
  {
   "cell_type": "code",
   "execution_count": 17,
   "source": [
    "\n",
    "# For some reason the 1997 MVP file doesn't contain Karl (winner) or Michael (2nd) by default. They were added to the file manually.\n",
    "\n",
    "awards_df = list()\n",
    "for year in range(1980, 2023):\n",
    "    awards_df.append(\n",
    "        pd.read_csv(f'/Users/chaseallbright/Desktop/content/Cleaned Awards/MVP/{year}-Most Valuable Player.csv',\n",
    "                    index_col=0))\n",
    "\n",
    "awards_df = pd.concat(awards_df)"
   ],
   "metadata": {
    "collapsed": false,
    "pycharm": {
     "name": "#%%\n"
    }
   },
   "outputs": []
  },
  {
   "cell_type": "code",
   "execution_count": 18,
   "source": [
    "awards_df[(awards_df.MVP_Player == 'Karl Malone') & (awards_df.Year == 1997)]"
   ],
   "metadata": {
    "collapsed": false,
    "pycharm": {
     "name": "#%%\n"
    }
   },
   "outputs": []
  },
  {
   "cell_type": "code",
   "execution_count": 19,
   "source": [
    "df = df2.copy()\n",
    "\n",
    "df.loc[:, ['Player', 'Pos', 'Tm']] = df[['Player', 'Pos', 'Tm']].astype('string')\n",
    "df.loc[:, ['Age', 'G', 'GS', 'Year']] = df[['Age', 'G', 'GS', 'Year']].astype('int')\n",
    "df.loc[:, df.drop(columns=(['Age', 'G', 'GS', 'Year', 'Player', 'Pos', 'Tm'])).columns] = df.loc[:, df.drop(\n",
    "    columns=(['Age', 'G', 'GS', 'Year', 'Player', 'Pos', 'Tm'])).columns].astype('float64')"
   ],
   "metadata": {
    "collapsed": false,
    "pycharm": {
     "name": "#%%\n"
    }
   },
   "outputs": []
  },
  {
   "cell_type": "code",
   "execution_count": 20,
   "source": [
    "full = pd.merge(df, awards_df, right_on=['MVP_Player', 'MVP_Age'], left_on=['Player', 'Age'], how='left')\n",
    "full = full.drop(columns=['Year_y', 'MVP_Player', 'MVP_Age'], )"
   ],
   "metadata": {
    "collapsed": false,
    "pycharm": {
     "name": "#%%\n"
    }
   },
   "outputs": []
  },
  {
   "cell_type": "code",
   "execution_count": 21,
   "source": [
    "full = full.fillna(0)"
   ],
   "metadata": {
    "collapsed": false,
    "pycharm": {
     "name": "#%%\n"
    }
   },
   "outputs": []
  },
  {
   "cell_type": "code",
   "execution_count": 22,
   "source": [
    "full.isna().sum()"
   ],
   "metadata": {
    "collapsed": false,
    "pycharm": {
     "name": "#%%\n"
    }
   },
   "outputs": []
  },
  {
   "cell_type": "code",
   "execution_count": 23,
   "source": [
    "full.Pos.unique()"
   ],
   "metadata": {
    "collapsed": false,
    "pycharm": {
     "name": "#%%\n"
    }
   },
   "outputs": []
  },
  {
   "cell_type": "code",
   "execution_count": 24,
   "source": [
    "pos_map = {'PG': 1,\n",
    "           'SG': 2,\n",
    "           'SF': 3,\n",
    "           'PF': 4,\n",
    "           'C': 5,\n",
    "           'SG-SF': 2,\n",
    "           'SG-PG': 2,\n",
    "           'PG-SG': 1,\n",
    "           'SF-PF': 3,\n",
    "           'PG-SF': 1,\n",
    "           'SG-PF': 2,\n",
    "           'SF-C': 3,\n",
    "           'SF-SG': 3,\n",
    "           'PF-SF': 4,\n",
    "           'C-PF': 5,\n",
    "           'PF-C': 4,\n",
    "           'SG-PG-SF': 2,\n",
    "           }\n",
    "\n",
    "full.Pos = full.Pos.map(pos_map).astype('int')"
   ],
   "metadata": {
    "collapsed": false,
    "pycharm": {
     "name": "#%%\n"
    }
   },
   "outputs": []
  },
  {
   "cell_type": "code",
   "execution_count": 25,
   "source": [
    "full.Pos.unique()"
   ],
   "metadata": {
    "collapsed": false,
    "pycharm": {
     "name": "#%%\n"
    }
   },
   "outputs": []
  },
  {
   "cell_type": "code",
   "execution_count": 26,
   "source": [
    "full['Year_x'].unique()\n"
   ],
   "metadata": {
    "collapsed": false,
    "pycharm": {
     "name": "#%%\n"
    }
   },
   "outputs": []
  },
  {
   "cell_type": "code",
   "execution_count": 33,
   "source": [
    "pd.read_csv('Full Dataset.csv',index_col=0).drop(columns='All_Star',inplace=True)\n",
    "\n",
    "full.to_csv('Full Dataset.csv')"
   ],
   "metadata": {
    "collapsed": false,
    "pycharm": {
     "name": "#%%\n"
    }
   },
   "outputs": []
  },
  {
   "cell_type": "code",
   "execution_count": 22,
   "source": [
    "full[(full.Year_x == 1997) & (full.MVP_Share != 0)]"
   ],
   "metadata": {
    "collapsed": false,
    "pycharm": {
     "name": "#%%\n"
    }
   },
   "outputs": []
  },
  {
   "cell_type": "code",
   "execution_count": null,
   "source": [],
   "metadata": {
    "collapsed": false,
    "pycharm": {
     "name": "#%%\n"
    }
   },
   "outputs": []
  }
 ],
 "metadata": {
  "kernelspec": {
   "display_name": "Python 3",
   "language": "python",
   "name": "python3"
  },
  "language_info": {
   "codemirror_mode": {
    "name": "ipython",
    "version": 2
   },
   "file_extension": ".py",
   "mimetype": "text/x-python",
   "name": "python",
   "nbconvert_exporter": "python",
   "pygments_lexer": "ipython2",
   "version": "2.7.6"
  }
 },
 "nbformat": 4,
 "nbformat_minor": 0
}
