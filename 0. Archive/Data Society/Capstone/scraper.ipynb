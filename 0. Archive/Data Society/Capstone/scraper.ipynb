{
 "cells": [
  {
   "cell_type": "code",
   "execution_count": 34,
   "metadata": {
    "collapsed": true
   },
   "outputs": [],
   "source": [
    "\n",
    "import pandas as pd\n",
    "import requests"
   ]
  },
  {
   "cell_type": "code",
   "execution_count": 35,
   "outputs": [],
   "source": [
    "\n",
    "# link for extract html data\n",
    "def getdata(url):\n",
    "    r = requests.get(url)\n",
    "    return r.text"
   ],
   "metadata": {
    "collapsed": false,
    "pycharm": {
     "name": "#%%\n"
    }
   }
  },
  {
   "cell_type": "code",
   "execution_count": 39,
   "outputs": [],
   "source": [
    "\n",
    "def fetch_player_stats_single_year(year: int):\n",
    "    df = pd.read_html(getdata(f'https://www.basketball-reference.com/leagues/NBA_{year}_per_game.html'))[0]\n",
    "    df_adv = pd.read_html(getdata(f'https://www.basketball-reference.com/leagues/NBA_{year}_advanced.html'))[0]\n",
    "\n",
    "    df = df.drop(df[df['Player'] == 'Player'].index)\n",
    "\n",
    "    df_adv = df_adv.drop(df_adv[df_adv['Player'] == 'Player'].index)\n",
    "\n",
    "    new = pd.merge(df, df_adv, on=['Player', 'Age', 'Tm', 'Pos'])\n",
    "\n",
    "    player_stats_list = ['Player', 'Pos', 'Age', 'Tm', 'G_x', 'GS', 'MP_x', 'FG', 'FGA',\n",
    "                         'FG%', '3P', '3PA', '3P%', '2P', '2PA', '2P%', 'eFG%', 'FT', 'FTA',\n",
    "                         'FT%', 'ORB', 'DRB', 'TRB', 'AST', 'STL', 'BLK', 'TOV', 'PF', 'PTS',\n",
    "                         'PER', 'TS%', '3PAr', 'FTr', 'ORB%', 'DRB%', 'TRB%',\n",
    "                         'AST%', 'STL%', 'BLK%', 'TOV%', 'USG%', 'OWS', 'DWS',\n",
    "                         'WS', 'WS/48', 'OBPM', 'DBPM', 'BPM', 'VORP']\n",
    "\n",
    "    player_stats_list_correct = ['Player', 'Pos', 'Age', 'Tm', 'G', 'GS', 'MP', 'FG', 'FGA', 'FG%',\n",
    "                                 '3P', '3PA', '3P%', '2P', '2PA', '2P%', 'eFG%', 'FT', 'FTA', 'FT%',\n",
    "                                 'ORB', 'DRB', 'TRB', 'AST', 'STL', 'BLK', 'TOV', 'PF', 'PTS', 'PER',\n",
    "                                 'TS%', '3PAr', 'FTr', 'ORB%', 'DRB%', 'TRB%', 'AST%', 'STL%', 'BLK%',\n",
    "                                 'TOV%', 'USG%', 'OWS', 'DWS', 'WS', 'WS/48', 'OBPM', 'DBPM', 'BPM',\n",
    "                                 'VORP']\n",
    "\n",
    "    # cuts down the columns to what is listed in player_stats_list_correct\n",
    "    new = new[player_stats_list]\n",
    "    new.columns = player_stats_list_correct\n",
    "\n",
    "    # This gets rid of traded players entirely\n",
    "    # new = new.drop_duplicates(subset='Player', keep=False).reset_index(drop=True)\n",
    "    new.drop_duplicates(subset=['Player'], keep='first', inplace=True)\n",
    "    # Fills nan's with 0\n",
    "    new.fillna(value=0, inplace=True)\n",
    "\n",
    "    # Adds a year column\n",
    "    new['Year'] = year\n",
    "\n",
    "    return new\n",
    "\n",
    "    # if not os.path.isdir(f'Data/Test Sets/{datetime.now().strftime(\"%Y\")}'):\n",
    "    #     os.mkdir(f'Data/Test Sets/{datetime.now().strftime(\"%Y\")}')\n",
    "    #\n",
    "    # new.to_csv(f'Data/Test Sets/{datetime.now().strftime(\"%Y\")}/{datetime.now().strftime(\"%Y%m%d\")}_player_stats.csv')\n",
    "    # print(datetime.now().strftime(\"%m/%d/%Y\"), 'Complete')\n",
    "\n",
    "\n"
   ],
   "metadata": {
    "collapsed": false,
    "pycharm": {
     "name": "#%%\n"
    }
   }
  },
  {
   "cell_type": "code",
   "execution_count": 37,
   "outputs": [
    {
     "name": "stdout",
     "output_type": "stream",
     "text": [
      "Done - 1980\n",
      "Done - 1981\n",
      "Done - 1982\n",
      "Done - 1983\n",
      "Done - 1984\n",
      "Done - 1985\n",
      "Done - 1986\n",
      "Done - 1987\n",
      "Done - 1988\n",
      "Done - 1989\n",
      "Done - 1990\n",
      "Done - 1991\n",
      "Done - 1992\n",
      "Done - 1993\n",
      "Done - 1994\n",
      "Done - 1995\n",
      "Done - 1996\n",
      "Done - 1997\n",
      "Done - 1998\n",
      "Done - 1999\n",
      "Done - 2000\n",
      "Done - 2001\n",
      "Done - 2002\n",
      "Done - 2003\n",
      "Done - 2004\n",
      "Done - 2005\n",
      "Done - 2006\n",
      "Done - 2007\n",
      "Done - 2008\n",
      "Done - 2009\n",
      "Done - 2010\n",
      "Done - 2011\n",
      "Done - 2012\n",
      "Done - 2013\n",
      "Done - 2014\n",
      "Done - 2015\n",
      "Done - 2016\n",
      "Done - 2017\n",
      "Done - 2018\n",
      "Done - 2019\n",
      "Done - 2020\n",
      "Done - 2021\n",
      "Done - 2022\n"
     ]
    }
   ],
   "source": [
    "player_list = []\n",
    "for i in range(1980, 2023):\n",
    "    print(f'Done - {i}')\n",
    "    player_list.append(fetch_player_stats_single_year(i))\n",
    "\n",
    "\n",
    "df = pd.concat(player_list)"
   ],
   "metadata": {
    "collapsed": false,
    "pycharm": {
     "name": "#%%\n"
    }
   }
  },
  {
   "cell_type": "code",
   "execution_count": 38,
   "outputs": [
    {
     "data": {
      "text/plain": "(22467, 50)"
     },
     "execution_count": 38,
     "metadata": {},
     "output_type": "execute_result"
    }
   ],
   "source": [
    "df.shape"
   ],
   "metadata": {
    "collapsed": false,
    "pycharm": {
     "name": "#%%\n"
    }
   }
  },
  {
   "cell_type": "code",
   "execution_count": 12,
   "outputs": [
    {
     "data": {
      "text/plain": "0       True\n1      False\n2      False\n3       True\n4      False\n       ...  \n805    False\n808    False\n809    False\n810    False\n811    False\nName: All_Star, Length: 18264, dtype: bool"
     },
     "execution_count": 12,
     "metadata": {},
     "output_type": "execute_result"
    }
   ],
   "source": [
    "\n",
    "\n",
    "# df['All_Star'] = df.Player.str.contains('\\*')\n",
    "#\n",
    "df.Player = df.Player.str.strip('\\*')\n",
    "# df['All_Star']\n"
   ],
   "metadata": {
    "collapsed": false,
    "pycharm": {
     "name": "#%%\n"
    }
   }
  },
  {
   "cell_type": "code",
   "execution_count": 32,
   "outputs": [
    {
     "data": {
      "text/plain": "            Player Pos  Age   Tm   G  GS    MP    FG   FGA    FG%  ...   OWS  \\\n120  Stephen Curry  PG   21  GSW  80  77  36.2   6.6  14.3  0.462  ...   3.0   \n153  Stephen Curry  PG   22  GSW  74  74  33.6   6.8  14.2  0.480  ...   5.4   \n109  Stephen Curry  PG   23  GSW  26  23  28.2   5.6  11.4  0.490  ...   1.8   \n119  Stephen Curry  PG   24  GSW  78  78  38.2   8.0  17.8  0.451  ...   8.4   \n149  Stephen Curry  PG   25  GSW  78  78  36.5   8.4  17.7  0.471  ...   9.3   \n135  Stephen Curry  PG   26  GSW  80  80  32.7   8.2  16.8  0.487  ...  11.5   \n116  Stephen Curry  PG   27  GSW  79  79  34.2  10.2  20.2  0.504  ...  13.8   \n120  Stephen Curry  PG   28  GSW  79  79  33.4   8.5  18.3  0.468  ...   8.7   \n146  Stephen Curry  PG   29  GSW  51  51  32.0   8.4  16.9  0.495  ...   7.2   \n159  Stephen Curry  PG   30  GSW  69  69  33.8   9.2  19.4  0.472  ...   7.2   \n158  Stephen Curry  PG   31  GSW   5   5  27.8   6.6  16.4  0.402  ...   0.2   \n151  Stephen Curry  PG   32  GSW  63  63  34.2  10.4  21.7  0.482  ...   6.5   \n159  Stephen Curry  PG   33  GSW  64  64  34.5   8.4  19.1  0.437  ...   4.6   \n\n     DWS    WS  WS/48  OBPM  DBPM   BPM  VORP  Year  All_Star  \n120  1.6   4.7  0.077   1.1  -0.5   0.7   2.0  2010      True  \n153  1.3   6.6  0.128   3.0  -0.7   2.3   2.7  2011      True  \n109  0.4   2.2  0.144   4.1   0.3   4.3   1.2  2012      True  \n119  2.8  11.2  0.180   5.3   0.1   5.4   5.6  2013      True  \n149  4.0  13.4  0.225   6.3   1.1   7.4   6.7  2014      True  \n135  4.1  15.7  0.288   8.2   1.7   9.9   7.9  2015      True  \n116  4.1  17.9  0.318  10.3   1.6  11.9   9.5  2016      True  \n120  3.9  12.6  0.229   6.7   0.3   6.9   5.9  2017      True  \n146  1.9   9.1  0.267   7.8   0.0   7.7   4.0  2018      True  \n159  2.5   9.7  0.199   7.1  -0.5   6.6   5.1  2019      True  \n158  0.1   0.3  0.103   4.5  -0.6   3.9   0.2  2020      True  \n151  2.5   9.0  0.201   8.3   0.4   8.7   5.8  2021      True  \n159  3.4   8.0  0.173   5.4   0.4   5.8   4.4  2022      True  \n\n[13 rows x 51 columns]",
      "text/html": "<div>\n<style scoped>\n    .dataframe tbody tr th:only-of-type {\n        vertical-align: middle;\n    }\n\n    .dataframe tbody tr th {\n        vertical-align: top;\n    }\n\n    .dataframe thead th {\n        text-align: right;\n    }\n</style>\n<table border=\"1\" class=\"dataframe\">\n  <thead>\n    <tr style=\"text-align: right;\">\n      <th></th>\n      <th>Player</th>\n      <th>Pos</th>\n      <th>Age</th>\n      <th>Tm</th>\n      <th>G</th>\n      <th>GS</th>\n      <th>MP</th>\n      <th>FG</th>\n      <th>FGA</th>\n      <th>FG%</th>\n      <th>...</th>\n      <th>OWS</th>\n      <th>DWS</th>\n      <th>WS</th>\n      <th>WS/48</th>\n      <th>OBPM</th>\n      <th>DBPM</th>\n      <th>BPM</th>\n      <th>VORP</th>\n      <th>Year</th>\n      <th>All_Star</th>\n    </tr>\n  </thead>\n  <tbody>\n    <tr>\n      <th>120</th>\n      <td>Stephen Curry</td>\n      <td>PG</td>\n      <td>21</td>\n      <td>GSW</td>\n      <td>80</td>\n      <td>77</td>\n      <td>36.2</td>\n      <td>6.6</td>\n      <td>14.3</td>\n      <td>0.462</td>\n      <td>...</td>\n      <td>3.0</td>\n      <td>1.6</td>\n      <td>4.7</td>\n      <td>0.077</td>\n      <td>1.1</td>\n      <td>-0.5</td>\n      <td>0.7</td>\n      <td>2.0</td>\n      <td>2010</td>\n      <td>True</td>\n    </tr>\n    <tr>\n      <th>153</th>\n      <td>Stephen Curry</td>\n      <td>PG</td>\n      <td>22</td>\n      <td>GSW</td>\n      <td>74</td>\n      <td>74</td>\n      <td>33.6</td>\n      <td>6.8</td>\n      <td>14.2</td>\n      <td>0.480</td>\n      <td>...</td>\n      <td>5.4</td>\n      <td>1.3</td>\n      <td>6.6</td>\n      <td>0.128</td>\n      <td>3.0</td>\n      <td>-0.7</td>\n      <td>2.3</td>\n      <td>2.7</td>\n      <td>2011</td>\n      <td>True</td>\n    </tr>\n    <tr>\n      <th>109</th>\n      <td>Stephen Curry</td>\n      <td>PG</td>\n      <td>23</td>\n      <td>GSW</td>\n      <td>26</td>\n      <td>23</td>\n      <td>28.2</td>\n      <td>5.6</td>\n      <td>11.4</td>\n      <td>0.490</td>\n      <td>...</td>\n      <td>1.8</td>\n      <td>0.4</td>\n      <td>2.2</td>\n      <td>0.144</td>\n      <td>4.1</td>\n      <td>0.3</td>\n      <td>4.3</td>\n      <td>1.2</td>\n      <td>2012</td>\n      <td>True</td>\n    </tr>\n    <tr>\n      <th>119</th>\n      <td>Stephen Curry</td>\n      <td>PG</td>\n      <td>24</td>\n      <td>GSW</td>\n      <td>78</td>\n      <td>78</td>\n      <td>38.2</td>\n      <td>8.0</td>\n      <td>17.8</td>\n      <td>0.451</td>\n      <td>...</td>\n      <td>8.4</td>\n      <td>2.8</td>\n      <td>11.2</td>\n      <td>0.180</td>\n      <td>5.3</td>\n      <td>0.1</td>\n      <td>5.4</td>\n      <td>5.6</td>\n      <td>2013</td>\n      <td>True</td>\n    </tr>\n    <tr>\n      <th>149</th>\n      <td>Stephen Curry</td>\n      <td>PG</td>\n      <td>25</td>\n      <td>GSW</td>\n      <td>78</td>\n      <td>78</td>\n      <td>36.5</td>\n      <td>8.4</td>\n      <td>17.7</td>\n      <td>0.471</td>\n      <td>...</td>\n      <td>9.3</td>\n      <td>4.0</td>\n      <td>13.4</td>\n      <td>0.225</td>\n      <td>6.3</td>\n      <td>1.1</td>\n      <td>7.4</td>\n      <td>6.7</td>\n      <td>2014</td>\n      <td>True</td>\n    </tr>\n    <tr>\n      <th>135</th>\n      <td>Stephen Curry</td>\n      <td>PG</td>\n      <td>26</td>\n      <td>GSW</td>\n      <td>80</td>\n      <td>80</td>\n      <td>32.7</td>\n      <td>8.2</td>\n      <td>16.8</td>\n      <td>0.487</td>\n      <td>...</td>\n      <td>11.5</td>\n      <td>4.1</td>\n      <td>15.7</td>\n      <td>0.288</td>\n      <td>8.2</td>\n      <td>1.7</td>\n      <td>9.9</td>\n      <td>7.9</td>\n      <td>2015</td>\n      <td>True</td>\n    </tr>\n    <tr>\n      <th>116</th>\n      <td>Stephen Curry</td>\n      <td>PG</td>\n      <td>27</td>\n      <td>GSW</td>\n      <td>79</td>\n      <td>79</td>\n      <td>34.2</td>\n      <td>10.2</td>\n      <td>20.2</td>\n      <td>0.504</td>\n      <td>...</td>\n      <td>13.8</td>\n      <td>4.1</td>\n      <td>17.9</td>\n      <td>0.318</td>\n      <td>10.3</td>\n      <td>1.6</td>\n      <td>11.9</td>\n      <td>9.5</td>\n      <td>2016</td>\n      <td>True</td>\n    </tr>\n    <tr>\n      <th>120</th>\n      <td>Stephen Curry</td>\n      <td>PG</td>\n      <td>28</td>\n      <td>GSW</td>\n      <td>79</td>\n      <td>79</td>\n      <td>33.4</td>\n      <td>8.5</td>\n      <td>18.3</td>\n      <td>0.468</td>\n      <td>...</td>\n      <td>8.7</td>\n      <td>3.9</td>\n      <td>12.6</td>\n      <td>0.229</td>\n      <td>6.7</td>\n      <td>0.3</td>\n      <td>6.9</td>\n      <td>5.9</td>\n      <td>2017</td>\n      <td>True</td>\n    </tr>\n    <tr>\n      <th>146</th>\n      <td>Stephen Curry</td>\n      <td>PG</td>\n      <td>29</td>\n      <td>GSW</td>\n      <td>51</td>\n      <td>51</td>\n      <td>32.0</td>\n      <td>8.4</td>\n      <td>16.9</td>\n      <td>0.495</td>\n      <td>...</td>\n      <td>7.2</td>\n      <td>1.9</td>\n      <td>9.1</td>\n      <td>0.267</td>\n      <td>7.8</td>\n      <td>0.0</td>\n      <td>7.7</td>\n      <td>4.0</td>\n      <td>2018</td>\n      <td>True</td>\n    </tr>\n    <tr>\n      <th>159</th>\n      <td>Stephen Curry</td>\n      <td>PG</td>\n      <td>30</td>\n      <td>GSW</td>\n      <td>69</td>\n      <td>69</td>\n      <td>33.8</td>\n      <td>9.2</td>\n      <td>19.4</td>\n      <td>0.472</td>\n      <td>...</td>\n      <td>7.2</td>\n      <td>2.5</td>\n      <td>9.7</td>\n      <td>0.199</td>\n      <td>7.1</td>\n      <td>-0.5</td>\n      <td>6.6</td>\n      <td>5.1</td>\n      <td>2019</td>\n      <td>True</td>\n    </tr>\n    <tr>\n      <th>158</th>\n      <td>Stephen Curry</td>\n      <td>PG</td>\n      <td>31</td>\n      <td>GSW</td>\n      <td>5</td>\n      <td>5</td>\n      <td>27.8</td>\n      <td>6.6</td>\n      <td>16.4</td>\n      <td>0.402</td>\n      <td>...</td>\n      <td>0.2</td>\n      <td>0.1</td>\n      <td>0.3</td>\n      <td>0.103</td>\n      <td>4.5</td>\n      <td>-0.6</td>\n      <td>3.9</td>\n      <td>0.2</td>\n      <td>2020</td>\n      <td>True</td>\n    </tr>\n    <tr>\n      <th>151</th>\n      <td>Stephen Curry</td>\n      <td>PG</td>\n      <td>32</td>\n      <td>GSW</td>\n      <td>63</td>\n      <td>63</td>\n      <td>34.2</td>\n      <td>10.4</td>\n      <td>21.7</td>\n      <td>0.482</td>\n      <td>...</td>\n      <td>6.5</td>\n      <td>2.5</td>\n      <td>9.0</td>\n      <td>0.201</td>\n      <td>8.3</td>\n      <td>0.4</td>\n      <td>8.7</td>\n      <td>5.8</td>\n      <td>2021</td>\n      <td>True</td>\n    </tr>\n    <tr>\n      <th>159</th>\n      <td>Stephen Curry</td>\n      <td>PG</td>\n      <td>33</td>\n      <td>GSW</td>\n      <td>64</td>\n      <td>64</td>\n      <td>34.5</td>\n      <td>8.4</td>\n      <td>19.1</td>\n      <td>0.437</td>\n      <td>...</td>\n      <td>4.6</td>\n      <td>3.4</td>\n      <td>8.0</td>\n      <td>0.173</td>\n      <td>5.4</td>\n      <td>0.4</td>\n      <td>5.8</td>\n      <td>4.4</td>\n      <td>2022</td>\n      <td>True</td>\n    </tr>\n  </tbody>\n</table>\n<p>13 rows × 51 columns</p>\n</div>"
     },
     "execution_count": 32,
     "metadata": {},
     "output_type": "execute_result"
    }
   ],
   "source": [
    "import numpy as np\n",
    "\n",
    "# df.All_Star = np.where(df.All_Star == True,False,True)\n",
    "\n",
    "\n",
    "df[df.Player == 'Stephen Curry']"
   ],
   "metadata": {
    "collapsed": false,
    "pycharm": {
     "name": "#%%\n"
    }
   }
  },
  {
   "cell_type": "code",
   "execution_count": 15,
   "outputs": [],
   "source": [
    "df2 = df.copy()"
   ],
   "metadata": {
    "collapsed": false,
    "pycharm": {
     "name": "#%%\n"
    }
   }
  },
  {
   "cell_type": "code",
   "execution_count": 16,
   "outputs": [
    {
     "data": {
      "text/plain": "             Player Pos Age   Tm   G  GS    MP    FG   FGA   FG%  ...   OWS  \\\n167  Michael Jordan  SG  23  CHI  82  82  40.0  13.4  27.8  .482  ...  11.9   \n\n     DWS    WS WS/48 OBPM DBPM   BPM  VORP  Year All_Star  \n167  5.0  16.9  .247  8.4  2.4  10.8  10.6  1987        1  \n\n[1 rows x 51 columns]",
      "text/html": "<div>\n<style scoped>\n    .dataframe tbody tr th:only-of-type {\n        vertical-align: middle;\n    }\n\n    .dataframe tbody tr th {\n        vertical-align: top;\n    }\n\n    .dataframe thead th {\n        text-align: right;\n    }\n</style>\n<table border=\"1\" class=\"dataframe\">\n  <thead>\n    <tr style=\"text-align: right;\">\n      <th></th>\n      <th>Player</th>\n      <th>Pos</th>\n      <th>Age</th>\n      <th>Tm</th>\n      <th>G</th>\n      <th>GS</th>\n      <th>MP</th>\n      <th>FG</th>\n      <th>FGA</th>\n      <th>FG%</th>\n      <th>...</th>\n      <th>OWS</th>\n      <th>DWS</th>\n      <th>WS</th>\n      <th>WS/48</th>\n      <th>OBPM</th>\n      <th>DBPM</th>\n      <th>BPM</th>\n      <th>VORP</th>\n      <th>Year</th>\n      <th>All_Star</th>\n    </tr>\n  </thead>\n  <tbody>\n    <tr>\n      <th>167</th>\n      <td>Michael Jordan</td>\n      <td>SG</td>\n      <td>23</td>\n      <td>CHI</td>\n      <td>82</td>\n      <td>82</td>\n      <td>40.0</td>\n      <td>13.4</td>\n      <td>27.8</td>\n      <td>.482</td>\n      <td>...</td>\n      <td>11.9</td>\n      <td>5.0</td>\n      <td>16.9</td>\n      <td>.247</td>\n      <td>8.4</td>\n      <td>2.4</td>\n      <td>10.8</td>\n      <td>10.6</td>\n      <td>1987</td>\n      <td>1</td>\n    </tr>\n  </tbody>\n</table>\n<p>1 rows × 51 columns</p>\n</div>"
     },
     "execution_count": 16,
     "metadata": {},
     "output_type": "execute_result"
    }
   ],
   "source": [
    "df2[(df2.Year == 1987) & (df2.Player == 'Michael Jordan')]"
   ],
   "metadata": {
    "collapsed": false,
    "pycharm": {
     "name": "#%%\n"
    }
   }
  },
  {
   "cell_type": "code",
   "execution_count": 17,
   "outputs": [],
   "source": [
    "\n",
    "# For some reason the 1997 MVP file doesn't contain Karl (winner) or Michael (2nd) by default. They were added to the file manually.\n",
    "\n",
    "awards_df = list()\n",
    "for year in range(1980, 2023):\n",
    "    awards_df.append(\n",
    "        pd.read_csv(f'/Users/chaseallbright/Desktop/content/Cleaned Awards/MVP/{year}-Most Valuable Player.csv',\n",
    "                    index_col=0))\n",
    "\n",
    "awards_df = pd.concat(awards_df)"
   ],
   "metadata": {
    "collapsed": false,
    "pycharm": {
     "name": "#%%\n"
    }
   }
  },
  {
   "cell_type": "code",
   "execution_count": 18,
   "outputs": [
    {
     "data": {
      "text/plain": "   MVP_Rank   MVP_Player  MVP_Age  MVP_First  MVP_Pts Won  MVP_Pts Max  \\\n0         1  Karl Malone       33        1.0        986.0         1150   \n\n   MVP_Share  Year  \n0      0.857  1997  ",
      "text/html": "<div>\n<style scoped>\n    .dataframe tbody tr th:only-of-type {\n        vertical-align: middle;\n    }\n\n    .dataframe tbody tr th {\n        vertical-align: top;\n    }\n\n    .dataframe thead th {\n        text-align: right;\n    }\n</style>\n<table border=\"1\" class=\"dataframe\">\n  <thead>\n    <tr style=\"text-align: right;\">\n      <th></th>\n      <th>MVP_Rank</th>\n      <th>MVP_Player</th>\n      <th>MVP_Age</th>\n      <th>MVP_First</th>\n      <th>MVP_Pts Won</th>\n      <th>MVP_Pts Max</th>\n      <th>MVP_Share</th>\n      <th>Year</th>\n    </tr>\n  </thead>\n  <tbody>\n    <tr>\n      <th>0</th>\n      <td>1</td>\n      <td>Karl Malone</td>\n      <td>33</td>\n      <td>1.0</td>\n      <td>986.0</td>\n      <td>1150</td>\n      <td>0.857</td>\n      <td>1997</td>\n    </tr>\n  </tbody>\n</table>\n</div>"
     },
     "execution_count": 18,
     "metadata": {},
     "output_type": "execute_result"
    }
   ],
   "source": [
    "awards_df[(awards_df.MVP_Player == 'Karl Malone') & (awards_df.Year == 1997)]"
   ],
   "metadata": {
    "collapsed": false,
    "pycharm": {
     "name": "#%%\n"
    }
   }
  },
  {
   "cell_type": "code",
   "execution_count": 19,
   "outputs": [],
   "source": [
    "df = df2.copy()\n",
    "\n",
    "df.loc[:, ['Player', 'Pos', 'Tm']] = df[['Player', 'Pos', 'Tm']].astype('string')\n",
    "df.loc[:, ['Age', 'G', 'GS', 'Year']] = df[['Age', 'G', 'GS', 'Year']].astype('int')\n",
    "df.loc[:, df.drop(columns=(['Age', 'G', 'GS', 'Year', 'Player', 'Pos', 'Tm'])).columns] = df.loc[:, df.drop(\n",
    "    columns=(['Age', 'G', 'GS', 'Year', 'Player', 'Pos', 'Tm'])).columns].astype('float64')"
   ],
   "metadata": {
    "collapsed": false,
    "pycharm": {
     "name": "#%%\n"
    }
   }
  },
  {
   "cell_type": "code",
   "execution_count": 20,
   "outputs": [],
   "source": [
    "full = pd.merge(df, awards_df, right_on=['MVP_Player', 'MVP_Age'], left_on=['Player', 'Age'], how='left')\n",
    "full = full.drop(columns=['Year_y', 'MVP_Player', 'MVP_Age'], )"
   ],
   "metadata": {
    "collapsed": false,
    "pycharm": {
     "name": "#%%\n"
    }
   }
  },
  {
   "cell_type": "code",
   "execution_count": 21,
   "outputs": [],
   "source": [
    "full = full.fillna(0)"
   ],
   "metadata": {
    "collapsed": false,
    "pycharm": {
     "name": "#%%\n"
    }
   }
  },
  {
   "cell_type": "code",
   "execution_count": 22,
   "outputs": [
    {
     "data": {
      "text/plain": "Player         0\nPos            0\nAge            0\nTm             0\nG              0\nGS             0\nMP             0\nFG             0\nFGA            0\nFG%            0\n3P             0\n3PA            0\n3P%            0\n2P             0\n2PA            0\n2P%            0\neFG%           0\nFT             0\nFTA            0\nFT%            0\nORB            0\nDRB            0\nTRB            0\nAST            0\nSTL            0\nBLK            0\nTOV            0\nPF             0\nPTS            0\nPER            0\nTS%            0\n3PAr           0\nFTr            0\nORB%           0\nDRB%           0\nTRB%           0\nAST%           0\nSTL%           0\nBLK%           0\nTOV%           0\nUSG%           0\nOWS            0\nDWS            0\nWS             0\nWS/48          0\nOBPM           0\nDBPM           0\nBPM            0\nVORP           0\nYear_x         0\nAll_Star       0\nMVP_Rank       0\nMVP_First      0\nMVP_Pts Won    0\nMVP_Pts Max    0\nMVP_Share      0\ndtype: int64"
     },
     "execution_count": 22,
     "metadata": {},
     "output_type": "execute_result"
    }
   ],
   "source": [
    "full.isna().sum()"
   ],
   "metadata": {
    "collapsed": false,
    "pycharm": {
     "name": "#%%\n"
    }
   }
  },
  {
   "cell_type": "code",
   "execution_count": 23,
   "outputs": [
    {
     "data": {
      "text/plain": "<StringArray>\n[       'C',       'PF',       'PG',       'SG',       'SF',    'SG-PG',\n    'SF-SG',    'SG-SF',     'C-PF',     'PF-C',    'SF-PF',    'PG-SG',\n    'PF-SF',    'PG-SF',    'SG-PF',     'SF-C', 'SG-PG-SF']\nLength: 17, dtype: string"
     },
     "execution_count": 23,
     "metadata": {},
     "output_type": "execute_result"
    }
   ],
   "source": [
    "full.Pos.unique()"
   ],
   "metadata": {
    "collapsed": false,
    "pycharm": {
     "name": "#%%\n"
    }
   }
  },
  {
   "cell_type": "code",
   "execution_count": 24,
   "outputs": [],
   "source": [
    "pos_map = {'PG': 1,\n",
    "           'SG': 2,\n",
    "           'SF': 3,\n",
    "           'PF': 4,\n",
    "           'C': 5,\n",
    "           'SG-SF': 2,\n",
    "           'SG-PG': 2,\n",
    "           'PG-SG': 1,\n",
    "           'SF-PF': 3,\n",
    "           'PG-SF': 1,\n",
    "           'SG-PF': 2,\n",
    "           'SF-C': 3,\n",
    "           'SF-SG': 3,\n",
    "           'PF-SF': 4,\n",
    "           'C-PF': 5,\n",
    "           'PF-C': 4,\n",
    "           'SG-PG-SF': 2,\n",
    "           }\n",
    "\n",
    "full.Pos = full.Pos.map(pos_map).astype('int')"
   ],
   "metadata": {
    "collapsed": false,
    "pycharm": {
     "name": "#%%\n"
    }
   }
  },
  {
   "cell_type": "code",
   "execution_count": 25,
   "outputs": [
    {
     "data": {
      "text/plain": "array([5, 4, 1, 2, 3])"
     },
     "execution_count": 25,
     "metadata": {},
     "output_type": "execute_result"
    }
   ],
   "source": [
    "full.Pos.unique()"
   ],
   "metadata": {
    "collapsed": false,
    "pycharm": {
     "name": "#%%\n"
    }
   }
  },
  {
   "cell_type": "code",
   "execution_count": 26,
   "outputs": [
    {
     "data": {
      "text/plain": "array([1980, 1981, 1982, 1983, 1984, 1985, 1986, 1987, 1988, 1989, 1990,\n       1991, 1992, 1993, 1994, 1995, 1996, 1997, 1998, 1999, 2000, 2001,\n       2002, 2003, 2004, 2005, 2006, 2007, 2008, 2009, 2010, 2011, 2012,\n       2013, 2014, 2015, 2016, 2017, 2018, 2019, 2020, 2021, 2022])"
     },
     "execution_count": 26,
     "metadata": {},
     "output_type": "execute_result"
    }
   ],
   "source": [
    "full['Year_x'].unique()\n"
   ],
   "metadata": {
    "collapsed": false,
    "pycharm": {
     "name": "#%%\n"
    }
   }
  },
  {
   "cell_type": "code",
   "execution_count": 33,
   "outputs": [],
   "source": [
    "pd.read_csv('Full Dataset.csv',index_col=0).drop(columns='All_Star',inplace=True)\n",
    "\n",
    "full.to_csv('Full Dataset.csv')"
   ],
   "metadata": {
    "collapsed": false,
    "pycharm": {
     "name": "#%%\n"
    }
   }
  },
  {
   "cell_type": "code",
   "execution_count": 22,
   "outputs": [
    {
     "data": {
      "text/plain": "                Player  Pos  Age   Tm   G  GS    MP    FG   FGA    FG%  ...  \\\n5982   Charles Barkley    4   33  HOU  53  53  37.9   6.3  13.1  0.484  ...   \n6080     Patrick Ewing    5   34  NYK  78  78  37.0   8.4  17.2  0.488  ...   \n6109     Tom Gugliotta    4   27  MIN  81  81  38.7   7.3  16.5  0.442  ...   \n6116      Tim Hardaway    1   30  MIA  81  81  38.7   7.1  17.1  0.415  ...   \n6128        Grant Hill    3   24  DET  80  80  39.3   7.8  15.7  0.496  ...   \n6138     Allen Iverson    1   21  PHI  76  74  40.1   8.2  19.8  0.416  ...   \n6147     Kevin Johnson    1   30  PHO  70  70  38.0   6.3  12.7  0.496  ...   \n6152    Michael Jordan    2   33  CHI  82  82  37.9  11.2  23.1  0.486  ...   \n6188       Karl Malone    4   33  UTA  82  82  36.6  10.5  19.2  0.550  ...   \n6199     Anthony Mason    4   30  CHH  73  73  43.1   5.9  11.3  0.525  ...   \n6226   Alonzo Mourning    5   26  MIA  66  65  35.2   7.2  13.4  0.534  ...   \n6232   Dikembe Mutombo    5   30  ATL  80  80  37.2   4.8   9.0  0.527  ...   \n6243  Shaquille O'Neal    5   24  LAL  51  51  38.1  10.8  19.4  0.557  ...   \n6245   Hakeem Olajuwon    5   34  HOU  78  78  36.6   9.3  18.3  0.510  ...   \n6255       Gary Payton    1   28  SEA  82  82  39.2   8.6  18.1  0.476  ...   \n6265    Scottie Pippen    3   31  CHI  82  82  37.7   7.9  16.7  0.474  ...   \n6278         Glen Rice    3   29  CHH  79  78  42.6   9.1  19.2  0.477  ...   \n6280    Mitch Richmond    2   31  SAC  81  81  38.6   8.9  19.5  0.454  ...   \n6323       Steve Smith    2   27  ATL  72  72  39.1   6.8  15.9  0.429  ...   \n6337     John Stockton    1   34  UTA  82  82  35.3   5.1   9.3  0.548  ...   \n\n      OBPM  DBPM  BPM  VORP  Year_x  MVP_Rank  MVP_First  MVP_Pts Won  \\\n5982   4.5   1.2  5.7   3.9    1997      16.0        0.0          2.0   \n6080   0.9   1.9  2.8   3.5    1997       8.0        0.0         57.0   \n6109   1.2   0.5  1.7   2.9    1997      17.0        0.0          1.0   \n6116   5.2   1.0  6.2   6.5    1997       4.0        0.0        238.0   \n6128   5.4   2.7  8.2   8.0    1997       3.0        0.0        376.0   \n6138   2.5  -1.6  0.9   2.2    1997      17.0        0.0          1.0   \n6147   5.3  -0.3  5.0   4.7    1997      17.0        0.0          1.0   \n6152   7.8   1.1  8.9   8.6    1997       2.0        0.0        957.0   \n6188   7.1   1.2  8.3   7.8    1997       1.0        1.0        986.0   \n6199   2.6   0.8  3.5   4.3    1997       9.0        0.0          7.0   \n6226   0.5   2.5  2.9   2.9    1997      12.0        0.0          5.0   \n6232   0.3   2.4  2.6   3.5    1997      13.0        0.0          4.0   \n6243   4.7   1.8  6.5   4.1    1997       9.0        0.0          7.0   \n6245   1.5   2.0  3.5   3.9    1997       7.0        0.0         95.0   \n6255   4.4   1.1  5.5   6.1    1997       6.0        0.0        105.0   \n6265   4.3   1.4  5.7   6.1    1997      11.0        0.0          6.0   \n6278   3.9  -2.1  1.8   3.2    1997       5.0        0.0        134.0   \n6280   5.2  -0.6  4.6   5.2    1997      13.0        0.0          4.0   \n6323   2.7  -1.0  1.7   2.7    1997      17.0        0.0          1.0   \n6337   5.6   1.0  6.6   6.3    1997      15.0        0.0          3.0   \n\n      MVP_Pts Max  MVP_Share  \n5982       1150.0      0.002  \n6080       1150.0      0.050  \n6109       1150.0      0.001  \n6116       1150.0      0.207  \n6128       1150.0      0.327  \n6138       1150.0      0.001  \n6147       1150.0      0.001  \n6152       1150.0      0.832  \n6188       1150.0      0.857  \n6199       1150.0      0.006  \n6226       1150.0      0.004  \n6232       1150.0      0.003  \n6243       1150.0      0.006  \n6245       1150.0      0.083  \n6255       1150.0      0.091  \n6265       1150.0      0.005  \n6278       1150.0      0.117  \n6280       1150.0      0.003  \n6323       1150.0      0.001  \n6337       1150.0      0.003  \n\n[20 rows x 55 columns]",
      "text/html": "<div>\n<style scoped>\n    .dataframe tbody tr th:only-of-type {\n        vertical-align: middle;\n    }\n\n    .dataframe tbody tr th {\n        vertical-align: top;\n    }\n\n    .dataframe thead th {\n        text-align: right;\n    }\n</style>\n<table border=\"1\" class=\"dataframe\">\n  <thead>\n    <tr style=\"text-align: right;\">\n      <th></th>\n      <th>Player</th>\n      <th>Pos</th>\n      <th>Age</th>\n      <th>Tm</th>\n      <th>G</th>\n      <th>GS</th>\n      <th>MP</th>\n      <th>FG</th>\n      <th>FGA</th>\n      <th>FG%</th>\n      <th>...</th>\n      <th>OBPM</th>\n      <th>DBPM</th>\n      <th>BPM</th>\n      <th>VORP</th>\n      <th>Year_x</th>\n      <th>MVP_Rank</th>\n      <th>MVP_First</th>\n      <th>MVP_Pts Won</th>\n      <th>MVP_Pts Max</th>\n      <th>MVP_Share</th>\n    </tr>\n  </thead>\n  <tbody>\n    <tr>\n      <th>5982</th>\n      <td>Charles Barkley</td>\n      <td>4</td>\n      <td>33</td>\n      <td>HOU</td>\n      <td>53</td>\n      <td>53</td>\n      <td>37.9</td>\n      <td>6.3</td>\n      <td>13.1</td>\n      <td>0.484</td>\n      <td>...</td>\n      <td>4.5</td>\n      <td>1.2</td>\n      <td>5.7</td>\n      <td>3.9</td>\n      <td>1997</td>\n      <td>16.0</td>\n      <td>0.0</td>\n      <td>2.0</td>\n      <td>1150.0</td>\n      <td>0.002</td>\n    </tr>\n    <tr>\n      <th>6080</th>\n      <td>Patrick Ewing</td>\n      <td>5</td>\n      <td>34</td>\n      <td>NYK</td>\n      <td>78</td>\n      <td>78</td>\n      <td>37.0</td>\n      <td>8.4</td>\n      <td>17.2</td>\n      <td>0.488</td>\n      <td>...</td>\n      <td>0.9</td>\n      <td>1.9</td>\n      <td>2.8</td>\n      <td>3.5</td>\n      <td>1997</td>\n      <td>8.0</td>\n      <td>0.0</td>\n      <td>57.0</td>\n      <td>1150.0</td>\n      <td>0.050</td>\n    </tr>\n    <tr>\n      <th>6109</th>\n      <td>Tom Gugliotta</td>\n      <td>4</td>\n      <td>27</td>\n      <td>MIN</td>\n      <td>81</td>\n      <td>81</td>\n      <td>38.7</td>\n      <td>7.3</td>\n      <td>16.5</td>\n      <td>0.442</td>\n      <td>...</td>\n      <td>1.2</td>\n      <td>0.5</td>\n      <td>1.7</td>\n      <td>2.9</td>\n      <td>1997</td>\n      <td>17.0</td>\n      <td>0.0</td>\n      <td>1.0</td>\n      <td>1150.0</td>\n      <td>0.001</td>\n    </tr>\n    <tr>\n      <th>6116</th>\n      <td>Tim Hardaway</td>\n      <td>1</td>\n      <td>30</td>\n      <td>MIA</td>\n      <td>81</td>\n      <td>81</td>\n      <td>38.7</td>\n      <td>7.1</td>\n      <td>17.1</td>\n      <td>0.415</td>\n      <td>...</td>\n      <td>5.2</td>\n      <td>1.0</td>\n      <td>6.2</td>\n      <td>6.5</td>\n      <td>1997</td>\n      <td>4.0</td>\n      <td>0.0</td>\n      <td>238.0</td>\n      <td>1150.0</td>\n      <td>0.207</td>\n    </tr>\n    <tr>\n      <th>6128</th>\n      <td>Grant Hill</td>\n      <td>3</td>\n      <td>24</td>\n      <td>DET</td>\n      <td>80</td>\n      <td>80</td>\n      <td>39.3</td>\n      <td>7.8</td>\n      <td>15.7</td>\n      <td>0.496</td>\n      <td>...</td>\n      <td>5.4</td>\n      <td>2.7</td>\n      <td>8.2</td>\n      <td>8.0</td>\n      <td>1997</td>\n      <td>3.0</td>\n      <td>0.0</td>\n      <td>376.0</td>\n      <td>1150.0</td>\n      <td>0.327</td>\n    </tr>\n    <tr>\n      <th>6138</th>\n      <td>Allen Iverson</td>\n      <td>1</td>\n      <td>21</td>\n      <td>PHI</td>\n      <td>76</td>\n      <td>74</td>\n      <td>40.1</td>\n      <td>8.2</td>\n      <td>19.8</td>\n      <td>0.416</td>\n      <td>...</td>\n      <td>2.5</td>\n      <td>-1.6</td>\n      <td>0.9</td>\n      <td>2.2</td>\n      <td>1997</td>\n      <td>17.0</td>\n      <td>0.0</td>\n      <td>1.0</td>\n      <td>1150.0</td>\n      <td>0.001</td>\n    </tr>\n    <tr>\n      <th>6147</th>\n      <td>Kevin Johnson</td>\n      <td>1</td>\n      <td>30</td>\n      <td>PHO</td>\n      <td>70</td>\n      <td>70</td>\n      <td>38.0</td>\n      <td>6.3</td>\n      <td>12.7</td>\n      <td>0.496</td>\n      <td>...</td>\n      <td>5.3</td>\n      <td>-0.3</td>\n      <td>5.0</td>\n      <td>4.7</td>\n      <td>1997</td>\n      <td>17.0</td>\n      <td>0.0</td>\n      <td>1.0</td>\n      <td>1150.0</td>\n      <td>0.001</td>\n    </tr>\n    <tr>\n      <th>6152</th>\n      <td>Michael Jordan</td>\n      <td>2</td>\n      <td>33</td>\n      <td>CHI</td>\n      <td>82</td>\n      <td>82</td>\n      <td>37.9</td>\n      <td>11.2</td>\n      <td>23.1</td>\n      <td>0.486</td>\n      <td>...</td>\n      <td>7.8</td>\n      <td>1.1</td>\n      <td>8.9</td>\n      <td>8.6</td>\n      <td>1997</td>\n      <td>2.0</td>\n      <td>0.0</td>\n      <td>957.0</td>\n      <td>1150.0</td>\n      <td>0.832</td>\n    </tr>\n    <tr>\n      <th>6188</th>\n      <td>Karl Malone</td>\n      <td>4</td>\n      <td>33</td>\n      <td>UTA</td>\n      <td>82</td>\n      <td>82</td>\n      <td>36.6</td>\n      <td>10.5</td>\n      <td>19.2</td>\n      <td>0.550</td>\n      <td>...</td>\n      <td>7.1</td>\n      <td>1.2</td>\n      <td>8.3</td>\n      <td>7.8</td>\n      <td>1997</td>\n      <td>1.0</td>\n      <td>1.0</td>\n      <td>986.0</td>\n      <td>1150.0</td>\n      <td>0.857</td>\n    </tr>\n    <tr>\n      <th>6199</th>\n      <td>Anthony Mason</td>\n      <td>4</td>\n      <td>30</td>\n      <td>CHH</td>\n      <td>73</td>\n      <td>73</td>\n      <td>43.1</td>\n      <td>5.9</td>\n      <td>11.3</td>\n      <td>0.525</td>\n      <td>...</td>\n      <td>2.6</td>\n      <td>0.8</td>\n      <td>3.5</td>\n      <td>4.3</td>\n      <td>1997</td>\n      <td>9.0</td>\n      <td>0.0</td>\n      <td>7.0</td>\n      <td>1150.0</td>\n      <td>0.006</td>\n    </tr>\n    <tr>\n      <th>6226</th>\n      <td>Alonzo Mourning</td>\n      <td>5</td>\n      <td>26</td>\n      <td>MIA</td>\n      <td>66</td>\n      <td>65</td>\n      <td>35.2</td>\n      <td>7.2</td>\n      <td>13.4</td>\n      <td>0.534</td>\n      <td>...</td>\n      <td>0.5</td>\n      <td>2.5</td>\n      <td>2.9</td>\n      <td>2.9</td>\n      <td>1997</td>\n      <td>12.0</td>\n      <td>0.0</td>\n      <td>5.0</td>\n      <td>1150.0</td>\n      <td>0.004</td>\n    </tr>\n    <tr>\n      <th>6232</th>\n      <td>Dikembe Mutombo</td>\n      <td>5</td>\n      <td>30</td>\n      <td>ATL</td>\n      <td>80</td>\n      <td>80</td>\n      <td>37.2</td>\n      <td>4.8</td>\n      <td>9.0</td>\n      <td>0.527</td>\n      <td>...</td>\n      <td>0.3</td>\n      <td>2.4</td>\n      <td>2.6</td>\n      <td>3.5</td>\n      <td>1997</td>\n      <td>13.0</td>\n      <td>0.0</td>\n      <td>4.0</td>\n      <td>1150.0</td>\n      <td>0.003</td>\n    </tr>\n    <tr>\n      <th>6243</th>\n      <td>Shaquille O'Neal</td>\n      <td>5</td>\n      <td>24</td>\n      <td>LAL</td>\n      <td>51</td>\n      <td>51</td>\n      <td>38.1</td>\n      <td>10.8</td>\n      <td>19.4</td>\n      <td>0.557</td>\n      <td>...</td>\n      <td>4.7</td>\n      <td>1.8</td>\n      <td>6.5</td>\n      <td>4.1</td>\n      <td>1997</td>\n      <td>9.0</td>\n      <td>0.0</td>\n      <td>7.0</td>\n      <td>1150.0</td>\n      <td>0.006</td>\n    </tr>\n    <tr>\n      <th>6245</th>\n      <td>Hakeem Olajuwon</td>\n      <td>5</td>\n      <td>34</td>\n      <td>HOU</td>\n      <td>78</td>\n      <td>78</td>\n      <td>36.6</td>\n      <td>9.3</td>\n      <td>18.3</td>\n      <td>0.510</td>\n      <td>...</td>\n      <td>1.5</td>\n      <td>2.0</td>\n      <td>3.5</td>\n      <td>3.9</td>\n      <td>1997</td>\n      <td>7.0</td>\n      <td>0.0</td>\n      <td>95.0</td>\n      <td>1150.0</td>\n      <td>0.083</td>\n    </tr>\n    <tr>\n      <th>6255</th>\n      <td>Gary Payton</td>\n      <td>1</td>\n      <td>28</td>\n      <td>SEA</td>\n      <td>82</td>\n      <td>82</td>\n      <td>39.2</td>\n      <td>8.6</td>\n      <td>18.1</td>\n      <td>0.476</td>\n      <td>...</td>\n      <td>4.4</td>\n      <td>1.1</td>\n      <td>5.5</td>\n      <td>6.1</td>\n      <td>1997</td>\n      <td>6.0</td>\n      <td>0.0</td>\n      <td>105.0</td>\n      <td>1150.0</td>\n      <td>0.091</td>\n    </tr>\n    <tr>\n      <th>6265</th>\n      <td>Scottie Pippen</td>\n      <td>3</td>\n      <td>31</td>\n      <td>CHI</td>\n      <td>82</td>\n      <td>82</td>\n      <td>37.7</td>\n      <td>7.9</td>\n      <td>16.7</td>\n      <td>0.474</td>\n      <td>...</td>\n      <td>4.3</td>\n      <td>1.4</td>\n      <td>5.7</td>\n      <td>6.1</td>\n      <td>1997</td>\n      <td>11.0</td>\n      <td>0.0</td>\n      <td>6.0</td>\n      <td>1150.0</td>\n      <td>0.005</td>\n    </tr>\n    <tr>\n      <th>6278</th>\n      <td>Glen Rice</td>\n      <td>3</td>\n      <td>29</td>\n      <td>CHH</td>\n      <td>79</td>\n      <td>78</td>\n      <td>42.6</td>\n      <td>9.1</td>\n      <td>19.2</td>\n      <td>0.477</td>\n      <td>...</td>\n      <td>3.9</td>\n      <td>-2.1</td>\n      <td>1.8</td>\n      <td>3.2</td>\n      <td>1997</td>\n      <td>5.0</td>\n      <td>0.0</td>\n      <td>134.0</td>\n      <td>1150.0</td>\n      <td>0.117</td>\n    </tr>\n    <tr>\n      <th>6280</th>\n      <td>Mitch Richmond</td>\n      <td>2</td>\n      <td>31</td>\n      <td>SAC</td>\n      <td>81</td>\n      <td>81</td>\n      <td>38.6</td>\n      <td>8.9</td>\n      <td>19.5</td>\n      <td>0.454</td>\n      <td>...</td>\n      <td>5.2</td>\n      <td>-0.6</td>\n      <td>4.6</td>\n      <td>5.2</td>\n      <td>1997</td>\n      <td>13.0</td>\n      <td>0.0</td>\n      <td>4.0</td>\n      <td>1150.0</td>\n      <td>0.003</td>\n    </tr>\n    <tr>\n      <th>6323</th>\n      <td>Steve Smith</td>\n      <td>2</td>\n      <td>27</td>\n      <td>ATL</td>\n      <td>72</td>\n      <td>72</td>\n      <td>39.1</td>\n      <td>6.8</td>\n      <td>15.9</td>\n      <td>0.429</td>\n      <td>...</td>\n      <td>2.7</td>\n      <td>-1.0</td>\n      <td>1.7</td>\n      <td>2.7</td>\n      <td>1997</td>\n      <td>17.0</td>\n      <td>0.0</td>\n      <td>1.0</td>\n      <td>1150.0</td>\n      <td>0.001</td>\n    </tr>\n    <tr>\n      <th>6337</th>\n      <td>John Stockton</td>\n      <td>1</td>\n      <td>34</td>\n      <td>UTA</td>\n      <td>82</td>\n      <td>82</td>\n      <td>35.3</td>\n      <td>5.1</td>\n      <td>9.3</td>\n      <td>0.548</td>\n      <td>...</td>\n      <td>5.6</td>\n      <td>1.0</td>\n      <td>6.6</td>\n      <td>6.3</td>\n      <td>1997</td>\n      <td>15.0</td>\n      <td>0.0</td>\n      <td>3.0</td>\n      <td>1150.0</td>\n      <td>0.003</td>\n    </tr>\n  </tbody>\n</table>\n<p>20 rows × 55 columns</p>\n</div>"
     },
     "execution_count": 22,
     "metadata": {},
     "output_type": "execute_result"
    }
   ],
   "source": [
    "full[(full.Year_x == 1997) & (full.MVP_Share != 0)]"
   ],
   "metadata": {
    "collapsed": false,
    "pycharm": {
     "name": "#%%\n"
    }
   }
  },
  {
   "cell_type": "code",
   "execution_count": null,
   "outputs": [],
   "source": [],
   "metadata": {
    "collapsed": false,
    "pycharm": {
     "name": "#%%\n"
    }
   }
  }
 ],
 "metadata": {
  "kernelspec": {
   "display_name": "Python 3",
   "language": "python",
   "name": "python3"
  },
  "language_info": {
   "codemirror_mode": {
    "name": "ipython",
    "version": 2
   },
   "file_extension": ".py",
   "mimetype": "text/x-python",
   "name": "python",
   "nbconvert_exporter": "python",
   "pygments_lexer": "ipython2",
   "version": "2.7.6"
  }
 },
 "nbformat": 4,
 "nbformat_minor": 0
}