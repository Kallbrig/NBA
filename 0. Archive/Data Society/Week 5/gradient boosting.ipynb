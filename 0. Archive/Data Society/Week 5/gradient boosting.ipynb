{
 "cells": [
  {
   "cell_type": "code",
   "execution_count": null,
   "metadata": {
    "collapsed": true
   },
   "outputs": [],
   "source": []
  },
  {
   "cell_type": "code",
   "execution_count": 12,
   "outputs": [],
   "source": [
    "import os\n",
    "from pathlib import Path\n",
    "import pandas as pd\n",
    "import numpy as np\n",
    "import matplotlib.pyplot as plt\n",
    "from pandas.plotting import scatter_matrix\n",
    "from sklearn.preprocessing import StandardScaler\n",
    "from sklearn.neighbors import NearestNeighbors\n",
    "from sklearn.model_selection import train_test_split\n",
    "\n",
    "from sklearn import metrics\n",
    "\n",
    "\n",
    "import os\n",
    "import pickle\n",
    "import matplotlib.pyplot as plt\n",
    "import numpy as np\n",
    "import pandas as pd\n",
    "from pathlib import Path\n",
    "from textwrap import wrap\n",
    "from sklearn.model_selection import train_test_split\n",
    "from sklearn import metrics\n",
    "\n",
    "# Random forest and boosting packages\n",
    "from sklearn.ensemble import RandomForestClassifier\n",
    "from sklearn.ensemble import GradientBoostingClassifier\n",
    "\n",
    "\n",
    "\n",
    "from sklearn.datasets import make_hastie_10_2\n",
    "from sklearn.ensemble import GradientBoostingClassifier\n",
    "\n",
    "np.set_printoptions(suppress=True)"
   ],
   "metadata": {
    "collapsed": false,
    "pycharm": {
     "name": "#%%\n"
    }
   }
  },
  {
   "cell_type": "code",
   "execution_count": 13,
   "outputs": [],
   "source": [
    "df = pd.read_csv('../Capstone/Full Dataset.csv',index_col=0)"
   ],
   "metadata": {
    "collapsed": false,
    "pycharm": {
     "name": "#%%\n"
    }
   }
  },
  {
   "cell_type": "code",
   "execution_count": 14,
   "outputs": [
    {
     "data": {
      "text/plain": "                    Player  Pos  Age   Tm   G  GS    MP    FG   FGA    FG%  \\\n0      Kareem Abdul-Jabbar    5   32  LAL  82   0  38.3  10.2  16.9  0.604   \n1            Tom Abernethy    4   25  GSW  67   0  18.2   2.3   4.7  0.481   \n2              Alvan Adams    5   25  PHO  75   0  28.9   6.2  11.7  0.531   \n3           Tiny Archibald    1   31  BOS  80  80  35.8   4.8   9.9  0.482   \n4            Dennis Awtrey    5   31  CHI  26   0  21.5   1.0   2.3  0.450   \n...                    ...  ...  ...  ...  ..  ..   ...   ...   ...    ...   \n18259       Thaddeus Young    4   33  TOT  52   1  16.3   2.7   5.2  0.518   \n18260           Trae Young    1   23  ATL  76  76  34.9   9.4  20.3  0.460   \n18261       Omer Yurtseven    5   23  MIA  56  12  12.6   2.3   4.4  0.526   \n18262          Cody Zeller    5   29  POR  27   0  13.1   1.9   3.3  0.567   \n18263          Ivica Zubac    5   24  LAC  76  76  24.4   4.1   6.5  0.626   \n\n       ...  OBPM  DBPM  BPM  VORP  Year_x  MVP_Rank  MVP_First  MVP_Pts Won  \\\n0      ...   4.8   2.4  7.2   7.3    1980       1.0      147.0        147.0   \n1      ...  -1.0  -0.2 -1.2   0.2    1980       0.0        0.0          0.0   \n2      ...   1.7   1.9  3.6   3.1    1980       0.0        0.0          0.0   \n3      ...   1.4  -0.3  1.1   2.3    1980       5.0        2.0          2.0   \n4      ...  -2.3   0.9 -1.4   0.1    1980       0.0        0.0          0.0   \n...    ...   ...   ...  ...   ...     ...       ...        ...          ...   \n18259  ...   0.1   2.1  2.2   0.9    2022       0.0        0.0          0.0   \n18260  ...   7.1  -2.0  5.2   4.8    2022       0.0        0.0          0.0   \n18261  ...  -1.4   0.4 -1.0   0.2    2022       0.0        0.0          0.0   \n18262  ...  -1.2  -1.0 -2.1   0.0    2022       0.0        0.0          0.0   \n18263  ...  -0.1   0.8  0.7   1.3    2022       0.0        0.0          0.0   \n\n       MVP_Pts Max  MVP_Share  \n0            221.0      0.665  \n1              0.0      0.000  \n2              0.0      0.000  \n3            221.0      0.009  \n4              0.0      0.000  \n...            ...        ...  \n18259          0.0      0.000  \n18260          0.0      0.000  \n18261          0.0      0.000  \n18262          0.0      0.000  \n18263          0.0      0.000  \n\n[18075 rows x 55 columns]",
      "text/html": "<div>\n<style scoped>\n    .dataframe tbody tr th:only-of-type {\n        vertical-align: middle;\n    }\n\n    .dataframe tbody tr th {\n        vertical-align: top;\n    }\n\n    .dataframe thead th {\n        text-align: right;\n    }\n</style>\n<table border=\"1\" class=\"dataframe\">\n  <thead>\n    <tr style=\"text-align: right;\">\n      <th></th>\n      <th>Player</th>\n      <th>Pos</th>\n      <th>Age</th>\n      <th>Tm</th>\n      <th>G</th>\n      <th>GS</th>\n      <th>MP</th>\n      <th>FG</th>\n      <th>FGA</th>\n      <th>FG%</th>\n      <th>...</th>\n      <th>OBPM</th>\n      <th>DBPM</th>\n      <th>BPM</th>\n      <th>VORP</th>\n      <th>Year_x</th>\n      <th>MVP_Rank</th>\n      <th>MVP_First</th>\n      <th>MVP_Pts Won</th>\n      <th>MVP_Pts Max</th>\n      <th>MVP_Share</th>\n    </tr>\n  </thead>\n  <tbody>\n    <tr>\n      <th>0</th>\n      <td>Kareem Abdul-Jabbar</td>\n      <td>5</td>\n      <td>32</td>\n      <td>LAL</td>\n      <td>82</td>\n      <td>0</td>\n      <td>38.3</td>\n      <td>10.2</td>\n      <td>16.9</td>\n      <td>0.604</td>\n      <td>...</td>\n      <td>4.8</td>\n      <td>2.4</td>\n      <td>7.2</td>\n      <td>7.3</td>\n      <td>1980</td>\n      <td>1.0</td>\n      <td>147.0</td>\n      <td>147.0</td>\n      <td>221.0</td>\n      <td>0.665</td>\n    </tr>\n    <tr>\n      <th>1</th>\n      <td>Tom Abernethy</td>\n      <td>4</td>\n      <td>25</td>\n      <td>GSW</td>\n      <td>67</td>\n      <td>0</td>\n      <td>18.2</td>\n      <td>2.3</td>\n      <td>4.7</td>\n      <td>0.481</td>\n      <td>...</td>\n      <td>-1.0</td>\n      <td>-0.2</td>\n      <td>-1.2</td>\n      <td>0.2</td>\n      <td>1980</td>\n      <td>0.0</td>\n      <td>0.0</td>\n      <td>0.0</td>\n      <td>0.0</td>\n      <td>0.000</td>\n    </tr>\n    <tr>\n      <th>2</th>\n      <td>Alvan Adams</td>\n      <td>5</td>\n      <td>25</td>\n      <td>PHO</td>\n      <td>75</td>\n      <td>0</td>\n      <td>28.9</td>\n      <td>6.2</td>\n      <td>11.7</td>\n      <td>0.531</td>\n      <td>...</td>\n      <td>1.7</td>\n      <td>1.9</td>\n      <td>3.6</td>\n      <td>3.1</td>\n      <td>1980</td>\n      <td>0.0</td>\n      <td>0.0</td>\n      <td>0.0</td>\n      <td>0.0</td>\n      <td>0.000</td>\n    </tr>\n    <tr>\n      <th>3</th>\n      <td>Tiny Archibald</td>\n      <td>1</td>\n      <td>31</td>\n      <td>BOS</td>\n      <td>80</td>\n      <td>80</td>\n      <td>35.8</td>\n      <td>4.8</td>\n      <td>9.9</td>\n      <td>0.482</td>\n      <td>...</td>\n      <td>1.4</td>\n      <td>-0.3</td>\n      <td>1.1</td>\n      <td>2.3</td>\n      <td>1980</td>\n      <td>5.0</td>\n      <td>2.0</td>\n      <td>2.0</td>\n      <td>221.0</td>\n      <td>0.009</td>\n    </tr>\n    <tr>\n      <th>4</th>\n      <td>Dennis Awtrey</td>\n      <td>5</td>\n      <td>31</td>\n      <td>CHI</td>\n      <td>26</td>\n      <td>0</td>\n      <td>21.5</td>\n      <td>1.0</td>\n      <td>2.3</td>\n      <td>0.450</td>\n      <td>...</td>\n      <td>-2.3</td>\n      <td>0.9</td>\n      <td>-1.4</td>\n      <td>0.1</td>\n      <td>1980</td>\n      <td>0.0</td>\n      <td>0.0</td>\n      <td>0.0</td>\n      <td>0.0</td>\n      <td>0.000</td>\n    </tr>\n    <tr>\n      <th>...</th>\n      <td>...</td>\n      <td>...</td>\n      <td>...</td>\n      <td>...</td>\n      <td>...</td>\n      <td>...</td>\n      <td>...</td>\n      <td>...</td>\n      <td>...</td>\n      <td>...</td>\n      <td>...</td>\n      <td>...</td>\n      <td>...</td>\n      <td>...</td>\n      <td>...</td>\n      <td>...</td>\n      <td>...</td>\n      <td>...</td>\n      <td>...</td>\n      <td>...</td>\n      <td>...</td>\n    </tr>\n    <tr>\n      <th>18259</th>\n      <td>Thaddeus Young</td>\n      <td>4</td>\n      <td>33</td>\n      <td>TOT</td>\n      <td>52</td>\n      <td>1</td>\n      <td>16.3</td>\n      <td>2.7</td>\n      <td>5.2</td>\n      <td>0.518</td>\n      <td>...</td>\n      <td>0.1</td>\n      <td>2.1</td>\n      <td>2.2</td>\n      <td>0.9</td>\n      <td>2022</td>\n      <td>0.0</td>\n      <td>0.0</td>\n      <td>0.0</td>\n      <td>0.0</td>\n      <td>0.000</td>\n    </tr>\n    <tr>\n      <th>18260</th>\n      <td>Trae Young</td>\n      <td>1</td>\n      <td>23</td>\n      <td>ATL</td>\n      <td>76</td>\n      <td>76</td>\n      <td>34.9</td>\n      <td>9.4</td>\n      <td>20.3</td>\n      <td>0.460</td>\n      <td>...</td>\n      <td>7.1</td>\n      <td>-2.0</td>\n      <td>5.2</td>\n      <td>4.8</td>\n      <td>2022</td>\n      <td>0.0</td>\n      <td>0.0</td>\n      <td>0.0</td>\n      <td>0.0</td>\n      <td>0.000</td>\n    </tr>\n    <tr>\n      <th>18261</th>\n      <td>Omer Yurtseven</td>\n      <td>5</td>\n      <td>23</td>\n      <td>MIA</td>\n      <td>56</td>\n      <td>12</td>\n      <td>12.6</td>\n      <td>2.3</td>\n      <td>4.4</td>\n      <td>0.526</td>\n      <td>...</td>\n      <td>-1.4</td>\n      <td>0.4</td>\n      <td>-1.0</td>\n      <td>0.2</td>\n      <td>2022</td>\n      <td>0.0</td>\n      <td>0.0</td>\n      <td>0.0</td>\n      <td>0.0</td>\n      <td>0.000</td>\n    </tr>\n    <tr>\n      <th>18262</th>\n      <td>Cody Zeller</td>\n      <td>5</td>\n      <td>29</td>\n      <td>POR</td>\n      <td>27</td>\n      <td>0</td>\n      <td>13.1</td>\n      <td>1.9</td>\n      <td>3.3</td>\n      <td>0.567</td>\n      <td>...</td>\n      <td>-1.2</td>\n      <td>-1.0</td>\n      <td>-2.1</td>\n      <td>0.0</td>\n      <td>2022</td>\n      <td>0.0</td>\n      <td>0.0</td>\n      <td>0.0</td>\n      <td>0.0</td>\n      <td>0.000</td>\n    </tr>\n    <tr>\n      <th>18263</th>\n      <td>Ivica Zubac</td>\n      <td>5</td>\n      <td>24</td>\n      <td>LAC</td>\n      <td>76</td>\n      <td>76</td>\n      <td>24.4</td>\n      <td>4.1</td>\n      <td>6.5</td>\n      <td>0.626</td>\n      <td>...</td>\n      <td>-0.1</td>\n      <td>0.8</td>\n      <td>0.7</td>\n      <td>1.3</td>\n      <td>2022</td>\n      <td>0.0</td>\n      <td>0.0</td>\n      <td>0.0</td>\n      <td>0.0</td>\n      <td>0.000</td>\n    </tr>\n  </tbody>\n</table>\n<p>18075 rows × 55 columns</p>\n</div>"
     },
     "execution_count": 14,
     "metadata": {},
     "output_type": "execute_result"
    }
   ],
   "source": [
    "feature_list = ['AST','TRB','FG%','FT%','TOV','STL','BLK','PTS','Pos']\n",
    "\n",
    "# pos_to_num_map = {'PG':1,'SG':2,'SF':3,'PF':4,'C':5}\n",
    "df = df[(df['MP'] > 0) & (df['G'] > 0) & (df['PTS'] > 0)]\n",
    "df_subset = df[feature_list].copy()\n",
    "# df_subset.Pos = df_subset.Pos.map(pos_to_num_map)\n",
    "df_subset.loc[:,'Pos'] = pd.Categorical(df_subset.loc[:,'Pos'])\n",
    "\n",
    "df.shape\n",
    "df"
   ],
   "metadata": {
    "collapsed": false,
    "pycharm": {
     "name": "#%%\n"
    }
   }
  },
  {
   "cell_type": "code",
   "execution_count": 15,
   "outputs": [],
   "source": [
    "X = df_subset.drop('Pos',axis=1)\n",
    "y = df_subset.Pos\n",
    "\n",
    "features = X.columns\n",
    "\n",
    "X_train, X_test, y_train, y_test = train_test_split(X, y, test_size=0.3, random_state=42)"
   ],
   "metadata": {
    "collapsed": false,
    "pycharm": {
     "name": "#%%\n"
    }
   }
  },
  {
   "cell_type": "code",
   "execution_count": 16,
   "outputs": [],
   "source": [
    "gbm = GradientBoostingClassifier(n_estimators = 200,\n",
    "                                learning_rate = 1,\n",
    "                                max_depth = 2,\n",
    "                                random_state = 1)"
   ],
   "metadata": {
    "collapsed": false,
    "pycharm": {
     "name": "#%%\n"
    }
   }
  },
  {
   "cell_type": "code",
   "execution_count": 17,
   "outputs": [
    {
     "data": {
      "text/plain": "GradientBoostingClassifier(learning_rate=1, max_depth=2, n_estimators=200,\n                           random_state=1)"
     },
     "execution_count": 17,
     "metadata": {},
     "output_type": "execute_result"
    }
   ],
   "source": [
    "gbm.fit(X_train, y_train)"
   ],
   "metadata": {
    "collapsed": false,
    "pycharm": {
     "name": "#%%\n"
    }
   }
  },
  {
   "cell_type": "code",
   "execution_count": 18,
   "outputs": [],
   "source": [
    "predicted_values_gbm = gbm.predict(X_test)\n"
   ],
   "metadata": {
    "collapsed": false,
    "pycharm": {
     "name": "#%%\n"
    }
   }
  },
  {
   "cell_type": "code",
   "execution_count": 19,
   "outputs": [
    {
     "name": "stdout",
     "output_type": "stream",
     "text": [
      "[[832 164  25   5   0]\n",
      " [181 671 245  51   5]\n",
      " [ 22 245 513 189  53]\n",
      " [  6  33 208 541 295]\n",
      " [  4   9  43 365 718]]\n",
      "Accuracy of gbm on test data:  0.6039092753088696\n"
     ]
    }
   ],
   "source": [
    "conf_matrix_boosting = metrics.confusion_matrix(y_test, predicted_values_gbm)\n",
    "print(conf_matrix_boosting)\n",
    "# Compute test model accuracy score.\n",
    "accuracy_gbm = metrics.accuracy_score(y_test, predicted_values_gbm)\n",
    "print('Accuracy of gbm on test data: ', accuracy_gbm)\n"
   ],
   "metadata": {
    "collapsed": false,
    "pycharm": {
     "name": "#%%\n"
    }
   }
  },
  {
   "cell_type": "code",
   "execution_count": 20,
   "outputs": [
    {
     "data": {
      "text/plain": "Text(0.5, 0, 'Relative Importance')"
     },
     "execution_count": 20,
     "metadata": {},
     "output_type": "execute_result"
    },
    {
     "data": {
      "text/plain": "<Figure size 432x288 with 1 Axes>",
      "image/png": "[encoded data removed]"
     },
     "metadata": {
      "needs_background": "light"
     },
     "output_type": "display_data"
    }
   ],
   "source": [
    "\n",
    "importances = gbm.feature_importances_\n",
    "indices = np.argsort(importances)[::-1]\n",
    "top_indices = indices[0:10][::-1]\n",
    "\n",
    "plt.figure(1)\n",
    "plt.title('Feature Importance')\n",
    "plt.barh(range(len(top_indices)), importances[top_indices], color = 'b', align = 'center')\n",
    "labels = features[top_indices]\n",
    "labels = [ '\\n'.join(wrap(l,13)) for l in labels ]\n",
    "plt.yticks(range(len(top_indices)), features[top_indices])\n",
    "plt.xlabel('Relative Importance')"
   ],
   "metadata": {
    "collapsed": false,
    "pycharm": {
     "name": "#%%\n"
    }
   }
  },
  {
   "cell_type": "code",
   "execution_count": null,
   "outputs": [],
   "source": [],
   "metadata": {
    "collapsed": false,
    "pycharm": {
     "name": "#%%\n"
    }
   }
  }
 ],
 "metadata": {
  "kernelspec": {
   "display_name": "Python 3",
   "language": "python",
   "name": "python3"
  },
  "language_info": {
   "codemirror_mode": {
    "name": "ipython",
    "version": 2
   },
   "file_extension": ".py",
   "mimetype": "text/x-python",
   "name": "python",
   "nbconvert_exporter": "python",
   "pygments_lexer": "ipython2",
   "version": "2.7.6"
  }
 },
 "nbformat": 4,
 "nbformat_minor": 0
}