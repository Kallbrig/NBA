{
 "cells": [
  {
   "cell_type": "code",
   "execution_count": 255,
   "metadata": {
    "collapsed": true
   },
   "outputs": [],
   "source": [
    "import pandas as pd\n",
    "import matplotlib.pyplot as plt\n",
    "import numpy as np\n",
    "import seaborn as sns\n",
    "\n",
    "from matplotlib.legend_handler import HandlerLine2D\n",
    "\n",
    "from sklearn import metrics\n",
    "from sklearn.model_selection import train_test_split\n",
    "from sklearn import tree\n",
    "from sklearn.model_selection import GridSearchCV, RandomizedSearchCV\n",
    "from sklearn.preprocessing import StandardScaler, OneHotEncoder\n",
    "from sklearn.pipeline import Pipeline\n",
    "\n",
    "%matplotlib inline"
   ]
  },
  {
   "cell_type": "markdown",
   "source": [
    "## Results - Test Accuracy\n",
    "- kNN: Best Score: 0.5947303410091553\n",
    "- Decision Tree: Test Accuracy: 0.5695461200585652\n",
    "- Random Forest: Best Score: 0.6210346510492923\n",
    "- Gradient Boosting: Test Accuracy: 0.6039092753088696\n"
   ],
   "metadata": {
    "collapsed": false
   }
  },
  {
   "cell_type": "code",
   "execution_count": 225,
   "outputs": [
    {
     "data": {
      "text/plain": "             Player Pos   Age   Tm     G   GS    MP   FG  FGA     FG%  ...  \\\n0      Marty Byrnes  SF  23.0  LAL  32.0  0.0   6.1  0.8  1.6  0.5000  ...   \n1       Steve Hawes  PF  29.0  ATL  82.0  0.0  22.6  3.7  7.4  0.5000  ...   \n3   Spencer Haywood  PF  30.0  LAL  76.0  0.0  20.3  3.8  7.8  0.4872  ...   \n4         Gar Heard  PF  31.0  PHO  82.0  0.0  17.1  2.1  5.0  0.4200  ...   \n5  Gerald Henderson  PG  24.0  BOS  76.0  2.0  14.0  2.5  5.0  0.5000  ...   \n\n   ROTY_Pts Won  ROTY_Pts Max  ROTY_Share   ROTY  SMOTY_Rank  SMOTY_First  \\\n0           0.0          -1.0         0.0  False         0.0          0.0   \n1           0.0          -1.0         0.0  False         0.0          0.0   \n3           0.0          -1.0         0.0  False         0.0          0.0   \n4           0.0          -1.0         0.0  False         0.0          0.0   \n5           0.0          -1.0         0.0  False         0.0          0.0   \n\n   SMOTY_Pts Won  SMOTY_Pts Max  SMOTY_Share  SMOTY  \n0            0.0           -1.0          0.0  False  \n1            0.0           -1.0          0.0  False  \n3            0.0           -1.0          0.0  False  \n4            0.0           -1.0          0.0  False  \n5            0.0           -1.0          0.0  False  \n\n[5 rows x 85 columns]",
      "text/html": "<div>\n<style scoped>\n    .dataframe tbody tr th:only-of-type {\n        vertical-align: middle;\n    }\n\n    .dataframe tbody tr th {\n        vertical-align: top;\n    }\n\n    .dataframe thead th {\n        text-align: right;\n    }\n</style>\n<table border=\"1\" class=\"dataframe\">\n  <thead>\n    <tr style=\"text-align: right;\">\n      <th></th>\n      <th>Player</th>\n      <th>Pos</th>\n      <th>Age</th>\n      <th>Tm</th>\n      <th>G</th>\n      <th>GS</th>\n      <th>MP</th>\n      <th>FG</th>\n      <th>FGA</th>\n      <th>FG%</th>\n      <th>...</th>\n      <th>ROTY_Pts Won</th>\n      <th>ROTY_Pts Max</th>\n      <th>ROTY_Share</th>\n      <th>ROTY</th>\n      <th>SMOTY_Rank</th>\n      <th>SMOTY_First</th>\n      <th>SMOTY_Pts Won</th>\n      <th>SMOTY_Pts Max</th>\n      <th>SMOTY_Share</th>\n      <th>SMOTY</th>\n    </tr>\n  </thead>\n  <tbody>\n    <tr>\n      <th>0</th>\n      <td>Marty Byrnes</td>\n      <td>SF</td>\n      <td>23.0</td>\n      <td>LAL</td>\n      <td>32.0</td>\n      <td>0.0</td>\n      <td>6.1</td>\n      <td>0.8</td>\n      <td>1.6</td>\n      <td>0.5000</td>\n      <td>...</td>\n      <td>0.0</td>\n      <td>-1.0</td>\n      <td>0.0</td>\n      <td>False</td>\n      <td>0.0</td>\n      <td>0.0</td>\n      <td>0.0</td>\n      <td>-1.0</td>\n      <td>0.0</td>\n      <td>False</td>\n    </tr>\n    <tr>\n      <th>1</th>\n      <td>Steve Hawes</td>\n      <td>PF</td>\n      <td>29.0</td>\n      <td>ATL</td>\n      <td>82.0</td>\n      <td>0.0</td>\n      <td>22.6</td>\n      <td>3.7</td>\n      <td>7.4</td>\n      <td>0.5000</td>\n      <td>...</td>\n      <td>0.0</td>\n      <td>-1.0</td>\n      <td>0.0</td>\n      <td>False</td>\n      <td>0.0</td>\n      <td>0.0</td>\n      <td>0.0</td>\n      <td>-1.0</td>\n      <td>0.0</td>\n      <td>False</td>\n    </tr>\n    <tr>\n      <th>3</th>\n      <td>Spencer Haywood</td>\n      <td>PF</td>\n      <td>30.0</td>\n      <td>LAL</td>\n      <td>76.0</td>\n      <td>0.0</td>\n      <td>20.3</td>\n      <td>3.8</td>\n      <td>7.8</td>\n      <td>0.4872</td>\n      <td>...</td>\n      <td>0.0</td>\n      <td>-1.0</td>\n      <td>0.0</td>\n      <td>False</td>\n      <td>0.0</td>\n      <td>0.0</td>\n      <td>0.0</td>\n      <td>-1.0</td>\n      <td>0.0</td>\n      <td>False</td>\n    </tr>\n    <tr>\n      <th>4</th>\n      <td>Gar Heard</td>\n      <td>PF</td>\n      <td>31.0</td>\n      <td>PHO</td>\n      <td>82.0</td>\n      <td>0.0</td>\n      <td>17.1</td>\n      <td>2.1</td>\n      <td>5.0</td>\n      <td>0.4200</td>\n      <td>...</td>\n      <td>0.0</td>\n      <td>-1.0</td>\n      <td>0.0</td>\n      <td>False</td>\n      <td>0.0</td>\n      <td>0.0</td>\n      <td>0.0</td>\n      <td>-1.0</td>\n      <td>0.0</td>\n      <td>False</td>\n    </tr>\n    <tr>\n      <th>5</th>\n      <td>Gerald Henderson</td>\n      <td>PG</td>\n      <td>24.0</td>\n      <td>BOS</td>\n      <td>76.0</td>\n      <td>2.0</td>\n      <td>14.0</td>\n      <td>2.5</td>\n      <td>5.0</td>\n      <td>0.5000</td>\n      <td>...</td>\n      <td>0.0</td>\n      <td>-1.0</td>\n      <td>0.0</td>\n      <td>False</td>\n      <td>0.0</td>\n      <td>0.0</td>\n      <td>0.0</td>\n      <td>-1.0</td>\n      <td>0.0</td>\n      <td>False</td>\n    </tr>\n  </tbody>\n</table>\n<p>5 rows × 85 columns</p>\n</div>"
     },
     "execution_count": 225,
     "metadata": {},
     "output_type": "execute_result"
    }
   ],
   "source": [
    "df = pd.read_csv('../../Data/Players With Award Data/complete_players_with_award_voting.csv',index_col=0)\n",
    "df.head()"
   ],
   "metadata": {
    "collapsed": false,
    "pycharm": {
     "name": "#%%\n"
    }
   }
  },
  {
   "cell_type": "code",
   "execution_count": 226,
   "outputs": [],
   "source": [
    "feature_list = ['AST','TRB','FG%','FT%','TOV','STL','BLK','PTS','Pos']"
   ],
   "metadata": {
    "collapsed": false,
    "pycharm": {
     "name": "#%%\n"
    }
   }
  },
  {
   "cell_type": "code",
   "execution_count": 227,
   "outputs": [
    {
     "data": {
      "text/plain": "(13660, 85)"
     },
     "execution_count": 227,
     "metadata": {},
     "output_type": "execute_result"
    }
   ],
   "source": [
    "pos_to_num_map = {'PG':1,'SG':2,'SF':3,'PF':4,'C':5}\n",
    "df = df[(df['MP'] > 0) & (df['G'] > 0) & (df['PTS'] > 0)]\n",
    "df_subset = df[feature_list].copy()\n",
    "df_subset.Pos = df_subset.Pos.map(pos_to_num_map)\n",
    "df_subset.loc[:,'Pos'] = pd.Categorical(df_subset.loc[:,'Pos'])\n",
    "\n",
    "df.shape"
   ],
   "metadata": {
    "collapsed": false,
    "pycharm": {
     "name": "#%%\n"
    }
   }
  },
  {
   "cell_type": "code",
   "execution_count": 228,
   "outputs": [
    {
     "data": {
      "text/plain": "<AxesSubplot:>"
     },
     "execution_count": 228,
     "metadata": {},
     "output_type": "execute_result"
    },
    {
     "data": {
      "text/plain": "<Figure size 432x288 with 2 Axes>",
      "image/png": "[encoded data removed]"
     },
     "metadata": {
      "needs_background": "light"
     },
     "output_type": "display_data"
    }
   ],
   "source": [
    "\n",
    "sns.heatmap(df_subset.corr())"
   ],
   "metadata": {
    "collapsed": false,
    "pycharm": {
     "name": "#%%\n"
    }
   }
  },
  {
   "cell_type": "code",
   "execution_count": 229,
   "outputs": [
    {
     "data": {
      "text/plain": "<AxesSubplot:xlabel='TOV', ylabel='Pos'>"
     },
     "execution_count": 229,
     "metadata": {},
     "output_type": "execute_result"
    },
    {
     "data": {
      "text/plain": "<Figure size 432x288 with 1 Axes>",
      "image/png": "[encoded data removed]"
     },
     "metadata": {
      "needs_background": "light"
     },
     "output_type": "display_data"
    }
   ],
   "source": [
    "# sns.scatterplot(x='AST',y='Pos',data=df_subset)\n",
    "sns.barplot(x='TOV',y='Pos',data=df_subset)"
   ],
   "metadata": {
    "collapsed": false,
    "pycharm": {
     "name": "#%%\n"
    }
   }
  },
  {
   "cell_type": "code",
   "execution_count": 230,
   "outputs": [],
   "source": [
    "X = df_subset.drop('Pos',axis=1)\n",
    "y = df_subset.Pos\n",
    "\n",
    "X_train, X_test, y_train, y_test = train_test_split(X, y, test_size=0.3, random_state=42)"
   ],
   "metadata": {
    "collapsed": false,
    "pycharm": {
     "name": "#%%\n"
    }
   }
  },
  {
   "cell_type": "code",
   "execution_count": 231,
   "outputs": [],
   "source": [
    "clf = tree.DecisionTreeClassifier()"
   ],
   "metadata": {
    "collapsed": false,
    "pycharm": {
     "name": "#%%\n"
    }
   }
  },
  {
   "cell_type": "code",
   "execution_count": 232,
   "outputs": [],
   "source": [
    "clf = clf.fit(X_train,y_train)"
   ],
   "metadata": {
    "collapsed": false,
    "pycharm": {
     "name": "#%%\n"
    }
   }
  },
  {
   "cell_type": "code",
   "execution_count": 233,
   "outputs": [],
   "source": [
    "pred = clf.predict(X_test)"
   ],
   "metadata": {
    "collapsed": false,
    "pycharm": {
     "name": "#%%\n"
    }
   }
  },
  {
   "cell_type": "code",
   "execution_count": 234,
   "outputs": [],
   "source": [
    "# tree.plot_tree(clf,\n",
    "#               feature_names= X.columns,\n",
    "#               filled=True)\n",
    "# plt.show()"
   ],
   "metadata": {
    "collapsed": false,
    "pycharm": {
     "name": "#%%\n"
    }
   }
  },
  {
   "cell_type": "code",
   "execution_count": 235,
   "outputs": [
    {
     "name": "stdout",
     "output_type": "stream",
     "text": [
      "Accuracy on test data:  0.5141532454856027\n",
      "Train Accuracy: 0.999477096841665\n"
     ]
    }
   ],
   "source": [
    "\n",
    "ex_tree_accuracy_score = metrics.accuracy_score(y_test, pred)\n",
    "print(\"Accuracy on test data: \", ex_tree_accuracy_score)\n",
    "\n",
    "# Compute accuracy using training data.\n",
    "ex_acc_train_tree = clf.score(X_train,\n",
    "                                 y_train)\n",
    "print (\"Train Accuracy:\", ex_acc_train_tree)"
   ],
   "metadata": {
    "collapsed": false,
    "pycharm": {
     "name": "#%%\n"
    }
   }
  },
  {
   "cell_type": "code",
   "execution_count": 236,
   "outputs": [
    {
     "data": {
      "text/plain": "<Figure size 432x288 with 1 Axes>",
      "image/png": "[encoded data removed]"
     },
     "metadata": {
      "needs_background": "light"
     },
     "output_type": "display_data"
    }
   ],
   "source": [
    "# Define function that will determine the optimal number for each parameter.\n",
    "def optimal_parameter(values,test_results):\n",
    "    best_test_value = max(test_results)\n",
    "    best_test_index = test_results.index(best_test_value)\n",
    "    best_value = values[best_test_index]\n",
    "    return(best_value)\n",
    "\n",
    "# Fit a Decision Tree with depths ranging from 1 to 32 and plot the training and test accuracy\n",
    "ex_max_depths = np.linspace(1, 32, 32, endpoint = True)\n",
    "ex_train_results = []\n",
    "ex_test_results = []\n",
    "\n",
    "for max_depth in ex_max_depths:\n",
    "   ex_dt = tree.DecisionTreeClassifier(max_depth = max_depth)\n",
    "   ex_dt.fit(X_train, y_train)\n",
    "\n",
    "   ex_train_pred = ex_dt.predict(X_train)\n",
    "   ex_acc_train = metrics.accuracy_score(y_train, ex_train_pred)\n",
    "\n",
    "   # Add accuracy score to previous train results\n",
    "   ex_train_results.append(ex_acc_train)\n",
    "\n",
    "   ex_y_pred = ex_dt.predict(X_test)\n",
    "   ex_acc_test = metrics.accuracy_score(y_test, ex_y_pred)\n",
    "\n",
    "   # Add accuracy score to previous test results\n",
    "   ex_test_results.append(ex_acc_test)\n",
    "\n",
    "# Store optimal max_depth.\n",
    "ex_optimal_max_depth = optimal_parameter(ex_max_depths,ex_test_results)\n",
    "\n",
    "# Plot max depth over 1 - 32.\n",
    "line1, = plt.plot(ex_max_depths, ex_train_results, 'r', label= \"Train accuracy\")\n",
    "line2, = plt.plot(ex_max_depths, ex_test_results, 'g', label= \"Test accuracy\")\n",
    "#\n",
    "plt.legend(handler_map={line1: HandlerLine2D(numpoints = 2)})\n",
    "plt.ylabel('Accuracy')\n",
    "plt.xlabel('Tree depth')\n",
    "plt.show()\n"
   ],
   "metadata": {
    "collapsed": false,
    "pycharm": {
     "name": "#%%\n"
    }
   }
  },
  {
   "cell_type": "code",
   "execution_count": 237,
   "outputs": [],
   "source": [
    "ex_min_samples_splits = np.linspace(0.1, 1.0, 10, endpoint=True)\n",
    "ex_train_results = []\n",
    "ex_test_results = []\n",
    "\n",
    "for min_samples_split in ex_min_samples_splits:\n",
    "   ex_dt = tree.DecisionTreeClassifier(min_samples_split=min_samples_split)\n",
    "   ex_dt.fit(X_train, y_train)\n",
    "\n",
    "   ex_train_pred = ex_dt.predict(X_train)\n",
    "   ex_acc_train = metrics.accuracy_score(y_train, ex_train_pred)\n",
    "\n",
    "   # Add accuracy score to previous train results\n",
    "   ex_train_results.append(ex_acc_train)\n",
    "\n",
    "   ex_y_pred = ex_dt.predict(X_test)\n",
    "   ex_acc_test = metrics.accuracy_score(y_test, ex_y_pred)\n",
    "\n",
    "   # Add accuracy score to previous test results\n",
    "   ex_test_results.append(ex_acc_test)\n",
    "\n",
    "# Store optimal max_depth.\n",
    "ex_optimal_min_samples_split = optimal_parameter(ex_min_samples_splits,ex_test_results)\n"
   ],
   "metadata": {
    "collapsed": false,
    "pycharm": {
     "name": "#%%\n"
    }
   }
  },
  {
   "cell_type": "code",
   "execution_count": 238,
   "outputs": [],
   "source": [
    "# Min_samples_leaf:\n",
    "ex_min_samples_leafs = np.linspace(0.1, 0.5, 5, endpoint = True)\n",
    "ex_train_results = []\n",
    "ex_test_results = []\n",
    "\n",
    "for min_samples_leaf in ex_min_samples_leafs:\n",
    "   ex_dt = tree.DecisionTreeClassifier(min_samples_leaf=min_samples_leaf)\n",
    "   ex_dt.fit(X_train, y_train)\n",
    "\n",
    "   ex_train_pred = ex_dt.predict(X_train)\n",
    "   ex_acc_train = metrics.accuracy_score(y_train, ex_train_pred)\n",
    "\n",
    "   # Add accuracy score to previous train results\n",
    "   ex_train_results.append(ex_acc_train)\n",
    "\n",
    "   ex_y_pred = ex_dt.predict(X_test)\n",
    "   ex_acc_test = metrics.accuracy_score(y_test, ex_y_pred)\n",
    "\n",
    "   # Add accuracy score to previous test results\n",
    "   ex_test_results.append(ex_acc_test)\n",
    "\n",
    "ex_optimal_min_samples_leafs = optimal_parameter(ex_min_samples_leafs,ex_test_results)\n",
    "\n",
    "\n",
    "# Optimize: max features\n",
    "ex_max_features = list(range(1,X.shape[1]))\n",
    "ex_train_results = []\n",
    "ex_test_results = []\n",
    "\n",
    "for max_feature in ex_max_features:\n",
    "   ex_dt = tree.DecisionTreeClassifier(max_features=max_feature)\n",
    "   ex_dt.fit(X_train, y_train)\n",
    "\n",
    "   ex_train_pred = ex_dt.predict(X_train)\n",
    "   ex_acc_train = metrics.accuracy_score(y_train, ex_train_pred)\n",
    "\n",
    "   # Add accuracy score to previous train results\n",
    "   ex_train_results.append(ex_acc_train)\n",
    "\n",
    "   ex_y_pred = ex_dt.predict(X_test)\n",
    "   ex_acc_test = metrics.accuracy_score(y_test, ex_y_pred)\n",
    "\n",
    "   # Add accuracy score to previous test results\n",
    "   ex_test_results.append(ex_acc_test)\n",
    "\n",
    "ex_optimal_max_features = optimal_parameter(ex_max_features,ex_test_results)\n",
    "\n"
   ],
   "metadata": {
    "collapsed": false,
    "pycharm": {
     "name": "#%%\n"
    }
   }
  },
  {
   "cell_type": "code",
   "execution_count": 239,
   "outputs": [
    {
     "name": "stdout",
     "output_type": "stream",
     "text": [
      "The optimal max depth is: 7.0\n",
      "The optimal min samples split is: 0.1\n",
      "The optimal min samples leaf is: 0.1\n",
      "The optimal max features is: 6\n"
     ]
    }
   ],
   "source": [
    "print(\"The optimal max depth is:\", ex_optimal_max_depth)\n",
    "print(\"The optimal min samples split is:\", ex_optimal_min_samples_split)\n",
    "print(\"The optimal min samples leaf is:\", ex_optimal_min_samples_split)\n",
    "print(\"The optimal max features is:\", ex_optimal_max_features)\n"
   ],
   "metadata": {
    "collapsed": false,
    "pycharm": {
     "name": "#%%\n"
    }
   }
  },
  {
   "cell_type": "code",
   "execution_count": 240,
   "outputs": [
    {
     "name": "stdout",
     "output_type": "stream",
     "text": [
      "DecisionTreeClassifier(max_depth=7.0, max_features=6)\n",
      "Test Accuracy: 0.56564177647633\n",
      "Train Accuracy: 0.6075088893536917\n"
     ]
    }
   ],
   "source": [
    "\n",
    "# Build optimized model\n",
    "np.random.seed(1)\n",
    "\n",
    "# Implement the Decision Tree on ex_X_train.\n",
    "ex_clf_optimized = tree.DecisionTreeClassifier(max_depth = ex_optimal_max_depth,\n",
    "\n",
    "                                            max_features = ex_optimal_max_features)\n",
    "\n",
    "# We can now see our optimized features where before they were just default:\n",
    "print(ex_clf_optimized)\n",
    "ex_clf_optimized_fit = ex_clf_optimized.fit(X_train, y_train)\n",
    "# Predict on ex_X_test.\n",
    "ex_y_predict_optimized = ex_clf_optimized_fit.predict(X_test)\n",
    "# Get the accuracy score.\n",
    "ex_acc_score_tree_optimized = metrics.accuracy_score(y_test, ex_y_predict_optimized)\n",
    "print('Test Accuracy:', ex_acc_score_tree_optimized)\n",
    "\n",
    "\n",
    "# Compute accuracy using training data.\n",
    "ex_acc_train_tree_optimized = ex_clf_optimized_fit.score(X_train, y_train)\n",
    "print (\"Train Accuracy:\", ex_acc_train_tree_optimized)\n",
    "\n",
    "\n"
   ],
   "metadata": {
    "collapsed": false,
    "pycharm": {
     "name": "#%%\n"
    }
   }
  },
  {
   "cell_type": "code",
   "execution_count": 241,
   "outputs": [],
   "source": [
    "# tree.plot_tree(ex_clf_optimized_fit,\n",
    "#               feature_names= X.columns,\n",
    "#               filled=True)\n",
    "# plt.show()"
   ],
   "metadata": {
    "collapsed": false,
    "pycharm": {
     "name": "#%%\n"
    }
   }
  },
  {
   "cell_type": "code",
   "execution_count": 243,
   "outputs": [
    {
     "ename": "ValueError",
     "evalue": "list.remove(x): x not in list",
     "output_type": "error",
     "traceback": [
      "\u001B[0;31m---------------------------------------------------------------------------\u001B[0m",
      "\u001B[0;31mValueError\u001B[0m                                Traceback (most recent call last)",
      "Input \u001B[0;32mIn [243]\u001B[0m, in \u001B[0;36m<module>\u001B[0;34m\u001B[0m\n\u001B[1;32m      1\u001B[0m \u001B[38;5;66;03m# X_train\u001B[39;00m\n\u001B[0;32m----> 4\u001B[0m pd\u001B[38;5;241m.\u001B[39mDataFrame(ex_clf_optimized\u001B[38;5;241m.\u001B[39mpredict(df\u001B[38;5;241m.\u001B[39mloc[\u001B[43mfeature_list\u001B[49m\u001B[38;5;241;43m.\u001B[39;49m\u001B[43mremove\u001B[49m\u001B[43m(\u001B[49m\u001B[38;5;124;43m'\u001B[39;49m\u001B[38;5;124;43mPos\u001B[39;49m\u001B[38;5;124;43m'\u001B[39;49m\u001B[43m)\u001B[49m,df\u001B[38;5;241m.\u001B[39mPlayer \u001B[38;5;241m==\u001B[39m \u001B[38;5;124m'\u001B[39m\u001B[38;5;124mGiannis Antetokounmpo\u001B[39m\u001B[38;5;124m'\u001B[39m,]),columns\u001B[38;5;241m=\u001B[39m[\u001B[38;5;124m'\u001B[39m\u001B[38;5;124mPos\u001B[39m\u001B[38;5;124m'\u001B[39m])\n",
      "\u001B[0;31mValueError\u001B[0m: list.remove(x): x not in list"
     ]
    }
   ],
   "source": [
    "# X_train\n",
    "\n",
    "\n",
    "pd.DataFrame(ex_clf_optimized_fit.predict(df.loc[feature_list,df.Player == 'Giannis Antetokounmpo',]),columns=['Pos'])\n",
    "\n",
    "# pd.DataFrame(ex_clf_optimized.predict(df.loc[df.Player == 'Giannis Antetokounmpo',feature_list]),columns=['Position']).value_counts()"
   ],
   "metadata": {
    "collapsed": false,
    "pycharm": {
     "name": "#%%\n"
    }
   }
  },
  {
   "cell_type": "code",
   "execution_count": 251,
   "outputs": [
    {
     "ename": "TypeError",
     "evalue": "'int' object is not iterable",
     "output_type": "error",
     "traceback": [
      "\u001B[0;31m---------------------------------------------------------------------------\u001B[0m",
      "\u001B[0;31mTypeError\u001B[0m                                 Traceback (most recent call last)",
      "Input \u001B[0;32mIn [251]\u001B[0m, in \u001B[0;36m<module>\u001B[0;34m\u001B[0m\n\u001B[0;32m----> 1\u001B[0m pd\u001B[38;5;241m.\u001B[39mDataFrame(ex_clf_optimized_fit\u001B[38;5;241m.\u001B[39mpredict(df\u001B[38;5;241m.\u001B[39mloc[df\u001B[38;5;241m.\u001B[39mPlayer \u001B[38;5;241m==\u001B[39m \u001B[38;5;124m'\u001B[39m\u001B[38;5;124mGiannis Antetokounmpo\u001B[39m\u001B[38;5;124m'\u001B[39m,feature_list,]),columns\u001B[38;5;241m=\u001B[39m[\u001B[38;5;124m'\u001B[39m\u001B[38;5;124mPos\u001B[39m\u001B[38;5;124m'\u001B[39m])\u001B[38;5;241m.\u001B[39mPos\u001B[38;5;241m.\u001B[39mmap({v:k  \u001B[38;5;28;01mfor\u001B[39;00m k, val \u001B[38;5;129;01min\u001B[39;00m pos_to_num_map\u001B[38;5;241m.\u001B[39mitems() \u001B[38;5;28;01mfor\u001B[39;00m v \u001B[38;5;129;01min\u001B[39;00m val })\n",
      "Input \u001B[0;32mIn [251]\u001B[0m, in \u001B[0;36m<dictcomp>\u001B[0;34m(.0)\u001B[0m\n\u001B[0;32m----> 1\u001B[0m pd\u001B[38;5;241m.\u001B[39mDataFrame(ex_clf_optimized_fit\u001B[38;5;241m.\u001B[39mpredict(df\u001B[38;5;241m.\u001B[39mloc[df\u001B[38;5;241m.\u001B[39mPlayer \u001B[38;5;241m==\u001B[39m \u001B[38;5;124m'\u001B[39m\u001B[38;5;124mGiannis Antetokounmpo\u001B[39m\u001B[38;5;124m'\u001B[39m,feature_list,]),columns\u001B[38;5;241m=\u001B[39m[\u001B[38;5;124m'\u001B[39m\u001B[38;5;124mPos\u001B[39m\u001B[38;5;124m'\u001B[39m])\u001B[38;5;241m.\u001B[39mPos\u001B[38;5;241m.\u001B[39mmap({v:k  \u001B[38;5;28;01mfor\u001B[39;00m k, val \u001B[38;5;129;01min\u001B[39;00m pos_to_num_map\u001B[38;5;241m.\u001B[39mitems() \u001B[38;5;28;01mfor\u001B[39;00m v \u001B[38;5;129;01min\u001B[39;00m val })\n",
      "\u001B[0;31mTypeError\u001B[0m: 'int' object is not iterable"
     ]
    }
   ],
   "source": [
    "pd.DataFrame(ex_clf_optimized_fit.predict(df.loc[df.Player == 'Giannis Antetokounmpo',feature_list,]),columns=['Pos']).Pos.map({v:k  for k, val in pos_to_num_map.items() for v in val })"
   ],
   "metadata": {
    "collapsed": false,
    "pycharm": {
     "name": "#%%\n"
    }
   }
  },
  {
   "cell_type": "markdown",
   "source": [
    "# Kneighbors"
   ],
   "metadata": {
    "collapsed": false
   }
  },
  {
   "cell_type": "code",
   "execution_count": 123,
   "outputs": [
    {
     "data": {
      "text/plain": "       AST  TRB     FG%     FT%  TOV  STL  BLK   PTS\n0      0.4  0.8  0.5000  0.8000  0.7  0.2  0.0   2.0\n1      1.8  6.0  0.5000  0.8182  1.5  0.9  0.4   9.3\n3      1.2  4.6  0.4872  0.7778  1.8  0.5  0.8   9.7\n4      1.2  4.6  0.4200  0.8000  1.1  1.0  0.6   5.0\n5      1.9  1.1  0.5000  0.7059  1.4  0.6  0.2   6.2\n...    ...  ...     ...     ...  ...  ...  ...   ...\n16056  1.4  3.4  0.4146  0.8182  0.8  0.5  0.2   5.0\n16057  0.4  2.6  0.3958  0.8571  0.4  0.3  0.2   4.8\n16058  1.5  4.7  0.4833  0.6552  1.1  0.8  0.4   7.9\n16059  0.3  2.2  0.3462  0.5000  0.3  0.3  0.1   2.7\n16060  1.8  9.0  0.5083  0.6286  2.3  0.8  1.4  14.3\n\n[13660 rows x 8 columns]",
      "text/html": "<div>\n<style scoped>\n    .dataframe tbody tr th:only-of-type {\n        vertical-align: middle;\n    }\n\n    .dataframe tbody tr th {\n        vertical-align: top;\n    }\n\n    .dataframe thead th {\n        text-align: right;\n    }\n</style>\n<table border=\"1\" class=\"dataframe\">\n  <thead>\n    <tr style=\"text-align: right;\">\n      <th></th>\n      <th>AST</th>\n      <th>TRB</th>\n      <th>FG%</th>\n      <th>FT%</th>\n      <th>TOV</th>\n      <th>STL</th>\n      <th>BLK</th>\n      <th>PTS</th>\n    </tr>\n  </thead>\n  <tbody>\n    <tr>\n      <th>0</th>\n      <td>0.4</td>\n      <td>0.8</td>\n      <td>0.5000</td>\n      <td>0.8000</td>\n      <td>0.7</td>\n      <td>0.2</td>\n      <td>0.0</td>\n      <td>2.0</td>\n    </tr>\n    <tr>\n      <th>1</th>\n      <td>1.8</td>\n      <td>6.0</td>\n      <td>0.5000</td>\n      <td>0.8182</td>\n      <td>1.5</td>\n      <td>0.9</td>\n      <td>0.4</td>\n      <td>9.3</td>\n    </tr>\n    <tr>\n      <th>3</th>\n      <td>1.2</td>\n      <td>4.6</td>\n      <td>0.4872</td>\n      <td>0.7778</td>\n      <td>1.8</td>\n      <td>0.5</td>\n      <td>0.8</td>\n      <td>9.7</td>\n    </tr>\n    <tr>\n      <th>4</th>\n      <td>1.2</td>\n      <td>4.6</td>\n      <td>0.4200</td>\n      <td>0.8000</td>\n      <td>1.1</td>\n      <td>1.0</td>\n      <td>0.6</td>\n      <td>5.0</td>\n    </tr>\n    <tr>\n      <th>5</th>\n      <td>1.9</td>\n      <td>1.1</td>\n      <td>0.5000</td>\n      <td>0.7059</td>\n      <td>1.4</td>\n      <td>0.6</td>\n      <td>0.2</td>\n      <td>6.2</td>\n    </tr>\n    <tr>\n      <th>...</th>\n      <td>...</td>\n      <td>...</td>\n      <td>...</td>\n      <td>...</td>\n      <td>...</td>\n      <td>...</td>\n      <td>...</td>\n      <td>...</td>\n    </tr>\n    <tr>\n      <th>16056</th>\n      <td>1.4</td>\n      <td>3.4</td>\n      <td>0.4146</td>\n      <td>0.8182</td>\n      <td>0.8</td>\n      <td>0.5</td>\n      <td>0.2</td>\n      <td>5.0</td>\n    </tr>\n    <tr>\n      <th>16057</th>\n      <td>0.4</td>\n      <td>2.6</td>\n      <td>0.3958</td>\n      <td>0.8571</td>\n      <td>0.4</td>\n      <td>0.3</td>\n      <td>0.2</td>\n      <td>4.8</td>\n    </tr>\n    <tr>\n      <th>16058</th>\n      <td>1.5</td>\n      <td>4.7</td>\n      <td>0.4833</td>\n      <td>0.6552</td>\n      <td>1.1</td>\n      <td>0.8</td>\n      <td>0.4</td>\n      <td>7.9</td>\n    </tr>\n    <tr>\n      <th>16059</th>\n      <td>0.3</td>\n      <td>2.2</td>\n      <td>0.3462</td>\n      <td>0.5000</td>\n      <td>0.3</td>\n      <td>0.3</td>\n      <td>0.1</td>\n      <td>2.7</td>\n    </tr>\n    <tr>\n      <th>16060</th>\n      <td>1.8</td>\n      <td>9.0</td>\n      <td>0.5083</td>\n      <td>0.6286</td>\n      <td>2.3</td>\n      <td>0.8</td>\n      <td>1.4</td>\n      <td>14.3</td>\n    </tr>\n  </tbody>\n</table>\n<p>13660 rows × 8 columns</p>\n</div>"
     },
     "execution_count": 123,
     "metadata": {},
     "output_type": "execute_result"
    }
   ],
   "source": [
    "from sklearn.neighbors import KNeighborsClassifier\n"
   ],
   "metadata": {
    "collapsed": false,
    "pycharm": {
     "name": "#%%\n"
    }
   }
  },
  {
   "cell_type": "code",
   "execution_count": 113,
   "outputs": [],
   "source": [
    "kNN = KNeighborsClassifier(n_neighbors=5)\n",
    "kNN.fit(X_train, y_train)\n",
    "predictions = kNN.predict(X_test)"
   ],
   "metadata": {
    "collapsed": false,
    "pycharm": {
     "name": "#%%\n"
    }
   }
  },
  {
   "cell_type": "code",
   "execution_count": 114,
   "outputs": [
    {
     "data": {
      "text/plain": "<Figure size 432x288 with 2 Axes>",
      "image/png": "[encoded data removed]"
     },
     "metadata": {
      "needs_background": "light"
     },
     "output_type": "display_data"
    }
   ],
   "source": [
    "cm = metrics.confusion_matrix(y_test, predictions)\n",
    "# print(cm)\n",
    "\n",
    "disp = metrics.ConfusionMatrixDisplay(confusion_matrix=cm,\n",
    "                              display_labels=clf.classes_,)\n",
    "\n",
    "disp.plot()\n",
    "\n",
    "plt.show()"
   ],
   "metadata": {
    "collapsed": false,
    "pycharm": {
     "name": "#%%\n"
    }
   }
  },
  {
   "cell_type": "code",
   "execution_count": 138,
   "outputs": [],
   "source": [
    "\n",
    "# df_scaled = pd.DataFrame(std_scaler.fit_transform(df_subset),columns=df_subset.columns)\n",
    "# X_scaled = df_scaled.drop('Pos',axis=1)\n",
    "# y = df_subset.Pos\n",
    "# X_train_scaled, X_test_scaled, y_train, y_test = train_test_split(X_scaled, y, test_size=0.3, random_state=42)\n",
    "# X_train_scaled.head()\n"
   ],
   "metadata": {
    "collapsed": false,
    "pycharm": {
     "name": "#%%\n"
    }
   }
  },
  {
   "cell_type": "code",
   "execution_count": 139,
   "outputs": [],
   "source": [
    "\n",
    "param_grid = dict(n_neighbors = [i for i in range(1,31)])\n",
    "ex_grid = RandomizedSearchCV(kNN, param_grid, cv = 15, scoring = 'accuracy')\n",
    "\n"
   ],
   "metadata": {
    "collapsed": false,
    "pycharm": {
     "name": "#%%\n"
    }
   }
  },
  {
   "cell_type": "code",
   "execution_count": 140,
   "outputs": [
    {
     "name": "stdout",
     "output_type": "stream",
     "text": [
      "[0.52408005 0.52313193 0.54267741 0.5538041  0.56793436 0.56317752\n",
      " 0.57166805 0.57452166 0.57642819 0.57869579 0.58126006 0.5849184\n",
      " 0.58616358 0.58916571 0.58982417 0.58967684 0.59231396 0.59106846\n",
      " 0.5912876  0.59289771 0.5928255  0.59377724 0.59289852 0.59253302\n",
      " 0.5935577  0.5937047  0.59473034 0.59319236 0.59421631 0.59150843]\n"
     ]
    }
   ],
   "source": [
    "ex_grid_search_pipeline = Pipeline([('transformer',  StandardScaler()), ('estimator', ex_grid)])\n",
    "ex_grid_search_pipeline.fit(X, y)\n",
    "print(ex_grid.cv_results_['mean_test_score'])"
   ],
   "metadata": {
    "collapsed": false,
    "pycharm": {
     "name": "#%%\n"
    }
   }
  },
  {
   "cell_type": "code",
   "execution_count": 145,
   "outputs": [
    {
     "data": {
      "text/plain": "<Figure size 432x288 with 1 Axes>",
      "image/png": "[encoded data removed]"
     },
     "metadata": {
      "needs_background": "light"
     },
     "output_type": "display_data"
    }
   ],
   "source": [
    "ex_grid_mean_scores = list(ex_grid.cv_results_['mean_test_score'])\n",
    "\n",
    "plt.plot(list(range(1, 31)), ex_grid_mean_scores)\n",
    "plt.xlabel('Value of K for kNN')\n",
    "plt.ylabel('Cross-Validated Accuracy')\n",
    "plt.show()"
   ],
   "metadata": {
    "collapsed": false,
    "pycharm": {
     "name": "#%%\n"
    }
   }
  },
  {
   "cell_type": "code",
   "execution_count": 149,
   "outputs": [
    {
     "name": "stdout",
     "output_type": "stream",
     "text": [
      "Best Score: 0.5947303410091553\n",
      "{'n_neighbors': 27}\n"
     ]
    }
   ],
   "source": [
    "print('Best Score:',ex_grid.best_score_)\n",
    "\n",
    "print(ex_grid.best_params_)\n"
   ],
   "metadata": {
    "collapsed": false,
    "pycharm": {
     "name": "#%%\n"
    }
   }
  },
  {
   "cell_type": "markdown",
   "source": [
    "# Random Forest"
   ],
   "metadata": {
    "collapsed": false
   }
  },
  {
   "cell_type": "code",
   "execution_count": 150,
   "outputs": [],
   "source": [
    "from sklearn.ensemble import RandomForestClassifier"
   ],
   "metadata": {
    "collapsed": false,
    "pycharm": {
     "name": "#%%\n"
    }
   }
  },
  {
   "cell_type": "code",
   "execution_count": 176,
   "outputs": [
    {
     "data": {
      "text/plain": "RandomizedSearchCV(estimator=RandomForestClassifier(), n_iter=5,\n                   param_distributions={'max_depth': [10],\n                                        'n_estimators': [100, 105, 110, 115,\n                                                         120, 125, 130, 135,\n                                                         140, 145, 150, 155,\n                                                         160, 165, 170, 175,\n                                                         180, 185, 190, 195,\n                                                         200, 205, 210, 215,\n                                                         220, 225, 230, 235,\n                                                         240, 245, ...]},\n                   scoring='accuracy')"
     },
     "execution_count": 176,
     "metadata": {},
     "output_type": "execute_result"
    }
   ],
   "source": [
    "rf_model = RandomForestClassifier()\n",
    "# param_grid = dict(max_depth=list(range(7,15,3)),criterion=['gini','entropy'])\n",
    "param_grid = dict(n_estimators=list(range(100,501,5)),max_depth=[10])\n",
    "rand_search_rf = RandomizedSearchCV(rf_model, param_grid, n_iter=5, scoring = 'accuracy')\n",
    "\n",
    "rand_search_rf.fit(X,y)\n"
   ],
   "metadata": {
    "collapsed": false,
    "pycharm": {
     "name": "#%%\n"
    }
   }
  },
  {
   "cell_type": "code",
   "execution_count": 177,
   "outputs": [
    {
     "name": "stdout",
     "output_type": "stream",
     "text": [
      "{'n_estimators': 465, 'max_depth': 10} - 0.6158857979502196\n"
     ]
    }
   ],
   "source": [
    "print(f'{rand_search_rf.best_params_} - {rand_search_rf.best_score_}')"
   ],
   "metadata": {
    "collapsed": false,
    "pycharm": {
     "name": "#%%\n"
    }
   }
  },
  {
   "cell_type": "code",
   "execution_count": null,
   "outputs": [],
   "source": [
    "# Grid Search Results\n",
    "# {'criterion': 'gini', 'max_depth': 8} - 0.6181559530846029\n",
    "# {'max_depth': 10} - 0.6177159590043925\n",
    "\n",
    "\n",
    "# Randomized Search Results\n",
    "# {'n_estimators': 465, 'max_depth': 10} - 0.6158857979502196\n",
    "\n",
    "# I'm comfortable concluding that this is near the limit on accuracy. Using the best result so far."
   ],
   "metadata": {
    "collapsed": false,
    "pycharm": {
     "name": "#%%\n"
    }
   }
  },
  {
   "cell_type": "code",
   "execution_count": 180,
   "outputs": [],
   "source": [
    "opt_rf = RandomForestClassifier(max_depth=8,)\n",
    "opt_rf = opt_rf.fit(X_train,y_train)"
   ],
   "metadata": {
    "collapsed": false,
    "pycharm": {
     "name": "#%%\n"
    }
   }
  },
  {
   "cell_type": "code",
   "execution_count": 181,
   "outputs": [],
   "source": [
    "pred_rf = opt_rf.predict(X_test)"
   ],
   "metadata": {
    "collapsed": false,
    "pycharm": {
     "name": "#%%\n"
    }
   }
  },
  {
   "cell_type": "code",
   "execution_count": 184,
   "outputs": [
    {
     "data": {
      "text/plain": "0.6210346510492923"
     },
     "execution_count": 184,
     "metadata": {},
     "output_type": "execute_result"
    }
   ],
   "source": [
    "metrics.accuracy_score(y_test,pred_rf)"
   ],
   "metadata": {
    "collapsed": false,
    "pycharm": {
     "name": "#%%\n"
    }
   }
  },
  {
   "cell_type": "markdown",
   "source": [
    "# Logistic Regression"
   ],
   "metadata": {
    "collapsed": false
   }
  },
  {
   "cell_type": "code",
   "execution_count": 188,
   "outputs": [
    {
     "name": "stderr",
     "output_type": "stream",
     "text": [
      "/Users/chaseallbright/Dropbox/NBA/venv/lib/python3.9/site-packages/sklearn/linear_model/_logistic.py:814: ConvergenceWarning: lbfgs failed to converge (status=1):\n",
      "STOP: TOTAL NO. of ITERATIONS REACHED LIMIT.\n",
      "\n",
      "Increase the number of iterations (max_iter) or scale the data as shown in:\n",
      "    https://scikit-learn.org/stable/modules/preprocessing.html\n",
      "Please also refer to the documentation for alternative solver options:\n",
      "    https://scikit-learn.org/stable/modules/linear_model.html#logistic-regression\n",
      "  n_iter_i = _check_optimize_result(\n"
     ]
    },
    {
     "ename": "TypeError",
     "evalue": "score() missing 2 required positional arguments: 'X' and 'y'",
     "output_type": "error",
     "traceback": [
      "\u001B[0;31m---------------------------------------------------------------------------\u001B[0m",
      "\u001B[0;31mTypeError\u001B[0m                                 Traceback (most recent call last)",
      "Input \u001B[0;32mIn [188]\u001B[0m, in \u001B[0;36m<module>\u001B[0;34m\u001B[0m\n\u001B[1;32m      1\u001B[0m \u001B[38;5;28;01mfrom\u001B[39;00m \u001B[38;5;21;01msklearn\u001B[39;00m\u001B[38;5;21;01m.\u001B[39;00m\u001B[38;5;21;01mlinear_model\u001B[39;00m \u001B[38;5;28;01mimport\u001B[39;00m LogisticRegression\n\u001B[1;32m      2\u001B[0m clf \u001B[38;5;241m=\u001B[39m LogisticRegression(random_state\u001B[38;5;241m=\u001B[39m\u001B[38;5;241m42\u001B[39m)\u001B[38;5;241m.\u001B[39mfit(X_train, y_train)\n\u001B[0;32m----> 4\u001B[0m \u001B[43mclf\u001B[49m\u001B[38;5;241;43m.\u001B[39;49m\u001B[43mscore\u001B[49m\u001B[43m(\u001B[49m\u001B[43m)\u001B[49m\n",
      "\u001B[0;31mTypeError\u001B[0m: score() missing 2 required positional arguments: 'X' and 'y'"
     ]
    }
   ],
   "source": [
    "from sklearn.linear_model import LogisticRegression\n",
    "clf = LogisticRegression(random_state=42).fit(X_train, y_train)\n",
    "\n",
    "# clf.score()"
   ],
   "metadata": {
    "collapsed": false,
    "pycharm": {
     "name": "#%%\n"
    }
   }
  },
  {
   "cell_type": "code",
   "execution_count": 270,
   "outputs": [
    {
     "data": {
      "text/plain": "Index(['Player', 'Pos', 'Age', 'Tm', 'G', 'GS', 'MP', 'FG', 'FGA', 'FG%', '3P',\n       '3PA', '3P%', '2P', '2PA', '2P%', 'eFG%', 'FT', 'FTA', 'FT%', 'ORB',\n       'DRB', 'TRB', 'AST', 'STL', 'BLK', 'TOV', 'PF', 'PTS', 'STAR', 'Year',\n       'Tm_AGE', 'Tm_W', 'Tm_L', 'Tm_PW', 'Tm_PL', 'Tm_MOV', 'Tm_SOS',\n       'Tm_SRS', 'Tm_ORtg', 'Tm_DRtg', 'Tm_NRtg', 'Tm_PACE', 'Tm_FTr',\n       'Tm_3PAr', 'Tm_TS%', 'Tm_eFG%', 'Tm_TOV%', 'Tm_ORB%', 'Tm_FT/FGA',\n       'Tm_Op_eFG%', 'Tm_Op_TOV%', 'Tm_DRB%', 'Tm_Op_FT/FGA', 'Win%',\n       'DPOY_Rank', 'DPOY_First', 'DPOY_Pts Won', 'DPOY_Pts Max', 'DPOY_Share',\n       'DPOY', 'MIP_Rank', 'MIP_First', 'MIP_Pts Won', 'MIP_Pts Max',\n       'MIP_Share', 'MIP', 'MVP_Rank', 'MVP_First', 'MVP_Pts Won',\n       'MVP_Pts Max', 'MVP_Share', 'MVP', 'ROTY_Rank', 'ROTY_First',\n       'ROTY_Pts Won', 'ROTY_Pts Max', 'ROTY_Share', 'ROTY', 'SMOTY_Rank',\n       'SMOTY_First', 'SMOTY_Pts Won', 'SMOTY_Pts Max', 'SMOTY_Share',\n       'SMOTY'],\n      dtype='object')"
     },
     "execution_count": 270,
     "metadata": {},
     "output_type": "execute_result"
    }
   ],
   "source": [
    "df[(df.Pos == 'SG') & (df.AST > 0)].columns"
   ],
   "metadata": {
    "collapsed": false,
    "pycharm": {
     "name": "#%%\n"
    }
   }
  },
  {
   "cell_type": "code",
   "execution_count": null,
   "outputs": [],
   "source": [],
   "metadata": {
    "collapsed": false,
    "pycharm": {
     "name": "#%%\n"
    }
   }
  }
 ],
 "metadata": {
  "kernelspec": {
   "display_name": "Python 3",
   "language": "python",
   "name": "python3"
  },
  "language_info": {
   "codemirror_mode": {
    "name": "ipython",
    "version": 2
   },
   "file_extension": ".py",
   "mimetype": "text/x-python",
   "name": "python",
   "nbconvert_exporter": "python",
   "pygments_lexer": "ipython2",
   "version": "2.7.6"
  }
 },
 "nbformat": 4,
 "nbformat_minor": 0
}