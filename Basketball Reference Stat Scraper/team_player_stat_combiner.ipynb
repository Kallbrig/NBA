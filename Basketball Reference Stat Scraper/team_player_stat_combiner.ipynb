{
 "cells": [
  {
   "cell_type": "code",
   "execution_count": 2,
   "metadata": {
    "collapsed": true
   },
   "outputs": [],
   "source": [
    "from pprint import pprint\n",
    "\n",
    "import pandas as pd\n",
    "import numpy as np\n",
    "from datetime import datetime"
   ]
  },
  {
   "cell_type": "code",
   "execution_count": 4,
   "outputs": [],
   "source": [
    "tm_abbv = {'Atlanta Hawks': 'ATL',\n",
    " 'St. Louis Hawks': 'SLH',\n",
    " 'Milwaukee Hawks': 'MIL',\n",
    " 'Tri-Cities Blackhawks': 'TCB',\n",
    " 'Boston Celtics': 'BOS',\n",
    " 'Brooklyn Nets': 'BRK',\n",
    " 'New Jersey Nets': 'NJN',\n",
    " 'New York Nets': 'NYN',\n",
    " 'Chicago Bulls': 'CHI',\n",
    " 'Charlotte Hornets': 'CHO',\n",
    " 'Charlotte Bobcats': 'CHA',\n",
    " 'Cleveland Cavaliers': 'CLE',\n",
    " 'Dallas Mavericks': 'DAL',\n",
    " 'Denver Nuggets': 'DEN',\n",
    " 'Detroit Pistons': 'DET',\n",
    " 'Fort Wayne Pistons': 'FWP',\n",
    " 'Golden State Warriors': 'GSW',\n",
    " 'San Francisco Warriors': 'SFW',\n",
    " 'Philadelphia Warriors': 'PHI',\n",
    " 'Houston Rockets': 'HOU',\n",
    " 'San Diego Rockets': 'HOU',\n",
    " 'Indiana Pacers': 'IND',\n",
    " 'Los Angeles Clippers': 'LAC',\n",
    " 'San Diego Clippers': 'SDC',\n",
    " 'Buffalo Braves': 'BUF',\n",
    " 'Los Angeles Lakers': 'LAL',\n",
    " 'Minneapolis Lakers': 'MIN',\n",
    " 'Memphis Grizzlies': 'MEM',\n",
    " 'Vancouver Grizzlies': 'VAN',\n",
    " 'Miami Heat': 'MIA',\n",
    " 'Milwaukee Bucks': 'MIL',\n",
    " 'Minnesota Timberwolves': 'MIN',\n",
    " 'New Orleans Pelicans': 'NOP',\n",
    " 'New Orleans/Oklahoma City Hornets': 'NOK',\n",
    " 'New Orleans Hornets': 'NOH',\n",
    " 'New York Knicks': 'NYK',\n",
    " 'Oklahoma City Thunder': 'OKC',\n",
    " 'Seattle Supersonics': 'SEA',\n",
    " 'Seattle SuperSonics': 'SEA',\n",
    " 'Orlando Magic': 'ORL',\n",
    " 'Philadelphia 76rs': 'PHI',\n",
    " 'Philadelphia 76ers': 'PHI',\n",
    " 'Syracuse Nationals': 'SYR',\n",
    " 'Phoenix Suns': 'PHO',\n",
    " 'Portland Trail Blazers': 'POR',\n",
    " 'Sacramento Kings': 'SAC',\n",
    " 'Kansas City Kings': 'KCK',\n",
    " 'Kansas City-Omaha Kings': 'KCK',\n",
    " 'Cincinnati Royals': 'CIN',\n",
    " 'Rochester Royals': 'ROR',\n",
    " 'San Antonio Spurs': 'SAS',\n",
    " 'Toronto Raptors': 'TOR',\n",
    " 'Utah Jazz': 'UTA',\n",
    " 'New Orleans Jazz': 'NOJ',\n",
    " 'Washington Wizards': 'WAS',\n",
    " 'Washington Bullets': 'WAS',\n",
    " 'Capital Bullets': 'CAP',\n",
    " 'Baltimore Bullets': 'BAL',\n",
    " 'Chicago Zephyrs': 'CHI',\n",
    " 'Chicago Packers': 'CHI',\n",
    " 'Anderson Packers': 'AND',\n",
    " 'Chicago Stags': 'CHI',\n",
    " 'Indianapolis Olympians': 'IND',\n",
    " 'Sheboygan Red Skins': 'SRS',\n",
    " 'St. Louis Bombers': 'SLB',\n",
    " 'Washington Capitols': 'WAS',\n",
    " 'Waterloo Hawks': 'WAT',\n",
    " }"
   ],
   "metadata": {
    "collapsed": false,
    "pycharm": {
     "name": "#%%\n"
    }
   }
  },
  {
   "cell_type": "code",
   "execution_count": 5,
   "outputs": [],
   "source": [],
   "metadata": {
    "collapsed": false,
    "pycharm": {
     "name": "#%%\n"
    }
   }
  },
  {
   "cell_type": "code",
   "execution_count": null,
   "outputs": [],
   "source": [
    "for year in range(1980,datetime.now().year+1):\n",
    "\n",
    "    try:\n",
    "        player = pd.read_csv(f'player_stats/{year}_player_stats.csv',index_col=0)\n",
    "        team = pd.read_csv(f'team_stats/{year}_tm_stats.csv',index_col=0)\n",
    "\n",
    "    except:\n",
    "        pass\n",
    "\n",
    "    if year != 1999:\n",
    "      all_star = pd.read_csv(f'all_stars/{year}_all_stars.csv',index_col=0)\n",
    "      # pd.merge(all_star,player,left_on=['Team',])\n",
    "\n",
    "\n",
    "    team.Year = team.Year.astype(np.int64)\n",
    "\n",
    "\n",
    "    team.columns = [f'tm_{i}' for i in team.columns]\n",
    "\n",
    "\n",
    "\n",
    "    team['tm_Team No Star'] = [i.split('*')[0] for i in team['tm_Team']]\n",
    "\n",
    "    # Getting Rid of League Average\n",
    "    team = team.drop(team[team['tm_Team'] == f'League Average {year}'].index)\n",
    "\n",
    "\n",
    "    team['tm_Abbreviation'] = team['tm_Team No Star'].replace(tm_abbv)\n",
    "\n",
    "\n",
    "    new = pd.merge(left=player,right=team,left_on='Tm',right_on='tm_Abbreviation',how='outer')\n",
    "\n",
    "    new.to_csv(f'combined/{year}_combined.csv')\n",
    "\n",
    "    if new.isnull().values.any():\n",
    "        print(f'There are null values in {year}')\n",
    "    print(f'{year} merged')"
   ],
   "metadata": {
    "collapsed": false,
    "pycharm": {
     "name": "#%%\n"
    }
   }
  },
  {
   "cell_type": "code",
   "execution_count": 8,
   "outputs": [
    {
     "data": {
      "text/plain": "    Unnamed: 0                  Player  Year  All Star  All Star Starter\n0            0           George Gervin  1980      True              True\n1            1           Eddie Johnson  1980      True              True\n2            2            Moses Malone  1980      True              True\n3            3           Julius Erving  1980      True              True\n4            4               John Drew  1980      True              True\n5            5             Elvin Hayes  1980      True             False\n6            6          Dan Roundfield  1980      True             False\n7            7              Larry Bird  1980      True             False\n8            8          Tiny Archibald  1980      True             False\n9            9         Bill Cartwright  1980      True             False\n10          10  Micheal Ray Richardson  1980      True             False\n11          11         Marques Johnson  1980      True              True\n12          12          Adrian Dantley  1980      True              True\n13          13     Kareem Abdul-Jabbar  1980      True              True\n14          14           Magic Johnson  1980      True              True\n15          15           World B. Free  1980      True              True\n16          16              Jack Sikma  1980      True             False\n17          17           Paul Westphal  1980      True             False\n18          18            Walter Davis  1980      True             False\n19          19          Dennis Johnson  1980      True             False\n20          20       Kermit Washington  1980      True             False\n21          21           Otis Birdsong  1980      True             False",
      "text/html": "<div>\n<style scoped>\n    .dataframe tbody tr th:only-of-type {\n        vertical-align: middle;\n    }\n\n    .dataframe tbody tr th {\n        vertical-align: top;\n    }\n\n    .dataframe thead th {\n        text-align: right;\n    }\n</style>\n<table border=\"1\" class=\"dataframe\">\n  <thead>\n    <tr style=\"text-align: right;\">\n      <th></th>\n      <th>Unnamed: 0</th>\n      <th>Player</th>\n      <th>Year</th>\n      <th>All Star</th>\n      <th>All Star Starter</th>\n    </tr>\n  </thead>\n  <tbody>\n    <tr>\n      <th>0</th>\n      <td>0</td>\n      <td>George Gervin</td>\n      <td>1980</td>\n      <td>True</td>\n      <td>True</td>\n    </tr>\n    <tr>\n      <th>1</th>\n      <td>1</td>\n      <td>Eddie Johnson</td>\n      <td>1980</td>\n      <td>True</td>\n      <td>True</td>\n    </tr>\n    <tr>\n      <th>2</th>\n      <td>2</td>\n      <td>Moses Malone</td>\n      <td>1980</td>\n      <td>True</td>\n      <td>True</td>\n    </tr>\n    <tr>\n      <th>3</th>\n      <td>3</td>\n      <td>Julius Erving</td>\n      <td>1980</td>\n      <td>True</td>\n      <td>True</td>\n    </tr>\n    <tr>\n      <th>4</th>\n      <td>4</td>\n      <td>John Drew</td>\n      <td>1980</td>\n      <td>True</td>\n      <td>True</td>\n    </tr>\n    <tr>\n      <th>5</th>\n      <td>5</td>\n      <td>Elvin Hayes</td>\n      <td>1980</td>\n      <td>True</td>\n      <td>False</td>\n    </tr>\n    <tr>\n      <th>6</th>\n      <td>6</td>\n      <td>Dan Roundfield</td>\n      <td>1980</td>\n      <td>True</td>\n      <td>False</td>\n    </tr>\n    <tr>\n      <th>7</th>\n      <td>7</td>\n      <td>Larry Bird</td>\n      <td>1980</td>\n      <td>True</td>\n      <td>False</td>\n    </tr>\n    <tr>\n      <th>8</th>\n      <td>8</td>\n      <td>Tiny Archibald</td>\n      <td>1980</td>\n      <td>True</td>\n      <td>False</td>\n    </tr>\n    <tr>\n      <th>9</th>\n      <td>9</td>\n      <td>Bill Cartwright</td>\n      <td>1980</td>\n      <td>True</td>\n      <td>False</td>\n    </tr>\n    <tr>\n      <th>10</th>\n      <td>10</td>\n      <td>Micheal Ray Richardson</td>\n      <td>1980</td>\n      <td>True</td>\n      <td>False</td>\n    </tr>\n    <tr>\n      <th>11</th>\n      <td>11</td>\n      <td>Marques Johnson</td>\n      <td>1980</td>\n      <td>True</td>\n      <td>True</td>\n    </tr>\n    <tr>\n      <th>12</th>\n      <td>12</td>\n      <td>Adrian Dantley</td>\n      <td>1980</td>\n      <td>True</td>\n      <td>True</td>\n    </tr>\n    <tr>\n      <th>13</th>\n      <td>13</td>\n      <td>Kareem Abdul-Jabbar</td>\n      <td>1980</td>\n      <td>True</td>\n      <td>True</td>\n    </tr>\n    <tr>\n      <th>14</th>\n      <td>14</td>\n      <td>Magic Johnson</td>\n      <td>1980</td>\n      <td>True</td>\n      <td>True</td>\n    </tr>\n    <tr>\n      <th>15</th>\n      <td>15</td>\n      <td>World B. Free</td>\n      <td>1980</td>\n      <td>True</td>\n      <td>True</td>\n    </tr>\n    <tr>\n      <th>16</th>\n      <td>16</td>\n      <td>Jack Sikma</td>\n      <td>1980</td>\n      <td>True</td>\n      <td>False</td>\n    </tr>\n    <tr>\n      <th>17</th>\n      <td>17</td>\n      <td>Paul Westphal</td>\n      <td>1980</td>\n      <td>True</td>\n      <td>False</td>\n    </tr>\n    <tr>\n      <th>18</th>\n      <td>18</td>\n      <td>Walter Davis</td>\n      <td>1980</td>\n      <td>True</td>\n      <td>False</td>\n    </tr>\n    <tr>\n      <th>19</th>\n      <td>19</td>\n      <td>Dennis Johnson</td>\n      <td>1980</td>\n      <td>True</td>\n      <td>False</td>\n    </tr>\n    <tr>\n      <th>20</th>\n      <td>20</td>\n      <td>Kermit Washington</td>\n      <td>1980</td>\n      <td>True</td>\n      <td>False</td>\n    </tr>\n    <tr>\n      <th>21</th>\n      <td>21</td>\n      <td>Otis Birdsong</td>\n      <td>1980</td>\n      <td>True</td>\n      <td>False</td>\n    </tr>\n  </tbody>\n</table>\n</div>"
     },
     "execution_count": 8,
     "metadata": {},
     "output_type": "execute_result"
    }
   ],
   "source": [],
   "metadata": {
    "collapsed": false,
    "pycharm": {
     "name": "#%%\n"
    }
   }
  },
  {
   "cell_type": "code",
   "execution_count": null,
   "outputs": [],
   "source": [],
   "metadata": {
    "collapsed": false,
    "pycharm": {
     "name": "#%%\n"
    }
   }
  }
 ],
 "metadata": {
  "kernelspec": {
   "display_name": "Python 3",
   "language": "python",
   "name": "python3"
  },
  "language_info": {
   "codemirror_mode": {
    "name": "ipython",
    "version": 2
   },
   "file_extension": ".py",
   "mimetype": "text/x-python",
   "name": "python",
   "nbconvert_exporter": "python",
   "pygments_lexer": "ipython2",
   "version": "2.7.6"
  }
 },
 "nbformat": 4,
 "nbformat_minor": 0
}