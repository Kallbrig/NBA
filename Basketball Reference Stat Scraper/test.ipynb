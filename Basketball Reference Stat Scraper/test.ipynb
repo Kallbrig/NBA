{
 "cells": [
  {
   "cell_type": "code",
   "execution_count": null,
   "metadata": {
    "collapsed": true
   },
   "outputs": [],
   "source": []
  },
  {
   "cell_type": "code",
   "execution_count": 1,
   "outputs": [],
   "source": [
    "\n",
    "from datetime import datetime\n",
    "\n",
    "import numpy as np\n",
    "import pandas as pd"
   ],
   "metadata": {
    "collapsed": false,
    "pycharm": {
     "name": "#%%\n"
    }
   }
  },
  {
   "cell_type": "code",
   "execution_count": 64,
   "outputs": [],
   "source": [
    "tm_abbv = {'Atlanta Hawks': 'ATL',\n",
    "           'St. Louis Hawks': 'SLH',\n",
    "           'Milwaukee Hawks': 'MIL',\n",
    "           'Tri-Cities Blackhawks': 'TCB',\n",
    "           'Boston Celtics': 'BOS',\n",
    "           'Brooklyn Nets': 'BRK',\n",
    "           'New Jersey Nets': 'NJN',\n",
    "           'New York Nets': 'NYN',\n",
    "           'Chicago Bulls': 'CHI',\n",
    "           'Charlotte Hornets': 'CHH',\n",
    "           'Charlotte Bobcats': 'CHA',\n",
    "           'Cleveland Cavaliers': 'CLE',\n",
    "           'Dallas Mavericks': 'DAL',\n",
    "           'Denver Nuggets': 'DEN',\n",
    "           'Detroit Pistons': 'DET',\n",
    "           'Fort Wayne Pistons': 'FWP',\n",
    "           'Golden State Warriors': 'GSW',\n",
    "           'San Francisco Warriors': 'SFW',\n",
    "           'Philadelphia Warriors': 'PHI',\n",
    "           'Houston Rockets': 'HOU',\n",
    "           'San Diego Rockets': 'HOU',\n",
    "           'Indiana Pacers': 'IND',\n",
    "           'Los Angeles Clippers': 'LAC',\n",
    "           'San Diego Clippers': 'SDC',\n",
    "           'Buffalo Braves': 'BUF',\n",
    "           'Los Angeles Lakers': 'LAL',\n",
    "           'Minneapolis Lakers': 'MIN',\n",
    "           'Memphis Grizzlies': 'MEM',\n",
    "           'Vancouver Grizzlies': 'VAN',\n",
    "           'Miami Heat': 'MIA',\n",
    "           'Milwaukee Bucks': 'MIL',\n",
    "           'Minnesota Timberwolves': 'MIN',\n",
    "           'New Orleans Pelicans': 'NOP',\n",
    "           'New Orleans/Oklahoma City Hornets': 'NOK',\n",
    "           'New Orleans Hornets': 'NOH',\n",
    "           'New York Knicks': 'NYK',\n",
    "           'Oklahoma City Thunder': 'OKC',\n",
    "           'Seattle Supersonics': 'SEA',\n",
    "           'Seattle SuperSonics': 'SEA',\n",
    "           'Orlando Magic': 'ORL',\n",
    "           'Philadelphia 76rs': 'PHI',\n",
    "           'Philadelphia 76ers': 'PHI',\n",
    "           'Syracuse Nationals': 'SYR',\n",
    "           'Phoenix Suns': 'PHO',\n",
    "           'Portland Trail Blazers': 'POR',\n",
    "           'Sacramento Kings': 'SAC',\n",
    "           'Kansas City Kings': 'KCK',\n",
    "           'Kansas City-Omaha Kings': 'KCK',\n",
    "           'Cincinnati Royals': 'CIN',\n",
    "           'Rochester Royals': 'ROR',\n",
    "           'San Antonio Spurs': 'SAS',\n",
    "           'Toronto Raptors': 'TOR',\n",
    "           'Utah Jazz': 'UTA',\n",
    "           'New Orleans Jazz': 'NOJ',\n",
    "           'Washington Wizards': 'WAS',\n",
    "           'Washington Bullets': 'WSB',\n",
    "           'Capital Bullets': 'CAP',\n",
    "           'Baltimore Bullets': 'BAL',\n",
    "           'Chicago Zephyrs': 'CHI',\n",
    "           'Chicago Packers': 'CHI',\n",
    "           'Anderson Packers': 'AND',\n",
    "           'Chicago Stags': 'CHI',\n",
    "           'Indianapolis Olympians': 'IND',\n",
    "           'Sheboygan Red Skins': 'SRS',\n",
    "           'St. Louis Bombers': 'SLB',\n",
    "           'Washington Capitols': 'WAS',\n",
    "           'Waterloo Hawks': 'WAT',\n",
    "           }\n",
    "\n",
    "abbv_fix = {'CHH': 'CHA',\n",
    "            'CHO': 'CHA'}"
   ],
   "metadata": {
    "collapsed": false,
    "pycharm": {
     "name": "#%%\n"
    }
   }
  },
  {
   "cell_type": "code",
   "execution_count": 66,
   "outputs": [
    {
     "name": "stdout",
     "output_type": "stream",
     "text": [
      "1980 merged\n",
      "1981 merged\n",
      "1982 merged\n",
      "1983 merged\n",
      "1984 merged\n",
      "1985 merged\n",
      "1986 merged\n",
      "1987 merged\n",
      "1988 merged\n",
      "1989 merged\n",
      "1990 merged\n",
      "1991 merged\n",
      "1992 merged\n",
      "1993 merged\n",
      "1994 merged\n",
      "1995 merged\n",
      "1996 merged\n",
      "1997 merged\n",
      "1998 merged\n",
      "1999 merged\n",
      "2000 merged\n",
      "2001 merged\n",
      "2002 merged\n",
      "2003 merged\n",
      "2004 merged\n",
      "2005 merged\n",
      "2006 merged\n",
      "2007 merged\n",
      "2008 merged\n",
      "2009 merged\n",
      "2010 merged\n",
      "2011 merged\n",
      "2012 merged\n",
      "2013 merged\n",
      "2014 merged\n",
      "2015 merged\n",
      "2016 merged\n",
      "2017 merged\n",
      "2018 merged\n",
      "2019 merged\n",
      "2020 merged\n",
      "2021 merged\n",
      "2022 merged\n"
     ]
    }
   ],
   "source": [
    "\n",
    "\n",
    "for year in range(1980, datetime.now().year + 1):\n",
    "\n",
    "    try:\n",
    "        player = pd.read_csv(f'player_stats/{year}_player_stats.csv', index_col=0)\n",
    "        team = pd.read_csv(f'team_stats/{year}_tm_stats.csv', index_col=0)\n",
    "    except:\n",
    "        pass\n",
    "\n",
    "    team.Year = team.Year.astype(np.int64)\n",
    "\n",
    "    team.columns = [f'tm_{i}' for i in team.columns]\n",
    "\n",
    "    team['tm_Team No Star'] = [i.split('*')[0] for i in team['tm_Team']]\n",
    "\n",
    "    # Getting Rid of League Average\n",
    "    team = team.drop(team[team['tm_Team'] == f'League Average {year}'].index)\n",
    "\n",
    "    # print(team['tm_Team No Star'].replace(tm_abbv))\n",
    "\n",
    "    team['tm_Abbreviation'] = team['tm_Team No Star'].replace(tm_abbv)\n",
    "    if year > 2014:\n",
    "        player['Tm'] = player['Tm'].replace(abbv_fix)\n",
    "        team['tm_Abbreviation'] = team['tm_Abbreviation'].replace(abbv_fix)\n",
    "\n",
    "    new = pd.merge(left=player, right=team, left_on='Tm', right_on='tm_Abbreviation', how='outer')\n",
    "\n",
    "    new.to_csv(f'combined/{year}_combined.csv')\n",
    "\n",
    "    if new.isnull().values.any():\n",
    "        print(f'There are null values in {year}')\n",
    "    print(f'{year} merged')"
   ],
   "metadata": {
    "collapsed": false,
    "pycharm": {
     "name": "#%%\n"
    }
   }
  },
  {
   "cell_type": "code",
   "execution_count": null,
   "outputs": [],
   "source": [],
   "metadata": {
    "collapsed": false,
    "pycharm": {
     "name": "#%%\n"
    }
   }
  }
 ],
 "metadata": {
  "kernelspec": {
   "display_name": "Python 3",
   "language": "python",
   "name": "python3"
  },
  "language_info": {
   "codemirror_mode": {
    "name": "ipython",
    "version": 2
   },
   "file_extension": ".py",
   "mimetype": "text/x-python",
   "name": "python",
   "nbconvert_exporter": "python",
   "pygments_lexer": "ipython2",
   "version": "2.7.6"
  }
 },
 "nbformat": 4,
 "nbformat_minor": 0
}