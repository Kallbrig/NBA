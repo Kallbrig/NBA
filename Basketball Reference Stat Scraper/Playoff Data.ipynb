{
 "cells": [
  {
   "cell_type": "code",
   "execution_count": 1,
   "metadata": {
    "collapsed": true
   },
   "outputs": [],
   "source": [
    "\n",
    "import pandas as pd\n",
    "import requests\n",
    "from datetime import datetime\n"
   ]
  },
  {
   "cell_type": "code",
   "execution_count": 2,
   "outputs": [],
   "source": [
    "def remove_multiindex(df: pd.DataFrame):\n",
    "    return df.droplevel(level=0, axis=1)\n"
   ],
   "metadata": {
    "collapsed": false,
    "pycharm": {
     "name": "#%%\n"
    }
   }
  },
  {
   "cell_type": "code",
   "execution_count": 3,
   "outputs": [],
   "source": [
    "# link for extract html data\n",
    "def getdata(url):\n",
    "    r = requests.get(url)\n",
    "    return r.text"
   ],
   "metadata": {
    "collapsed": false,
    "pycharm": {
     "name": "#%%\n"
    }
   }
  },
  {
   "cell_type": "code",
   "execution_count": 12,
   "outputs": [
    {
     "name": "stdout",
     "output_type": "stream",
     "text": [
      "1980 Complete\n",
      "1981 Complete\n",
      "1982 Complete\n",
      "1983 Complete\n",
      "1984 Complete\n",
      "1985 Complete\n",
      "1986 Complete\n",
      "1987 Complete\n",
      "1988 Complete\n",
      "1989 Complete\n",
      "1990 Complete\n",
      "1991 Complete\n",
      "1992 Complete\n",
      "1993 Complete\n",
      "1994 Complete\n",
      "1995 Complete\n",
      "1996 Complete\n",
      "1997 Complete\n",
      "1998 Complete\n",
      "1999 Complete\n",
      "2000 Complete\n",
      "2001 Complete\n",
      "2002 Complete\n",
      "2003 Complete\n",
      "2004 Complete\n",
      "2005 Complete\n",
      "2006 Complete\n",
      "2007 Complete\n",
      "2008 Complete\n",
      "2009 Complete\n",
      "2010 Complete\n",
      "2011 Complete\n",
      "2012 Complete\n",
      "2013 Complete\n",
      "2014 Complete\n",
      "2015 Complete\n",
      "2016 Complete\n",
      "2017 Complete\n",
      "2018 Complete\n",
      "2019 Complete\n",
      "2020 Complete\n",
      "2021 Complete\n"
     ]
    }
   ],
   "source": [
    "\n",
    "# year = datetime.now().year\n",
    "for year in range(1980,datetime.now().year):\n",
    "\n",
    "# df = pd.read_html(getdata(f'https://www.basketball-reference.com/leagues/NBA_{year}_per_game.html'))[0]\n",
    "    df = pd.read_html(getdata(f'https://www.basketball-reference.com/playoffs/NBA_{year}_per_game.html'))[0]\n",
    "    df_adv = pd.read_html(getdata(f'https://www.basketball-reference.com/playoffs/NBA_{year}_advanced.html'))[0]\n",
    "\n",
    "# df = df.drop(df[df['Player'] == 'Player'].index)\n",
    "\n",
    "    df = df.drop(df[df['Player'] == 'Player'].index)\n",
    "\n",
    "    df_adv = df_adv.drop(df_adv[df_adv['Player'] == 'Player'].index)\n",
    "\n",
    "    new = pd.merge(df, df_adv, on=['Player', 'Age', 'Tm', 'Pos'])\n",
    "\n",
    "    player_stats_list = ['Player', 'Pos', 'Age', 'Tm', 'G_x', 'GS', 'MP_x', 'FG', 'FGA',\n",
    "                         'FG%', '3P', '3PA', '3P%', '2P', '2PA', '2P%', 'eFG%', 'FT', 'FTA',\n",
    "                         'FT%', 'ORB', 'DRB', 'TRB', 'AST', 'STL', 'BLK', 'TOV', 'PF', 'PTS',\n",
    "                         'PER', 'TS%', '3PAr', 'FTr', 'ORB%', 'DRB%', 'TRB%',\n",
    "                         'AST%', 'STL%', 'BLK%', 'TOV%', 'USG%', 'OWS', 'DWS',\n",
    "                         'WS', 'WS/48', 'OBPM', 'DBPM', 'BPM', 'VORP']\n",
    "\n",
    "    player_stats_list_correct = ['Player', 'Pos', 'Age', 'Tm', 'G', 'GS', 'MP', 'FG', 'FGA', 'FG%',\n",
    "                                 '3P', '3PA', '3P%', '2P', '2PA', '2P%', 'eFG%', 'FT', 'FTA', 'FT%',\n",
    "                                 'ORB', 'DRB', 'TRB', 'AST', 'STL', 'BLK', 'TOV', 'PF', 'PTS', 'PER',\n",
    "                                 'TS%', '3PAr', 'FTr', 'ORB%', 'DRB%', 'TRB%', 'AST%', 'STL%', 'BLK%',\n",
    "                                 'TOV%', 'USG%', 'OWS', 'DWS', 'WS', 'WS/48', 'OBPM', 'DBPM', 'BPM',\n",
    "                                 'VORP']\n",
    "\n",
    "    # cuts down the columns to what is listed in player_stats_list_correct\n",
    "    new = new[player_stats_list]\n",
    "    new.columns = player_stats_list_correct\n",
    "\n",
    "    # This gets rid of traded players entirely\n",
    "    new = new.drop_duplicates(subset='Player', keep=False).reset_index(drop=True)\n",
    "\n",
    "    # Fills nan's with 0\n",
    "    new.fillna(value=0, inplace=True)\n",
    "\n",
    "    # Adds a year column\n",
    "    new['Year'] = year\n",
    "\n",
    "    new.to_csv(f'playoffs/{year}_player_playoff_stats.csv')\n",
    "    print(year, 'Complete')"
   ],
   "metadata": {
    "collapsed": false,
    "pycharm": {
     "name": "#%%\n"
    }
   }
  },
  {
   "cell_type": "code",
   "execution_count": 11,
   "outputs": [
    {
     "data": {
      "text/plain": "      Rk             Player Pos Age   Tm   G   MP   PER    TS%  3PAr  ...  \\\n0      1   Precious Achiuwa  PF  21  MIA   3   12   8.1   .608  .000  ...   \n1      2        Bam Adebayo   C  23  MIA   4  136  14.9   .494  .000  ...   \n2      3  Ty-Shon Alexander  SG  22  PHO   1    1  79.0  1.000  .000  ...   \n3      4      Grayson Allen  SG  25  MEM   5  116   5.3   .478  .636  ...   \n4      5      Kyle Anderson  PF  27  MEM   5  142  13.7   .480  .286  ...   \n..   ...                ...  ..  ..  ...  ..  ...   ...    ...   ...  ...   \n245  235    Robert Williams   C  23  BOS   3   46  27.2   .638  .000  ...   \n246  236    Justise Winslow  SF  24  MEM   1    3  14.0    NaN   NaN  ...   \n247  237    Cassius Winston  PG  22  WAS   1    5  -7.3   .333  .333  ...   \n248  238         Trae Young  PG  22  ATL  16  603  21.2   .551  .401  ...   \n249  239        Ivica Zubac   C  23  LAC  17  301  17.6   .681  .000  ...   \n\n    Unnamed: 19   OWS   DWS    WS   WS/48 Unnamed: 24   OBPM  DBPM    BPM  \\\n0           NaN  -0.1   0.0  -0.1  -0.309         NaN  -11.3   2.8   -8.5   \n1           NaN  -0.1   0.1   0.0    .011         NaN    0.4   0.5    0.9   \n2           NaN   0.0   0.0   0.0   1.248         NaN   23.7   5.9   29.5   \n3           NaN   0.0  -0.1  -0.1  -0.035         NaN   -3.7  -2.1   -5.7   \n4           NaN   0.0   0.1   0.1    .042         NaN    0.0   2.4    2.4   \n..          ...   ...   ...   ...     ...         ...    ...   ...    ...   \n245         NaN   0.1   0.0   0.2    .180         NaN    3.1   4.8    7.9   \n246         NaN   0.0   0.0   0.0    .126         NaN    3.6   7.3   10.9   \n247         NaN  -0.1   0.0  -0.1  -0.568         NaN  -11.8  -6.3  -18.1   \n248         NaN   0.8   0.6   1.4    .114         NaN    6.8  -0.5    6.3   \n249         NaN   0.8   0.3   1.1    .177         NaN    0.2  -0.4   -0.3   \n\n     VORP  \n0     0.0  \n1     0.1  \n2     0.0  \n3    -0.1  \n4     0.2  \n..    ...  \n245   0.1  \n246   0.0  \n247   0.0  \n248   1.3  \n249   0.1  \n\n[250 rows x 29 columns]",
      "text/html": "<div>\n<style scoped>\n    .dataframe tbody tr th:only-of-type {\n        vertical-align: middle;\n    }\n\n    .dataframe tbody tr th {\n        vertical-align: top;\n    }\n\n    .dataframe thead th {\n        text-align: right;\n    }\n</style>\n<table border=\"1\" class=\"dataframe\">\n  <thead>\n    <tr style=\"text-align: right;\">\n      <th></th>\n      <th>Rk</th>\n      <th>Player</th>\n      <th>Pos</th>\n      <th>Age</th>\n      <th>Tm</th>\n      <th>G</th>\n      <th>MP</th>\n      <th>PER</th>\n      <th>TS%</th>\n      <th>3PAr</th>\n      <th>...</th>\n      <th>Unnamed: 19</th>\n      <th>OWS</th>\n      <th>DWS</th>\n      <th>WS</th>\n      <th>WS/48</th>\n      <th>Unnamed: 24</th>\n      <th>OBPM</th>\n      <th>DBPM</th>\n      <th>BPM</th>\n      <th>VORP</th>\n    </tr>\n  </thead>\n  <tbody>\n    <tr>\n      <th>0</th>\n      <td>1</td>\n      <td>Precious Achiuwa</td>\n      <td>PF</td>\n      <td>21</td>\n      <td>MIA</td>\n      <td>3</td>\n      <td>12</td>\n      <td>8.1</td>\n      <td>.608</td>\n      <td>.000</td>\n      <td>...</td>\n      <td>NaN</td>\n      <td>-0.1</td>\n      <td>0.0</td>\n      <td>-0.1</td>\n      <td>-0.309</td>\n      <td>NaN</td>\n      <td>-11.3</td>\n      <td>2.8</td>\n      <td>-8.5</td>\n      <td>0.0</td>\n    </tr>\n    <tr>\n      <th>1</th>\n      <td>2</td>\n      <td>Bam Adebayo</td>\n      <td>C</td>\n      <td>23</td>\n      <td>MIA</td>\n      <td>4</td>\n      <td>136</td>\n      <td>14.9</td>\n      <td>.494</td>\n      <td>.000</td>\n      <td>...</td>\n      <td>NaN</td>\n      <td>-0.1</td>\n      <td>0.1</td>\n      <td>0.0</td>\n      <td>.011</td>\n      <td>NaN</td>\n      <td>0.4</td>\n      <td>0.5</td>\n      <td>0.9</td>\n      <td>0.1</td>\n    </tr>\n    <tr>\n      <th>2</th>\n      <td>3</td>\n      <td>Ty-Shon Alexander</td>\n      <td>SG</td>\n      <td>22</td>\n      <td>PHO</td>\n      <td>1</td>\n      <td>1</td>\n      <td>79.0</td>\n      <td>1.000</td>\n      <td>.000</td>\n      <td>...</td>\n      <td>NaN</td>\n      <td>0.0</td>\n      <td>0.0</td>\n      <td>0.0</td>\n      <td>1.248</td>\n      <td>NaN</td>\n      <td>23.7</td>\n      <td>5.9</td>\n      <td>29.5</td>\n      <td>0.0</td>\n    </tr>\n    <tr>\n      <th>3</th>\n      <td>4</td>\n      <td>Grayson Allen</td>\n      <td>SG</td>\n      <td>25</td>\n      <td>MEM</td>\n      <td>5</td>\n      <td>116</td>\n      <td>5.3</td>\n      <td>.478</td>\n      <td>.636</td>\n      <td>...</td>\n      <td>NaN</td>\n      <td>0.0</td>\n      <td>-0.1</td>\n      <td>-0.1</td>\n      <td>-0.035</td>\n      <td>NaN</td>\n      <td>-3.7</td>\n      <td>-2.1</td>\n      <td>-5.7</td>\n      <td>-0.1</td>\n    </tr>\n    <tr>\n      <th>4</th>\n      <td>5</td>\n      <td>Kyle Anderson</td>\n      <td>PF</td>\n      <td>27</td>\n      <td>MEM</td>\n      <td>5</td>\n      <td>142</td>\n      <td>13.7</td>\n      <td>.480</td>\n      <td>.286</td>\n      <td>...</td>\n      <td>NaN</td>\n      <td>0.0</td>\n      <td>0.1</td>\n      <td>0.1</td>\n      <td>.042</td>\n      <td>NaN</td>\n      <td>0.0</td>\n      <td>2.4</td>\n      <td>2.4</td>\n      <td>0.2</td>\n    </tr>\n    <tr>\n      <th>...</th>\n      <td>...</td>\n      <td>...</td>\n      <td>...</td>\n      <td>...</td>\n      <td>...</td>\n      <td>...</td>\n      <td>...</td>\n      <td>...</td>\n      <td>...</td>\n      <td>...</td>\n      <td>...</td>\n      <td>...</td>\n      <td>...</td>\n      <td>...</td>\n      <td>...</td>\n      <td>...</td>\n      <td>...</td>\n      <td>...</td>\n      <td>...</td>\n      <td>...</td>\n      <td>...</td>\n    </tr>\n    <tr>\n      <th>245</th>\n      <td>235</td>\n      <td>Robert Williams</td>\n      <td>C</td>\n      <td>23</td>\n      <td>BOS</td>\n      <td>3</td>\n      <td>46</td>\n      <td>27.2</td>\n      <td>.638</td>\n      <td>.000</td>\n      <td>...</td>\n      <td>NaN</td>\n      <td>0.1</td>\n      <td>0.0</td>\n      <td>0.2</td>\n      <td>.180</td>\n      <td>NaN</td>\n      <td>3.1</td>\n      <td>4.8</td>\n      <td>7.9</td>\n      <td>0.1</td>\n    </tr>\n    <tr>\n      <th>246</th>\n      <td>236</td>\n      <td>Justise Winslow</td>\n      <td>SF</td>\n      <td>24</td>\n      <td>MEM</td>\n      <td>1</td>\n      <td>3</td>\n      <td>14.0</td>\n      <td>NaN</td>\n      <td>NaN</td>\n      <td>...</td>\n      <td>NaN</td>\n      <td>0.0</td>\n      <td>0.0</td>\n      <td>0.0</td>\n      <td>.126</td>\n      <td>NaN</td>\n      <td>3.6</td>\n      <td>7.3</td>\n      <td>10.9</td>\n      <td>0.0</td>\n    </tr>\n    <tr>\n      <th>247</th>\n      <td>237</td>\n      <td>Cassius Winston</td>\n      <td>PG</td>\n      <td>22</td>\n      <td>WAS</td>\n      <td>1</td>\n      <td>5</td>\n      <td>-7.3</td>\n      <td>.333</td>\n      <td>.333</td>\n      <td>...</td>\n      <td>NaN</td>\n      <td>-0.1</td>\n      <td>0.0</td>\n      <td>-0.1</td>\n      <td>-0.568</td>\n      <td>NaN</td>\n      <td>-11.8</td>\n      <td>-6.3</td>\n      <td>-18.1</td>\n      <td>0.0</td>\n    </tr>\n    <tr>\n      <th>248</th>\n      <td>238</td>\n      <td>Trae Young</td>\n      <td>PG</td>\n      <td>22</td>\n      <td>ATL</td>\n      <td>16</td>\n      <td>603</td>\n      <td>21.2</td>\n      <td>.551</td>\n      <td>.401</td>\n      <td>...</td>\n      <td>NaN</td>\n      <td>0.8</td>\n      <td>0.6</td>\n      <td>1.4</td>\n      <td>.114</td>\n      <td>NaN</td>\n      <td>6.8</td>\n      <td>-0.5</td>\n      <td>6.3</td>\n      <td>1.3</td>\n    </tr>\n    <tr>\n      <th>249</th>\n      <td>239</td>\n      <td>Ivica Zubac</td>\n      <td>C</td>\n      <td>23</td>\n      <td>LAC</td>\n      <td>17</td>\n      <td>301</td>\n      <td>17.6</td>\n      <td>.681</td>\n      <td>.000</td>\n      <td>...</td>\n      <td>NaN</td>\n      <td>0.8</td>\n      <td>0.3</td>\n      <td>1.1</td>\n      <td>.177</td>\n      <td>NaN</td>\n      <td>0.2</td>\n      <td>-0.4</td>\n      <td>-0.3</td>\n      <td>0.1</td>\n    </tr>\n  </tbody>\n</table>\n<p>250 rows × 29 columns</p>\n</div>"
     },
     "execution_count": 11,
     "metadata": {},
     "output_type": "execute_result"
    }
   ],
   "source": [],
   "metadata": {
    "collapsed": false,
    "pycharm": {
     "name": "#%%\n"
    }
   }
  },
  {
   "cell_type": "code",
   "execution_count": null,
   "outputs": [],
   "source": [],
   "metadata": {
    "collapsed": false,
    "pycharm": {
     "name": "#%%\n"
    }
   }
  }
 ],
 "metadata": {
  "kernelspec": {
   "display_name": "Python 3",
   "language": "python",
   "name": "python3"
  },
  "language_info": {
   "codemirror_mode": {
    "name": "ipython",
    "version": 2
   },
   "file_extension": ".py",
   "mimetype": "text/x-python",
   "name": "python",
   "nbconvert_exporter": "python",
   "pygments_lexer": "ipython2",
   "version": "2.7.6"
  }
 },
 "nbformat": 4,
 "nbformat_minor": 0
}