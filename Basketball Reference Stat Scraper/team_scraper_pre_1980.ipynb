{
 "cells": [
  {
   "cell_type": "code",
   "execution_count": 1,
   "outputs": [],
   "source": [
    "import pandas as pd\n",
    "import requests\n",
    "from datetime import datetime\n"
   ],
   "metadata": {
    "collapsed": false,
    "pycharm": {
     "name": "#%%\n"
    }
   }
  },
  {
   "cell_type": "code",
   "execution_count": 2,
   "outputs": [],
   "source": [
    "def remove_multiindex(df:pd.DataFrame):\n",
    "\treturn df.droplevel(level=0,axis=1)"
   ],
   "metadata": {
    "collapsed": false,
    "pycharm": {
     "name": "#%%\n"
    }
   }
  },
  {
   "cell_type": "code",
   "execution_count": 3,
   "outputs": [],
   "source": [
    "# link for extract html data\n",
    "def getdata(url):\n",
    "    r = requests.get(url)\n",
    "    return r.text\n",
    "\n"
   ],
   "metadata": {
    "collapsed": false,
    "pycharm": {
     "name": "#%%\n"
    }
   }
  },
  {
   "cell_type": "code",
   "execution_count": 24,
   "outputs": [
    {
     "name": "stdout",
     "output_type": "stream",
     "text": [
      "1950 Complete\n",
      "1951 Complete\n",
      "1952 Complete\n",
      "1953 Complete\n",
      "1954 Complete\n",
      "1955 Complete\n",
      "1956 Complete\n",
      "1957 Complete\n",
      "1958 Complete\n",
      "1959 Complete\n",
      "1960 Complete\n",
      "1961 Complete\n",
      "1962 Complete\n",
      "1963 Complete\n",
      "1964 Complete\n",
      "1965 Complete\n",
      "1966 Complete\n",
      "1967 Complete\n",
      "1968 Complete\n",
      "1969 Complete\n",
      "1970 Complete\n",
      "1971 Complete\n",
      "1972 Complete\n",
      "1973 Complete\n",
      "1974 Complete\n",
      "1975 Complete\n",
      "1976 Complete\n",
      "1977 Complete\n",
      "1978 Complete\n",
      "1979 Complete\n",
      "1980 Complete\n",
      "1981 Complete\n",
      "1982 Complete\n",
      "1983 Complete\n",
      "1984 Complete\n",
      "1985 Complete\n",
      "1986 Complete\n",
      "1987 Complete\n",
      "1988 Complete\n",
      "1989 Complete\n",
      "1990 Complete\n",
      "1991 Complete\n",
      "1992 Complete\n",
      "1993 Complete\n",
      "1994 Complete\n",
      "1995 Complete\n",
      "1996 Complete\n",
      "1997 Complete\n",
      "1998 Complete\n",
      "1999 Complete\n",
      "2000 Complete\n",
      "2001 Complete\n",
      "2002 Complete\n",
      "2003 Complete\n",
      "2004 Complete\n",
      "2005 Complete\n",
      "2006 Complete\n",
      "2007 Complete\n",
      "2008 Complete\n",
      "2009 Complete\n",
      "2010 Complete\n",
      "2011 Complete\n",
      "2012 Complete\n",
      "2013 Complete\n",
      "2014 Complete\n",
      "2015 Complete\n",
      "2016 Complete\n",
      "2017 Complete\n",
      "2018 Complete\n",
      "2019 Complete\n",
      "2020 Complete\n",
      "2021 Complete\n",
      "2022 Complete\n"
     ]
    }
   ],
   "source": [
    "full_df_list = pd.DataFrame(columns=[ 'Team', 'G', 'MP', 'FG', 'FGA', 'FG%', '3P', '3PA', '3P%', '2P',\n",
    "\t\t   '2PA', '2P%', 'FT', 'FTA', 'FT%', 'ORB', 'DRB', 'TRB', 'AST', 'STL',\n",
    "\t\t   'BLK', 'TOV', 'PF', 'PTS', 'Age', 'W', 'L', 'MOV',\n",
    "\t\t   'SOS', 'SRS', 'ORtg', 'DRtg', 'NRtg', 'Pace', 'FTr', '3PAr', 'TS%',])\n",
    "\n",
    "\n",
    "for year in range(1950,2023):\n",
    "\n",
    "\n",
    "\thtmldata = getdata(f\"https://www.basketball-reference.com/leagues/NBA_{year}.html\")\n",
    "\tdf_list = pd.read_html(htmldata)\n",
    "\n",
    "\tif year <= 1970:\n",
    "\n",
    "\t\tper_game_stat = df_list[1]\n",
    "\t\tadv_stat = df_list[5]\n",
    "\n",
    "\telif 1971 <= year <= 1973:\n",
    "\t\tper_game_stat = df_list[2]\n",
    "\t\tadv_stat = df_list[6]\n",
    "\n",
    "\telif 1974 <= year <= 1980:\n",
    "\t\tper_game_stat = df_list[2]\n",
    "\t\tadv_stat = df_list[8]\n",
    "\n",
    "\telif 1980<= year <= 2015:\n",
    "\t\tper_game_stat = df_list[3].copy()\n",
    "\t\tadv_stat = df_list[8].copy()\n",
    "\telse:\n",
    "\t\tper_game_stat = df_list[4].copy()\n",
    "\t\tadv_stat = df_list[10].copy()\n",
    "\n",
    "\tnew = pd.merge(per_game_stat,adv_stat.droplevel(level=0,axis=1),on='Team')\n",
    "\n",
    "\tnew = new[[ 'Team', 'G', 'MP', 'FG', 'FGA', 'FG%', '3P', '3PA', '3P%', '2P',\n",
    "\t\t   '2PA', '2P%', 'FT', 'FTA', 'FT%', 'ORB', 'DRB', 'TRB', 'AST', 'STL',\n",
    "\t\t   'BLK', 'TOV', 'PF', 'PTS', 'Age', 'W', 'L', 'MOV',\n",
    "\t\t   'SOS', 'SRS', 'ORtg', 'DRtg', 'NRtg', 'Pace', 'FTr', '3PAr', 'TS%',]].sort_values('W',ascending=False).reset_index(drop=True)\n",
    "\n",
    "\tnew['Year'] = year\n",
    "\n",
    "\tnew.loc[new['Team'] == 'League Average','Team'] = f'League Average {year}'\n",
    "\n",
    "\tnew.to_csv(f'team_stats/pre_1980/{year}_tm_stats.csv')\n",
    "\tfull_df_list = full_df_list.append(new)\n",
    "\n",
    "\tprint(year,'Complete')\n",
    "\n",
    "\n",
    "full_df_list.to_csv('team_stats/pre_1980/all_pre_1980.csv')"
   ],
   "metadata": {
    "collapsed": false,
    "pycharm": {
     "name": "#%%\n"
    }
   }
  },
  {
   "cell_type": "code",
   "execution_count": 34,
   "outputs": [],
   "source": [
    "full_df_list.to_csv('../Data/Team Data/Combined/league_stats.csv')"
   ],
   "metadata": {
    "collapsed": false,
    "pycharm": {
     "name": "#%%\n"
    }
   }
  },
  {
   "cell_type": "code",
   "execution_count": 16,
   "outputs": [],
   "source": [
    "year = 1974\n",
    "\n",
    "htmldata = getdata(f\"https://www.basketball-reference.com/leagues/NBA_{year}.html\")\n",
    "df_list = pd.read_html(htmldata)\n",
    "\n",
    "if year <= 1970:\n",
    "\n",
    "\tper_game_stat = df_list[1]\n",
    "\tadv_stat = df_list[5]\n",
    "\n",
    "elif 1971 <= year <= 1973:\n",
    "\tper_game_stat = df_list[2]\n",
    "\tadv_stat = df_list[6]\n",
    "\n",
    "else:\n",
    "\tper_game_stat = df_list[2]\n",
    "\tadv_stat = df_list[8]"
   ],
   "metadata": {
    "collapsed": false,
    "pycharm": {
     "name": "#%%\n"
    }
   }
  },
  {
   "cell_type": "code",
   "execution_count": 17,
   "outputs": [
    {
     "data": {
      "text/plain": "      Rk                     Team   Age     W     L  PW  PL   MOV   SOS   SRS  \\\n0    1.0         Milwaukee Bucks*  27.3  59.0  23.0  61  21  8.04 -0.42  7.61   \n1    2.0         Detroit Pistons*  26.2  52.0  30.0  52  30  4.06 -0.04  4.02   \n2    3.0          Boston Celtics*  28.5  56.0  26.0  51  31  3.91 -0.49  3.42   \n3    4.0           Chicago Bulls*  28.7  54.0  28.0  50  32  3.30 -0.10  3.20   \n4    5.0         New York Knicks*  28.5  49.0  33.0  49  33  2.76 -0.34  2.42   \n5    6.0    Golden State Warriors  28.4  44.0  38.0  48  34  2.56 -0.15  2.42   \n6    7.0         Capital Bullets*  26.4  47.0  35.0  45  37  1.49 -0.30  1.19   \n7    8.0      Los Angeles Lakers*  28.7  47.0  35.0  43  39  0.87 -0.02  0.85   \n8    9.0          Buffalo Braves*  24.4  42.0  40.0  41  41 -0.11 -0.08 -0.19   \n9   10.0          Houston Rockets  25.4  32.0  50.0  41  41 -0.13 -0.20 -0.34   \n10  11.0            Atlanta Hawks  27.1  35.0  47.0  37  45 -1.43 -0.04 -1.47   \n11  12.0      Seattle SuperSonics  26.0  36.0  46.0  34  48 -2.55  0.26 -2.29   \n12  13.0             Phoenix Suns  26.2  30.0  52.0  32  50 -3.56  0.36 -3.20   \n13  14.0  Kansas City-Omaha Kings  26.7  33.0  49.0  31  51 -3.73  0.49 -3.24   \n14  15.0      Cleveland Cavaliers  26.5  29.0  53.0  29  53 -4.33  0.17 -4.16   \n15  16.0   Portland Trail Blazers  24.7  27.0  55.0  29  53 -4.78  0.48 -4.30   \n16  17.0       Philadelphia 76ers  28.4  25.0  57.0  24  58 -6.37  0.42 -5.94   \n17   NaN           League Average  27.0   NaN   NaN  41  41  0.00  0.00  0.00   \n\n    ...  FT/FGA  Unnamed: 22_level_1   eFG%  TOV%  DRB%  FT/FGA  \\\n0   ...   0.175                  NaN  0.425  15.2  69.4   0.192   \n1   ...   0.220                  NaN  0.450  17.9  69.6   0.197   \n2   ...   0.210                  NaN  0.443  15.2  73.1   0.186   \n3   ...   0.242                  NaN  0.460  18.9  69.7   0.197   \n4   ...   0.180                  NaN  0.446  15.9  72.3   0.203   \n5   ...   0.196                  NaN  0.453  14.2  71.2   0.195   \n6   ...   0.177                  NaN  0.451  16.3  70.5   0.160   \n7   ...   0.241                  NaN  0.438  15.7  66.1   0.185   \n8   ...   0.219                  NaN  0.467  16.4  69.0   0.196   \n9   ...   0.227                  NaN  0.478  17.0  69.0   0.231   \n10  ...   0.220                  NaN  0.468  17.5  70.4   0.246   \n11  ...   0.199                  NaN  0.463  17.0  69.8   0.244   \n12  ...   0.225                  NaN  0.467  15.6  69.1   0.236   \n13  ...   0.222                  NaN  0.476  17.4  67.9   0.201   \n14  ...   0.177                  NaN  0.469  16.6  68.7   0.231   \n15  ...   0.207                  NaN  0.484  16.6  68.5   0.241   \n16  ...   0.212                  NaN  0.468  17.6  66.7   0.210   \n17  ...   0.209                  NaN  0.459  16.5  69.5   0.209   \n\n    Unnamed: 27_level_1                                  Arena   Attend.  \\\n0                   NaN                        Milwaukee Arena       NaN   \n1                   NaN                             Cobo Arena       NaN   \n2                   NaN                          Boston Garden  355261.0   \n3                   NaN                        Chicago Stadium       NaN   \n4                   NaN             Madison Square Garden (IV)       NaN   \n5                   NaN  Oakland-Alameda County Coliseum Arena       NaN   \n6                   NaN                         Capital Centre       NaN   \n7                   NaN                              The Forum  603145.0   \n8                   NaN            Buffalo Memorial Auditorium       NaN   \n9                   NaN                      Hofheinz Pavilion       NaN   \n10                  NaN                          Omni Coliseum       NaN   \n11                  NaN                Seattle Center Coliseum       NaN   \n12                  NaN     Arizona Veterans Memorial Coliseum       NaN   \n13                  NaN                   Municipal Auditorium       NaN   \n14                  NaN                        Cleveland Arena       NaN   \n15                  NaN                      Memorial Coliseum       NaN   \n16                  NaN                           The Spectrum       NaN   \n17                  NaN                                    NaN  479203.0   \n\n    Attend./G  \n0         NaN  \n1      3634.0  \n2         NaN  \n3         NaN  \n4         NaN  \n5         NaN  \n6         NaN  \n7         NaN  \n8         NaN  \n9         NaN  \n10        NaN  \n11        NaN  \n12        NaN  \n13        NaN  \n14        NaN  \n15        NaN  \n16        NaN  \n17     5676.0  \n\n[18 rows x 31 columns]",
      "text/html": "<div>\n<style scoped>\n    .dataframe tbody tr th:only-of-type {\n        vertical-align: middle;\n    }\n\n    .dataframe tbody tr th {\n        vertical-align: top;\n    }\n\n    .dataframe thead th {\n        text-align: right;\n    }\n</style>\n<table border=\"1\" class=\"dataframe\">\n  <thead>\n    <tr style=\"text-align: right;\">\n      <th></th>\n      <th>Rk</th>\n      <th>Team</th>\n      <th>Age</th>\n      <th>W</th>\n      <th>L</th>\n      <th>PW</th>\n      <th>PL</th>\n      <th>MOV</th>\n      <th>SOS</th>\n      <th>SRS</th>\n      <th>...</th>\n      <th>FT/FGA</th>\n      <th>Unnamed: 22_level_1</th>\n      <th>eFG%</th>\n      <th>TOV%</th>\n      <th>DRB%</th>\n      <th>FT/FGA</th>\n      <th>Unnamed: 27_level_1</th>\n      <th>Arena</th>\n      <th>Attend.</th>\n      <th>Attend./G</th>\n    </tr>\n  </thead>\n  <tbody>\n    <tr>\n      <th>0</th>\n      <td>1.0</td>\n      <td>Milwaukee Bucks*</td>\n      <td>27.3</td>\n      <td>59.0</td>\n      <td>23.0</td>\n      <td>61</td>\n      <td>21</td>\n      <td>8.04</td>\n      <td>-0.42</td>\n      <td>7.61</td>\n      <td>...</td>\n      <td>0.175</td>\n      <td>NaN</td>\n      <td>0.425</td>\n      <td>15.2</td>\n      <td>69.4</td>\n      <td>0.192</td>\n      <td>NaN</td>\n      <td>Milwaukee Arena</td>\n      <td>NaN</td>\n      <td>NaN</td>\n    </tr>\n    <tr>\n      <th>1</th>\n      <td>2.0</td>\n      <td>Detroit Pistons*</td>\n      <td>26.2</td>\n      <td>52.0</td>\n      <td>30.0</td>\n      <td>52</td>\n      <td>30</td>\n      <td>4.06</td>\n      <td>-0.04</td>\n      <td>4.02</td>\n      <td>...</td>\n      <td>0.220</td>\n      <td>NaN</td>\n      <td>0.450</td>\n      <td>17.9</td>\n      <td>69.6</td>\n      <td>0.197</td>\n      <td>NaN</td>\n      <td>Cobo Arena</td>\n      <td>NaN</td>\n      <td>3634.0</td>\n    </tr>\n    <tr>\n      <th>2</th>\n      <td>3.0</td>\n      <td>Boston Celtics*</td>\n      <td>28.5</td>\n      <td>56.0</td>\n      <td>26.0</td>\n      <td>51</td>\n      <td>31</td>\n      <td>3.91</td>\n      <td>-0.49</td>\n      <td>3.42</td>\n      <td>...</td>\n      <td>0.210</td>\n      <td>NaN</td>\n      <td>0.443</td>\n      <td>15.2</td>\n      <td>73.1</td>\n      <td>0.186</td>\n      <td>NaN</td>\n      <td>Boston Garden</td>\n      <td>355261.0</td>\n      <td>NaN</td>\n    </tr>\n    <tr>\n      <th>3</th>\n      <td>4.0</td>\n      <td>Chicago Bulls*</td>\n      <td>28.7</td>\n      <td>54.0</td>\n      <td>28.0</td>\n      <td>50</td>\n      <td>32</td>\n      <td>3.30</td>\n      <td>-0.10</td>\n      <td>3.20</td>\n      <td>...</td>\n      <td>0.242</td>\n      <td>NaN</td>\n      <td>0.460</td>\n      <td>18.9</td>\n      <td>69.7</td>\n      <td>0.197</td>\n      <td>NaN</td>\n      <td>Chicago Stadium</td>\n      <td>NaN</td>\n      <td>NaN</td>\n    </tr>\n    <tr>\n      <th>4</th>\n      <td>5.0</td>\n      <td>New York Knicks*</td>\n      <td>28.5</td>\n      <td>49.0</td>\n      <td>33.0</td>\n      <td>49</td>\n      <td>33</td>\n      <td>2.76</td>\n      <td>-0.34</td>\n      <td>2.42</td>\n      <td>...</td>\n      <td>0.180</td>\n      <td>NaN</td>\n      <td>0.446</td>\n      <td>15.9</td>\n      <td>72.3</td>\n      <td>0.203</td>\n      <td>NaN</td>\n      <td>Madison Square Garden (IV)</td>\n      <td>NaN</td>\n      <td>NaN</td>\n    </tr>\n    <tr>\n      <th>5</th>\n      <td>6.0</td>\n      <td>Golden State Warriors</td>\n      <td>28.4</td>\n      <td>44.0</td>\n      <td>38.0</td>\n      <td>48</td>\n      <td>34</td>\n      <td>2.56</td>\n      <td>-0.15</td>\n      <td>2.42</td>\n      <td>...</td>\n      <td>0.196</td>\n      <td>NaN</td>\n      <td>0.453</td>\n      <td>14.2</td>\n      <td>71.2</td>\n      <td>0.195</td>\n      <td>NaN</td>\n      <td>Oakland-Alameda County Coliseum Arena</td>\n      <td>NaN</td>\n      <td>NaN</td>\n    </tr>\n    <tr>\n      <th>6</th>\n      <td>7.0</td>\n      <td>Capital Bullets*</td>\n      <td>26.4</td>\n      <td>47.0</td>\n      <td>35.0</td>\n      <td>45</td>\n      <td>37</td>\n      <td>1.49</td>\n      <td>-0.30</td>\n      <td>1.19</td>\n      <td>...</td>\n      <td>0.177</td>\n      <td>NaN</td>\n      <td>0.451</td>\n      <td>16.3</td>\n      <td>70.5</td>\n      <td>0.160</td>\n      <td>NaN</td>\n      <td>Capital Centre</td>\n      <td>NaN</td>\n      <td>NaN</td>\n    </tr>\n    <tr>\n      <th>7</th>\n      <td>8.0</td>\n      <td>Los Angeles Lakers*</td>\n      <td>28.7</td>\n      <td>47.0</td>\n      <td>35.0</td>\n      <td>43</td>\n      <td>39</td>\n      <td>0.87</td>\n      <td>-0.02</td>\n      <td>0.85</td>\n      <td>...</td>\n      <td>0.241</td>\n      <td>NaN</td>\n      <td>0.438</td>\n      <td>15.7</td>\n      <td>66.1</td>\n      <td>0.185</td>\n      <td>NaN</td>\n      <td>The Forum</td>\n      <td>603145.0</td>\n      <td>NaN</td>\n    </tr>\n    <tr>\n      <th>8</th>\n      <td>9.0</td>\n      <td>Buffalo Braves*</td>\n      <td>24.4</td>\n      <td>42.0</td>\n      <td>40.0</td>\n      <td>41</td>\n      <td>41</td>\n      <td>-0.11</td>\n      <td>-0.08</td>\n      <td>-0.19</td>\n      <td>...</td>\n      <td>0.219</td>\n      <td>NaN</td>\n      <td>0.467</td>\n      <td>16.4</td>\n      <td>69.0</td>\n      <td>0.196</td>\n      <td>NaN</td>\n      <td>Buffalo Memorial Auditorium</td>\n      <td>NaN</td>\n      <td>NaN</td>\n    </tr>\n    <tr>\n      <th>9</th>\n      <td>10.0</td>\n      <td>Houston Rockets</td>\n      <td>25.4</td>\n      <td>32.0</td>\n      <td>50.0</td>\n      <td>41</td>\n      <td>41</td>\n      <td>-0.13</td>\n      <td>-0.20</td>\n      <td>-0.34</td>\n      <td>...</td>\n      <td>0.227</td>\n      <td>NaN</td>\n      <td>0.478</td>\n      <td>17.0</td>\n      <td>69.0</td>\n      <td>0.231</td>\n      <td>NaN</td>\n      <td>Hofheinz Pavilion</td>\n      <td>NaN</td>\n      <td>NaN</td>\n    </tr>\n    <tr>\n      <th>10</th>\n      <td>11.0</td>\n      <td>Atlanta Hawks</td>\n      <td>27.1</td>\n      <td>35.0</td>\n      <td>47.0</td>\n      <td>37</td>\n      <td>45</td>\n      <td>-1.43</td>\n      <td>-0.04</td>\n      <td>-1.47</td>\n      <td>...</td>\n      <td>0.220</td>\n      <td>NaN</td>\n      <td>0.468</td>\n      <td>17.5</td>\n      <td>70.4</td>\n      <td>0.246</td>\n      <td>NaN</td>\n      <td>Omni Coliseum</td>\n      <td>NaN</td>\n      <td>NaN</td>\n    </tr>\n    <tr>\n      <th>11</th>\n      <td>12.0</td>\n      <td>Seattle SuperSonics</td>\n      <td>26.0</td>\n      <td>36.0</td>\n      <td>46.0</td>\n      <td>34</td>\n      <td>48</td>\n      <td>-2.55</td>\n      <td>0.26</td>\n      <td>-2.29</td>\n      <td>...</td>\n      <td>0.199</td>\n      <td>NaN</td>\n      <td>0.463</td>\n      <td>17.0</td>\n      <td>69.8</td>\n      <td>0.244</td>\n      <td>NaN</td>\n      <td>Seattle Center Coliseum</td>\n      <td>NaN</td>\n      <td>NaN</td>\n    </tr>\n    <tr>\n      <th>12</th>\n      <td>13.0</td>\n      <td>Phoenix Suns</td>\n      <td>26.2</td>\n      <td>30.0</td>\n      <td>52.0</td>\n      <td>32</td>\n      <td>50</td>\n      <td>-3.56</td>\n      <td>0.36</td>\n      <td>-3.20</td>\n      <td>...</td>\n      <td>0.225</td>\n      <td>NaN</td>\n      <td>0.467</td>\n      <td>15.6</td>\n      <td>69.1</td>\n      <td>0.236</td>\n      <td>NaN</td>\n      <td>Arizona Veterans Memorial Coliseum</td>\n      <td>NaN</td>\n      <td>NaN</td>\n    </tr>\n    <tr>\n      <th>13</th>\n      <td>14.0</td>\n      <td>Kansas City-Omaha Kings</td>\n      <td>26.7</td>\n      <td>33.0</td>\n      <td>49.0</td>\n      <td>31</td>\n      <td>51</td>\n      <td>-3.73</td>\n      <td>0.49</td>\n      <td>-3.24</td>\n      <td>...</td>\n      <td>0.222</td>\n      <td>NaN</td>\n      <td>0.476</td>\n      <td>17.4</td>\n      <td>67.9</td>\n      <td>0.201</td>\n      <td>NaN</td>\n      <td>Municipal Auditorium</td>\n      <td>NaN</td>\n      <td>NaN</td>\n    </tr>\n    <tr>\n      <th>14</th>\n      <td>15.0</td>\n      <td>Cleveland Cavaliers</td>\n      <td>26.5</td>\n      <td>29.0</td>\n      <td>53.0</td>\n      <td>29</td>\n      <td>53</td>\n      <td>-4.33</td>\n      <td>0.17</td>\n      <td>-4.16</td>\n      <td>...</td>\n      <td>0.177</td>\n      <td>NaN</td>\n      <td>0.469</td>\n      <td>16.6</td>\n      <td>68.7</td>\n      <td>0.231</td>\n      <td>NaN</td>\n      <td>Cleveland Arena</td>\n      <td>NaN</td>\n      <td>NaN</td>\n    </tr>\n    <tr>\n      <th>15</th>\n      <td>16.0</td>\n      <td>Portland Trail Blazers</td>\n      <td>24.7</td>\n      <td>27.0</td>\n      <td>55.0</td>\n      <td>29</td>\n      <td>53</td>\n      <td>-4.78</td>\n      <td>0.48</td>\n      <td>-4.30</td>\n      <td>...</td>\n      <td>0.207</td>\n      <td>NaN</td>\n      <td>0.484</td>\n      <td>16.6</td>\n      <td>68.5</td>\n      <td>0.241</td>\n      <td>NaN</td>\n      <td>Memorial Coliseum</td>\n      <td>NaN</td>\n      <td>NaN</td>\n    </tr>\n    <tr>\n      <th>16</th>\n      <td>17.0</td>\n      <td>Philadelphia 76ers</td>\n      <td>28.4</td>\n      <td>25.0</td>\n      <td>57.0</td>\n      <td>24</td>\n      <td>58</td>\n      <td>-6.37</td>\n      <td>0.42</td>\n      <td>-5.94</td>\n      <td>...</td>\n      <td>0.212</td>\n      <td>NaN</td>\n      <td>0.468</td>\n      <td>17.6</td>\n      <td>66.7</td>\n      <td>0.210</td>\n      <td>NaN</td>\n      <td>The Spectrum</td>\n      <td>NaN</td>\n      <td>NaN</td>\n    </tr>\n    <tr>\n      <th>17</th>\n      <td>NaN</td>\n      <td>League Average</td>\n      <td>27.0</td>\n      <td>NaN</td>\n      <td>NaN</td>\n      <td>41</td>\n      <td>41</td>\n      <td>0.00</td>\n      <td>0.00</td>\n      <td>0.00</td>\n      <td>...</td>\n      <td>0.209</td>\n      <td>NaN</td>\n      <td>0.459</td>\n      <td>16.5</td>\n      <td>69.5</td>\n      <td>0.209</td>\n      <td>NaN</td>\n      <td>NaN</td>\n      <td>479203.0</td>\n      <td>5676.0</td>\n    </tr>\n  </tbody>\n</table>\n<p>18 rows × 31 columns</p>\n</div>"
     },
     "execution_count": 17,
     "metadata": {},
     "output_type": "execute_result"
    }
   ],
   "source": [
    "# per_game_stat\n",
    "remove_multiindex(adv_stat)"
   ],
   "metadata": {
    "collapsed": false,
    "pycharm": {
     "name": "#%%\n"
    }
   }
  },
  {
   "cell_type": "code",
   "execution_count": null,
   "outputs": [],
   "source": [],
   "metadata": {
    "collapsed": false,
    "pycharm": {
     "name": "#%%\n"
    }
   }
  }
 ],
 "metadata": {
  "kernelspec": {
   "display_name": "Python 3",
   "language": "python",
   "name": "python3"
  },
  "language_info": {
   "codemirror_mode": {
    "name": "ipython",
    "version": 2
   },
   "file_extension": ".py",
   "mimetype": "text/x-python",
   "name": "python",
   "nbconvert_exporter": "python",
   "pygments_lexer": "ipython2",
   "version": "2.7.6"
  }
 },
 "nbformat": 4,
 "nbformat_minor": 0
}