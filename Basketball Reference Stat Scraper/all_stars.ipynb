{
 "cells": [
  {
   "cell_type": "code",
   "execution_count": 2,
   "outputs": [],
   "source": [
    "def remove_multiindex(df:pd.DataFrame):\n",
    "\treturn df.droplevel(level=0,axis=1)"
   ],
   "metadata": {
    "collapsed": false,
    "pycharm": {
     "name": "#%%\n"
    }
   }
  },
  {
   "cell_type": "code",
   "execution_count": 3,
   "outputs": [],
   "source": [
    "def getdata(url):\n",
    "    r = requests.get(url)\n",
    "    return r.text\n"
   ],
   "metadata": {
    "collapsed": false,
    "pycharm": {
     "name": "#%%\n"
    }
   }
  },
  {
   "cell_type": "code",
   "execution_count": 4,
   "outputs": [
    {
     "name": "stderr",
     "output_type": "stream",
     "text": [
      "/var/folders/0p/ttyhqytj0zxf3tq1njp37rqw0000gn/T/ipykernel_6061/1922600723.py:11: FutureWarning: The frame.append method is deprecated and will be removed from pandas in a future version. Use pandas.concat instead.\n",
      "  all_stars = team1.append(team2)\n"
     ]
    },
    {
     "name": "stdout",
     "output_type": "stream",
     "text": [
      "1980 processed\n"
     ]
    },
    {
     "name": "stderr",
     "output_type": "stream",
     "text": [
      "/var/folders/0p/ttyhqytj0zxf3tq1njp37rqw0000gn/T/ipykernel_6061/1922600723.py:11: FutureWarning: The frame.append method is deprecated and will be removed from pandas in a future version. Use pandas.concat instead.\n",
      "  all_stars = team1.append(team2)\n"
     ]
    },
    {
     "name": "stdout",
     "output_type": "stream",
     "text": [
      "1981 processed\n"
     ]
    },
    {
     "name": "stderr",
     "output_type": "stream",
     "text": [
      "/var/folders/0p/ttyhqytj0zxf3tq1njp37rqw0000gn/T/ipykernel_6061/1922600723.py:11: FutureWarning: The frame.append method is deprecated and will be removed from pandas in a future version. Use pandas.concat instead.\n",
      "  all_stars = team1.append(team2)\n"
     ]
    },
    {
     "name": "stdout",
     "output_type": "stream",
     "text": [
      "1982 processed\n"
     ]
    },
    {
     "name": "stderr",
     "output_type": "stream",
     "text": [
      "/var/folders/0p/ttyhqytj0zxf3tq1njp37rqw0000gn/T/ipykernel_6061/1922600723.py:11: FutureWarning: The frame.append method is deprecated and will be removed from pandas in a future version. Use pandas.concat instead.\n",
      "  all_stars = team1.append(team2)\n",
      "/var/folders/0p/ttyhqytj0zxf3tq1njp37rqw0000gn/T/ipykernel_6061/1922600723.py:11: FutureWarning: The frame.append method is deprecated and will be removed from pandas in a future version. Use pandas.concat instead.\n",
      "  all_stars = team1.append(team2)\n"
     ]
    },
    {
     "name": "stdout",
     "output_type": "stream",
     "text": [
      "1983 processed\n",
      "1984 processed\n"
     ]
    },
    {
     "name": "stderr",
     "output_type": "stream",
     "text": [
      "/var/folders/0p/ttyhqytj0zxf3tq1njp37rqw0000gn/T/ipykernel_6061/1922600723.py:11: FutureWarning: The frame.append method is deprecated and will be removed from pandas in a future version. Use pandas.concat instead.\n",
      "  all_stars = team1.append(team2)\n"
     ]
    },
    {
     "name": "stdout",
     "output_type": "stream",
     "text": [
      "1985 processed\n"
     ]
    },
    {
     "name": "stderr",
     "output_type": "stream",
     "text": [
      "/var/folders/0p/ttyhqytj0zxf3tq1njp37rqw0000gn/T/ipykernel_6061/1922600723.py:11: FutureWarning: The frame.append method is deprecated and will be removed from pandas in a future version. Use pandas.concat instead.\n",
      "  all_stars = team1.append(team2)\n"
     ]
    },
    {
     "name": "stdout",
     "output_type": "stream",
     "text": [
      "1986 processed\n"
     ]
    },
    {
     "name": "stderr",
     "output_type": "stream",
     "text": [
      "/var/folders/0p/ttyhqytj0zxf3tq1njp37rqw0000gn/T/ipykernel_6061/1922600723.py:11: FutureWarning: The frame.append method is deprecated and will be removed from pandas in a future version. Use pandas.concat instead.\n",
      "  all_stars = team1.append(team2)\n"
     ]
    },
    {
     "name": "stdout",
     "output_type": "stream",
     "text": [
      "1987 processed\n"
     ]
    },
    {
     "name": "stderr",
     "output_type": "stream",
     "text": [
      "/var/folders/0p/ttyhqytj0zxf3tq1njp37rqw0000gn/T/ipykernel_6061/1922600723.py:11: FutureWarning: The frame.append method is deprecated and will be removed from pandas in a future version. Use pandas.concat instead.\n",
      "  all_stars = team1.append(team2)\n"
     ]
    },
    {
     "name": "stdout",
     "output_type": "stream",
     "text": [
      "1988 processed\n"
     ]
    },
    {
     "name": "stderr",
     "output_type": "stream",
     "text": [
      "/var/folders/0p/ttyhqytj0zxf3tq1njp37rqw0000gn/T/ipykernel_6061/1922600723.py:11: FutureWarning: The frame.append method is deprecated and will be removed from pandas in a future version. Use pandas.concat instead.\n",
      "  all_stars = team1.append(team2)\n"
     ]
    },
    {
     "name": "stdout",
     "output_type": "stream",
     "text": [
      "1989 processed\n"
     ]
    },
    {
     "name": "stderr",
     "output_type": "stream",
     "text": [
      "/var/folders/0p/ttyhqytj0zxf3tq1njp37rqw0000gn/T/ipykernel_6061/1922600723.py:11: FutureWarning: The frame.append method is deprecated and will be removed from pandas in a future version. Use pandas.concat instead.\n",
      "  all_stars = team1.append(team2)\n"
     ]
    },
    {
     "name": "stdout",
     "output_type": "stream",
     "text": [
      "1990 processed\n"
     ]
    },
    {
     "name": "stderr",
     "output_type": "stream",
     "text": [
      "/var/folders/0p/ttyhqytj0zxf3tq1njp37rqw0000gn/T/ipykernel_6061/1922600723.py:11: FutureWarning: The frame.append method is deprecated and will be removed from pandas in a future version. Use pandas.concat instead.\n",
      "  all_stars = team1.append(team2)\n"
     ]
    },
    {
     "name": "stdout",
     "output_type": "stream",
     "text": [
      "1991 processed\n"
     ]
    },
    {
     "name": "stderr",
     "output_type": "stream",
     "text": [
      "/var/folders/0p/ttyhqytj0zxf3tq1njp37rqw0000gn/T/ipykernel_6061/1922600723.py:11: FutureWarning: The frame.append method is deprecated and will be removed from pandas in a future version. Use pandas.concat instead.\n",
      "  all_stars = team1.append(team2)\n"
     ]
    },
    {
     "name": "stdout",
     "output_type": "stream",
     "text": [
      "1992 processed\n"
     ]
    },
    {
     "name": "stderr",
     "output_type": "stream",
     "text": [
      "/var/folders/0p/ttyhqytj0zxf3tq1njp37rqw0000gn/T/ipykernel_6061/1922600723.py:11: FutureWarning: The frame.append method is deprecated and will be removed from pandas in a future version. Use pandas.concat instead.\n",
      "  all_stars = team1.append(team2)\n"
     ]
    },
    {
     "name": "stdout",
     "output_type": "stream",
     "text": [
      "1993 processed\n"
     ]
    },
    {
     "name": "stderr",
     "output_type": "stream",
     "text": [
      "/var/folders/0p/ttyhqytj0zxf3tq1njp37rqw0000gn/T/ipykernel_6061/1922600723.py:11: FutureWarning: The frame.append method is deprecated and will be removed from pandas in a future version. Use pandas.concat instead.\n",
      "  all_stars = team1.append(team2)\n"
     ]
    },
    {
     "name": "stdout",
     "output_type": "stream",
     "text": [
      "1994 processed\n"
     ]
    },
    {
     "name": "stderr",
     "output_type": "stream",
     "text": [
      "/var/folders/0p/ttyhqytj0zxf3tq1njp37rqw0000gn/T/ipykernel_6061/1922600723.py:11: FutureWarning: The frame.append method is deprecated and will be removed from pandas in a future version. Use pandas.concat instead.\n",
      "  all_stars = team1.append(team2)\n"
     ]
    },
    {
     "name": "stdout",
     "output_type": "stream",
     "text": [
      "1995 processed\n"
     ]
    },
    {
     "name": "stderr",
     "output_type": "stream",
     "text": [
      "/var/folders/0p/ttyhqytj0zxf3tq1njp37rqw0000gn/T/ipykernel_6061/1922600723.py:11: FutureWarning: The frame.append method is deprecated and will be removed from pandas in a future version. Use pandas.concat instead.\n",
      "  all_stars = team1.append(team2)\n"
     ]
    },
    {
     "name": "stdout",
     "output_type": "stream",
     "text": [
      "1996 processed\n"
     ]
    },
    {
     "name": "stderr",
     "output_type": "stream",
     "text": [
      "/var/folders/0p/ttyhqytj0zxf3tq1njp37rqw0000gn/T/ipykernel_6061/1922600723.py:11: FutureWarning: The frame.append method is deprecated and will be removed from pandas in a future version. Use pandas.concat instead.\n",
      "  all_stars = team1.append(team2)\n"
     ]
    },
    {
     "name": "stdout",
     "output_type": "stream",
     "text": [
      "1997 processed\n"
     ]
    },
    {
     "name": "stderr",
     "output_type": "stream",
     "text": [
      "/var/folders/0p/ttyhqytj0zxf3tq1njp37rqw0000gn/T/ipykernel_6061/1922600723.py:11: FutureWarning: The frame.append method is deprecated and will be removed from pandas in a future version. Use pandas.concat instead.\n",
      "  all_stars = team1.append(team2)\n"
     ]
    },
    {
     "name": "stdout",
     "output_type": "stream",
     "text": [
      "1998 processed\n"
     ]
    },
    {
     "name": "stderr",
     "output_type": "stream",
     "text": [
      "/var/folders/0p/ttyhqytj0zxf3tq1njp37rqw0000gn/T/ipykernel_6061/1922600723.py:11: FutureWarning: The frame.append method is deprecated and will be removed from pandas in a future version. Use pandas.concat instead.\n",
      "  all_stars = team1.append(team2)\n"
     ]
    },
    {
     "name": "stdout",
     "output_type": "stream",
     "text": [
      "2000 processed\n"
     ]
    },
    {
     "name": "stderr",
     "output_type": "stream",
     "text": [
      "/var/folders/0p/ttyhqytj0zxf3tq1njp37rqw0000gn/T/ipykernel_6061/1922600723.py:11: FutureWarning: The frame.append method is deprecated and will be removed from pandas in a future version. Use pandas.concat instead.\n",
      "  all_stars = team1.append(team2)\n"
     ]
    },
    {
     "name": "stdout",
     "output_type": "stream",
     "text": [
      "2001 processed\n"
     ]
    },
    {
     "name": "stderr",
     "output_type": "stream",
     "text": [
      "/var/folders/0p/ttyhqytj0zxf3tq1njp37rqw0000gn/T/ipykernel_6061/1922600723.py:11: FutureWarning: The frame.append method is deprecated and will be removed from pandas in a future version. Use pandas.concat instead.\n",
      "  all_stars = team1.append(team2)\n"
     ]
    },
    {
     "name": "stdout",
     "output_type": "stream",
     "text": [
      "2002 processed\n"
     ]
    },
    {
     "name": "stderr",
     "output_type": "stream",
     "text": [
      "/var/folders/0p/ttyhqytj0zxf3tq1njp37rqw0000gn/T/ipykernel_6061/1922600723.py:11: FutureWarning: The frame.append method is deprecated and will be removed from pandas in a future version. Use pandas.concat instead.\n",
      "  all_stars = team1.append(team2)\n",
      "/var/folders/0p/ttyhqytj0zxf3tq1njp37rqw0000gn/T/ipykernel_6061/1922600723.py:11: FutureWarning: The frame.append method is deprecated and will be removed from pandas in a future version. Use pandas.concat instead.\n",
      "  all_stars = team1.append(team2)\n"
     ]
    },
    {
     "name": "stdout",
     "output_type": "stream",
     "text": [
      "2003 processed\n",
      "2004 processed\n"
     ]
    },
    {
     "name": "stderr",
     "output_type": "stream",
     "text": [
      "/var/folders/0p/ttyhqytj0zxf3tq1njp37rqw0000gn/T/ipykernel_6061/1922600723.py:11: FutureWarning: The frame.append method is deprecated and will be removed from pandas in a future version. Use pandas.concat instead.\n",
      "  all_stars = team1.append(team2)\n"
     ]
    },
    {
     "name": "stdout",
     "output_type": "stream",
     "text": [
      "2005 processed\n"
     ]
    },
    {
     "name": "stderr",
     "output_type": "stream",
     "text": [
      "/var/folders/0p/ttyhqytj0zxf3tq1njp37rqw0000gn/T/ipykernel_6061/1922600723.py:11: FutureWarning: The frame.append method is deprecated and will be removed from pandas in a future version. Use pandas.concat instead.\n",
      "  all_stars = team1.append(team2)\n",
      "/var/folders/0p/ttyhqytj0zxf3tq1njp37rqw0000gn/T/ipykernel_6061/1922600723.py:11: FutureWarning: The frame.append method is deprecated and will be removed from pandas in a future version. Use pandas.concat instead.\n",
      "  all_stars = team1.append(team2)\n"
     ]
    },
    {
     "name": "stdout",
     "output_type": "stream",
     "text": [
      "2006 processed\n",
      "2007 processed\n"
     ]
    },
    {
     "name": "stderr",
     "output_type": "stream",
     "text": [
      "/var/folders/0p/ttyhqytj0zxf3tq1njp37rqw0000gn/T/ipykernel_6061/1922600723.py:11: FutureWarning: The frame.append method is deprecated and will be removed from pandas in a future version. Use pandas.concat instead.\n",
      "  all_stars = team1.append(team2)\n"
     ]
    },
    {
     "name": "stdout",
     "output_type": "stream",
     "text": [
      "2008 processed\n"
     ]
    },
    {
     "name": "stderr",
     "output_type": "stream",
     "text": [
      "/var/folders/0p/ttyhqytj0zxf3tq1njp37rqw0000gn/T/ipykernel_6061/1922600723.py:11: FutureWarning: The frame.append method is deprecated and will be removed from pandas in a future version. Use pandas.concat instead.\n",
      "  all_stars = team1.append(team2)\n"
     ]
    },
    {
     "name": "stdout",
     "output_type": "stream",
     "text": [
      "2009 processed\n"
     ]
    },
    {
     "name": "stderr",
     "output_type": "stream",
     "text": [
      "/var/folders/0p/ttyhqytj0zxf3tq1njp37rqw0000gn/T/ipykernel_6061/1922600723.py:11: FutureWarning: The frame.append method is deprecated and will be removed from pandas in a future version. Use pandas.concat instead.\n",
      "  all_stars = team1.append(team2)\n"
     ]
    },
    {
     "name": "stdout",
     "output_type": "stream",
     "text": [
      "2010 processed\n"
     ]
    },
    {
     "name": "stderr",
     "output_type": "stream",
     "text": [
      "/var/folders/0p/ttyhqytj0zxf3tq1njp37rqw0000gn/T/ipykernel_6061/1922600723.py:11: FutureWarning: The frame.append method is deprecated and will be removed from pandas in a future version. Use pandas.concat instead.\n",
      "  all_stars = team1.append(team2)\n"
     ]
    },
    {
     "name": "stdout",
     "output_type": "stream",
     "text": [
      "2011 processed\n"
     ]
    },
    {
     "name": "stderr",
     "output_type": "stream",
     "text": [
      "/var/folders/0p/ttyhqytj0zxf3tq1njp37rqw0000gn/T/ipykernel_6061/1922600723.py:11: FutureWarning: The frame.append method is deprecated and will be removed from pandas in a future version. Use pandas.concat instead.\n",
      "  all_stars = team1.append(team2)\n",
      "/var/folders/0p/ttyhqytj0zxf3tq1njp37rqw0000gn/T/ipykernel_6061/1922600723.py:11: FutureWarning: The frame.append method is deprecated and will be removed from pandas in a future version. Use pandas.concat instead.\n",
      "  all_stars = team1.append(team2)\n"
     ]
    },
    {
     "name": "stdout",
     "output_type": "stream",
     "text": [
      "2012 processed\n",
      "2013 processed\n"
     ]
    },
    {
     "name": "stderr",
     "output_type": "stream",
     "text": [
      "/var/folders/0p/ttyhqytj0zxf3tq1njp37rqw0000gn/T/ipykernel_6061/1922600723.py:11: FutureWarning: The frame.append method is deprecated and will be removed from pandas in a future version. Use pandas.concat instead.\n",
      "  all_stars = team1.append(team2)\n",
      "/var/folders/0p/ttyhqytj0zxf3tq1njp37rqw0000gn/T/ipykernel_6061/1922600723.py:11: FutureWarning: The frame.append method is deprecated and will be removed from pandas in a future version. Use pandas.concat instead.\n",
      "  all_stars = team1.append(team2)\n"
     ]
    },
    {
     "name": "stdout",
     "output_type": "stream",
     "text": [
      "2014 processed\n",
      "2015 processed\n"
     ]
    },
    {
     "name": "stderr",
     "output_type": "stream",
     "text": [
      "/var/folders/0p/ttyhqytj0zxf3tq1njp37rqw0000gn/T/ipykernel_6061/1922600723.py:11: FutureWarning: The frame.append method is deprecated and will be removed from pandas in a future version. Use pandas.concat instead.\n",
      "  all_stars = team1.append(team2)\n"
     ]
    },
    {
     "name": "stdout",
     "output_type": "stream",
     "text": [
      "2016 processed\n"
     ]
    },
    {
     "name": "stderr",
     "output_type": "stream",
     "text": [
      "/var/folders/0p/ttyhqytj0zxf3tq1njp37rqw0000gn/T/ipykernel_6061/1922600723.py:11: FutureWarning: The frame.append method is deprecated and will be removed from pandas in a future version. Use pandas.concat instead.\n",
      "  all_stars = team1.append(team2)\n"
     ]
    },
    {
     "name": "stdout",
     "output_type": "stream",
     "text": [
      "2017 processed\n"
     ]
    },
    {
     "name": "stderr",
     "output_type": "stream",
     "text": [
      "/var/folders/0p/ttyhqytj0zxf3tq1njp37rqw0000gn/T/ipykernel_6061/1922600723.py:11: FutureWarning: The frame.append method is deprecated and will be removed from pandas in a future version. Use pandas.concat instead.\n",
      "  all_stars = team1.append(team2)\n"
     ]
    },
    {
     "name": "stdout",
     "output_type": "stream",
     "text": [
      "2018 processed\n"
     ]
    },
    {
     "name": "stderr",
     "output_type": "stream",
     "text": [
      "/var/folders/0p/ttyhqytj0zxf3tq1njp37rqw0000gn/T/ipykernel_6061/1922600723.py:11: FutureWarning: The frame.append method is deprecated and will be removed from pandas in a future version. Use pandas.concat instead.\n",
      "  all_stars = team1.append(team2)\n",
      "/var/folders/0p/ttyhqytj0zxf3tq1njp37rqw0000gn/T/ipykernel_6061/1922600723.py:11: FutureWarning: The frame.append method is deprecated and will be removed from pandas in a future version. Use pandas.concat instead.\n",
      "  all_stars = team1.append(team2)\n"
     ]
    },
    {
     "name": "stdout",
     "output_type": "stream",
     "text": [
      "2019 processed\n",
      "2020 processed\n"
     ]
    },
    {
     "name": "stderr",
     "output_type": "stream",
     "text": [
      "/var/folders/0p/ttyhqytj0zxf3tq1njp37rqw0000gn/T/ipykernel_6061/1922600723.py:11: FutureWarning: The frame.append method is deprecated and will be removed from pandas in a future version. Use pandas.concat instead.\n",
      "  all_stars = team1.append(team2)\n"
     ]
    },
    {
     "name": "stdout",
     "output_type": "stream",
     "text": [
      "2021 processed\n"
     ]
    },
    {
     "name": "stderr",
     "output_type": "stream",
     "text": [
      "/var/folders/0p/ttyhqytj0zxf3tq1njp37rqw0000gn/T/ipykernel_6061/1922600723.py:11: FutureWarning: The frame.append method is deprecated and will be removed from pandas in a future version. Use pandas.concat instead.\n",
      "  all_stars = team1.append(team2)\n"
     ]
    },
    {
     "name": "stdout",
     "output_type": "stream",
     "text": [
      "2022 processed\n"
     ]
    },
    {
     "name": "stderr",
     "output_type": "stream",
     "text": [
      "/var/folders/0p/ttyhqytj0zxf3tq1njp37rqw0000gn/T/ipykernel_6061/1922600723.py:11: FutureWarning: The frame.append method is deprecated and will be removed from pandas in a future version. Use pandas.concat instead.\n",
      "  all_stars = team1.append(team2)\n"
     ]
    },
    {
     "name": "stdout",
     "output_type": "stream",
     "text": [
      "2023 processed\n"
     ]
    },
    {
     "ename": "ValueError",
     "evalue": "No tables found",
     "output_type": "error",
     "traceback": [
      "\u001B[0;31m---------------------------------------------------------------------------\u001B[0m",
      "\u001B[0;31mValueError\u001B[0m                                Traceback (most recent call last)",
      "Input \u001B[0;32mIn [4]\u001B[0m, in \u001B[0;36m<cell line: 1>\u001B[0;34m()\u001B[0m\n\u001B[1;32m      2\u001B[0m \u001B[38;5;28;01mif\u001B[39;00m year \u001B[38;5;241m!=\u001B[39m \u001B[38;5;241m1999\u001B[39m:\n\u001B[1;32m      3\u001B[0m     html_txt \u001B[38;5;241m=\u001B[39m getdata(\u001B[38;5;124mf\u001B[39m\u001B[38;5;124m'\u001B[39m\u001B[38;5;124mhttps://www.basketball-reference.com/allstar/NBA_\u001B[39m\u001B[38;5;132;01m{\u001B[39;00myear\u001B[38;5;132;01m}\u001B[39;00m\u001B[38;5;124m.html\u001B[39m\u001B[38;5;124m'\u001B[39m)\n\u001B[0;32m----> 5\u001B[0m     team1 \u001B[38;5;241m=\u001B[39m remove_multiindex(\u001B[43mpd\u001B[49m\u001B[38;5;241;43m.\u001B[39;49m\u001B[43mread_html\u001B[49m\u001B[43m(\u001B[49m\u001B[43mhtml_txt\u001B[49m\u001B[43m)\u001B[49m[\u001B[38;5;241m1\u001B[39m])\n\u001B[1;32m      6\u001B[0m     team2 \u001B[38;5;241m=\u001B[39m remove_multiindex(pd\u001B[38;5;241m.\u001B[39mread_html(html_txt)[\u001B[38;5;241m2\u001B[39m])\n\u001B[1;32m      8\u001B[0m     team1\u001B[38;5;241m.\u001B[39mloc[\u001B[38;5;241m0\u001B[39m:\u001B[38;5;241m4\u001B[39m,\u001B[38;5;124m'\u001B[39m\u001B[38;5;124mAll Star Starter\u001B[39m\u001B[38;5;124m'\u001B[39m] \u001B[38;5;241m=\u001B[39m \u001B[38;5;28;01mTrue\u001B[39;00m\n",
      "File \u001B[0;32m/Library/Frameworks/Python.framework/Versions/3.9/lib/python3.9/site-packages/pandas/util/_decorators.py:311\u001B[0m, in \u001B[0;36mdeprecate_nonkeyword_arguments.<locals>.decorate.<locals>.wrapper\u001B[0;34m(*args, **kwargs)\u001B[0m\n\u001B[1;32m    305\u001B[0m \u001B[38;5;28;01mif\u001B[39;00m \u001B[38;5;28mlen\u001B[39m(args) \u001B[38;5;241m>\u001B[39m num_allow_args:\n\u001B[1;32m    306\u001B[0m     warnings\u001B[38;5;241m.\u001B[39mwarn(\n\u001B[1;32m    307\u001B[0m         msg\u001B[38;5;241m.\u001B[39mformat(arguments\u001B[38;5;241m=\u001B[39marguments),\n\u001B[1;32m    308\u001B[0m         \u001B[38;5;167;01mFutureWarning\u001B[39;00m,\n\u001B[1;32m    309\u001B[0m         stacklevel\u001B[38;5;241m=\u001B[39mstacklevel,\n\u001B[1;32m    310\u001B[0m     )\n\u001B[0;32m--> 311\u001B[0m \u001B[38;5;28;01mreturn\u001B[39;00m \u001B[43mfunc\u001B[49m\u001B[43m(\u001B[49m\u001B[38;5;241;43m*\u001B[39;49m\u001B[43margs\u001B[49m\u001B[43m,\u001B[49m\u001B[43m \u001B[49m\u001B[38;5;241;43m*\u001B[39;49m\u001B[38;5;241;43m*\u001B[39;49m\u001B[43mkwargs\u001B[49m\u001B[43m)\u001B[49m\n",
      "File \u001B[0;32m/Library/Frameworks/Python.framework/Versions/3.9/lib/python3.9/site-packages/pandas/io/html.py:1113\u001B[0m, in \u001B[0;36mread_html\u001B[0;34m(io, match, flavor, header, index_col, skiprows, attrs, parse_dates, thousands, encoding, decimal, converters, na_values, keep_default_na, displayed_only)\u001B[0m\n\u001B[1;32m   1109\u001B[0m validate_header_arg(header)\n\u001B[1;32m   1111\u001B[0m io \u001B[38;5;241m=\u001B[39m stringify_path(io)\n\u001B[0;32m-> 1113\u001B[0m \u001B[38;5;28;01mreturn\u001B[39;00m \u001B[43m_parse\u001B[49m\u001B[43m(\u001B[49m\n\u001B[1;32m   1114\u001B[0m \u001B[43m    \u001B[49m\u001B[43mflavor\u001B[49m\u001B[38;5;241;43m=\u001B[39;49m\u001B[43mflavor\u001B[49m\u001B[43m,\u001B[49m\n\u001B[1;32m   1115\u001B[0m \u001B[43m    \u001B[49m\u001B[43mio\u001B[49m\u001B[38;5;241;43m=\u001B[39;49m\u001B[43mio\u001B[49m\u001B[43m,\u001B[49m\n\u001B[1;32m   1116\u001B[0m \u001B[43m    \u001B[49m\u001B[43mmatch\u001B[49m\u001B[38;5;241;43m=\u001B[39;49m\u001B[43mmatch\u001B[49m\u001B[43m,\u001B[49m\n\u001B[1;32m   1117\u001B[0m \u001B[43m    \u001B[49m\u001B[43mheader\u001B[49m\u001B[38;5;241;43m=\u001B[39;49m\u001B[43mheader\u001B[49m\u001B[43m,\u001B[49m\n\u001B[1;32m   1118\u001B[0m \u001B[43m    \u001B[49m\u001B[43mindex_col\u001B[49m\u001B[38;5;241;43m=\u001B[39;49m\u001B[43mindex_col\u001B[49m\u001B[43m,\u001B[49m\n\u001B[1;32m   1119\u001B[0m \u001B[43m    \u001B[49m\u001B[43mskiprows\u001B[49m\u001B[38;5;241;43m=\u001B[39;49m\u001B[43mskiprows\u001B[49m\u001B[43m,\u001B[49m\n\u001B[1;32m   1120\u001B[0m \u001B[43m    \u001B[49m\u001B[43mparse_dates\u001B[49m\u001B[38;5;241;43m=\u001B[39;49m\u001B[43mparse_dates\u001B[49m\u001B[43m,\u001B[49m\n\u001B[1;32m   1121\u001B[0m \u001B[43m    \u001B[49m\u001B[43mthousands\u001B[49m\u001B[38;5;241;43m=\u001B[39;49m\u001B[43mthousands\u001B[49m\u001B[43m,\u001B[49m\n\u001B[1;32m   1122\u001B[0m \u001B[43m    \u001B[49m\u001B[43mattrs\u001B[49m\u001B[38;5;241;43m=\u001B[39;49m\u001B[43mattrs\u001B[49m\u001B[43m,\u001B[49m\n\u001B[1;32m   1123\u001B[0m \u001B[43m    \u001B[49m\u001B[43mencoding\u001B[49m\u001B[38;5;241;43m=\u001B[39;49m\u001B[43mencoding\u001B[49m\u001B[43m,\u001B[49m\n\u001B[1;32m   1124\u001B[0m \u001B[43m    \u001B[49m\u001B[43mdecimal\u001B[49m\u001B[38;5;241;43m=\u001B[39;49m\u001B[43mdecimal\u001B[49m\u001B[43m,\u001B[49m\n\u001B[1;32m   1125\u001B[0m \u001B[43m    \u001B[49m\u001B[43mconverters\u001B[49m\u001B[38;5;241;43m=\u001B[39;49m\u001B[43mconverters\u001B[49m\u001B[43m,\u001B[49m\n\u001B[1;32m   1126\u001B[0m \u001B[43m    \u001B[49m\u001B[43mna_values\u001B[49m\u001B[38;5;241;43m=\u001B[39;49m\u001B[43mna_values\u001B[49m\u001B[43m,\u001B[49m\n\u001B[1;32m   1127\u001B[0m \u001B[43m    \u001B[49m\u001B[43mkeep_default_na\u001B[49m\u001B[38;5;241;43m=\u001B[39;49m\u001B[43mkeep_default_na\u001B[49m\u001B[43m,\u001B[49m\n\u001B[1;32m   1128\u001B[0m \u001B[43m    \u001B[49m\u001B[43mdisplayed_only\u001B[49m\u001B[38;5;241;43m=\u001B[39;49m\u001B[43mdisplayed_only\u001B[49m\u001B[43m,\u001B[49m\n\u001B[1;32m   1129\u001B[0m \u001B[43m\u001B[49m\u001B[43m)\u001B[49m\n",
      "File \u001B[0;32m/Library/Frameworks/Python.framework/Versions/3.9/lib/python3.9/site-packages/pandas/io/html.py:939\u001B[0m, in \u001B[0;36m_parse\u001B[0;34m(flavor, io, match, attrs, encoding, displayed_only, **kwargs)\u001B[0m\n\u001B[1;32m    937\u001B[0m \u001B[38;5;28;01melse\u001B[39;00m:\n\u001B[1;32m    938\u001B[0m     \u001B[38;5;28;01massert\u001B[39;00m retained \u001B[38;5;129;01mis\u001B[39;00m \u001B[38;5;129;01mnot\u001B[39;00m \u001B[38;5;28;01mNone\u001B[39;00m  \u001B[38;5;66;03m# for mypy\u001B[39;00m\n\u001B[0;32m--> 939\u001B[0m     \u001B[38;5;28;01mraise\u001B[39;00m retained\n\u001B[1;32m    941\u001B[0m ret \u001B[38;5;241m=\u001B[39m []\n\u001B[1;32m    942\u001B[0m \u001B[38;5;28;01mfor\u001B[39;00m table \u001B[38;5;129;01min\u001B[39;00m tables:\n",
      "File \u001B[0;32m/Library/Frameworks/Python.framework/Versions/3.9/lib/python3.9/site-packages/pandas/io/html.py:919\u001B[0m, in \u001B[0;36m_parse\u001B[0;34m(flavor, io, match, attrs, encoding, displayed_only, **kwargs)\u001B[0m\n\u001B[1;32m    916\u001B[0m p \u001B[38;5;241m=\u001B[39m parser(io, compiled_match, attrs, encoding, displayed_only)\n\u001B[1;32m    918\u001B[0m \u001B[38;5;28;01mtry\u001B[39;00m:\n\u001B[0;32m--> 919\u001B[0m     tables \u001B[38;5;241m=\u001B[39m \u001B[43mp\u001B[49m\u001B[38;5;241;43m.\u001B[39;49m\u001B[43mparse_tables\u001B[49m\u001B[43m(\u001B[49m\u001B[43m)\u001B[49m\n\u001B[1;32m    920\u001B[0m \u001B[38;5;28;01mexcept\u001B[39;00m \u001B[38;5;167;01mValueError\u001B[39;00m \u001B[38;5;28;01mas\u001B[39;00m caught:\n\u001B[1;32m    921\u001B[0m     \u001B[38;5;66;03m# if `io` is an io-like object, check if it's seekable\u001B[39;00m\n\u001B[1;32m    922\u001B[0m     \u001B[38;5;66;03m# and try to rewind it before trying the next parser\u001B[39;00m\n\u001B[1;32m    923\u001B[0m     \u001B[38;5;28;01mif\u001B[39;00m \u001B[38;5;28mhasattr\u001B[39m(io, \u001B[38;5;124m\"\u001B[39m\u001B[38;5;124mseekable\u001B[39m\u001B[38;5;124m\"\u001B[39m) \u001B[38;5;129;01mand\u001B[39;00m io\u001B[38;5;241m.\u001B[39mseekable():\n",
      "File \u001B[0;32m/Library/Frameworks/Python.framework/Versions/3.9/lib/python3.9/site-packages/pandas/io/html.py:239\u001B[0m, in \u001B[0;36m_HtmlFrameParser.parse_tables\u001B[0;34m(self)\u001B[0m\n\u001B[1;32m    231\u001B[0m \u001B[38;5;28;01mdef\u001B[39;00m \u001B[38;5;21mparse_tables\u001B[39m(\u001B[38;5;28mself\u001B[39m):\n\u001B[1;32m    232\u001B[0m     \u001B[38;5;124;03m\"\"\"\u001B[39;00m\n\u001B[1;32m    233\u001B[0m \u001B[38;5;124;03m    Parse and return all tables from the DOM.\u001B[39;00m\n\u001B[1;32m    234\u001B[0m \n\u001B[0;32m   (...)\u001B[0m\n\u001B[1;32m    237\u001B[0m \u001B[38;5;124;03m    list of parsed (header, body, footer) tuples from tables.\u001B[39;00m\n\u001B[1;32m    238\u001B[0m \u001B[38;5;124;03m    \"\"\"\u001B[39;00m\n\u001B[0;32m--> 239\u001B[0m     tables \u001B[38;5;241m=\u001B[39m \u001B[38;5;28;43mself\u001B[39;49m\u001B[38;5;241;43m.\u001B[39;49m\u001B[43m_parse_tables\u001B[49m\u001B[43m(\u001B[49m\u001B[38;5;28;43mself\u001B[39;49m\u001B[38;5;241;43m.\u001B[39;49m\u001B[43m_build_doc\u001B[49m\u001B[43m(\u001B[49m\u001B[43m)\u001B[49m\u001B[43m,\u001B[49m\u001B[43m \u001B[49m\u001B[38;5;28;43mself\u001B[39;49m\u001B[38;5;241;43m.\u001B[39;49m\u001B[43mmatch\u001B[49m\u001B[43m,\u001B[49m\u001B[43m \u001B[49m\u001B[38;5;28;43mself\u001B[39;49m\u001B[38;5;241;43m.\u001B[39;49m\u001B[43mattrs\u001B[49m\u001B[43m)\u001B[49m\n\u001B[1;32m    240\u001B[0m     \u001B[38;5;28;01mreturn\u001B[39;00m (\u001B[38;5;28mself\u001B[39m\u001B[38;5;241m.\u001B[39m_parse_thead_tbody_tfoot(table) \u001B[38;5;28;01mfor\u001B[39;00m table \u001B[38;5;129;01min\u001B[39;00m tables)\n",
      "File \u001B[0;32m/Library/Frameworks/Python.framework/Versions/3.9/lib/python3.9/site-packages/pandas/io/html.py:569\u001B[0m, in \u001B[0;36m_BeautifulSoupHtml5LibFrameParser._parse_tables\u001B[0;34m(self, doc, match, attrs)\u001B[0m\n\u001B[1;32m    566\u001B[0m tables \u001B[38;5;241m=\u001B[39m doc\u001B[38;5;241m.\u001B[39mfind_all(element_name, attrs\u001B[38;5;241m=\u001B[39mattrs)\n\u001B[1;32m    568\u001B[0m \u001B[38;5;28;01mif\u001B[39;00m \u001B[38;5;129;01mnot\u001B[39;00m tables:\n\u001B[0;32m--> 569\u001B[0m     \u001B[38;5;28;01mraise\u001B[39;00m \u001B[38;5;167;01mValueError\u001B[39;00m(\u001B[38;5;124m\"\u001B[39m\u001B[38;5;124mNo tables found\u001B[39m\u001B[38;5;124m\"\u001B[39m)\n\u001B[1;32m    571\u001B[0m result \u001B[38;5;241m=\u001B[39m []\n\u001B[1;32m    572\u001B[0m unique_tables \u001B[38;5;241m=\u001B[39m \u001B[38;5;28mset\u001B[39m()\n",
      "\u001B[0;31mValueError\u001B[0m: No tables found"
     ]
    }
   ],
   "source": [
    "for year in range(1980,datetime.now().year):\n",
    "    if year != 1999:\n",
    "        html_txt = getdata(f'https://www.basketball-reference.com/allstar/NBA_{year}.html')\n",
    "\n",
    "        team1 = remove_multiindex(pd.read_html(html_txt)[1])\n",
    "        team2 = remove_multiindex(pd.read_html(html_txt)[2])\n",
    "\n",
    "        team1.loc[0:4,'All Star Starter'] = True\n",
    "        team2.loc[0:4,'All Star Starter'] = True\n",
    "\n",
    "        all_stars = team1.append(team2)\n",
    "\n",
    "        all_stars.loc[:,'All Star Starter'].fillna(False,inplace=True)\n",
    "        all_stars.loc[:,'All Star'] = True\n",
    "        all_stars.loc[:,'Year'] = year\n",
    "\n",
    "\n",
    "        all_stars = all_stars[(all_stars['Starters'] != 'Reserves') & (all_stars['Starters'] != 'Team Totals') & (pd.notna(all_stars['Starters']))].reset_index(drop=True)\n",
    "        all_stars = all_stars[['Starters','Year','All Star','All Star Starter']]\n",
    "        all_stars.columns = ['Player','Year','All Star','All Star Starter']\n",
    "\n",
    "        all_stars.to_csv(f'all_stars/{year}_all_stars.csv')\n",
    "\n",
    "\n",
    "        if year != 1999:\n",
    "            players = pd.read_csv(f'player_stats/{year}_player_stats.csv',index_col=0)\n",
    "\n",
    "            players = pd.merge(left=players,right=all_stars,left_on=['Player','Year'],right_on=['Player','Year'],how='outer',)\n",
    "\n",
    "\n",
    "            # This is to deal with players that were traded during an all star season\n",
    "            players = players.drop(players[players.Pos.isna()].index)\n",
    "\n",
    "        print(year,'processed')"
   ],
   "metadata": {
    "collapsed": false,
    "pycharm": {
     "name": "#%%\n"
    }
   }
  },
  {
   "cell_type": "code",
   "execution_count": 5,
   "outputs": [],
   "source": [
    "for year in range(1980,datetime.now().year+1):\n",
    "    if year != 1999:\n",
    "        players = pd.read_csv(f'player_stats/{year}_player_stats.csv',index_col=0)\n",
    "\n",
    "        players = pd.merge(left=players,right=all_stars,left_on=['Player','Year'],right_on=['Player','Year'],how='outer',)\n",
    "\n",
    "\n",
    "        # This is to deal with players that were traded during an all star season\n",
    "        players = players.drop(players[players.Pos.isna()].index)\n"
   ],
   "metadata": {
    "collapsed": false,
    "pycharm": {
     "name": "#%%\n"
    }
   }
  },
  {
   "cell_type": "code",
   "execution_count": 6,
   "outputs": [
    {
     "data": {
      "text/plain": "                Player Pos  Age   Tm   G  GS    MP   FG   FGA    FG%  ...  \\\n0     Precious Achiuwa   C   22  TOR  51  23  23.2  3.3   7.5  0.435  ...   \n1         Steven Adams   C   28  MEM  59  58  26.4  2.8   5.1  0.543  ...   \n2          Bam Adebayo   C   24  MIA  37  37  33.3  7.2  13.5  0.533  ...   \n3         Santi Aldama  PF   21  MEM  27   0  10.3  1.4   3.6  0.381  ...   \n4    LaMarcus Aldridge   C   36  BRK  42  11  22.6  5.7  10.2  0.555  ...   \n..                 ...  ..  ...  ...  ..  ..   ...  ...   ...    ...  ...   \n509       Moses Wright  PF   23  LAC   1   0   1.0  0.0   0.0  0.000  ...   \n510         Trae Young  PG   23  ATL  55  55  34.5  9.4  20.5  0.457  ...   \n511     Omer Yurtseven   C   23  MIA  44  10  13.9  2.6   4.9  0.540  ...   \n512        Cody Zeller   C   29  POR  27   0  13.1  1.9   3.3  0.567  ...   \n513        Ivica Zubac   C   24  LAC  57  57  24.3  3.8   5.8  0.650  ...   \n\n     DWS   WS  WS/48  OBPM  DBPM   BPM  VORP  Year  All Star  All Star Starter  \n0    1.3  1.6  0.066  -2.2  -0.7  -2.9  -0.3  2022       NaN               NaN  \n1    2.1  5.0  0.155   1.1   0.6   1.7   1.5  2022       NaN               NaN  \n2    2.4  4.5  0.176   1.5   2.2   3.7   1.8  2022       NaN               NaN  \n3    0.2  0.2  0.027  -4.6  -2.0  -6.7  -0.3  2022       NaN               NaN  \n4    0.9  2.9  0.146   1.7  -0.9   0.8   0.7  2022       NaN               NaN  \n..   ...  ...    ...   ...   ...   ...   ...   ...       ...               ...  \n509  0.0  0.0  0.443  10.8  13.5  24.3   0.0  2022       NaN               NaN  \n510  0.6  6.5  0.164   6.7  -2.1   4.6   3.2  2022      True              True  \n511  1.2  2.0  0.160  -0.8   0.6  -0.2   0.3  2022       NaN               NaN  \n512  0.2  1.2  0.158  -0.9  -1.0  -1.9   0.0  2022       NaN               NaN  \n513  2.1  5.3  0.185  -0.2   1.0   0.8   1.0  2022       NaN               NaN  \n\n[514 rows x 52 columns]",
      "text/html": "<div>\n<style scoped>\n    .dataframe tbody tr th:only-of-type {\n        vertical-align: middle;\n    }\n\n    .dataframe tbody tr th {\n        vertical-align: top;\n    }\n\n    .dataframe thead th {\n        text-align: right;\n    }\n</style>\n<table border=\"1\" class=\"dataframe\">\n  <thead>\n    <tr style=\"text-align: right;\">\n      <th></th>\n      <th>Player</th>\n      <th>Pos</th>\n      <th>Age</th>\n      <th>Tm</th>\n      <th>G</th>\n      <th>GS</th>\n      <th>MP</th>\n      <th>FG</th>\n      <th>FGA</th>\n      <th>FG%</th>\n      <th>...</th>\n      <th>DWS</th>\n      <th>WS</th>\n      <th>WS/48</th>\n      <th>OBPM</th>\n      <th>DBPM</th>\n      <th>BPM</th>\n      <th>VORP</th>\n      <th>Year</th>\n      <th>All Star</th>\n      <th>All Star Starter</th>\n    </tr>\n  </thead>\n  <tbody>\n    <tr>\n      <th>0</th>\n      <td>Precious Achiuwa</td>\n      <td>C</td>\n      <td>22</td>\n      <td>TOR</td>\n      <td>51</td>\n      <td>23</td>\n      <td>23.2</td>\n      <td>3.3</td>\n      <td>7.5</td>\n      <td>0.435</td>\n      <td>...</td>\n      <td>1.3</td>\n      <td>1.6</td>\n      <td>0.066</td>\n      <td>-2.2</td>\n      <td>-0.7</td>\n      <td>-2.9</td>\n      <td>-0.3</td>\n      <td>2022</td>\n      <td>NaN</td>\n      <td>NaN</td>\n    </tr>\n    <tr>\n      <th>1</th>\n      <td>Steven Adams</td>\n      <td>C</td>\n      <td>28</td>\n      <td>MEM</td>\n      <td>59</td>\n      <td>58</td>\n      <td>26.4</td>\n      <td>2.8</td>\n      <td>5.1</td>\n      <td>0.543</td>\n      <td>...</td>\n      <td>2.1</td>\n      <td>5.0</td>\n      <td>0.155</td>\n      <td>1.1</td>\n      <td>0.6</td>\n      <td>1.7</td>\n      <td>1.5</td>\n      <td>2022</td>\n      <td>NaN</td>\n      <td>NaN</td>\n    </tr>\n    <tr>\n      <th>2</th>\n      <td>Bam Adebayo</td>\n      <td>C</td>\n      <td>24</td>\n      <td>MIA</td>\n      <td>37</td>\n      <td>37</td>\n      <td>33.3</td>\n      <td>7.2</td>\n      <td>13.5</td>\n      <td>0.533</td>\n      <td>...</td>\n      <td>2.4</td>\n      <td>4.5</td>\n      <td>0.176</td>\n      <td>1.5</td>\n      <td>2.2</td>\n      <td>3.7</td>\n      <td>1.8</td>\n      <td>2022</td>\n      <td>NaN</td>\n      <td>NaN</td>\n    </tr>\n    <tr>\n      <th>3</th>\n      <td>Santi Aldama</td>\n      <td>PF</td>\n      <td>21</td>\n      <td>MEM</td>\n      <td>27</td>\n      <td>0</td>\n      <td>10.3</td>\n      <td>1.4</td>\n      <td>3.6</td>\n      <td>0.381</td>\n      <td>...</td>\n      <td>0.2</td>\n      <td>0.2</td>\n      <td>0.027</td>\n      <td>-4.6</td>\n      <td>-2.0</td>\n      <td>-6.7</td>\n      <td>-0.3</td>\n      <td>2022</td>\n      <td>NaN</td>\n      <td>NaN</td>\n    </tr>\n    <tr>\n      <th>4</th>\n      <td>LaMarcus Aldridge</td>\n      <td>C</td>\n      <td>36</td>\n      <td>BRK</td>\n      <td>42</td>\n      <td>11</td>\n      <td>22.6</td>\n      <td>5.7</td>\n      <td>10.2</td>\n      <td>0.555</td>\n      <td>...</td>\n      <td>0.9</td>\n      <td>2.9</td>\n      <td>0.146</td>\n      <td>1.7</td>\n      <td>-0.9</td>\n      <td>0.8</td>\n      <td>0.7</td>\n      <td>2022</td>\n      <td>NaN</td>\n      <td>NaN</td>\n    </tr>\n    <tr>\n      <th>...</th>\n      <td>...</td>\n      <td>...</td>\n      <td>...</td>\n      <td>...</td>\n      <td>...</td>\n      <td>...</td>\n      <td>...</td>\n      <td>...</td>\n      <td>...</td>\n      <td>...</td>\n      <td>...</td>\n      <td>...</td>\n      <td>...</td>\n      <td>...</td>\n      <td>...</td>\n      <td>...</td>\n      <td>...</td>\n      <td>...</td>\n      <td>...</td>\n      <td>...</td>\n      <td>...</td>\n    </tr>\n    <tr>\n      <th>509</th>\n      <td>Moses Wright</td>\n      <td>PF</td>\n      <td>23</td>\n      <td>LAC</td>\n      <td>1</td>\n      <td>0</td>\n      <td>1.0</td>\n      <td>0.0</td>\n      <td>0.0</td>\n      <td>0.000</td>\n      <td>...</td>\n      <td>0.0</td>\n      <td>0.0</td>\n      <td>0.443</td>\n      <td>10.8</td>\n      <td>13.5</td>\n      <td>24.3</td>\n      <td>0.0</td>\n      <td>2022</td>\n      <td>NaN</td>\n      <td>NaN</td>\n    </tr>\n    <tr>\n      <th>510</th>\n      <td>Trae Young</td>\n      <td>PG</td>\n      <td>23</td>\n      <td>ATL</td>\n      <td>55</td>\n      <td>55</td>\n      <td>34.5</td>\n      <td>9.4</td>\n      <td>20.5</td>\n      <td>0.457</td>\n      <td>...</td>\n      <td>0.6</td>\n      <td>6.5</td>\n      <td>0.164</td>\n      <td>6.7</td>\n      <td>-2.1</td>\n      <td>4.6</td>\n      <td>3.2</td>\n      <td>2022</td>\n      <td>True</td>\n      <td>True</td>\n    </tr>\n    <tr>\n      <th>511</th>\n      <td>Omer Yurtseven</td>\n      <td>C</td>\n      <td>23</td>\n      <td>MIA</td>\n      <td>44</td>\n      <td>10</td>\n      <td>13.9</td>\n      <td>2.6</td>\n      <td>4.9</td>\n      <td>0.540</td>\n      <td>...</td>\n      <td>1.2</td>\n      <td>2.0</td>\n      <td>0.160</td>\n      <td>-0.8</td>\n      <td>0.6</td>\n      <td>-0.2</td>\n      <td>0.3</td>\n      <td>2022</td>\n      <td>NaN</td>\n      <td>NaN</td>\n    </tr>\n    <tr>\n      <th>512</th>\n      <td>Cody Zeller</td>\n      <td>C</td>\n      <td>29</td>\n      <td>POR</td>\n      <td>27</td>\n      <td>0</td>\n      <td>13.1</td>\n      <td>1.9</td>\n      <td>3.3</td>\n      <td>0.567</td>\n      <td>...</td>\n      <td>0.2</td>\n      <td>1.2</td>\n      <td>0.158</td>\n      <td>-0.9</td>\n      <td>-1.0</td>\n      <td>-1.9</td>\n      <td>0.0</td>\n      <td>2022</td>\n      <td>NaN</td>\n      <td>NaN</td>\n    </tr>\n    <tr>\n      <th>513</th>\n      <td>Ivica Zubac</td>\n      <td>C</td>\n      <td>24</td>\n      <td>LAC</td>\n      <td>57</td>\n      <td>57</td>\n      <td>24.3</td>\n      <td>3.8</td>\n      <td>5.8</td>\n      <td>0.650</td>\n      <td>...</td>\n      <td>2.1</td>\n      <td>5.3</td>\n      <td>0.185</td>\n      <td>-0.2</td>\n      <td>1.0</td>\n      <td>0.8</td>\n      <td>1.0</td>\n      <td>2022</td>\n      <td>NaN</td>\n      <td>NaN</td>\n    </tr>\n  </tbody>\n</table>\n<p>514 rows × 52 columns</p>\n</div>"
     },
     "execution_count": 6,
     "metadata": {},
     "output_type": "execute_result"
    }
   ],
   "source": [
    "players"
   ],
   "metadata": {
    "collapsed": false,
    "pycharm": {
     "name": "#%%\n"
    }
   }
  },
  {
   "cell_type": "code",
   "execution_count": null,
   "outputs": [],
   "source": [],
   "metadata": {
    "collapsed": false,
    "pycharm": {
     "name": "#%%\n"
    }
   }
  }
 ],
 "metadata": {
  "kernelspec": {
   "display_name": "Python 3",
   "language": "python",
   "name": "python3"
  },
  "language_info": {
   "codemirror_mode": {
    "name": "ipython",
    "version": 2
   },
   "file_extension": ".py",
   "mimetype": "text/x-python",
   "name": "python",
   "nbconvert_exporter": "python",
   "pygments_lexer": "ipython2",
   "version": "2.7.6"
  }
 },
 "nbformat": 4,
 "nbformat_minor": 0
}