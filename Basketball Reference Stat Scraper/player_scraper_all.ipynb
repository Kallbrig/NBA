{
 "cells": [
  {
   "cell_type": "markdown",
   "source": [
    "# The purpose of this workbook is to scrape all player stats from 1980 onward.\n",
    "\n",
    "- Last update 2/2/23\n",
    "- Keep in mind that it will not scrape anything that has a file already associated with it.\n",
    "- Example: If you scrape 2023 halfway through the season and then again at the end, it will not update the file."
   ],
   "metadata": {
    "collapsed": false
   }
  },
  {
   "cell_type": "code",
   "execution_count": 1,
   "outputs": [],
   "source": [
    "import pandas as pd\n",
    "import requests\n",
    "from datetime import datetime\n",
    "import os\n",
    "import time\n"
   ],
   "metadata": {
    "collapsed": false,
    "pycharm": {
     "name": "#%%\n"
    }
   }
  },
  {
   "cell_type": "code",
   "execution_count": 2,
   "outputs": [],
   "source": [
    "def remove_multiindex(df:pd.DataFrame):\n",
    "\treturn df.droplevel(level=0,axis=1)"
   ],
   "metadata": {
    "collapsed": false,
    "pycharm": {
     "name": "#%%\n"
    }
   }
  },
  {
   "cell_type": "code",
   "execution_count": 3,
   "outputs": [],
   "source": [
    "# link for extract html data\n",
    "def getdata(url):\n",
    "    r = requests.get(url)\n",
    "    return r.text\n",
    "\n"
   ],
   "metadata": {
    "collapsed": false,
    "pycharm": {
     "name": "#%%\n"
    }
   }
  },
  {
   "cell_type": "code",
   "execution_count": 4,
   "outputs": [
    {
     "name": "stdout",
     "output_type": "stream",
     "text": [
      "1980 already exists\n",
      "1981 already exists\n",
      "1982 already exists\n",
      "1983 already exists\n",
      "1984 already exists\n",
      "1985 already exists\n",
      "1986 already exists\n",
      "1987 already exists\n",
      "1988 already exists\n",
      "1989 already exists\n",
      "1990 already exists\n",
      "1991 already exists\n",
      "1992 already exists\n",
      "1993 already exists\n",
      "1994 already exists\n",
      "1995 already exists\n",
      "1996 already exists\n",
      "1997 already exists\n",
      "1998 already exists\n",
      "1999 already exists\n",
      "2000 already exists\n",
      "2001 already exists\n",
      "2002 already exists\n",
      "2003 already exists\n",
      "2004 already exists\n",
      "2005 already exists\n",
      "2006 already exists\n",
      "2007 already exists\n",
      "2008 already exists\n",
      "2009 already exists\n",
      "2010 already exists\n",
      "2011 already exists\n",
      "2012 already exists\n",
      "2013 already exists\n",
      "2014 already exists\n",
      "2015 already exists\n",
      "2016 already exists\n",
      "2017 already exists\n",
      "2018 already exists\n",
      "2019 already exists\n",
      "2020 already exists\n",
      "2021 already exists\n",
      "2022 already exists\n",
      "2023 already exists\n",
      "2024 already exists\n"
     ]
    }
   ],
   "source": [
    "combined = list()\n",
    "\n",
    "for year in range(1980,datetime.now().year + 1):\n",
    "\n",
    "\n",
    "    if os.path.exists(f'player_stats/{year}_player_stats.csv'):\n",
    "        print(f\"{year} already exists\")\n",
    "        continue\n",
    "\n",
    "    per_game_data = getdata(f'https://www.basketball-reference.com/leagues/NBA_{year}_per_game.html')\n",
    "    adv_data = getdata(f'https://www.basketball-reference.com/leagues/NBA_{year}_advanced.html')\n",
    "\n",
    "    while 'The owner of this website (www.basketball-reference.com) has banned you temporarily from accessing this website' in per_game_data or 'The owner of this website (www.basketball-reference.com) has banned you temporarily from accessing this website' in adv_data:\n",
    "        print(\"You've been temporarily banned from accessing basketball reference.\\nSleeping 1 hour then continuing.\")\n",
    "        time.sleep(3600)\n",
    "        per_game_data = getdata(f'https://www.basketball-reference.com/leagues/NBA_{year}_per_game.html')\n",
    "        adv_data = getdata(f'https://www.basketball-reference.com/leagues/NBA_{year}_advanced.html')\n",
    "\n",
    "\n",
    "    df = pd.read_html(per_game_data)[0]\n",
    "    df_adv = pd.read_html(adv_data)[0]\n",
    "\n",
    "\n",
    "    df = df.drop(df[df['Player'] == 'Player'].index)\n",
    "\n",
    "\n",
    "    df_adv = df_adv.drop(df_adv[df_adv['Player'] == 'Player'].index)\n",
    "\n",
    "\n",
    "    new = pd.merge(df,df_adv,on=['Player','Age','Tm','Pos'])\n",
    "\n",
    "    player_stats_list = ['Player', 'Pos', 'Age', 'Tm', 'G_x', 'GS', 'MP_x', 'FG', 'FGA',\n",
    "           'FG%', '3P', '3PA', '3P%', '2P', '2PA', '2P%', 'eFG%', 'FT', 'FTA',\n",
    "           'FT%', 'ORB', 'DRB', 'TRB', 'AST', 'STL', 'BLK', 'TOV', 'PF', 'PTS',\n",
    "            'PER', 'TS%', '3PAr', 'FTr', 'ORB%', 'DRB%', 'TRB%',\n",
    "           'AST%', 'STL%', 'BLK%', 'TOV%', 'USG%', 'OWS', 'DWS',\n",
    "           'WS', 'WS/48','OBPM', 'DBPM', 'BPM', 'VORP']\n",
    "\n",
    "    player_stats_list_correct = ['Player', 'Pos', 'Age', 'Tm', 'G', 'GS', 'MP', 'FG', 'FGA', 'FG%',\n",
    "           '3P', '3PA', '3P%', '2P', '2PA', '2P%', 'eFG%', 'FT', 'FTA', 'FT%',\n",
    "           'ORB', 'DRB', 'TRB', 'AST', 'STL', 'BLK', 'TOV', 'PF', 'PTS', 'PER',\n",
    "           'TS%', '3PAr', 'FTr', 'ORB%', 'DRB%', 'TRB%', 'AST%', 'STL%', 'BLK%',\n",
    "           'TOV%', 'USG%', 'OWS', 'DWS', 'WS', 'WS/48', 'OBPM', 'DBPM', 'BPM',\n",
    "           'VORP']\n",
    "\n",
    "    # cuts down the columns to what is listed in player_stats_list_correct\n",
    "    new = new[player_stats_list]\n",
    "    new.columns = player_stats_list_correct\n",
    "\n",
    "    # This gets rid of traded players entirely\n",
    "    new = new.drop_duplicates(subset='Player',keep=False).reset_index(drop=True)\n",
    "\n",
    "    # Fills nan's with 0\n",
    "    new.fillna(value=0,inplace=True)\n",
    "\n",
    "    # Adds a year column\n",
    "    new['Year'] = year\n",
    "\n",
    "    combined.append(new)\n",
    "\n",
    "    new.to_csv(f'player_stats/{year}_player_stats.csv')\n",
    "    print(year,'Complete')\n"
   ],
   "metadata": {
    "collapsed": false,
    "pycharm": {
     "name": "#%%\n"
    }
   }
  },
  {
   "cell_type": "code",
   "execution_count": null,
   "outputs": [],
   "source": [],
   "metadata": {
    "collapsed": false,
    "pycharm": {
     "name": "#%%\n"
    }
   }
  }
 ],
 "metadata": {
  "kernelspec": {
   "display_name": "Python 3",
   "language": "python",
   "name": "python3"
  },
  "language_info": {
   "codemirror_mode": {
    "name": "ipython",
    "version": 2
   },
   "file_extension": ".py",
   "mimetype": "text/x-python",
   "name": "python",
   "nbconvert_exporter": "python",
   "pygments_lexer": "ipython2",
   "version": "2.7.6"
  }
 },
 "nbformat": 4,
 "nbformat_minor": 0
}