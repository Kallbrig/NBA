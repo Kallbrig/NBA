{
 "cells": [
  {
   "cell_type": "code",
   "execution_count": 9,
   "metadata": {
    "collapsed": true
   },
   "source": [
    "\n",
    "import pandas as pd\n",
    "import requests\n",
    "from bs4 import BeautifulSoup\n",
    "import os\n",
    "from time import sleep\n"
   ],
   "outputs": []
  },
  {
   "cell_type": "code",
   "execution_count": 10,
   "source": [
    "\n",
    "def remove_multi_index(df: pd.DataFrame):\n",
    "    return [i[1] for i in df.columns]\n",
    "\n",
    "def getdata(url):\n",
    "    return requests.get(url).text\n"
   ],
   "metadata": {
    "collapsed": false,
    "pycharm": {
     "name": "#%%\n"
    }
   },
   "outputs": []
  },
  {
   "cell_type": "code",
   "execution_count": 29,
   "source": [
    "\n",
    "def scrape_single_year_mvp(year:int,data_dir:str):\n",
    "\n",
    "    if os.path.exists(os.path.join(data_dir,f'{year}_MVP.csv')):\n",
    "        print(f\"{year} already exists, returning the file.\")\n",
    "        return pd.read_csv(os.path.join(data_dir,f'{year}_MVP.csv'))\n",
    "\n",
    "    scraped_html = getdata(f\"https://www.basketball-reference.com/awards/awards_{year}.html\")\n",
    "\n",
    "    while 'The owner of this website (www.basketball-reference.com) has banned you temporarily from accessing this website' in scraped_html:\n",
    "        print(\"You've been temporarily banned from accessing basketball reference.\\nSleeping 1 hour then continuing.\")\n",
    "        sleep(3600)\n",
    "        scraped_html = getdata(f\"https://www.basketball-reference.com/awards/awards_{year}.html\")\n",
    "\n",
    "\n",
    "\n",
    "\n",
    "\n",
    "\n",
    "\n",
    "    # html = requests.get(f\"https://www.basketball-reference.com/awards/awards_{year}.html\").text\n",
    "    # soup = BeautifulSoup(html, 'html.parser')\n",
    "    table = pd.read_html(scraped_html)\n",
    "\n",
    "    mvp = table[0]\n",
    "    mvp.columns = remove_multi_index(mvp)\n",
    "    mvp['Year'] = year\n",
    "    return mvp\n",
    "    # mvp.to_csv(f'{year}_MVP.csv')"
   ],
   "metadata": {
    "collapsed": false,
    "pycharm": {
     "name": "#%%\n"
    }
   },
   "outputs": []
  },
  {
   "cell_type": "code",
   "execution_count": 30,
   "source": [
    "working_dir = '../Awards/MVP'\n",
    "print(working_dir)\n",
    "for year in range(1980,2023):\n",
    "    df = scrape_single_year_mvp(year,working_dir)\n",
    "    df = df.loc[:,['Player','Age','Tm','First','Pts Won','Pts Max','Share','Year']]\n",
    "    df.to_csv(os.path.join(working_dir,f'{year}_MVP.csv'))\n",
    "    print(f'{year} Complete')\n"
   ],
   "metadata": {
    "collapsed": false,
    "pycharm": {
     "name": "#%%\n"
    }
   },
   "outputs": []
  },
  {
   "cell_type": "code",
   "execution_count": 31,
   "source": [
    "table"
   ],
   "metadata": {
    "collapsed": false,
    "pycharm": {
     "name": "#%%\n"
    }
   },
   "outputs": []
  },
  {
   "cell_type": "code",
   "execution_count": 23,
   "source": [],
   "metadata": {
    "collapsed": false,
    "pycharm": {
     "name": "#%%\n"
    }
   },
   "outputs": []
  },
  {
   "cell_type": "code",
   "execution_count": null,
   "source": [],
   "metadata": {
    "collapsed": false,
    "pycharm": {
     "name": "#%%\n"
    }
   },
   "outputs": []
  }
 ],
 "metadata": {
  "kernelspec": {
   "display_name": "Python 3",
   "language": "python",
   "name": "python3"
  },
  "language_info": {
   "codemirror_mode": {
    "name": "ipython",
    "version": 2
   },
   "file_extension": ".py",
   "mimetype": "text/x-python",
   "name": "python",
   "nbconvert_exporter": "python",
   "pygments_lexer": "ipython2",
   "version": "2.7.6"
  }
 },
 "nbformat": 4,
 "nbformat_minor": 0
}
