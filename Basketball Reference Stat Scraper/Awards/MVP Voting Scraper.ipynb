{
 "cells": [
  {
   "cell_type": "code",
   "execution_count": 9,
   "metadata": {
    "collapsed": true
   },
   "outputs": [],
   "source": [
    "\n",
    "import pandas as pd\n",
    "import requests\n",
    "from bs4 import BeautifulSoup\n",
    "import os\n",
    "from time import sleep\n"
   ]
  },
  {
   "cell_type": "code",
   "execution_count": 10,
   "outputs": [],
   "source": [
    "\n",
    "def remove_multi_index(df: pd.DataFrame):\n",
    "    return [i[1] for i in df.columns]\n",
    "\n",
    "def getdata(url):\n",
    "    return requests.get(url).text\n"
   ],
   "metadata": {
    "collapsed": false,
    "pycharm": {
     "name": "#%%\n"
    }
   }
  },
  {
   "cell_type": "code",
   "execution_count": 29,
   "outputs": [],
   "source": [
    "\n",
    "def scrape_single_year_mvp(year:int,data_dir:str):\n",
    "\n",
    "    if os.path.exists(os.path.join(data_dir,f'{year}_MVP.csv')):\n",
    "        print(f\"{year} already exists, returning the file.\")\n",
    "        return pd.read_csv(os.path.join(data_dir,f'{year}_MVP.csv'))\n",
    "\n",
    "    scraped_html = getdata(f\"https://www.basketball-reference.com/awards/awards_{year}.html\")\n",
    "\n",
    "    while 'The owner of this website (www.basketball-reference.com) has banned you temporarily from accessing this website' in scraped_html:\n",
    "        print(\"You've been temporarily banned from accessing basketball reference.\\nSleeping 1 hour then continuing.\")\n",
    "        sleep(3600)\n",
    "        scraped_html = getdata(f\"https://www.basketball-reference.com/awards/awards_{year}.html\")\n",
    "\n",
    "\n",
    "\n",
    "\n",
    "\n",
    "\n",
    "\n",
    "    # html = requests.get(f\"https://www.basketball-reference.com/awards/awards_{year}.html\").text\n",
    "    # soup = BeautifulSoup(html, 'html.parser')\n",
    "    table = pd.read_html(scraped_html)\n",
    "\n",
    "    mvp = table[0]\n",
    "    mvp.columns = remove_multi_index(mvp)\n",
    "    mvp['Year'] = year\n",
    "    return mvp\n",
    "    # mvp.to_csv(f'{year}_MVP.csv')"
   ],
   "metadata": {
    "collapsed": false,
    "pycharm": {
     "name": "#%%\n"
    }
   }
  },
  {
   "cell_type": "code",
   "execution_count": 30,
   "outputs": [
    {
     "name": "stdout",
     "output_type": "stream",
     "text": [
      "../Awards/MVP\n",
      "1980 already exists, returning the file.\n",
      "1980 Complete\n",
      "1981 already exists, returning the file.\n",
      "1981 Complete\n",
      "1982 already exists, returning the file.\n",
      "1982 Complete\n",
      "1983 already exists, returning the file.\n",
      "1983 Complete\n",
      "1984 already exists, returning the file.\n",
      "1984 Complete\n",
      "1985 already exists, returning the file.\n",
      "1985 Complete\n",
      "1986 already exists, returning the file.\n",
      "1986 Complete\n",
      "1987 already exists, returning the file.\n",
      "1987 Complete\n",
      "1988 already exists, returning the file.\n",
      "1988 Complete\n",
      "1989 already exists, returning the file.\n",
      "1989 Complete\n",
      "1990 already exists, returning the file.\n",
      "1990 Complete\n",
      "1991 already exists, returning the file.\n",
      "1991 Complete\n",
      "1992 already exists, returning the file.\n",
      "1992 Complete\n",
      "1993 already exists, returning the file.\n",
      "1993 Complete\n",
      "1994 already exists, returning the file.\n",
      "1994 Complete\n",
      "You've been temporarily banned from accessing basketball reference.\n",
      "Sleeping 1 hour then continuing.\n"
     ]
    },
    {
     "ename": "KeyboardInterrupt",
     "evalue": "",
     "output_type": "error",
     "traceback": [
      "\u001B[0;31m---------------------------------------------------------------------------\u001B[0m",
      "\u001B[0;31mKeyboardInterrupt\u001B[0m                         Traceback (most recent call last)",
      "Cell \u001B[0;32mIn[30], line 4\u001B[0m\n\u001B[1;32m      2\u001B[0m \u001B[38;5;28mprint\u001B[39m(working_dir)\n\u001B[1;32m      3\u001B[0m \u001B[38;5;28;01mfor\u001B[39;00m year \u001B[38;5;129;01min\u001B[39;00m \u001B[38;5;28mrange\u001B[39m(\u001B[38;5;241m1980\u001B[39m,\u001B[38;5;241m2023\u001B[39m):\n\u001B[0;32m----> 4\u001B[0m     df \u001B[38;5;241m=\u001B[39m \u001B[43mscrape_single_year_mvp\u001B[49m\u001B[43m(\u001B[49m\u001B[43myear\u001B[49m\u001B[43m,\u001B[49m\u001B[43mworking_dir\u001B[49m\u001B[43m)\u001B[49m\n\u001B[1;32m      5\u001B[0m     df \u001B[38;5;241m=\u001B[39m df\u001B[38;5;241m.\u001B[39mloc[:,[\u001B[38;5;124m'\u001B[39m\u001B[38;5;124mPlayer\u001B[39m\u001B[38;5;124m'\u001B[39m,\u001B[38;5;124m'\u001B[39m\u001B[38;5;124mAge\u001B[39m\u001B[38;5;124m'\u001B[39m,\u001B[38;5;124m'\u001B[39m\u001B[38;5;124mTm\u001B[39m\u001B[38;5;124m'\u001B[39m,\u001B[38;5;124m'\u001B[39m\u001B[38;5;124mFirst\u001B[39m\u001B[38;5;124m'\u001B[39m,\u001B[38;5;124m'\u001B[39m\u001B[38;5;124mPts Won\u001B[39m\u001B[38;5;124m'\u001B[39m,\u001B[38;5;124m'\u001B[39m\u001B[38;5;124mPts Max\u001B[39m\u001B[38;5;124m'\u001B[39m,\u001B[38;5;124m'\u001B[39m\u001B[38;5;124mShare\u001B[39m\u001B[38;5;124m'\u001B[39m,\u001B[38;5;124m'\u001B[39m\u001B[38;5;124mYear\u001B[39m\u001B[38;5;124m'\u001B[39m]]\n\u001B[1;32m      6\u001B[0m     df\u001B[38;5;241m.\u001B[39mto_csv(os\u001B[38;5;241m.\u001B[39mpath\u001B[38;5;241m.\u001B[39mjoin(working_dir,\u001B[38;5;124mf\u001B[39m\u001B[38;5;124m'\u001B[39m\u001B[38;5;132;01m{\u001B[39;00myear\u001B[38;5;132;01m}\u001B[39;00m\u001B[38;5;124m_MVP.csv\u001B[39m\u001B[38;5;124m'\u001B[39m))\n",
      "Cell \u001B[0;32mIn[29], line 11\u001B[0m, in \u001B[0;36mscrape_single_year_mvp\u001B[0;34m(year, data_dir)\u001B[0m\n\u001B[1;32m      9\u001B[0m \u001B[38;5;28;01mwhile\u001B[39;00m \u001B[38;5;124m'\u001B[39m\u001B[38;5;124mThe owner of this website (www.basketball-reference.com) has banned you temporarily from accessing this website\u001B[39m\u001B[38;5;124m'\u001B[39m \u001B[38;5;129;01min\u001B[39;00m scraped_html:\n\u001B[1;32m     10\u001B[0m     \u001B[38;5;28mprint\u001B[39m(\u001B[38;5;124m\"\u001B[39m\u001B[38;5;124mYou\u001B[39m\u001B[38;5;124m'\u001B[39m\u001B[38;5;124mve been temporarily banned from accessing basketball reference.\u001B[39m\u001B[38;5;130;01m\\n\u001B[39;00m\u001B[38;5;124mSleeping 1 hour then continuing.\u001B[39m\u001B[38;5;124m\"\u001B[39m)\n\u001B[0;32m---> 11\u001B[0m     \u001B[43msleep\u001B[49m\u001B[43m(\u001B[49m\u001B[38;5;241;43m3600\u001B[39;49m\u001B[43m)\u001B[49m\n\u001B[1;32m     12\u001B[0m     scraped_html \u001B[38;5;241m=\u001B[39m getdata(\u001B[38;5;124mf\u001B[39m\u001B[38;5;124m\"\u001B[39m\u001B[38;5;124mhttps://www.basketball-reference.com/awards/awards_\u001B[39m\u001B[38;5;132;01m{\u001B[39;00myear\u001B[38;5;132;01m}\u001B[39;00m\u001B[38;5;124m.html\u001B[39m\u001B[38;5;124m\"\u001B[39m)\n\u001B[1;32m     20\u001B[0m \u001B[38;5;66;03m# html = requests.get(f\"https://www.basketball-reference.com/awards/awards_{year}.html\").text\u001B[39;00m\n\u001B[1;32m     21\u001B[0m \u001B[38;5;66;03m# soup = BeautifulSoup(html, 'html.parser')\u001B[39;00m\n",
      "\u001B[0;31mKeyboardInterrupt\u001B[0m: "
     ]
    }
   ],
   "source": [
    "working_dir = '../Awards/MVP'\n",
    "print(working_dir)\n",
    "for year in range(1980,2023):\n",
    "    df = scrape_single_year_mvp(year,working_dir)\n",
    "    df = df.loc[:,['Player','Age','Tm','First','Pts Won','Pts Max','Share','Year']]\n",
    "    df.to_csv(os.path.join(working_dir,f'{year}_MVP.csv'))\n",
    "    print(f'{year} Complete')\n"
   ],
   "metadata": {
    "collapsed": false,
    "pycharm": {
     "name": "#%%\n"
    }
   }
  },
  {
   "cell_type": "code",
   "execution_count": 31,
   "outputs": [
    {
     "ename": "NameError",
     "evalue": "name 'table' is not defined",
     "output_type": "error",
     "traceback": [
      "\u001B[0;31m---------------------------------------------------------------------------\u001B[0m",
      "\u001B[0;31mNameError\u001B[0m                                 Traceback (most recent call last)",
      "Cell \u001B[0;32mIn[31], line 1\u001B[0m\n\u001B[0;32m----> 1\u001B[0m \u001B[43mtable\u001B[49m\n",
      "\u001B[0;31mNameError\u001B[0m: name 'table' is not defined"
     ]
    }
   ],
   "source": [
    "table"
   ],
   "metadata": {
    "collapsed": false,
    "pycharm": {
     "name": "#%%\n"
    }
   }
  },
  {
   "cell_type": "code",
   "execution_count": 23,
   "outputs": [
    {
     "data": {
      "text/plain": "                Player  Age   Tm  First  Pts Won  Pts Max  Share  Year\n0  Kareem Abdul-Jabbar   32  LAL  147.0    147.0      221  0.665  1980\n1        Julius Erving   29  PHI   31.5     31.5      221  0.143  1980\n2        George Gervin   27  SAS   19.0     19.0      221  0.086  1980\n3           Larry Bird   23  BOS   15.0     15.0      221  0.068  1980\n4       Tiny Archibald   31  BOS    2.0      2.0      221  0.009  1980\n5       Dennis Johnson   25  SEA    2.0      2.0      221  0.009  1980\n6       Dan Roundfield   26  ATL    2.0      2.0      221  0.009  1980\n7         Gus Williams   26  SEA    1.5      1.5      221  0.007  1980\n8         Moses Malone   24  HOU    1.0      1.0      221  0.005  1980",
      "text/html": "<div>\n<style scoped>\n    .dataframe tbody tr th:only-of-type {\n        vertical-align: middle;\n    }\n\n    .dataframe tbody tr th {\n        vertical-align: top;\n    }\n\n    .dataframe thead th {\n        text-align: right;\n    }\n</style>\n<table border=\"1\" class=\"dataframe\">\n  <thead>\n    <tr style=\"text-align: right;\">\n      <th></th>\n      <th>Player</th>\n      <th>Age</th>\n      <th>Tm</th>\n      <th>First</th>\n      <th>Pts Won</th>\n      <th>Pts Max</th>\n      <th>Share</th>\n      <th>Year</th>\n    </tr>\n  </thead>\n  <tbody>\n    <tr>\n      <th>0</th>\n      <td>Kareem Abdul-Jabbar</td>\n      <td>32</td>\n      <td>LAL</td>\n      <td>147.0</td>\n      <td>147.0</td>\n      <td>221</td>\n      <td>0.665</td>\n      <td>1980</td>\n    </tr>\n    <tr>\n      <th>1</th>\n      <td>Julius Erving</td>\n      <td>29</td>\n      <td>PHI</td>\n      <td>31.5</td>\n      <td>31.5</td>\n      <td>221</td>\n      <td>0.143</td>\n      <td>1980</td>\n    </tr>\n    <tr>\n      <th>2</th>\n      <td>George Gervin</td>\n      <td>27</td>\n      <td>SAS</td>\n      <td>19.0</td>\n      <td>19.0</td>\n      <td>221</td>\n      <td>0.086</td>\n      <td>1980</td>\n    </tr>\n    <tr>\n      <th>3</th>\n      <td>Larry Bird</td>\n      <td>23</td>\n      <td>BOS</td>\n      <td>15.0</td>\n      <td>15.0</td>\n      <td>221</td>\n      <td>0.068</td>\n      <td>1980</td>\n    </tr>\n    <tr>\n      <th>4</th>\n      <td>Tiny Archibald</td>\n      <td>31</td>\n      <td>BOS</td>\n      <td>2.0</td>\n      <td>2.0</td>\n      <td>221</td>\n      <td>0.009</td>\n      <td>1980</td>\n    </tr>\n    <tr>\n      <th>5</th>\n      <td>Dennis Johnson</td>\n      <td>25</td>\n      <td>SEA</td>\n      <td>2.0</td>\n      <td>2.0</td>\n      <td>221</td>\n      <td>0.009</td>\n      <td>1980</td>\n    </tr>\n    <tr>\n      <th>6</th>\n      <td>Dan Roundfield</td>\n      <td>26</td>\n      <td>ATL</td>\n      <td>2.0</td>\n      <td>2.0</td>\n      <td>221</td>\n      <td>0.009</td>\n      <td>1980</td>\n    </tr>\n    <tr>\n      <th>7</th>\n      <td>Gus Williams</td>\n      <td>26</td>\n      <td>SEA</td>\n      <td>1.5</td>\n      <td>1.5</td>\n      <td>221</td>\n      <td>0.007</td>\n      <td>1980</td>\n    </tr>\n    <tr>\n      <th>8</th>\n      <td>Moses Malone</td>\n      <td>24</td>\n      <td>HOU</td>\n      <td>1.0</td>\n      <td>1.0</td>\n      <td>221</td>\n      <td>0.005</td>\n      <td>1980</td>\n    </tr>\n  </tbody>\n</table>\n</div>"
     },
     "execution_count": 23,
     "metadata": {},
     "output_type": "execute_result"
    }
   ],
   "source": [],
   "metadata": {
    "collapsed": false,
    "pycharm": {
     "name": "#%%\n"
    }
   }
  },
  {
   "cell_type": "code",
   "execution_count": null,
   "outputs": [],
   "source": [],
   "metadata": {
    "collapsed": false,
    "pycharm": {
     "name": "#%%\n"
    }
   }
  }
 ],
 "metadata": {
  "kernelspec": {
   "display_name": "Python 3",
   "language": "python",
   "name": "python3"
  },
  "language_info": {
   "codemirror_mode": {
    "name": "ipython",
    "version": 2
   },
   "file_extension": ".py",
   "mimetype": "text/x-python",
   "name": "python",
   "nbconvert_exporter": "python",
   "pygments_lexer": "ipython2",
   "version": "2.7.6"
  }
 },
 "nbformat": 4,
 "nbformat_minor": 0
}