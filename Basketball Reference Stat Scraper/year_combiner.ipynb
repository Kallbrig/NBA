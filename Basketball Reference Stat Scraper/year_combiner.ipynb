{
 "cells": [
  {
   "cell_type": "code",
   "execution_count": 1,
   "metadata": {
    "collapsed": true
   },
   "outputs": [],
   "source": [
    "import pandas as pd\n",
    "from datetime import datetime"
   ]
  },
  {
   "cell_type": "code",
   "execution_count": 26,
   "outputs": [],
   "source": [
    "df = pd.DataFrame(columns=['Player', 'Pos', 'Age', 'Tm', 'G', 'GS', 'MP', 'FG', 'FGA', 'FG%', '3P',\n",
    "       '3PA', '3P%', '2P', '2PA', '2P%', 'eFG%', 'FT', 'FTA', 'FT%', 'ORB',\n",
    "       'DRB', 'TRB', 'AST', 'STL', 'BLK', 'TOV', 'PF', 'PTS', 'PER', 'TS%',\n",
    "       '3PAr', 'FTr', 'ORB%', 'DRB%', 'TRB%', 'AST%', 'STL%', 'BLK%', 'TOV%',\n",
    "       'USG%', 'OWS', 'DWS', 'WS', 'WS/48', 'OBPM', 'DBPM', 'BPM', 'VORP',\n",
    "       'Year', 'tm_Team', 'tm_G', 'tm_MP', 'tm_FG', 'tm_FGA', 'tm_FG%',\n",
    "       'tm_3P', 'tm_3PA', 'tm_3P%', 'tm_2P', 'tm_2PA', 'tm_2P%', 'tm_FT',\n",
    "       'tm_FTA', 'tm_FT%', 'tm_ORB', 'tm_DRB', 'tm_TRB', 'tm_AST', 'tm_STL',\n",
    "       'tm_BLK', 'tm_TOV', 'tm_PF', 'tm_PTS', 'tm_Age', 'tm_W', 'tm_L',\n",
    "       'tm_MOV', 'tm_SOS', 'tm_SRS', 'tm_ORtg', 'tm_DRtg', 'tm_NRtg',\n",
    "       'tm_Pace', 'tm_FTr', 'tm_3PAr', 'tm_TS%', 'tm_Year', 'tm_Team No Star',\n",
    "       'tm_Abbreviation'])\n",
    "\n",
    "for year in range(1980,datetime.now().year+1):\n",
    "\n",
    "    df = df.append(pd.read_csv(f'combined/{year}_combined.csv',index_col=0))\n",
    "\n",
    "\n",
    "df.reset_index(drop=True,inplace=True)\n",
    "\n",
    "\n",
    "train_set = df.drop(df.loc[df['Year'] == 2022,:].index)\n",
    "test_set = df.loc[df['Year'] == 2022,:]"
   ],
   "metadata": {
    "collapsed": false,
    "pycharm": {
     "name": "#%%\n"
    }
   }
  },
  {
   "cell_type": "code",
   "execution_count": 32,
   "outputs": [],
   "source": [
    "# train_set\n",
    "t = train_set[train_set['Year'] == 2022]\n",
    "for i in t['Player'].tolist():\n",
    "       if '*' in i:\n",
    "          print(i)"
   ],
   "metadata": {
    "collapsed": false,
    "pycharm": {
     "name": "#%%\n"
    }
   }
  },
  {
   "cell_type": "code",
   "execution_count": 27,
   "outputs": [
    {
     "data": {
      "text/plain": "                   Player Pos Age   Tm   G  GS    MP   FG   FGA    FG%  ...  \\\n15719    Precious Achiuwa   C  22  TOR  28  17  24.5  3.3   8.1  0.405  ...   \n15720          OG Anunoby  SF  24  TOR  22  22  35.8  7.0  15.9  0.438  ...   \n15721       Dalano Banton  SF  22  TOR  32   1  11.9  1.5   3.7  0.410  ...   \n15722      Scottie Barnes  PF  20  TOR  32  32  35.5  5.9  12.2  0.482  ...   \n15723          Khem Birch   C  29  TOR  21   5  21.6  2.3   4.7  0.500  ...   \n...                   ...  ..  ..  ...  ..  ..   ...  ...   ...    ...  ...   \n16279     Frank Ntilikina  PG  23  DAL  30   5  14.6  1.7   4.7  0.371  ...   \n16280      Eugene Omoruyi  SF  24  DAL   4   0   4.5  0.5   1.3  0.400  ...   \n16281         Theo Pinson  SF  26  DAL  10   0   9.3  0.8   2.7  0.296  ...   \n16282  Kristaps Porziņģis  PF  26  DAL  26  26  30.4  7.2  16.0  0.451  ...   \n16283       Dwight Powell   C  30  DAL  40  37  20.3  2.7   4.4  0.605  ...   \n\n       tm_ORtg  tm_DRtg  tm_NRtg  tm_Pace  tm_FTr  tm_3PAr  tm_TS%  tm_Year  \\\n15719    111.8    110.3      1.5     96.4   0.223    0.380   0.540     2022   \n15720    111.8    110.3      1.5     96.4   0.223    0.380   0.540     2022   \n15721    111.8    110.3      1.5     96.4   0.223    0.380   0.540     2022   \n15722    111.8    110.3      1.5     96.4   0.223    0.380   0.540     2022   \n15723    111.8    110.3      1.5     96.4   0.223    0.380   0.540     2022   \n...        ...      ...      ...      ...     ...      ...     ...      ...   \n16279    109.9    107.4      2.5     95.7   0.228    0.428   0.554     2022   \n16280    109.9    107.4      2.5     95.7   0.228    0.428   0.554     2022   \n16281    109.9    107.4      2.5     95.7   0.228    0.428   0.554     2022   \n16282    109.9    107.4      2.5     95.7   0.228    0.428   0.554     2022   \n16283    109.9    107.4      2.5     95.7   0.228    0.428   0.554     2022   \n\n        tm_Team No Star  tm_Abbreviation  \n15719   Toronto Raptors              TOR  \n15720   Toronto Raptors              TOR  \n15721   Toronto Raptors              TOR  \n15722   Toronto Raptors              TOR  \n15723   Toronto Raptors              TOR  \n...                 ...              ...  \n16279  Dallas Mavericks              DAL  \n16280  Dallas Mavericks              DAL  \n16281  Dallas Mavericks              DAL  \n16282  Dallas Mavericks              DAL  \n16283  Dallas Mavericks              DAL  \n\n[565 rows x 90 columns]",
      "text/html": "<div>\n<style scoped>\n    .dataframe tbody tr th:only-of-type {\n        vertical-align: middle;\n    }\n\n    .dataframe tbody tr th {\n        vertical-align: top;\n    }\n\n    .dataframe thead th {\n        text-align: right;\n    }\n</style>\n<table border=\"1\" class=\"dataframe\">\n  <thead>\n    <tr style=\"text-align: right;\">\n      <th></th>\n      <th>Player</th>\n      <th>Pos</th>\n      <th>Age</th>\n      <th>Tm</th>\n      <th>G</th>\n      <th>GS</th>\n      <th>MP</th>\n      <th>FG</th>\n      <th>FGA</th>\n      <th>FG%</th>\n      <th>...</th>\n      <th>tm_ORtg</th>\n      <th>tm_DRtg</th>\n      <th>tm_NRtg</th>\n      <th>tm_Pace</th>\n      <th>tm_FTr</th>\n      <th>tm_3PAr</th>\n      <th>tm_TS%</th>\n      <th>tm_Year</th>\n      <th>tm_Team No Star</th>\n      <th>tm_Abbreviation</th>\n    </tr>\n  </thead>\n  <tbody>\n    <tr>\n      <th>15719</th>\n      <td>Precious Achiuwa</td>\n      <td>C</td>\n      <td>22</td>\n      <td>TOR</td>\n      <td>28</td>\n      <td>17</td>\n      <td>24.5</td>\n      <td>3.3</td>\n      <td>8.1</td>\n      <td>0.405</td>\n      <td>...</td>\n      <td>111.8</td>\n      <td>110.3</td>\n      <td>1.5</td>\n      <td>96.4</td>\n      <td>0.223</td>\n      <td>0.380</td>\n      <td>0.540</td>\n      <td>2022</td>\n      <td>Toronto Raptors</td>\n      <td>TOR</td>\n    </tr>\n    <tr>\n      <th>15720</th>\n      <td>OG Anunoby</td>\n      <td>SF</td>\n      <td>24</td>\n      <td>TOR</td>\n      <td>22</td>\n      <td>22</td>\n      <td>35.8</td>\n      <td>7.0</td>\n      <td>15.9</td>\n      <td>0.438</td>\n      <td>...</td>\n      <td>111.8</td>\n      <td>110.3</td>\n      <td>1.5</td>\n      <td>96.4</td>\n      <td>0.223</td>\n      <td>0.380</td>\n      <td>0.540</td>\n      <td>2022</td>\n      <td>Toronto Raptors</td>\n      <td>TOR</td>\n    </tr>\n    <tr>\n      <th>15721</th>\n      <td>Dalano Banton</td>\n      <td>SF</td>\n      <td>22</td>\n      <td>TOR</td>\n      <td>32</td>\n      <td>1</td>\n      <td>11.9</td>\n      <td>1.5</td>\n      <td>3.7</td>\n      <td>0.410</td>\n      <td>...</td>\n      <td>111.8</td>\n      <td>110.3</td>\n      <td>1.5</td>\n      <td>96.4</td>\n      <td>0.223</td>\n      <td>0.380</td>\n      <td>0.540</td>\n      <td>2022</td>\n      <td>Toronto Raptors</td>\n      <td>TOR</td>\n    </tr>\n    <tr>\n      <th>15722</th>\n      <td>Scottie Barnes</td>\n      <td>PF</td>\n      <td>20</td>\n      <td>TOR</td>\n      <td>32</td>\n      <td>32</td>\n      <td>35.5</td>\n      <td>5.9</td>\n      <td>12.2</td>\n      <td>0.482</td>\n      <td>...</td>\n      <td>111.8</td>\n      <td>110.3</td>\n      <td>1.5</td>\n      <td>96.4</td>\n      <td>0.223</td>\n      <td>0.380</td>\n      <td>0.540</td>\n      <td>2022</td>\n      <td>Toronto Raptors</td>\n      <td>TOR</td>\n    </tr>\n    <tr>\n      <th>15723</th>\n      <td>Khem Birch</td>\n      <td>C</td>\n      <td>29</td>\n      <td>TOR</td>\n      <td>21</td>\n      <td>5</td>\n      <td>21.6</td>\n      <td>2.3</td>\n      <td>4.7</td>\n      <td>0.500</td>\n      <td>...</td>\n      <td>111.8</td>\n      <td>110.3</td>\n      <td>1.5</td>\n      <td>96.4</td>\n      <td>0.223</td>\n      <td>0.380</td>\n      <td>0.540</td>\n      <td>2022</td>\n      <td>Toronto Raptors</td>\n      <td>TOR</td>\n    </tr>\n    <tr>\n      <th>...</th>\n      <td>...</td>\n      <td>...</td>\n      <td>...</td>\n      <td>...</td>\n      <td>...</td>\n      <td>...</td>\n      <td>...</td>\n      <td>...</td>\n      <td>...</td>\n      <td>...</td>\n      <td>...</td>\n      <td>...</td>\n      <td>...</td>\n      <td>...</td>\n      <td>...</td>\n      <td>...</td>\n      <td>...</td>\n      <td>...</td>\n      <td>...</td>\n      <td>...</td>\n      <td>...</td>\n    </tr>\n    <tr>\n      <th>16279</th>\n      <td>Frank Ntilikina</td>\n      <td>PG</td>\n      <td>23</td>\n      <td>DAL</td>\n      <td>30</td>\n      <td>5</td>\n      <td>14.6</td>\n      <td>1.7</td>\n      <td>4.7</td>\n      <td>0.371</td>\n      <td>...</td>\n      <td>109.9</td>\n      <td>107.4</td>\n      <td>2.5</td>\n      <td>95.7</td>\n      <td>0.228</td>\n      <td>0.428</td>\n      <td>0.554</td>\n      <td>2022</td>\n      <td>Dallas Mavericks</td>\n      <td>DAL</td>\n    </tr>\n    <tr>\n      <th>16280</th>\n      <td>Eugene Omoruyi</td>\n      <td>SF</td>\n      <td>24</td>\n      <td>DAL</td>\n      <td>4</td>\n      <td>0</td>\n      <td>4.5</td>\n      <td>0.5</td>\n      <td>1.3</td>\n      <td>0.400</td>\n      <td>...</td>\n      <td>109.9</td>\n      <td>107.4</td>\n      <td>2.5</td>\n      <td>95.7</td>\n      <td>0.228</td>\n      <td>0.428</td>\n      <td>0.554</td>\n      <td>2022</td>\n      <td>Dallas Mavericks</td>\n      <td>DAL</td>\n    </tr>\n    <tr>\n      <th>16281</th>\n      <td>Theo Pinson</td>\n      <td>SF</td>\n      <td>26</td>\n      <td>DAL</td>\n      <td>10</td>\n      <td>0</td>\n      <td>9.3</td>\n      <td>0.8</td>\n      <td>2.7</td>\n      <td>0.296</td>\n      <td>...</td>\n      <td>109.9</td>\n      <td>107.4</td>\n      <td>2.5</td>\n      <td>95.7</td>\n      <td>0.228</td>\n      <td>0.428</td>\n      <td>0.554</td>\n      <td>2022</td>\n      <td>Dallas Mavericks</td>\n      <td>DAL</td>\n    </tr>\n    <tr>\n      <th>16282</th>\n      <td>Kristaps Porziņģis</td>\n      <td>PF</td>\n      <td>26</td>\n      <td>DAL</td>\n      <td>26</td>\n      <td>26</td>\n      <td>30.4</td>\n      <td>7.2</td>\n      <td>16.0</td>\n      <td>0.451</td>\n      <td>...</td>\n      <td>109.9</td>\n      <td>107.4</td>\n      <td>2.5</td>\n      <td>95.7</td>\n      <td>0.228</td>\n      <td>0.428</td>\n      <td>0.554</td>\n      <td>2022</td>\n      <td>Dallas Mavericks</td>\n      <td>DAL</td>\n    </tr>\n    <tr>\n      <th>16283</th>\n      <td>Dwight Powell</td>\n      <td>C</td>\n      <td>30</td>\n      <td>DAL</td>\n      <td>40</td>\n      <td>37</td>\n      <td>20.3</td>\n      <td>2.7</td>\n      <td>4.4</td>\n      <td>0.605</td>\n      <td>...</td>\n      <td>109.9</td>\n      <td>107.4</td>\n      <td>2.5</td>\n      <td>95.7</td>\n      <td>0.228</td>\n      <td>0.428</td>\n      <td>0.554</td>\n      <td>2022</td>\n      <td>Dallas Mavericks</td>\n      <td>DAL</td>\n    </tr>\n  </tbody>\n</table>\n<p>565 rows × 90 columns</p>\n</div>"
     },
     "execution_count": 27,
     "metadata": {},
     "output_type": "execute_result"
    }
   ],
   "source": [
    "test_set"
   ],
   "metadata": {
    "collapsed": false,
    "pycharm": {
     "name": "#%%\n"
    }
   }
  },
  {
   "cell_type": "code",
   "execution_count": null,
   "outputs": [],
   "source": [],
   "metadata": {
    "collapsed": false,
    "pycharm": {
     "name": "#%%\n"
    }
   }
  }
 ],
 "metadata": {
  "kernelspec": {
   "display_name": "Python 3",
   "language": "python",
   "name": "python3"
  },
  "language_info": {
   "codemirror_mode": {
    "name": "ipython",
    "version": 2
   },
   "file_extension": ".py",
   "mimetype": "text/x-python",
   "name": "python",
   "nbconvert_exporter": "python",
   "pygments_lexer": "ipython2",
   "version": "2.7.6"
  }
 },
 "nbformat": 4,
 "nbformat_minor": 0
}