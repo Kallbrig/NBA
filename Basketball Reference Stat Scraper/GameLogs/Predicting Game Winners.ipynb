{
 "cells": [
  {
   "cell_type": "code",
   "execution_count": 1,
   "metadata": {
    "collapsed": true
   },
   "outputs": [],
   "source": [
    "import pandas as pd\n",
    "from sklearn.ensemble import RandomForestClassifier\n",
    "from sklearn.feature_selection import SelectFromModel\n",
    "from sklearn.linear_model import LogisticRegression\n",
    "from sklearn.metrics import accuracy_score\n",
    "from sklearn.model_selection import train_test_split\n",
    "from sklearn.pipeline import Pipeline\n",
    "from sklearn.preprocessing import StandardScaler, MinMaxScaler, MaxAbsScaler, RobustScaler, PowerTransformer, QuantileTransformer,Normalizer\n",
    "from sklearn.tree import DecisionTreeClassifier\n",
    "from sklearn.model_selection import GridSearchCV, RandomizedSearchCV\n",
    "\n",
    "from matplotlib import pyplot as plt\n",
    "import seaborn as sns\n",
    "\n",
    "import numpy as np"
   ]
  },
  {
   "cell_type": "code",
   "execution_count": 2,
   "outputs": [],
   "source": [
    "team_df = pd.read_csv('../../Basketball Reference Stat Scraper/team_stats/all.csv', index_col=0)\n",
    "game_df = pd.read_csv('../../Basketball Reference Stat Scraper/GameLogs/all.csv', index_col=0)"
   ],
   "metadata": {
    "collapsed": false,
    "pycharm": {
     "name": "#%%\n"
    }
   }
  },
  {
   "cell_type": "code",
   "execution_count": 3,
   "outputs": [],
   "source": [
    "# game_df = game_df[game_df['Year'] = 1980]\n",
    "game_df = game_df.dropna()\n",
    "\n",
    "team_df.Team = team_df.Team.str.strip('*')"
   ],
   "metadata": {
    "collapsed": false,
    "pycharm": {
     "name": "#%%\n"
    }
   }
  },
  {
   "cell_type": "code",
   "execution_count": 4,
   "outputs": [],
   "source": [
    "# d = {}\n",
    "#\n",
    "# for i in team_df.Team.drop(team_df[team_df.Team.str.contains('League')].index).unique():\n",
    "#     d[i] = ''\n",
    "# d"
   ],
   "metadata": {
    "collapsed": false,
    "pycharm": {
     "name": "#%%\n"
    }
   }
  },
  {
   "cell_type": "code",
   "execution_count": 5,
   "outputs": [],
   "source": [
    "team_mapping = {'Boston Celtics': 'BOS',\n",
    "                 'Los Angeles Lakers': 'LAL',\n",
    "                 'Philadelphia 76ers': 'PHI',\n",
    "                 'Seattle SuperSonics': 'SEA',\n",
    "                 'Phoenix Suns': 'PHX',\n",
    "                 'Atlanta Hawks': 'ATL',\n",
    "                 'Milwaukee Bucks': 'MIL',\n",
    "                 'Kansas City Kings': 'KCK',\n",
    "                 'Houston Rockets': 'HOU',\n",
    "                 'San Antonio Spurs': 'SAS',\n",
    "                 'Washington Bullets': 'WSB',\n",
    "                 'New York Knicks': 'NYK',\n",
    "                 'Portland Trail Blazers': 'POR',\n",
    "                 'Indiana Pacers': 'IND',\n",
    "                 'Cleveland Cavaliers': 'CLE',\n",
    "                 'San Diego Clippers': 'SDC',\n",
    "                 'New Jersey Nets': 'NJN',\n",
    "                 'Chicago Bulls': 'CHI',\n",
    "                 'Denver Nuggets': 'DEN',\n",
    "                 'Utah Jazz': 'UTA',\n",
    "                 'Golden State Warriors': 'GSW',\n",
    "                 'Detroit Pistons': 'DET',\n",
    "                 'Dallas Mavericks': 'DAL',\n",
    "                 'Los Angeles Clippers': 'LAC',\n",
    "                 'Sacramento Kings': 'SAC',\n",
    "                 'Miami Heat': 'MIA',\n",
    "                 'Orlando Magic': 'ORL',\n",
    "                 'Minnesota Timberwolves': 'MIN',\n",
    "                 'Charlotte Hornets': 'CHH',\n",
    "                 'Toronto Raptors': 'TOR',\n",
    "                 'Vancouver Grizzlies': 'VAN',\n",
    "                 'Washington Wizards': 'WAS',\n",
    "                 'Memphis Grizzlies': 'MEM',\n",
    "                 'New Orleans Hornets': 'NOH',\n",
    "                 'New Orleans/Oklahoma City Hornets': 'NOK',\n",
    "                 'Charlotte Bobcats': 'CHO',\n",
    "                 'Oklahoma City Thunder': 'OKC',\n",
    "                 'Brooklyn Nets': 'BRK',\n",
    "                 'New Orleans Pelicans': 'NOP'}"
   ],
   "metadata": {
    "collapsed": false,
    "pycharm": {
     "name": "#%%\n"
    }
   }
  },
  {
   "cell_type": "code",
   "execution_count": 6,
   "outputs": [],
   "source": [
    "team_df['Team_Abb'] = team_df.Team.map(team_mapping)\n",
    "\n",
    "team_df = team_df.drop(columns=['Unnamed: 0'], errors='ignore')\n",
    "\n",
    "abc = []\n",
    "for i in team_df.columns:\n",
    "    abc.append(f'Season_{i}')\n",
    "\n",
    "team_df.columns = abc\n",
    "\n"
   ],
   "metadata": {
    "collapsed": false,
    "pycharm": {
     "name": "#%%\n"
    }
   }
  },
  {
   "cell_type": "code",
   "execution_count": 7,
   "outputs": [
    {
     "data": {
      "text/plain": "      Tm_1_Name Tm_2_Name        Date  Score_Diff  W/L  Year      Season_Team  \\\n0           NYK       CHI  2014-10-29         -24    2  2015  New York Knicks   \n1           NYK       CLE  2014-10-30           5    1  2015  New York Knicks   \n2           NYK       CHO  2014-11-02           3    1  2015  New York Knicks   \n3           NYK       WAS  2014-11-04         -15    2  2015  New York Knicks   \n4           NYK       DET  2014-11-05          -3    2  2015  New York Knicks   \n...         ...       ...         ...         ...  ...   ...              ...   \n91933       DET       CLE  2006-04-12          23    1  2006  Detroit Pistons   \n91934       DET       TOR  2006-04-14          -5    2  2006  Detroit Pistons   \n91935       DET       NYK  2006-04-16           6    1  2006  Detroit Pistons   \n91936       DET       MIL  2006-04-17         -20    2  2006  Detroit Pistons   \n91937       DET       WAS  2006-04-19         -16    2  2006  Detroit Pistons   \n\n       Season_G  Season_MP  Season_FG  ...  Season_SRS  Season_ORtg  \\\n0          82.0      242.1       37.0  ...       -9.50         99.9   \n1          82.0      242.1       37.0  ...       -9.50         99.9   \n2          82.0      242.1       37.0  ...       -9.50         99.9   \n3          82.0      242.1       37.0  ...       -9.50         99.9   \n4          82.0      242.1       37.0  ...       -9.50         99.9   \n...         ...        ...        ...  ...         ...          ...   \n91933      82.0      241.8       35.5  ...        6.24        110.8   \n91934      82.0      241.8       35.5  ...        6.24        110.8   \n91935      82.0      241.8       35.5  ...        6.24        110.8   \n91936      82.0      241.8       35.5  ...        6.24        110.8   \n91937      82.0      241.8       35.5  ...        6.24        110.8   \n\n       Season_DRtg  Season_NRtg  Season_Pace  Season_FTr  Season_3PAr  \\\n0            110.0        -10.1         91.2       0.234        0.240   \n1            110.0        -10.1         91.2       0.234        0.240   \n2            110.0        -10.1         91.2       0.234        0.240   \n3            110.0        -10.1         91.2       0.234        0.240   \n4            110.0        -10.1         91.2       0.234        0.240   \n...            ...          ...          ...         ...          ...   \n91933        103.1          7.7         86.8       0.297        0.221   \n91934        103.1          7.7         86.8       0.297        0.221   \n91935        103.1          7.7         86.8       0.297        0.221   \n91936        103.1          7.7         86.8       0.297        0.221   \n91937        103.1          7.7         86.8       0.297        0.221   \n\n       Season_TS%  Season_Year  Season_Team_Abb  \n0           0.508       2015.0              NYK  \n1           0.508       2015.0              NYK  \n2           0.508       2015.0              NYK  \n3           0.508       2015.0              NYK  \n4           0.508       2015.0              NYK  \n...           ...          ...              ...  \n91933       0.535       2006.0              DET  \n91934       0.535       2006.0              DET  \n91935       0.535       2006.0              DET  \n91936       0.535       2006.0              DET  \n91937       0.535       2006.0              DET  \n\n[91938 rows x 45 columns]",
      "text/html": "<div>\n<style scoped>\n    .dataframe tbody tr th:only-of-type {\n        vertical-align: middle;\n    }\n\n    .dataframe tbody tr th {\n        vertical-align: top;\n    }\n\n    .dataframe thead th {\n        text-align: right;\n    }\n</style>\n<table border=\"1\" class=\"dataframe\">\n  <thead>\n    <tr style=\"text-align: right;\">\n      <th></th>\n      <th>Tm_1_Name</th>\n      <th>Tm_2_Name</th>\n      <th>Date</th>\n      <th>Score_Diff</th>\n      <th>W/L</th>\n      <th>Year</th>\n      <th>Season_Team</th>\n      <th>Season_G</th>\n      <th>Season_MP</th>\n      <th>Season_FG</th>\n      <th>...</th>\n      <th>Season_SRS</th>\n      <th>Season_ORtg</th>\n      <th>Season_DRtg</th>\n      <th>Season_NRtg</th>\n      <th>Season_Pace</th>\n      <th>Season_FTr</th>\n      <th>Season_3PAr</th>\n      <th>Season_TS%</th>\n      <th>Season_Year</th>\n      <th>Season_Team_Abb</th>\n    </tr>\n  </thead>\n  <tbody>\n    <tr>\n      <th>0</th>\n      <td>NYK</td>\n      <td>CHI</td>\n      <td>2014-10-29</td>\n      <td>-24</td>\n      <td>2</td>\n      <td>2015</td>\n      <td>New York Knicks</td>\n      <td>82.0</td>\n      <td>242.1</td>\n      <td>37.0</td>\n      <td>...</td>\n      <td>-9.50</td>\n      <td>99.9</td>\n      <td>110.0</td>\n      <td>-10.1</td>\n      <td>91.2</td>\n      <td>0.234</td>\n      <td>0.240</td>\n      <td>0.508</td>\n      <td>2015.0</td>\n      <td>NYK</td>\n    </tr>\n    <tr>\n      <th>1</th>\n      <td>NYK</td>\n      <td>CLE</td>\n      <td>2014-10-30</td>\n      <td>5</td>\n      <td>1</td>\n      <td>2015</td>\n      <td>New York Knicks</td>\n      <td>82.0</td>\n      <td>242.1</td>\n      <td>37.0</td>\n      <td>...</td>\n      <td>-9.50</td>\n      <td>99.9</td>\n      <td>110.0</td>\n      <td>-10.1</td>\n      <td>91.2</td>\n      <td>0.234</td>\n      <td>0.240</td>\n      <td>0.508</td>\n      <td>2015.0</td>\n      <td>NYK</td>\n    </tr>\n    <tr>\n      <th>2</th>\n      <td>NYK</td>\n      <td>CHO</td>\n      <td>2014-11-02</td>\n      <td>3</td>\n      <td>1</td>\n      <td>2015</td>\n      <td>New York Knicks</td>\n      <td>82.0</td>\n      <td>242.1</td>\n      <td>37.0</td>\n      <td>...</td>\n      <td>-9.50</td>\n      <td>99.9</td>\n      <td>110.0</td>\n      <td>-10.1</td>\n      <td>91.2</td>\n      <td>0.234</td>\n      <td>0.240</td>\n      <td>0.508</td>\n      <td>2015.0</td>\n      <td>NYK</td>\n    </tr>\n    <tr>\n      <th>3</th>\n      <td>NYK</td>\n      <td>WAS</td>\n      <td>2014-11-04</td>\n      <td>-15</td>\n      <td>2</td>\n      <td>2015</td>\n      <td>New York Knicks</td>\n      <td>82.0</td>\n      <td>242.1</td>\n      <td>37.0</td>\n      <td>...</td>\n      <td>-9.50</td>\n      <td>99.9</td>\n      <td>110.0</td>\n      <td>-10.1</td>\n      <td>91.2</td>\n      <td>0.234</td>\n      <td>0.240</td>\n      <td>0.508</td>\n      <td>2015.0</td>\n      <td>NYK</td>\n    </tr>\n    <tr>\n      <th>4</th>\n      <td>NYK</td>\n      <td>DET</td>\n      <td>2014-11-05</td>\n      <td>-3</td>\n      <td>2</td>\n      <td>2015</td>\n      <td>New York Knicks</td>\n      <td>82.0</td>\n      <td>242.1</td>\n      <td>37.0</td>\n      <td>...</td>\n      <td>-9.50</td>\n      <td>99.9</td>\n      <td>110.0</td>\n      <td>-10.1</td>\n      <td>91.2</td>\n      <td>0.234</td>\n      <td>0.240</td>\n      <td>0.508</td>\n      <td>2015.0</td>\n      <td>NYK</td>\n    </tr>\n    <tr>\n      <th>...</th>\n      <td>...</td>\n      <td>...</td>\n      <td>...</td>\n      <td>...</td>\n      <td>...</td>\n      <td>...</td>\n      <td>...</td>\n      <td>...</td>\n      <td>...</td>\n      <td>...</td>\n      <td>...</td>\n      <td>...</td>\n      <td>...</td>\n      <td>...</td>\n      <td>...</td>\n      <td>...</td>\n      <td>...</td>\n      <td>...</td>\n      <td>...</td>\n      <td>...</td>\n      <td>...</td>\n    </tr>\n    <tr>\n      <th>91933</th>\n      <td>DET</td>\n      <td>CLE</td>\n      <td>2006-04-12</td>\n      <td>23</td>\n      <td>1</td>\n      <td>2006</td>\n      <td>Detroit Pistons</td>\n      <td>82.0</td>\n      <td>241.8</td>\n      <td>35.5</td>\n      <td>...</td>\n      <td>6.24</td>\n      <td>110.8</td>\n      <td>103.1</td>\n      <td>7.7</td>\n      <td>86.8</td>\n      <td>0.297</td>\n      <td>0.221</td>\n      <td>0.535</td>\n      <td>2006.0</td>\n      <td>DET</td>\n    </tr>\n    <tr>\n      <th>91934</th>\n      <td>DET</td>\n      <td>TOR</td>\n      <td>2006-04-14</td>\n      <td>-5</td>\n      <td>2</td>\n      <td>2006</td>\n      <td>Detroit Pistons</td>\n      <td>82.0</td>\n      <td>241.8</td>\n      <td>35.5</td>\n      <td>...</td>\n      <td>6.24</td>\n      <td>110.8</td>\n      <td>103.1</td>\n      <td>7.7</td>\n      <td>86.8</td>\n      <td>0.297</td>\n      <td>0.221</td>\n      <td>0.535</td>\n      <td>2006.0</td>\n      <td>DET</td>\n    </tr>\n    <tr>\n      <th>91935</th>\n      <td>DET</td>\n      <td>NYK</td>\n      <td>2006-04-16</td>\n      <td>6</td>\n      <td>1</td>\n      <td>2006</td>\n      <td>Detroit Pistons</td>\n      <td>82.0</td>\n      <td>241.8</td>\n      <td>35.5</td>\n      <td>...</td>\n      <td>6.24</td>\n      <td>110.8</td>\n      <td>103.1</td>\n      <td>7.7</td>\n      <td>86.8</td>\n      <td>0.297</td>\n      <td>0.221</td>\n      <td>0.535</td>\n      <td>2006.0</td>\n      <td>DET</td>\n    </tr>\n    <tr>\n      <th>91936</th>\n      <td>DET</td>\n      <td>MIL</td>\n      <td>2006-04-17</td>\n      <td>-20</td>\n      <td>2</td>\n      <td>2006</td>\n      <td>Detroit Pistons</td>\n      <td>82.0</td>\n      <td>241.8</td>\n      <td>35.5</td>\n      <td>...</td>\n      <td>6.24</td>\n      <td>110.8</td>\n      <td>103.1</td>\n      <td>7.7</td>\n      <td>86.8</td>\n      <td>0.297</td>\n      <td>0.221</td>\n      <td>0.535</td>\n      <td>2006.0</td>\n      <td>DET</td>\n    </tr>\n    <tr>\n      <th>91937</th>\n      <td>DET</td>\n      <td>WAS</td>\n      <td>2006-04-19</td>\n      <td>-16</td>\n      <td>2</td>\n      <td>2006</td>\n      <td>Detroit Pistons</td>\n      <td>82.0</td>\n      <td>241.8</td>\n      <td>35.5</td>\n      <td>...</td>\n      <td>6.24</td>\n      <td>110.8</td>\n      <td>103.1</td>\n      <td>7.7</td>\n      <td>86.8</td>\n      <td>0.297</td>\n      <td>0.221</td>\n      <td>0.535</td>\n      <td>2006.0</td>\n      <td>DET</td>\n    </tr>\n  </tbody>\n</table>\n<p>91938 rows × 45 columns</p>\n</div>"
     },
     "execution_count": 7,
     "metadata": {},
     "output_type": "execute_result"
    }
   ],
   "source": [
    "actual = pd.merge(left=game_df[['Tm_1_Name', 'Tm_2_Name', 'Date', 'Score_Diff', 'W/L', 'Year']], right=team_df,\n",
    "                  how='left', left_on=['Tm_1_Name', 'Year'], right_on=['Season_Team_Abb', 'Season_Year'])\n",
    "actual"
   ],
   "metadata": {
    "collapsed": false,
    "pycharm": {
     "name": "#%%\n"
    }
   }
  },
  {
   "cell_type": "code",
   "execution_count": 8,
   "outputs": [
    {
     "data": {
      "text/plain": "      Tm_1_Name Tm_2_Name        Date  Score_Diff  W/L  Year  \\\n0           NYK       CHI  2014-10-29         -24    2  2015   \n1           NYK       CHI  2014-12-18          -6    2  2015   \n2           NYK       CHI  2015-03-28         -31    2  2015   \n3           CHO       CHI  2014-12-03          -7    2  2015   \n4           CHO       CHI  2015-02-25          12    1  2015   \n...         ...       ...         ...         ...  ...   ...   \n87061       BOS       ATL  1979-10-27           5    1  1980   \n87062       BOS       ATL  1980-02-26          11    1  1980   \n87063       BOS       ATL  1980-03-14          -1    2  1980   \n87064       PHI       ATL  1979-10-31          -5    2  1980   \n87065       PHI       ATL  1980-03-11           5    1  1980   \n\n            Season_Team_x  Season_G_x  Season_MP_x  Season_FG_x  ...  \\\n0         New York Knicks        82.0        242.1         37.0  ...   \n1         New York Knicks        82.0        242.1         37.0  ...   \n2         New York Knicks        82.0        242.1         37.0  ...   \n3                     NaN         NaN          NaN          NaN  ...   \n4                     NaN         NaN          NaN          NaN  ...   \n...                   ...         ...          ...          ...  ...   \n87061      Boston Celtics        82.0        242.4         41.9  ...   \n87062      Boston Celtics        82.0        242.4         41.9  ...   \n87063      Boston Celtics        82.0        242.4         41.9  ...   \n87064  Philadelphia 76ers        82.0        242.1         42.0  ...   \n87065  Philadelphia 76ers        82.0        242.1         42.0  ...   \n\n       Season_SRS_y  Season_ORtg_y  Season_DRtg_y  Season_NRtg_y  \\\n0              2.54          107.5          104.3            3.2   \n1              2.54          107.5          104.3            3.2   \n2              2.54          107.5          104.3            3.2   \n3              2.54          107.5          104.3            3.2   \n4              2.54          107.5          104.3            3.2   \n...             ...            ...            ...            ...   \n87061          2.83          105.2          102.3            2.9   \n87062          2.83          105.2          102.3            2.9   \n87063          2.83          105.2          102.3            2.9   \n87064          2.83          105.2          102.3            2.9   \n87065          2.83          105.2          102.3            2.9   \n\n       Season_Pace_y  Season_FTr_y  Season_3PAr_y  Season_TS%_y  \\\n0               92.8         0.304          0.269         0.536   \n1               92.8         0.304          0.269         0.536   \n2               92.8         0.304          0.269         0.536   \n3               92.8         0.304          0.269         0.536   \n4               92.8         0.304          0.269         0.536   \n...              ...           ...            ...           ...   \n87061           98.9         0.376          0.011         0.523   \n87062           98.9         0.376          0.011         0.523   \n87063           98.9         0.376          0.011         0.523   \n87064           98.9         0.376          0.011         0.523   \n87065           98.9         0.376          0.011         0.523   \n\n       Season_Year_y  Season_Team_Abb_y  \n0             2015.0                CHI  \n1             2015.0                CHI  \n2             2015.0                CHI  \n3             2015.0                CHI  \n4             2015.0                CHI  \n...              ...                ...  \n87061         1980.0                ATL  \n87062         1980.0                ATL  \n87063         1980.0                ATL  \n87064         1980.0                ATL  \n87065         1980.0                ATL  \n\n[87066 rows x 84 columns]",
      "text/html": "<div>\n<style scoped>\n    .dataframe tbody tr th:only-of-type {\n        vertical-align: middle;\n    }\n\n    .dataframe tbody tr th {\n        vertical-align: top;\n    }\n\n    .dataframe thead th {\n        text-align: right;\n    }\n</style>\n<table border=\"1\" class=\"dataframe\">\n  <thead>\n    <tr style=\"text-align: right;\">\n      <th></th>\n      <th>Tm_1_Name</th>\n      <th>Tm_2_Name</th>\n      <th>Date</th>\n      <th>Score_Diff</th>\n      <th>W/L</th>\n      <th>Year</th>\n      <th>Season_Team_x</th>\n      <th>Season_G_x</th>\n      <th>Season_MP_x</th>\n      <th>Season_FG_x</th>\n      <th>...</th>\n      <th>Season_SRS_y</th>\n      <th>Season_ORtg_y</th>\n      <th>Season_DRtg_y</th>\n      <th>Season_NRtg_y</th>\n      <th>Season_Pace_y</th>\n      <th>Season_FTr_y</th>\n      <th>Season_3PAr_y</th>\n      <th>Season_TS%_y</th>\n      <th>Season_Year_y</th>\n      <th>Season_Team_Abb_y</th>\n    </tr>\n  </thead>\n  <tbody>\n    <tr>\n      <th>0</th>\n      <td>NYK</td>\n      <td>CHI</td>\n      <td>2014-10-29</td>\n      <td>-24</td>\n      <td>2</td>\n      <td>2015</td>\n      <td>New York Knicks</td>\n      <td>82.0</td>\n      <td>242.1</td>\n      <td>37.0</td>\n      <td>...</td>\n      <td>2.54</td>\n      <td>107.5</td>\n      <td>104.3</td>\n      <td>3.2</td>\n      <td>92.8</td>\n      <td>0.304</td>\n      <td>0.269</td>\n      <td>0.536</td>\n      <td>2015.0</td>\n      <td>CHI</td>\n    </tr>\n    <tr>\n      <th>1</th>\n      <td>NYK</td>\n      <td>CHI</td>\n      <td>2014-12-18</td>\n      <td>-6</td>\n      <td>2</td>\n      <td>2015</td>\n      <td>New York Knicks</td>\n      <td>82.0</td>\n      <td>242.1</td>\n      <td>37.0</td>\n      <td>...</td>\n      <td>2.54</td>\n      <td>107.5</td>\n      <td>104.3</td>\n      <td>3.2</td>\n      <td>92.8</td>\n      <td>0.304</td>\n      <td>0.269</td>\n      <td>0.536</td>\n      <td>2015.0</td>\n      <td>CHI</td>\n    </tr>\n    <tr>\n      <th>2</th>\n      <td>NYK</td>\n      <td>CHI</td>\n      <td>2015-03-28</td>\n      <td>-31</td>\n      <td>2</td>\n      <td>2015</td>\n      <td>New York Knicks</td>\n      <td>82.0</td>\n      <td>242.1</td>\n      <td>37.0</td>\n      <td>...</td>\n      <td>2.54</td>\n      <td>107.5</td>\n      <td>104.3</td>\n      <td>3.2</td>\n      <td>92.8</td>\n      <td>0.304</td>\n      <td>0.269</td>\n      <td>0.536</td>\n      <td>2015.0</td>\n      <td>CHI</td>\n    </tr>\n    <tr>\n      <th>3</th>\n      <td>CHO</td>\n      <td>CHI</td>\n      <td>2014-12-03</td>\n      <td>-7</td>\n      <td>2</td>\n      <td>2015</td>\n      <td>NaN</td>\n      <td>NaN</td>\n      <td>NaN</td>\n      <td>NaN</td>\n      <td>...</td>\n      <td>2.54</td>\n      <td>107.5</td>\n      <td>104.3</td>\n      <td>3.2</td>\n      <td>92.8</td>\n      <td>0.304</td>\n      <td>0.269</td>\n      <td>0.536</td>\n      <td>2015.0</td>\n      <td>CHI</td>\n    </tr>\n    <tr>\n      <th>4</th>\n      <td>CHO</td>\n      <td>CHI</td>\n      <td>2015-02-25</td>\n      <td>12</td>\n      <td>1</td>\n      <td>2015</td>\n      <td>NaN</td>\n      <td>NaN</td>\n      <td>NaN</td>\n      <td>NaN</td>\n      <td>...</td>\n      <td>2.54</td>\n      <td>107.5</td>\n      <td>104.3</td>\n      <td>3.2</td>\n      <td>92.8</td>\n      <td>0.304</td>\n      <td>0.269</td>\n      <td>0.536</td>\n      <td>2015.0</td>\n      <td>CHI</td>\n    </tr>\n    <tr>\n      <th>...</th>\n      <td>...</td>\n      <td>...</td>\n      <td>...</td>\n      <td>...</td>\n      <td>...</td>\n      <td>...</td>\n      <td>...</td>\n      <td>...</td>\n      <td>...</td>\n      <td>...</td>\n      <td>...</td>\n      <td>...</td>\n      <td>...</td>\n      <td>...</td>\n      <td>...</td>\n      <td>...</td>\n      <td>...</td>\n      <td>...</td>\n      <td>...</td>\n      <td>...</td>\n      <td>...</td>\n    </tr>\n    <tr>\n      <th>87061</th>\n      <td>BOS</td>\n      <td>ATL</td>\n      <td>1979-10-27</td>\n      <td>5</td>\n      <td>1</td>\n      <td>1980</td>\n      <td>Boston Celtics</td>\n      <td>82.0</td>\n      <td>242.4</td>\n      <td>41.9</td>\n      <td>...</td>\n      <td>2.83</td>\n      <td>105.2</td>\n      <td>102.3</td>\n      <td>2.9</td>\n      <td>98.9</td>\n      <td>0.376</td>\n      <td>0.011</td>\n      <td>0.523</td>\n      <td>1980.0</td>\n      <td>ATL</td>\n    </tr>\n    <tr>\n      <th>87062</th>\n      <td>BOS</td>\n      <td>ATL</td>\n      <td>1980-02-26</td>\n      <td>11</td>\n      <td>1</td>\n      <td>1980</td>\n      <td>Boston Celtics</td>\n      <td>82.0</td>\n      <td>242.4</td>\n      <td>41.9</td>\n      <td>...</td>\n      <td>2.83</td>\n      <td>105.2</td>\n      <td>102.3</td>\n      <td>2.9</td>\n      <td>98.9</td>\n      <td>0.376</td>\n      <td>0.011</td>\n      <td>0.523</td>\n      <td>1980.0</td>\n      <td>ATL</td>\n    </tr>\n    <tr>\n      <th>87063</th>\n      <td>BOS</td>\n      <td>ATL</td>\n      <td>1980-03-14</td>\n      <td>-1</td>\n      <td>2</td>\n      <td>1980</td>\n      <td>Boston Celtics</td>\n      <td>82.0</td>\n      <td>242.4</td>\n      <td>41.9</td>\n      <td>...</td>\n      <td>2.83</td>\n      <td>105.2</td>\n      <td>102.3</td>\n      <td>2.9</td>\n      <td>98.9</td>\n      <td>0.376</td>\n      <td>0.011</td>\n      <td>0.523</td>\n      <td>1980.0</td>\n      <td>ATL</td>\n    </tr>\n    <tr>\n      <th>87064</th>\n      <td>PHI</td>\n      <td>ATL</td>\n      <td>1979-10-31</td>\n      <td>-5</td>\n      <td>2</td>\n      <td>1980</td>\n      <td>Philadelphia 76ers</td>\n      <td>82.0</td>\n      <td>242.1</td>\n      <td>42.0</td>\n      <td>...</td>\n      <td>2.83</td>\n      <td>105.2</td>\n      <td>102.3</td>\n      <td>2.9</td>\n      <td>98.9</td>\n      <td>0.376</td>\n      <td>0.011</td>\n      <td>0.523</td>\n      <td>1980.0</td>\n      <td>ATL</td>\n    </tr>\n    <tr>\n      <th>87065</th>\n      <td>PHI</td>\n      <td>ATL</td>\n      <td>1980-03-11</td>\n      <td>5</td>\n      <td>1</td>\n      <td>1980</td>\n      <td>Philadelphia 76ers</td>\n      <td>82.0</td>\n      <td>242.1</td>\n      <td>42.0</td>\n      <td>...</td>\n      <td>2.83</td>\n      <td>105.2</td>\n      <td>102.3</td>\n      <td>2.9</td>\n      <td>98.9</td>\n      <td>0.376</td>\n      <td>0.011</td>\n      <td>0.523</td>\n      <td>1980.0</td>\n      <td>ATL</td>\n    </tr>\n  </tbody>\n</table>\n<p>87066 rows × 84 columns</p>\n</div>"
     },
     "execution_count": 8,
     "metadata": {},
     "output_type": "execute_result"
    }
   ],
   "source": [
    "actual = pd.merge(left=actual, right=team_df, how='inner', left_on=['Tm_2_Name', 'Year'],\n",
    "                  right_on=['Season_Team_Abb', 'Season_Year'], )\n",
    "# actual.loc[actual['Season_Team_x'].isna().any(),:]\n",
    "\n",
    "\n",
    "# actual.columns\n",
    "actual"
   ],
   "metadata": {
    "collapsed": false,
    "pycharm": {
     "name": "#%%\n"
    }
   }
  },
  {
   "cell_type": "code",
   "execution_count": 9,
   "outputs": [],
   "source": [
    "actual = actual.dropna()"
   ],
   "metadata": {
    "collapsed": false,
    "pycharm": {
     "name": "#%%\n"
    }
   }
  },
  {
   "cell_type": "code",
   "execution_count": 10,
   "outputs": [],
   "source": [
    "cols = ['Season_FG_x',\n",
    "        'Season_FGA_x', 'Season_FG%_x', 'Season_3P_x', 'Season_3PA_x',\n",
    "        'Season_3P%_x', 'Season_2P_x', 'Season_2PA_x', 'Season_2P%_x',\n",
    "        'Season_FT_x', 'Season_FTA_x', 'Season_FT%_x', 'Season_ORB_x',\n",
    "        'Season_DRB_x', 'Season_TRB_x', 'Season_AST_x', 'Season_STL_x',\n",
    "        'Season_BLK_x', 'Season_TOV_x', 'Season_PF_x', 'Season_PTS_x',\n",
    "        'Season_Age_x', 'Season_MOV_x', 'Season_SOS_x',\n",
    "        'Season_SRS_x', 'Season_ORtg_x', 'Season_DRtg_x', 'Season_NRtg_x',\n",
    "        'Season_Pace_x', 'Season_FTr_x', 'Season_3PAr_x', 'Season_TS%_x',\n",
    "\n",
    "        'Season_FG_y',\n",
    "        'Season_FGA_y', 'Season_FG%_y', 'Season_3P_y', 'Season_3PA_y',\n",
    "        'Season_3P%_y', 'Season_2P_y', 'Season_2PA_y', 'Season_2P%_y',\n",
    "        'Season_FT_y', 'Season_FTA_y', 'Season_FT%_y', 'Season_ORB_y',\n",
    "        'Season_DRB_y', 'Season_TRB_y', 'Season_AST_y', 'Season_STL_y',\n",
    "        'Season_BLK_y', 'Season_TOV_y', 'Season_PF_y', 'Season_PTS_y',\n",
    "        'Season_Age_y', 'Season_MOV_y', 'Season_SOS_y',\n",
    "        'Season_SRS_y', 'Season_ORtg_y', 'Season_DRtg_y', 'Season_NRtg_y',\n",
    "        'Season_Pace_y', 'Season_FTr_y', 'Season_3PAr_y', 'Season_TS%_y', ]"
   ],
   "metadata": {
    "collapsed": false,
    "pycharm": {
     "name": "#%%\n"
    }
   }
  },
  {
   "cell_type": "code",
   "execution_count": 11,
   "outputs": [
    {
     "data": {
      "text/plain": "       Season_FG_Diff  Season_FGA_Diff  Season_FG%_Diff  Season_3P_Diff  \\\n0                -0.7             -6.3            0.025             1.9   \n1                -0.7             -6.3            0.025             1.9   \n2                -0.7             -6.3            0.025             1.9   \n7                 0.3             -4.7            0.028             1.7   \n8                 0.3             -4.7            0.028             1.7   \n...               ...              ...              ...             ...   \n87061             3.6              5.4            0.012             0.3   \n87062             3.6              5.4            0.012             0.3   \n87063             3.6              5.4            0.012             0.3   \n87064             3.7              8.4           -0.003             0.3   \n87065             3.7              8.4           -0.003             0.3   \n\n       Season_3PA_Diff  Season_3P%_Diff  Season_2P_Diff  Season_2PA_Diff  \\\n0                  2.7            0.045            -2.7             -9.0   \n1                  2.7            0.045            -2.7             -9.0   \n2                  2.7            0.045            -2.7             -9.0   \n7                  3.0            0.033            -1.6             -7.7   \n8                  3.0            0.033            -1.6             -7.7   \n...                ...              ...             ...              ...   \n87061              1.0            0.035             3.2              4.4   \n87062              1.0            0.035             3.2              4.4   \n87063              1.0            0.035             3.2              4.4   \n87064              1.2            0.020             3.3              7.2   \n87065              1.2            0.020             3.3              7.2   \n\n       Season_2P%_Diff  Season_FT_Diff  ...  Season_MOV_Diff  Season_SOS_Diff  \\\n0                0.025             3.1  ...           -12.32             0.28   \n1                0.025             3.1  ...           -12.32             0.28   \n2                0.025             3.1  ...           -12.32             0.28   \n7                0.034             1.5  ...            -8.72             0.31   \n8                0.034             1.5  ...            -8.72             0.31   \n...                ...             ...  ...              ...              ...   \n87061            0.014            -3.5  ...             4.88            -0.33   \n87062            0.014            -3.5  ...             4.88            -0.33   \n87063            0.014            -3.5  ...             4.88            -0.33   \n87064            0.000            -4.4  ...             1.31            -0.09   \n87065            0.000            -4.4  ...             1.31            -0.09   \n\n       Season_SRS_Diff  Season_ORtg_Diff  Season_DRtg_Diff  Season_NRtg_Diff  \\\n0               -12.04              -7.6               5.7             -13.3   \n1               -12.04              -7.6               5.7             -13.3   \n2               -12.04              -7.6               5.7             -13.3   \n7                -8.41              -5.9               3.4              -9.3   \n8                -8.41              -5.9               3.4              -9.3   \n...                ...               ...               ...               ...   \n87061             4.54               4.2              -0.4               4.6   \n87062             4.54               4.2              -0.4               4.6   \n87063             4.54               4.2              -0.4               4.6   \n87064             1.21              -0.2              -1.3               1.1   \n87065             1.21              -0.2              -1.3               1.1   \n\n       Season_Pace_Diff  Season_FTr_Diff  Season_3PAr_Diff  Season_TS%_Diff  \n0                  -1.6           -0.070            -0.029           -0.028  \n1                  -1.6           -0.070            -0.029           -0.028  \n2                  -1.6           -0.070            -0.029           -0.028  \n7                   1.0           -0.074            -0.034           -0.012  \n8                   1.0           -0.074            -0.034           -0.012  \n...                 ...              ...               ...              ...  \n87061               3.7           -0.044             0.046            0.027  \n87062               3.7           -0.044             0.046            0.027  \n87063               3.7           -0.044             0.046            0.027  \n87064               4.1           -0.036             0.006            0.021  \n87065               4.1           -0.036             0.006            0.021  \n\n[82268 rows x 32 columns]",
      "text/html": "<div>\n<style scoped>\n    .dataframe tbody tr th:only-of-type {\n        vertical-align: middle;\n    }\n\n    .dataframe tbody tr th {\n        vertical-align: top;\n    }\n\n    .dataframe thead th {\n        text-align: right;\n    }\n</style>\n<table border=\"1\" class=\"dataframe\">\n  <thead>\n    <tr style=\"text-align: right;\">\n      <th></th>\n      <th>Season_FG_Diff</th>\n      <th>Season_FGA_Diff</th>\n      <th>Season_FG%_Diff</th>\n      <th>Season_3P_Diff</th>\n      <th>Season_3PA_Diff</th>\n      <th>Season_3P%_Diff</th>\n      <th>Season_2P_Diff</th>\n      <th>Season_2PA_Diff</th>\n      <th>Season_2P%_Diff</th>\n      <th>Season_FT_Diff</th>\n      <th>...</th>\n      <th>Season_MOV_Diff</th>\n      <th>Season_SOS_Diff</th>\n      <th>Season_SRS_Diff</th>\n      <th>Season_ORtg_Diff</th>\n      <th>Season_DRtg_Diff</th>\n      <th>Season_NRtg_Diff</th>\n      <th>Season_Pace_Diff</th>\n      <th>Season_FTr_Diff</th>\n      <th>Season_3PAr_Diff</th>\n      <th>Season_TS%_Diff</th>\n    </tr>\n  </thead>\n  <tbody>\n    <tr>\n      <th>0</th>\n      <td>-0.7</td>\n      <td>-6.3</td>\n      <td>0.025</td>\n      <td>1.9</td>\n      <td>2.7</td>\n      <td>0.045</td>\n      <td>-2.7</td>\n      <td>-9.0</td>\n      <td>0.025</td>\n      <td>3.1</td>\n      <td>...</td>\n      <td>-12.32</td>\n      <td>0.28</td>\n      <td>-12.04</td>\n      <td>-7.6</td>\n      <td>5.7</td>\n      <td>-13.3</td>\n      <td>-1.6</td>\n      <td>-0.070</td>\n      <td>-0.029</td>\n      <td>-0.028</td>\n    </tr>\n    <tr>\n      <th>1</th>\n      <td>-0.7</td>\n      <td>-6.3</td>\n      <td>0.025</td>\n      <td>1.9</td>\n      <td>2.7</td>\n      <td>0.045</td>\n      <td>-2.7</td>\n      <td>-9.0</td>\n      <td>0.025</td>\n      <td>3.1</td>\n      <td>...</td>\n      <td>-12.32</td>\n      <td>0.28</td>\n      <td>-12.04</td>\n      <td>-7.6</td>\n      <td>5.7</td>\n      <td>-13.3</td>\n      <td>-1.6</td>\n      <td>-0.070</td>\n      <td>-0.029</td>\n      <td>-0.028</td>\n    </tr>\n    <tr>\n      <th>2</th>\n      <td>-0.7</td>\n      <td>-6.3</td>\n      <td>0.025</td>\n      <td>1.9</td>\n      <td>2.7</td>\n      <td>0.045</td>\n      <td>-2.7</td>\n      <td>-9.0</td>\n      <td>0.025</td>\n      <td>3.1</td>\n      <td>...</td>\n      <td>-12.32</td>\n      <td>0.28</td>\n      <td>-12.04</td>\n      <td>-7.6</td>\n      <td>5.7</td>\n      <td>-13.3</td>\n      <td>-1.6</td>\n      <td>-0.070</td>\n      <td>-0.029</td>\n      <td>-0.028</td>\n    </tr>\n    <tr>\n      <th>7</th>\n      <td>0.3</td>\n      <td>-4.7</td>\n      <td>0.028</td>\n      <td>1.7</td>\n      <td>3.0</td>\n      <td>0.033</td>\n      <td>-1.6</td>\n      <td>-7.7</td>\n      <td>0.034</td>\n      <td>1.5</td>\n      <td>...</td>\n      <td>-8.72</td>\n      <td>0.31</td>\n      <td>-8.41</td>\n      <td>-5.9</td>\n      <td>3.4</td>\n      <td>-9.3</td>\n      <td>1.0</td>\n      <td>-0.074</td>\n      <td>-0.034</td>\n      <td>-0.012</td>\n    </tr>\n    <tr>\n      <th>8</th>\n      <td>0.3</td>\n      <td>-4.7</td>\n      <td>0.028</td>\n      <td>1.7</td>\n      <td>3.0</td>\n      <td>0.033</td>\n      <td>-1.6</td>\n      <td>-7.7</td>\n      <td>0.034</td>\n      <td>1.5</td>\n      <td>...</td>\n      <td>-8.72</td>\n      <td>0.31</td>\n      <td>-8.41</td>\n      <td>-5.9</td>\n      <td>3.4</td>\n      <td>-9.3</td>\n      <td>1.0</td>\n      <td>-0.074</td>\n      <td>-0.034</td>\n      <td>-0.012</td>\n    </tr>\n    <tr>\n      <th>...</th>\n      <td>...</td>\n      <td>...</td>\n      <td>...</td>\n      <td>...</td>\n      <td>...</td>\n      <td>...</td>\n      <td>...</td>\n      <td>...</td>\n      <td>...</td>\n      <td>...</td>\n      <td>...</td>\n      <td>...</td>\n      <td>...</td>\n      <td>...</td>\n      <td>...</td>\n      <td>...</td>\n      <td>...</td>\n      <td>...</td>\n      <td>...</td>\n      <td>...</td>\n      <td>...</td>\n    </tr>\n    <tr>\n      <th>87061</th>\n      <td>3.6</td>\n      <td>5.4</td>\n      <td>0.012</td>\n      <td>0.3</td>\n      <td>1.0</td>\n      <td>0.035</td>\n      <td>3.2</td>\n      <td>4.4</td>\n      <td>0.014</td>\n      <td>-3.5</td>\n      <td>...</td>\n      <td>4.88</td>\n      <td>-0.33</td>\n      <td>4.54</td>\n      <td>4.2</td>\n      <td>-0.4</td>\n      <td>4.6</td>\n      <td>3.7</td>\n      <td>-0.044</td>\n      <td>0.046</td>\n      <td>0.027</td>\n    </tr>\n    <tr>\n      <th>87062</th>\n      <td>3.6</td>\n      <td>5.4</td>\n      <td>0.012</td>\n      <td>0.3</td>\n      <td>1.0</td>\n      <td>0.035</td>\n      <td>3.2</td>\n      <td>4.4</td>\n      <td>0.014</td>\n      <td>-3.5</td>\n      <td>...</td>\n      <td>4.88</td>\n      <td>-0.33</td>\n      <td>4.54</td>\n      <td>4.2</td>\n      <td>-0.4</td>\n      <td>4.6</td>\n      <td>3.7</td>\n      <td>-0.044</td>\n      <td>0.046</td>\n      <td>0.027</td>\n    </tr>\n    <tr>\n      <th>87063</th>\n      <td>3.6</td>\n      <td>5.4</td>\n      <td>0.012</td>\n      <td>0.3</td>\n      <td>1.0</td>\n      <td>0.035</td>\n      <td>3.2</td>\n      <td>4.4</td>\n      <td>0.014</td>\n      <td>-3.5</td>\n      <td>...</td>\n      <td>4.88</td>\n      <td>-0.33</td>\n      <td>4.54</td>\n      <td>4.2</td>\n      <td>-0.4</td>\n      <td>4.6</td>\n      <td>3.7</td>\n      <td>-0.044</td>\n      <td>0.046</td>\n      <td>0.027</td>\n    </tr>\n    <tr>\n      <th>87064</th>\n      <td>3.7</td>\n      <td>8.4</td>\n      <td>-0.003</td>\n      <td>0.3</td>\n      <td>1.2</td>\n      <td>0.020</td>\n      <td>3.3</td>\n      <td>7.2</td>\n      <td>0.000</td>\n      <td>-4.4</td>\n      <td>...</td>\n      <td>1.31</td>\n      <td>-0.09</td>\n      <td>1.21</td>\n      <td>-0.2</td>\n      <td>-1.3</td>\n      <td>1.1</td>\n      <td>4.1</td>\n      <td>-0.036</td>\n      <td>0.006</td>\n      <td>0.021</td>\n    </tr>\n    <tr>\n      <th>87065</th>\n      <td>3.7</td>\n      <td>8.4</td>\n      <td>-0.003</td>\n      <td>0.3</td>\n      <td>1.2</td>\n      <td>0.020</td>\n      <td>3.3</td>\n      <td>7.2</td>\n      <td>0.000</td>\n      <td>-4.4</td>\n      <td>...</td>\n      <td>1.31</td>\n      <td>-0.09</td>\n      <td>1.21</td>\n      <td>-0.2</td>\n      <td>-1.3</td>\n      <td>1.1</td>\n      <td>4.1</td>\n      <td>-0.036</td>\n      <td>0.006</td>\n      <td>0.021</td>\n    </tr>\n  </tbody>\n</table>\n<p>82268 rows × 32 columns</p>\n</div>"
     },
     "execution_count": 11,
     "metadata": {},
     "output_type": "execute_result"
    }
   ],
   "source": [
    "e = pd.DataFrame()\n",
    "\n",
    "for i in ['Season_FG_x',\n",
    "          'Season_FGA_x', 'Season_FG%_x', 'Season_3P_x', 'Season_3PA_x',\n",
    "          'Season_3P%_x', 'Season_2P_x', 'Season_2PA_x', 'Season_2P%_x',\n",
    "          'Season_FT_x', 'Season_FTA_x', 'Season_FT%_x', 'Season_ORB_x',\n",
    "          'Season_DRB_x', 'Season_TRB_x', 'Season_AST_x', 'Season_STL_x',\n",
    "          'Season_BLK_x', 'Season_TOV_x', 'Season_PF_x', 'Season_PTS_x',\n",
    "          'Season_Age_x', 'Season_MOV_x', 'Season_SOS_x',\n",
    "          'Season_SRS_x', 'Season_ORtg_x', 'Season_DRtg_x', 'Season_NRtg_x',\n",
    "          'Season_Pace_x', 'Season_FTr_x', 'Season_3PAr_x', 'Season_TS%_x', ]:\n",
    "    e[f'{i[:-2]}_Diff'] = actual[f'{i[:-2]}_x'] - actual[f'{i[:-2]}_y']\n",
    "e"
   ],
   "metadata": {
    "collapsed": false,
    "pycharm": {
     "name": "#%%\n"
    }
   }
  },
  {
   "cell_type": "code",
   "execution_count": 12,
   "outputs": [],
   "source": [
    "X = e.copy()\n",
    "y = actual['W/L']"
   ],
   "metadata": {
    "collapsed": false,
    "pycharm": {
     "name": "#%%\n"
    }
   }
  },
  {
   "cell_type": "code",
   "execution_count": 13,
   "outputs": [
    {
     "data": {
      "text/plain": "Index(['Season_FG_Diff', 'Season_FGA_Diff', 'Season_FG%_Diff',\n       'Season_3P_Diff', 'Season_3PA_Diff', 'Season_3P%_Diff',\n       'Season_2P_Diff', 'Season_2PA_Diff', 'Season_2P%_Diff',\n       'Season_FT_Diff', 'Season_FTA_Diff', 'Season_FT%_Diff',\n       'Season_ORB_Diff', 'Season_DRB_Diff', 'Season_TRB_Diff',\n       'Season_AST_Diff', 'Season_STL_Diff', 'Season_BLK_Diff',\n       'Season_TOV_Diff', 'Season_PF_Diff', 'Season_PTS_Diff',\n       'Season_Age_Diff', 'Season_MOV_Diff', 'Season_SOS_Diff',\n       'Season_SRS_Diff', 'Season_ORtg_Diff', 'Season_DRtg_Diff',\n       'Season_NRtg_Diff', 'Season_Pace_Diff', 'Season_FTr_Diff',\n       'Season_3PAr_Diff', 'Season_TS%_Diff'],\n      dtype='object')"
     },
     "execution_count": 13,
     "metadata": {},
     "output_type": "execute_result"
    }
   ],
   "source": [
    "# ...\n",
    "# X = X.drop('Season_MOV_Diff', axis=1)\n",
    "X.columns"
   ],
   "metadata": {
    "collapsed": false,
    "pycharm": {
     "name": "#%%\n"
    }
   }
  },
  {
   "cell_type": "code",
   "execution_count": 14,
   "outputs": [],
   "source": [
    "X_train, X_test, y_train, y_test = train_test_split(X, y, test_size=0.25, )"
   ],
   "metadata": {
    "collapsed": false,
    "pycharm": {
     "name": "#%%\n"
    }
   }
  },
  {
   "cell_type": "code",
   "execution_count": null,
   "outputs": [
    {
     "name": "stdout",
     "output_type": "stream",
     "text": [
      "Fitting 5 folds for each of 21 candidates, totalling 105 fits\n",
      "[CV 1/5] END classifier=RandomForestClassifier(n_estimators=500), feature_selection__threshold=mean, scaler=StandardScaler();, score=0.591 total time=  46.4s\n"
     ]
    }
   ],
   "source": [
    "\n",
    "pipeline = Pipeline([\n",
    "    ('scaler', MinMaxScaler()),\n",
    "    ('feature_selection', SelectFromModel(estimator=RandomForestClassifier(),)),\n",
    "    ('classifier', RandomForestClassifier())\n",
    "])\n",
    "\n",
    "param_grid = {\n",
    "    'scaler': [\n",
    "        StandardScaler(),\n",
    "        MinMaxScaler(),\n",
    "        MaxAbsScaler(),\n",
    "        RobustScaler(),\n",
    "        PowerTransformer(),\n",
    "        QuantileTransformer(),\n",
    "        Normalizer()\n",
    "    ],\n",
    "    'feature_selection__threshold': [\n",
    "        'mean',\n",
    "        'median',\n",
    "        '1.25*mean'\n",
    "    ],  # Threshold value or string\n",
    "    'classifier': [\n",
    "        RandomForestClassifier(n_estimators=500),\n",
    "        # LogisticRegression(max_iter=500),\n",
    "        # DecisionTreeClassifier()\n",
    "    ]\n",
    "\n",
    "}\n",
    "\n",
    "# Randomized Search CV\n",
    "# search = RandomizedSearchCV(pipeline, param_grid, cv=2, scoring='accuracy', verbose=5)\n",
    "search = GridSearchCV(pipeline, param_grid, cv=5, scoring='accuracy', verbose=5)\n",
    "search.fit(X_train, y_train)\n",
    "\n"
   ],
   "metadata": {
    "collapsed": false,
    "pycharm": {
     "name": "#%%\n",
     "is_executing": true
    }
   }
  },
  {
   "cell_type": "code",
   "execution_count": null,
   "outputs": [],
   "source": [
    "# Step 5: Get the best estimator and best parameters\n",
    "best_estimator = search.best_estimator_\n",
    "best_parameters = search.best_params_\n",
    "best_score = search.best_score_\n",
    "\n",
    "print(\"Best Estimator:\", best_estimator, '\\n')\n",
    "print(\"Best Parameters:\", best_parameters, '\\n')\n",
    "print(\"Best Score:\", best_score, '\\n')"
   ],
   "metadata": {
    "collapsed": false,
    "pycharm": {
     "name": "#%%\n",
     "is_executing": true
    }
   }
  },
  {
   "cell_type": "code",
   "execution_count": null,
   "outputs": [],
   "source": [
    "# feature_importances = best_estimator.named_steps['feature_selection'].estimator_.feature_importances_\n",
    "\n",
    "# Create a DataFrame with feature names and importances\n",
    "feature_importances_df = pd.DataFrame({'Feature': X_train.columns, 'Importance': search.feature_importances_})\n",
    "\n",
    "# Sort the DataFrame by importance in descending order\n",
    "feature_importances_df = feature_importances_df.sort_values('Importance', ascending=False)\n",
    "\n",
    "# Create a bar plot of feature importances using Seaborn\n",
    "plt.figure(figsize=(14, 7))\n",
    "sns.barplot(x='Importance', y='Feature', data=feature_importances_df.head(20), orient='h')\n",
    "plt.xlabel('Feature Importance')\n",
    "plt.ylabel('Feature')\n",
    "plt.title('Pipeline Feature Importance')\n",
    "plt.show()"
   ],
   "metadata": {
    "collapsed": false,
    "pycharm": {
     "name": "#%%\n",
     "is_executing": true
    }
   }
  },
  {
   "cell_type": "code",
   "execution_count": null,
   "outputs": [],
   "source": [
    "\n",
    "# Step 4: Train the pipeline\n",
    "pipeline.set_params(**best_parameters)\n",
    "pipeline.fit(X_test, y_test)\n"
   ],
   "metadata": {
    "collapsed": false,
    "pycharm": {
     "name": "#%%\n",
     "is_executing": true
    }
   }
  },
  {
   "cell_type": "code",
   "execution_count": null,
   "outputs": [],
   "source": [
    "\n",
    "# Step 5: Make predictions on the test set\n",
    "y_pred = pipeline.predict(X_test)\n",
    "\n",
    "# Step 6: Evaluate the performance of the pipeline\n",
    "accuracy = accuracy_score(y_test, y_pred)\n",
    "print(\"Accuracy:\", accuracy)"
   ],
   "metadata": {
    "collapsed": false,
    "pycharm": {
     "name": "#%%\n",
     "is_executing": true
    }
   }
  },
  {
   "cell_type": "code",
   "execution_count": null,
   "outputs": [],
   "source": [
    "import joblib\n",
    "\n",
    "# Save the pipeline\n",
    "joblib.dump(pipeline, 'pipeline.pkl')"
   ],
   "metadata": {
    "collapsed": false,
    "pycharm": {
     "name": "#%%\n",
     "is_executing": true
    }
   }
  },
  {
   "cell_type": "code",
   "execution_count": null,
   "outputs": [],
   "source": [],
   "metadata": {
    "collapsed": false,
    "pycharm": {
     "name": "#%%\n",
     "is_executing": true
    }
   }
  }
 ],
 "metadata": {
  "kernelspec": {
   "display_name": "Python 3",
   "language": "python",
   "name": "python3"
  },
  "language_info": {
   "codemirror_mode": {
    "name": "ipython",
    "version": 2
   },
   "file_extension": ".py",
   "mimetype": "text/x-python",
   "name": "python",
   "nbconvert_exporter": "python",
   "pygments_lexer": "ipython2",
   "version": "2.7.6"
  }
 },
 "nbformat": 4,
 "nbformat_minor": 0
}