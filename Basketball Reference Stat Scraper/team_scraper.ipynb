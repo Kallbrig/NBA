{
 "cells": [
  {
   "cell_type": "code",
   "metadata": {
    "collapsed": false,
    "jupyter": {
     "outputs_hidden": false
    },
    "pycharm": {
     "name": "#%%\n"
    },
    "ExecuteTime": {
     "end_time": "2024-05-08T15:56:03.490472Z",
     "start_time": "2024-05-08T15:56:03.452850Z"
    }
   },
   "source": [
    "import pandas as pd\n",
    "import requests\n",
    "from datetime import datetime\n",
    "import os\n"
   ],
   "execution_count": 1,
   "outputs": []
  },
  {
   "cell_type": "code",
   "metadata": {
    "collapsed": false,
    "jupyter": {
     "outputs_hidden": false
    },
    "pycharm": {
     "name": "#%%\n"
    },
    "ExecuteTime": {
     "end_time": "2024-05-08T15:56:03.492667Z",
     "start_time": "2024-05-08T15:56:03.491078Z"
    }
   },
   "source": [
    "def remove_multiindex(df:pd.DataFrame):\n",
    "\treturn df.droplevel(level=0,axis=1)"
   ],
   "execution_count": 2,
   "outputs": []
  },
  {
   "cell_type": "code",
   "metadata": {
    "collapsed": false,
    "jupyter": {
     "outputs_hidden": false
    },
    "pycharm": {
     "name": "#%%\n"
    },
    "ExecuteTime": {
     "end_time": "2024-05-08T15:56:03.495380Z",
     "start_time": "2024-05-08T15:56:03.493678Z"
    }
   },
   "source": [
    "# link for extract html data\n",
    "def getdata(url):\n",
    "    r = requests.get(url)\n",
    "    return r.text\n",
    "\n",
    "def get_nba_season_year(date=None):\n",
    "    if date is None:\n",
    "        date = datetime.now()\n",
    "    return date.year + 1 if date.month >= 10 else date.year"
   ],
   "execution_count": 3,
   "outputs": []
  },
  {
   "cell_type": "code",
   "metadata": {
    "collapsed": false,
    "jupyter": {
     "outputs_hidden": false
    },
    "pycharm": {
     "name": "#%%\n"
    },
    "ExecuteTime": {
     "end_time": "2024-05-08T15:57:25.202758Z",
     "start_time": "2024-05-08T15:57:24.774216Z"
    }
   },
   "source": [
    "full_df_list = pd.DataFrame(columns=[ 'Team', 'G', 'MP', 'FG', 'FGA', 'FG%', '3P', '3PA', '3P%', '2P',\n",
    "\t\t   '2PA', '2P%', 'FT', 'FTA', 'FT%', 'ORB', 'DRB', 'TRB', 'AST', 'STL',\n",
    "\t\t   'BLK', 'TOV', 'PF', 'PTS', 'Age', 'W', 'L', 'MOV',\n",
    "\t\t   'SOS', 'SRS', 'ORtg', 'DRtg', 'NRtg', 'Pace', 'FTr', '3PAr', 'TS%',])\n",
    "\n",
    "\n",
    "for year in range(1980,get_nba_season_year() + 1):\n",
    "\tprint('Fetching',year)\n",
    "\n",
    "\tif os.path.exists(f'team_stats/{year}_tm_stats.csv') and year != get_nba_season_year():\n",
    "\t\tnew = pd.read_csv(f'team_stats/{year}_tm_stats.csv')\n",
    "\telse:\n",
    "\n",
    "\t\thtmldata = getdata(f\"https://www.basketball-reference.com/leagues/NBA_{year}.html\")\n",
    "\t\tdf_list = pd.read_html(htmldata)\n",
    "\n",
    "\t\tif year <= 2015:\n",
    "\t\t\tper_game_stat = df_list[3].copy()\n",
    "\n",
    "\t\t\tadv_stat = df_list[8].copy()\n",
    "\t\telse:\n",
    "\t\t\tper_game_stat = df_list[4].copy()\n",
    "\n",
    "\t\t\tadv_stat = df_list[10].copy()\n",
    "\n",
    "\t\tnew = pd.merge(per_game_stat,adv_stat.droplevel(level=0,axis=1),on='Team')\n",
    "\n",
    "\t\tnew = new[[ 'Team', 'G', 'MP', 'FG', 'FGA', 'FG%', '3P', '3PA', '3P%', '2P',\n",
    "\t\t   '2PA', '2P%', 'FT', 'FTA', 'FT%', 'ORB', 'DRB', 'TRB', 'AST', 'STL',\n",
    "\t\t   'BLK', 'TOV', 'PF', 'PTS', 'Age', 'W', 'L', 'MOV',\n",
    "\t\t   'SOS', 'SRS', 'ORtg', 'DRtg', 'NRtg', 'Pace', 'FTr', '3PAr', 'TS%',]].sort_values('W',ascending=False).reset_index(drop=True)\n",
    "\n",
    "\t\tnew['Year'] = year\n",
    "\n",
    "\t\tnew.loc[new['Team'] == 'League Average','Team'] = f'League Average {year}'\n",
    "\n",
    "\t\tnew.to_csv(f'team_stats/{year}_tm_stats.csv')\n",
    "\tfull_df_list = pd.concat([full_df_list,new])\n",
    "\n",
    "\tprint(year,'Complete')\n",
    "\n",
    "\n",
    "full_df_list.to_csv('team_stats/all.csv')"
   ],
   "execution_count": 5,
   "outputs": []
  },
  {
   "cell_type": "code",
   "execution_count": 9,
   "metadata": {
    "collapsed": false,
    "jupyter": {
     "outputs_hidden": false
    },
    "pycharm": {
     "name": "#%%\n"
    }
   },
   "source": [
    "full_df_list.to_csv('../Data/Team Data/Combined/league_stats.csv')"
   ],
   "outputs": []
  },
  {
   "cell_type": "code",
   "execution_count": null,
   "metadata": {},
   "source": [],
   "outputs": []
  }
 ],
 "metadata": {
  "kernelspec": {
   "display_name": "Python 3 (ipykernel)",
   "language": "python",
   "name": "python3"
  },
  "language_info": {
   "codemirror_mode": {
    "name": "ipython",
    "version": 3
   },
   "file_extension": ".py",
   "mimetype": "text/x-python",
   "name": "python",
   "nbconvert_exporter": "python",
   "pygments_lexer": "ipython3",
   "version": "3.10.13"
  }
 },
 "nbformat": 4,
 "nbformat_minor": 4
}
