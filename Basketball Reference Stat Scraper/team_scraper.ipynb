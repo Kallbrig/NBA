{
 "cells": [
  {
   "cell_type": "code",
   "execution_count": 1,
   "outputs": [],
   "source": [
    "import pandas as pd\n",
    "import requests\n",
    "from datetime import datetime\n"
   ],
   "metadata": {
    "collapsed": false,
    "pycharm": {
     "name": "#%%\n"
    }
   }
  },
  {
   "cell_type": "code",
   "execution_count": 2,
   "outputs": [],
   "source": [
    "def remove_multiindex(df:pd.DataFrame):\n",
    "\treturn df.droplevel(level=0,axis=1)"
   ],
   "metadata": {
    "collapsed": false,
    "pycharm": {
     "name": "#%%\n"
    }
   }
  },
  {
   "cell_type": "code",
   "execution_count": 3,
   "outputs": [],
   "source": [
    "# link for extract html data\n",
    "def getdata(url):\n",
    "    r = requests.get(url)\n",
    "    return r.text\n",
    "\n"
   ],
   "metadata": {
    "collapsed": false,
    "pycharm": {
     "name": "#%%\n"
    }
   }
  },
  {
   "cell_type": "code",
   "execution_count": 32,
   "outputs": [
    {
     "name": "stdout",
     "output_type": "stream",
     "text": [
      "1980 Complete\n",
      "1981 Complete\n",
      "1982 Complete\n",
      "1983 Complete\n",
      "1984 Complete\n",
      "1985 Complete\n",
      "1986 Complete\n",
      "1987 Complete\n",
      "1988 Complete\n",
      "1989 Complete\n",
      "1990 Complete\n",
      "1991 Complete\n",
      "1992 Complete\n",
      "1993 Complete\n",
      "1994 Complete\n",
      "1995 Complete\n",
      "1996 Complete\n",
      "1997 Complete\n",
      "1998 Complete\n",
      "1999 Complete\n",
      "2000 Complete\n",
      "2001 Complete\n",
      "2002 Complete\n",
      "2003 Complete\n",
      "2004 Complete\n",
      "2005 Complete\n",
      "2006 Complete\n",
      "2007 Complete\n",
      "2008 Complete\n",
      "2009 Complete\n",
      "2010 Complete\n",
      "2011 Complete\n",
      "2012 Complete\n",
      "2013 Complete\n",
      "2014 Complete\n",
      "2015 Complete\n",
      "2016 Complete\n",
      "2017 Complete\n",
      "2018 Complete\n",
      "2019 Complete\n",
      "2020 Complete\n",
      "2021 Complete\n",
      "2022 Complete\n"
     ]
    }
   ],
   "source": [
    "full_df_list = pd.DataFrame(columns=[ 'Team', 'G', 'MP', 'FG', 'FGA', 'FG%', '3P', '3PA', '3P%', '2P',\n",
    "\t\t   '2PA', '2P%', 'FT', 'FTA', 'FT%', 'ORB', 'DRB', 'TRB', 'AST', 'STL',\n",
    "\t\t   'BLK', 'TOV', 'PF', 'PTS', 'Age', 'W', 'L', 'MOV',\n",
    "\t\t   'SOS', 'SRS', 'ORtg', 'DRtg', 'NRtg', 'Pace', 'FTr', '3PAr', 'TS%',])\n",
    "\n",
    "\n",
    "for year in range(1980,datetime.now().year + 1):\n",
    "\n",
    "\thtmldata = getdata(f\"https://www.basketball-reference.com/leagues/NBA_{year}.html\")\n",
    "\tdf_list = pd.read_html(htmldata)\n",
    "\n",
    "\tif year <= 2015:\n",
    "\t\tper_game_stat = df_list[3].copy()\n",
    "\n",
    "\t\tadv_stat = df_list[8].copy()\n",
    "\telse:\n",
    "\t\tper_game_stat = df_list[4].copy()\n",
    "\n",
    "\t\tadv_stat = df_list[10].copy()\n",
    "\n",
    "\tnew = pd.merge(per_game_stat,adv_stat.droplevel(level=0,axis=1),on='Team')\n",
    "\n",
    "\tnew = new[[ 'Team', 'G', 'MP', 'FG', 'FGA', 'FG%', '3P', '3PA', '3P%', '2P',\n",
    "\t\t   '2PA', '2P%', 'FT', 'FTA', 'FT%', 'ORB', 'DRB', 'TRB', 'AST', 'STL',\n",
    "\t\t   'BLK', 'TOV', 'PF', 'PTS', 'Age', 'W', 'L', 'MOV',\n",
    "\t\t   'SOS', 'SRS', 'ORtg', 'DRtg', 'NRtg', 'Pace', 'FTr', '3PAr', 'TS%',]].sort_values('W',ascending=False).reset_index(drop=True)\n",
    "\n",
    "\tnew['Year'] = year\n",
    "\n",
    "\tnew.loc[new['Team'] == 'League Average','Team'] = f'League Average {year}'\n",
    "\n",
    "\tnew.to_csv(f'team_stats/{year}_tm_stats.csv')\n",
    "\tfull_df_list = full_df_list.append(new)\n",
    "\n",
    "\tprint(year,'Complete')\n",
    "\n",
    "\n",
    "full_df_list.to_csv('team_stats/all.csv')"
   ],
   "metadata": {
    "collapsed": false,
    "pycharm": {
     "name": "#%%\n"
    }
   }
  },
  {
   "cell_type": "code",
   "execution_count": 34,
   "outputs": [],
   "source": [
    "full_df_list.to_csv('../Data/Team Data/Combined/league_stats.csv')"
   ],
   "metadata": {
    "collapsed": false,
    "pycharm": {
     "name": "#%%\n"
    }
   }
  },
  {
   "cell_type": "code",
   "execution_count": null,
   "outputs": [],
   "source": [],
   "metadata": {
    "collapsed": false,
    "pycharm": {
     "name": "#%%\n"
    }
   }
  }
 ],
 "metadata": {
  "kernelspec": {
   "display_name": "Python 3",
   "language": "python",
   "name": "python3"
  },
  "language_info": {
   "codemirror_mode": {
    "name": "ipython",
    "version": 2
   },
   "file_extension": ".py",
   "mimetype": "text/x-python",
   "name": "python",
   "nbconvert_exporter": "python",
   "pygments_lexer": "ipython2",
   "version": "2.7.6"
  }
 },
 "nbformat": 4,
 "nbformat_minor": 0
}