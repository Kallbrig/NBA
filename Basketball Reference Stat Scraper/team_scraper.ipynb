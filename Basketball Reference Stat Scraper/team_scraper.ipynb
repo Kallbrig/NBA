{
 "cells": [
  {
   "cell_type": "code",
   "execution_count": 418,
   "metadata": {
    "collapsed": true
   },
   "outputs": [],
   "source": [
    "import pandas as pd\n",
    "import requests\n",
    "from bs4 import BeautifulSoup\n",
    "import numpy as np\n",
    "from datetime import datetime\n"
   ]
  },
  {
   "cell_type": "code",
   "execution_count": 419,
   "outputs": [],
   "source": [
    "def remove_multiindex(df:pd.DataFrame):\n",
    "\treturn df.droplevel(level=0,axis=1)"
   ],
   "metadata": {
    "collapsed": false,
    "pycharm": {
     "name": "#%%\n"
    }
   }
  },
  {
   "cell_type": "code",
   "execution_count": 420,
   "outputs": [],
   "source": [
    "# link for extract html data\n",
    "def getdata(url):\n",
    "    r = requests.get(url)\n",
    "    return r.text\n",
    "\n"
   ],
   "metadata": {
    "collapsed": false,
    "pycharm": {
     "name": "#%%\n"
    }
   }
  },
  {
   "cell_type": "code",
   "execution_count": 421,
   "outputs": [
    {
     "name": "stdout",
     "output_type": "stream",
     "text": [
      "1980 Complete\n",
      "1981 Complete\n",
      "1982 Complete\n",
      "1983 Complete\n",
      "1984 Complete\n",
      "1985 Complete\n",
      "1986 Complete\n",
      "1987 Complete\n",
      "1988 Complete\n",
      "1989 Complete\n",
      "1990 Complete\n",
      "1991 Complete\n",
      "1992 Complete\n",
      "1993 Complete\n",
      "1994 Complete\n",
      "1995 Complete\n",
      "1996 Complete\n",
      "1997 Complete\n",
      "1998 Complete\n",
      "1999 Complete\n",
      "2000 Complete\n",
      "2001 Complete\n",
      "2002 Complete\n",
      "2003 Complete\n",
      "2004 Complete\n",
      "2005 Complete\n",
      "2006 Complete\n",
      "2007 Complete\n",
      "2008 Complete\n",
      "2009 Complete\n",
      "2010 Complete\n",
      "2011 Complete\n",
      "2012 Complete\n",
      "2013 Complete\n",
      "2014 Complete\n",
      "2015 Complete\n",
      "2016 Complete\n",
      "2017 Complete\n",
      "2018 Complete\n",
      "2019 Complete\n",
      "2020 Complete\n",
      "2021 Complete\n",
      "2022 Complete\n"
     ]
    }
   ],
   "source": [
    "for year in range(1980,datetime.now().year + 1):\n",
    "\n",
    "\thtmldata = getdata(f\"https://www.basketball-reference.com/leagues/NBA_{year}.html\")\n",
    "\tdf_list = pd.read_html(htmldata)\n",
    "\n",
    "\tper_game_stat = df_list[4].copy()\n",
    "\n",
    "\tif year <= 2015:\n",
    "\t\tadv_stat = df_list[8].copy()\n",
    "\telse:\n",
    "\t\tadv_stat = df_list[10].copy()\n",
    "\n",
    "\tnew = pd.merge(per_game_stat,adv_stat.droplevel(level=0,axis=1),on='Team')\n",
    "\n",
    "\tnew = new[[ 'Team', 'G', 'MP', 'FG', 'FGA', 'FG%', '3P', '3PA', '3P%', '2P',\n",
    "\t\t   '2PA', '2P%', 'FT', 'FTA', 'FT%', 'ORB', 'DRB', 'TRB', 'AST', 'STL',\n",
    "\t\t   'BLK', 'TOV', 'PF', 'PTS', 'Age', 'W', 'L', 'MOV',\n",
    "\t\t   'SOS', 'SRS', 'ORtg', 'DRtg', 'NRtg', 'Pace', 'FTr', '3PAr', 'TS%',]].sort_values('W',ascending=False).reset_index(drop=True)\n",
    "\n",
    "\tnew.loc[new['Team'] == 'League Average','Team'] = f'League Average {year}'\n",
    "\n",
    "\tnew.to_csv(f'team_stats/{year}_tm_stats.csv')\n",
    "\tprint(year,'Complete')\n",
    "\n"
   ],
   "metadata": {
    "collapsed": false,
    "pycharm": {
     "name": "#%%\n"
    }
   }
  },
  {
   "cell_type": "code",
   "execution_count": 415,
   "outputs": [
    {
     "data": {
      "text/plain": "                       Team   G     MP    FG   FGA    FG%   3P  3PA    3P%  \\\n0           Boston Celtics*  82  19880  3617  7387  0.490  162  422  0.384   \n1       Los Angeles Lakers*  82  19880  3898  7368  0.529   20  100  0.200   \n2       Philadelphia 76ers*  82  19855  3523  7156  0.492   27  125  0.216   \n3      Seattle SuperSonics*  82  19830  3554  7565  0.470   59  189  0.312   \n4             Phoenix Suns*  82  19755  3570  7235  0.493   68  280  0.243   \n5            Atlanta Hawks*  82  19780  3261  7027  0.464   13   75  0.173   \n6          Milwaukee Bucks*  82  19805  3685  7553  0.488   50  155  0.323   \n7        Kansas City Kings*  82  19805  3582  7489  0.478   25  114  0.219   \n8        San Antonio Spurs*  82  19755  3856  7738  0.498   52  206  0.252   \n9          Houston Rockets*  82  19930  3599  7496  0.480  104  379  0.274   \n10          New York Knicks  82  19780  3802  7672  0.496   42  191  0.220   \n11      Washington Bullets*  82  19880  3574  7796  0.458   73  238  0.307   \n12  Portland Trail Blazers*  82  19780  3408  7167  0.476   26  132  0.197   \n13           Indiana Pacers  82  19855  3639  7689  0.473   88  314  0.280   \n14      Cleveland Cavaliers  82  19930  3811  8041  0.474   36  187  0.193   \n15       San Diego Clippers  82  19755  3524  7494  0.470  177  543  0.326   \n16          New Jersey Nets  82  19805  3456  7504  0.461   85  298  0.285   \n17           Denver Nuggets  82  19830  3462  7470  0.463   83  255  0.325   \n18            Chicago Bulls  82  19905  3362  6943  0.484   70  275  0.255   \n19    Golden State Warriors  82  19880  3527  7318  0.482   27  121  0.223   \n20                Utah Jazz  82  19805  3382  6817  0.496   59  185  0.319   \n21          Detroit Pistons  82  19780  3643  7596  0.480   57  219  0.260   \n22      League Average 1980  82  19830  3579  7433  0.481   64  227  0.280   \n\n      2P  ...   MOV   SOS   SRS   ORtg   DRtg  NRtg   Pace    FTr   3PAr  \\\n0   3455  ...  7.79 -0.42  7.37  109.4  101.9   7.5  102.6  0.332  0.057   \n1   3878  ...  5.90 -0.51  5.40  109.5  103.9   5.6  104.1  0.284  0.014   \n2   3496  ...  4.22 -0.18  4.04  105.0  101.0   4.0  103.0  0.340  0.017   \n3   3495  ...  4.66 -0.42  4.24  105.8  101.2   4.6  101.8  0.298  0.025   \n4   3502  ...  3.60 -0.35  3.25  105.6  102.2   3.4  104.8  0.341  0.039   \n5   3248  ...  2.91 -0.09  2.83  105.2  102.3   2.9   98.9  0.376  0.011   \n6   3635  ...  3.94 -0.37  3.57  106.8  102.9   3.9  102.4  0.278  0.021   \n7   3557  ...  3.13 -0.32  2.82  104.0  101.0   3.0  103.2  0.300  0.015   \n8   3804  ... -0.38  0.13 -0.24  108.6  109.0  -0.4  109.5  0.327  0.027   \n9   3495  ...  0.17  0.10  0.27  108.1  108.0   0.1  101.2  0.310  0.051   \n10  3760  ... -1.15  0.19 -0.96  106.5  107.5  -1.0  106.5  0.296  0.025   \n11  3501  ... -2.55  0.28 -2.27  103.2  105.7  -2.5  102.6  0.263  0.031   \n12  3382  ... -0.82 -0.05 -0.87  103.4  104.3  -0.9   98.6  0.293  0.018   \n13  3551  ... -0.70  0.16 -0.54  105.5  106.2  -0.7  104.4  0.303  0.041   \n14  3775  ...  0.34  0.09  0.43  106.7  106.4   0.3  105.6  0.274  0.023   \n15  3347  ... -4.15  0.18 -3.97  105.7  109.8  -4.1  101.4  0.289  0.072   \n16  3371  ... -1.17  0.19 -0.98  101.5  102.5  -1.0  106.1  0.321  0.040   \n17  3379  ... -4.41  0.20 -4.22  103.4  107.6  -4.2  103.9  0.340  0.034   \n18  3292  ... -2.71  0.08 -2.63  104.3  107.0  -2.7  101.8  0.373  0.040   \n19  3500  ... -4.39  0.20 -4.20  102.0  106.3  -4.3  100.5  0.262  0.017   \n20  3323  ... -6.01  0.31 -5.71  104.2  110.4  -6.2   97.6  0.285  0.027   \n21  3586  ... -8.24  0.67 -7.57  101.2  108.8  -7.6  107.1  0.283  0.029   \n22  3515  ...  0.00  0.00  0.00  105.3  105.3   NaN  103.1  0.307  0.031   \n\n      TS%  \n0   0.550  \n1   0.569  \n2   0.544  \n3   0.520  \n4   0.548  \n5   0.523  \n6   0.532  \n7   0.522  \n8   0.553  \n9   0.533  \n10  0.539  \n11  0.504  \n12  0.519  \n13  0.523  \n14  0.519  \n15  0.522  \n16  0.518  \n17  0.517  \n18  0.545  \n19  0.520  \n20  0.547  \n21  0.523  \n22  0.531  \n\n[23 rows x 37 columns]",
      "text/html": "<div>\n<style scoped>\n    .dataframe tbody tr th:only-of-type {\n        vertical-align: middle;\n    }\n\n    .dataframe tbody tr th {\n        vertical-align: top;\n    }\n\n    .dataframe thead th {\n        text-align: right;\n    }\n</style>\n<table border=\"1\" class=\"dataframe\">\n  <thead>\n    <tr style=\"text-align: right;\">\n      <th></th>\n      <th>Team</th>\n      <th>G</th>\n      <th>MP</th>\n      <th>FG</th>\n      <th>FGA</th>\n      <th>FG%</th>\n      <th>3P</th>\n      <th>3PA</th>\n      <th>3P%</th>\n      <th>2P</th>\n      <th>...</th>\n      <th>MOV</th>\n      <th>SOS</th>\n      <th>SRS</th>\n      <th>ORtg</th>\n      <th>DRtg</th>\n      <th>NRtg</th>\n      <th>Pace</th>\n      <th>FTr</th>\n      <th>3PAr</th>\n      <th>TS%</th>\n    </tr>\n  </thead>\n  <tbody>\n    <tr>\n      <th>0</th>\n      <td>Boston Celtics*</td>\n      <td>82</td>\n      <td>19880</td>\n      <td>3617</td>\n      <td>7387</td>\n      <td>0.490</td>\n      <td>162</td>\n      <td>422</td>\n      <td>0.384</td>\n      <td>3455</td>\n      <td>...</td>\n      <td>7.79</td>\n      <td>-0.42</td>\n      <td>7.37</td>\n      <td>109.4</td>\n      <td>101.9</td>\n      <td>7.5</td>\n      <td>102.6</td>\n      <td>0.332</td>\n      <td>0.057</td>\n      <td>0.550</td>\n    </tr>\n    <tr>\n      <th>1</th>\n      <td>Los Angeles Lakers*</td>\n      <td>82</td>\n      <td>19880</td>\n      <td>3898</td>\n      <td>7368</td>\n      <td>0.529</td>\n      <td>20</td>\n      <td>100</td>\n      <td>0.200</td>\n      <td>3878</td>\n      <td>...</td>\n      <td>5.90</td>\n      <td>-0.51</td>\n      <td>5.40</td>\n      <td>109.5</td>\n      <td>103.9</td>\n      <td>5.6</td>\n      <td>104.1</td>\n      <td>0.284</td>\n      <td>0.014</td>\n      <td>0.569</td>\n    </tr>\n    <tr>\n      <th>2</th>\n      <td>Philadelphia 76ers*</td>\n      <td>82</td>\n      <td>19855</td>\n      <td>3523</td>\n      <td>7156</td>\n      <td>0.492</td>\n      <td>27</td>\n      <td>125</td>\n      <td>0.216</td>\n      <td>3496</td>\n      <td>...</td>\n      <td>4.22</td>\n      <td>-0.18</td>\n      <td>4.04</td>\n      <td>105.0</td>\n      <td>101.0</td>\n      <td>4.0</td>\n      <td>103.0</td>\n      <td>0.340</td>\n      <td>0.017</td>\n      <td>0.544</td>\n    </tr>\n    <tr>\n      <th>3</th>\n      <td>Seattle SuperSonics*</td>\n      <td>82</td>\n      <td>19830</td>\n      <td>3554</td>\n      <td>7565</td>\n      <td>0.470</td>\n      <td>59</td>\n      <td>189</td>\n      <td>0.312</td>\n      <td>3495</td>\n      <td>...</td>\n      <td>4.66</td>\n      <td>-0.42</td>\n      <td>4.24</td>\n      <td>105.8</td>\n      <td>101.2</td>\n      <td>4.6</td>\n      <td>101.8</td>\n      <td>0.298</td>\n      <td>0.025</td>\n      <td>0.520</td>\n    </tr>\n    <tr>\n      <th>4</th>\n      <td>Phoenix Suns*</td>\n      <td>82</td>\n      <td>19755</td>\n      <td>3570</td>\n      <td>7235</td>\n      <td>0.493</td>\n      <td>68</td>\n      <td>280</td>\n      <td>0.243</td>\n      <td>3502</td>\n      <td>...</td>\n      <td>3.60</td>\n      <td>-0.35</td>\n      <td>3.25</td>\n      <td>105.6</td>\n      <td>102.2</td>\n      <td>3.4</td>\n      <td>104.8</td>\n      <td>0.341</td>\n      <td>0.039</td>\n      <td>0.548</td>\n    </tr>\n    <tr>\n      <th>5</th>\n      <td>Atlanta Hawks*</td>\n      <td>82</td>\n      <td>19780</td>\n      <td>3261</td>\n      <td>7027</td>\n      <td>0.464</td>\n      <td>13</td>\n      <td>75</td>\n      <td>0.173</td>\n      <td>3248</td>\n      <td>...</td>\n      <td>2.91</td>\n      <td>-0.09</td>\n      <td>2.83</td>\n      <td>105.2</td>\n      <td>102.3</td>\n      <td>2.9</td>\n      <td>98.9</td>\n      <td>0.376</td>\n      <td>0.011</td>\n      <td>0.523</td>\n    </tr>\n    <tr>\n      <th>6</th>\n      <td>Milwaukee Bucks*</td>\n      <td>82</td>\n      <td>19805</td>\n      <td>3685</td>\n      <td>7553</td>\n      <td>0.488</td>\n      <td>50</td>\n      <td>155</td>\n      <td>0.323</td>\n      <td>3635</td>\n      <td>...</td>\n      <td>3.94</td>\n      <td>-0.37</td>\n      <td>3.57</td>\n      <td>106.8</td>\n      <td>102.9</td>\n      <td>3.9</td>\n      <td>102.4</td>\n      <td>0.278</td>\n      <td>0.021</td>\n      <td>0.532</td>\n    </tr>\n    <tr>\n      <th>7</th>\n      <td>Kansas City Kings*</td>\n      <td>82</td>\n      <td>19805</td>\n      <td>3582</td>\n      <td>7489</td>\n      <td>0.478</td>\n      <td>25</td>\n      <td>114</td>\n      <td>0.219</td>\n      <td>3557</td>\n      <td>...</td>\n      <td>3.13</td>\n      <td>-0.32</td>\n      <td>2.82</td>\n      <td>104.0</td>\n      <td>101.0</td>\n      <td>3.0</td>\n      <td>103.2</td>\n      <td>0.300</td>\n      <td>0.015</td>\n      <td>0.522</td>\n    </tr>\n    <tr>\n      <th>8</th>\n      <td>San Antonio Spurs*</td>\n      <td>82</td>\n      <td>19755</td>\n      <td>3856</td>\n      <td>7738</td>\n      <td>0.498</td>\n      <td>52</td>\n      <td>206</td>\n      <td>0.252</td>\n      <td>3804</td>\n      <td>...</td>\n      <td>-0.38</td>\n      <td>0.13</td>\n      <td>-0.24</td>\n      <td>108.6</td>\n      <td>109.0</td>\n      <td>-0.4</td>\n      <td>109.5</td>\n      <td>0.327</td>\n      <td>0.027</td>\n      <td>0.553</td>\n    </tr>\n    <tr>\n      <th>9</th>\n      <td>Houston Rockets*</td>\n      <td>82</td>\n      <td>19930</td>\n      <td>3599</td>\n      <td>7496</td>\n      <td>0.480</td>\n      <td>104</td>\n      <td>379</td>\n      <td>0.274</td>\n      <td>3495</td>\n      <td>...</td>\n      <td>0.17</td>\n      <td>0.10</td>\n      <td>0.27</td>\n      <td>108.1</td>\n      <td>108.0</td>\n      <td>0.1</td>\n      <td>101.2</td>\n      <td>0.310</td>\n      <td>0.051</td>\n      <td>0.533</td>\n    </tr>\n    <tr>\n      <th>10</th>\n      <td>New York Knicks</td>\n      <td>82</td>\n      <td>19780</td>\n      <td>3802</td>\n      <td>7672</td>\n      <td>0.496</td>\n      <td>42</td>\n      <td>191</td>\n      <td>0.220</td>\n      <td>3760</td>\n      <td>...</td>\n      <td>-1.15</td>\n      <td>0.19</td>\n      <td>-0.96</td>\n      <td>106.5</td>\n      <td>107.5</td>\n      <td>-1.0</td>\n      <td>106.5</td>\n      <td>0.296</td>\n      <td>0.025</td>\n      <td>0.539</td>\n    </tr>\n    <tr>\n      <th>11</th>\n      <td>Washington Bullets*</td>\n      <td>82</td>\n      <td>19880</td>\n      <td>3574</td>\n      <td>7796</td>\n      <td>0.458</td>\n      <td>73</td>\n      <td>238</td>\n      <td>0.307</td>\n      <td>3501</td>\n      <td>...</td>\n      <td>-2.55</td>\n      <td>0.28</td>\n      <td>-2.27</td>\n      <td>103.2</td>\n      <td>105.7</td>\n      <td>-2.5</td>\n      <td>102.6</td>\n      <td>0.263</td>\n      <td>0.031</td>\n      <td>0.504</td>\n    </tr>\n    <tr>\n      <th>12</th>\n      <td>Portland Trail Blazers*</td>\n      <td>82</td>\n      <td>19780</td>\n      <td>3408</td>\n      <td>7167</td>\n      <td>0.476</td>\n      <td>26</td>\n      <td>132</td>\n      <td>0.197</td>\n      <td>3382</td>\n      <td>...</td>\n      <td>-0.82</td>\n      <td>-0.05</td>\n      <td>-0.87</td>\n      <td>103.4</td>\n      <td>104.3</td>\n      <td>-0.9</td>\n      <td>98.6</td>\n      <td>0.293</td>\n      <td>0.018</td>\n      <td>0.519</td>\n    </tr>\n    <tr>\n      <th>13</th>\n      <td>Indiana Pacers</td>\n      <td>82</td>\n      <td>19855</td>\n      <td>3639</td>\n      <td>7689</td>\n      <td>0.473</td>\n      <td>88</td>\n      <td>314</td>\n      <td>0.280</td>\n      <td>3551</td>\n      <td>...</td>\n      <td>-0.70</td>\n      <td>0.16</td>\n      <td>-0.54</td>\n      <td>105.5</td>\n      <td>106.2</td>\n      <td>-0.7</td>\n      <td>104.4</td>\n      <td>0.303</td>\n      <td>0.041</td>\n      <td>0.523</td>\n    </tr>\n    <tr>\n      <th>14</th>\n      <td>Cleveland Cavaliers</td>\n      <td>82</td>\n      <td>19930</td>\n      <td>3811</td>\n      <td>8041</td>\n      <td>0.474</td>\n      <td>36</td>\n      <td>187</td>\n      <td>0.193</td>\n      <td>3775</td>\n      <td>...</td>\n      <td>0.34</td>\n      <td>0.09</td>\n      <td>0.43</td>\n      <td>106.7</td>\n      <td>106.4</td>\n      <td>0.3</td>\n      <td>105.6</td>\n      <td>0.274</td>\n      <td>0.023</td>\n      <td>0.519</td>\n    </tr>\n    <tr>\n      <th>15</th>\n      <td>San Diego Clippers</td>\n      <td>82</td>\n      <td>19755</td>\n      <td>3524</td>\n      <td>7494</td>\n      <td>0.470</td>\n      <td>177</td>\n      <td>543</td>\n      <td>0.326</td>\n      <td>3347</td>\n      <td>...</td>\n      <td>-4.15</td>\n      <td>0.18</td>\n      <td>-3.97</td>\n      <td>105.7</td>\n      <td>109.8</td>\n      <td>-4.1</td>\n      <td>101.4</td>\n      <td>0.289</td>\n      <td>0.072</td>\n      <td>0.522</td>\n    </tr>\n    <tr>\n      <th>16</th>\n      <td>New Jersey Nets</td>\n      <td>82</td>\n      <td>19805</td>\n      <td>3456</td>\n      <td>7504</td>\n      <td>0.461</td>\n      <td>85</td>\n      <td>298</td>\n      <td>0.285</td>\n      <td>3371</td>\n      <td>...</td>\n      <td>-1.17</td>\n      <td>0.19</td>\n      <td>-0.98</td>\n      <td>101.5</td>\n      <td>102.5</td>\n      <td>-1.0</td>\n      <td>106.1</td>\n      <td>0.321</td>\n      <td>0.040</td>\n      <td>0.518</td>\n    </tr>\n    <tr>\n      <th>17</th>\n      <td>Denver Nuggets</td>\n      <td>82</td>\n      <td>19830</td>\n      <td>3462</td>\n      <td>7470</td>\n      <td>0.463</td>\n      <td>83</td>\n      <td>255</td>\n      <td>0.325</td>\n      <td>3379</td>\n      <td>...</td>\n      <td>-4.41</td>\n      <td>0.20</td>\n      <td>-4.22</td>\n      <td>103.4</td>\n      <td>107.6</td>\n      <td>-4.2</td>\n      <td>103.9</td>\n      <td>0.340</td>\n      <td>0.034</td>\n      <td>0.517</td>\n    </tr>\n    <tr>\n      <th>18</th>\n      <td>Chicago Bulls</td>\n      <td>82</td>\n      <td>19905</td>\n      <td>3362</td>\n      <td>6943</td>\n      <td>0.484</td>\n      <td>70</td>\n      <td>275</td>\n      <td>0.255</td>\n      <td>3292</td>\n      <td>...</td>\n      <td>-2.71</td>\n      <td>0.08</td>\n      <td>-2.63</td>\n      <td>104.3</td>\n      <td>107.0</td>\n      <td>-2.7</td>\n      <td>101.8</td>\n      <td>0.373</td>\n      <td>0.040</td>\n      <td>0.545</td>\n    </tr>\n    <tr>\n      <th>19</th>\n      <td>Golden State Warriors</td>\n      <td>82</td>\n      <td>19880</td>\n      <td>3527</td>\n      <td>7318</td>\n      <td>0.482</td>\n      <td>27</td>\n      <td>121</td>\n      <td>0.223</td>\n      <td>3500</td>\n      <td>...</td>\n      <td>-4.39</td>\n      <td>0.20</td>\n      <td>-4.20</td>\n      <td>102.0</td>\n      <td>106.3</td>\n      <td>-4.3</td>\n      <td>100.5</td>\n      <td>0.262</td>\n      <td>0.017</td>\n      <td>0.520</td>\n    </tr>\n    <tr>\n      <th>20</th>\n      <td>Utah Jazz</td>\n      <td>82</td>\n      <td>19805</td>\n      <td>3382</td>\n      <td>6817</td>\n      <td>0.496</td>\n      <td>59</td>\n      <td>185</td>\n      <td>0.319</td>\n      <td>3323</td>\n      <td>...</td>\n      <td>-6.01</td>\n      <td>0.31</td>\n      <td>-5.71</td>\n      <td>104.2</td>\n      <td>110.4</td>\n      <td>-6.2</td>\n      <td>97.6</td>\n      <td>0.285</td>\n      <td>0.027</td>\n      <td>0.547</td>\n    </tr>\n    <tr>\n      <th>21</th>\n      <td>Detroit Pistons</td>\n      <td>82</td>\n      <td>19780</td>\n      <td>3643</td>\n      <td>7596</td>\n      <td>0.480</td>\n      <td>57</td>\n      <td>219</td>\n      <td>0.260</td>\n      <td>3586</td>\n      <td>...</td>\n      <td>-8.24</td>\n      <td>0.67</td>\n      <td>-7.57</td>\n      <td>101.2</td>\n      <td>108.8</td>\n      <td>-7.6</td>\n      <td>107.1</td>\n      <td>0.283</td>\n      <td>0.029</td>\n      <td>0.523</td>\n    </tr>\n    <tr>\n      <th>22</th>\n      <td>League Average 1980</td>\n      <td>82</td>\n      <td>19830</td>\n      <td>3579</td>\n      <td>7433</td>\n      <td>0.481</td>\n      <td>64</td>\n      <td>227</td>\n      <td>0.280</td>\n      <td>3515</td>\n      <td>...</td>\n      <td>0.00</td>\n      <td>0.00</td>\n      <td>0.00</td>\n      <td>105.3</td>\n      <td>105.3</td>\n      <td>NaN</td>\n      <td>103.1</td>\n      <td>0.307</td>\n      <td>0.031</td>\n      <td>0.531</td>\n    </tr>\n  </tbody>\n</table>\n<p>23 rows × 37 columns</p>\n</div>"
     },
     "execution_count": 415,
     "metadata": {},
     "output_type": "execute_result"
    }
   ],
   "source": [],
   "metadata": {
    "collapsed": false,
    "pycharm": {
     "name": "#%%\n"
    }
   }
  },
  {
   "cell_type": "code",
   "execution_count": null,
   "outputs": [],
   "source": [],
   "metadata": {
    "collapsed": false,
    "pycharm": {
     "name": "#%%\n"
    }
   }
  }
 ],
 "metadata": {
  "kernelspec": {
   "display_name": "Python 3",
   "language": "python",
   "name": "python3"
  },
  "language_info": {
   "codemirror_mode": {
    "name": "ipython",
    "version": 2
   },
   "file_extension": ".py",
   "mimetype": "text/x-python",
   "name": "python",
   "nbconvert_exporter": "python",
   "pygments_lexer": "ipython2",
   "version": "2.7.6"
  }
 },
 "nbformat": 4,
 "nbformat_minor": 0
}