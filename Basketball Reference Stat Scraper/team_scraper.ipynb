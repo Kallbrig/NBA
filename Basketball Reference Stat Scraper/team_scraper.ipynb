{
 "cells": [
  {
   "cell_type": "code",
   "execution_count": 5,
   "metadata": {
    "collapsed": false,
    "jupyter": {
     "outputs_hidden": false
    },
    "pycharm": {
     "name": "#%%\n"
    }
   },
   "outputs": [],
   "source": [
    "import pandas as pd\n",
    "import requests\n",
    "from datetime import datetime\n",
    "import os\n"
   ]
  },
  {
   "cell_type": "code",
   "execution_count": 6,
   "metadata": {
    "collapsed": false,
    "jupyter": {
     "outputs_hidden": false
    },
    "pycharm": {
     "name": "#%%\n"
    }
   },
   "outputs": [],
   "source": [
    "def remove_multiindex(df:pd.DataFrame):\n",
    "\treturn df.droplevel(level=0,axis=1)"
   ]
  },
  {
   "cell_type": "code",
   "execution_count": 7,
   "metadata": {
    "collapsed": false,
    "jupyter": {
     "outputs_hidden": false
    },
    "pycharm": {
     "name": "#%%\n"
    }
   },
   "outputs": [],
   "source": [
    "# link for extract html data\n",
    "def getdata(url):\n",
    "    r = requests.get(url)\n",
    "    return r.text\n",
    "\n",
    "def get_nba_season_year(date=None):\n",
    "    if date is None:\n",
    "        date = datetime.now()\n",
    "    return date.year + 1 if date.month >= 10 else date.year"
   ]
  },
  {
   "cell_type": "code",
   "execution_count": 8,
   "metadata": {
    "collapsed": false,
    "jupyter": {
     "outputs_hidden": false
    },
    "pycharm": {
     "name": "#%%\n"
    }
   },
   "outputs": [
    {
     "name": "stdout",
     "output_type": "stream",
     "text": [
      "Fetching 1980\n",
      "1980 Complete\n",
      "Fetching 1981\n",
      "1981 Complete\n",
      "Fetching 1982\n",
      "1982 Complete\n",
      "Fetching 1983\n",
      "1983 Complete\n",
      "Fetching 1984\n",
      "1984 Complete\n",
      "Fetching 1985\n",
      "1985 Complete\n",
      "Fetching 1986\n",
      "1986 Complete\n",
      "Fetching 1987\n",
      "1987 Complete\n",
      "Fetching 1988\n",
      "1988 Complete\n",
      "Fetching 1989\n",
      "1989 Complete\n",
      "Fetching 1990\n",
      "1990 Complete\n",
      "Fetching 1991\n",
      "1991 Complete\n",
      "Fetching 1992\n",
      "1992 Complete\n",
      "Fetching 1993\n",
      "1993 Complete\n",
      "Fetching 1994\n",
      "1994 Complete\n",
      "Fetching 1995\n",
      "1995 Complete\n",
      "Fetching 1996\n",
      "1996 Complete\n",
      "Fetching 1997\n",
      "1997 Complete\n",
      "Fetching 1998\n",
      "1998 Complete\n",
      "Fetching 1999\n",
      "1999 Complete\n",
      "Fetching 2000\n",
      "2000 Complete\n",
      "Fetching 2001\n",
      "2001 Complete\n",
      "Fetching 2002\n",
      "2002 Complete\n",
      "Fetching 2003\n",
      "2003 Complete\n",
      "Fetching 2004\n",
      "2004 Complete\n",
      "Fetching 2005\n",
      "2005 Complete\n",
      "Fetching 2006\n",
      "2006 Complete\n",
      "Fetching 2007\n",
      "2007 Complete\n",
      "Fetching 2008\n",
      "2008 Complete\n",
      "Fetching 2009\n",
      "2009 Complete\n",
      "Fetching 2010\n",
      "2010 Complete\n",
      "Fetching 2011\n",
      "2011 Complete\n",
      "Fetching 2012\n",
      "2012 Complete\n",
      "Fetching 2013\n",
      "2013 Complete\n",
      "Fetching 2014\n",
      "2014 Complete\n",
      "Fetching 2015\n",
      "2015 Complete\n",
      "Fetching 2016\n",
      "2016 Complete\n",
      "Fetching 2017\n",
      "2017 Complete\n",
      "Fetching 2018\n",
      "2018 Complete\n",
      "Fetching 2019\n",
      "2019 Complete\n",
      "Fetching 2020\n",
      "2020 Complete\n",
      "Fetching 2021\n",
      "2021 Complete\n",
      "Fetching 2022\n",
      "2022 Complete\n",
      "Fetching 2023\n",
      "2023 Complete\n",
      "Fetching 2024\n"
     ]
    },
    {
     "name": "stderr",
     "output_type": "stream",
     "text": [
      "/var/folders/0p/ttyhqytj0zxf3tq1njp37rqw0000gn/T/ipykernel_88687/375069677.py:38: FutureWarning: The behavior of DataFrame concatenation with empty or all-NA entries is deprecated. In a future version, this will no longer exclude empty or all-NA columns when determining the result dtypes. To retain the old behavior, exclude the relevant entries before the concat operation.\n",
      "  full_df_list = pd.concat([full_df_list,new])\n",
      "/var/folders/0p/ttyhqytj0zxf3tq1njp37rqw0000gn/T/ipykernel_88687/375069677.py:15: FutureWarning: Passing literal html to 'read_html' is deprecated and will be removed in a future version. To read from a literal string, wrap it in a 'StringIO' object.\n",
      "  df_list = pd.read_html(htmldata)\n"
     ]
    },
    {
     "name": "stdout",
     "output_type": "stream",
     "text": [
      "2024 Complete\n"
     ]
    }
   ],
   "source": [
    "full_df_list = pd.DataFrame(columns=[ 'Team', 'G', 'MP', 'FG', 'FGA', 'FG%', '3P', '3PA', '3P%', '2P',\n",
    "\t\t   '2PA', '2P%', 'FT', 'FTA', 'FT%', 'ORB', 'DRB', 'TRB', 'AST', 'STL',\n",
    "\t\t   'BLK', 'TOV', 'PF', 'PTS', 'Age', 'W', 'L', 'MOV',\n",
    "\t\t   'SOS', 'SRS', 'ORtg', 'DRtg', 'NRtg', 'Pace', 'FTr', '3PAr', 'TS%',])\n",
    "\n",
    "\n",
    "for year in range(1980,get_nba_season_year() + 1):\n",
    "\tprint('Fetching',year)\n",
    "\n",
    "\tif os.path.exists(f'team_stats/{year}_tm_stats.csv'):\n",
    "\t\tnew = pd.read_csv(f'team_stats/{year}_tm_stats.csv')\n",
    "\telse:\n",
    "\n",
    "\t\thtmldata = getdata(f\"https://www.basketball-reference.com/leagues/NBA_{year}.html\")\n",
    "\t\tdf_list = pd.read_html(htmldata)\n",
    "\n",
    "\t\tif year <= 2015:\n",
    "\t\t\tper_game_stat = df_list[3].copy()\n",
    "\n",
    "\t\t\tadv_stat = df_list[8].copy()\n",
    "\t\telse:\n",
    "\t\t\tper_game_stat = df_list[4].copy()\n",
    "\n",
    "\t\t\tadv_stat = df_list[10].copy()\n",
    "\n",
    "\t\tnew = pd.merge(per_game_stat,adv_stat.droplevel(level=0,axis=1),on='Team')\n",
    "\n",
    "\t\tnew = new[[ 'Team', 'G', 'MP', 'FG', 'FGA', 'FG%', '3P', '3PA', '3P%', '2P',\n",
    "\t\t   '2PA', '2P%', 'FT', 'FTA', 'FT%', 'ORB', 'DRB', 'TRB', 'AST', 'STL',\n",
    "\t\t   'BLK', 'TOV', 'PF', 'PTS', 'Age', 'W', 'L', 'MOV',\n",
    "\t\t   'SOS', 'SRS', 'ORtg', 'DRtg', 'NRtg', 'Pace', 'FTr', '3PAr', 'TS%',]].sort_values('W',ascending=False).reset_index(drop=True)\n",
    "\n",
    "\t\tnew['Year'] = year\n",
    "\n",
    "\t\tnew.loc[new['Team'] == 'League Average','Team'] = f'League Average {year}'\n",
    "\n",
    "\t\tnew.to_csv(f'team_stats/{year}_tm_stats.csv')\n",
    "\tfull_df_list = pd.concat([full_df_list,new])\n",
    "\n",
    "\tprint(year,'Complete')\n",
    "\n",
    "\n",
    "full_df_list.to_csv('team_stats/all.csv')"
   ]
  },
  {
   "cell_type": "code",
   "execution_count": 9,
   "metadata": {
    "collapsed": false,
    "jupyter": {
     "outputs_hidden": false
    },
    "pycharm": {
     "name": "#%%\n"
    }
   },
   "outputs": [],
   "source": [
    "full_df_list.to_csv('../Data/Team Data/Combined/league_stats.csv')"
   ]
  },
  {
   "cell_type": "code",
   "execution_count": null,
   "metadata": {},
   "outputs": [],
   "source": []
  }
 ],
 "metadata": {
  "kernelspec": {
   "display_name": "Python 3 (ipykernel)",
   "language": "python",
   "name": "python3"
  },
  "language_info": {
   "codemirror_mode": {
    "name": "ipython",
    "version": 3
   },
   "file_extension": ".py",
   "mimetype": "text/x-python",
   "name": "python",
   "nbconvert_exporter": "python",
   "pygments_lexer": "ipython3",
   "version": "3.10.13"
  }
 },
 "nbformat": 4,
 "nbformat_minor": 4
}