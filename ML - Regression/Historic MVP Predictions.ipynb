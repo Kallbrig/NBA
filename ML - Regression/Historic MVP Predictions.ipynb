{
 "cells": [
  {
   "cell_type": "code",
   "execution_count": 6,
   "metadata": {
    "collapsed": true
   },
   "outputs": [],
   "source": [
    "import pandas as pd\n",
    "\n",
    "import numpy as np\n",
    "from datetime import datetime\n",
    "from matplotlib import pyplot as plt\n",
    "from sklearn.ensemble import GradientBoostingRegressor\n",
    "from sklearn.linear_model import LinearRegression\n",
    "from sklearn.model_selection import GridSearchCV\n",
    "from sklearn.model_selection import cross_val_score\n",
    "from sklearn.pipeline import Pipeline\n",
    "from sklearn.preprocessing import StandardScaler, MinMaxScaler\n",
    "from sklearn.svm import SVR\n",
    "from sklearn.ensemble import RandomForestRegressor\n",
    "import joblib\n",
    "\n",
    "\n",
    "%matplotlib inline"
   ]
  },
  {
   "cell_type": "code",
   "execution_count": 7,
   "outputs": [],
   "source": [
    "def trim_set(frame):\n",
    "    return frame[((frame['TRB'] > 2) | (frame['AST'] > 5)) & (frame['PTS'] > 15)]\n",
    "    # return frame[((frame['TRB'] > 5) | (frame['AST'] > 5)) & (frame['PTS'] > 15) & (frame['Win%'] > .5)]"
   ],
   "metadata": {
    "collapsed": false,
    "pycharm": {
     "name": "#%%\n"
    }
   }
  },
  {
   "cell_type": "code",
   "execution_count": 34,
   "outputs": [
    {
     "name": "stdout",
     "output_type": "stream",
     "text": [
      "Index(['Year', 'Player', 'Pos', 'Age', 'Tm', 'G', 'GS', 'MP', 'FG', 'FGA',\n",
      "       'FG%', '3P', '3PA', '3P%', '2P', '2PA', '2P%', 'eFG%', 'FT', 'FTA',\n",
      "       'FT%', 'ORB', 'DRB', 'TRB', 'AST', 'STL', 'BLK', 'TOV', 'PF', 'PTS',\n",
      "       'PER', 'TS%', '3PAr', 'FTr', 'ORB%', 'DRB%', 'TRB%', 'AST%', 'STL%',\n",
      "       'BLK%', 'TOV%', 'USG%', 'OWS', 'DWS', 'WS', 'WS/48', 'OBPM', 'DBPM',\n",
      "       'BPM', 'VORP', 'MVP_Rank', 'MVP_First', 'MVP_Pts Won', 'MVP_Pts Max',\n",
      "       'MVP_Share'],\n",
      "      dtype='object')\n"
     ]
    }
   ],
   "source": [
    "df = pd.read_csv('train_set_full.csv', index_col=0)\n",
    "\n",
    "print(df.columns)\n",
    "\n",
    "df = df.drop(columns=['STAR', 'DPOY_Rank', 'DPOY_First', 'DPOY_Pts Won', 'DPOY_Pts Max', 'DPOY_Share',\n",
    "                      'DPOY', 'MIP_Rank', 'MIP_First', 'MIP_Pts Won', 'MIP_Pts Max',\n",
    "                      'MIP_Share', 'MIP', 'MVP_First', 'MVP_Pts Won',\n",
    "                      'MVP_Pts Max', 'ROTY_Rank', 'ROTY_First',\n",
    "                      'ROTY_Pts Won', 'ROTY_Pts Max', 'ROTY_Share', 'ROTY', 'SMOTY_Rank',\n",
    "                      'SMOTY_First', 'SMOTY_Pts Won', 'SMOTY_Pts Max', 'SMOTY_Share',\n",
    "                      'SMOTY'], errors='ignore')\n",
    "\n",
    "df = trim_set(df)\n",
    "\n",
    "df['MVP_Rank'] = df['MVP_Rank'].astype(\"int\")\n",
    "\n"
   ],
   "metadata": {
    "collapsed": false,
    "pycharm": {
     "name": "#%%\n"
    }
   }
  },
  {
   "cell_type": "code",
   "execution_count": 35,
   "outputs": [],
   "source": [
    "import os\n",
    "from datetime import datetime\n",
    "\n",
    "import joblib\n",
    "import pandas as pd\n",
    "from sklearn.preprocessing import MinMaxScaler\n"
   ],
   "metadata": {
    "collapsed": false,
    "pycharm": {
     "name": "#%%\n"
    }
   }
  },
  {
   "cell_type": "code",
   "execution_count": 35,
   "outputs": [],
   "source": [],
   "metadata": {
    "collapsed": false,
    "pycharm": {
     "name": "#%%\n"
    }
   }
  },
  {
   "cell_type": "code",
   "execution_count": 36,
   "outputs": [
    {
     "data": {
      "text/plain": "0      0.665\n7      0.000\n15     0.068\n16     0.000\n23     0.000\n24     0.000\n39     0.000\n55     0.000\n56     0.000\n58     0.000\n59     0.000\n66     0.000\n70     0.000\n74     0.143\n79     0.000\n81     0.000\n85     0.086\n87     0.000\n92     0.000\n101    0.000\n113    0.000\n118    0.009\n119    0.000\n121    0.000\n122    0.000\n123    0.000\n132    0.000\n138    0.000\n148    0.000\n150    0.005\n151    0.000\n153    0.000\n159    0.000\n166    0.000\n167    0.000\n171    0.000\n172    0.000\n185    0.000\n190    0.000\n192    0.000\n195    0.009\n196    0.000\n200    0.000\n202    0.000\n206    0.000\n207    0.000\n215    0.000\n216    0.000\n233    0.000\n234    0.000\n239    0.000\n241    0.000\n242    0.007\n243    0.000\n248    0.000\nName: MVP_Share, dtype: float64"
     },
     "execution_count": 36,
     "metadata": {},
     "output_type": "execute_result"
    }
   ],
   "source": [
    "test_set = df[df['Year'] == 1980]\n",
    "test_set = trim_set(test_set)\n",
    "# test_set\n",
    "\n",
    "\n",
    "y_test = test_set.loc[:,'MVP_Share',]\n",
    "y_test"
   ],
   "metadata": {
    "collapsed": false,
    "pycharm": {
     "name": "#%%\n"
    }
   }
  },
  {
   "cell_type": "code",
   "execution_count": 37,
   "outputs": [
    {
     "data": {
      "text/plain": "0    0.414\n6    0.000\nName: MVP_Share, dtype: float64"
     },
     "execution_count": 37,
     "metadata": {},
     "output_type": "execute_result"
    }
   ],
   "source": [
    "train_set = df[df['Year'] != 1980]\n",
    "train_set = trim_set(train_set)\n",
    "\n",
    "y_train = df.loc[(df['Year'] != 1980),'MVP_Share',]\n",
    "y_train.head(2)"
   ],
   "metadata": {
    "collapsed": false,
    "pycharm": {
     "name": "#%%\n"
    }
   }
  },
  {
   "cell_type": "code",
   "execution_count": 38,
   "outputs": [],
   "source": [
    "\n",
    "feature_list = ['Age', 'G', 'GS', 'MP', 'FG', 'FGA',\n",
    "                'FG%', '3P', '3PA', '3P%', '2P', '2PA', '2P%', 'eFG%', 'FT', 'FTA',\n",
    "                'FT%', 'ORB', 'DRB', 'TRB', 'AST', 'STL', 'BLK', 'TOV', 'PF', 'PTS',\n",
    "                'PER', 'TS%', '3PAr', 'FTr', 'ORB%', 'DRB%', 'TRB%', 'AST%', 'STL%',\n",
    "                'BLK%', 'TOV%', 'USG%', 'OWS', 'DWS', 'WS', 'WS/48', 'OBPM', 'DBPM',\n",
    "                'BPM', 'VORP']"
   ],
   "metadata": {
    "collapsed": false,
    "pycharm": {
     "name": "#%%\n"
    }
   }
  },
  {
   "cell_type": "code",
   "execution_count": 39,
   "outputs": [],
   "source": [
    "x_train = train_set[feature_list]\n",
    "x_test = test_set[feature_list]"
   ],
   "metadata": {
    "collapsed": false,
    "pycharm": {
     "name": "#%%\n"
    }
   }
  },
  {
   "cell_type": "code",
   "execution_count": 40,
   "outputs": [
    {
     "data": {
      "text/plain": "Pipeline(steps=[('feat_selection', SelectPercentile(percentile=60)),\n                ('scaler', MinMaxScaler()), ('reg', RandomForestRegressor())])"
     },
     "execution_count": 40,
     "metadata": {},
     "output_type": "execute_result"
    }
   ],
   "source": [
    "\n",
    "from sklearn.pipeline import Pipeline\n",
    "from sklearn.preprocessing import MinMaxScaler\n",
    "from sklearn.feature_selection import f_regression,SelectKBest,SelectPercentile,chi2\n",
    "\n",
    "# declare a two step pipeline, explicitly giving names to both steps.\n",
    "pipe = Pipeline(\n",
    "\n",
    "    [('feat_selection', SelectPercentile(percentile=60),),('scaler', MinMaxScaler()), ('reg', RandomForestRegressor())])\n",
    "\n",
    "pipe.fit(x_train, y_train)"
   ],
   "metadata": {
    "collapsed": false,
    "pycharm": {
     "name": "#%%\n"
    }
   }
  },
  {
   "cell_type": "code",
   "execution_count": 41,
   "outputs": [],
   "source": [
    "y_pred = pipe.predict(X=x_test)"
   ],
   "metadata": {
    "collapsed": false,
    "pycharm": {
     "name": "#%%\n"
    }
   }
  },
  {
   "cell_type": "code",
   "execution_count": 42,
   "outputs": [],
   "source": [
    "test_set['pred'] = y_pred\n",
    "test_set['pred_scaled'] = MinMaxScaler().fit_transform(y_pred.reshape(-1, 1))\n",
    "test_set['pred_rank'] = test_set.pred.rank(ascending=False).astype(\"int\")\n"
   ],
   "metadata": {
    "collapsed": false,
    "pycharm": {
     "name": "#%%\n"
    }
   }
  },
  {
   "cell_type": "code",
   "execution_count": 42,
   "outputs": [],
   "source": [
    "\n",
    "\n"
   ],
   "metadata": {
    "collapsed": false,
    "pycharm": {
     "name": "#%%\n"
    }
   }
  },
  {
   "cell_type": "code",
   "execution_count": 42,
   "outputs": [],
   "source": [],
   "metadata": {
    "collapsed": false,
    "pycharm": {
     "name": "#%%\n"
    }
   }
  },
  {
   "cell_type": "code",
   "execution_count": 59,
   "outputs": [
    {
     "name": "stdout",
     "output_type": "stream",
     "text": [
      "Kareem Abdul-Jabbar\n",
      "Predicted - 1\n",
      "Actual - 1\n",
      "\n"
     ]
    }
   ],
   "source": [
    "saved = test_set.sort_values('pred_rank', ascending=True).head(10)[\n",
    "    ['pred_rank','MVP_Rank', 'Player', 'G', 'PTS', 'TS%', 'AST', 'TRB', 'STL', 'WS/48', 'pred']].reset_index()\n",
    "\n",
    "# correct_list = []\n",
    "# for i in range (0,5):\n",
    "    # print(saved['pred_rank'].iloc[i] != saved['MVP_Rank'].iloc[i])\n",
    "i = 0\n",
    "print(f'{saved.loc[i,\"Player\"]}\\nPredicted - {saved.loc[i,\"pred_rank\"]}\\nActual - {saved.loc[i,\"MVP_Rank\"]}\\n')\n",
    "# if saved.loc[i,\"pred_rank\"] == saved.loc[i,\"MVP_Rank\"]:\n",
    "#     correct_list.append(True)\n"
   ],
   "metadata": {
    "collapsed": false,
    "pycharm": {
     "name": "#%%\n"
    }
   }
  },
  {
   "cell_type": "code",
   "execution_count": null,
   "outputs": [],
   "source": [
    "if not os.path.isdir(f'Historic Predictions/{datetime.now().strftime(\"%Y\")}'):\n",
    "    os.mkdir(f'Historic Predictions/{datetime.now().strftime(\"%Y\")}')"
   ],
   "metadata": {
    "collapsed": false,
    "pycharm": {
     "name": "#%%\n"
    }
   }
  },
  {
   "cell_type": "code",
   "execution_count": null,
   "outputs": [],
   "source": [
    "saved.to_csv(f'Historic Predictions/{datetime.now().strftime(\"%Y\")}/{datetime.now().strftime(\"%Y%m%d\")}_MVP_Predictions.csv')\n",
    "print(test_set.sort_values('pred_rank', ascending=True).head(10)[\n",
    "          ['pred_rank','Player', 'G', 'PTS', 'FG%', 'AST', 'TRB', 'STL', 'pred']])"
   ],
   "metadata": {
    "collapsed": false,
    "pycharm": {
     "name": "#%%\n"
    }
   }
  },
  {
   "cell_type": "code",
   "execution_count": 61,
   "outputs": [
    {
     "data": {
      "text/plain": "   index  pred_rank  MVP_Rank               Player   G   PTS    TS%  AST  \\\n4    122          5         0      Marques Johnson  77  21.7  0.585  3.5   \n6     81          7         0        World B. Free  68  30.2  0.544  4.2   \n7    151          8         0       Cedric Maxwell  80  16.9  0.679  2.5   \n8     56          9         0       Adrian Dantley  68  28.0  0.635  2.8   \n9    113         10         0            Dan Issel  82  23.8  0.571  2.4   \n0      0          1         1  Kareem Abdul-Jabbar  82  24.8  0.639  4.5   \n1     74          2         2        Julius Erving  78  26.9  0.568  4.6   \n2     85          3         3        George Gervin  78  33.1  0.587  2.6   \n5    242          6         8         Gus Williams  82  22.1  0.529  4.8   \n3    150          4         9         Moses Malone  82  25.8  0.560  1.8   \n\n    TRB  STL  WS/48     pred  \n4   7.4  1.3  0.206  0.08731  \n6   3.5  1.2  0.148  0.05782  \n7   8.8  1.0  0.214  0.05579  \n8   7.6  1.4  0.189  0.03715  \n9   8.8  1.1  0.188  0.03275  \n0  10.8  1.0  0.227  0.40369  \n1   7.4  2.2  0.213  0.39174  \n2   5.2  1.4  0.173  0.14035  \n5   3.4  2.4  0.187  0.07763  \n3  14.5  1.0  0.183  0.11835  ",
      "text/html": "<div>\n<style scoped>\n    .dataframe tbody tr th:only-of-type {\n        vertical-align: middle;\n    }\n\n    .dataframe tbody tr th {\n        vertical-align: top;\n    }\n\n    .dataframe thead th {\n        text-align: right;\n    }\n</style>\n<table border=\"1\" class=\"dataframe\">\n  <thead>\n    <tr style=\"text-align: right;\">\n      <th></th>\n      <th>index</th>\n      <th>pred_rank</th>\n      <th>MVP_Rank</th>\n      <th>Player</th>\n      <th>G</th>\n      <th>PTS</th>\n      <th>TS%</th>\n      <th>AST</th>\n      <th>TRB</th>\n      <th>STL</th>\n      <th>WS/48</th>\n      <th>pred</th>\n    </tr>\n  </thead>\n  <tbody>\n    <tr>\n      <th>4</th>\n      <td>122</td>\n      <td>5</td>\n      <td>0</td>\n      <td>Marques Johnson</td>\n      <td>77</td>\n      <td>21.7</td>\n      <td>0.585</td>\n      <td>3.5</td>\n      <td>7.4</td>\n      <td>1.3</td>\n      <td>0.206</td>\n      <td>0.08731</td>\n    </tr>\n    <tr>\n      <th>6</th>\n      <td>81</td>\n      <td>7</td>\n      <td>0</td>\n      <td>World B. Free</td>\n      <td>68</td>\n      <td>30.2</td>\n      <td>0.544</td>\n      <td>4.2</td>\n      <td>3.5</td>\n      <td>1.2</td>\n      <td>0.148</td>\n      <td>0.05782</td>\n    </tr>\n    <tr>\n      <th>7</th>\n      <td>151</td>\n      <td>8</td>\n      <td>0</td>\n      <td>Cedric Maxwell</td>\n      <td>80</td>\n      <td>16.9</td>\n      <td>0.679</td>\n      <td>2.5</td>\n      <td>8.8</td>\n      <td>1.0</td>\n      <td>0.214</td>\n      <td>0.05579</td>\n    </tr>\n    <tr>\n      <th>8</th>\n      <td>56</td>\n      <td>9</td>\n      <td>0</td>\n      <td>Adrian Dantley</td>\n      <td>68</td>\n      <td>28.0</td>\n      <td>0.635</td>\n      <td>2.8</td>\n      <td>7.6</td>\n      <td>1.4</td>\n      <td>0.189</td>\n      <td>0.03715</td>\n    </tr>\n    <tr>\n      <th>9</th>\n      <td>113</td>\n      <td>10</td>\n      <td>0</td>\n      <td>Dan Issel</td>\n      <td>82</td>\n      <td>23.8</td>\n      <td>0.571</td>\n      <td>2.4</td>\n      <td>8.8</td>\n      <td>1.1</td>\n      <td>0.188</td>\n      <td>0.03275</td>\n    </tr>\n    <tr>\n      <th>0</th>\n      <td>0</td>\n      <td>1</td>\n      <td>1</td>\n      <td>Kareem Abdul-Jabbar</td>\n      <td>82</td>\n      <td>24.8</td>\n      <td>0.639</td>\n      <td>4.5</td>\n      <td>10.8</td>\n      <td>1.0</td>\n      <td>0.227</td>\n      <td>0.40369</td>\n    </tr>\n    <tr>\n      <th>1</th>\n      <td>74</td>\n      <td>2</td>\n      <td>2</td>\n      <td>Julius Erving</td>\n      <td>78</td>\n      <td>26.9</td>\n      <td>0.568</td>\n      <td>4.6</td>\n      <td>7.4</td>\n      <td>2.2</td>\n      <td>0.213</td>\n      <td>0.39174</td>\n    </tr>\n    <tr>\n      <th>2</th>\n      <td>85</td>\n      <td>3</td>\n      <td>3</td>\n      <td>George Gervin</td>\n      <td>78</td>\n      <td>33.1</td>\n      <td>0.587</td>\n      <td>2.6</td>\n      <td>5.2</td>\n      <td>1.4</td>\n      <td>0.173</td>\n      <td>0.14035</td>\n    </tr>\n    <tr>\n      <th>5</th>\n      <td>242</td>\n      <td>6</td>\n      <td>8</td>\n      <td>Gus Williams</td>\n      <td>82</td>\n      <td>22.1</td>\n      <td>0.529</td>\n      <td>4.8</td>\n      <td>3.4</td>\n      <td>2.4</td>\n      <td>0.187</td>\n      <td>0.07763</td>\n    </tr>\n    <tr>\n      <th>3</th>\n      <td>150</td>\n      <td>4</td>\n      <td>9</td>\n      <td>Moses Malone</td>\n      <td>82</td>\n      <td>25.8</td>\n      <td>0.560</td>\n      <td>1.8</td>\n      <td>14.5</td>\n      <td>1.0</td>\n      <td>0.183</td>\n      <td>0.11835</td>\n    </tr>\n  </tbody>\n</table>\n</div>"
     },
     "execution_count": 61,
     "metadata": {},
     "output_type": "execute_result"
    }
   ],
   "source": [],
   "metadata": {
    "collapsed": false,
    "pycharm": {
     "name": "#%%\n"
    }
   }
  },
  {
   "cell_type": "code",
   "execution_count": 64,
   "outputs": [
    {
     "ename": "KeyError",
     "evalue": "'False: boolean label can not be used without a boolean index'",
     "output_type": "error",
     "traceback": [
      "\u001B[0;31m---------------------------------------------------------------------------\u001B[0m",
      "\u001B[0;31mKeyError\u001B[0m                                  Traceback (most recent call last)",
      "Input \u001B[0;32mIn [64]\u001B[0m, in \u001B[0;36m<module>\u001B[0;34m\u001B[0m\n\u001B[0;32m----> 1\u001B[0m \u001B[43msaved\u001B[49m\u001B[38;5;241;43m.\u001B[39;49m\u001B[43mloc\u001B[49m\u001B[43m[\u001B[49m\u001B[38;5;124;43m'\u001B[39;49m\u001B[38;5;124;43mpred_rank\u001B[39;49m\u001B[38;5;124;43m'\u001B[39;49m\u001B[43m \u001B[49m\u001B[38;5;241;43m==\u001B[39;49m\u001B[43m \u001B[49m\u001B[38;5;241;43m1\u001B[39;49m\u001B[43m,\u001B[49m\u001B[38;5;124;43m'\u001B[39;49m\u001B[38;5;124;43mPlayer\u001B[39;49m\u001B[38;5;124;43m'\u001B[39;49m\u001B[43m,\u001B[49m\u001B[43m]\u001B[49m\n",
      "File \u001B[0;32m~/Dropbox/NBA/venv/lib/python3.9/site-packages/pandas/core/indexing.py:925\u001B[0m, in \u001B[0;36m_LocationIndexer.__getitem__\u001B[0;34m(self, key)\u001B[0m\n\u001B[1;32m    923\u001B[0m         \u001B[38;5;28;01mwith\u001B[39;00m suppress(\u001B[38;5;167;01mKeyError\u001B[39;00m, \u001B[38;5;167;01mIndexError\u001B[39;00m):\n\u001B[1;32m    924\u001B[0m             \u001B[38;5;28;01mreturn\u001B[39;00m \u001B[38;5;28mself\u001B[39m\u001B[38;5;241m.\u001B[39mobj\u001B[38;5;241m.\u001B[39m_get_value(\u001B[38;5;241m*\u001B[39mkey, takeable\u001B[38;5;241m=\u001B[39m\u001B[38;5;28mself\u001B[39m\u001B[38;5;241m.\u001B[39m_takeable)\n\u001B[0;32m--> 925\u001B[0m     \u001B[38;5;28;01mreturn\u001B[39;00m \u001B[38;5;28;43mself\u001B[39;49m\u001B[38;5;241;43m.\u001B[39;49m\u001B[43m_getitem_tuple\u001B[49m\u001B[43m(\u001B[49m\u001B[43mkey\u001B[49m\u001B[43m)\u001B[49m\n\u001B[1;32m    926\u001B[0m \u001B[38;5;28;01melse\u001B[39;00m:\n\u001B[1;32m    927\u001B[0m     \u001B[38;5;66;03m# we by definition only have the 0th axis\u001B[39;00m\n\u001B[1;32m    928\u001B[0m     axis \u001B[38;5;241m=\u001B[39m \u001B[38;5;28mself\u001B[39m\u001B[38;5;241m.\u001B[39maxis \u001B[38;5;129;01mor\u001B[39;00m \u001B[38;5;241m0\u001B[39m\n",
      "File \u001B[0;32m~/Dropbox/NBA/venv/lib/python3.9/site-packages/pandas/core/indexing.py:1100\u001B[0m, in \u001B[0;36m_LocIndexer._getitem_tuple\u001B[0;34m(self, tup)\u001B[0m\n\u001B[1;32m   1098\u001B[0m \u001B[38;5;28;01mdef\u001B[39;00m \u001B[38;5;21m_getitem_tuple\u001B[39m(\u001B[38;5;28mself\u001B[39m, tup: \u001B[38;5;28mtuple\u001B[39m):\n\u001B[1;32m   1099\u001B[0m     \u001B[38;5;28;01mwith\u001B[39;00m suppress(IndexingError):\n\u001B[0;32m-> 1100\u001B[0m         \u001B[38;5;28;01mreturn\u001B[39;00m \u001B[38;5;28;43mself\u001B[39;49m\u001B[38;5;241;43m.\u001B[39;49m\u001B[43m_getitem_lowerdim\u001B[49m\u001B[43m(\u001B[49m\u001B[43mtup\u001B[49m\u001B[43m)\u001B[49m\n\u001B[1;32m   1102\u001B[0m     \u001B[38;5;66;03m# no multi-index, so validate all of the indexers\u001B[39;00m\n\u001B[1;32m   1103\u001B[0m     \u001B[38;5;28mself\u001B[39m\u001B[38;5;241m.\u001B[39m_has_valid_tuple(tup)\n",
      "File \u001B[0;32m~/Dropbox/NBA/venv/lib/python3.9/site-packages/pandas/core/indexing.py:838\u001B[0m, in \u001B[0;36m_LocationIndexer._getitem_lowerdim\u001B[0;34m(self, tup)\u001B[0m\n\u001B[1;32m    834\u001B[0m \u001B[38;5;28;01mfor\u001B[39;00m i, key \u001B[38;5;129;01min\u001B[39;00m \u001B[38;5;28menumerate\u001B[39m(tup):\n\u001B[1;32m    835\u001B[0m     \u001B[38;5;28;01mif\u001B[39;00m is_label_like(key):\n\u001B[1;32m    836\u001B[0m         \u001B[38;5;66;03m# We don't need to check for tuples here because those are\u001B[39;00m\n\u001B[1;32m    837\u001B[0m         \u001B[38;5;66;03m#  caught by the _is_nested_tuple_indexer check above.\u001B[39;00m\n\u001B[0;32m--> 838\u001B[0m         section \u001B[38;5;241m=\u001B[39m \u001B[38;5;28;43mself\u001B[39;49m\u001B[38;5;241;43m.\u001B[39;49m\u001B[43m_getitem_axis\u001B[49m\u001B[43m(\u001B[49m\u001B[43mkey\u001B[49m\u001B[43m,\u001B[49m\u001B[43m \u001B[49m\u001B[43maxis\u001B[49m\u001B[38;5;241;43m=\u001B[39;49m\u001B[43mi\u001B[49m\u001B[43m)\u001B[49m\n\u001B[1;32m    840\u001B[0m         \u001B[38;5;66;03m# We should never have a scalar section here, because\u001B[39;00m\n\u001B[1;32m    841\u001B[0m         \u001B[38;5;66;03m#  _getitem_lowerdim is only called after a check for\u001B[39;00m\n\u001B[1;32m    842\u001B[0m         \u001B[38;5;66;03m#  is_scalar_access, which that would be.\u001B[39;00m\n\u001B[1;32m    843\u001B[0m         \u001B[38;5;28;01mif\u001B[39;00m section\u001B[38;5;241m.\u001B[39mndim \u001B[38;5;241m==\u001B[39m \u001B[38;5;28mself\u001B[39m\u001B[38;5;241m.\u001B[39mndim:\n\u001B[1;32m    844\u001B[0m             \u001B[38;5;66;03m# we're in the middle of slicing through a MultiIndex\u001B[39;00m\n\u001B[1;32m    845\u001B[0m             \u001B[38;5;66;03m# revise the key wrt to `section` by inserting an _NS\u001B[39;00m\n",
      "File \u001B[0;32m~/Dropbox/NBA/venv/lib/python3.9/site-packages/pandas/core/indexing.py:1163\u001B[0m, in \u001B[0;36m_LocIndexer._getitem_axis\u001B[0;34m(self, key, axis)\u001B[0m\n\u001B[1;32m   1160\u001B[0m         \u001B[38;5;28;01mreturn\u001B[39;00m \u001B[38;5;28mself\u001B[39m\u001B[38;5;241m.\u001B[39mobj\u001B[38;5;241m.\u001B[39miloc[\u001B[38;5;28mtuple\u001B[39m(indexer)]\n\u001B[1;32m   1162\u001B[0m \u001B[38;5;66;03m# fall thru to straight lookup\u001B[39;00m\n\u001B[0;32m-> 1163\u001B[0m \u001B[38;5;28;43mself\u001B[39;49m\u001B[38;5;241;43m.\u001B[39;49m\u001B[43m_validate_key\u001B[49m\u001B[43m(\u001B[49m\u001B[43mkey\u001B[49m\u001B[43m,\u001B[49m\u001B[43m \u001B[49m\u001B[43maxis\u001B[49m\u001B[43m)\u001B[49m\n\u001B[1;32m   1164\u001B[0m \u001B[38;5;28;01mreturn\u001B[39;00m \u001B[38;5;28mself\u001B[39m\u001B[38;5;241m.\u001B[39m_get_label(key, axis\u001B[38;5;241m=\u001B[39maxis)\n",
      "File \u001B[0;32m~/Dropbox/NBA/venv/lib/python3.9/site-packages/pandas/core/indexing.py:972\u001B[0m, in \u001B[0;36m_LocIndexer._validate_key\u001B[0;34m(self, key, axis)\u001B[0m\n\u001B[1;32m    965\u001B[0m \u001B[38;5;129m@doc\u001B[39m(_LocationIndexer\u001B[38;5;241m.\u001B[39m_validate_key)\n\u001B[1;32m    966\u001B[0m \u001B[38;5;28;01mdef\u001B[39;00m \u001B[38;5;21m_validate_key\u001B[39m(\u001B[38;5;28mself\u001B[39m, key, axis: \u001B[38;5;28mint\u001B[39m):\n\u001B[1;32m    967\u001B[0m     \u001B[38;5;66;03m# valid for a collection of labels (we check their presence later)\u001B[39;00m\n\u001B[1;32m    968\u001B[0m     \u001B[38;5;66;03m# slice of labels (where start-end in labels)\u001B[39;00m\n\u001B[1;32m    969\u001B[0m     \u001B[38;5;66;03m# slice of integers (only if in the labels)\u001B[39;00m\n\u001B[1;32m    970\u001B[0m     \u001B[38;5;66;03m# boolean not in slice and with boolean index\u001B[39;00m\n\u001B[1;32m    971\u001B[0m     \u001B[38;5;28;01mif\u001B[39;00m \u001B[38;5;28misinstance\u001B[39m(key, \u001B[38;5;28mbool\u001B[39m) \u001B[38;5;129;01mand\u001B[39;00m \u001B[38;5;129;01mnot\u001B[39;00m is_bool_dtype(\u001B[38;5;28mself\u001B[39m\u001B[38;5;241m.\u001B[39mobj\u001B[38;5;241m.\u001B[39mindex):\n\u001B[0;32m--> 972\u001B[0m         \u001B[38;5;28;01mraise\u001B[39;00m \u001B[38;5;167;01mKeyError\u001B[39;00m(\n\u001B[1;32m    973\u001B[0m             \u001B[38;5;124mf\u001B[39m\u001B[38;5;124m\"\u001B[39m\u001B[38;5;132;01m{\u001B[39;00mkey\u001B[38;5;132;01m}\u001B[39;00m\u001B[38;5;124m: boolean label can not be used without a boolean index\u001B[39m\u001B[38;5;124m\"\u001B[39m\n\u001B[1;32m    974\u001B[0m         )\n\u001B[1;32m    976\u001B[0m     \u001B[38;5;28;01mif\u001B[39;00m \u001B[38;5;28misinstance\u001B[39m(key, \u001B[38;5;28mslice\u001B[39m) \u001B[38;5;129;01mand\u001B[39;00m (\n\u001B[1;32m    977\u001B[0m         \u001B[38;5;28misinstance\u001B[39m(key\u001B[38;5;241m.\u001B[39mstart, \u001B[38;5;28mbool\u001B[39m) \u001B[38;5;129;01mor\u001B[39;00m \u001B[38;5;28misinstance\u001B[39m(key\u001B[38;5;241m.\u001B[39mstop, \u001B[38;5;28mbool\u001B[39m)\n\u001B[1;32m    978\u001B[0m     ):\n\u001B[1;32m    979\u001B[0m         \u001B[38;5;28;01mraise\u001B[39;00m \u001B[38;5;167;01mTypeError\u001B[39;00m(\u001B[38;5;124mf\u001B[39m\u001B[38;5;124m\"\u001B[39m\u001B[38;5;132;01m{\u001B[39;00mkey\u001B[38;5;132;01m}\u001B[39;00m\u001B[38;5;124m: boolean values can not be used in a slice\u001B[39m\u001B[38;5;124m\"\u001B[39m)\n",
      "\u001B[0;31mKeyError\u001B[0m: 'False: boolean label can not be used without a boolean index'"
     ]
    }
   ],
   "source": [
    "saved.loc['pred_rank' == 1,'Player',]"
   ],
   "metadata": {
    "collapsed": false,
    "pycharm": {
     "name": "#%%\n"
    }
   }
  },
  {
   "cell_type": "code",
   "execution_count": 65,
   "outputs": [
    {
     "ename": "KeyError",
     "evalue": "False",
     "output_type": "error",
     "traceback": [
      "\u001B[0;31m---------------------------------------------------------------------------\u001B[0m",
      "\u001B[0;31mKeyError\u001B[0m                                  Traceback (most recent call last)",
      "File \u001B[0;32m~/Dropbox/NBA/venv/lib/python3.9/site-packages/pandas/core/indexes/base.py:3361\u001B[0m, in \u001B[0;36mIndex.get_loc\u001B[0;34m(self, key, method, tolerance)\u001B[0m\n\u001B[1;32m   3360\u001B[0m \u001B[38;5;28;01mtry\u001B[39;00m:\n\u001B[0;32m-> 3361\u001B[0m     \u001B[38;5;28;01mreturn\u001B[39;00m \u001B[38;5;28;43mself\u001B[39;49m\u001B[38;5;241;43m.\u001B[39;49m\u001B[43m_engine\u001B[49m\u001B[38;5;241;43m.\u001B[39;49m\u001B[43mget_loc\u001B[49m\u001B[43m(\u001B[49m\u001B[43mcasted_key\u001B[49m\u001B[43m)\u001B[49m\n\u001B[1;32m   3362\u001B[0m \u001B[38;5;28;01mexcept\u001B[39;00m \u001B[38;5;167;01mKeyError\u001B[39;00m \u001B[38;5;28;01mas\u001B[39;00m err:\n",
      "File \u001B[0;32m~/Dropbox/NBA/venv/lib/python3.9/site-packages/pandas/_libs/index.pyx:76\u001B[0m, in \u001B[0;36mpandas._libs.index.IndexEngine.get_loc\u001B[0;34m()\u001B[0m\n",
      "File \u001B[0;32m~/Dropbox/NBA/venv/lib/python3.9/site-packages/pandas/_libs/index.pyx:108\u001B[0m, in \u001B[0;36mpandas._libs.index.IndexEngine.get_loc\u001B[0;34m()\u001B[0m\n",
      "File \u001B[0;32mpandas/_libs/hashtable_class_helper.pxi:5198\u001B[0m, in \u001B[0;36mpandas._libs.hashtable.PyObjectHashTable.get_item\u001B[0;34m()\u001B[0m\n",
      "File \u001B[0;32mpandas/_libs/hashtable_class_helper.pxi:5206\u001B[0m, in \u001B[0;36mpandas._libs.hashtable.PyObjectHashTable.get_item\u001B[0;34m()\u001B[0m\n",
      "\u001B[0;31mKeyError\u001B[0m: False",
      "\nThe above exception was the direct cause of the following exception:\n",
      "\u001B[0;31mKeyError\u001B[0m                                  Traceback (most recent call last)",
      "Input \u001B[0;32mIn [65]\u001B[0m, in \u001B[0;36m<module>\u001B[0;34m\u001B[0m\n\u001B[0;32m----> 1\u001B[0m \u001B[43msaved\u001B[49m\u001B[43m[\u001B[49m\u001B[38;5;124;43m'\u001B[39;49m\u001B[38;5;124;43mpred_rank\u001B[39;49m\u001B[38;5;124;43m'\u001B[39;49m\u001B[43m \u001B[49m\u001B[38;5;241;43m==\u001B[39;49m\u001B[43m \u001B[49m\u001B[38;5;241;43m1\u001B[39;49m\u001B[43m]\u001B[49m\n",
      "File \u001B[0;32m~/Dropbox/NBA/venv/lib/python3.9/site-packages/pandas/core/frame.py:3458\u001B[0m, in \u001B[0;36mDataFrame.__getitem__\u001B[0;34m(self, key)\u001B[0m\n\u001B[1;32m   3456\u001B[0m \u001B[38;5;28;01mif\u001B[39;00m \u001B[38;5;28mself\u001B[39m\u001B[38;5;241m.\u001B[39mcolumns\u001B[38;5;241m.\u001B[39mnlevels \u001B[38;5;241m>\u001B[39m \u001B[38;5;241m1\u001B[39m:\n\u001B[1;32m   3457\u001B[0m     \u001B[38;5;28;01mreturn\u001B[39;00m \u001B[38;5;28mself\u001B[39m\u001B[38;5;241m.\u001B[39m_getitem_multilevel(key)\n\u001B[0;32m-> 3458\u001B[0m indexer \u001B[38;5;241m=\u001B[39m \u001B[38;5;28;43mself\u001B[39;49m\u001B[38;5;241;43m.\u001B[39;49m\u001B[43mcolumns\u001B[49m\u001B[38;5;241;43m.\u001B[39;49m\u001B[43mget_loc\u001B[49m\u001B[43m(\u001B[49m\u001B[43mkey\u001B[49m\u001B[43m)\u001B[49m\n\u001B[1;32m   3459\u001B[0m \u001B[38;5;28;01mif\u001B[39;00m is_integer(indexer):\n\u001B[1;32m   3460\u001B[0m     indexer \u001B[38;5;241m=\u001B[39m [indexer]\n",
      "File \u001B[0;32m~/Dropbox/NBA/venv/lib/python3.9/site-packages/pandas/core/indexes/base.py:3363\u001B[0m, in \u001B[0;36mIndex.get_loc\u001B[0;34m(self, key, method, tolerance)\u001B[0m\n\u001B[1;32m   3361\u001B[0m         \u001B[38;5;28;01mreturn\u001B[39;00m \u001B[38;5;28mself\u001B[39m\u001B[38;5;241m.\u001B[39m_engine\u001B[38;5;241m.\u001B[39mget_loc(casted_key)\n\u001B[1;32m   3362\u001B[0m     \u001B[38;5;28;01mexcept\u001B[39;00m \u001B[38;5;167;01mKeyError\u001B[39;00m \u001B[38;5;28;01mas\u001B[39;00m err:\n\u001B[0;32m-> 3363\u001B[0m         \u001B[38;5;28;01mraise\u001B[39;00m \u001B[38;5;167;01mKeyError\u001B[39;00m(key) \u001B[38;5;28;01mfrom\u001B[39;00m \u001B[38;5;21;01merr\u001B[39;00m\n\u001B[1;32m   3365\u001B[0m \u001B[38;5;28;01mif\u001B[39;00m is_scalar(key) \u001B[38;5;129;01mand\u001B[39;00m isna(key) \u001B[38;5;129;01mand\u001B[39;00m \u001B[38;5;129;01mnot\u001B[39;00m \u001B[38;5;28mself\u001B[39m\u001B[38;5;241m.\u001B[39mhasnans:\n\u001B[1;32m   3366\u001B[0m     \u001B[38;5;28;01mraise\u001B[39;00m \u001B[38;5;167;01mKeyError\u001B[39;00m(key)\n",
      "\u001B[0;31mKeyError\u001B[0m: False"
     ]
    }
   ],
   "source": [
    "saved['pred_rank' == 1]"
   ],
   "metadata": {
    "collapsed": false,
    "pycharm": {
     "name": "#%%\n"
    }
   }
  },
  {
   "cell_type": "code",
   "execution_count": 70,
   "outputs": [
    {
     "data": {
      "text/plain": "'Kareem Abdul-Jabbar'"
     },
     "execution_count": 70,
     "metadata": {},
     "output_type": "execute_result"
    }
   ],
   "source": [
    "saved[saved.pred_rank == 1].Player.values[0]"
   ],
   "metadata": {
    "collapsed": false,
    "pycharm": {
     "name": "#%%\n"
    }
   }
  }
 ],
 "metadata": {
  "kernelspec": {
   "display_name": "Python 3",
   "language": "python",
   "name": "python3"
  },
  "language_info": {
   "codemirror_mode": {
    "name": "ipython",
    "version": 2
   },
   "file_extension": ".py",
   "mimetype": "text/x-python",
   "name": "python",
   "nbconvert_exporter": "python",
   "pygments_lexer": "ipython2",
   "version": "2.7.6"
  }
 },
 "nbformat": 4,
 "nbformat_minor": 0
}