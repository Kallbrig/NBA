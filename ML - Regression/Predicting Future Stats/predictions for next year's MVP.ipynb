{
 "cells": [
  {
   "cell_type": "code",
   "execution_count": 56,
   "metadata": {
    "pycharm": {
     "name": "#%%\n"
    }
   },
   "outputs": [],
   "source": [
    "import numpy as np\n",
    "import pandas as pd\n",
    "from datetime import datetime\n",
    "from matplotlib import pyplot as plt\n",
    "from sklearn.ensemble import GradientBoostingRegressor\n",
    "from sklearn.linear_model import LinearRegression\n",
    "from sklearn.model_selection import GridSearchCV\n",
    "from sklearn.model_selection import cross_val_score\n",
    "from sklearn.pipeline import Pipeline\n",
    "from sklearn.preprocessing import StandardScaler, MinMaxScaler\n",
    "from sklearn.svm import SVR\n",
    "from sklearn.ensemble import RandomForestRegressor\n",
    "import joblib\n",
    "\n",
    "import xgboost as xgb\n",
    "from sklearn.pipeline import Pipeline\n",
    "from sklearn.preprocessing import MinMaxScaler\n",
    "from sklearn.feature_selection import f_regression,SelectKBest,SelectPercentile,chi2\n",
    "\n",
    "# declare a two step pipeline, explicitly giving names to both steps.\n",
    "\n",
    "\n",
    "%matplotlib inline"
   ]
  },
  {
   "cell_type": "code",
   "execution_count": 37,
   "metadata": {
    "pycharm": {
     "name": "#%%\n"
    }
   },
   "outputs": [],
   "source": [
    "def trim_set(frame):\n",
    "    return frame[((frame['TRB'] > 2) | (frame['AST'] > 5)) & (frame['PTS'] > 15)]\n",
    "    # return frame[((frame['TRB'] > 5) | (frame['AST'] > 5)) & (frame['PTS'] > 15) & (frame['Win%'] > .5)]\n",
    "\n"
   ]
  },
  {
   "cell_type": "code",
   "execution_count": 72,
   "metadata": {
    "pycharm": {
     "name": "#%%\n"
    }
   },
   "outputs": [
    {
     "name": "stdout",
     "output_type": "stream",
     "text": [
      "Index(['Year', 'Player', 'Pos', 'Age', 'Tm', 'G', 'GS', 'MP', 'FG', 'FGA',\n",
      "       'FG%', '3P', '3PA', '3P%', '2P', '2PA', '2P%', 'eFG%', 'FT', 'FTA',\n",
      "       'FT%', 'ORB', 'DRB', 'TRB', 'AST', 'STL', 'BLK', 'TOV', 'PF', 'PTS',\n",
      "       'PER', 'TS%', '3PAr', 'FTr', 'ORB%', 'DRB%', 'TRB%', 'AST%', 'STL%',\n",
      "       'BLK%', 'TOV%', 'USG%', 'OWS', 'DWS', 'WS', 'WS_48', 'OBPM', 'DBPM',\n",
      "       'BPM', 'VORP', 'MVP_Rank', 'MVP_First', 'MVP_Pts Won', 'MVP_Pts Max',\n",
      "       'MVP_Share'],\n",
      "      dtype='object')\n"
     ]
    },
    {
     "data": {
      "text/plain": "array([1980, 1981, 1982, 1983, 1984, 1985, 1986, 1987, 1988, 1989, 1990,\n       1991, 1992, 1993, 1994, 1995, 1996, 1997, 1998, 1999, 2000, 2001,\n       2002, 2003, 2004, 2005, 2006, 2007, 2008, 2009, 2010, 2011, 2012,\n       2013, 2014, 2015, 2016, 2017, 2018, 2019, 2020, 2021])"
     },
     "execution_count": 72,
     "metadata": {},
     "output_type": "execute_result"
    }
   ],
   "source": [
    "df = pd.read_csv('train_set_full.csv', index_col=0)\n",
    "df.rename(columns={'WS/48':'WS_48'},inplace=True)\n",
    "print(df.columns)\n",
    "\n",
    "df = df.drop(columns=['STAR', 'DPOY_Rank', 'DPOY_First', 'DPOY_Pts Won', 'DPOY_Pts Max', 'DPOY_Share',\n",
    "                      'DPOY', 'MIP_Rank', 'MIP_First', 'MIP_Pts Won', 'MIP_Pts Max',\n",
    "                      'MIP_Share', 'MIP', 'MVP_First', 'MVP_Pts Won',\n",
    "                      'MVP_Pts Max', 'ROTY_Rank', 'ROTY_First',\n",
    "                      'ROTY_Pts Won', 'ROTY_Pts Max', 'ROTY_Share', 'ROTY', 'SMOTY_Rank',\n",
    "                      'SMOTY_First', 'SMOTY_Pts Won', 'SMOTY_Pts Max', 'SMOTY_Share',\n",
    "                      'SMOTY'], errors='ignore')\n",
    "\n",
    "# df = trim_set(df)\n",
    "df.Year.unique()"
   ]
  },
  {
   "cell_type": "code",
   "execution_count": 75,
   "outputs": [
    {
     "data": {
      "text/plain": "     Year        Player Pos  Age   Tm   G  GS    MP    FG   FGA  ...   OWS  \\\n211  2016  Nikola Jokić   C   20  DEN  80  55  21.7   3.8   7.5  ...   4.5   \n208  2017  Nikola Jokić   C   21  DEN  73  59  27.9   6.8  11.7  ...   7.7   \n233  2018  Nikola Jokić   C   22  DEN  75  73  32.6   6.7  13.5  ...   7.8   \n227  2019  Nikola Jokić   C   23  DEN  80  80  31.3   7.7  15.1  ...   7.5   \n224  2020  Nikola Jokić   C   24  DEN  73  73  32.0   7.7  14.7  ...   6.7   \n222  2021  Nikola Jokić   C   25  DEN  72  72  34.6  10.2  18.0  ...  12.2   \n\n     DWS    WS  WS_48  OBPM  DBPM   BPM  VORP  MVP_Rank  MVP_Share  \n211  2.2   6.7  0.185   2.6   1.3   3.9   2.6       0.0      0.000  \n208  2.0   9.7  0.228   5.9   1.4   7.3   4.8       0.0      0.000  \n233  2.9  10.7  0.211   5.3   1.6   6.9   5.5       0.0      0.000  \n227  4.3  11.8  0.226   6.2   2.9   9.1   7.0       4.0      0.210  \n224  3.1   9.8  0.202   5.5   2.0   7.4   5.5       9.0      0.018  \n222  3.4  15.6  0.301   9.1   3.0  12.1   8.8       1.0      0.961  \n\n[6 rows x 52 columns]",
      "text/html": "<div>\n<style scoped>\n    .dataframe tbody tr th:only-of-type {\n        vertical-align: middle;\n    }\n\n    .dataframe tbody tr th {\n        vertical-align: top;\n    }\n\n    .dataframe thead th {\n        text-align: right;\n    }\n</style>\n<table border=\"1\" class=\"dataframe\">\n  <thead>\n    <tr style=\"text-align: right;\">\n      <th></th>\n      <th>Year</th>\n      <th>Player</th>\n      <th>Pos</th>\n      <th>Age</th>\n      <th>Tm</th>\n      <th>G</th>\n      <th>GS</th>\n      <th>MP</th>\n      <th>FG</th>\n      <th>FGA</th>\n      <th>...</th>\n      <th>OWS</th>\n      <th>DWS</th>\n      <th>WS</th>\n      <th>WS_48</th>\n      <th>OBPM</th>\n      <th>DBPM</th>\n      <th>BPM</th>\n      <th>VORP</th>\n      <th>MVP_Rank</th>\n      <th>MVP_Share</th>\n    </tr>\n  </thead>\n  <tbody>\n    <tr>\n      <th>211</th>\n      <td>2016</td>\n      <td>Nikola Jokić</td>\n      <td>C</td>\n      <td>20</td>\n      <td>DEN</td>\n      <td>80</td>\n      <td>55</td>\n      <td>21.7</td>\n      <td>3.8</td>\n      <td>7.5</td>\n      <td>...</td>\n      <td>4.5</td>\n      <td>2.2</td>\n      <td>6.7</td>\n      <td>0.185</td>\n      <td>2.6</td>\n      <td>1.3</td>\n      <td>3.9</td>\n      <td>2.6</td>\n      <td>0.0</td>\n      <td>0.000</td>\n    </tr>\n    <tr>\n      <th>208</th>\n      <td>2017</td>\n      <td>Nikola Jokić</td>\n      <td>C</td>\n      <td>21</td>\n      <td>DEN</td>\n      <td>73</td>\n      <td>59</td>\n      <td>27.9</td>\n      <td>6.8</td>\n      <td>11.7</td>\n      <td>...</td>\n      <td>7.7</td>\n      <td>2.0</td>\n      <td>9.7</td>\n      <td>0.228</td>\n      <td>5.9</td>\n      <td>1.4</td>\n      <td>7.3</td>\n      <td>4.8</td>\n      <td>0.0</td>\n      <td>0.000</td>\n    </tr>\n    <tr>\n      <th>233</th>\n      <td>2018</td>\n      <td>Nikola Jokić</td>\n      <td>C</td>\n      <td>22</td>\n      <td>DEN</td>\n      <td>75</td>\n      <td>73</td>\n      <td>32.6</td>\n      <td>6.7</td>\n      <td>13.5</td>\n      <td>...</td>\n      <td>7.8</td>\n      <td>2.9</td>\n      <td>10.7</td>\n      <td>0.211</td>\n      <td>5.3</td>\n      <td>1.6</td>\n      <td>6.9</td>\n      <td>5.5</td>\n      <td>0.0</td>\n      <td>0.000</td>\n    </tr>\n    <tr>\n      <th>227</th>\n      <td>2019</td>\n      <td>Nikola Jokić</td>\n      <td>C</td>\n      <td>23</td>\n      <td>DEN</td>\n      <td>80</td>\n      <td>80</td>\n      <td>31.3</td>\n      <td>7.7</td>\n      <td>15.1</td>\n      <td>...</td>\n      <td>7.5</td>\n      <td>4.3</td>\n      <td>11.8</td>\n      <td>0.226</td>\n      <td>6.2</td>\n      <td>2.9</td>\n      <td>9.1</td>\n      <td>7.0</td>\n      <td>4.0</td>\n      <td>0.210</td>\n    </tr>\n    <tr>\n      <th>224</th>\n      <td>2020</td>\n      <td>Nikola Jokić</td>\n      <td>C</td>\n      <td>24</td>\n      <td>DEN</td>\n      <td>73</td>\n      <td>73</td>\n      <td>32.0</td>\n      <td>7.7</td>\n      <td>14.7</td>\n      <td>...</td>\n      <td>6.7</td>\n      <td>3.1</td>\n      <td>9.8</td>\n      <td>0.202</td>\n      <td>5.5</td>\n      <td>2.0</td>\n      <td>7.4</td>\n      <td>5.5</td>\n      <td>9.0</td>\n      <td>0.018</td>\n    </tr>\n    <tr>\n      <th>222</th>\n      <td>2021</td>\n      <td>Nikola Jokić</td>\n      <td>C</td>\n      <td>25</td>\n      <td>DEN</td>\n      <td>72</td>\n      <td>72</td>\n      <td>34.6</td>\n      <td>10.2</td>\n      <td>18.0</td>\n      <td>...</td>\n      <td>12.2</td>\n      <td>3.4</td>\n      <td>15.6</td>\n      <td>0.301</td>\n      <td>9.1</td>\n      <td>3.0</td>\n      <td>12.1</td>\n      <td>8.8</td>\n      <td>1.0</td>\n      <td>0.961</td>\n    </tr>\n  </tbody>\n</table>\n<p>6 rows × 52 columns</p>\n</div>"
     },
     "execution_count": 75,
     "metadata": {},
     "output_type": "execute_result"
    }
   ],
   "source": [
    "df[df.Player.str.contains('Jok')]"
   ],
   "metadata": {
    "collapsed": false,
    "pycharm": {
     "name": "#%%\n"
    }
   }
  },
  {
   "cell_type": "code",
   "execution_count": 78,
   "metadata": {
    "pycharm": {
     "name": "#%%\n"
    }
   },
   "outputs": [
    {
     "data": {
      "text/plain": "array(['Bam Adebayo', 'Jarrett Allen', 'Giannis Antetokounmpo',\n       'OG Anunoby', 'Deandre Ayton', 'LaMelo Ball', 'Scottie Barnes',\n       'RJ Barrett', 'Bradley Beal', 'Bojan Bogdanović', 'Devin Booker',\n       'Miles Bridges', 'Malcolm Brogdon', 'Dillon Brooks',\n       'Jaylen Brown', 'Jalen Brunson', 'Jimmy Butler'], dtype=object)"
     },
     "execution_count": 78,
     "metadata": {},
     "output_type": "execute_result"
    }
   ],
   "source": [
    "train_set = df.copy()\n",
    "test_set = pd.read_csv(f'Next_Year_Predicted_Stats.csv', index_col=0)\n",
    "test_set = trim_set(test_set)\n",
    "\n",
    "x_train = df.drop(columns=['MVP_Rank', 'MVP_Share', ])\n",
    "y_train = train_set['MVP_Share']\n",
    "\n",
    "test_set.Player.unique()"
   ]
  },
  {
   "cell_type": "code",
   "execution_count": 40,
   "metadata": {
    "pycharm": {
     "name": "#%%\n"
    }
   },
   "outputs": [],
   "source": [
    "# cm = train_set.corr().apply(np.absolute)\n",
    "# f = plt.figure(figsize=(19, 15))\n",
    "# plt.matshow(cm.corr(), fignum=f.number)\n",
    "# plt.xticks(range(df.select_dtypes(['number']).shape[1]), cm.select_dtypes(['number']).columns, fontsize=14, rotation=45)\n",
    "# plt.yticks(range(df.select_dtypes(['number']).shape[1]), cm.select_dtypes(['number']).columns, fontsize=14)\n",
    "# cb = plt.colorbar()\n",
    "# cb.ax.tick_params(labelsize=14, )\n",
    "# plt.title('Correlation Matrix', fontsize=16)"
   ]
  },
  {
   "cell_type": "code",
   "execution_count": 40,
   "outputs": [],
   "source": [],
   "metadata": {
    "collapsed": false,
    "pycharm": {
     "name": "#%%\n"
    }
   }
  },
  {
   "cell_type": "code",
   "execution_count": 41,
   "metadata": {
    "pycharm": {
     "name": "#%%\n"
    }
   },
   "outputs": [],
   "source": [
    "# feature_list = ['MP', 'PTS', 'TOV', 'AST', 'STL', 'TRB', 'BLK','WS','PER', 'TS%']\n",
    "# feature_list = ['PTS','PER','TS%','WS','BPM','VORP','USG%']\n",
    "feature_list = ['Age', 'G', 'GS', 'MP', 'FG', 'FGA',\n",
    "                'FG%', '3P', '3PA', '3P%', '2P', '2PA', '2P%', 'eFG%', 'FT', 'FTA',\n",
    "                'FT%', 'ORB', 'DRB', 'TRB', 'AST', 'STL', 'BLK', 'TOV', 'PF', 'PTS',\n",
    "                'PER', 'TS%', '3PAr', 'FTr', 'ORB%', 'DRB%', 'TRB%', 'AST%', 'STL%',\n",
    "                'BLK%', 'TOV%', 'USG%', 'OWS', 'DWS', 'WS', 'WS_48', 'OBPM', 'DBPM',\n",
    "                'BPM', 'VORP']\n",
    "\n",
    "x_train = train_set[feature_list]\n",
    "x_test = test_set[feature_list]"
   ]
  },
  {
   "cell_type": "code",
   "execution_count": 64,
   "metadata": {
    "pycharm": {
     "name": "#%%\n"
    }
   },
   "outputs": [
    {
     "name": "stdout",
     "output_type": "stream",
     "text": [
      "Fitting 5 folds for each of 16 candidates, totalling 80 fits\n",
      "{'feat_selection': SelectPercentile(percentile=55), 'reg': RandomForestRegressor(), 'scaler': MinMaxScaler()}\n",
      "0.5978955422502721\n"
     ]
    }
   ],
   "source": [
    "\n",
    "pipe = Pipeline([('feat_selection', SelectPercentile(),),\n",
    "                 ('scaler', MinMaxScaler()),\n",
    "                 ('reg', RandomForestRegressor())])\n",
    "\n",
    "param_grid = [\n",
    "    {\n",
    "     'feat_selection':[SelectKBest(),SelectPercentile(percentile=55),],\n",
    "     # 'feat_selection__percentile':range(45,80,5),\n",
    "     'scaler':[MinMaxScaler(),StandardScaler()],\n",
    "     'reg': [RandomForestRegressor(), xgb.XGBRegressor(objective=\"reg:linear\"), SVR(),GradientBoostingRegressor()]\n",
    "\n",
    "     },\n",
    "]\n",
    "ppln_fitted = GridSearchCV(pipe, param_grid, cv=5, verbose=5, n_jobs=-1,return_train_score=True)\n",
    "\n",
    "ppln_fitted = ppln_fitted.fit(x_train, y_train, )\n",
    "\n",
    "print(ppln_fitted.best_params_)\n",
    "print(ppln_fitted.best_score_)\n",
    "best = ppln_fitted.best_params_\n"
   ]
  },
  {
   "cell_type": "code",
   "execution_count": 65,
   "metadata": {
    "pycharm": {
     "name": "#%%\n"
    }
   },
   "outputs": [],
   "source": [
    "y_pred = ppln_fitted.predict(x_test)\n",
    "\n",
    "test_set['pred'] = y_pred\n",
    "test_set['pred_scaled'] = MinMaxScaler().fit_transform(y_pred.reshape(-1, 1))\n",
    "test_set['pred_rank'] = test_set.pred.rank(ascending=False).astype(\"int\")"
   ]
  },
  {
   "cell_type": "code",
   "execution_count": 66,
   "metadata": {
    "pycharm": {
     "name": "#%%\n"
    }
   },
   "outputs": [
    {
     "data": {
      "text/plain": "                   Player      G     PTS      FG%    AST     TRB    STL  \\\n11  Giannis Antetokounmpo  92.26  24.904  0.54954  4.413  11.207  1.035   \n58           Devin Booker  61.09  26.764  0.44907  4.223   4.948  1.129   \n86           Jimmy Butler  48.76  19.773  0.46435  5.488   5.557  1.618   \n40           Bradley Beal  32.62  24.358  0.43872  6.281   4.633  0.855   \n75           Jaylen Brown  59.49  24.459  0.47368  3.249   6.068  1.220   \n24            LaMelo Ball  65.50  20.588  0.43836  7.257   5.908  1.517   \n7           Jarrett Allen  44.98  17.673  0.66123  1.490  10.614  0.764   \n66          Miles Bridges  72.65  21.242  0.50319  3.204   6.749  0.942   \n21          Deandre Ayton  60.08  15.981  0.63165  1.555  10.148  0.636   \n2             Bam Adebayo  49.62  16.966  0.55169  3.307  10.119  1.388   \n\n      BLK    TOV     pred  \n11  1.309  2.508  0.48309  \n58  0.331  2.560  0.02682  \n86  0.558  1.936  0.01028  \n40  0.309  3.327  0.00531  \n75  0.335  2.523  0.00419  \n24  0.312  3.117  0.00248  \n7   1.269  1.800  0.00027  \n66  0.724  1.660  0.00018  \n21  0.648  1.690  0.00015  \n2   0.629  2.333  0.00009  ",
      "text/html": "<div>\n<style scoped>\n    .dataframe tbody tr th:only-of-type {\n        vertical-align: middle;\n    }\n\n    .dataframe tbody tr th {\n        vertical-align: top;\n    }\n\n    .dataframe thead th {\n        text-align: right;\n    }\n</style>\n<table border=\"1\" class=\"dataframe\">\n  <thead>\n    <tr style=\"text-align: right;\">\n      <th></th>\n      <th>Player</th>\n      <th>G</th>\n      <th>PTS</th>\n      <th>FG%</th>\n      <th>AST</th>\n      <th>TRB</th>\n      <th>STL</th>\n      <th>BLK</th>\n      <th>TOV</th>\n      <th>pred</th>\n    </tr>\n  </thead>\n  <tbody>\n    <tr>\n      <th>11</th>\n      <td>Giannis Antetokounmpo</td>\n      <td>92.26</td>\n      <td>24.904</td>\n      <td>0.54954</td>\n      <td>4.413</td>\n      <td>11.207</td>\n      <td>1.035</td>\n      <td>1.309</td>\n      <td>2.508</td>\n      <td>0.48309</td>\n    </tr>\n    <tr>\n      <th>58</th>\n      <td>Devin Booker</td>\n      <td>61.09</td>\n      <td>26.764</td>\n      <td>0.44907</td>\n      <td>4.223</td>\n      <td>4.948</td>\n      <td>1.129</td>\n      <td>0.331</td>\n      <td>2.560</td>\n      <td>0.02682</td>\n    </tr>\n    <tr>\n      <th>86</th>\n      <td>Jimmy Butler</td>\n      <td>48.76</td>\n      <td>19.773</td>\n      <td>0.46435</td>\n      <td>5.488</td>\n      <td>5.557</td>\n      <td>1.618</td>\n      <td>0.558</td>\n      <td>1.936</td>\n      <td>0.01028</td>\n    </tr>\n    <tr>\n      <th>40</th>\n      <td>Bradley Beal</td>\n      <td>32.62</td>\n      <td>24.358</td>\n      <td>0.43872</td>\n      <td>6.281</td>\n      <td>4.633</td>\n      <td>0.855</td>\n      <td>0.309</td>\n      <td>3.327</td>\n      <td>0.00531</td>\n    </tr>\n    <tr>\n      <th>75</th>\n      <td>Jaylen Brown</td>\n      <td>59.49</td>\n      <td>24.459</td>\n      <td>0.47368</td>\n      <td>3.249</td>\n      <td>6.068</td>\n      <td>1.220</td>\n      <td>0.335</td>\n      <td>2.523</td>\n      <td>0.00419</td>\n    </tr>\n    <tr>\n      <th>24</th>\n      <td>LaMelo Ball</td>\n      <td>65.50</td>\n      <td>20.588</td>\n      <td>0.43836</td>\n      <td>7.257</td>\n      <td>5.908</td>\n      <td>1.517</td>\n      <td>0.312</td>\n      <td>3.117</td>\n      <td>0.00248</td>\n    </tr>\n    <tr>\n      <th>7</th>\n      <td>Jarrett Allen</td>\n      <td>44.98</td>\n      <td>17.673</td>\n      <td>0.66123</td>\n      <td>1.490</td>\n      <td>10.614</td>\n      <td>0.764</td>\n      <td>1.269</td>\n      <td>1.800</td>\n      <td>0.00027</td>\n    </tr>\n    <tr>\n      <th>66</th>\n      <td>Miles Bridges</td>\n      <td>72.65</td>\n      <td>21.242</td>\n      <td>0.50319</td>\n      <td>3.204</td>\n      <td>6.749</td>\n      <td>0.942</td>\n      <td>0.724</td>\n      <td>1.660</td>\n      <td>0.00018</td>\n    </tr>\n    <tr>\n      <th>21</th>\n      <td>Deandre Ayton</td>\n      <td>60.08</td>\n      <td>15.981</td>\n      <td>0.63165</td>\n      <td>1.555</td>\n      <td>10.148</td>\n      <td>0.636</td>\n      <td>0.648</td>\n      <td>1.690</td>\n      <td>0.00015</td>\n    </tr>\n    <tr>\n      <th>2</th>\n      <td>Bam Adebayo</td>\n      <td>49.62</td>\n      <td>16.966</td>\n      <td>0.55169</td>\n      <td>3.307</td>\n      <td>10.119</td>\n      <td>1.388</td>\n      <td>0.629</td>\n      <td>2.333</td>\n      <td>0.00009</td>\n    </tr>\n  </tbody>\n</table>\n</div>"
     },
     "execution_count": 66,
     "metadata": {},
     "output_type": "execute_result"
    }
   ],
   "source": [
    "test_set.sort_values('pred_rank', ascending=True).head(10)[\n",
    "    ['Player', 'G', 'PTS', 'FG%', 'AST', 'TRB', 'STL', 'BLK', 'TOV', 'pred']]"
   ]
  },
  {
   "cell_type": "code",
   "execution_count": 57,
   "metadata": {
    "pycharm": {
     "name": "#%%\n"
    }
   },
   "outputs": [
    {
     "name": "stdout",
     "output_type": "stream",
     "text": [
      "Fitting 5 folds for each of 12 candidates, totalling 60 fits\n",
      "{'feat_selection__percentile': 55, 'reg': RandomForestRegressor()}\n",
      "0.5928802222982398\n"
     ]
    }
   ],
   "source": [
    "\n",
    "pipe = Pipeline(\n",
    "\n",
    "    [('feat_selection', SelectPercentile(percentile=60),),('scaler', MinMaxScaler()), ('reg', RandomForestRegressor())])\n",
    "\n",
    "\n",
    "param_grid = [\n",
    "    {\n",
    "     # 'scaler':[MinMaxScaler()],\n",
    "     'feat_selection__percentile':range(45,60,5),\n",
    "     'reg': [RandomForestRegressor(), xgb.XGBRegressor(objective=\"reg:linear\"), SVR(),GradientBoostingRegressor()]\n",
    "\n",
    "     },\n",
    "]\n",
    "\n",
    "\n",
    "\n",
    "\n",
    "# param_grid = {\n",
    "#     'feat_selection':['SelectPercentile':{SelectPercentile(),}\n",
    "#                       SelectKBest()],\n",
    "#     'scaler': [MinMaxScaler(), StandardScaler(), ],\n",
    "#     'reg': [SVR(), GradientBoostingRegressor(), LinearRegression(), ],\n",
    "#     'feat_selection__percentile': [10,25,50,75,80],\n",
    "#     'feat_selection__k': [5,10,15,20],\n",
    "#     {'scaler': [MinMaxScaler()],\n",
    "#      'feature_range': [(0, 1), (-1, 1)],\n",
    "#      'knn__n_neighbors': range(1, 10)},\n",
    "#\n",
    "#     {'scaler': [StandardScaler()],\n",
    "#      'knn__n_neighbors': range(1, 10)}\n",
    "# }\n",
    "\n",
    "grid = GridSearchCV(pipe, param_grid, cv=5, verbose=5, n_jobs=-1,return_train_score=True)\n",
    "grid.fit(x_train, y_train)\n",
    "# print(grid)\n",
    "print(grid.best_params_)\n",
    "print(grid.best_score_)\n",
    "best = grid.best_params_\n"
   ]
  },
  {
   "cell_type": "code",
   "execution_count": 58,
   "outputs": [
    {
     "data": {
      "text/plain": "    pred_rank                 Player      G     PTS      FG%    AST     TRB  \\\n11          1  Giannis Antetokounmpo  92.26  24.904  0.54954  4.413  11.207   \n58          2           Devin Booker  61.09  26.764  0.44907  4.223   4.948   \n75          3           Jaylen Brown  59.49  24.459  0.47368  3.249   6.068   \n86          4           Jimmy Butler  48.76  19.773  0.46435  5.488   5.557   \n40          5           Bradley Beal  32.62  24.358  0.43872  6.281   4.633   \n24          6            LaMelo Ball  65.50  20.588  0.43836  7.257   5.908   \n7           7          Jarrett Allen  44.98  17.673  0.66123  1.490  10.614   \n21          8          Deandre Ayton  60.08  15.981  0.63165  1.555  10.148   \n66          9          Miles Bridges  72.65  21.242  0.50319  3.204   6.749   \n2          10            Bam Adebayo  49.62  16.966  0.55169  3.307  10.119   \n\n      STL     pred  \n11  1.035  0.53383  \n58  1.129  0.03313  \n75  1.220  0.01484  \n86  1.618  0.00825  \n40  0.855  0.00746  \n24  1.517  0.00188  \n7   0.764  0.00062  \n21  0.636  0.00007  \n66  0.942  0.00019  \n2   1.388  0.00016  ",
      "text/html": "<div>\n<style scoped>\n    .dataframe tbody tr th:only-of-type {\n        vertical-align: middle;\n    }\n\n    .dataframe tbody tr th {\n        vertical-align: top;\n    }\n\n    .dataframe thead th {\n        text-align: right;\n    }\n</style>\n<table border=\"1\" class=\"dataframe\">\n  <thead>\n    <tr style=\"text-align: right;\">\n      <th></th>\n      <th>pred_rank</th>\n      <th>Player</th>\n      <th>G</th>\n      <th>PTS</th>\n      <th>FG%</th>\n      <th>AST</th>\n      <th>TRB</th>\n      <th>STL</th>\n      <th>pred</th>\n    </tr>\n  </thead>\n  <tbody>\n    <tr>\n      <th>11</th>\n      <td>1</td>\n      <td>Giannis Antetokounmpo</td>\n      <td>92.26</td>\n      <td>24.904</td>\n      <td>0.54954</td>\n      <td>4.413</td>\n      <td>11.207</td>\n      <td>1.035</td>\n      <td>0.53383</td>\n    </tr>\n    <tr>\n      <th>58</th>\n      <td>2</td>\n      <td>Devin Booker</td>\n      <td>61.09</td>\n      <td>26.764</td>\n      <td>0.44907</td>\n      <td>4.223</td>\n      <td>4.948</td>\n      <td>1.129</td>\n      <td>0.03313</td>\n    </tr>\n    <tr>\n      <th>75</th>\n      <td>3</td>\n      <td>Jaylen Brown</td>\n      <td>59.49</td>\n      <td>24.459</td>\n      <td>0.47368</td>\n      <td>3.249</td>\n      <td>6.068</td>\n      <td>1.220</td>\n      <td>0.01484</td>\n    </tr>\n    <tr>\n      <th>86</th>\n      <td>4</td>\n      <td>Jimmy Butler</td>\n      <td>48.76</td>\n      <td>19.773</td>\n      <td>0.46435</td>\n      <td>5.488</td>\n      <td>5.557</td>\n      <td>1.618</td>\n      <td>0.00825</td>\n    </tr>\n    <tr>\n      <th>40</th>\n      <td>5</td>\n      <td>Bradley Beal</td>\n      <td>32.62</td>\n      <td>24.358</td>\n      <td>0.43872</td>\n      <td>6.281</td>\n      <td>4.633</td>\n      <td>0.855</td>\n      <td>0.00746</td>\n    </tr>\n    <tr>\n      <th>24</th>\n      <td>6</td>\n      <td>LaMelo Ball</td>\n      <td>65.50</td>\n      <td>20.588</td>\n      <td>0.43836</td>\n      <td>7.257</td>\n      <td>5.908</td>\n      <td>1.517</td>\n      <td>0.00188</td>\n    </tr>\n    <tr>\n      <th>7</th>\n      <td>7</td>\n      <td>Jarrett Allen</td>\n      <td>44.98</td>\n      <td>17.673</td>\n      <td>0.66123</td>\n      <td>1.490</td>\n      <td>10.614</td>\n      <td>0.764</td>\n      <td>0.00062</td>\n    </tr>\n    <tr>\n      <th>21</th>\n      <td>8</td>\n      <td>Deandre Ayton</td>\n      <td>60.08</td>\n      <td>15.981</td>\n      <td>0.63165</td>\n      <td>1.555</td>\n      <td>10.148</td>\n      <td>0.636</td>\n      <td>0.00007</td>\n    </tr>\n    <tr>\n      <th>66</th>\n      <td>9</td>\n      <td>Miles Bridges</td>\n      <td>72.65</td>\n      <td>21.242</td>\n      <td>0.50319</td>\n      <td>3.204</td>\n      <td>6.749</td>\n      <td>0.942</td>\n      <td>0.00019</td>\n    </tr>\n    <tr>\n      <th>2</th>\n      <td>10</td>\n      <td>Bam Adebayo</td>\n      <td>49.62</td>\n      <td>16.966</td>\n      <td>0.55169</td>\n      <td>3.307</td>\n      <td>10.119</td>\n      <td>1.388</td>\n      <td>0.00016</td>\n    </tr>\n  </tbody>\n</table>\n</div>"
     },
     "execution_count": 58,
     "metadata": {},
     "output_type": "execute_result"
    }
   ],
   "source": [
    "y_pred = grid.predict(x_test)\n",
    "\n",
    "test_set['pred'] = y_pred\n",
    "# test_set['pred_scaled'] = MinMaxScaler().fit_transform(y_pred.reshape(-1, 1))\n",
    "# test_set['pred_rank'] = test_set.pred.rank(ascending=False).astype(\"int\")\n",
    "\n",
    "\n",
    "test_set.sort_values('pred_rank', ascending=True).head(10)[\n",
    "          ['pred_rank','Player', 'G', 'PTS', 'FG%', 'AST', 'TRB', 'STL', 'pred']]"
   ],
   "metadata": {
    "collapsed": false,
    "pycharm": {
     "name": "#%%\n"
    }
   }
  },
  {
   "cell_type": "markdown",
   "source": [],
   "metadata": {
    "collapsed": false
   }
  },
  {
   "cell_type": "code",
   "execution_count": 51,
   "outputs": [
    {
     "data": {
      "text/plain": "                   Player Pos  Age      G     GS      MP     FG     FGA  \\\n2             Bam Adebayo   C   25  49.62  41.74  30.975  6.653  12.413   \n7           Jarrett Allen   C   24  44.98  37.61  31.616  6.980  10.575   \n11  Giannis Antetokounmpo  PF   28  92.26  78.10  24.518  8.101  15.075   \n15             OG Anunoby  SF   25  40.24  42.49  34.485  5.828  13.483   \n21          Deandre Ayton   C   24  60.08  56.76  28.446  7.232  11.162   \n24            LaMelo Ball  PG   21  65.50  57.00  30.593  7.385  15.885   \n31         Scottie Barnes  PF   21  64.25  61.39  34.634  6.504  13.339   \n32             RJ Barrett  SF   22  62.79  56.25  32.635  6.394  15.120   \n40           Bradley Beal  SG   29  32.62  20.13  32.152  9.051  19.741   \n54       Bojan Bogdanović  PF   33  60.42  49.39  28.561  5.182  12.102   \n58           Devin Booker  SG   26  61.09  52.33  31.237  9.783  21.093   \n66          Miles Bridges  PF   24  72.65  56.20  34.030  7.776  16.005   \n68        Malcolm Brogdon  PG   30  49.83  41.05  29.641  5.677  12.953   \n70          Dillon Brooks  SF   27  17.40  14.44  25.927  6.292  15.095   \n75           Jaylen Brown  SF   26  59.49  69.55  32.968  8.899  18.544   \n79          Jalen Brunson  SG   26  72.39  35.64  29.075  6.164  12.443   \n86           Jimmy Butler  SF   33  48.76  33.57  33.179  6.712  13.683   \n\n        FG%     3P  ...    DWS      WS    WS_48   OBPM   DBPM     BPM   VORP  \\\n2   0.55169  0.135  ...  2.827   4.642  0.14894  0.011  1.359   1.907  1.290   \n7   0.66123  0.027  ...  2.643   6.570  0.19986  2.724  0.887   4.010  1.844   \n11  0.54954  1.288  ...  4.444  14.258  0.29491  5.866  3.746  10.253  7.900   \n15  0.44031  2.463  ...  1.086   2.408  0.08708 -0.768 -0.254  -0.229  0.542   \n21  0.63165  0.238  ...  3.073   7.305  0.17988  1.577  0.214   2.084  2.252   \n24  0.43836  2.796  ...  2.233   7.029  0.14381  3.500 -0.162   4.034  3.759   \n31  0.50375  0.543  ...  2.357   6.644  0.14589  0.859  0.401   1.210  1.598   \n32  0.40673  2.150  ...  1.572  -0.986  0.02169 -1.856 -1.716  -3.007 -1.613   \n40  0.43872  1.400  ...  0.799   1.191  0.05568  1.957 -1.351   1.145  0.016   \n54  0.44959  2.550  ...  1.833   6.424  0.14194  1.218 -1.308   0.526  1.542   \n58  0.44907  2.611  ...  2.918   7.564  0.16244  4.405  0.392   4.086  3.177   \n66  0.50319  1.417  ...  2.514   7.557  0.14597  2.250  0.257   2.687  2.976   \n68  0.42491  1.355  ...  1.243   3.910  0.10815  1.539  0.030   1.459  1.618   \n70  0.42733  1.415  ...  0.909   0.010  0.06684 -1.673 -0.932  -2.503 -0.477   \n75  0.47368  2.140  ...  4.076   6.745  0.14445  2.257  1.485   3.077  2.445   \n79  0.50120  1.045  ...  2.539   6.704  0.13982  0.875 -0.346   0.874  1.581   \n86  0.46435  0.463  ...  3.096   9.280  0.21698  3.377  1.664   5.353  3.644   \n\n        pred  pred_scaled  pred_rank  \n2   0.010957     0.220488         12  \n7   0.025660     0.268451          9  \n11  0.249926     1.000000          1  \n15 -0.036657     0.065175         16  \n21  0.032058     0.289321          7  \n24  0.079106     0.442788          2  \n31  0.000382     0.185994         14  \n32 -0.056637     0.000000         17  \n40  0.011589     0.222552         11  \n54  0.010138     0.217818         13  \n58  0.068103     0.406898          4  \n66  0.077416     0.437277          3  \n68  0.020978     0.253178         10  \n70 -0.023603     0.107754         15  \n75  0.059906     0.380160          5  \n79  0.026874     0.272409          8  \n86  0.037924     0.308454          6  \n\n[17 rows x 51 columns]",
      "text/html": "<div>\n<style scoped>\n    .dataframe tbody tr th:only-of-type {\n        vertical-align: middle;\n    }\n\n    .dataframe tbody tr th {\n        vertical-align: top;\n    }\n\n    .dataframe thead th {\n        text-align: right;\n    }\n</style>\n<table border=\"1\" class=\"dataframe\">\n  <thead>\n    <tr style=\"text-align: right;\">\n      <th></th>\n      <th>Player</th>\n      <th>Pos</th>\n      <th>Age</th>\n      <th>G</th>\n      <th>GS</th>\n      <th>MP</th>\n      <th>FG</th>\n      <th>FGA</th>\n      <th>FG%</th>\n      <th>3P</th>\n      <th>...</th>\n      <th>DWS</th>\n      <th>WS</th>\n      <th>WS_48</th>\n      <th>OBPM</th>\n      <th>DBPM</th>\n      <th>BPM</th>\n      <th>VORP</th>\n      <th>pred</th>\n      <th>pred_scaled</th>\n      <th>pred_rank</th>\n    </tr>\n  </thead>\n  <tbody>\n    <tr>\n      <th>2</th>\n      <td>Bam Adebayo</td>\n      <td>C</td>\n      <td>25</td>\n      <td>49.62</td>\n      <td>41.74</td>\n      <td>30.975</td>\n      <td>6.653</td>\n      <td>12.413</td>\n      <td>0.55169</td>\n      <td>0.135</td>\n      <td>...</td>\n      <td>2.827</td>\n      <td>4.642</td>\n      <td>0.14894</td>\n      <td>0.011</td>\n      <td>1.359</td>\n      <td>1.907</td>\n      <td>1.290</td>\n      <td>0.010957</td>\n      <td>0.220488</td>\n      <td>12</td>\n    </tr>\n    <tr>\n      <th>7</th>\n      <td>Jarrett Allen</td>\n      <td>C</td>\n      <td>24</td>\n      <td>44.98</td>\n      <td>37.61</td>\n      <td>31.616</td>\n      <td>6.980</td>\n      <td>10.575</td>\n      <td>0.66123</td>\n      <td>0.027</td>\n      <td>...</td>\n      <td>2.643</td>\n      <td>6.570</td>\n      <td>0.19986</td>\n      <td>2.724</td>\n      <td>0.887</td>\n      <td>4.010</td>\n      <td>1.844</td>\n      <td>0.025660</td>\n      <td>0.268451</td>\n      <td>9</td>\n    </tr>\n    <tr>\n      <th>11</th>\n      <td>Giannis Antetokounmpo</td>\n      <td>PF</td>\n      <td>28</td>\n      <td>92.26</td>\n      <td>78.10</td>\n      <td>24.518</td>\n      <td>8.101</td>\n      <td>15.075</td>\n      <td>0.54954</td>\n      <td>1.288</td>\n      <td>...</td>\n      <td>4.444</td>\n      <td>14.258</td>\n      <td>0.29491</td>\n      <td>5.866</td>\n      <td>3.746</td>\n      <td>10.253</td>\n      <td>7.900</td>\n      <td>0.249926</td>\n      <td>1.000000</td>\n      <td>1</td>\n    </tr>\n    <tr>\n      <th>15</th>\n      <td>OG Anunoby</td>\n      <td>SF</td>\n      <td>25</td>\n      <td>40.24</td>\n      <td>42.49</td>\n      <td>34.485</td>\n      <td>5.828</td>\n      <td>13.483</td>\n      <td>0.44031</td>\n      <td>2.463</td>\n      <td>...</td>\n      <td>1.086</td>\n      <td>2.408</td>\n      <td>0.08708</td>\n      <td>-0.768</td>\n      <td>-0.254</td>\n      <td>-0.229</td>\n      <td>0.542</td>\n      <td>-0.036657</td>\n      <td>0.065175</td>\n      <td>16</td>\n    </tr>\n    <tr>\n      <th>21</th>\n      <td>Deandre Ayton</td>\n      <td>C</td>\n      <td>24</td>\n      <td>60.08</td>\n      <td>56.76</td>\n      <td>28.446</td>\n      <td>7.232</td>\n      <td>11.162</td>\n      <td>0.63165</td>\n      <td>0.238</td>\n      <td>...</td>\n      <td>3.073</td>\n      <td>7.305</td>\n      <td>0.17988</td>\n      <td>1.577</td>\n      <td>0.214</td>\n      <td>2.084</td>\n      <td>2.252</td>\n      <td>0.032058</td>\n      <td>0.289321</td>\n      <td>7</td>\n    </tr>\n    <tr>\n      <th>24</th>\n      <td>LaMelo Ball</td>\n      <td>PG</td>\n      <td>21</td>\n      <td>65.50</td>\n      <td>57.00</td>\n      <td>30.593</td>\n      <td>7.385</td>\n      <td>15.885</td>\n      <td>0.43836</td>\n      <td>2.796</td>\n      <td>...</td>\n      <td>2.233</td>\n      <td>7.029</td>\n      <td>0.14381</td>\n      <td>3.500</td>\n      <td>-0.162</td>\n      <td>4.034</td>\n      <td>3.759</td>\n      <td>0.079106</td>\n      <td>0.442788</td>\n      <td>2</td>\n    </tr>\n    <tr>\n      <th>31</th>\n      <td>Scottie Barnes</td>\n      <td>PF</td>\n      <td>21</td>\n      <td>64.25</td>\n      <td>61.39</td>\n      <td>34.634</td>\n      <td>6.504</td>\n      <td>13.339</td>\n      <td>0.50375</td>\n      <td>0.543</td>\n      <td>...</td>\n      <td>2.357</td>\n      <td>6.644</td>\n      <td>0.14589</td>\n      <td>0.859</td>\n      <td>0.401</td>\n      <td>1.210</td>\n      <td>1.598</td>\n      <td>0.000382</td>\n      <td>0.185994</td>\n      <td>14</td>\n    </tr>\n    <tr>\n      <th>32</th>\n      <td>RJ Barrett</td>\n      <td>SF</td>\n      <td>22</td>\n      <td>62.79</td>\n      <td>56.25</td>\n      <td>32.635</td>\n      <td>6.394</td>\n      <td>15.120</td>\n      <td>0.40673</td>\n      <td>2.150</td>\n      <td>...</td>\n      <td>1.572</td>\n      <td>-0.986</td>\n      <td>0.02169</td>\n      <td>-1.856</td>\n      <td>-1.716</td>\n      <td>-3.007</td>\n      <td>-1.613</td>\n      <td>-0.056637</td>\n      <td>0.000000</td>\n      <td>17</td>\n    </tr>\n    <tr>\n      <th>40</th>\n      <td>Bradley Beal</td>\n      <td>SG</td>\n      <td>29</td>\n      <td>32.62</td>\n      <td>20.13</td>\n      <td>32.152</td>\n      <td>9.051</td>\n      <td>19.741</td>\n      <td>0.43872</td>\n      <td>1.400</td>\n      <td>...</td>\n      <td>0.799</td>\n      <td>1.191</td>\n      <td>0.05568</td>\n      <td>1.957</td>\n      <td>-1.351</td>\n      <td>1.145</td>\n      <td>0.016</td>\n      <td>0.011589</td>\n      <td>0.222552</td>\n      <td>11</td>\n    </tr>\n    <tr>\n      <th>54</th>\n      <td>Bojan Bogdanović</td>\n      <td>PF</td>\n      <td>33</td>\n      <td>60.42</td>\n      <td>49.39</td>\n      <td>28.561</td>\n      <td>5.182</td>\n      <td>12.102</td>\n      <td>0.44959</td>\n      <td>2.550</td>\n      <td>...</td>\n      <td>1.833</td>\n      <td>6.424</td>\n      <td>0.14194</td>\n      <td>1.218</td>\n      <td>-1.308</td>\n      <td>0.526</td>\n      <td>1.542</td>\n      <td>0.010138</td>\n      <td>0.217818</td>\n      <td>13</td>\n    </tr>\n    <tr>\n      <th>58</th>\n      <td>Devin Booker</td>\n      <td>SG</td>\n      <td>26</td>\n      <td>61.09</td>\n      <td>52.33</td>\n      <td>31.237</td>\n      <td>9.783</td>\n      <td>21.093</td>\n      <td>0.44907</td>\n      <td>2.611</td>\n      <td>...</td>\n      <td>2.918</td>\n      <td>7.564</td>\n      <td>0.16244</td>\n      <td>4.405</td>\n      <td>0.392</td>\n      <td>4.086</td>\n      <td>3.177</td>\n      <td>0.068103</td>\n      <td>0.406898</td>\n      <td>4</td>\n    </tr>\n    <tr>\n      <th>66</th>\n      <td>Miles Bridges</td>\n      <td>PF</td>\n      <td>24</td>\n      <td>72.65</td>\n      <td>56.20</td>\n      <td>34.030</td>\n      <td>7.776</td>\n      <td>16.005</td>\n      <td>0.50319</td>\n      <td>1.417</td>\n      <td>...</td>\n      <td>2.514</td>\n      <td>7.557</td>\n      <td>0.14597</td>\n      <td>2.250</td>\n      <td>0.257</td>\n      <td>2.687</td>\n      <td>2.976</td>\n      <td>0.077416</td>\n      <td>0.437277</td>\n      <td>3</td>\n    </tr>\n    <tr>\n      <th>68</th>\n      <td>Malcolm Brogdon</td>\n      <td>PG</td>\n      <td>30</td>\n      <td>49.83</td>\n      <td>41.05</td>\n      <td>29.641</td>\n      <td>5.677</td>\n      <td>12.953</td>\n      <td>0.42491</td>\n      <td>1.355</td>\n      <td>...</td>\n      <td>1.243</td>\n      <td>3.910</td>\n      <td>0.10815</td>\n      <td>1.539</td>\n      <td>0.030</td>\n      <td>1.459</td>\n      <td>1.618</td>\n      <td>0.020978</td>\n      <td>0.253178</td>\n      <td>10</td>\n    </tr>\n    <tr>\n      <th>70</th>\n      <td>Dillon Brooks</td>\n      <td>SF</td>\n      <td>27</td>\n      <td>17.40</td>\n      <td>14.44</td>\n      <td>25.927</td>\n      <td>6.292</td>\n      <td>15.095</td>\n      <td>0.42733</td>\n      <td>1.415</td>\n      <td>...</td>\n      <td>0.909</td>\n      <td>0.010</td>\n      <td>0.06684</td>\n      <td>-1.673</td>\n      <td>-0.932</td>\n      <td>-2.503</td>\n      <td>-0.477</td>\n      <td>-0.023603</td>\n      <td>0.107754</td>\n      <td>15</td>\n    </tr>\n    <tr>\n      <th>75</th>\n      <td>Jaylen Brown</td>\n      <td>SF</td>\n      <td>26</td>\n      <td>59.49</td>\n      <td>69.55</td>\n      <td>32.968</td>\n      <td>8.899</td>\n      <td>18.544</td>\n      <td>0.47368</td>\n      <td>2.140</td>\n      <td>...</td>\n      <td>4.076</td>\n      <td>6.745</td>\n      <td>0.14445</td>\n      <td>2.257</td>\n      <td>1.485</td>\n      <td>3.077</td>\n      <td>2.445</td>\n      <td>0.059906</td>\n      <td>0.380160</td>\n      <td>5</td>\n    </tr>\n    <tr>\n      <th>79</th>\n      <td>Jalen Brunson</td>\n      <td>SG</td>\n      <td>26</td>\n      <td>72.39</td>\n      <td>35.64</td>\n      <td>29.075</td>\n      <td>6.164</td>\n      <td>12.443</td>\n      <td>0.50120</td>\n      <td>1.045</td>\n      <td>...</td>\n      <td>2.539</td>\n      <td>6.704</td>\n      <td>0.13982</td>\n      <td>0.875</td>\n      <td>-0.346</td>\n      <td>0.874</td>\n      <td>1.581</td>\n      <td>0.026874</td>\n      <td>0.272409</td>\n      <td>8</td>\n    </tr>\n    <tr>\n      <th>86</th>\n      <td>Jimmy Butler</td>\n      <td>SF</td>\n      <td>33</td>\n      <td>48.76</td>\n      <td>33.57</td>\n      <td>33.179</td>\n      <td>6.712</td>\n      <td>13.683</td>\n      <td>0.46435</td>\n      <td>0.463</td>\n      <td>...</td>\n      <td>3.096</td>\n      <td>9.280</td>\n      <td>0.21698</td>\n      <td>3.377</td>\n      <td>1.664</td>\n      <td>5.353</td>\n      <td>3.644</td>\n      <td>0.037924</td>\n      <td>0.308454</td>\n      <td>6</td>\n    </tr>\n  </tbody>\n</table>\n<p>17 rows × 51 columns</p>\n</div>"
     },
     "execution_count": 51,
     "metadata": {},
     "output_type": "execute_result"
    }
   ],
   "source": [
    "# ppln_fitted = pipe.fit(x_train, y_train, )\n",
    "\n",
    "# save\n",
    "# ppln_fitted = joblib.load(\"models/RandomForrestRegressor.pkl\",)\n",
    "\n",
    "# load\n",
    "\n",
    "\n",
    "\n",
    "\n",
    "y_pred = ppln_fitted.predict(x_test)\n",
    "\n",
    "test_set['pred'] = y_pred\n",
    "test_set['pred_scaled'] = MinMaxScaler().fit_transform(y_pred.reshape(-1, 1))\n",
    "test_set['pred_rank'] = test_set.pred.rank(ascending=False).astype(\"int\")\n",
    "\n",
    "\n",
    "test_set\n",
    "\n",
    "# test_set.sort_values('pred_rank', ascending=True).head(10)[\n",
    "#           ['pred_rank','Player', 'G', 'PTS', 'FG%', 'AST', 'TRB', 'STL', 'pred']]"
   ],
   "metadata": {
    "collapsed": false,
    "pycharm": {
     "name": "#%%\n"
    }
   }
  },
  {
   "cell_type": "code",
   "execution_count": 48,
   "outputs": [
    {
     "data": {
      "text/plain": "    pred_rank                 Player     PTS      TS%    AST     TRB    USG%  \\\n11          1  Giannis Antetokounmpo  24.904  0.63237  4.413  11.207  33.072   \n24          2            LaMelo Ball  20.588  0.56522  7.257   5.908  27.749   \n66          3          Miles Bridges  21.242  0.59717  3.204   6.749  24.275   \n58          4           Devin Booker  26.764  0.55134  4.223   4.948  33.633   \n75          5           Jaylen Brown  24.459  0.56380  3.249   6.068  30.899   \n86          6           Jimmy Butler  19.773  0.56184  5.488   5.557  25.643   \n21          7          Deandre Ayton  15.981  0.65563  1.555  10.148  20.627   \n79          8          Jalen Brunson  16.376  0.58142  4.735   3.962  24.072   \n7           9          Jarrett Allen  17.673  0.69006  1.490  10.614  20.616   \n68         10        Malcolm Brogdon  16.377  0.53405  5.926   4.951  23.513   \n\n      WS_48     BPM   VORP  \n11  0.29491  10.253  7.900  \n24  0.14381   4.034  3.759  \n66  0.14597   2.687  2.976  \n58  0.16244   4.086  3.177  \n75  0.14445   3.077  2.445  \n86  0.21698   5.353  3.644  \n21  0.17988   2.084  2.252  \n79  0.13982   0.874  1.581  \n7   0.19986   4.010  1.844  \n68  0.10815   1.459  1.618  ",
      "text/html": "<div>\n<style scoped>\n    .dataframe tbody tr th:only-of-type {\n        vertical-align: middle;\n    }\n\n    .dataframe tbody tr th {\n        vertical-align: top;\n    }\n\n    .dataframe thead th {\n        text-align: right;\n    }\n</style>\n<table border=\"1\" class=\"dataframe\">\n  <thead>\n    <tr style=\"text-align: right;\">\n      <th></th>\n      <th>pred_rank</th>\n      <th>Player</th>\n      <th>PTS</th>\n      <th>TS%</th>\n      <th>AST</th>\n      <th>TRB</th>\n      <th>USG%</th>\n      <th>WS_48</th>\n      <th>BPM</th>\n      <th>VORP</th>\n    </tr>\n  </thead>\n  <tbody>\n    <tr>\n      <th>11</th>\n      <td>1</td>\n      <td>Giannis Antetokounmpo</td>\n      <td>24.904</td>\n      <td>0.63237</td>\n      <td>4.413</td>\n      <td>11.207</td>\n      <td>33.072</td>\n      <td>0.29491</td>\n      <td>10.253</td>\n      <td>7.900</td>\n    </tr>\n    <tr>\n      <th>24</th>\n      <td>2</td>\n      <td>LaMelo Ball</td>\n      <td>20.588</td>\n      <td>0.56522</td>\n      <td>7.257</td>\n      <td>5.908</td>\n      <td>27.749</td>\n      <td>0.14381</td>\n      <td>4.034</td>\n      <td>3.759</td>\n    </tr>\n    <tr>\n      <th>66</th>\n      <td>3</td>\n      <td>Miles Bridges</td>\n      <td>21.242</td>\n      <td>0.59717</td>\n      <td>3.204</td>\n      <td>6.749</td>\n      <td>24.275</td>\n      <td>0.14597</td>\n      <td>2.687</td>\n      <td>2.976</td>\n    </tr>\n    <tr>\n      <th>58</th>\n      <td>4</td>\n      <td>Devin Booker</td>\n      <td>26.764</td>\n      <td>0.55134</td>\n      <td>4.223</td>\n      <td>4.948</td>\n      <td>33.633</td>\n      <td>0.16244</td>\n      <td>4.086</td>\n      <td>3.177</td>\n    </tr>\n    <tr>\n      <th>75</th>\n      <td>5</td>\n      <td>Jaylen Brown</td>\n      <td>24.459</td>\n      <td>0.56380</td>\n      <td>3.249</td>\n      <td>6.068</td>\n      <td>30.899</td>\n      <td>0.14445</td>\n      <td>3.077</td>\n      <td>2.445</td>\n    </tr>\n    <tr>\n      <th>86</th>\n      <td>6</td>\n      <td>Jimmy Butler</td>\n      <td>19.773</td>\n      <td>0.56184</td>\n      <td>5.488</td>\n      <td>5.557</td>\n      <td>25.643</td>\n      <td>0.21698</td>\n      <td>5.353</td>\n      <td>3.644</td>\n    </tr>\n    <tr>\n      <th>21</th>\n      <td>7</td>\n      <td>Deandre Ayton</td>\n      <td>15.981</td>\n      <td>0.65563</td>\n      <td>1.555</td>\n      <td>10.148</td>\n      <td>20.627</td>\n      <td>0.17988</td>\n      <td>2.084</td>\n      <td>2.252</td>\n    </tr>\n    <tr>\n      <th>79</th>\n      <td>8</td>\n      <td>Jalen Brunson</td>\n      <td>16.376</td>\n      <td>0.58142</td>\n      <td>4.735</td>\n      <td>3.962</td>\n      <td>24.072</td>\n      <td>0.13982</td>\n      <td>0.874</td>\n      <td>1.581</td>\n    </tr>\n    <tr>\n      <th>7</th>\n      <td>9</td>\n      <td>Jarrett Allen</td>\n      <td>17.673</td>\n      <td>0.69006</td>\n      <td>1.490</td>\n      <td>10.614</td>\n      <td>20.616</td>\n      <td>0.19986</td>\n      <td>4.010</td>\n      <td>1.844</td>\n    </tr>\n    <tr>\n      <th>68</th>\n      <td>10</td>\n      <td>Malcolm Brogdon</td>\n      <td>16.377</td>\n      <td>0.53405</td>\n      <td>5.926</td>\n      <td>4.951</td>\n      <td>23.513</td>\n      <td>0.10815</td>\n      <td>1.459</td>\n      <td>1.618</td>\n    </tr>\n  </tbody>\n</table>\n</div>"
     },
     "execution_count": 48,
     "metadata": {},
     "output_type": "execute_result"
    }
   ],
   "source": [
    "test_set.sort_values('pred_rank', ascending=True).head(10)[\n",
    "          ['pred_rank','Player', 'PTS', 'TS%', 'AST', 'TRB','USG%','WS_48','BPM','VORP']]"
   ],
   "metadata": {
    "collapsed": false,
    "pycharm": {
     "name": "#%%\n"
    }
   }
  },
  {
   "cell_type": "code",
   "execution_count": 33,
   "outputs": [
    {
     "data": {
      "text/plain": "Index(['Player', 'Pos', 'Age', 'G', 'GS', 'MP', 'FG', 'FGA', 'FG%', '3P',\n       '3PA', '3P%', '2P', '2PA', '2P%', 'eFG%', 'FT', 'FTA', 'FT%', 'ORB',\n       'DRB', 'TRB', 'AST', 'STL', 'BLK', 'TOV', 'PF', 'PTS', 'PER', 'TS%',\n       '3PAr', 'FTr', 'ORB%', 'DRB%', 'TRB%', 'AST%', 'STL%', 'BLK%', 'TOV%',\n       'USG%', 'OWS', 'DWS', 'WS', 'WS_48', 'OBPM', 'DBPM', 'BPM', 'VORP',\n       'pred', 'pred_scaled', 'pred_rank'],\n      dtype='object')"
     },
     "execution_count": 33,
     "metadata": {},
     "output_type": "execute_result"
    }
   ],
   "source": [
    "# test_set.to_csv(f'Histoic Predictions/{}')\n",
    "test_set.columns"
   ],
   "metadata": {
    "collapsed": false,
    "pycharm": {
     "name": "#%%\n"
    }
   }
  },
  {
   "cell_type": "code",
   "execution_count": 34,
   "outputs": [
    {
     "data": {
      "text/plain": "                   Player Pos  Age      G     GS      MP      FG     FGA  \\\n0             Bam Adebayo   C   26  61.98  56.84  31.933   7.539  14.471   \n1   Giannis Antetokounmpo  PF   29  57.64  56.83  31.548  10.580  19.770   \n2              OG Anunoby  SF   26  58.28  51.77  32.019   6.191  12.224   \n3           Deandre Ayton   C   25  49.44  44.13  29.049   7.206  12.429   \n4             LaMelo Ball  PG   22  50.79  41.17  32.642   7.633  18.845   \n..                    ...  ..  ...    ...    ...     ...     ...     ...   \n86           Franz Wagner  SF   22  69.49  67.00  31.633   7.321  15.294   \n89         Andrew Wiggins  SF   28  59.25  42.58  28.046   6.309  13.395   \n90        Zion Williamson  PF   23  63.38  56.04  32.411   8.733  14.866   \n91         Christian Wood   C   28  57.48  32.82  26.963   5.788  11.882   \n92             Trae Young  PG   25  48.26  53.73  33.659   7.782  18.905   \n\n        FG%     3P  ...    DWS     WS    WS_48   OBPM   DBPM    BPM   VORP  \\\n0   0.52656  0.037  ...  3.179  5.216  0.13830  0.895  0.364  1.224  1.690   \n1   0.55233  0.851  ...  3.349  7.517  0.21024  4.538  2.475  7.381  4.824   \n2   0.45874  1.946  ...  2.853  5.443  0.10159 -0.317  0.477 -0.103  1.640   \n3   0.57084  0.148  ...  2.690  3.438  0.13385  0.361 -0.160  0.479  1.350   \n4   0.41462  3.333  ...  1.938  3.067  0.06096  2.986 -0.395  3.027  1.447   \n..      ...    ...  ...    ...    ...      ...    ...    ...    ...    ...   \n86  0.46731  1.745  ...  1.929  5.114  0.09873  0.823 -0.679  0.333  1.036   \n89  0.46612  2.174  ...  1.632  3.776  0.08165 -0.886 -0.395 -1.330  0.752   \n90  0.56214  0.297  ...  2.983  8.307  0.17001  4.016  1.005  6.231  3.414   \n91  0.48739  1.541  ...  1.910  3.542  0.11055  1.197 -0.311  0.983  1.628   \n92  0.42884  1.799  ...  1.076  6.172  0.10658  4.934 -1.641  2.727  3.416   \n\n        pred  pred_scaled  pred_rank  \n0   0.041147     0.267296         36  \n1   0.201356     1.000000          1  \n2  -0.014371     0.013386         79  \n3   0.030505     0.218627         44  \n4   0.055418     0.332564         22  \n..       ...          ...        ...  \n86  0.001806     0.087371         67  \n89  0.006632     0.109444         60  \n90  0.069778     0.398235         17  \n91  0.048677     0.301735         27  \n92  0.084129     0.463868         11  \n\n[82 rows x 51 columns]",
      "text/html": "<div>\n<style scoped>\n    .dataframe tbody tr th:only-of-type {\n        vertical-align: middle;\n    }\n\n    .dataframe tbody tr th {\n        vertical-align: top;\n    }\n\n    .dataframe thead th {\n        text-align: right;\n    }\n</style>\n<table border=\"1\" class=\"dataframe\">\n  <thead>\n    <tr style=\"text-align: right;\">\n      <th></th>\n      <th>Player</th>\n      <th>Pos</th>\n      <th>Age</th>\n      <th>G</th>\n      <th>GS</th>\n      <th>MP</th>\n      <th>FG</th>\n      <th>FGA</th>\n      <th>FG%</th>\n      <th>3P</th>\n      <th>...</th>\n      <th>DWS</th>\n      <th>WS</th>\n      <th>WS_48</th>\n      <th>OBPM</th>\n      <th>DBPM</th>\n      <th>BPM</th>\n      <th>VORP</th>\n      <th>pred</th>\n      <th>pred_scaled</th>\n      <th>pred_rank</th>\n    </tr>\n  </thead>\n  <tbody>\n    <tr>\n      <th>0</th>\n      <td>Bam Adebayo</td>\n      <td>C</td>\n      <td>26</td>\n      <td>61.98</td>\n      <td>56.84</td>\n      <td>31.933</td>\n      <td>7.539</td>\n      <td>14.471</td>\n      <td>0.52656</td>\n      <td>0.037</td>\n      <td>...</td>\n      <td>3.179</td>\n      <td>5.216</td>\n      <td>0.13830</td>\n      <td>0.895</td>\n      <td>0.364</td>\n      <td>1.224</td>\n      <td>1.690</td>\n      <td>0.041147</td>\n      <td>0.267296</td>\n      <td>36</td>\n    </tr>\n    <tr>\n      <th>1</th>\n      <td>Giannis Antetokounmpo</td>\n      <td>PF</td>\n      <td>29</td>\n      <td>57.64</td>\n      <td>56.83</td>\n      <td>31.548</td>\n      <td>10.580</td>\n      <td>19.770</td>\n      <td>0.55233</td>\n      <td>0.851</td>\n      <td>...</td>\n      <td>3.349</td>\n      <td>7.517</td>\n      <td>0.21024</td>\n      <td>4.538</td>\n      <td>2.475</td>\n      <td>7.381</td>\n      <td>4.824</td>\n      <td>0.201356</td>\n      <td>1.000000</td>\n      <td>1</td>\n    </tr>\n    <tr>\n      <th>2</th>\n      <td>OG Anunoby</td>\n      <td>SF</td>\n      <td>26</td>\n      <td>58.28</td>\n      <td>51.77</td>\n      <td>32.019</td>\n      <td>6.191</td>\n      <td>12.224</td>\n      <td>0.45874</td>\n      <td>1.946</td>\n      <td>...</td>\n      <td>2.853</td>\n      <td>5.443</td>\n      <td>0.10159</td>\n      <td>-0.317</td>\n      <td>0.477</td>\n      <td>-0.103</td>\n      <td>1.640</td>\n      <td>-0.014371</td>\n      <td>0.013386</td>\n      <td>79</td>\n    </tr>\n    <tr>\n      <th>3</th>\n      <td>Deandre Ayton</td>\n      <td>C</td>\n      <td>25</td>\n      <td>49.44</td>\n      <td>44.13</td>\n      <td>29.049</td>\n      <td>7.206</td>\n      <td>12.429</td>\n      <td>0.57084</td>\n      <td>0.148</td>\n      <td>...</td>\n      <td>2.690</td>\n      <td>3.438</td>\n      <td>0.13385</td>\n      <td>0.361</td>\n      <td>-0.160</td>\n      <td>0.479</td>\n      <td>1.350</td>\n      <td>0.030505</td>\n      <td>0.218627</td>\n      <td>44</td>\n    </tr>\n    <tr>\n      <th>4</th>\n      <td>LaMelo Ball</td>\n      <td>PG</td>\n      <td>22</td>\n      <td>50.79</td>\n      <td>41.17</td>\n      <td>32.642</td>\n      <td>7.633</td>\n      <td>18.845</td>\n      <td>0.41462</td>\n      <td>3.333</td>\n      <td>...</td>\n      <td>1.938</td>\n      <td>3.067</td>\n      <td>0.06096</td>\n      <td>2.986</td>\n      <td>-0.395</td>\n      <td>3.027</td>\n      <td>1.447</td>\n      <td>0.055418</td>\n      <td>0.332564</td>\n      <td>22</td>\n    </tr>\n    <tr>\n      <th>...</th>\n      <td>...</td>\n      <td>...</td>\n      <td>...</td>\n      <td>...</td>\n      <td>...</td>\n      <td>...</td>\n      <td>...</td>\n      <td>...</td>\n      <td>...</td>\n      <td>...</td>\n      <td>...</td>\n      <td>...</td>\n      <td>...</td>\n      <td>...</td>\n      <td>...</td>\n      <td>...</td>\n      <td>...</td>\n      <td>...</td>\n      <td>...</td>\n      <td>...</td>\n      <td>...</td>\n    </tr>\n    <tr>\n      <th>86</th>\n      <td>Franz Wagner</td>\n      <td>SF</td>\n      <td>22</td>\n      <td>69.49</td>\n      <td>67.00</td>\n      <td>31.633</td>\n      <td>7.321</td>\n      <td>15.294</td>\n      <td>0.46731</td>\n      <td>1.745</td>\n      <td>...</td>\n      <td>1.929</td>\n      <td>5.114</td>\n      <td>0.09873</td>\n      <td>0.823</td>\n      <td>-0.679</td>\n      <td>0.333</td>\n      <td>1.036</td>\n      <td>0.001806</td>\n      <td>0.087371</td>\n      <td>67</td>\n    </tr>\n    <tr>\n      <th>89</th>\n      <td>Andrew Wiggins</td>\n      <td>SF</td>\n      <td>28</td>\n      <td>59.25</td>\n      <td>42.58</td>\n      <td>28.046</td>\n      <td>6.309</td>\n      <td>13.395</td>\n      <td>0.46612</td>\n      <td>2.174</td>\n      <td>...</td>\n      <td>1.632</td>\n      <td>3.776</td>\n      <td>0.08165</td>\n      <td>-0.886</td>\n      <td>-0.395</td>\n      <td>-1.330</td>\n      <td>0.752</td>\n      <td>0.006632</td>\n      <td>0.109444</td>\n      <td>60</td>\n    </tr>\n    <tr>\n      <th>90</th>\n      <td>Zion Williamson</td>\n      <td>PF</td>\n      <td>23</td>\n      <td>63.38</td>\n      <td>56.04</td>\n      <td>32.411</td>\n      <td>8.733</td>\n      <td>14.866</td>\n      <td>0.56214</td>\n      <td>0.297</td>\n      <td>...</td>\n      <td>2.983</td>\n      <td>8.307</td>\n      <td>0.17001</td>\n      <td>4.016</td>\n      <td>1.005</td>\n      <td>6.231</td>\n      <td>3.414</td>\n      <td>0.069778</td>\n      <td>0.398235</td>\n      <td>17</td>\n    </tr>\n    <tr>\n      <th>91</th>\n      <td>Christian Wood</td>\n      <td>C</td>\n      <td>28</td>\n      <td>57.48</td>\n      <td>32.82</td>\n      <td>26.963</td>\n      <td>5.788</td>\n      <td>11.882</td>\n      <td>0.48739</td>\n      <td>1.541</td>\n      <td>...</td>\n      <td>1.910</td>\n      <td>3.542</td>\n      <td>0.11055</td>\n      <td>1.197</td>\n      <td>-0.311</td>\n      <td>0.983</td>\n      <td>1.628</td>\n      <td>0.048677</td>\n      <td>0.301735</td>\n      <td>27</td>\n    </tr>\n    <tr>\n      <th>92</th>\n      <td>Trae Young</td>\n      <td>PG</td>\n      <td>25</td>\n      <td>48.26</td>\n      <td>53.73</td>\n      <td>33.659</td>\n      <td>7.782</td>\n      <td>18.905</td>\n      <td>0.42884</td>\n      <td>1.799</td>\n      <td>...</td>\n      <td>1.076</td>\n      <td>6.172</td>\n      <td>0.10658</td>\n      <td>4.934</td>\n      <td>-1.641</td>\n      <td>2.727</td>\n      <td>3.416</td>\n      <td>0.084129</td>\n      <td>0.463868</td>\n      <td>11</td>\n    </tr>\n  </tbody>\n</table>\n<p>82 rows × 51 columns</p>\n</div>"
     },
     "execution_count": 34,
     "metadata": {},
     "output_type": "execute_result"
    }
   ],
   "source": [
    "test_set"
   ],
   "metadata": {
    "collapsed": false,
    "pycharm": {
     "name": "#%%\n"
    }
   }
  },
  {
   "cell_type": "code",
   "execution_count": 14,
   "outputs": [
    {
     "data": {
      "text/plain": "'Kareem Abdul-Jabbar'"
     },
     "execution_count": 14,
     "metadata": {},
     "output_type": "execute_result"
    }
   ],
   "source": [
    "df.loc[(df.MVP_Rank == 1) & (df.Year == 1980),'Player'].values[0]"
   ],
   "metadata": {
    "collapsed": false,
    "pycharm": {
     "name": "#%%\n"
    }
   }
  },
  {
   "cell_type": "code",
   "execution_count": 23,
   "outputs": [
    {
     "ename": "KeyError",
     "evalue": "\"['MVP'] not in index\"",
     "output_type": "error",
     "traceback": [
      "\u001B[0;31m---------------------------------------------------------------------------\u001B[0m",
      "\u001B[0;31mKeyError\u001B[0m                                  Traceback (most recent call last)",
      "Input \u001B[0;32mIn [23]\u001B[0m, in \u001B[0;36m<module>\u001B[0;34m\u001B[0m\n\u001B[1;32m      1\u001B[0m df[\u001B[38;5;124m'\u001B[39m\u001B[38;5;124mMVP_Rank\u001B[39m\u001B[38;5;124m'\u001B[39m] \u001B[38;5;241m=\u001B[39m df[\u001B[38;5;124m'\u001B[39m\u001B[38;5;124mMVP_Rank\u001B[39m\u001B[38;5;124m'\u001B[39m]\u001B[38;5;241m.\u001B[39mastype(\u001B[38;5;124m\"\u001B[39m\u001B[38;5;124mint\u001B[39m\u001B[38;5;124m\"\u001B[39m)\n\u001B[0;32m----> 3\u001B[0m \u001B[43mdf\u001B[49m\u001B[38;5;241;43m.\u001B[39;49m\u001B[43mloc\u001B[49m\u001B[43m[\u001B[49m\u001B[43m(\u001B[49m\u001B[43mdf\u001B[49m\u001B[38;5;241;43m.\u001B[39;49m\u001B[43mMVP_Rank\u001B[49m\u001B[43m \u001B[49m\u001B[38;5;241;43m==\u001B[39;49m\u001B[43m \u001B[49m\u001B[38;5;241;43m1\u001B[39;49m\u001B[43m)\u001B[49m\u001B[43m \u001B[49m\u001B[38;5;241;43m&\u001B[39;49m\u001B[43m \u001B[49m\u001B[43m(\u001B[49m\u001B[43mdf\u001B[49m\u001B[38;5;241;43m.\u001B[39;49m\u001B[43mYear\u001B[49m\u001B[43m \u001B[49m\u001B[38;5;241;43m==\u001B[39;49m\u001B[43m \u001B[49m\u001B[38;5;241;43m1997\u001B[39;49m\u001B[43m)\u001B[49m\u001B[43m,\u001B[49m\u001B[43m[\u001B[49m\u001B[38;5;124;43m'\u001B[39;49m\u001B[38;5;124;43mPlayer\u001B[39;49m\u001B[38;5;124;43m'\u001B[39;49m\u001B[43m,\u001B[49m\u001B[38;5;124;43m'\u001B[39;49m\u001B[38;5;124;43mMVP\u001B[39;49m\u001B[38;5;124;43m'\u001B[39;49m\u001B[43m]\u001B[49m\u001B[43m]\u001B[49m\n",
      "File \u001B[0;32m~/Dropbox/NBA/venv/lib/python3.9/site-packages/pandas/core/indexing.py:925\u001B[0m, in \u001B[0;36m_LocationIndexer.__getitem__\u001B[0;34m(self, key)\u001B[0m\n\u001B[1;32m    923\u001B[0m         \u001B[38;5;28;01mwith\u001B[39;00m suppress(\u001B[38;5;167;01mKeyError\u001B[39;00m, \u001B[38;5;167;01mIndexError\u001B[39;00m):\n\u001B[1;32m    924\u001B[0m             \u001B[38;5;28;01mreturn\u001B[39;00m \u001B[38;5;28mself\u001B[39m\u001B[38;5;241m.\u001B[39mobj\u001B[38;5;241m.\u001B[39m_get_value(\u001B[38;5;241m*\u001B[39mkey, takeable\u001B[38;5;241m=\u001B[39m\u001B[38;5;28mself\u001B[39m\u001B[38;5;241m.\u001B[39m_takeable)\n\u001B[0;32m--> 925\u001B[0m     \u001B[38;5;28;01mreturn\u001B[39;00m \u001B[38;5;28;43mself\u001B[39;49m\u001B[38;5;241;43m.\u001B[39;49m\u001B[43m_getitem_tuple\u001B[49m\u001B[43m(\u001B[49m\u001B[43mkey\u001B[49m\u001B[43m)\u001B[49m\n\u001B[1;32m    926\u001B[0m \u001B[38;5;28;01melse\u001B[39;00m:\n\u001B[1;32m    927\u001B[0m     \u001B[38;5;66;03m# we by definition only have the 0th axis\u001B[39;00m\n\u001B[1;32m    928\u001B[0m     axis \u001B[38;5;241m=\u001B[39m \u001B[38;5;28mself\u001B[39m\u001B[38;5;241m.\u001B[39maxis \u001B[38;5;129;01mor\u001B[39;00m \u001B[38;5;241m0\u001B[39m\n",
      "File \u001B[0;32m~/Dropbox/NBA/venv/lib/python3.9/site-packages/pandas/core/indexing.py:1109\u001B[0m, in \u001B[0;36m_LocIndexer._getitem_tuple\u001B[0;34m(self, tup)\u001B[0m\n\u001B[1;32m   1106\u001B[0m \u001B[38;5;28;01mif\u001B[39;00m \u001B[38;5;28mself\u001B[39m\u001B[38;5;241m.\u001B[39m_multi_take_opportunity(tup):\n\u001B[1;32m   1107\u001B[0m     \u001B[38;5;28;01mreturn\u001B[39;00m \u001B[38;5;28mself\u001B[39m\u001B[38;5;241m.\u001B[39m_multi_take(tup)\n\u001B[0;32m-> 1109\u001B[0m \u001B[38;5;28;01mreturn\u001B[39;00m \u001B[38;5;28;43mself\u001B[39;49m\u001B[38;5;241;43m.\u001B[39;49m\u001B[43m_getitem_tuple_same_dim\u001B[49m\u001B[43m(\u001B[49m\u001B[43mtup\u001B[49m\u001B[43m)\u001B[49m\n",
      "File \u001B[0;32m~/Dropbox/NBA/venv/lib/python3.9/site-packages/pandas/core/indexing.py:806\u001B[0m, in \u001B[0;36m_LocationIndexer._getitem_tuple_same_dim\u001B[0;34m(self, tup)\u001B[0m\n\u001B[1;32m    803\u001B[0m \u001B[38;5;28;01mif\u001B[39;00m com\u001B[38;5;241m.\u001B[39mis_null_slice(key):\n\u001B[1;32m    804\u001B[0m     \u001B[38;5;28;01mcontinue\u001B[39;00m\n\u001B[0;32m--> 806\u001B[0m retval \u001B[38;5;241m=\u001B[39m \u001B[38;5;28;43mgetattr\u001B[39;49m\u001B[43m(\u001B[49m\u001B[43mretval\u001B[49m\u001B[43m,\u001B[49m\u001B[43m \u001B[49m\u001B[38;5;28;43mself\u001B[39;49m\u001B[38;5;241;43m.\u001B[39;49m\u001B[43mname\u001B[49m\u001B[43m)\u001B[49m\u001B[38;5;241;43m.\u001B[39;49m\u001B[43m_getitem_axis\u001B[49m\u001B[43m(\u001B[49m\u001B[43mkey\u001B[49m\u001B[43m,\u001B[49m\u001B[43m \u001B[49m\u001B[43maxis\u001B[49m\u001B[38;5;241;43m=\u001B[39;49m\u001B[43mi\u001B[49m\u001B[43m)\u001B[49m\n\u001B[1;32m    807\u001B[0m \u001B[38;5;66;03m# We should never have retval.ndim < self.ndim, as that should\u001B[39;00m\n\u001B[1;32m    808\u001B[0m \u001B[38;5;66;03m#  be handled by the _getitem_lowerdim call above.\u001B[39;00m\n\u001B[1;32m    809\u001B[0m \u001B[38;5;28;01massert\u001B[39;00m retval\u001B[38;5;241m.\u001B[39mndim \u001B[38;5;241m==\u001B[39m \u001B[38;5;28mself\u001B[39m\u001B[38;5;241m.\u001B[39mndim\n",
      "File \u001B[0;32m~/Dropbox/NBA/venv/lib/python3.9/site-packages/pandas/core/indexing.py:1153\u001B[0m, in \u001B[0;36m_LocIndexer._getitem_axis\u001B[0;34m(self, key, axis)\u001B[0m\n\u001B[1;32m   1150\u001B[0m     \u001B[38;5;28;01mif\u001B[39;00m \u001B[38;5;28mhasattr\u001B[39m(key, \u001B[38;5;124m\"\u001B[39m\u001B[38;5;124mndim\u001B[39m\u001B[38;5;124m\"\u001B[39m) \u001B[38;5;129;01mand\u001B[39;00m key\u001B[38;5;241m.\u001B[39mndim \u001B[38;5;241m>\u001B[39m \u001B[38;5;241m1\u001B[39m:\n\u001B[1;32m   1151\u001B[0m         \u001B[38;5;28;01mraise\u001B[39;00m \u001B[38;5;167;01mValueError\u001B[39;00m(\u001B[38;5;124m\"\u001B[39m\u001B[38;5;124mCannot index with multidimensional key\u001B[39m\u001B[38;5;124m\"\u001B[39m)\n\u001B[0;32m-> 1153\u001B[0m     \u001B[38;5;28;01mreturn\u001B[39;00m \u001B[38;5;28;43mself\u001B[39;49m\u001B[38;5;241;43m.\u001B[39;49m\u001B[43m_getitem_iterable\u001B[49m\u001B[43m(\u001B[49m\u001B[43mkey\u001B[49m\u001B[43m,\u001B[49m\u001B[43m \u001B[49m\u001B[43maxis\u001B[49m\u001B[38;5;241;43m=\u001B[39;49m\u001B[43maxis\u001B[49m\u001B[43m)\u001B[49m\n\u001B[1;32m   1155\u001B[0m \u001B[38;5;66;03m# nested tuple slicing\u001B[39;00m\n\u001B[1;32m   1156\u001B[0m \u001B[38;5;28;01mif\u001B[39;00m is_nested_tuple(key, labels):\n",
      "File \u001B[0;32m~/Dropbox/NBA/venv/lib/python3.9/site-packages/pandas/core/indexing.py:1093\u001B[0m, in \u001B[0;36m_LocIndexer._getitem_iterable\u001B[0;34m(self, key, axis)\u001B[0m\n\u001B[1;32m   1090\u001B[0m \u001B[38;5;28mself\u001B[39m\u001B[38;5;241m.\u001B[39m_validate_key(key, axis)\n\u001B[1;32m   1092\u001B[0m \u001B[38;5;66;03m# A collection of keys\u001B[39;00m\n\u001B[0;32m-> 1093\u001B[0m keyarr, indexer \u001B[38;5;241m=\u001B[39m \u001B[38;5;28;43mself\u001B[39;49m\u001B[38;5;241;43m.\u001B[39;49m\u001B[43m_get_listlike_indexer\u001B[49m\u001B[43m(\u001B[49m\u001B[43mkey\u001B[49m\u001B[43m,\u001B[49m\u001B[43m \u001B[49m\u001B[43maxis\u001B[49m\u001B[43m)\u001B[49m\n\u001B[1;32m   1094\u001B[0m \u001B[38;5;28;01mreturn\u001B[39;00m \u001B[38;5;28mself\u001B[39m\u001B[38;5;241m.\u001B[39mobj\u001B[38;5;241m.\u001B[39m_reindex_with_indexers(\n\u001B[1;32m   1095\u001B[0m     {axis: [keyarr, indexer]}, copy\u001B[38;5;241m=\u001B[39m\u001B[38;5;28;01mTrue\u001B[39;00m, allow_dups\u001B[38;5;241m=\u001B[39m\u001B[38;5;28;01mTrue\u001B[39;00m\n\u001B[1;32m   1096\u001B[0m )\n",
      "File \u001B[0;32m~/Dropbox/NBA/venv/lib/python3.9/site-packages/pandas/core/indexing.py:1314\u001B[0m, in \u001B[0;36m_LocIndexer._get_listlike_indexer\u001B[0;34m(self, key, axis)\u001B[0m\n\u001B[1;32m   1311\u001B[0m \u001B[38;5;28;01melse\u001B[39;00m:\n\u001B[1;32m   1312\u001B[0m     keyarr, indexer, new_indexer \u001B[38;5;241m=\u001B[39m ax\u001B[38;5;241m.\u001B[39m_reindex_non_unique(keyarr)\n\u001B[0;32m-> 1314\u001B[0m \u001B[38;5;28;43mself\u001B[39;49m\u001B[38;5;241;43m.\u001B[39;49m\u001B[43m_validate_read_indexer\u001B[49m\u001B[43m(\u001B[49m\u001B[43mkeyarr\u001B[49m\u001B[43m,\u001B[49m\u001B[43m \u001B[49m\u001B[43mindexer\u001B[49m\u001B[43m,\u001B[49m\u001B[43m \u001B[49m\u001B[43maxis\u001B[49m\u001B[43m)\u001B[49m\n\u001B[1;32m   1316\u001B[0m \u001B[38;5;28;01mif\u001B[39;00m needs_i8_conversion(ax\u001B[38;5;241m.\u001B[39mdtype) \u001B[38;5;129;01mor\u001B[39;00m \u001B[38;5;28misinstance\u001B[39m(\n\u001B[1;32m   1317\u001B[0m     ax, (IntervalIndex, CategoricalIndex)\n\u001B[1;32m   1318\u001B[0m ):\n\u001B[1;32m   1319\u001B[0m     \u001B[38;5;66;03m# For CategoricalIndex take instead of reindex to preserve dtype.\u001B[39;00m\n\u001B[1;32m   1320\u001B[0m     \u001B[38;5;66;03m#  For IntervalIndex this is to map integers to the Intervals they match to.\u001B[39;00m\n\u001B[1;32m   1321\u001B[0m     keyarr \u001B[38;5;241m=\u001B[39m ax\u001B[38;5;241m.\u001B[39mtake(indexer)\n",
      "File \u001B[0;32m~/Dropbox/NBA/venv/lib/python3.9/site-packages/pandas/core/indexing.py:1377\u001B[0m, in \u001B[0;36m_LocIndexer._validate_read_indexer\u001B[0;34m(self, key, indexer, axis)\u001B[0m\n\u001B[1;32m   1374\u001B[0m     \u001B[38;5;28;01mraise\u001B[39;00m \u001B[38;5;167;01mKeyError\u001B[39;00m(\u001B[38;5;124mf\u001B[39m\u001B[38;5;124m\"\u001B[39m\u001B[38;5;124mNone of [\u001B[39m\u001B[38;5;132;01m{\u001B[39;00mkey\u001B[38;5;132;01m}\u001B[39;00m\u001B[38;5;124m] are in the [\u001B[39m\u001B[38;5;132;01m{\u001B[39;00maxis_name\u001B[38;5;132;01m}\u001B[39;00m\u001B[38;5;124m]\u001B[39m\u001B[38;5;124m\"\u001B[39m)\n\u001B[1;32m   1376\u001B[0m not_found \u001B[38;5;241m=\u001B[39m \u001B[38;5;28mlist\u001B[39m(ensure_index(key)[missing_mask\u001B[38;5;241m.\u001B[39mnonzero()[\u001B[38;5;241m0\u001B[39m]]\u001B[38;5;241m.\u001B[39munique())\n\u001B[0;32m-> 1377\u001B[0m \u001B[38;5;28;01mraise\u001B[39;00m \u001B[38;5;167;01mKeyError\u001B[39;00m(\u001B[38;5;124mf\u001B[39m\u001B[38;5;124m\"\u001B[39m\u001B[38;5;132;01m{\u001B[39;00mnot_found\u001B[38;5;132;01m}\u001B[39;00m\u001B[38;5;124m not in index\u001B[39m\u001B[38;5;124m\"\u001B[39m)\n",
      "\u001B[0;31mKeyError\u001B[0m: \"['MVP'] not in index\""
     ]
    }
   ],
   "source": [
    "df['MVP_Rank'] = df['MVP_Rank'].astype(\"int\")\n",
    "\n",
    "df.loc[(df.MVP_Rank == 1) & (df.Year == 1997),['Player','MVP']]"
   ],
   "metadata": {
    "collapsed": false,
    "pycharm": {
     "name": "#%%\n"
    }
   }
  },
  {
   "cell_type": "code",
   "execution_count": 25,
   "outputs": [],
   "source": [
    "df = pd.read_csv('train_set_full.csv', index_col=0)\n",
    "\n",
    "# print(df.columns)\n",
    "\n",
    "df = df.drop(columns=['STAR', 'DPOY_Rank', 'DPOY_First', 'DPOY_Pts Won', 'DPOY_Pts Max', 'DPOY_Share',\n",
    "                      'DPOY', 'MIP_Rank', 'MIP_First', 'MIP_Pts Won', 'MIP_Pts Max',\n",
    "                      'MIP_Share', 'MIP', 'MVP_First', 'MVP_Pts Won',\n",
    "                      'MVP_Pts Max', 'ROTY_Rank', 'ROTY_First',\n",
    "                      'ROTY_Pts Won', 'ROTY_Pts Max', 'ROTY_Share', 'ROTY', 'SMOTY_Rank',\n",
    "                      'SMOTY_First', 'SMOTY_Pts Won', 'SMOTY_Pts Max', 'SMOTY_Share',\n",
    "                      'SMOTY'], errors='ignore')\n",
    "\n",
    "# df = trim_set(df)"
   ],
   "metadata": {
    "collapsed": false,
    "pycharm": {
     "name": "#%%\n"
    }
   }
  },
  {
   "cell_type": "code",
   "execution_count": 30,
   "outputs": [
    {
     "data": {
      "text/plain": "     Year       Player Pos  Age   Tm   G  GS    MP    FG   FGA  ...   OWS  \\\n151  1986  Karl Malone  PF   22  UTA  81  76  30.6   6.2  12.5  ...  -2.4   \n150  1987  Karl Malone  PF   23  UTA  82  82  34.8   8.9  17.3  ...   1.8   \n144  1988  Karl Malone  PF   24  UTA  82  82  39.0  10.5  20.1  ...   4.0   \n177  1989  Karl Malone  PF   25  UTA  80  80  39.1  10.1  19.5  ...   8.6   \n185  1990  Karl Malone  PF   26  UTA  82  82  38.1  11.1  19.8  ...  10.5   \n195  1991  Karl Malone  PF   27  UTA  82  82  40.3  10.3  19.6  ...   9.9   \n195  1992  Karl Malone  PF   28  UTA  81  81  37.7   9.9  18.7  ...   9.9   \n203  1993  Karl Malone  PF   29  UTA  82  82  37.8   9.7  17.6  ...  10.4   \n212  1994  Karl Malone  PF   30  UTA  82  82  40.6   9.4  18.9  ...   7.4   \n206  1995  Karl Malone  PF   31  UTA  82  82  38.1  10.1  18.9  ...   8.1   \n197  1996  Karl Malone  PF   32  UTA  82  82  38.0   9.6  18.5  ...   9.9   \n191  1997  Karl Malone  PF   33  UTA  82  82  36.6  10.5  19.2  ...  11.6   \n215  1998  Karl Malone  PF   34  UTA  81  81  37.4   9.6  18.2  ...  12.1   \n208  1999  Karl Malone  PF   35  UTA  49  49  37.4   8.0  16.3  ...   6.2   \n222  2000  Karl Malone  PF   36  UTA  82  82  35.9   9.2  18.0  ...  10.7   \n210  2001  Karl Malone  PF   37  UTA  81  81  35.7   8.3  16.6  ...   9.1   \n226  2002  Karl Malone  PF   38  UTA  80  80  38.0   7.9  17.5  ...   5.5   \n215  2003  Karl Malone  PF   39  UTA  81  81  36.2   7.3  15.9  ...   6.9   \n217  2004  Karl Malone  PF   40  LAL  42  42  32.7   4.6   9.5  ...   2.1   \n\n     DWS    WS  WS/48  OBPM  DBPM  BPM  VORP  MVP_Rank  MVP_Share  \n151  4.3   1.9  0.036  -2.4   0.5 -1.9   0.1       0.0      0.000  \n150  5.1   6.9  0.116   0.3   0.0  0.3   1.7      12.0      0.004  \n144  6.1  10.1  0.152   1.7  -0.2  1.5   2.9       8.0      0.045  \n177  6.6  15.2  0.233   4.3   1.2  5.4   5.9       3.0      0.426  \n185  5.4  15.9  0.245   5.9   0.5  6.4   6.6       4.0      0.233  \n195  5.6  15.5  0.225   4.8   0.6  5.4   6.2       5.0      0.148  \n195  5.2  15.1  0.237   5.2   0.6  5.7   5.9       4.0      0.273  \n203  5.0  15.4  0.238   6.0   1.4  7.3   7.3       8.0      0.010  \n212  6.1  13.4  0.193   4.1   1.5  5.6   6.4       7.0      0.017  \n206  5.8  13.8  0.212   4.3   1.3  5.6   6.0       3.0      0.507  \n197  5.3  15.1  0.233   5.6   1.4  7.0   7.1       7.0      0.075  \n191  5.1  16.7  0.268   7.1   1.2  8.3   7.8       0.0      0.000  \n215  4.3  16.4  0.259   6.6   0.7  7.3   7.1       2.0      0.726  \n208  3.4   9.6  0.252   5.3   1.4  6.7   4.0       1.0      0.701  \n222  4.5  15.3  0.249   6.4   1.1  7.5   7.1       4.0      0.258  \n210  4.0  13.1  0.217   5.5   1.1  6.6   6.3       7.0      0.017  \n226  4.3   9.8  0.155   2.9   0.8  3.7   4.4       0.0      0.000  \n215  4.3  11.1  0.182   3.2   1.0  4.2   4.6       0.0      0.000  \n217  2.2   4.3  0.151   1.1   1.7  2.8   1.7       0.0      0.000  \n\n[19 rows x 52 columns]",
      "text/html": "<div>\n<style scoped>\n    .dataframe tbody tr th:only-of-type {\n        vertical-align: middle;\n    }\n\n    .dataframe tbody tr th {\n        vertical-align: top;\n    }\n\n    .dataframe thead th {\n        text-align: right;\n    }\n</style>\n<table border=\"1\" class=\"dataframe\">\n  <thead>\n    <tr style=\"text-align: right;\">\n      <th></th>\n      <th>Year</th>\n      <th>Player</th>\n      <th>Pos</th>\n      <th>Age</th>\n      <th>Tm</th>\n      <th>G</th>\n      <th>GS</th>\n      <th>MP</th>\n      <th>FG</th>\n      <th>FGA</th>\n      <th>...</th>\n      <th>OWS</th>\n      <th>DWS</th>\n      <th>WS</th>\n      <th>WS/48</th>\n      <th>OBPM</th>\n      <th>DBPM</th>\n      <th>BPM</th>\n      <th>VORP</th>\n      <th>MVP_Rank</th>\n      <th>MVP_Share</th>\n    </tr>\n  </thead>\n  <tbody>\n    <tr>\n      <th>151</th>\n      <td>1986</td>\n      <td>Karl Malone</td>\n      <td>PF</td>\n      <td>22</td>\n      <td>UTA</td>\n      <td>81</td>\n      <td>76</td>\n      <td>30.6</td>\n      <td>6.2</td>\n      <td>12.5</td>\n      <td>...</td>\n      <td>-2.4</td>\n      <td>4.3</td>\n      <td>1.9</td>\n      <td>0.036</td>\n      <td>-2.4</td>\n      <td>0.5</td>\n      <td>-1.9</td>\n      <td>0.1</td>\n      <td>0.0</td>\n      <td>0.000</td>\n    </tr>\n    <tr>\n      <th>150</th>\n      <td>1987</td>\n      <td>Karl Malone</td>\n      <td>PF</td>\n      <td>23</td>\n      <td>UTA</td>\n      <td>82</td>\n      <td>82</td>\n      <td>34.8</td>\n      <td>8.9</td>\n      <td>17.3</td>\n      <td>...</td>\n      <td>1.8</td>\n      <td>5.1</td>\n      <td>6.9</td>\n      <td>0.116</td>\n      <td>0.3</td>\n      <td>0.0</td>\n      <td>0.3</td>\n      <td>1.7</td>\n      <td>12.0</td>\n      <td>0.004</td>\n    </tr>\n    <tr>\n      <th>144</th>\n      <td>1988</td>\n      <td>Karl Malone</td>\n      <td>PF</td>\n      <td>24</td>\n      <td>UTA</td>\n      <td>82</td>\n      <td>82</td>\n      <td>39.0</td>\n      <td>10.5</td>\n      <td>20.1</td>\n      <td>...</td>\n      <td>4.0</td>\n      <td>6.1</td>\n      <td>10.1</td>\n      <td>0.152</td>\n      <td>1.7</td>\n      <td>-0.2</td>\n      <td>1.5</td>\n      <td>2.9</td>\n      <td>8.0</td>\n      <td>0.045</td>\n    </tr>\n    <tr>\n      <th>177</th>\n      <td>1989</td>\n      <td>Karl Malone</td>\n      <td>PF</td>\n      <td>25</td>\n      <td>UTA</td>\n      <td>80</td>\n      <td>80</td>\n      <td>39.1</td>\n      <td>10.1</td>\n      <td>19.5</td>\n      <td>...</td>\n      <td>8.6</td>\n      <td>6.6</td>\n      <td>15.2</td>\n      <td>0.233</td>\n      <td>4.3</td>\n      <td>1.2</td>\n      <td>5.4</td>\n      <td>5.9</td>\n      <td>3.0</td>\n      <td>0.426</td>\n    </tr>\n    <tr>\n      <th>185</th>\n      <td>1990</td>\n      <td>Karl Malone</td>\n      <td>PF</td>\n      <td>26</td>\n      <td>UTA</td>\n      <td>82</td>\n      <td>82</td>\n      <td>38.1</td>\n      <td>11.1</td>\n      <td>19.8</td>\n      <td>...</td>\n      <td>10.5</td>\n      <td>5.4</td>\n      <td>15.9</td>\n      <td>0.245</td>\n      <td>5.9</td>\n      <td>0.5</td>\n      <td>6.4</td>\n      <td>6.6</td>\n      <td>4.0</td>\n      <td>0.233</td>\n    </tr>\n    <tr>\n      <th>195</th>\n      <td>1991</td>\n      <td>Karl Malone</td>\n      <td>PF</td>\n      <td>27</td>\n      <td>UTA</td>\n      <td>82</td>\n      <td>82</td>\n      <td>40.3</td>\n      <td>10.3</td>\n      <td>19.6</td>\n      <td>...</td>\n      <td>9.9</td>\n      <td>5.6</td>\n      <td>15.5</td>\n      <td>0.225</td>\n      <td>4.8</td>\n      <td>0.6</td>\n      <td>5.4</td>\n      <td>6.2</td>\n      <td>5.0</td>\n      <td>0.148</td>\n    </tr>\n    <tr>\n      <th>195</th>\n      <td>1992</td>\n      <td>Karl Malone</td>\n      <td>PF</td>\n      <td>28</td>\n      <td>UTA</td>\n      <td>81</td>\n      <td>81</td>\n      <td>37.7</td>\n      <td>9.9</td>\n      <td>18.7</td>\n      <td>...</td>\n      <td>9.9</td>\n      <td>5.2</td>\n      <td>15.1</td>\n      <td>0.237</td>\n      <td>5.2</td>\n      <td>0.6</td>\n      <td>5.7</td>\n      <td>5.9</td>\n      <td>4.0</td>\n      <td>0.273</td>\n    </tr>\n    <tr>\n      <th>203</th>\n      <td>1993</td>\n      <td>Karl Malone</td>\n      <td>PF</td>\n      <td>29</td>\n      <td>UTA</td>\n      <td>82</td>\n      <td>82</td>\n      <td>37.8</td>\n      <td>9.7</td>\n      <td>17.6</td>\n      <td>...</td>\n      <td>10.4</td>\n      <td>5.0</td>\n      <td>15.4</td>\n      <td>0.238</td>\n      <td>6.0</td>\n      <td>1.4</td>\n      <td>7.3</td>\n      <td>7.3</td>\n      <td>8.0</td>\n      <td>0.010</td>\n    </tr>\n    <tr>\n      <th>212</th>\n      <td>1994</td>\n      <td>Karl Malone</td>\n      <td>PF</td>\n      <td>30</td>\n      <td>UTA</td>\n      <td>82</td>\n      <td>82</td>\n      <td>40.6</td>\n      <td>9.4</td>\n      <td>18.9</td>\n      <td>...</td>\n      <td>7.4</td>\n      <td>6.1</td>\n      <td>13.4</td>\n      <td>0.193</td>\n      <td>4.1</td>\n      <td>1.5</td>\n      <td>5.6</td>\n      <td>6.4</td>\n      <td>7.0</td>\n      <td>0.017</td>\n    </tr>\n    <tr>\n      <th>206</th>\n      <td>1995</td>\n      <td>Karl Malone</td>\n      <td>PF</td>\n      <td>31</td>\n      <td>UTA</td>\n      <td>82</td>\n      <td>82</td>\n      <td>38.1</td>\n      <td>10.1</td>\n      <td>18.9</td>\n      <td>...</td>\n      <td>8.1</td>\n      <td>5.8</td>\n      <td>13.8</td>\n      <td>0.212</td>\n      <td>4.3</td>\n      <td>1.3</td>\n      <td>5.6</td>\n      <td>6.0</td>\n      <td>3.0</td>\n      <td>0.507</td>\n    </tr>\n    <tr>\n      <th>197</th>\n      <td>1996</td>\n      <td>Karl Malone</td>\n      <td>PF</td>\n      <td>32</td>\n      <td>UTA</td>\n      <td>82</td>\n      <td>82</td>\n      <td>38.0</td>\n      <td>9.6</td>\n      <td>18.5</td>\n      <td>...</td>\n      <td>9.9</td>\n      <td>5.3</td>\n      <td>15.1</td>\n      <td>0.233</td>\n      <td>5.6</td>\n      <td>1.4</td>\n      <td>7.0</td>\n      <td>7.1</td>\n      <td>7.0</td>\n      <td>0.075</td>\n    </tr>\n    <tr>\n      <th>191</th>\n      <td>1997</td>\n      <td>Karl Malone</td>\n      <td>PF</td>\n      <td>33</td>\n      <td>UTA</td>\n      <td>82</td>\n      <td>82</td>\n      <td>36.6</td>\n      <td>10.5</td>\n      <td>19.2</td>\n      <td>...</td>\n      <td>11.6</td>\n      <td>5.1</td>\n      <td>16.7</td>\n      <td>0.268</td>\n      <td>7.1</td>\n      <td>1.2</td>\n      <td>8.3</td>\n      <td>7.8</td>\n      <td>0.0</td>\n      <td>0.000</td>\n    </tr>\n    <tr>\n      <th>215</th>\n      <td>1998</td>\n      <td>Karl Malone</td>\n      <td>PF</td>\n      <td>34</td>\n      <td>UTA</td>\n      <td>81</td>\n      <td>81</td>\n      <td>37.4</td>\n      <td>9.6</td>\n      <td>18.2</td>\n      <td>...</td>\n      <td>12.1</td>\n      <td>4.3</td>\n      <td>16.4</td>\n      <td>0.259</td>\n      <td>6.6</td>\n      <td>0.7</td>\n      <td>7.3</td>\n      <td>7.1</td>\n      <td>2.0</td>\n      <td>0.726</td>\n    </tr>\n    <tr>\n      <th>208</th>\n      <td>1999</td>\n      <td>Karl Malone</td>\n      <td>PF</td>\n      <td>35</td>\n      <td>UTA</td>\n      <td>49</td>\n      <td>49</td>\n      <td>37.4</td>\n      <td>8.0</td>\n      <td>16.3</td>\n      <td>...</td>\n      <td>6.2</td>\n      <td>3.4</td>\n      <td>9.6</td>\n      <td>0.252</td>\n      <td>5.3</td>\n      <td>1.4</td>\n      <td>6.7</td>\n      <td>4.0</td>\n      <td>1.0</td>\n      <td>0.701</td>\n    </tr>\n    <tr>\n      <th>222</th>\n      <td>2000</td>\n      <td>Karl Malone</td>\n      <td>PF</td>\n      <td>36</td>\n      <td>UTA</td>\n      <td>82</td>\n      <td>82</td>\n      <td>35.9</td>\n      <td>9.2</td>\n      <td>18.0</td>\n      <td>...</td>\n      <td>10.7</td>\n      <td>4.5</td>\n      <td>15.3</td>\n      <td>0.249</td>\n      <td>6.4</td>\n      <td>1.1</td>\n      <td>7.5</td>\n      <td>7.1</td>\n      <td>4.0</td>\n      <td>0.258</td>\n    </tr>\n    <tr>\n      <th>210</th>\n      <td>2001</td>\n      <td>Karl Malone</td>\n      <td>PF</td>\n      <td>37</td>\n      <td>UTA</td>\n      <td>81</td>\n      <td>81</td>\n      <td>35.7</td>\n      <td>8.3</td>\n      <td>16.6</td>\n      <td>...</td>\n      <td>9.1</td>\n      <td>4.0</td>\n      <td>13.1</td>\n      <td>0.217</td>\n      <td>5.5</td>\n      <td>1.1</td>\n      <td>6.6</td>\n      <td>6.3</td>\n      <td>7.0</td>\n      <td>0.017</td>\n    </tr>\n    <tr>\n      <th>226</th>\n      <td>2002</td>\n      <td>Karl Malone</td>\n      <td>PF</td>\n      <td>38</td>\n      <td>UTA</td>\n      <td>80</td>\n      <td>80</td>\n      <td>38.0</td>\n      <td>7.9</td>\n      <td>17.5</td>\n      <td>...</td>\n      <td>5.5</td>\n      <td>4.3</td>\n      <td>9.8</td>\n      <td>0.155</td>\n      <td>2.9</td>\n      <td>0.8</td>\n      <td>3.7</td>\n      <td>4.4</td>\n      <td>0.0</td>\n      <td>0.000</td>\n    </tr>\n    <tr>\n      <th>215</th>\n      <td>2003</td>\n      <td>Karl Malone</td>\n      <td>PF</td>\n      <td>39</td>\n      <td>UTA</td>\n      <td>81</td>\n      <td>81</td>\n      <td>36.2</td>\n      <td>7.3</td>\n      <td>15.9</td>\n      <td>...</td>\n      <td>6.9</td>\n      <td>4.3</td>\n      <td>11.1</td>\n      <td>0.182</td>\n      <td>3.2</td>\n      <td>1.0</td>\n      <td>4.2</td>\n      <td>4.6</td>\n      <td>0.0</td>\n      <td>0.000</td>\n    </tr>\n    <tr>\n      <th>217</th>\n      <td>2004</td>\n      <td>Karl Malone</td>\n      <td>PF</td>\n      <td>40</td>\n      <td>LAL</td>\n      <td>42</td>\n      <td>42</td>\n      <td>32.7</td>\n      <td>4.6</td>\n      <td>9.5</td>\n      <td>...</td>\n      <td>2.1</td>\n      <td>2.2</td>\n      <td>4.3</td>\n      <td>0.151</td>\n      <td>1.1</td>\n      <td>1.7</td>\n      <td>2.8</td>\n      <td>1.7</td>\n      <td>0.0</td>\n      <td>0.000</td>\n    </tr>\n  </tbody>\n</table>\n<p>19 rows × 52 columns</p>\n</div>"
     },
     "execution_count": 30,
     "metadata": {},
     "output_type": "execute_result"
    }
   ],
   "source": [
    "df[df.Player == 'Karl Malone']"
   ],
   "metadata": {
    "collapsed": false,
    "pycharm": {
     "name": "#%%\n"
    }
   }
  },
  {
   "cell_type": "code",
   "execution_count": null,
   "outputs": [],
   "source": [],
   "metadata": {
    "collapsed": false,
    "pycharm": {
     "name": "#%%\n"
    }
   }
  }
 ],
 "metadata": {
  "kernelspec": {
   "display_name": "Python 3 (ipykernel)",
   "language": "python",
   "name": "python3"
  },
  "language_info": {
   "codemirror_mode": {
    "name": "ipython",
    "version": 3
   },
   "file_extension": ".py",
   "mimetype": "text/x-python",
   "name": "python",
   "nbconvert_exporter": "python",
   "pygments_lexer": "ipython3",
   "version": "3.9.0"
  }
 },
 "nbformat": 4,
 "nbformat_minor": 1
}