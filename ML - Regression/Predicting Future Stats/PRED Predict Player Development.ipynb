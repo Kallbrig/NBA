{
 "cells": [
  {
   "cell_type": "code",
   "execution_count": 37,
   "metadata": {
    "collapsed": true
   },
   "outputs": [],
   "source": [
    "\n",
    "import os\n",
    "from datetime import date\n",
    "\n",
    "import pandas as pd\n",
    "from sklearn.ensemble import RandomForestRegressor\n",
    "from sklearn.feature_selection import SelectPercentile\n",
    "from sklearn.pipeline import Pipeline\n",
    "from sklearn.preprocessing import MinMaxScaler\n",
    "\n",
    "import joblib\n",
    "\n",
    "import seaborn as sns\n",
    "import matplotlib.pyplot as plt\n",
    "sns.set_style(\"darkgrid\")\n"
   ]
  },
  {
   "cell_type": "code",
   "execution_count": 38,
   "outputs": [],
   "source": [
    "def trim_set(frame):\n",
    "    return frame[((frame['TRB'] > 2) | (frame['AST'] > 5)) & (frame['PTS'] > 15) & (frame['G'] > 5)]\n",
    "    # return frame[((frame['TRB'] > 5) | (frame['AST'] > 5)) & (frame['PTS'] > 15) & (frame['Win%'] > .5)]"
   ],
   "metadata": {
    "collapsed": false,
    "pycharm": {
     "name": "#%%\n"
    }
   }
  },
  {
   "cell_type": "code",
   "execution_count": 39,
   "outputs": [],
   "source": [
    "mvp_data_dir = '../Basketball Reference Stat Scraper/Awards/MVP'\n",
    "player_data_dir = '../Basketball Reference Stat Scraper/player_stats'"
   ],
   "metadata": {
    "collapsed": false,
    "pycharm": {
     "name": "#%%\n"
    }
   }
  },
  {
   "cell_type": "code",
   "execution_count": 104,
   "outputs": [
    {
     "data": {
      "text/plain": "605"
     },
     "execution_count": 104,
     "metadata": {},
     "output_type": "execute_result"
    }
   ],
   "source": [
    "full_data = []\n",
    "\n",
    "for year in [2022]:\n",
    "    # print(year)\n",
    "    player = pd.read_csv(os.path.join(player_data_dir,f'{year}_player_stats.csv'),index_col=0)\n",
    "    player.Player = player.Player.str.strip('*')\n",
    "\n",
    "    player = player.fillna(0)\n",
    "    full_data.append(player)\n",
    "\n",
    "\n",
    "test = pd.concat(full_data)\n",
    "test = test.reset_index(drop=True)\n",
    "test.rename(columns={'WS/48':'WS_48'},inplace=True)\n",
    "len(test)"
   ],
   "metadata": {
    "collapsed": false,
    "pycharm": {
     "name": "#%%\n"
    }
   }
  },
  {
   "cell_type": "code",
   "execution_count": 105,
   "outputs": [],
   "source": [
    "df = test.drop(columns=['STAR', 'DPOY_Rank', 'DPOY_First', 'DPOY_Pts Won', 'DPOY_Pts Max', 'DPOY_Share',\n",
    "                      'DPOY', 'MIP_Rank', 'MIP_First', 'MIP_Pts Won', 'MIP_Pts Max',\n",
    "                      'MIP_Share', 'MIP', 'MVP_First', 'MVP_Pts Won',\n",
    "                      'MVP_Pts Max', 'ROTY_Rank', 'ROTY_First',\n",
    "                      'ROTY_Pts Won', 'ROTY_Pts Max', 'ROTY_Share', 'ROTY', 'SMOTY_Rank',\n",
    "                      'SMOTY_First', 'SMOTY_Pts Won', 'SMOTY_Pts Max', 'SMOTY_Share',\n",
    "                      'SMOTY','First'], errors='ignore')"
   ],
   "metadata": {
    "collapsed": false,
    "pycharm": {
     "name": "#%%\n"
    }
   }
  },
  {
   "cell_type": "code",
   "execution_count": 106,
   "outputs": [],
   "source": [
    "df = trim_set(df)\n"
   ],
   "metadata": {
    "collapsed": false,
    "pycharm": {
     "name": "#%%\n"
    }
   }
  },
  {
   "cell_type": "code",
   "execution_count": 107,
   "outputs": [],
   "source": [
    "\n",
    "\n",
    "feature_list = [\n",
    "    'Age', 'G', 'GS', 'MP', 'FG', 'FGA',\n",
    "    'FG%', '3P', '3PA', '3P%', '2P', '2PA', '2P%', 'eFG%', 'FT', 'FTA',\n",
    "    'FT%', 'ORB', 'DRB', 'TRB', 'AST', 'STL', 'BLK', 'TOV', 'PF', 'PTS',\n",
    "    'PER', 'TS%', '3PAr', 'FTr', 'ORB%', 'DRB%', 'TRB%', 'AST%', 'STL%',\n",
    "    'BLK%', 'TOV%', 'USG%', 'OWS', 'DWS', 'WS','WS_48',\n",
    "    'OBPM', 'DBPM','BPM', 'VORP'\n",
    "]\n",
    "\n",
    "x = df[feature_list]\n",
    "feature_list.remove('Age')"
   ],
   "metadata": {
    "collapsed": false,
    "pycharm": {
     "name": "#%%\n"
    }
   }
  },
  {
   "cell_type": "code",
   "execution_count": 108,
   "outputs": [],
   "source": [
    "results = pd.DataFrame()"
   ],
   "metadata": {
    "collapsed": false,
    "pycharm": {
     "name": "#%%\n"
    }
   }
  },
  {
   "cell_type": "code",
   "execution_count": 109,
   "outputs": [
    {
     "name": "stdout",
     "output_type": "stream",
     "text": [
      "G\n",
      "GS\n",
      "MP\n",
      "FG\n",
      "FGA\n",
      "FG%\n",
      "3P\n",
      "3PA\n",
      "3P%\n",
      "2P\n",
      "2PA\n",
      "2P%\n",
      "eFG%\n",
      "FT\n",
      "FTA\n",
      "FT%\n",
      "ORB\n",
      "DRB\n",
      "TRB\n",
      "AST\n",
      "STL\n",
      "BLK\n",
      "TOV\n",
      "PF\n",
      "PTS\n",
      "PER\n",
      "TS%\n",
      "3PAr\n",
      "FTr\n",
      "ORB%\n",
      "DRB%\n",
      "TRB%\n",
      "AST%\n",
      "STL%\n",
      "BLK%\n",
      "TOV%\n",
      "USG%\n",
      "OWS\n",
      "DWS\n",
      "WS\n",
      "WS_48\n",
      "OBPM\n",
      "DBPM\n",
      "BPM\n",
      "VORP\n"
     ]
    }
   ],
   "source": [
    "\n",
    "for i in feature_list:\n",
    "    print(i)\n",
    "    filename = f'All_Stat_Models/{i}.pkl'\n",
    "    pipe = joblib.load(filename)\n",
    "\n",
    "\n",
    "    results[f'{i}_Diff'] = pipe.predict(x)\n"
   ],
   "metadata": {
    "collapsed": false,
    "pycharm": {
     "name": "#%%\n"
    }
   }
  },
  {
   "cell_type": "code",
   "execution_count": 110,
   "outputs": [],
   "source": [
    "predicted_stats = pd.DataFrame()\n",
    "a = pd.concat([df,results],axis=1,)\n"
   ],
   "metadata": {
    "collapsed": false,
    "pycharm": {
     "name": "#%%\n"
    }
   }
  },
  {
   "cell_type": "code",
   "execution_count": 111,
   "outputs": [],
   "source": [
    "predicted_stats['Age'] = df['Age'] + 1\n",
    "\n",
    "for i in feature_list:\n",
    "    predicted_stats[f'{i}'] = df[i] + results[f'{i}_Diff']\n"
   ],
   "metadata": {
    "collapsed": false,
    "pycharm": {
     "name": "#%%\n"
    }
   }
  },
  {
   "cell_type": "code",
   "execution_count": 112,
   "outputs": [],
   "source": [
    "predicted_stats = pd.concat([df[['Player','Pos']],predicted_stats],axis=1)"
   ],
   "metadata": {
    "collapsed": false,
    "pycharm": {
     "name": "#%%\n"
    }
   }
  },
  {
   "cell_type": "code",
   "execution_count": 113,
   "outputs": [],
   "source": [
    "predicted_stats.to_csv('Next_Year_Predicted_Stats.csv')"
   ],
   "metadata": {
    "collapsed": false,
    "pycharm": {
     "name": "#%%\n"
    }
   }
  },
  {
   "cell_type": "code",
   "execution_count": null,
   "outputs": [],
   "source": [],
   "metadata": {
    "collapsed": false,
    "pycharm": {
     "name": "#%%\n"
    }
   }
  }
 ],
 "metadata": {
  "kernelspec": {
   "display_name": "Python 3",
   "language": "python",
   "name": "python3"
  },
  "language_info": {
   "codemirror_mode": {
    "name": "ipython",
    "version": 2
   },
   "file_extension": ".py",
   "mimetype": "text/x-python",
   "name": "python",
   "nbconvert_exporter": "python",
   "pygments_lexer": "ipython2",
   "version": "2.7.6"
  }
 },
 "nbformat": 4,
 "nbformat_minor": 0
}