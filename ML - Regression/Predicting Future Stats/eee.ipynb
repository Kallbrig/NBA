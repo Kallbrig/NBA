{
 "cells": [
  {
   "cell_type": "code",
   "execution_count": 149,
   "metadata": {
    "collapsed": true
   },
   "outputs": [],
   "source": [
    "\n",
    "import os\n",
    "\n",
    "import joblib\n",
    "import pandas as pd\n",
    "import seaborn as sns\n",
    "import xgboost as xgb\n",
    "from sklearn.ensemble import GradientBoostingRegressor\n",
    "from sklearn.ensemble import RandomForestRegressor\n",
    "from sklearn.feature_selection import SelectKBest, SelectPercentile\n",
    "from sklearn.model_selection import GridSearchCV\n",
    "from sklearn.pipeline import Pipeline\n",
    "from sklearn.preprocessing import MinMaxScaler\n",
    "from sklearn.preprocessing import StandardScaler\n",
    "from sklearn.svm import SVR\n",
    "\n",
    "sns.set_style(\"darkgrid\")"
   ]
  },
  {
   "cell_type": "code",
   "execution_count": 2,
   "outputs": [],
   "source": [
    "def trim_set(frame):\n",
    "    return frame[((frame['TRB'] > 2) | (frame['AST'] > 5)) & (frame['PTS'] > 15) & (frame['G'] > 5)]\n",
    "    # return frame[((frame['TRB'] > 5) | (frame['AST'] > 5)) & (frame['PTS'] > 15) & (frame['Win%'] > .5)]"
   ],
   "metadata": {
    "collapsed": false,
    "pycharm": {
     "name": "#%%\n"
    }
   }
  },
  {
   "cell_type": "code",
   "execution_count": 3,
   "outputs": [],
   "source": [
    "player_data_dir = '../Basketball Reference Stat Scraper/player_stats'"
   ],
   "metadata": {
    "collapsed": false,
    "pycharm": {
     "name": "#%%\n"
    }
   }
  },
  {
   "cell_type": "code",
   "execution_count": 27,
   "outputs": [
    {
     "name": "stdout",
     "output_type": "stream",
     "text": [
      "18827\n"
     ]
    }
   ],
   "source": [
    "full_data = []\n",
    "\n",
    "for year in range(1980, 2024):\n",
    "    # print(year)\n",
    "    player = pd.read_csv(os.path.join(player_data_dir, f'{year}_player_stats.csv'), index_col=0)\n",
    "    player.Player = player.Player.str.strip('*')\n",
    "\n",
    "    player = player.fillna(0)\n",
    "    full_data.append(player)\n",
    "\n",
    "len(full_data)\n",
    "df = pd.concat(full_data)\n",
    "df = df.reset_index(drop=True)\n",
    "print(len(df))"
   ],
   "metadata": {
    "collapsed": false,
    "pycharm": {
     "name": "#%%\n"
    }
   }
  },
  {
   "cell_type": "code",
   "execution_count": 28,
   "outputs": [
    {
     "data": {
      "text/plain": "array([1980, 1981, 1982, 1983, 1984, 1985, 1986, 1987, 1988, 1989, 1990,\n       1991, 1992, 1993, 1994, 1995, 1996, 1997, 1998, 1999, 2000, 2001,\n       2002, 2003, 2004, 2005, 2006, 2007, 2008, 2009, 2010, 2011, 2012,\n       2013, 2014, 2015, 2016, 2017, 2018, 2019, 2020, 2021, 2022, 2023])"
     },
     "execution_count": 28,
     "metadata": {},
     "output_type": "execute_result"
    }
   ],
   "source": [
    "df.Year.unique()"
   ],
   "metadata": {
    "collapsed": false,
    "pycharm": {
     "name": "#%%\n"
    }
   }
  },
  {
   "cell_type": "code",
   "execution_count": 29,
   "outputs": [
    {
     "data": {
      "text/plain": "18827"
     },
     "execution_count": 29,
     "metadata": {},
     "output_type": "execute_result"
    }
   ],
   "source": [
    "features_to_predict = ['Age', 'G', 'GS', 'MP', 'FG', 'FGA', 'FG%', '3P',\n",
    "                       '3PA', '3P%', '2P', '2PA', '2P%', 'eFG%', 'FT', 'FTA', 'FT%', 'ORB',\n",
    "                       'DRB', 'TRB', 'AST', 'STL', 'BLK', 'TOV', 'PF', 'PTS', 'PER', 'TS%',\n",
    "                       '3PAr', 'FTr', 'ORB%', 'DRB%', 'TRB%', 'AST%', 'STL%', 'BLK%', 'TOV%',\n",
    "                       'USG%', 'OWS', 'DWS', 'WS', 'WS/48', 'OBPM', 'DBPM', 'BPM', 'VORP',\n",
    "                       ]\n",
    "\n",
    "for j in features_to_predict:\n",
    "\n",
    "    for i in df.Player.unique():\n",
    "        df.loc[df['Player'] == i, f'{j}_Diff'] = df.loc[df['Player'] == i, j].diff().shift(-1)\n",
    "\n",
    "    df.loc[df['Player'] == i, 'Years_Exp'] = range(len(df.loc[df['Player'] == i, 'Player']))\n",
    "# train.loc[train['Player'] == 'Michael Jordan', train.columns.str.contains('Diff')]\n",
    "len(df)"
   ],
   "metadata": {
    "collapsed": false,
    "pycharm": {
     "name": "#%%\n"
    }
   }
  },
  {
   "cell_type": "code",
   "execution_count": 30,
   "outputs": [],
   "source": [
    "df.to_csv('1980_2023_Stats_Diff.csv')"
   ],
   "metadata": {
    "collapsed": false,
    "pycharm": {
     "name": "#%%\n"
    }
   }
  },
  {
   "cell_type": "code",
   "execution_count": 31,
   "outputs": [],
   "source": [
    "df = trim_set(df)\n",
    "\n",
    "# train = train[~train['PTS_Diff'].isna()]\n",
    "\n",
    "df.rename(columns={\"WS/48\": \"WS_48\", 'WS/48_Diff': 'WS_48_Diff'},\n",
    "          inplace=True)"
   ],
   "metadata": {
    "collapsed": false,
    "pycharm": {
     "name": "#%%\n"
    }
   }
  },
  {
   "cell_type": "code",
   "execution_count": 63,
   "outputs": [
    {
     "name": "stdout",
     "output_type": "stream",
     "text": [
      "2681\n"
     ]
    }
   ],
   "source": [
    "train = df[df['Year'] < 2022]\n",
    "print(len(train))\n",
    "train = train.dropna(subset=['PTS_Diff'], axis=0)\n",
    "train = train.drop(columns=['Years_Exp'])\n",
    "test = df[df['Year'] == 2022]"
   ],
   "metadata": {
    "collapsed": false,
    "pycharm": {
     "name": "#%%\n"
    }
   }
  },
  {
   "cell_type": "code",
   "execution_count": 64,
   "outputs": [
    {
     "data": {
      "text/plain": "Player       0\nPos          0\nAST_Diff     0\nTRB_Diff     0\nDRB_Diff     0\n            ..\nPER          0\nPTS          0\nPF           0\nTOV          0\nVORP_Diff    0\nLength: 96, dtype: int64"
     },
     "execution_count": 64,
     "metadata": {},
     "output_type": "execute_result"
    }
   ],
   "source": [
    "train.isna().sum().sort_values(ascending=False)"
   ],
   "metadata": {
    "collapsed": false,
    "pycharm": {
     "name": "#%%\n"
    }
   }
  },
  {
   "cell_type": "code",
   "execution_count": 66,
   "outputs": [
    {
     "name": "stdout",
     "output_type": "stream",
     "text": [
      "All_Stat_Models/Age.pkl\n",
      "All_Stat_Models/G.pkl\n",
      "All_Stat_Models/GS.pkl\n",
      "All_Stat_Models/MP.pkl\n",
      "All_Stat_Models/FG.pkl\n",
      "All_Stat_Models/FGA.pkl\n",
      "All_Stat_Models/FG%.pkl\n",
      "All_Stat_Models/3P.pkl\n",
      "All_Stat_Models/3PA.pkl\n",
      "All_Stat_Models/3P%.pkl\n",
      "All_Stat_Models/2P.pkl\n",
      "All_Stat_Models/2PA.pkl\n",
      "All_Stat_Models/2P%.pkl\n",
      "All_Stat_Models/eFG%.pkl\n",
      "All_Stat_Models/FT.pkl\n",
      "All_Stat_Models/FTA.pkl\n",
      "All_Stat_Models/FT%.pkl\n",
      "All_Stat_Models/ORB.pkl\n",
      "All_Stat_Models/DRB.pkl\n",
      "All_Stat_Models/TRB.pkl\n",
      "All_Stat_Models/AST.pkl\n",
      "All_Stat_Models/STL.pkl\n",
      "All_Stat_Models/BLK.pkl\n",
      "All_Stat_Models/TOV.pkl\n",
      "All_Stat_Models/PF.pkl\n",
      "All_Stat_Models/PTS.pkl\n",
      "All_Stat_Models/PER.pkl\n",
      "All_Stat_Models/TS%.pkl\n",
      "All_Stat_Models/3PAr.pkl\n",
      "All_Stat_Models/FTr.pkl\n",
      "All_Stat_Models/ORB%.pkl\n",
      "All_Stat_Models/DRB%.pkl\n",
      "All_Stat_Models/TRB%.pkl\n",
      "All_Stat_Models/AST%.pkl\n",
      "All_Stat_Models/STL%.pkl\n",
      "All_Stat_Models/BLK%.pkl\n",
      "All_Stat_Models/TOV%.pkl\n",
      "All_Stat_Models/USG%.pkl\n",
      "All_Stat_Models/OWS.pkl\n",
      "All_Stat_Models/DWS.pkl\n",
      "All_Stat_Models/WS.pkl\n",
      "All_Stat_Models/WS_48.pkl\n",
      "All_Stat_Models/OBPM.pkl\n",
      "All_Stat_Models/DBPM.pkl\n",
      "All_Stat_Models/BPM.pkl\n",
      "All_Stat_Models/VORP.pkl\n"
     ]
    }
   ],
   "source": [
    "\n",
    "feature_list = [\n",
    "    'Age', 'G', 'GS', 'MP', 'FG', 'FGA',\n",
    "    'FG%', '3P', '3PA', '3P%', '2P', '2PA', '2P%', 'eFG%', 'FT', 'FTA',\n",
    "    'FT%', 'ORB', 'DRB', 'TRB', 'AST', 'STL', 'BLK', 'TOV', 'PF', 'PTS',\n",
    "    'PER', 'TS%', '3PAr', 'FTr', 'ORB%', 'DRB%', 'TRB%', 'AST%', 'STL%',\n",
    "    'BLK%', 'TOV%', 'USG%', 'OWS', 'DWS', 'WS', 'WS_48', 'OBPM', 'DBPM', 'BPM', 'VORP'\n",
    "]\n",
    "\n",
    "features_to_predict = [\n",
    "    # 'Age',\n",
    "    'G', 'GS', 'MP', 'FG', 'FGA', 'FG%', '3P',\n",
    "    '3PA', '3P%', '2P', '2PA', '2P%', 'eFG%', 'FT', 'FTA', 'FT%', 'ORB',\n",
    "    'DRB', 'TRB', 'AST', 'STL', 'BLK', 'TOV', 'PF', 'PTS', 'PER', 'TS%',\n",
    "    '3PAr', 'FTr', 'ORB%', 'DRB%', 'TRB%', 'AST%', 'STL%', 'BLK%', 'TOV%',\n",
    "    'USG%', 'OWS', 'DWS', 'WS', 'WS_48', 'OBPM', 'DBPM', 'BPM', 'VORP',\n",
    "]\n",
    "\n",
    "x = train[feature_list]\n",
    "\n",
    "for i in features_to_predict:\n",
    "    y = train.loc[:, f'{i}_Diff', ]\n",
    "\n",
    "    pipe = Pipeline(\n",
    "\n",
    "        [('feat_selection', SelectPercentile(percentile=60),),\n",
    "         ('scaler', MinMaxScaler()),\n",
    "         ('reg', RandomForestRegressor())]\n",
    "    )\n",
    "\n",
    "    pipe.fit(x, y)\n",
    "\n",
    "    filename = f'All_Stat_Models/{i}.pkl'\n",
    "    joblib.dump(pipe, filename)\n",
    "    print(filename)"
   ],
   "metadata": {
    "collapsed": false,
    "pycharm": {
     "name": "#%%\n"
    }
   }
  },
  {
   "cell_type": "code",
   "execution_count": 70,
   "outputs": [
    {
     "name": "stdout",
     "output_type": "stream",
     "text": [
      "Age\n",
      "G\n",
      "GS\n",
      "MP\n",
      "FG\n",
      "FGA\n",
      "FG%\n",
      "3P\n",
      "3PA\n",
      "3P%\n",
      "2P\n",
      "2PA\n",
      "2P%\n",
      "eFG%\n",
      "FT\n",
      "FTA\n",
      "FT%\n",
      "ORB\n",
      "DRB\n",
      "TRB\n",
      "AST\n",
      "STL\n",
      "BLK\n",
      "TOV\n",
      "PF\n",
      "PTS\n",
      "PER\n",
      "TS%\n",
      "3PAr\n",
      "FTr\n",
      "ORB%\n",
      "DRB%\n",
      "TRB%\n",
      "AST%\n",
      "STL%\n",
      "BLK%\n",
      "TOV%\n",
      "USG%\n",
      "OWS\n",
      "DWS\n",
      "WS\n",
      "WS_48\n",
      "OBPM\n",
      "DBPM\n",
      "BPM\n",
      "VORP\n"
     ]
    }
   ],
   "source": [
    "results = pd.DataFrame()\n",
    "\n",
    "for i in feature_list:\n",
    "    print(i)\n",
    "    filename = f'All_Stat_Models/{i}.pkl'\n",
    "    pipe = joblib.load(filename)\n",
    "\n",
    "    results[f'{i}_Diff'] = pipe.predict(test.loc[:, feature_list])"
   ],
   "metadata": {
    "collapsed": false,
    "pycharm": {
     "name": "#%%\n"
    }
   }
  },
  {
   "cell_type": "code",
   "execution_count": 94,
   "outputs": [],
   "source": [
    "predicted_stats = pd.DataFrame()"
   ],
   "metadata": {
    "collapsed": false,
    "pycharm": {
     "name": "#%%\n"
    }
   }
  },
  {
   "cell_type": "code",
   "execution_count": 141,
   "outputs": [],
   "source": [
    "d = pd.concat([test.reset_index(drop=True), results], axis=1)\n",
    "next_years_predicted_stats = pd.DataFrame()\n",
    "for i in feature_list:\n",
    "    # print(i)\n",
    "    next_years_predicted_stats.loc[:, i] = d[[f'{i}_Diff', i]].sum(axis=1)"
   ],
   "metadata": {
    "collapsed": false,
    "pycharm": {
     "name": "#%%\n"
    }
   }
  },
  {
   "cell_type": "code",
   "execution_count": 142,
   "outputs": [],
   "source": [
    "next_years_predicted_stats = pd.concat([test[['Player', ]].reset_index(drop=True), next_years_predicted_stats], axis=1)"
   ],
   "metadata": {
    "collapsed": false,
    "pycharm": {
     "name": "#%%\n"
    }
   }
  },
  {
   "cell_type": "markdown",
   "source": [
    "# Beginning to predict the MVP"
   ],
   "metadata": {
    "collapsed": false,
    "pycharm": {
     "name": "#%% md\n"
    }
   }
  },
  {
   "cell_type": "code",
   "execution_count": 145,
   "outputs": [
    {
     "name": "stdout",
     "output_type": "stream",
     "text": [
      "Index(['Year', 'Player', 'Pos', 'Age', 'Tm', 'G', 'GS', 'MP', 'FG', 'FGA',\n",
      "       'FG%', '3P', '3PA', '3P%', '2P', '2PA', '2P%', 'eFG%', 'FT', 'FTA',\n",
      "       'FT%', 'ORB', 'DRB', 'TRB', 'AST', 'STL', 'BLK', 'TOV', 'PF', 'PTS',\n",
      "       'PER', 'TS%', '3PAr', 'FTr', 'ORB%', 'DRB%', 'TRB%', 'AST%', 'STL%',\n",
      "       'BLK%', 'TOV%', 'USG%', 'OWS', 'DWS', 'WS', 'WS_48', 'OBPM', 'DBPM',\n",
      "       'BPM', 'VORP', 'MVP_Rank', 'MVP_First', 'MVP_Pts Won', 'MVP_Pts Max',\n",
      "       'MVP_Share'],\n",
      "      dtype='object')\n"
     ]
    },
    {
     "data": {
      "text/plain": "array([1980, 1981, 1982, 1983, 1984, 1985, 1986, 1987, 1988, 1989, 1990,\n       1991, 1992, 1993, 1994, 1995, 1996, 1997, 1998, 1999, 2000, 2001,\n       2002, 2003, 2004, 2005, 2006, 2007, 2008, 2009, 2010, 2011, 2012,\n       2013, 2014, 2015, 2016, 2017, 2018, 2019, 2020, 2021])"
     },
     "execution_count": 145,
     "metadata": {},
     "output_type": "execute_result"
    }
   ],
   "source": [
    "df = pd.read_csv('train_set_full.csv', index_col=0)\n",
    "df.rename(columns={'WS/48': 'WS_48'}, inplace=True)\n",
    "print(df.columns)\n",
    "\n",
    "df = df.drop(columns=['STAR', 'DPOY_Rank', 'DPOY_First', 'DPOY_Pts Won', 'DPOY_Pts Max', 'DPOY_Share',\n",
    "                      'DPOY', 'MIP_Rank', 'MIP_First', 'MIP_Pts Won', 'MIP_Pts Max',\n",
    "                      'MIP_Share', 'MIP', 'MVP_First', 'MVP_Pts Won',\n",
    "                      'MVP_Pts Max', 'ROTY_Rank', 'ROTY_First',\n",
    "                      'ROTY_Pts Won', 'ROTY_Pts Max', 'ROTY_Share', 'ROTY', 'SMOTY_Rank',\n",
    "                      'SMOTY_First', 'SMOTY_Pts Won', 'SMOTY_Pts Max', 'SMOTY_Share',\n",
    "                      'SMOTY'], errors='ignore')\n",
    "\n",
    "# df = trim_set(df)\n",
    "df.Year.unique()"
   ],
   "metadata": {
    "collapsed": false,
    "pycharm": {
     "name": "#%%\n"
    }
   }
  },
  {
   "cell_type": "code",
   "execution_count": 146,
   "outputs": [
    {
     "data": {
      "text/plain": "array(['Bam Adebayo', 'Jarrett Allen', 'Giannis Antetokounmpo',\n       'OG Anunoby', 'Deandre Ayton', 'LaMelo Ball', 'Desmond Bane',\n       'Scottie Barnes', 'RJ Barrett', 'Bradley Beal', 'Bojan Bogdanović',\n       'Devin Booker', 'Miles Bridges', 'Jaylen Brown', 'Jalen Brunson',\n       'Jimmy Butler', 'Jordan Clarkson', 'Stephen Curry',\n       'Anthony Davis', 'DeMar DeRozan', 'Luka Dončić', 'Kevin Durant',\n       'Anthony Edwards', 'Joel Embiid', \"De'Aaron Fox\", 'Darius Garland',\n       'Paul George', 'Shai Gilgeous-Alexander', 'Jerami Grant',\n       'Jalen Green', 'Tyrese Haliburton', 'James Harden', 'Tyler Herro',\n       'Jrue Holiday', 'Brandon Ingram', 'Kyrie Irving',\n       'Jaren Jackson Jr.', 'LeBron James', 'Keldon Johnson',\n       'Nikola Jokić', 'Kyle Kuzma', 'Zach LaVine', 'Damian Lillard',\n       'Tyrese Maxey', 'CJ McCollum', 'Donovan Mitchell', 'Ja Morant',\n       'Dejounte Murray', 'Jordan Poole', 'Kevin Porter Jr.',\n       'Kristaps Porziņģis', 'Julius Randle', 'Terry Rozier',\n       \"D'Angelo Russell\", 'Domantas Sabonis', 'Pascal Siakam',\n       'Anfernee Simons', 'Jayson Tatum', 'Klay Thompson',\n       'Karl-Anthony Towns', 'Gary Trent Jr.', 'Fred VanVleet',\n       'Nikola Vučević', 'Franz Wagner', 'Andrew Wiggins', 'Trae Young'],\n      dtype=object)"
     },
     "execution_count": 146,
     "metadata": {},
     "output_type": "execute_result"
    }
   ],
   "source": [
    "train_set = df.copy()\n",
    "test_set = next_years_predicted_stats.copy()\n",
    "test_set = trim_set(test_set)\n",
    "\n",
    "x_train = df.drop(columns=['MVP_Rank', 'MVP_Share', ])\n",
    "y_train = train_set['MVP_Share']\n",
    "\n",
    "test_set.Player.unique()"
   ],
   "metadata": {
    "collapsed": false,
    "pycharm": {
     "name": "#%%\n"
    }
   }
  },
  {
   "cell_type": "code",
   "execution_count": 147,
   "outputs": [],
   "source": [
    "feature_list = ['Age', 'G', 'GS', 'MP', 'FG', 'FGA',\n",
    "                'FG%', '3P', '3PA', '3P%', '2P', '2PA', '2P%', 'eFG%', 'FT', 'FTA',\n",
    "                'FT%', 'ORB', 'DRB', 'TRB', 'AST', 'STL', 'BLK', 'TOV', 'PF', 'PTS',\n",
    "                'PER', 'TS%', '3PAr', 'FTr', 'ORB%', 'DRB%', 'TRB%', 'AST%', 'STL%',\n",
    "                'BLK%', 'TOV%', 'USG%', 'OWS', 'DWS', 'WS', 'WS_48', 'OBPM', 'DBPM',\n",
    "                'BPM', 'VORP']\n",
    "\n",
    "x_train = train_set[feature_list]\n",
    "x_test = test_set[feature_list]"
   ],
   "metadata": {
    "collapsed": false,
    "pycharm": {
     "name": "#%%\n"
    }
   }
  },
  {
   "cell_type": "code",
   "execution_count": 150,
   "outputs": [
    {
     "name": "stdout",
     "output_type": "stream",
     "text": [
      "Fitting 5 folds for each of 16 candidates, totalling 80 fits\n",
      "{'feat_selection': SelectPercentile(percentile=55), 'reg': RandomForestRegressor(), 'scaler': StandardScaler()}\n",
      "0.6013401843266883\n"
     ]
    }
   ],
   "source": [
    "pipe = Pipeline([('feat_selection', SelectPercentile(),),\n",
    "                 ('scaler', MinMaxScaler()),\n",
    "                 ('reg', RandomForestRegressor())])\n",
    "\n",
    "param_grid = [\n",
    "    {\n",
    "        'feat_selection': [SelectKBest(), SelectPercentile(percentile=55), ],\n",
    "        # 'feat_selection__percentile':range(45,80,5),\n",
    "        'scaler': [MinMaxScaler(), StandardScaler()],\n",
    "        'reg': [RandomForestRegressor(), xgb.XGBRegressor(objective=\"reg:linear\"), SVR(), GradientBoostingRegressor()]\n",
    "\n",
    "    },\n",
    "]\n",
    "ppln_fitted = GridSearchCV(pipe, param_grid, cv=5, verbose=5, n_jobs=-1, return_train_score=True)\n",
    "\n",
    "ppln_fitted = ppln_fitted.fit(x_train, y_train, )\n",
    "\n",
    "print(ppln_fitted.best_params_)\n",
    "print(ppln_fitted.best_score_)\n",
    "best = ppln_fitted.best_params_"
   ],
   "metadata": {
    "collapsed": false,
    "pycharm": {
     "name": "#%%\n"
    }
   }
  },
  {
   "cell_type": "code",
   "execution_count": 151,
   "outputs": [],
   "source": [
    "y_pred = ppln_fitted.predict(x_test)\n",
    "\n",
    "test_set['pred'] = y_pred\n",
    "test_set['pred_scaled'] = MinMaxScaler().fit_transform(y_pred.reshape(-1, 1))\n",
    "test_set['pred_rank'] = test_set.pred.rank(ascending=False).astype(\"int\")"
   ],
   "metadata": {
    "collapsed": false,
    "pycharm": {
     "name": "#%%\n"
    }
   }
  },
  {
   "cell_type": "code",
   "execution_count": 152,
   "outputs": [
    {
     "data": {
      "text/plain": "                     Player      G     PTS      FG%    AST     TRB    STL  \\\n53             Nikola Jokić  52.35  24.471  0.61688  9.458   9.934  1.327   \n28              Luka Dončić  62.12  33.377  0.49164  8.222   8.548  1.534   \n36  Shai Gilgeous-Alexander  71.75  31.323  0.51212  5.794   4.989  1.592   \n32              Joel Embiid  59.08  30.838  0.54317  4.749   9.518  1.048   \n2     Giannis Antetokounmpo  56.53  29.996  0.54369  5.912  12.143  0.785   \n21             Jimmy Butler  65.81  22.004  0.54776  5.182   5.964  1.726   \n57           Damian Lillard  78.51  26.151  0.45994  5.563   4.257  0.977   \n76             Jayson Tatum  53.69  30.016  0.46162  4.718   8.373  1.092   \n72         Domantas Sabonis  76.42  18.423  0.60181  7.289  11.546  0.839   \n26            Anthony Davis  70.20  24.096  0.55418  2.405  12.502  0.986   \n\n      BLK    TOV     pred  \n53  0.702  3.663  0.55019  \n28  0.575  3.554  0.47884  \n36  0.817  2.846  0.36487  \n32  1.702  3.270  0.28515  \n2   0.763  3.852  0.25241  \n21  0.297  1.559  0.08309  \n57  0.222  2.829  0.04416  \n76  0.713  3.009  0.04267  \n72  0.647  2.692  0.03901  \n26  1.677  2.211  0.02743  ",
      "text/html": "<div>\n<style scoped>\n    .dataframe tbody tr th:only-of-type {\n        vertical-align: middle;\n    }\n\n    .dataframe tbody tr th {\n        vertical-align: top;\n    }\n\n    .dataframe thead th {\n        text-align: right;\n    }\n</style>\n<table border=\"1\" class=\"dataframe\">\n  <thead>\n    <tr style=\"text-align: right;\">\n      <th></th>\n      <th>Player</th>\n      <th>G</th>\n      <th>PTS</th>\n      <th>FG%</th>\n      <th>AST</th>\n      <th>TRB</th>\n      <th>STL</th>\n      <th>BLK</th>\n      <th>TOV</th>\n      <th>pred</th>\n    </tr>\n  </thead>\n  <tbody>\n    <tr>\n      <th>53</th>\n      <td>Nikola Jokić</td>\n      <td>52.35</td>\n      <td>24.471</td>\n      <td>0.61688</td>\n      <td>9.458</td>\n      <td>9.934</td>\n      <td>1.327</td>\n      <td>0.702</td>\n      <td>3.663</td>\n      <td>0.55019</td>\n    </tr>\n    <tr>\n      <th>28</th>\n      <td>Luka Dončić</td>\n      <td>62.12</td>\n      <td>33.377</td>\n      <td>0.49164</td>\n      <td>8.222</td>\n      <td>8.548</td>\n      <td>1.534</td>\n      <td>0.575</td>\n      <td>3.554</td>\n      <td>0.47884</td>\n    </tr>\n    <tr>\n      <th>36</th>\n      <td>Shai Gilgeous-Alexander</td>\n      <td>71.75</td>\n      <td>31.323</td>\n      <td>0.51212</td>\n      <td>5.794</td>\n      <td>4.989</td>\n      <td>1.592</td>\n      <td>0.817</td>\n      <td>2.846</td>\n      <td>0.36487</td>\n    </tr>\n    <tr>\n      <th>32</th>\n      <td>Joel Embiid</td>\n      <td>59.08</td>\n      <td>30.838</td>\n      <td>0.54317</td>\n      <td>4.749</td>\n      <td>9.518</td>\n      <td>1.048</td>\n      <td>1.702</td>\n      <td>3.270</td>\n      <td>0.28515</td>\n    </tr>\n    <tr>\n      <th>2</th>\n      <td>Giannis Antetokounmpo</td>\n      <td>56.53</td>\n      <td>29.996</td>\n      <td>0.54369</td>\n      <td>5.912</td>\n      <td>12.143</td>\n      <td>0.785</td>\n      <td>0.763</td>\n      <td>3.852</td>\n      <td>0.25241</td>\n    </tr>\n    <tr>\n      <th>21</th>\n      <td>Jimmy Butler</td>\n      <td>65.81</td>\n      <td>22.004</td>\n      <td>0.54776</td>\n      <td>5.182</td>\n      <td>5.964</td>\n      <td>1.726</td>\n      <td>0.297</td>\n      <td>1.559</td>\n      <td>0.08309</td>\n    </tr>\n    <tr>\n      <th>57</th>\n      <td>Damian Lillard</td>\n      <td>78.51</td>\n      <td>26.151</td>\n      <td>0.45994</td>\n      <td>5.563</td>\n      <td>4.257</td>\n      <td>0.977</td>\n      <td>0.222</td>\n      <td>2.829</td>\n      <td>0.04416</td>\n    </tr>\n    <tr>\n      <th>76</th>\n      <td>Jayson Tatum</td>\n      <td>53.69</td>\n      <td>30.016</td>\n      <td>0.46162</td>\n      <td>4.718</td>\n      <td>8.373</td>\n      <td>1.092</td>\n      <td>0.713</td>\n      <td>3.009</td>\n      <td>0.04267</td>\n    </tr>\n    <tr>\n      <th>72</th>\n      <td>Domantas Sabonis</td>\n      <td>76.42</td>\n      <td>18.423</td>\n      <td>0.60181</td>\n      <td>7.289</td>\n      <td>11.546</td>\n      <td>0.839</td>\n      <td>0.647</td>\n      <td>2.692</td>\n      <td>0.03901</td>\n    </tr>\n    <tr>\n      <th>26</th>\n      <td>Anthony Davis</td>\n      <td>70.20</td>\n      <td>24.096</td>\n      <td>0.55418</td>\n      <td>2.405</td>\n      <td>12.502</td>\n      <td>0.986</td>\n      <td>1.677</td>\n      <td>2.211</td>\n      <td>0.02743</td>\n    </tr>\n  </tbody>\n</table>\n</div>"
     },
     "execution_count": 152,
     "metadata": {},
     "output_type": "execute_result"
    }
   ],
   "source": [
    "test_set.sort_values('pred_rank', ascending=True).head(10)[\n",
    "    ['Player', 'G', 'PTS', 'FG%', 'AST', 'TRB', 'STL', 'BLK', 'TOV', 'pred']]"
   ],
   "metadata": {
    "collapsed": false,
    "pycharm": {
     "name": "#%%\n"
    }
   }
  },
  {
   "cell_type": "code",
   "execution_count": 154,
   "outputs": [],
   "source": [
    "test_set = test_set.round(2)"
   ],
   "metadata": {
    "collapsed": false,
    "pycharm": {
     "name": "#%%\n"
    }
   }
  },
  {
   "cell_type": "code",
   "execution_count": 157,
   "outputs": [],
   "source": [
    "test_set[['Age','G','GS']] = test_set[['Age','G','GS']].astype(int)"
   ],
   "metadata": {
    "collapsed": false,
    "pycharm": {
     "name": "#%%\n"
    }
   }
  },
  {
   "cell_type": "code",
   "execution_count": 161,
   "outputs": [],
   "source": [
    "test_set.sort_values('pred_rank').reset_index(drop=True).to_csv('NICK BITCH.csv')"
   ],
   "metadata": {
    "collapsed": false,
    "pycharm": {
     "name": "#%%\n"
    }
   }
  },
  {
   "cell_type": "code",
   "execution_count": null,
   "outputs": [],
   "source": [],
   "metadata": {
    "collapsed": false,
    "pycharm": {
     "name": "#%%\n"
    }
   }
  }
 ],
 "metadata": {
  "kernelspec": {
   "display_name": "Python 3",
   "language": "python",
   "name": "python3"
  },
  "language_info": {
   "codemirror_mode": {
    "name": "ipython",
    "version": 2
   },
   "file_extension": ".py",
   "mimetype": "text/x-python",
   "name": "python",
   "nbconvert_exporter": "python",
   "pygments_lexer": "ipython2",
   "version": "2.7.6"
  }
 },
 "nbformat": 4,
 "nbformat_minor": 0
}