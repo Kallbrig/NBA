{
 "cells": [
  {
   "cell_type": "code",
   "execution_count": 42,
   "metadata": {
    "collapsed": true
   },
   "outputs": [],
   "source": [
    "\n",
    "import os\n",
    "\n",
    "import joblib\n",
    "import pandas as pd\n",
    "import seaborn as sns\n",
    "from sklearn.ensemble import RandomForestRegressor\n",
    "from sklearn.feature_selection import SelectPercentile\n",
    "from sklearn.pipeline import Pipeline\n",
    "from sklearn.preprocessing import MinMaxScaler\n",
    "\n",
    "sns.set_style(\"darkgrid\")\n"
   ]
  },
  {
   "cell_type": "code",
   "execution_count": 43,
   "outputs": [],
   "source": [
    "def trim_set(frame):\n",
    "    return frame[((frame['TRB'] > 2) | (frame['AST'] > 5)) & (frame['PTS'] > 15) & (frame['G'] > 5)]\n",
    "    # return frame[((frame['TRB'] > 5) | (frame['AST'] > 5)) & (frame['PTS'] > 15) & (frame['Win%'] > .5)]"
   ],
   "metadata": {
    "collapsed": false,
    "pycharm": {
     "name": "#%%\n"
    }
   }
  },
  {
   "cell_type": "code",
   "execution_count": 44,
   "outputs": [],
   "source": [
    "mvp_data_dir = '../Basketball Reference Stat Scraper/Awards/MVP'\n",
    "player_data_dir = '../Basketball Reference Stat Scraper/player_stats'"
   ],
   "metadata": {
    "collapsed": false,
    "pycharm": {
     "name": "#%%\n"
    }
   }
  },
  {
   "cell_type": "code",
   "execution_count": 27,
   "outputs": [
    {
     "name": "stdout",
     "output_type": "stream",
     "text": [
      "17683\n"
     ]
    }
   ],
   "source": [
    "full_data = []\n",
    "\n",
    "for year in range(1980, 2022):\n",
    "    # print(year)\n",
    "    player = pd.read_csv(os.path.join(player_data_dir, f'{year}_player_stats.csv'), index_col=0)\n",
    "    player.Player = player.Player.str.strip('*')\n",
    "\n",
    "    player = player.fillna(0)\n",
    "    full_data.append(player)\n",
    "\n",
    "len(full_data)\n",
    "train = pd.concat(full_data)\n",
    "train = train.reset_index(drop=True)\n",
    "print(len(train))"
   ],
   "metadata": {
    "collapsed": false,
    "pycharm": {
     "name": "#%%\n"
    }
   }
  },
  {
   "cell_type": "code",
   "execution_count": 45,
   "outputs": [],
   "source": [
    "features_to_predict = ['Age', 'G', 'GS', 'MP', 'FG', 'FGA', 'FG%', '3P',\n",
    "                       '3PA', '3P%', '2P', '2PA', '2P%', 'eFG%', 'FT', 'FTA', 'FT%', 'ORB',\n",
    "                       'DRB', 'TRB', 'AST', 'STL', 'BLK', 'TOV', 'PF', 'PTS', 'PER', 'TS%',\n",
    "                       '3PAr', 'FTr', 'ORB%', 'DRB%', 'TRB%', 'AST%', 'STL%', 'BLK%', 'TOV%',\n",
    "                       'USG%', 'OWS', 'DWS', 'WS', 'WS/48', 'OBPM', 'DBPM', 'BPM', 'VORP',\n",
    "                       ]"
   ],
   "metadata": {
    "collapsed": false,
    "pycharm": {
     "name": "#%%\n"
    }
   }
  },
  {
   "cell_type": "code",
   "execution_count": 29,
   "outputs": [],
   "source": [
    "for j in features_to_predict:\n",
    "\n",
    "    for i in train.Player.unique():\n",
    "        train.loc[train['Player'] == i, f'{j}_Diff'] = train.loc[train['Player'] == i, j].diff().shift(-1)\n",
    "\n",
    "    train.loc[train['Player'] == i, 'Years_Exp'] = range(len(train.loc[train['Player'] == i, 'Player']))\n",
    "    # train.loc[train['Player'] == i,'Years_Exp'] = range(len(train.loc[train['Player'] == i,'Player']))"
   ],
   "metadata": {
    "collapsed": false,
    "pycharm": {
     "name": "#%%\n"
    }
   }
  },
  {
   "cell_type": "code",
   "execution_count": 46,
   "outputs": [
    {
     "data": {
      "text/plain": "      Age_Diff  G_Diff  GS_Diff  MP_Diff  FG_Diff  FGA_Diff  FG%_Diff  \\\n1675       1.0   -64.0    -75.0    -13.2     -1.9      -1.6    -0.058   \n1997       1.0    64.0     75.0     14.9      5.1       9.6     0.025   \n2318       1.0     0.0      0.0      0.4     -0.4      -3.4     0.053   \n2658       1.0    -1.0     -1.0     -0.2     -1.1      -2.2     0.003   \n3007       1.0     1.0      1.0     -1.2      0.7       1.8    -0.012   \n3366       1.0     0.0      0.0     -2.0     -0.5      -1.6     0.013   \n3753       1.0    -2.0     -2.0      1.8     -0.3       0.3    -0.020   \n4145       1.0    -2.0     -2.0      0.5      0.9       3.0    -0.024   \n4528       2.0   -61.0    -61.0      0.0     -2.9      -1.9    -0.084   \n5330       1.0    65.0     65.0     -1.6      1.4      -1.2     0.084   \n5741       1.0     0.0      0.0      0.2      0.0       0.5    -0.009   \n6172       1.0     0.0      0.0      0.9     -0.5       0.0    -0.021   \n6624       4.0   -22.0    -29.0     -3.9     -1.5      -1.0    -0.049   \n8395       1.0    22.0     14.0      2.1     -0.9      -3.5     0.029   \n8826       NaN     NaN      NaN      NaN      NaN       NaN       NaN   \n\n      3P_Diff  3PA_Diff  3P%_Diff  ...  TOV%_Diff  USG%_Diff  OWS_Diff  \\\n1675      0.1       0.4    -0.006  ...       -2.5        8.8      -9.3   \n1997     -0.1      -0.2     0.015  ...       -1.4       -0.3      10.9   \n2318      0.0      -0.2    -0.050  ...        0.5       -4.2       3.3   \n2658      0.2       0.6     0.144  ...        2.3       -2.0      -0.6   \n3007      0.8       1.8     0.100  ...       -2.1        1.6       0.1   \n3366     -0.7      -1.9    -0.064  ...       -1.1       -0.8       0.2   \n3753     -0.1       0.2    -0.042  ...        0.1       -1.2      -2.8   \n4145      0.7       1.6     0.082  ...       -0.4        3.0      -0.1   \n4528     -0.1      -1.0     0.148  ...       -1.4       -1.5     -10.8   \n5330      0.5       1.3    -0.073  ...        1.4        0.1      13.0   \n5741      0.0       0.4    -0.053  ...       -1.2       -0.1      -0.9   \n6172     -1.0      -2.1    -0.136  ...        0.5        0.5      -2.9   \n6624     -0.2      -0.6    -0.049  ...        2.2        2.3      -9.2   \n8395      0.0      -0.2     0.102  ...       -0.5       -7.3       1.7   \n8826      NaN       NaN       NaN  ...        NaN        NaN       NaN   \n\n      DWS_Diff  WS_Diff  WS/48_Diff  OBPM_Diff  DBPM_Diff  BPM_Diff  VORP_Diff  \n1675      -3.2    -12.5      -0.053        1.7        0.7       2.4       -6.1  \n1997       4.5     15.4       0.087        0.9        0.2       1.1        9.3  \n2318       1.1      4.3       0.061        0.4        1.8       2.2        1.9  \n2658      -0.9     -1.4      -0.016       -0.4       -0.8      -1.1       -1.1  \n3007      -0.9     -0.8      -0.007        0.7       -1.3      -0.7       -0.8  \n3366       1.1      1.3       0.036       -0.2        1.1       0.8        0.2  \n3753       0.2     -2.6      -0.047       -1.7       -0.7      -2.3       -1.6  \n4145      -0.4     -0.5      -0.004        1.5        0.1       1.5        1.0  \n4528      -4.1    -14.9      -0.103       -5.1       -2.0      -7.0       -9.1  \n5330       5.1     18.1       0.150        4.7        1.6       6.3        8.7  \n5741      -1.2     -2.1      -0.034       -0.5       -1.1      -1.6       -1.2  \n6172       0.4     -2.5      -0.045       -1.9       -0.1      -2.0       -1.5  \n6624      -3.3    -12.5      -0.163       -2.7       -1.1      -3.8       -4.4  \n8395       1.3      2.9       0.024       -1.4        0.1      -1.4        0.1  \n8826       NaN      NaN         NaN        NaN        NaN       NaN        NaN  \n\n[15 rows x 46 columns]",
      "text/html": "<div>\n<style scoped>\n    .dataframe tbody tr th:only-of-type {\n        vertical-align: middle;\n    }\n\n    .dataframe tbody tr th {\n        vertical-align: top;\n    }\n\n    .dataframe thead th {\n        text-align: right;\n    }\n</style>\n<table border=\"1\" class=\"dataframe\">\n  <thead>\n    <tr style=\"text-align: right;\">\n      <th></th>\n      <th>Age_Diff</th>\n      <th>G_Diff</th>\n      <th>GS_Diff</th>\n      <th>MP_Diff</th>\n      <th>FG_Diff</th>\n      <th>FGA_Diff</th>\n      <th>FG%_Diff</th>\n      <th>3P_Diff</th>\n      <th>3PA_Diff</th>\n      <th>3P%_Diff</th>\n      <th>...</th>\n      <th>TOV%_Diff</th>\n      <th>USG%_Diff</th>\n      <th>OWS_Diff</th>\n      <th>DWS_Diff</th>\n      <th>WS_Diff</th>\n      <th>WS/48_Diff</th>\n      <th>OBPM_Diff</th>\n      <th>DBPM_Diff</th>\n      <th>BPM_Diff</th>\n      <th>VORP_Diff</th>\n    </tr>\n  </thead>\n  <tbody>\n    <tr>\n      <th>1675</th>\n      <td>1.0</td>\n      <td>-64.0</td>\n      <td>-75.0</td>\n      <td>-13.2</td>\n      <td>-1.9</td>\n      <td>-1.6</td>\n      <td>-0.058</td>\n      <td>0.1</td>\n      <td>0.4</td>\n      <td>-0.006</td>\n      <td>...</td>\n      <td>-2.5</td>\n      <td>8.8</td>\n      <td>-9.3</td>\n      <td>-3.2</td>\n      <td>-12.5</td>\n      <td>-0.053</td>\n      <td>1.7</td>\n      <td>0.7</td>\n      <td>2.4</td>\n      <td>-6.1</td>\n    </tr>\n    <tr>\n      <th>1997</th>\n      <td>1.0</td>\n      <td>64.0</td>\n      <td>75.0</td>\n      <td>14.9</td>\n      <td>5.1</td>\n      <td>9.6</td>\n      <td>0.025</td>\n      <td>-0.1</td>\n      <td>-0.2</td>\n      <td>0.015</td>\n      <td>...</td>\n      <td>-1.4</td>\n      <td>-0.3</td>\n      <td>10.9</td>\n      <td>4.5</td>\n      <td>15.4</td>\n      <td>0.087</td>\n      <td>0.9</td>\n      <td>0.2</td>\n      <td>1.1</td>\n      <td>9.3</td>\n    </tr>\n    <tr>\n      <th>2318</th>\n      <td>1.0</td>\n      <td>0.0</td>\n      <td>0.0</td>\n      <td>0.4</td>\n      <td>-0.4</td>\n      <td>-3.4</td>\n      <td>0.053</td>\n      <td>0.0</td>\n      <td>-0.2</td>\n      <td>-0.050</td>\n      <td>...</td>\n      <td>0.5</td>\n      <td>-4.2</td>\n      <td>3.3</td>\n      <td>1.1</td>\n      <td>4.3</td>\n      <td>0.061</td>\n      <td>0.4</td>\n      <td>1.8</td>\n      <td>2.2</td>\n      <td>1.9</td>\n    </tr>\n    <tr>\n      <th>2658</th>\n      <td>1.0</td>\n      <td>-1.0</td>\n      <td>-1.0</td>\n      <td>-0.2</td>\n      <td>-1.1</td>\n      <td>-2.2</td>\n      <td>0.003</td>\n      <td>0.2</td>\n      <td>0.6</td>\n      <td>0.144</td>\n      <td>...</td>\n      <td>2.3</td>\n      <td>-2.0</td>\n      <td>-0.6</td>\n      <td>-0.9</td>\n      <td>-1.4</td>\n      <td>-0.016</td>\n      <td>-0.4</td>\n      <td>-0.8</td>\n      <td>-1.1</td>\n      <td>-1.1</td>\n    </tr>\n    <tr>\n      <th>3007</th>\n      <td>1.0</td>\n      <td>1.0</td>\n      <td>1.0</td>\n      <td>-1.2</td>\n      <td>0.7</td>\n      <td>1.8</td>\n      <td>-0.012</td>\n      <td>0.8</td>\n      <td>1.8</td>\n      <td>0.100</td>\n      <td>...</td>\n      <td>-2.1</td>\n      <td>1.6</td>\n      <td>0.1</td>\n      <td>-0.9</td>\n      <td>-0.8</td>\n      <td>-0.007</td>\n      <td>0.7</td>\n      <td>-1.3</td>\n      <td>-0.7</td>\n      <td>-0.8</td>\n    </tr>\n    <tr>\n      <th>3366</th>\n      <td>1.0</td>\n      <td>0.0</td>\n      <td>0.0</td>\n      <td>-2.0</td>\n      <td>-0.5</td>\n      <td>-1.6</td>\n      <td>0.013</td>\n      <td>-0.7</td>\n      <td>-1.9</td>\n      <td>-0.064</td>\n      <td>...</td>\n      <td>-1.1</td>\n      <td>-0.8</td>\n      <td>0.2</td>\n      <td>1.1</td>\n      <td>1.3</td>\n      <td>0.036</td>\n      <td>-0.2</td>\n      <td>1.1</td>\n      <td>0.8</td>\n      <td>0.2</td>\n    </tr>\n    <tr>\n      <th>3753</th>\n      <td>1.0</td>\n      <td>-2.0</td>\n      <td>-2.0</td>\n      <td>1.8</td>\n      <td>-0.3</td>\n      <td>0.3</td>\n      <td>-0.020</td>\n      <td>-0.1</td>\n      <td>0.2</td>\n      <td>-0.042</td>\n      <td>...</td>\n      <td>0.1</td>\n      <td>-1.2</td>\n      <td>-2.8</td>\n      <td>0.2</td>\n      <td>-2.6</td>\n      <td>-0.047</td>\n      <td>-1.7</td>\n      <td>-0.7</td>\n      <td>-2.3</td>\n      <td>-1.6</td>\n    </tr>\n    <tr>\n      <th>4145</th>\n      <td>1.0</td>\n      <td>-2.0</td>\n      <td>-2.0</td>\n      <td>0.5</td>\n      <td>0.9</td>\n      <td>3.0</td>\n      <td>-0.024</td>\n      <td>0.7</td>\n      <td>1.6</td>\n      <td>0.082</td>\n      <td>...</td>\n      <td>-0.4</td>\n      <td>3.0</td>\n      <td>-0.1</td>\n      <td>-0.4</td>\n      <td>-0.5</td>\n      <td>-0.004</td>\n      <td>1.5</td>\n      <td>0.1</td>\n      <td>1.5</td>\n      <td>1.0</td>\n    </tr>\n    <tr>\n      <th>4528</th>\n      <td>2.0</td>\n      <td>-61.0</td>\n      <td>-61.0</td>\n      <td>0.0</td>\n      <td>-2.9</td>\n      <td>-1.9</td>\n      <td>-0.084</td>\n      <td>-0.1</td>\n      <td>-1.0</td>\n      <td>0.148</td>\n      <td>...</td>\n      <td>-1.4</td>\n      <td>-1.5</td>\n      <td>-10.8</td>\n      <td>-4.1</td>\n      <td>-14.9</td>\n      <td>-0.103</td>\n      <td>-5.1</td>\n      <td>-2.0</td>\n      <td>-7.0</td>\n      <td>-9.1</td>\n    </tr>\n    <tr>\n      <th>5330</th>\n      <td>1.0</td>\n      <td>65.0</td>\n      <td>65.0</td>\n      <td>-1.6</td>\n      <td>1.4</td>\n      <td>-1.2</td>\n      <td>0.084</td>\n      <td>0.5</td>\n      <td>1.3</td>\n      <td>-0.073</td>\n      <td>...</td>\n      <td>1.4</td>\n      <td>0.1</td>\n      <td>13.0</td>\n      <td>5.1</td>\n      <td>18.1</td>\n      <td>0.150</td>\n      <td>4.7</td>\n      <td>1.6</td>\n      <td>6.3</td>\n      <td>8.7</td>\n    </tr>\n    <tr>\n      <th>5741</th>\n      <td>1.0</td>\n      <td>0.0</td>\n      <td>0.0</td>\n      <td>0.2</td>\n      <td>0.0</td>\n      <td>0.5</td>\n      <td>-0.009</td>\n      <td>0.0</td>\n      <td>0.4</td>\n      <td>-0.053</td>\n      <td>...</td>\n      <td>-1.2</td>\n      <td>-0.1</td>\n      <td>-0.9</td>\n      <td>-1.2</td>\n      <td>-2.1</td>\n      <td>-0.034</td>\n      <td>-0.5</td>\n      <td>-1.1</td>\n      <td>-1.6</td>\n      <td>-1.2</td>\n    </tr>\n    <tr>\n      <th>6172</th>\n      <td>1.0</td>\n      <td>0.0</td>\n      <td>0.0</td>\n      <td>0.9</td>\n      <td>-0.5</td>\n      <td>0.0</td>\n      <td>-0.021</td>\n      <td>-1.0</td>\n      <td>-2.1</td>\n      <td>-0.136</td>\n      <td>...</td>\n      <td>0.5</td>\n      <td>0.5</td>\n      <td>-2.9</td>\n      <td>0.4</td>\n      <td>-2.5</td>\n      <td>-0.045</td>\n      <td>-1.9</td>\n      <td>-0.1</td>\n      <td>-2.0</td>\n      <td>-1.5</td>\n    </tr>\n    <tr>\n      <th>6624</th>\n      <td>4.0</td>\n      <td>-22.0</td>\n      <td>-29.0</td>\n      <td>-3.9</td>\n      <td>-1.5</td>\n      <td>-1.0</td>\n      <td>-0.049</td>\n      <td>-0.2</td>\n      <td>-0.6</td>\n      <td>-0.049</td>\n      <td>...</td>\n      <td>2.2</td>\n      <td>2.3</td>\n      <td>-9.2</td>\n      <td>-3.3</td>\n      <td>-12.5</td>\n      <td>-0.163</td>\n      <td>-2.7</td>\n      <td>-1.1</td>\n      <td>-3.8</td>\n      <td>-4.4</td>\n    </tr>\n    <tr>\n      <th>8395</th>\n      <td>1.0</td>\n      <td>22.0</td>\n      <td>14.0</td>\n      <td>2.1</td>\n      <td>-0.9</td>\n      <td>-3.5</td>\n      <td>0.029</td>\n      <td>0.0</td>\n      <td>-0.2</td>\n      <td>0.102</td>\n      <td>...</td>\n      <td>-0.5</td>\n      <td>-7.3</td>\n      <td>1.7</td>\n      <td>1.3</td>\n      <td>2.9</td>\n      <td>0.024</td>\n      <td>-1.4</td>\n      <td>0.1</td>\n      <td>-1.4</td>\n      <td>0.1</td>\n    </tr>\n    <tr>\n      <th>8826</th>\n      <td>NaN</td>\n      <td>NaN</td>\n      <td>NaN</td>\n      <td>NaN</td>\n      <td>NaN</td>\n      <td>NaN</td>\n      <td>NaN</td>\n      <td>NaN</td>\n      <td>NaN</td>\n      <td>NaN</td>\n      <td>...</td>\n      <td>NaN</td>\n      <td>NaN</td>\n      <td>NaN</td>\n      <td>NaN</td>\n      <td>NaN</td>\n      <td>NaN</td>\n      <td>NaN</td>\n      <td>NaN</td>\n      <td>NaN</td>\n      <td>NaN</td>\n    </tr>\n  </tbody>\n</table>\n<p>15 rows × 46 columns</p>\n</div>"
     },
     "execution_count": 46,
     "metadata": {},
     "output_type": "execute_result"
    }
   ],
   "source": [
    "# train.loc[train['Player'] == 'Michael Jordan','G_Shift'] = train.loc[train['Player'] == 'Michael Jordan','G_Diff'].shift(-1)\n",
    "train.loc[train['Player'] == 'Michael Jordan', train.columns.str.contains('Diff')]"
   ],
   "metadata": {
    "collapsed": false,
    "pycharm": {
     "name": "#%%\n"
    }
   }
  },
  {
   "cell_type": "code",
   "execution_count": 47,
   "outputs": [],
   "source": [
    "# X = 'Years_Exp'\n",
    "# Y = 'PTS_Diff'"
   ],
   "metadata": {
    "collapsed": false,
    "pycharm": {
     "name": "#%%\n"
    }
   }
  },
  {
   "cell_type": "code",
   "execution_count": 48,
   "outputs": [],
   "source": [
    "# train.sort_values(Y,ascending=False).head(10)[['Player','Age','Tm','G','Years_Exp','WS',Y]]"
   ],
   "metadata": {
    "collapsed": false,
    "pycharm": {
     "name": "#%%\n"
    }
   }
  },
  {
   "cell_type": "code",
   "execution_count": 49,
   "outputs": [],
   "source": [
    "# sns.lineplot(data=train[train['Player'] == 'Michael Jordan'],x='Age',y=Y,color='green',label='MJ')\n",
    "# plt.show()"
   ],
   "metadata": {
    "collapsed": false,
    "pycharm": {
     "name": "#%%\n"
    }
   }
  },
  {
   "cell_type": "code",
   "execution_count": 49,
   "outputs": [],
   "source": [],
   "metadata": {
    "collapsed": false,
    "pycharm": {
     "name": "#%%\n"
    }
   }
  },
  {
   "cell_type": "code",
   "execution_count": 50,
   "outputs": [],
   "source": [
    "\n",
    "# # sns.scatterplot(data=trim_set(train),x='Years_Exp',y='WS_Diff',)\n",
    "# sns.lineplot(data=trim_set(train),x=X,y=Y,color='blue',errorbar=None,label='AVG')\n",
    "# # sns.lineplot(data=train[train['Player'] == 'Magic Johnson'],x=X,y=Y,color='purple',label='Magic')\n",
    "# sns.lineplot(data=train[train['Player'] == 'Steve Nash'],x=X,y=Y,color='green',label='Nash')\n",
    "# # plt.xticks(range(0,21))\n",
    "#\n",
    "#\n",
    "# # plt.yticks(range(-20,21))\n",
    "# plt.show()"
   ],
   "metadata": {
    "collapsed": false,
    "pycharm": {
     "name": "#%%\n"
    }
   }
  },
  {
   "cell_type": "code",
   "execution_count": 51,
   "outputs": [],
   "source": [
    "# test = train[train['Year'] == 2023]"
   ],
   "metadata": {
    "collapsed": false,
    "pycharm": {
     "name": "#%%\n"
    }
   }
  },
  {
   "cell_type": "code",
   "execution_count": 52,
   "outputs": [],
   "source": [
    "df = train.drop(columns=['STAR', 'DPOY_Rank', 'DPOY_First', 'DPOY_Pts Won', 'DPOY_Pts Max', 'DPOY_Share',\n",
    "                         'DPOY', 'MIP_Rank', 'MIP_First', 'MIP_Pts Won', 'MIP_Pts Max',\n",
    "                         'MIP_Share', 'MIP', 'MVP_First', 'MVP_Pts Won',\n",
    "                         'MVP_Pts Max', 'ROTY_Rank', 'ROTY_First',\n",
    "                         'ROTY_Pts Won', 'ROTY_Pts Max', 'ROTY_Share', 'ROTY', 'SMOTY_Rank',\n",
    "                         'SMOTY_First', 'SMOTY_Pts Won', 'SMOTY_Pts Max', 'SMOTY_Share',\n",
    "                         'SMOTY', 'First'], errors='ignore')"
   ],
   "metadata": {
    "collapsed": false,
    "pycharm": {
     "name": "#%%\n"
    }
   }
  },
  {
   "cell_type": "code",
   "execution_count": 38,
   "outputs": [],
   "source": [
    "df = trim_set(df)\n",
    "\n",
    "df = df[~df['PTS_Diff'].isna()]\n",
    "\n",
    "df.rename(columns={\"WS/48\": \"WS_48\", 'WS/48_Diff': 'WS_48_Diff'},\n",
    "          inplace=True)"
   ],
   "metadata": {
    "collapsed": false,
    "pycharm": {
     "name": "#%%\n"
    }
   }
  },
  {
   "cell_type": "code",
   "execution_count": 39,
   "outputs": [
    {
     "name": "stdout",
     "output_type": "stream",
     "text": [
      "All_Stat_Models/Age.pkl\n",
      "All_Stat_Models/G.pkl\n",
      "All_Stat_Models/GS.pkl\n",
      "All_Stat_Models/MP.pkl\n",
      "All_Stat_Models/FG.pkl\n",
      "All_Stat_Models/FGA.pkl\n",
      "All_Stat_Models/FG%.pkl\n",
      "All_Stat_Models/3P.pkl\n",
      "All_Stat_Models/3PA.pkl\n",
      "All_Stat_Models/3P%.pkl\n",
      "All_Stat_Models/2P.pkl\n",
      "All_Stat_Models/2PA.pkl\n",
      "All_Stat_Models/2P%.pkl\n",
      "All_Stat_Models/eFG%.pkl\n",
      "All_Stat_Models/FT.pkl\n",
      "All_Stat_Models/FTA.pkl\n",
      "All_Stat_Models/FT%.pkl\n",
      "All_Stat_Models/ORB.pkl\n",
      "All_Stat_Models/DRB.pkl\n",
      "All_Stat_Models/TRB.pkl\n",
      "All_Stat_Models/AST.pkl\n",
      "All_Stat_Models/STL.pkl\n",
      "All_Stat_Models/BLK.pkl\n",
      "All_Stat_Models/TOV.pkl\n",
      "All_Stat_Models/PF.pkl\n",
      "All_Stat_Models/PTS.pkl\n",
      "All_Stat_Models/PER.pkl\n",
      "All_Stat_Models/TS%.pkl\n",
      "All_Stat_Models/3PAr.pkl\n",
      "All_Stat_Models/FTr.pkl\n",
      "All_Stat_Models/ORB%.pkl\n",
      "All_Stat_Models/DRB%.pkl\n",
      "All_Stat_Models/TRB%.pkl\n",
      "All_Stat_Models/AST%.pkl\n",
      "All_Stat_Models/STL%.pkl\n",
      "All_Stat_Models/BLK%.pkl\n",
      "All_Stat_Models/TOV%.pkl\n",
      "All_Stat_Models/USG%.pkl\n",
      "All_Stat_Models/OWS.pkl\n",
      "All_Stat_Models/DWS.pkl\n",
      "All_Stat_Models/WS.pkl\n",
      "All_Stat_Models/WS_48.pkl\n",
      "All_Stat_Models/OBPM.pkl\n",
      "All_Stat_Models/DBPM.pkl\n",
      "All_Stat_Models/BPM.pkl\n",
      "All_Stat_Models/VORP.pkl\n"
     ]
    }
   ],
   "source": [
    "\n",
    "\n",
    "feature_list = [\n",
    "    'Age', 'G', 'GS', 'MP', 'FG', 'FGA',\n",
    "    'FG%', '3P', '3PA', '3P%', '2P', '2PA', '2P%', 'eFG%', 'FT', 'FTA',\n",
    "    'FT%', 'ORB', 'DRB', 'TRB', 'AST', 'STL', 'BLK', 'TOV', 'PF', 'PTS',\n",
    "    'PER', 'TS%', '3PAr', 'FTr', 'ORB%', 'DRB%', 'TRB%', 'AST%', 'STL%',\n",
    "    'BLK%', 'TOV%', 'USG%', 'OWS', 'DWS', 'WS', 'WS_48', 'OBPM', 'DBPM', 'BPM', 'VORP'\n",
    "]\n",
    "\n",
    "features_to_predict = [\n",
    "    'Age', 'G', 'GS', 'MP', 'FG', 'FGA', 'FG%', '3P',\n",
    "    '3PA', '3P%', '2P', '2PA', '2P%', 'eFG%', 'FT', 'FTA', 'FT%', 'ORB',\n",
    "    'DRB','TRB', 'AST', 'STL', 'BLK', 'TOV', 'PF', 'PTS', 'PER', 'TS%',\n",
    "    '3PAr', 'FTr', 'ORB%', 'DRB%', 'TRB%', 'AST%', 'STL%', 'BLK%', 'TOV%',\n",
    "    'USG%', 'OWS', 'DWS', 'WS', 'WS_48', 'OBPM', 'DBPM', 'BPM', 'VORP',\n",
    "]\n",
    "\n",
    "x = df[feature_list]\n",
    "\n",
    "for i in features_to_predict:\n",
    "    y = df.loc[:, f'{i}_Diff', ]\n",
    "\n",
    "    pipe = Pipeline(\n",
    "\n",
    "        [('feat_selection', SelectPercentile(percentile=60),),\n",
    "         ('scaler', MinMaxScaler()),\n",
    "         ('reg', RandomForestRegressor())]\n",
    "    )\n",
    "\n",
    "    pipe.fit(x, y)\n",
    "\n",
    "    filename = f'All_Stat_Models/{i}.pkl'\n",
    "    joblib.dump(pipe, filename)\n",
    "    print(filename)"
   ],
   "metadata": {
    "collapsed": false,
    "pycharm": {
     "name": "#%%\n"
    }
   }
  }
 ],
 "metadata": {
  "kernelspec": {
   "display_name": "Python 3",
   "language": "python",
   "name": "python3"
  },
  "language_info": {
   "codemirror_mode": {
    "name": "ipython",
    "version": 2
   },
   "file_extension": ".py",
   "mimetype": "text/x-python",
   "name": "python",
   "nbconvert_exporter": "python",
   "pygments_lexer": "ipython2",
   "version": "2.7.6"
  }
 },
 "nbformat": 4,
 "nbformat_minor": 0
}