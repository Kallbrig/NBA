{
 "cells": [
  {
   "cell_type": "code",
   "execution_count": 1,
   "outputs": [],
   "source": [
    "\n",
    "\n",
    "import os\n",
    "\n",
    "import pandas as pd\n",
    "from sklearn.ensemble import RandomForestRegressor\n",
    "from sklearn.feature_selection import SelectPercentile\n",
    "from sklearn.pipeline import Pipeline\n",
    "from sklearn.preprocessing import MinMaxScaler\n",
    "import joblib\n",
    "import logging\n",
    "from datetime import datetime\n",
    "\n",
    "from utility_functions import trim_set, get_nba_season_year\n",
    "from team_mappings import team_mapping\n",
    "\n",
    "import matplotlib\n",
    "matplotlib.use('TkAgg')\n",
    "\n",
    "import matplotlib.pyplot as plt\n"
   ],
   "metadata": {
    "collapsed": false,
    "pycharm": {
     "name": "#%%\n"
    }
   }
  },
  {
   "cell_type": "code",
   "execution_count": 9,
   "metadata": {
    "collapsed": true
   },
   "outputs": [
    {
     "name": "stdout",
     "output_type": "stream",
     "text": [
      "Training with data up to 2023\n"
     ]
    },
    {
     "data": {
      "text/plain": "                Player Pos  Age   Tm   G  GS    MP   FG   FGA    FG%  ...  \\\n68        Walter Davis  SF   25  PHO  75   0  30.8  8.8  15.5  0.563  ...   \n83        Alex English  SF   26  TOT  78   0  30.8  7.1  14.3  0.497  ...   \n165         Bob Lanier   C   31  TOT  63   0  33.8  7.4  13.8  0.537  ...   \n194        Calvin Natt  SF   23  TOT  78   0  36.6  8.0  16.6  0.479  ...   \n221     Truck Robinson  PF   28  PHO  82   0  33.0  6.6  13.0  0.512  ...   \n..                 ...  ..  ...  ...  ..  ..   ...  ...   ...    ...  ...   \n172       RaiQuan Gray  PF   23  BRK   1   0  35.0  6.0  12.0  0.500  ...   \n229       Kyrie Irving  PG   30  TOT  60  60  37.4  9.9  20.1  0.494  ...   \n242    Cameron Johnson  PF   26  TOT  42  41  28.5  5.3  11.3  0.470  ...   \n425   D'Angelo Russell  PG   26  TOT  71  71  32.5  6.3  13.4  0.469  ...   \n506  Russell Westbrook  PG   34  TOT  73  24  29.1  5.9  13.6  0.436  ...   \n\n     Team_MOV  Team_SOS  Team_SRS  Team_ORtg  Team_DRtg  Team_NRtg  Team_Pace  \\\n68        0.0       0.0       0.0        0.0        0.0        0.0        0.0   \n83        0.0       0.0       0.0        0.0        0.0        0.0        0.0   \n165       0.0       0.0       0.0        0.0        0.0        0.0        0.0   \n194       0.0       0.0       0.0        0.0        0.0        0.0        0.0   \n221       0.0       0.0       0.0        0.0        0.0        0.0        0.0   \n..        ...       ...       ...        ...        ...        ...        ...   \n172       0.0       0.0       0.0        0.0        0.0        0.0        0.0   \n229       0.0       0.0       0.0        0.0        0.0        0.0        0.0   \n242       0.0       0.0       0.0        0.0        0.0        0.0        0.0   \n425       0.0       0.0       0.0        0.0        0.0        0.0        0.0   \n506       0.0       0.0       0.0        0.0        0.0        0.0        0.0   \n\n     Team_FTr  Team_3PAr  Team_TS%  \n68        0.0        0.0       0.0  \n83        0.0        0.0       0.0  \n165       0.0        0.0       0.0  \n194       0.0        0.0       0.0  \n221       0.0        0.0       0.0  \n..        ...        ...       ...  \n172       0.0        0.0       0.0  \n229       0.0        0.0       0.0  \n242       0.0        0.0       0.0  \n425       0.0        0.0       0.0  \n506       0.0        0.0       0.0  \n\n[303 rows x 91 columns]",
      "text/html": "<div>\n<style scoped>\n    .dataframe tbody tr th:only-of-type {\n        vertical-align: middle;\n    }\n\n    .dataframe tbody tr th {\n        vertical-align: top;\n    }\n\n    .dataframe thead th {\n        text-align: right;\n    }\n</style>\n<table border=\"1\" class=\"dataframe\">\n  <thead>\n    <tr style=\"text-align: right;\">\n      <th></th>\n      <th>Player</th>\n      <th>Pos</th>\n      <th>Age</th>\n      <th>Tm</th>\n      <th>G</th>\n      <th>GS</th>\n      <th>MP</th>\n      <th>FG</th>\n      <th>FGA</th>\n      <th>FG%</th>\n      <th>...</th>\n      <th>Team_MOV</th>\n      <th>Team_SOS</th>\n      <th>Team_SRS</th>\n      <th>Team_ORtg</th>\n      <th>Team_DRtg</th>\n      <th>Team_NRtg</th>\n      <th>Team_Pace</th>\n      <th>Team_FTr</th>\n      <th>Team_3PAr</th>\n      <th>Team_TS%</th>\n    </tr>\n  </thead>\n  <tbody>\n    <tr>\n      <th>68</th>\n      <td>Walter Davis</td>\n      <td>SF</td>\n      <td>25</td>\n      <td>PHO</td>\n      <td>75</td>\n      <td>0</td>\n      <td>30.8</td>\n      <td>8.8</td>\n      <td>15.5</td>\n      <td>0.563</td>\n      <td>...</td>\n      <td>0.0</td>\n      <td>0.0</td>\n      <td>0.0</td>\n      <td>0.0</td>\n      <td>0.0</td>\n      <td>0.0</td>\n      <td>0.0</td>\n      <td>0.0</td>\n      <td>0.0</td>\n      <td>0.0</td>\n    </tr>\n    <tr>\n      <th>83</th>\n      <td>Alex English</td>\n      <td>SF</td>\n      <td>26</td>\n      <td>TOT</td>\n      <td>78</td>\n      <td>0</td>\n      <td>30.8</td>\n      <td>7.1</td>\n      <td>14.3</td>\n      <td>0.497</td>\n      <td>...</td>\n      <td>0.0</td>\n      <td>0.0</td>\n      <td>0.0</td>\n      <td>0.0</td>\n      <td>0.0</td>\n      <td>0.0</td>\n      <td>0.0</td>\n      <td>0.0</td>\n      <td>0.0</td>\n      <td>0.0</td>\n    </tr>\n    <tr>\n      <th>165</th>\n      <td>Bob Lanier</td>\n      <td>C</td>\n      <td>31</td>\n      <td>TOT</td>\n      <td>63</td>\n      <td>0</td>\n      <td>33.8</td>\n      <td>7.4</td>\n      <td>13.8</td>\n      <td>0.537</td>\n      <td>...</td>\n      <td>0.0</td>\n      <td>0.0</td>\n      <td>0.0</td>\n      <td>0.0</td>\n      <td>0.0</td>\n      <td>0.0</td>\n      <td>0.0</td>\n      <td>0.0</td>\n      <td>0.0</td>\n      <td>0.0</td>\n    </tr>\n    <tr>\n      <th>194</th>\n      <td>Calvin Natt</td>\n      <td>SF</td>\n      <td>23</td>\n      <td>TOT</td>\n      <td>78</td>\n      <td>0</td>\n      <td>36.6</td>\n      <td>8.0</td>\n      <td>16.6</td>\n      <td>0.479</td>\n      <td>...</td>\n      <td>0.0</td>\n      <td>0.0</td>\n      <td>0.0</td>\n      <td>0.0</td>\n      <td>0.0</td>\n      <td>0.0</td>\n      <td>0.0</td>\n      <td>0.0</td>\n      <td>0.0</td>\n      <td>0.0</td>\n    </tr>\n    <tr>\n      <th>221</th>\n      <td>Truck Robinson</td>\n      <td>PF</td>\n      <td>28</td>\n      <td>PHO</td>\n      <td>82</td>\n      <td>0</td>\n      <td>33.0</td>\n      <td>6.6</td>\n      <td>13.0</td>\n      <td>0.512</td>\n      <td>...</td>\n      <td>0.0</td>\n      <td>0.0</td>\n      <td>0.0</td>\n      <td>0.0</td>\n      <td>0.0</td>\n      <td>0.0</td>\n      <td>0.0</td>\n      <td>0.0</td>\n      <td>0.0</td>\n      <td>0.0</td>\n    </tr>\n    <tr>\n      <th>...</th>\n      <td>...</td>\n      <td>...</td>\n      <td>...</td>\n      <td>...</td>\n      <td>...</td>\n      <td>...</td>\n      <td>...</td>\n      <td>...</td>\n      <td>...</td>\n      <td>...</td>\n      <td>...</td>\n      <td>...</td>\n      <td>...</td>\n      <td>...</td>\n      <td>...</td>\n      <td>...</td>\n      <td>...</td>\n      <td>...</td>\n      <td>...</td>\n      <td>...</td>\n      <td>...</td>\n    </tr>\n    <tr>\n      <th>172</th>\n      <td>RaiQuan Gray</td>\n      <td>PF</td>\n      <td>23</td>\n      <td>BRK</td>\n      <td>1</td>\n      <td>0</td>\n      <td>35.0</td>\n      <td>6.0</td>\n      <td>12.0</td>\n      <td>0.500</td>\n      <td>...</td>\n      <td>0.0</td>\n      <td>0.0</td>\n      <td>0.0</td>\n      <td>0.0</td>\n      <td>0.0</td>\n      <td>0.0</td>\n      <td>0.0</td>\n      <td>0.0</td>\n      <td>0.0</td>\n      <td>0.0</td>\n    </tr>\n    <tr>\n      <th>229</th>\n      <td>Kyrie Irving</td>\n      <td>PG</td>\n      <td>30</td>\n      <td>TOT</td>\n      <td>60</td>\n      <td>60</td>\n      <td>37.4</td>\n      <td>9.9</td>\n      <td>20.1</td>\n      <td>0.494</td>\n      <td>...</td>\n      <td>0.0</td>\n      <td>0.0</td>\n      <td>0.0</td>\n      <td>0.0</td>\n      <td>0.0</td>\n      <td>0.0</td>\n      <td>0.0</td>\n      <td>0.0</td>\n      <td>0.0</td>\n      <td>0.0</td>\n    </tr>\n    <tr>\n      <th>242</th>\n      <td>Cameron Johnson</td>\n      <td>PF</td>\n      <td>26</td>\n      <td>TOT</td>\n      <td>42</td>\n      <td>41</td>\n      <td>28.5</td>\n      <td>5.3</td>\n      <td>11.3</td>\n      <td>0.470</td>\n      <td>...</td>\n      <td>0.0</td>\n      <td>0.0</td>\n      <td>0.0</td>\n      <td>0.0</td>\n      <td>0.0</td>\n      <td>0.0</td>\n      <td>0.0</td>\n      <td>0.0</td>\n      <td>0.0</td>\n      <td>0.0</td>\n    </tr>\n    <tr>\n      <th>425</th>\n      <td>D'Angelo Russell</td>\n      <td>PG</td>\n      <td>26</td>\n      <td>TOT</td>\n      <td>71</td>\n      <td>71</td>\n      <td>32.5</td>\n      <td>6.3</td>\n      <td>13.4</td>\n      <td>0.469</td>\n      <td>...</td>\n      <td>0.0</td>\n      <td>0.0</td>\n      <td>0.0</td>\n      <td>0.0</td>\n      <td>0.0</td>\n      <td>0.0</td>\n      <td>0.0</td>\n      <td>0.0</td>\n      <td>0.0</td>\n      <td>0.0</td>\n    </tr>\n    <tr>\n      <th>506</th>\n      <td>Russell Westbrook</td>\n      <td>PG</td>\n      <td>34</td>\n      <td>TOT</td>\n      <td>73</td>\n      <td>24</td>\n      <td>29.1</td>\n      <td>5.9</td>\n      <td>13.6</td>\n      <td>0.436</td>\n      <td>...</td>\n      <td>0.0</td>\n      <td>0.0</td>\n      <td>0.0</td>\n      <td>0.0</td>\n      <td>0.0</td>\n      <td>0.0</td>\n      <td>0.0</td>\n      <td>0.0</td>\n      <td>0.0</td>\n      <td>0.0</td>\n    </tr>\n  </tbody>\n</table>\n<p>303 rows × 91 columns</p>\n</div>"
     },
     "execution_count": 9,
     "metadata": {},
     "output_type": "execute_result"
    }
   ],
   "source": [
    "\n",
    "\n",
    "\n",
    "\n",
    "current_season_start_year = get_nba_season_year() - 1\n",
    "print(f'Training with data up to {current_season_start_year}')\n",
    "\n",
    "\n",
    "mvp_data_dir = '../Basketball Reference Stat Scraper/Awards/MVP'\n",
    "player_data_dir = '../Basketball Reference Stat Scraper/player_stats/'\n",
    "team_data_dir = '../Basketball Reference Stat Scraper/team_stats/'\n",
    "\n",
    "full_data = []\n",
    "for year in range(1980, current_season_start_year + 1):\n",
    "    player_data = pd.read_csv(os.path.join(player_data_dir, f'{year}_player_stats.csv'), index_col=0)\n",
    "\n",
    "    mvp_data = pd.read_csv(os.path.join(mvp_data_dir, f'{year}_MVP.csv'), index_col=0)\n",
    "    team_data = pd.read_csv(os.path.join(team_data_dir, f'{year}_tm_stats.csv'), index_col=0)\n",
    "    team_data.Team = team_data.Team.str.strip('*')\n",
    "\n",
    "    team_data['Tm'] = team_data.Team.map(team_mapping)\n",
    "\n",
    "\n",
    "    # Prepend 'Team_' to team data columns except 'Team' and 'Year'\n",
    "    team_data = team_data.rename(columns={col: f'Team_{col}' for col in team_data.columns if col not in ['Team', 'Year','Tm']})\n",
    "\n",
    "    # Update team abbreviations in player and mvp data\n",
    "    for df in [player_data, mvp_data]:\n",
    "        df['Tm'] = df['Tm'].map(team_mapping).fillna(df['Tm'])\n",
    "\n",
    "    # Merge player data with mvp data\n",
    "    merged_data = pd.merge(\n",
    "        player_data.assign(Player=lambda df: df.Player.str.strip('*')),\n",
    "        mvp_data,\n",
    "        how='left'\n",
    "    ).fillna(0)\n",
    "\n",
    "    # Merge with team data\n",
    "    merged_data = pd.merge(\n",
    "        merged_data,\n",
    "        team_data,\n",
    "        left_on=['Tm', 'Year'],\n",
    "        right_on=['Tm', 'Year'],\n",
    "        how='left'\n",
    "    ).fillna(0)\n",
    "\n",
    "    full_data.append(merged_data)\n",
    "\n",
    "train = pd.concat(full_data)\n",
    "df = trim_set(train)\n",
    "\n",
    "# df['G'] \\\n",
    "# / df['Team_G']\n",
    "df[df['Team_G'] == 0]\n",
    "# feature_list = ['Age', 'G', 'GS', 'MP', 'FG', 'FGA', 'FG%', '3P', '3PA', '3P%', '2P', '2PA', '2P%', 'eFG%', 'FT', 'FTA',\n",
    "#                 'FT%', 'ORB', 'DRB', 'TRB', 'AST', 'STL', 'BLK', 'TOV', 'PF', 'PTS', 'PER', 'TS%', '3PAr', 'FTr',\n",
    "#                 'ORB%', 'DRB%', 'TRB%', 'AST%', 'STL%', 'BLK%', 'TOV%', 'USG%', 'OWS', 'DWS', 'WS', 'WS/48', 'OBPM',\n",
    "#                 'DBPM', 'BPM', 'VORP',\n",
    "#\n",
    "#                 'Team_FG', 'Team_FGA', 'Team_FG%',\n",
    "#                 'Team_3P', 'Team_3PA', 'Team_3P%', 'Team_2P', 'Team_2PA', 'Team_2P%',\n",
    "#                 'Team_FT', 'Team_FTA', 'Team_FT%', 'Team_ORB', 'Team_DRB', 'Team_TRB',\n",
    "#                 'Team_AST', 'Team_STL', 'Team_BLK', 'Team_TOV', 'Team_PF', 'Team_PTS',\n",
    "#                 'Team_Age', 'Team_W', 'Team_L', 'Team_MOV', 'Team_SOS', 'Team_SRS',\n",
    "#                 'Team_ORtg', 'Team_DRtg', 'Team_NRtg', 'Team_Pace', 'Team_FTr',\n",
    "#                 'Team_3PAr', 'Team_TS%',\n",
    "#\n",
    "#                 ]\n",
    "\n",
    "\n",
    "\n",
    "\n",
    "\n",
    "\n",
    "\n"
   ]
  },
  {
   "cell_type": "code",
   "execution_count": null,
   "outputs": [],
   "source": [
    "        x = df[feature_list]\n",
    "        y = df['Share']\n",
    "        pipe = Pipeline([\n",
    "            ('feat_selection', SelectPercentile(percentile=60)),\n",
    "            ('scaler', MinMaxScaler()),\n",
    "            ('reg', RandomForestRegressor(n_jobs=-1))\n",
    "        ])\n",
    "\n",
    "        pipe.fit(x, y)\n",
    "        print(os.getcwd())\n",
    "        filename = f'../Models/MVP/{get_nba_season_year()}/MVP_Predictions_V2_{datetime.now().strftime(\"%Y%m%d\")}.pkl'\n",
    "        joblib.dump(pipe, filename)\n",
    "\n",
    "        logging.info(\"Model training completed and model saved.\")\n",
    "\n",
    "        import seaborn as sns\n",
    "\n",
    "        # After fitting the pipeline\n",
    "        support = pipe.named_steps['feat_selection'].get_support()\n",
    "        selected_features = [feature for feature, selected in zip(feature_list, support) if selected]\n",
    "\n",
    "        # Extract feature importances from the fitted model\n",
    "        feature_importances = pipe.named_steps['reg'].feature_importances_\n",
    "\n",
    "        # Create a DataFrame with feature names and their importance scores\n",
    "        importances_df = pd.DataFrame({'Feature': selected_features, 'Importance': feature_importances})\n",
    "\n",
    "        # Sort the feature importances in descending order\n",
    "        importances_df = importances_df.sort_values(by='Importance', ascending=False)\n",
    "\n",
    "        # Plotting using Seaborn\n",
    "        plt.figure(figsize=(10, 6))\n",
    "        sns.barplot(x='Importance', y='Feature', data=importances_df.head(20))  # Adjust number as needed\n",
    "        plt.title('Top 20 Feature Importances')\n",
    "        plt.xlabel('Importance Score')\n",
    "        plt.ylabel('Features')\n",
    "        plt.show()\n",
    "\n",
    "\n",
    "    except Exception as e:\n",
    "        logging.error(f\"An error occurred: {e}\")\n"
   ],
   "metadata": {
    "collapsed": false,
    "pycharm": {
     "name": "#%%\n"
    }
   }
  }
 ],
 "metadata": {
  "kernelspec": {
   "display_name": "Python 3",
   "language": "python",
   "name": "python3"
  },
  "language_info": {
   "codemirror_mode": {
    "name": "ipython",
    "version": 2
   },
   "file_extension": ".py",
   "mimetype": "text/x-python",
   "name": "python",
   "nbconvert_exporter": "python",
   "pygments_lexer": "ipython2",
   "version": "2.7.6"
  }
 },
 "nbformat": 4,
 "nbformat_minor": 0
}