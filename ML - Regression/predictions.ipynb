{
 "cells": [
  {
   "cell_type": "code",
   "execution_count": 1,
   "metadata": {
    "pycharm": {
     "name": "#%%\n"
    }
   },
   "outputs": [],
   "source": [
    "import numpy as np\n",
    "import pandas as pd\n",
    "from datetime import datetime\n",
    "from matplotlib import pyplot as plt\n",
    "from sklearn.ensemble import GradientBoostingRegressor\n",
    "from sklearn.linear_model import LinearRegression\n",
    "from sklearn.model_selection import GridSearchCV\n",
    "from sklearn.model_selection import cross_val_score\n",
    "from sklearn.pipeline import Pipeline\n",
    "from sklearn.preprocessing import StandardScaler, MinMaxScaler\n",
    "from sklearn.svm import SVR\n",
    "from sklearn.ensemble import RandomForestRegressor\n",
    "import joblib\n",
    "\n",
    "\n",
    "%matplotlib inline"
   ]
  },
  {
   "cell_type": "code",
   "execution_count": 2,
   "metadata": {
    "pycharm": {
     "name": "#%%\n"
    }
   },
   "outputs": [],
   "source": [
    "def trim_set(frame):\n",
    "    return frame[((frame['TRB'] > 2) | (frame['AST'] > 5)) & (frame['PTS'] > 15)]\n",
    "    # return frame[((frame['TRB'] > 5) | (frame['AST'] > 5)) & (frame['PTS'] > 15) & (frame['Win%'] > .5)]\n",
    "\n"
   ]
  },
  {
   "cell_type": "code",
   "execution_count": 3,
   "metadata": {
    "pycharm": {
     "name": "#%%\n"
    }
   },
   "outputs": [
    {
     "name": "stdout",
     "output_type": "stream",
     "text": [
      "Index(['Year', 'Player', 'Pos', 'Age', 'Tm', 'G', 'GS', 'MP', 'FG', 'FGA',\n",
      "       'FG%', '3P', '3PA', '3P%', '2P', '2PA', '2P%', 'eFG%', 'FT', 'FTA',\n",
      "       'FT%', 'ORB', 'DRB', 'TRB', 'AST', 'STL', 'BLK', 'TOV', 'PF', 'PTS',\n",
      "       'PER', 'TS%', '3PAr', 'FTr', 'ORB%', 'DRB%', 'TRB%', 'AST%', 'STL%',\n",
      "       'BLK%', 'TOV%', 'USG%', 'OWS', 'DWS', 'WS', 'WS/48', 'OBPM', 'DBPM',\n",
      "       'BPM', 'VORP', 'MVP_Rank', 'MVP_First', 'MVP_Pts Won', 'MVP_Pts Max',\n",
      "       'MVP_Share'],\n",
      "      dtype='object')\n"
     ]
    }
   ],
   "source": [
    "df = pd.read_csv('train_set_full.csv', index_col=0)\n",
    "\n",
    "print(df.columns)\n",
    "\n",
    "df = df.drop(columns=['STAR', 'DPOY_Rank', 'DPOY_First', 'DPOY_Pts Won', 'DPOY_Pts Max', 'DPOY_Share',\n",
    "                      'DPOY', 'MIP_Rank', 'MIP_First', 'MIP_Pts Won', 'MIP_Pts Max',\n",
    "                      'MIP_Share', 'MIP', 'MVP_First', 'MVP_Pts Won',\n",
    "                      'MVP_Pts Max', 'ROTY_Rank', 'ROTY_First',\n",
    "                      'ROTY_Pts Won', 'ROTY_Pts Max', 'ROTY_Share', 'ROTY', 'SMOTY_Rank',\n",
    "                      'SMOTY_First', 'SMOTY_Pts Won', 'SMOTY_Pts Max', 'SMOTY_Share',\n",
    "                      'SMOTY'], errors='ignore')\n",
    "\n",
    "# df = trim_set(df)\n"
   ]
  },
  {
   "cell_type": "code",
   "execution_count": 4,
   "metadata": {
    "pycharm": {
     "name": "#%%\n"
    }
   },
   "outputs": [],
   "source": [
    "train_set = df.copy()\n",
    "test_set = pd.read_csv(f'/Users/chaseallbright/Dropbox/NBA/Data/Test Sets/{datetime.now().strftime(\"%Y\")}/{datetime.now().strftime(\"%Y%m%d\")}_player_stats.csv', index_col=0)\n",
    "test_set = trim_set(test_set)\n",
    "\n",
    "x_train = df.drop(columns=['MVP_Rank', 'MVP_Share', ])\n",
    "y_train = train_set['MVP_Share']\n",
    "\n"
   ]
  },
  {
   "cell_type": "code",
   "execution_count": 7,
   "metadata": {
    "pycharm": {
     "name": "#%%\n"
    }
   },
   "outputs": [],
   "source": [
    "# cm = train_set.corr().apply(np.absolute)\n",
    "# f = plt.figure(figsize=(19, 15))\n",
    "# plt.matshow(cm.corr(), fignum=f.number)\n",
    "# plt.xticks(range(df.select_dtypes(['number']).shape[1]), cm.select_dtypes(['number']).columns, fontsize=14, rotation=45)\n",
    "# plt.yticks(range(df.select_dtypes(['number']).shape[1]), cm.select_dtypes(['number']).columns, fontsize=14)\n",
    "# cb = plt.colorbar()\n",
    "# cb.ax.tick_params(labelsize=14, )\n",
    "# plt.title('Correlation Matrix', fontsize=16)"
   ]
  },
  {
   "cell_type": "code",
   "execution_count": 9,
   "metadata": {
    "pycharm": {
     "name": "#%%\n"
    }
   },
   "outputs": [],
   "source": [
    "# feature_list = ['MP', 'PTS', 'TOV', 'AST', 'STL', 'TRB', 'BLK','WS','PER', 'TS%']\n",
    "# feature_list = ['PTS','PER','TS%','WS','BPM','VORP','USG%']\n",
    "feature_list = ['Age', 'G', 'GS', 'MP', 'FG', 'FGA',\n",
    "                'FG%', '3P', '3PA', '3P%', '2P', '2PA', '2P%', 'eFG%', 'FT', 'FTA',\n",
    "                'FT%', 'ORB', 'DRB', 'TRB', 'AST', 'STL', 'BLK', 'TOV', 'PF', 'PTS',\n",
    "                'PER', 'TS%', '3PAr', 'FTr', 'ORB%', 'DRB%', 'TRB%', 'AST%', 'STL%',\n",
    "                'BLK%', 'TOV%', 'USG%', 'OWS', 'DWS', 'WS', 'WS/48', 'OBPM', 'DBPM',\n",
    "                'BPM', 'VORP']\n",
    "\n",
    "x_train = train_set[feature_list]\n",
    "x_test = test_set[feature_list]"
   ]
  },
  {
   "cell_type": "code",
   "execution_count": 10,
   "metadata": {
    "pycharm": {
     "name": "#%%\n"
    }
   },
   "outputs": [],
   "source": [
    "\n",
    "num_pipeline = Pipeline([\n",
    "    ('scaler', StandardScaler()),\n",
    "    ('reg', LinearRegression())\n",
    "])\n",
    "ppln_fitted = num_pipeline.fit(x_train, y_train, )"
   ]
  },
  {
   "cell_type": "code",
   "execution_count": 11,
   "metadata": {
    "pycharm": {
     "name": "#%%\n"
    }
   },
   "outputs": [],
   "source": [
    "y_pred = ppln_fitted.predict(x_test)\n",
    "\n",
    "test_set['pred'] = y_pred\n",
    "test_set['pred_scaled'] = MinMaxScaler().fit_transform(y_pred.reshape(-1, 1))\n",
    "test_set['pred_rank'] = test_set.pred.rank(ascending=False).astype(\"int\")"
   ]
  },
  {
   "cell_type": "code",
   "execution_count": 12,
   "metadata": {
    "pycharm": {
     "name": "#%%\n"
    }
   },
   "outputs": [
    {
     "data": {
      "text/plain": "                    Player   G   PTS    FG%   AST   TRB  STL  BLK  TOV  \\\n10   Giannis Antetokounmpo  40  31.8  0.536   5.2  12.2  0.8  0.8  4.1   \n115            Luka Dončić  46  33.4  0.501   8.3   8.9  1.5  0.5  3.6   \n230           Nikola Jokić  44  25.1  0.631  10.0  11.1  1.4  0.6  3.5   \n132            Joel Embiid  37  33.6  0.534   4.2  10.0  1.1  1.7  3.7   \n220           LeBron James  41  30.2  0.505   7.1   8.5  1.0  0.6  3.1   \n427           Jayson Tatum  48  31.1  0.465   4.4   8.7  1.1  0.8  2.9   \n374          Julius Randle  52  24.7  0.458   4.1  10.9  0.7  0.3  2.8   \n317              Ja Morant  42  27.3  0.465   8.2   5.7  1.0  0.3  3.5   \n396       Domantas Sabonis  47  18.5  0.610   7.1  12.4  0.7  0.5  3.0   \n126           Kevin Durant  39  29.7  0.559   5.3   6.7  0.8  1.5  3.5   \n\n         pred  \n10   0.152270  \n115  0.149575  \n230  0.129417  \n132  0.094525  \n220  0.090541  \n427  0.088314  \n374  0.085230  \n317  0.083577  \n396  0.075492  \n126  0.072543  ",
      "text/html": "<div>\n<style scoped>\n    .dataframe tbody tr th:only-of-type {\n        vertical-align: middle;\n    }\n\n    .dataframe tbody tr th {\n        vertical-align: top;\n    }\n\n    .dataframe thead th {\n        text-align: right;\n    }\n</style>\n<table border=\"1\" class=\"dataframe\">\n  <thead>\n    <tr style=\"text-align: right;\">\n      <th></th>\n      <th>Player</th>\n      <th>G</th>\n      <th>PTS</th>\n      <th>FG%</th>\n      <th>AST</th>\n      <th>TRB</th>\n      <th>STL</th>\n      <th>BLK</th>\n      <th>TOV</th>\n      <th>pred</th>\n    </tr>\n  </thead>\n  <tbody>\n    <tr>\n      <th>10</th>\n      <td>Giannis Antetokounmpo</td>\n      <td>40</td>\n      <td>31.8</td>\n      <td>0.536</td>\n      <td>5.2</td>\n      <td>12.2</td>\n      <td>0.8</td>\n      <td>0.8</td>\n      <td>4.1</td>\n      <td>0.152270</td>\n    </tr>\n    <tr>\n      <th>115</th>\n      <td>Luka Dončić</td>\n      <td>46</td>\n      <td>33.4</td>\n      <td>0.501</td>\n      <td>8.3</td>\n      <td>8.9</td>\n      <td>1.5</td>\n      <td>0.5</td>\n      <td>3.6</td>\n      <td>0.149575</td>\n    </tr>\n    <tr>\n      <th>230</th>\n      <td>Nikola Jokić</td>\n      <td>44</td>\n      <td>25.1</td>\n      <td>0.631</td>\n      <td>10.0</td>\n      <td>11.1</td>\n      <td>1.4</td>\n      <td>0.6</td>\n      <td>3.5</td>\n      <td>0.129417</td>\n    </tr>\n    <tr>\n      <th>132</th>\n      <td>Joel Embiid</td>\n      <td>37</td>\n      <td>33.6</td>\n      <td>0.534</td>\n      <td>4.2</td>\n      <td>10.0</td>\n      <td>1.1</td>\n      <td>1.7</td>\n      <td>3.7</td>\n      <td>0.094525</td>\n    </tr>\n    <tr>\n      <th>220</th>\n      <td>LeBron James</td>\n      <td>41</td>\n      <td>30.2</td>\n      <td>0.505</td>\n      <td>7.1</td>\n      <td>8.5</td>\n      <td>1.0</td>\n      <td>0.6</td>\n      <td>3.1</td>\n      <td>0.090541</td>\n    </tr>\n    <tr>\n      <th>427</th>\n      <td>Jayson Tatum</td>\n      <td>48</td>\n      <td>31.1</td>\n      <td>0.465</td>\n      <td>4.4</td>\n      <td>8.7</td>\n      <td>1.1</td>\n      <td>0.8</td>\n      <td>2.9</td>\n      <td>0.088314</td>\n    </tr>\n    <tr>\n      <th>374</th>\n      <td>Julius Randle</td>\n      <td>52</td>\n      <td>24.7</td>\n      <td>0.458</td>\n      <td>4.1</td>\n      <td>10.9</td>\n      <td>0.7</td>\n      <td>0.3</td>\n      <td>2.8</td>\n      <td>0.085230</td>\n    </tr>\n    <tr>\n      <th>317</th>\n      <td>Ja Morant</td>\n      <td>42</td>\n      <td>27.3</td>\n      <td>0.465</td>\n      <td>8.2</td>\n      <td>5.7</td>\n      <td>1.0</td>\n      <td>0.3</td>\n      <td>3.5</td>\n      <td>0.083577</td>\n    </tr>\n    <tr>\n      <th>396</th>\n      <td>Domantas Sabonis</td>\n      <td>47</td>\n      <td>18.5</td>\n      <td>0.610</td>\n      <td>7.1</td>\n      <td>12.4</td>\n      <td>0.7</td>\n      <td>0.5</td>\n      <td>3.0</td>\n      <td>0.075492</td>\n    </tr>\n    <tr>\n      <th>126</th>\n      <td>Kevin Durant</td>\n      <td>39</td>\n      <td>29.7</td>\n      <td>0.559</td>\n      <td>5.3</td>\n      <td>6.7</td>\n      <td>0.8</td>\n      <td>1.5</td>\n      <td>3.5</td>\n      <td>0.072543</td>\n    </tr>\n  </tbody>\n</table>\n</div>"
     },
     "execution_count": 12,
     "metadata": {},
     "output_type": "execute_result"
    }
   ],
   "source": [
    "test_set.sort_values('pred_rank', ascending=True).head(10)[\n",
    "    ['Player', 'G', 'PTS', 'FG%', 'AST', 'TRB', 'STL', 'BLK', 'TOV', 'pred']]"
   ]
  },
  {
   "cell_type": "code",
   "execution_count": 13,
   "metadata": {
    "pycharm": {
     "name": "#%%\n"
    }
   },
   "outputs": [
    {
     "name": "stdout",
     "output_type": "stream",
     "text": [
      "Fitting 5 folds for each of 3 candidates, totalling 15 fits\n",
      "{'feat_selection__percentile': 45}\n",
      "0.5964063528518981\n"
     ]
    }
   ],
   "source": [
    "\n",
    "from sklearn.pipeline import Pipeline\n",
    "from sklearn.preprocessing import MinMaxScaler\n",
    "from sklearn.feature_selection import f_regression,SelectKBest,SelectPercentile,chi2\n",
    "\n",
    "# declare a two step pipeline, explicitly giving names to both steps.\n",
    "pipe = Pipeline(\n",
    "\n",
    "    [('feat_selection', SelectPercentile(percentile=60),),('scaler', MinMaxScaler()), ('reg', RandomForestRegressor())])\n",
    "\n",
    "\n",
    "param_grid = [\n",
    "    {\n",
    "     # 'scaler':[MinMaxScaler()],\n",
    "     'feat_selection__percentile':range(45,60,5),\n",
    "     # 'reg': [RandomForestRegressor(),]\n",
    "\n",
    "     },\n",
    "]\n",
    "\n",
    "\n",
    "\n",
    "\n",
    "# param_grid = {\n",
    "#     'feat_selection':['SelectPercentile':{SelectPercentile(),}\n",
    "#                       SelectKBest()],\n",
    "#     'scaler': [MinMaxScaler(), StandardScaler(), ],\n",
    "#     'reg': [SVR(), GradientBoostingRegressor(), LinearRegression(), ],\n",
    "#     'feat_selection__percentile': [10,25,50,75,80],\n",
    "#     'feat_selection__k': [5,10,15,20],\n",
    "#     {'scaler': [MinMaxScaler()],\n",
    "#      'feature_range': [(0, 1), (-1, 1)],\n",
    "#      'knn__n_neighbors': range(1, 10)},\n",
    "#\n",
    "#     {'scaler': [StandardScaler()],\n",
    "#      'knn__n_neighbors': range(1, 10)}\n",
    "# }\n",
    "\n",
    "grid = GridSearchCV(pipe, param_grid, cv=5, verbose=5, n_jobs=-1,return_train_score=True)\n",
    "grid.fit(x_train, y_train)\n",
    "# print(grid)\n",
    "print(grid.best_params_)\n",
    "print(grid.best_score_)\n",
    "best = grid.best_params_\n"
   ]
  },
  {
   "cell_type": "markdown",
   "source": [],
   "metadata": {
    "collapsed": false
   }
  },
  {
   "cell_type": "code",
   "execution_count": 12,
   "outputs": [
    {
     "data": {
      "text/plain": "     pred_rank                 Player   G   PTS    FG%  AST   TRB  STL  \\\n237          1           Nikola Jokić  65  26.1  0.570  8.0  13.6  1.4   \n9            2  Giannis Antetokounmpo  59  29.8  0.547  5.8  11.5  1.1   \n137          3            Joel Embiid  58  29.8  0.487  4.3  11.3  1.1   \n120          4            Luka Dončić  55  28.1  0.455  8.5   9.2  1.2   \n439          5           Jayson Tatum  68  26.9  0.445  4.3   8.2  0.9   \n161          6            Rudy Gobert  56  15.5  0.711  1.1  14.7  0.7   \n224          7           LeBron James  53  29.8  0.522  6.2   8.2  1.3   \n130          8           Kevin Durant  44  29.4  0.523  6.0   7.2  0.8   \n505          9             Trae Young  65  27.9  0.455  9.5   3.9  1.0   \n324         10              Ja Morant  56  27.6  0.493  6.7   5.7  1.2   \n\n        pred  \n237  0.79067  \n9    0.47461  \n137  0.32003  \n120  0.16113  \n439  0.10094  \n161  0.09898  \n224  0.07471  \n130  0.05418  \n505  0.03985  \n324  0.02952  ",
      "text/html": "<div>\n<style scoped>\n    .dataframe tbody tr th:only-of-type {\n        vertical-align: middle;\n    }\n\n    .dataframe tbody tr th {\n        vertical-align: top;\n    }\n\n    .dataframe thead th {\n        text-align: right;\n    }\n</style>\n<table border=\"1\" class=\"dataframe\">\n  <thead>\n    <tr style=\"text-align: right;\">\n      <th></th>\n      <th>pred_rank</th>\n      <th>Player</th>\n      <th>G</th>\n      <th>PTS</th>\n      <th>FG%</th>\n      <th>AST</th>\n      <th>TRB</th>\n      <th>STL</th>\n      <th>pred</th>\n    </tr>\n  </thead>\n  <tbody>\n    <tr>\n      <th>237</th>\n      <td>1</td>\n      <td>Nikola Jokić</td>\n      <td>65</td>\n      <td>26.1</td>\n      <td>0.570</td>\n      <td>8.0</td>\n      <td>13.6</td>\n      <td>1.4</td>\n      <td>0.79067</td>\n    </tr>\n    <tr>\n      <th>9</th>\n      <td>2</td>\n      <td>Giannis Antetokounmpo</td>\n      <td>59</td>\n      <td>29.8</td>\n      <td>0.547</td>\n      <td>5.8</td>\n      <td>11.5</td>\n      <td>1.1</td>\n      <td>0.47461</td>\n    </tr>\n    <tr>\n      <th>137</th>\n      <td>3</td>\n      <td>Joel Embiid</td>\n      <td>58</td>\n      <td>29.8</td>\n      <td>0.487</td>\n      <td>4.3</td>\n      <td>11.3</td>\n      <td>1.1</td>\n      <td>0.32003</td>\n    </tr>\n    <tr>\n      <th>120</th>\n      <td>4</td>\n      <td>Luka Dončić</td>\n      <td>55</td>\n      <td>28.1</td>\n      <td>0.455</td>\n      <td>8.5</td>\n      <td>9.2</td>\n      <td>1.2</td>\n      <td>0.16113</td>\n    </tr>\n    <tr>\n      <th>439</th>\n      <td>5</td>\n      <td>Jayson Tatum</td>\n      <td>68</td>\n      <td>26.9</td>\n      <td>0.445</td>\n      <td>4.3</td>\n      <td>8.2</td>\n      <td>0.9</td>\n      <td>0.10094</td>\n    </tr>\n    <tr>\n      <th>161</th>\n      <td>6</td>\n      <td>Rudy Gobert</td>\n      <td>56</td>\n      <td>15.5</td>\n      <td>0.711</td>\n      <td>1.1</td>\n      <td>14.7</td>\n      <td>0.7</td>\n      <td>0.09898</td>\n    </tr>\n    <tr>\n      <th>224</th>\n      <td>7</td>\n      <td>LeBron James</td>\n      <td>53</td>\n      <td>29.8</td>\n      <td>0.522</td>\n      <td>6.2</td>\n      <td>8.2</td>\n      <td>1.3</td>\n      <td>0.07471</td>\n    </tr>\n    <tr>\n      <th>130</th>\n      <td>8</td>\n      <td>Kevin Durant</td>\n      <td>44</td>\n      <td>29.4</td>\n      <td>0.523</td>\n      <td>6.0</td>\n      <td>7.2</td>\n      <td>0.8</td>\n      <td>0.05418</td>\n    </tr>\n    <tr>\n      <th>505</th>\n      <td>9</td>\n      <td>Trae Young</td>\n      <td>65</td>\n      <td>27.9</td>\n      <td>0.455</td>\n      <td>9.5</td>\n      <td>3.9</td>\n      <td>1.0</td>\n      <td>0.03985</td>\n    </tr>\n    <tr>\n      <th>324</th>\n      <td>10</td>\n      <td>Ja Morant</td>\n      <td>56</td>\n      <td>27.6</td>\n      <td>0.493</td>\n      <td>6.7</td>\n      <td>5.7</td>\n      <td>1.2</td>\n      <td>0.02952</td>\n    </tr>\n  </tbody>\n</table>\n</div>"
     },
     "execution_count": 12,
     "metadata": {},
     "output_type": "execute_result"
    }
   ],
   "source": [
    "# ppln_fitted = pipe.fit(x_train, y_train, )\n",
    "\n",
    "# save\n",
    "ppln_fitted = joblib.load(\"models/RandomForrestRegressor.pkl\",)\n",
    "\n",
    "# load\n",
    "\n",
    "\n",
    "\n",
    "\n",
    "y_pred = ppln_fitted.predict(x_test)\n",
    "\n",
    "test_set['pred'] = y_pred\n",
    "test_set['pred_scaled'] = MinMaxScaler().fit_transform(y_pred.reshape(-1, 1))\n",
    "test_set['pred_rank'] = test_set.pred.rank(ascending=False).astype(\"int\")\n",
    "\n",
    "test_set.sort_values('pred_rank', ascending=True).head(10)[\n",
    "          ['pred_rank','Player', 'G', 'PTS', 'FG%', 'AST', 'TRB', 'STL', 'pred']]"
   ],
   "metadata": {
    "collapsed": false,
    "pycharm": {
     "name": "#%%\n"
    }
   }
  },
  {
   "cell_type": "code",
   "execution_count": 18,
   "outputs": [
    {
     "data": {
      "text/plain": "     pred_rank                 Player   PTS    TS%  AST   TRB  USG%  WS/48  \\\n237          1           Nikola Jokić  26.1  0.652  8.0  13.6  31.6  0.294   \n9            2  Giannis Antetokounmpo  29.8  0.630  5.8  11.5  34.9  0.291   \n137          3            Joel Embiid  29.8  0.609  4.3  11.3  37.1  0.255   \n120          4            Luka Dončić  28.1  0.564  8.5   9.2  37.2  0.149   \n439          5           Jayson Tatum  26.9  0.570  4.3   8.2  32.2  0.162   \n161          6            Rudy Gobert  15.5  0.733  1.1  14.7  16.8  0.273   \n224          7           LeBron James  29.8  0.617  6.2   8.2  32.0  0.179   \n130          8           Kevin Durant  29.4  0.633  6.0   7.2  31.2  0.195   \n505          9             Trae Young  27.9  0.595  9.5   3.9  34.6  0.167   \n324         10              Ja Morant  27.6  0.575  6.7   5.7  33.8  0.175   \n\n      BPM  VORP  \n237  13.8   8.5  \n9    11.1   6.5  \n137   9.4   5.6  \n120   8.1   5.0  \n439   4.5   4.1  \n161   5.1   3.2  \n224   7.6   4.7  \n130   6.9   3.6  \n505   4.7   3.9  \n324   6.0   3.7  ",
      "text/html": "<div>\n<style scoped>\n    .dataframe tbody tr th:only-of-type {\n        vertical-align: middle;\n    }\n\n    .dataframe tbody tr th {\n        vertical-align: top;\n    }\n\n    .dataframe thead th {\n        text-align: right;\n    }\n</style>\n<table border=\"1\" class=\"dataframe\">\n  <thead>\n    <tr style=\"text-align: right;\">\n      <th></th>\n      <th>pred_rank</th>\n      <th>Player</th>\n      <th>PTS</th>\n      <th>TS%</th>\n      <th>AST</th>\n      <th>TRB</th>\n      <th>USG%</th>\n      <th>WS/48</th>\n      <th>BPM</th>\n      <th>VORP</th>\n    </tr>\n  </thead>\n  <tbody>\n    <tr>\n      <th>237</th>\n      <td>1</td>\n      <td>Nikola Jokić</td>\n      <td>26.1</td>\n      <td>0.652</td>\n      <td>8.0</td>\n      <td>13.6</td>\n      <td>31.6</td>\n      <td>0.294</td>\n      <td>13.8</td>\n      <td>8.5</td>\n    </tr>\n    <tr>\n      <th>9</th>\n      <td>2</td>\n      <td>Giannis Antetokounmpo</td>\n      <td>29.8</td>\n      <td>0.630</td>\n      <td>5.8</td>\n      <td>11.5</td>\n      <td>34.9</td>\n      <td>0.291</td>\n      <td>11.1</td>\n      <td>6.5</td>\n    </tr>\n    <tr>\n      <th>137</th>\n      <td>3</td>\n      <td>Joel Embiid</td>\n      <td>29.8</td>\n      <td>0.609</td>\n      <td>4.3</td>\n      <td>11.3</td>\n      <td>37.1</td>\n      <td>0.255</td>\n      <td>9.4</td>\n      <td>5.6</td>\n    </tr>\n    <tr>\n      <th>120</th>\n      <td>4</td>\n      <td>Luka Dončić</td>\n      <td>28.1</td>\n      <td>0.564</td>\n      <td>8.5</td>\n      <td>9.2</td>\n      <td>37.2</td>\n      <td>0.149</td>\n      <td>8.1</td>\n      <td>5.0</td>\n    </tr>\n    <tr>\n      <th>439</th>\n      <td>5</td>\n      <td>Jayson Tatum</td>\n      <td>26.9</td>\n      <td>0.570</td>\n      <td>4.3</td>\n      <td>8.2</td>\n      <td>32.2</td>\n      <td>0.162</td>\n      <td>4.5</td>\n      <td>4.1</td>\n    </tr>\n    <tr>\n      <th>161</th>\n      <td>6</td>\n      <td>Rudy Gobert</td>\n      <td>15.5</td>\n      <td>0.733</td>\n      <td>1.1</td>\n      <td>14.7</td>\n      <td>16.8</td>\n      <td>0.273</td>\n      <td>5.1</td>\n      <td>3.2</td>\n    </tr>\n    <tr>\n      <th>224</th>\n      <td>7</td>\n      <td>LeBron James</td>\n      <td>29.8</td>\n      <td>0.617</td>\n      <td>6.2</td>\n      <td>8.2</td>\n      <td>32.0</td>\n      <td>0.179</td>\n      <td>7.6</td>\n      <td>4.7</td>\n    </tr>\n    <tr>\n      <th>130</th>\n      <td>8</td>\n      <td>Kevin Durant</td>\n      <td>29.4</td>\n      <td>0.633</td>\n      <td>6.0</td>\n      <td>7.2</td>\n      <td>31.2</td>\n      <td>0.195</td>\n      <td>6.9</td>\n      <td>3.6</td>\n    </tr>\n    <tr>\n      <th>505</th>\n      <td>9</td>\n      <td>Trae Young</td>\n      <td>27.9</td>\n      <td>0.595</td>\n      <td>9.5</td>\n      <td>3.9</td>\n      <td>34.6</td>\n      <td>0.167</td>\n      <td>4.7</td>\n      <td>3.9</td>\n    </tr>\n    <tr>\n      <th>324</th>\n      <td>10</td>\n      <td>Ja Morant</td>\n      <td>27.6</td>\n      <td>0.575</td>\n      <td>6.7</td>\n      <td>5.7</td>\n      <td>33.8</td>\n      <td>0.175</td>\n      <td>6.0</td>\n      <td>3.7</td>\n    </tr>\n  </tbody>\n</table>\n</div>"
     },
     "execution_count": 18,
     "metadata": {},
     "output_type": "execute_result"
    }
   ],
   "source": [
    "test_set.sort_values('pred_rank', ascending=True).head(10)[\n",
    "          ['pred_rank','Player', 'PTS', 'TS%', 'AST', 'TRB','USG%','WS/48','BPM','VORP']]"
   ],
   "metadata": {
    "collapsed": false,
    "pycharm": {
     "name": "#%%\n"
    }
   }
  },
  {
   "cell_type": "code",
   "execution_count": 16,
   "outputs": [
    {
     "data": {
      "text/plain": "Index(['Player', 'Pos', 'Age', 'Tm', 'G', 'GS', 'MP', 'FG', 'FGA', 'FG%', '3P',\n       '3PA', '3P%', '2P', '2PA', '2P%', 'eFG%', 'FT', 'FTA', 'FT%', 'ORB',\n       'DRB', 'TRB', 'AST', 'STL', 'BLK', 'TOV', 'PF', 'PTS', 'PER', 'TS%',\n       '3PAr', 'FTr', 'ORB%', 'DRB%', 'TRB%', 'AST%', 'STL%', 'BLK%', 'TOV%',\n       'USG%', 'OWS', 'DWS', 'WS', 'WS/48', 'OBPM', 'DBPM', 'BPM', 'VORP',\n       'Year', 'pred', 'pred_scaled', 'pred_rank'],\n      dtype='object')"
     },
     "execution_count": 16,
     "metadata": {},
     "output_type": "execute_result"
    }
   ],
   "source": [
    "# test_set.to_csv(f'Histoic Predictions/{}')\n",
    "test_set.columns"
   ],
   "metadata": {
    "collapsed": false,
    "pycharm": {
     "name": "#%%\n"
    }
   }
  },
  {
   "cell_type": "code",
   "execution_count": 12,
   "outputs": [
    {
     "ename": "NameError",
     "evalue": "name 'test_set' is not defined",
     "output_type": "error",
     "traceback": [
      "\u001B[0;31m---------------------------------------------------------------------------\u001B[0m",
      "\u001B[0;31mNameError\u001B[0m                                 Traceback (most recent call last)",
      "Input \u001B[0;32mIn [12]\u001B[0m, in \u001B[0;36m<module>\u001B[0;34m\u001B[0m\n\u001B[0;32m----> 1\u001B[0m \u001B[43mtest_set\u001B[49m\n",
      "\u001B[0;31mNameError\u001B[0m: name 'test_set' is not defined"
     ]
    }
   ],
   "source": [
    "test_set"
   ],
   "metadata": {
    "collapsed": false,
    "pycharm": {
     "name": "#%%\n"
    }
   }
  },
  {
   "cell_type": "code",
   "execution_count": 14,
   "outputs": [
    {
     "data": {
      "text/plain": "'Kareem Abdul-Jabbar'"
     },
     "execution_count": 14,
     "metadata": {},
     "output_type": "execute_result"
    }
   ],
   "source": [
    "df.loc[(df.MVP_Rank == 1) & (df.Year == 1980),'Player'].values[0]"
   ],
   "metadata": {
    "collapsed": false,
    "pycharm": {
     "name": "#%%\n"
    }
   }
  },
  {
   "cell_type": "code",
   "execution_count": 23,
   "outputs": [
    {
     "ename": "KeyError",
     "evalue": "\"['MVP'] not in index\"",
     "output_type": "error",
     "traceback": [
      "\u001B[0;31m---------------------------------------------------------------------------\u001B[0m",
      "\u001B[0;31mKeyError\u001B[0m                                  Traceback (most recent call last)",
      "Input \u001B[0;32mIn [23]\u001B[0m, in \u001B[0;36m<module>\u001B[0;34m\u001B[0m\n\u001B[1;32m      1\u001B[0m df[\u001B[38;5;124m'\u001B[39m\u001B[38;5;124mMVP_Rank\u001B[39m\u001B[38;5;124m'\u001B[39m] \u001B[38;5;241m=\u001B[39m df[\u001B[38;5;124m'\u001B[39m\u001B[38;5;124mMVP_Rank\u001B[39m\u001B[38;5;124m'\u001B[39m]\u001B[38;5;241m.\u001B[39mastype(\u001B[38;5;124m\"\u001B[39m\u001B[38;5;124mint\u001B[39m\u001B[38;5;124m\"\u001B[39m)\n\u001B[0;32m----> 3\u001B[0m \u001B[43mdf\u001B[49m\u001B[38;5;241;43m.\u001B[39;49m\u001B[43mloc\u001B[49m\u001B[43m[\u001B[49m\u001B[43m(\u001B[49m\u001B[43mdf\u001B[49m\u001B[38;5;241;43m.\u001B[39;49m\u001B[43mMVP_Rank\u001B[49m\u001B[43m \u001B[49m\u001B[38;5;241;43m==\u001B[39;49m\u001B[43m \u001B[49m\u001B[38;5;241;43m1\u001B[39;49m\u001B[43m)\u001B[49m\u001B[43m \u001B[49m\u001B[38;5;241;43m&\u001B[39;49m\u001B[43m \u001B[49m\u001B[43m(\u001B[49m\u001B[43mdf\u001B[49m\u001B[38;5;241;43m.\u001B[39;49m\u001B[43mYear\u001B[49m\u001B[43m \u001B[49m\u001B[38;5;241;43m==\u001B[39;49m\u001B[43m \u001B[49m\u001B[38;5;241;43m1997\u001B[39;49m\u001B[43m)\u001B[49m\u001B[43m,\u001B[49m\u001B[43m[\u001B[49m\u001B[38;5;124;43m'\u001B[39;49m\u001B[38;5;124;43mPlayer\u001B[39;49m\u001B[38;5;124;43m'\u001B[39;49m\u001B[43m,\u001B[49m\u001B[38;5;124;43m'\u001B[39;49m\u001B[38;5;124;43mMVP\u001B[39;49m\u001B[38;5;124;43m'\u001B[39;49m\u001B[43m]\u001B[49m\u001B[43m]\u001B[49m\n",
      "File \u001B[0;32m~/Dropbox/NBA/venv/lib/python3.9/site-packages/pandas/core/indexing.py:925\u001B[0m, in \u001B[0;36m_LocationIndexer.__getitem__\u001B[0;34m(self, key)\u001B[0m\n\u001B[1;32m    923\u001B[0m         \u001B[38;5;28;01mwith\u001B[39;00m suppress(\u001B[38;5;167;01mKeyError\u001B[39;00m, \u001B[38;5;167;01mIndexError\u001B[39;00m):\n\u001B[1;32m    924\u001B[0m             \u001B[38;5;28;01mreturn\u001B[39;00m \u001B[38;5;28mself\u001B[39m\u001B[38;5;241m.\u001B[39mobj\u001B[38;5;241m.\u001B[39m_get_value(\u001B[38;5;241m*\u001B[39mkey, takeable\u001B[38;5;241m=\u001B[39m\u001B[38;5;28mself\u001B[39m\u001B[38;5;241m.\u001B[39m_takeable)\n\u001B[0;32m--> 925\u001B[0m     \u001B[38;5;28;01mreturn\u001B[39;00m \u001B[38;5;28;43mself\u001B[39;49m\u001B[38;5;241;43m.\u001B[39;49m\u001B[43m_getitem_tuple\u001B[49m\u001B[43m(\u001B[49m\u001B[43mkey\u001B[49m\u001B[43m)\u001B[49m\n\u001B[1;32m    926\u001B[0m \u001B[38;5;28;01melse\u001B[39;00m:\n\u001B[1;32m    927\u001B[0m     \u001B[38;5;66;03m# we by definition only have the 0th axis\u001B[39;00m\n\u001B[1;32m    928\u001B[0m     axis \u001B[38;5;241m=\u001B[39m \u001B[38;5;28mself\u001B[39m\u001B[38;5;241m.\u001B[39maxis \u001B[38;5;129;01mor\u001B[39;00m \u001B[38;5;241m0\u001B[39m\n",
      "File \u001B[0;32m~/Dropbox/NBA/venv/lib/python3.9/site-packages/pandas/core/indexing.py:1109\u001B[0m, in \u001B[0;36m_LocIndexer._getitem_tuple\u001B[0;34m(self, tup)\u001B[0m\n\u001B[1;32m   1106\u001B[0m \u001B[38;5;28;01mif\u001B[39;00m \u001B[38;5;28mself\u001B[39m\u001B[38;5;241m.\u001B[39m_multi_take_opportunity(tup):\n\u001B[1;32m   1107\u001B[0m     \u001B[38;5;28;01mreturn\u001B[39;00m \u001B[38;5;28mself\u001B[39m\u001B[38;5;241m.\u001B[39m_multi_take(tup)\n\u001B[0;32m-> 1109\u001B[0m \u001B[38;5;28;01mreturn\u001B[39;00m \u001B[38;5;28;43mself\u001B[39;49m\u001B[38;5;241;43m.\u001B[39;49m\u001B[43m_getitem_tuple_same_dim\u001B[49m\u001B[43m(\u001B[49m\u001B[43mtup\u001B[49m\u001B[43m)\u001B[49m\n",
      "File \u001B[0;32m~/Dropbox/NBA/venv/lib/python3.9/site-packages/pandas/core/indexing.py:806\u001B[0m, in \u001B[0;36m_LocationIndexer._getitem_tuple_same_dim\u001B[0;34m(self, tup)\u001B[0m\n\u001B[1;32m    803\u001B[0m \u001B[38;5;28;01mif\u001B[39;00m com\u001B[38;5;241m.\u001B[39mis_null_slice(key):\n\u001B[1;32m    804\u001B[0m     \u001B[38;5;28;01mcontinue\u001B[39;00m\n\u001B[0;32m--> 806\u001B[0m retval \u001B[38;5;241m=\u001B[39m \u001B[38;5;28;43mgetattr\u001B[39;49m\u001B[43m(\u001B[49m\u001B[43mretval\u001B[49m\u001B[43m,\u001B[49m\u001B[43m \u001B[49m\u001B[38;5;28;43mself\u001B[39;49m\u001B[38;5;241;43m.\u001B[39;49m\u001B[43mname\u001B[49m\u001B[43m)\u001B[49m\u001B[38;5;241;43m.\u001B[39;49m\u001B[43m_getitem_axis\u001B[49m\u001B[43m(\u001B[49m\u001B[43mkey\u001B[49m\u001B[43m,\u001B[49m\u001B[43m \u001B[49m\u001B[43maxis\u001B[49m\u001B[38;5;241;43m=\u001B[39;49m\u001B[43mi\u001B[49m\u001B[43m)\u001B[49m\n\u001B[1;32m    807\u001B[0m \u001B[38;5;66;03m# We should never have retval.ndim < self.ndim, as that should\u001B[39;00m\n\u001B[1;32m    808\u001B[0m \u001B[38;5;66;03m#  be handled by the _getitem_lowerdim call above.\u001B[39;00m\n\u001B[1;32m    809\u001B[0m \u001B[38;5;28;01massert\u001B[39;00m retval\u001B[38;5;241m.\u001B[39mndim \u001B[38;5;241m==\u001B[39m \u001B[38;5;28mself\u001B[39m\u001B[38;5;241m.\u001B[39mndim\n",
      "File \u001B[0;32m~/Dropbox/NBA/venv/lib/python3.9/site-packages/pandas/core/indexing.py:1153\u001B[0m, in \u001B[0;36m_LocIndexer._getitem_axis\u001B[0;34m(self, key, axis)\u001B[0m\n\u001B[1;32m   1150\u001B[0m     \u001B[38;5;28;01mif\u001B[39;00m \u001B[38;5;28mhasattr\u001B[39m(key, \u001B[38;5;124m\"\u001B[39m\u001B[38;5;124mndim\u001B[39m\u001B[38;5;124m\"\u001B[39m) \u001B[38;5;129;01mand\u001B[39;00m key\u001B[38;5;241m.\u001B[39mndim \u001B[38;5;241m>\u001B[39m \u001B[38;5;241m1\u001B[39m:\n\u001B[1;32m   1151\u001B[0m         \u001B[38;5;28;01mraise\u001B[39;00m \u001B[38;5;167;01mValueError\u001B[39;00m(\u001B[38;5;124m\"\u001B[39m\u001B[38;5;124mCannot index with multidimensional key\u001B[39m\u001B[38;5;124m\"\u001B[39m)\n\u001B[0;32m-> 1153\u001B[0m     \u001B[38;5;28;01mreturn\u001B[39;00m \u001B[38;5;28;43mself\u001B[39;49m\u001B[38;5;241;43m.\u001B[39;49m\u001B[43m_getitem_iterable\u001B[49m\u001B[43m(\u001B[49m\u001B[43mkey\u001B[49m\u001B[43m,\u001B[49m\u001B[43m \u001B[49m\u001B[43maxis\u001B[49m\u001B[38;5;241;43m=\u001B[39;49m\u001B[43maxis\u001B[49m\u001B[43m)\u001B[49m\n\u001B[1;32m   1155\u001B[0m \u001B[38;5;66;03m# nested tuple slicing\u001B[39;00m\n\u001B[1;32m   1156\u001B[0m \u001B[38;5;28;01mif\u001B[39;00m is_nested_tuple(key, labels):\n",
      "File \u001B[0;32m~/Dropbox/NBA/venv/lib/python3.9/site-packages/pandas/core/indexing.py:1093\u001B[0m, in \u001B[0;36m_LocIndexer._getitem_iterable\u001B[0;34m(self, key, axis)\u001B[0m\n\u001B[1;32m   1090\u001B[0m \u001B[38;5;28mself\u001B[39m\u001B[38;5;241m.\u001B[39m_validate_key(key, axis)\n\u001B[1;32m   1092\u001B[0m \u001B[38;5;66;03m# A collection of keys\u001B[39;00m\n\u001B[0;32m-> 1093\u001B[0m keyarr, indexer \u001B[38;5;241m=\u001B[39m \u001B[38;5;28;43mself\u001B[39;49m\u001B[38;5;241;43m.\u001B[39;49m\u001B[43m_get_listlike_indexer\u001B[49m\u001B[43m(\u001B[49m\u001B[43mkey\u001B[49m\u001B[43m,\u001B[49m\u001B[43m \u001B[49m\u001B[43maxis\u001B[49m\u001B[43m)\u001B[49m\n\u001B[1;32m   1094\u001B[0m \u001B[38;5;28;01mreturn\u001B[39;00m \u001B[38;5;28mself\u001B[39m\u001B[38;5;241m.\u001B[39mobj\u001B[38;5;241m.\u001B[39m_reindex_with_indexers(\n\u001B[1;32m   1095\u001B[0m     {axis: [keyarr, indexer]}, copy\u001B[38;5;241m=\u001B[39m\u001B[38;5;28;01mTrue\u001B[39;00m, allow_dups\u001B[38;5;241m=\u001B[39m\u001B[38;5;28;01mTrue\u001B[39;00m\n\u001B[1;32m   1096\u001B[0m )\n",
      "File \u001B[0;32m~/Dropbox/NBA/venv/lib/python3.9/site-packages/pandas/core/indexing.py:1314\u001B[0m, in \u001B[0;36m_LocIndexer._get_listlike_indexer\u001B[0;34m(self, key, axis)\u001B[0m\n\u001B[1;32m   1311\u001B[0m \u001B[38;5;28;01melse\u001B[39;00m:\n\u001B[1;32m   1312\u001B[0m     keyarr, indexer, new_indexer \u001B[38;5;241m=\u001B[39m ax\u001B[38;5;241m.\u001B[39m_reindex_non_unique(keyarr)\n\u001B[0;32m-> 1314\u001B[0m \u001B[38;5;28;43mself\u001B[39;49m\u001B[38;5;241;43m.\u001B[39;49m\u001B[43m_validate_read_indexer\u001B[49m\u001B[43m(\u001B[49m\u001B[43mkeyarr\u001B[49m\u001B[43m,\u001B[49m\u001B[43m \u001B[49m\u001B[43mindexer\u001B[49m\u001B[43m,\u001B[49m\u001B[43m \u001B[49m\u001B[43maxis\u001B[49m\u001B[43m)\u001B[49m\n\u001B[1;32m   1316\u001B[0m \u001B[38;5;28;01mif\u001B[39;00m needs_i8_conversion(ax\u001B[38;5;241m.\u001B[39mdtype) \u001B[38;5;129;01mor\u001B[39;00m \u001B[38;5;28misinstance\u001B[39m(\n\u001B[1;32m   1317\u001B[0m     ax, (IntervalIndex, CategoricalIndex)\n\u001B[1;32m   1318\u001B[0m ):\n\u001B[1;32m   1319\u001B[0m     \u001B[38;5;66;03m# For CategoricalIndex take instead of reindex to preserve dtype.\u001B[39;00m\n\u001B[1;32m   1320\u001B[0m     \u001B[38;5;66;03m#  For IntervalIndex this is to map integers to the Intervals they match to.\u001B[39;00m\n\u001B[1;32m   1321\u001B[0m     keyarr \u001B[38;5;241m=\u001B[39m ax\u001B[38;5;241m.\u001B[39mtake(indexer)\n",
      "File \u001B[0;32m~/Dropbox/NBA/venv/lib/python3.9/site-packages/pandas/core/indexing.py:1377\u001B[0m, in \u001B[0;36m_LocIndexer._validate_read_indexer\u001B[0;34m(self, key, indexer, axis)\u001B[0m\n\u001B[1;32m   1374\u001B[0m     \u001B[38;5;28;01mraise\u001B[39;00m \u001B[38;5;167;01mKeyError\u001B[39;00m(\u001B[38;5;124mf\u001B[39m\u001B[38;5;124m\"\u001B[39m\u001B[38;5;124mNone of [\u001B[39m\u001B[38;5;132;01m{\u001B[39;00mkey\u001B[38;5;132;01m}\u001B[39;00m\u001B[38;5;124m] are in the [\u001B[39m\u001B[38;5;132;01m{\u001B[39;00maxis_name\u001B[38;5;132;01m}\u001B[39;00m\u001B[38;5;124m]\u001B[39m\u001B[38;5;124m\"\u001B[39m)\n\u001B[1;32m   1376\u001B[0m not_found \u001B[38;5;241m=\u001B[39m \u001B[38;5;28mlist\u001B[39m(ensure_index(key)[missing_mask\u001B[38;5;241m.\u001B[39mnonzero()[\u001B[38;5;241m0\u001B[39m]]\u001B[38;5;241m.\u001B[39munique())\n\u001B[0;32m-> 1377\u001B[0m \u001B[38;5;28;01mraise\u001B[39;00m \u001B[38;5;167;01mKeyError\u001B[39;00m(\u001B[38;5;124mf\u001B[39m\u001B[38;5;124m\"\u001B[39m\u001B[38;5;132;01m{\u001B[39;00mnot_found\u001B[38;5;132;01m}\u001B[39;00m\u001B[38;5;124m not in index\u001B[39m\u001B[38;5;124m\"\u001B[39m)\n",
      "\u001B[0;31mKeyError\u001B[0m: \"['MVP'] not in index\""
     ]
    }
   ],
   "source": [
    "df['MVP_Rank'] = df['MVP_Rank'].astype(\"int\")\n",
    "\n",
    "df.loc[(df.MVP_Rank == 1) & (df.Year == 1997),['Player','MVP']]"
   ],
   "metadata": {
    "collapsed": false,
    "pycharm": {
     "name": "#%%\n"
    }
   }
  },
  {
   "cell_type": "code",
   "execution_count": 25,
   "outputs": [],
   "source": [
    "df = pd.read_csv('train_set_full.csv', index_col=0)\n",
    "\n",
    "# print(df.columns)\n",
    "\n",
    "df = df.drop(columns=['STAR', 'DPOY_Rank', 'DPOY_First', 'DPOY_Pts Won', 'DPOY_Pts Max', 'DPOY_Share',\n",
    "                      'DPOY', 'MIP_Rank', 'MIP_First', 'MIP_Pts Won', 'MIP_Pts Max',\n",
    "                      'MIP_Share', 'MIP', 'MVP_First', 'MVP_Pts Won',\n",
    "                      'MVP_Pts Max', 'ROTY_Rank', 'ROTY_First',\n",
    "                      'ROTY_Pts Won', 'ROTY_Pts Max', 'ROTY_Share', 'ROTY', 'SMOTY_Rank',\n",
    "                      'SMOTY_First', 'SMOTY_Pts Won', 'SMOTY_Pts Max', 'SMOTY_Share',\n",
    "                      'SMOTY'], errors='ignore')\n",
    "\n",
    "# df = trim_set(df)"
   ],
   "metadata": {
    "collapsed": false,
    "pycharm": {
     "name": "#%%\n"
    }
   }
  },
  {
   "cell_type": "code",
   "execution_count": 30,
   "outputs": [
    {
     "data": {
      "text/plain": "     Year       Player Pos  Age   Tm   G  GS    MP    FG   FGA  ...   OWS  \\\n151  1986  Karl Malone  PF   22  UTA  81  76  30.6   6.2  12.5  ...  -2.4   \n150  1987  Karl Malone  PF   23  UTA  82  82  34.8   8.9  17.3  ...   1.8   \n144  1988  Karl Malone  PF   24  UTA  82  82  39.0  10.5  20.1  ...   4.0   \n177  1989  Karl Malone  PF   25  UTA  80  80  39.1  10.1  19.5  ...   8.6   \n185  1990  Karl Malone  PF   26  UTA  82  82  38.1  11.1  19.8  ...  10.5   \n195  1991  Karl Malone  PF   27  UTA  82  82  40.3  10.3  19.6  ...   9.9   \n195  1992  Karl Malone  PF   28  UTA  81  81  37.7   9.9  18.7  ...   9.9   \n203  1993  Karl Malone  PF   29  UTA  82  82  37.8   9.7  17.6  ...  10.4   \n212  1994  Karl Malone  PF   30  UTA  82  82  40.6   9.4  18.9  ...   7.4   \n206  1995  Karl Malone  PF   31  UTA  82  82  38.1  10.1  18.9  ...   8.1   \n197  1996  Karl Malone  PF   32  UTA  82  82  38.0   9.6  18.5  ...   9.9   \n191  1997  Karl Malone  PF   33  UTA  82  82  36.6  10.5  19.2  ...  11.6   \n215  1998  Karl Malone  PF   34  UTA  81  81  37.4   9.6  18.2  ...  12.1   \n208  1999  Karl Malone  PF   35  UTA  49  49  37.4   8.0  16.3  ...   6.2   \n222  2000  Karl Malone  PF   36  UTA  82  82  35.9   9.2  18.0  ...  10.7   \n210  2001  Karl Malone  PF   37  UTA  81  81  35.7   8.3  16.6  ...   9.1   \n226  2002  Karl Malone  PF   38  UTA  80  80  38.0   7.9  17.5  ...   5.5   \n215  2003  Karl Malone  PF   39  UTA  81  81  36.2   7.3  15.9  ...   6.9   \n217  2004  Karl Malone  PF   40  LAL  42  42  32.7   4.6   9.5  ...   2.1   \n\n     DWS    WS  WS/48  OBPM  DBPM  BPM  VORP  MVP_Rank  MVP_Share  \n151  4.3   1.9  0.036  -2.4   0.5 -1.9   0.1       0.0      0.000  \n150  5.1   6.9  0.116   0.3   0.0  0.3   1.7      12.0      0.004  \n144  6.1  10.1  0.152   1.7  -0.2  1.5   2.9       8.0      0.045  \n177  6.6  15.2  0.233   4.3   1.2  5.4   5.9       3.0      0.426  \n185  5.4  15.9  0.245   5.9   0.5  6.4   6.6       4.0      0.233  \n195  5.6  15.5  0.225   4.8   0.6  5.4   6.2       5.0      0.148  \n195  5.2  15.1  0.237   5.2   0.6  5.7   5.9       4.0      0.273  \n203  5.0  15.4  0.238   6.0   1.4  7.3   7.3       8.0      0.010  \n212  6.1  13.4  0.193   4.1   1.5  5.6   6.4       7.0      0.017  \n206  5.8  13.8  0.212   4.3   1.3  5.6   6.0       3.0      0.507  \n197  5.3  15.1  0.233   5.6   1.4  7.0   7.1       7.0      0.075  \n191  5.1  16.7  0.268   7.1   1.2  8.3   7.8       0.0      0.000  \n215  4.3  16.4  0.259   6.6   0.7  7.3   7.1       2.0      0.726  \n208  3.4   9.6  0.252   5.3   1.4  6.7   4.0       1.0      0.701  \n222  4.5  15.3  0.249   6.4   1.1  7.5   7.1       4.0      0.258  \n210  4.0  13.1  0.217   5.5   1.1  6.6   6.3       7.0      0.017  \n226  4.3   9.8  0.155   2.9   0.8  3.7   4.4       0.0      0.000  \n215  4.3  11.1  0.182   3.2   1.0  4.2   4.6       0.0      0.000  \n217  2.2   4.3  0.151   1.1   1.7  2.8   1.7       0.0      0.000  \n\n[19 rows x 52 columns]",
      "text/html": "<div>\n<style scoped>\n    .dataframe tbody tr th:only-of-type {\n        vertical-align: middle;\n    }\n\n    .dataframe tbody tr th {\n        vertical-align: top;\n    }\n\n    .dataframe thead th {\n        text-align: right;\n    }\n</style>\n<table border=\"1\" class=\"dataframe\">\n  <thead>\n    <tr style=\"text-align: right;\">\n      <th></th>\n      <th>Year</th>\n      <th>Player</th>\n      <th>Pos</th>\n      <th>Age</th>\n      <th>Tm</th>\n      <th>G</th>\n      <th>GS</th>\n      <th>MP</th>\n      <th>FG</th>\n      <th>FGA</th>\n      <th>...</th>\n      <th>OWS</th>\n      <th>DWS</th>\n      <th>WS</th>\n      <th>WS/48</th>\n      <th>OBPM</th>\n      <th>DBPM</th>\n      <th>BPM</th>\n      <th>VORP</th>\n      <th>MVP_Rank</th>\n      <th>MVP_Share</th>\n    </tr>\n  </thead>\n  <tbody>\n    <tr>\n      <th>151</th>\n      <td>1986</td>\n      <td>Karl Malone</td>\n      <td>PF</td>\n      <td>22</td>\n      <td>UTA</td>\n      <td>81</td>\n      <td>76</td>\n      <td>30.6</td>\n      <td>6.2</td>\n      <td>12.5</td>\n      <td>...</td>\n      <td>-2.4</td>\n      <td>4.3</td>\n      <td>1.9</td>\n      <td>0.036</td>\n      <td>-2.4</td>\n      <td>0.5</td>\n      <td>-1.9</td>\n      <td>0.1</td>\n      <td>0.0</td>\n      <td>0.000</td>\n    </tr>\n    <tr>\n      <th>150</th>\n      <td>1987</td>\n      <td>Karl Malone</td>\n      <td>PF</td>\n      <td>23</td>\n      <td>UTA</td>\n      <td>82</td>\n      <td>82</td>\n      <td>34.8</td>\n      <td>8.9</td>\n      <td>17.3</td>\n      <td>...</td>\n      <td>1.8</td>\n      <td>5.1</td>\n      <td>6.9</td>\n      <td>0.116</td>\n      <td>0.3</td>\n      <td>0.0</td>\n      <td>0.3</td>\n      <td>1.7</td>\n      <td>12.0</td>\n      <td>0.004</td>\n    </tr>\n    <tr>\n      <th>144</th>\n      <td>1988</td>\n      <td>Karl Malone</td>\n      <td>PF</td>\n      <td>24</td>\n      <td>UTA</td>\n      <td>82</td>\n      <td>82</td>\n      <td>39.0</td>\n      <td>10.5</td>\n      <td>20.1</td>\n      <td>...</td>\n      <td>4.0</td>\n      <td>6.1</td>\n      <td>10.1</td>\n      <td>0.152</td>\n      <td>1.7</td>\n      <td>-0.2</td>\n      <td>1.5</td>\n      <td>2.9</td>\n      <td>8.0</td>\n      <td>0.045</td>\n    </tr>\n    <tr>\n      <th>177</th>\n      <td>1989</td>\n      <td>Karl Malone</td>\n      <td>PF</td>\n      <td>25</td>\n      <td>UTA</td>\n      <td>80</td>\n      <td>80</td>\n      <td>39.1</td>\n      <td>10.1</td>\n      <td>19.5</td>\n      <td>...</td>\n      <td>8.6</td>\n      <td>6.6</td>\n      <td>15.2</td>\n      <td>0.233</td>\n      <td>4.3</td>\n      <td>1.2</td>\n      <td>5.4</td>\n      <td>5.9</td>\n      <td>3.0</td>\n      <td>0.426</td>\n    </tr>\n    <tr>\n      <th>185</th>\n      <td>1990</td>\n      <td>Karl Malone</td>\n      <td>PF</td>\n      <td>26</td>\n      <td>UTA</td>\n      <td>82</td>\n      <td>82</td>\n      <td>38.1</td>\n      <td>11.1</td>\n      <td>19.8</td>\n      <td>...</td>\n      <td>10.5</td>\n      <td>5.4</td>\n      <td>15.9</td>\n      <td>0.245</td>\n      <td>5.9</td>\n      <td>0.5</td>\n      <td>6.4</td>\n      <td>6.6</td>\n      <td>4.0</td>\n      <td>0.233</td>\n    </tr>\n    <tr>\n      <th>195</th>\n      <td>1991</td>\n      <td>Karl Malone</td>\n      <td>PF</td>\n      <td>27</td>\n      <td>UTA</td>\n      <td>82</td>\n      <td>82</td>\n      <td>40.3</td>\n      <td>10.3</td>\n      <td>19.6</td>\n      <td>...</td>\n      <td>9.9</td>\n      <td>5.6</td>\n      <td>15.5</td>\n      <td>0.225</td>\n      <td>4.8</td>\n      <td>0.6</td>\n      <td>5.4</td>\n      <td>6.2</td>\n      <td>5.0</td>\n      <td>0.148</td>\n    </tr>\n    <tr>\n      <th>195</th>\n      <td>1992</td>\n      <td>Karl Malone</td>\n      <td>PF</td>\n      <td>28</td>\n      <td>UTA</td>\n      <td>81</td>\n      <td>81</td>\n      <td>37.7</td>\n      <td>9.9</td>\n      <td>18.7</td>\n      <td>...</td>\n      <td>9.9</td>\n      <td>5.2</td>\n      <td>15.1</td>\n      <td>0.237</td>\n      <td>5.2</td>\n      <td>0.6</td>\n      <td>5.7</td>\n      <td>5.9</td>\n      <td>4.0</td>\n      <td>0.273</td>\n    </tr>\n    <tr>\n      <th>203</th>\n      <td>1993</td>\n      <td>Karl Malone</td>\n      <td>PF</td>\n      <td>29</td>\n      <td>UTA</td>\n      <td>82</td>\n      <td>82</td>\n      <td>37.8</td>\n      <td>9.7</td>\n      <td>17.6</td>\n      <td>...</td>\n      <td>10.4</td>\n      <td>5.0</td>\n      <td>15.4</td>\n      <td>0.238</td>\n      <td>6.0</td>\n      <td>1.4</td>\n      <td>7.3</td>\n      <td>7.3</td>\n      <td>8.0</td>\n      <td>0.010</td>\n    </tr>\n    <tr>\n      <th>212</th>\n      <td>1994</td>\n      <td>Karl Malone</td>\n      <td>PF</td>\n      <td>30</td>\n      <td>UTA</td>\n      <td>82</td>\n      <td>82</td>\n      <td>40.6</td>\n      <td>9.4</td>\n      <td>18.9</td>\n      <td>...</td>\n      <td>7.4</td>\n      <td>6.1</td>\n      <td>13.4</td>\n      <td>0.193</td>\n      <td>4.1</td>\n      <td>1.5</td>\n      <td>5.6</td>\n      <td>6.4</td>\n      <td>7.0</td>\n      <td>0.017</td>\n    </tr>\n    <tr>\n      <th>206</th>\n      <td>1995</td>\n      <td>Karl Malone</td>\n      <td>PF</td>\n      <td>31</td>\n      <td>UTA</td>\n      <td>82</td>\n      <td>82</td>\n      <td>38.1</td>\n      <td>10.1</td>\n      <td>18.9</td>\n      <td>...</td>\n      <td>8.1</td>\n      <td>5.8</td>\n      <td>13.8</td>\n      <td>0.212</td>\n      <td>4.3</td>\n      <td>1.3</td>\n      <td>5.6</td>\n      <td>6.0</td>\n      <td>3.0</td>\n      <td>0.507</td>\n    </tr>\n    <tr>\n      <th>197</th>\n      <td>1996</td>\n      <td>Karl Malone</td>\n      <td>PF</td>\n      <td>32</td>\n      <td>UTA</td>\n      <td>82</td>\n      <td>82</td>\n      <td>38.0</td>\n      <td>9.6</td>\n      <td>18.5</td>\n      <td>...</td>\n      <td>9.9</td>\n      <td>5.3</td>\n      <td>15.1</td>\n      <td>0.233</td>\n      <td>5.6</td>\n      <td>1.4</td>\n      <td>7.0</td>\n      <td>7.1</td>\n      <td>7.0</td>\n      <td>0.075</td>\n    </tr>\n    <tr>\n      <th>191</th>\n      <td>1997</td>\n      <td>Karl Malone</td>\n      <td>PF</td>\n      <td>33</td>\n      <td>UTA</td>\n      <td>82</td>\n      <td>82</td>\n      <td>36.6</td>\n      <td>10.5</td>\n      <td>19.2</td>\n      <td>...</td>\n      <td>11.6</td>\n      <td>5.1</td>\n      <td>16.7</td>\n      <td>0.268</td>\n      <td>7.1</td>\n      <td>1.2</td>\n      <td>8.3</td>\n      <td>7.8</td>\n      <td>0.0</td>\n      <td>0.000</td>\n    </tr>\n    <tr>\n      <th>215</th>\n      <td>1998</td>\n      <td>Karl Malone</td>\n      <td>PF</td>\n      <td>34</td>\n      <td>UTA</td>\n      <td>81</td>\n      <td>81</td>\n      <td>37.4</td>\n      <td>9.6</td>\n      <td>18.2</td>\n      <td>...</td>\n      <td>12.1</td>\n      <td>4.3</td>\n      <td>16.4</td>\n      <td>0.259</td>\n      <td>6.6</td>\n      <td>0.7</td>\n      <td>7.3</td>\n      <td>7.1</td>\n      <td>2.0</td>\n      <td>0.726</td>\n    </tr>\n    <tr>\n      <th>208</th>\n      <td>1999</td>\n      <td>Karl Malone</td>\n      <td>PF</td>\n      <td>35</td>\n      <td>UTA</td>\n      <td>49</td>\n      <td>49</td>\n      <td>37.4</td>\n      <td>8.0</td>\n      <td>16.3</td>\n      <td>...</td>\n      <td>6.2</td>\n      <td>3.4</td>\n      <td>9.6</td>\n      <td>0.252</td>\n      <td>5.3</td>\n      <td>1.4</td>\n      <td>6.7</td>\n      <td>4.0</td>\n      <td>1.0</td>\n      <td>0.701</td>\n    </tr>\n    <tr>\n      <th>222</th>\n      <td>2000</td>\n      <td>Karl Malone</td>\n      <td>PF</td>\n      <td>36</td>\n      <td>UTA</td>\n      <td>82</td>\n      <td>82</td>\n      <td>35.9</td>\n      <td>9.2</td>\n      <td>18.0</td>\n      <td>...</td>\n      <td>10.7</td>\n      <td>4.5</td>\n      <td>15.3</td>\n      <td>0.249</td>\n      <td>6.4</td>\n      <td>1.1</td>\n      <td>7.5</td>\n      <td>7.1</td>\n      <td>4.0</td>\n      <td>0.258</td>\n    </tr>\n    <tr>\n      <th>210</th>\n      <td>2001</td>\n      <td>Karl Malone</td>\n      <td>PF</td>\n      <td>37</td>\n      <td>UTA</td>\n      <td>81</td>\n      <td>81</td>\n      <td>35.7</td>\n      <td>8.3</td>\n      <td>16.6</td>\n      <td>...</td>\n      <td>9.1</td>\n      <td>4.0</td>\n      <td>13.1</td>\n      <td>0.217</td>\n      <td>5.5</td>\n      <td>1.1</td>\n      <td>6.6</td>\n      <td>6.3</td>\n      <td>7.0</td>\n      <td>0.017</td>\n    </tr>\n    <tr>\n      <th>226</th>\n      <td>2002</td>\n      <td>Karl Malone</td>\n      <td>PF</td>\n      <td>38</td>\n      <td>UTA</td>\n      <td>80</td>\n      <td>80</td>\n      <td>38.0</td>\n      <td>7.9</td>\n      <td>17.5</td>\n      <td>...</td>\n      <td>5.5</td>\n      <td>4.3</td>\n      <td>9.8</td>\n      <td>0.155</td>\n      <td>2.9</td>\n      <td>0.8</td>\n      <td>3.7</td>\n      <td>4.4</td>\n      <td>0.0</td>\n      <td>0.000</td>\n    </tr>\n    <tr>\n      <th>215</th>\n      <td>2003</td>\n      <td>Karl Malone</td>\n      <td>PF</td>\n      <td>39</td>\n      <td>UTA</td>\n      <td>81</td>\n      <td>81</td>\n      <td>36.2</td>\n      <td>7.3</td>\n      <td>15.9</td>\n      <td>...</td>\n      <td>6.9</td>\n      <td>4.3</td>\n      <td>11.1</td>\n      <td>0.182</td>\n      <td>3.2</td>\n      <td>1.0</td>\n      <td>4.2</td>\n      <td>4.6</td>\n      <td>0.0</td>\n      <td>0.000</td>\n    </tr>\n    <tr>\n      <th>217</th>\n      <td>2004</td>\n      <td>Karl Malone</td>\n      <td>PF</td>\n      <td>40</td>\n      <td>LAL</td>\n      <td>42</td>\n      <td>42</td>\n      <td>32.7</td>\n      <td>4.6</td>\n      <td>9.5</td>\n      <td>...</td>\n      <td>2.1</td>\n      <td>2.2</td>\n      <td>4.3</td>\n      <td>0.151</td>\n      <td>1.1</td>\n      <td>1.7</td>\n      <td>2.8</td>\n      <td>1.7</td>\n      <td>0.0</td>\n      <td>0.000</td>\n    </tr>\n  </tbody>\n</table>\n<p>19 rows × 52 columns</p>\n</div>"
     },
     "execution_count": 30,
     "metadata": {},
     "output_type": "execute_result"
    }
   ],
   "source": [
    "df[df.Player == 'Karl Malone']"
   ],
   "metadata": {
    "collapsed": false,
    "pycharm": {
     "name": "#%%\n"
    }
   }
  },
  {
   "cell_type": "code",
   "execution_count": null,
   "outputs": [],
   "source": [],
   "metadata": {
    "collapsed": false,
    "pycharm": {
     "name": "#%%\n"
    }
   }
  }
 ],
 "metadata": {
  "kernelspec": {
   "display_name": "Python 3 (ipykernel)",
   "language": "python",
   "name": "python3"
  },
  "language_info": {
   "codemirror_mode": {
    "name": "ipython",
    "version": 3
   },
   "file_extension": ".py",
   "mimetype": "text/x-python",
   "name": "python",
   "nbconvert_exporter": "python",
   "pygments_lexer": "ipython3",
   "version": "3.9.0"
  }
 },
 "nbformat": 4,
 "nbformat_minor": 1
}