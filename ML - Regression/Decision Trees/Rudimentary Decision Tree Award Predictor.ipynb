{
 "cells": [
  {
   "cell_type": "code",
   "execution_count": 14,
   "id": "efd1e3ad-521f-4c6e-a406-8c605dff677b",
   "metadata": {},
   "outputs": [],
   "source": [
    "\n",
    "import pandas as pd\n",
    "\n",
    "from sklearn.model_selection import cross_val_score\n",
    "from sklearn.tree import DecisionTreeRegressor\n"
   ]
  },
  {
   "cell_type": "code",
   "execution_count": 15,
   "id": "4dae30e3-8e3b-4eb7-871b-43fac6f3269e",
   "metadata": {},
   "outputs": [],
   "source": [
    "df = pd.read_csv('../../Data/Players With Award Data/complete_players_with_award_voting.csv',index_col = 'Unnamed: 0')\n",
    "# year = int(input('What Year?'))\n",
    "award = str(input('Which Award?')).upper()\n",
    "award = 'MVP'"
   ]
  },
  {
   "cell_type": "code",
   "execution_count": 43,
   "id": "b5fb9273-4644-4f09-a662-c3b5fb49b4d4",
   "metadata": {},
   "outputs": [],
   "source": [
    "\n",
    "# df_use = df[[ 'G', 'GS','Year', 'MP', 'FG', 'FGA', 'FG%', '3P',\n",
    "#        '3PA', '3P%', '2P', '2PA', '2P%', 'eFG%', 'FT', 'FTA', 'FT%', 'ORB',\n",
    "#        'DRB', 'TRB', 'AST', 'STL', 'BLK', 'TOV', 'PF', 'PTS',\n",
    "#        'Tm_AGE', 'Tm_W', 'Tm_L', 'Tm_MOV', 'Tm_SOS',\n",
    "#        'Tm_SRS', 'Tm_ORtg', 'Tm_DRtg', 'Tm_NRtg', 'Tm_PACE', 'Tm_FTr',\n",
    "#        'Tm_3PAr', 'Tm_TS%', 'Tm_eFG%', 'Tm_TOV%', 'Tm_ORB%', 'Tm_FT/FGA',\n",
    "#        'Tm_Op_eFG%', 'Tm_Op_TOV%', 'Tm_DRB%', 'Tm_Op_FT/FGA', 'Win%',]]\n",
    "\n",
    "df_use = df[[ 'G', 'GS','Year', 'MP', 'FG', 'FGA', 'FG%', '3P',\n",
    "       '3PA', '3P%', '2P', '2PA', '2P%', 'eFG%', 'FT', 'FTA', 'FT%', 'ORB',\n",
    "       'DRB', 'TRB', 'AST', 'STL', 'BLK', 'TOV', 'PF', 'PTS',\n",
    "       'Tm_AGE', 'Tm_MOV', 'Tm_SOS',\n",
    "       'Tm_SRS', 'Tm_ORtg', 'Tm_DRtg', 'Tm_NRtg', 'Tm_PACE', 'Tm_FTr',\n",
    "       'Tm_3PAr', 'Tm_TS%', 'Tm_eFG%',\n",
    "       'Tm_Op_eFG%', 'Win%',]]\n",
    "\n",
    "\n",
    "for year in range(1980,2018):\n",
    "       X_train = df_use[df_use['Year'] != year].drop('Year',axis=1)\n",
    "       y_train = df[df['Year'] != year].loc[:,f'{award}']\n",
    "       # print(len(X_train) == len(y_train))\n",
    "\n",
    "\n",
    "\n",
    "       X = df_use[df_use['Year'] == year].drop('Year',axis=1)\n",
    "       y = df[df['Year'] == year].loc[:,f'{award}']\n",
    "       # print(len(X) == len(y))\n",
    "\n",
    "       check = df.loc[df['Year'] == year,:].copy()\n",
    "\n",
    "       #--\n",
    "       # Creating the decision Tree Regressor\n",
    "       regressor = DecisionTreeRegressor(random_state=0)\n",
    "\n",
    "       #--\n",
    "       # fit the regressor with X and Y data\n",
    "       regressor.fit(X_train, y_train)\n",
    "\n",
    "       # Generating Predictions\n",
    "       y_pred = regressor.predict(X)\n",
    "       # regressor.get_params(deep=True)\n",
    "\n",
    "\n",
    "       #--\n",
    "       # Adding predictions to a dataframe so we can check them.\n",
    "       check[f'pred_{award}'] = y_pred\n",
    "\n",
    "       #--\n",
    "       # Spitting out the players who ranked highest in the predicted voting (Who the computer thinks should win.)\n",
    "       check.sort_values(f'pred_{award}',ascending=False)[['Player','Age','G','GS','PTS','AST','TRB','STL','BLK',f'{award}',f'{award}_Rank',f'{award}_Share',f'pred_{award}',]].head(10)\n",
    "\n",
    "       #--\n",
    "       # Spitting out the top actual vote getters from that year. contrast that with the above predictions.\n",
    "       df.loc[df['Year'] == year,['Player','Age','G','GS','PTS','AST','TRB','STL','BLK',f'{award}',f'{award}_Rank',f'{award}_Share',]].sort_values(f'{award}_Share',ascending = False).head(10)\n",
    "\n",
    "       num_winners = 0\n",
    "       num_pred = 0\n",
    "       if check.sort_values(f'pred_{award}',ascending=False)[[f'{award}']].head(2).iloc[0][0] or check.sort_values(f'pred_{award}',ascending=False)[[f'{award}']].head(2).iloc[1][0]:\n",
    "\n",
    "              num_winners += 1\n",
    "       num_pred += 1"
   ]
  },
  {
   "cell_type": "code",
   "execution_count": 44,
   "outputs": [
    {
     "data": {
      "text/plain": "0"
     },
     "execution_count": 44,
     "metadata": {},
     "output_type": "execute_result"
    }
   ],
   "source": [
    "num_winners"
   ],
   "metadata": {
    "collapsed": false,
    "pycharm": {
     "name": "#%%\n"
    }
   }
  },
  {
   "cell_type": "code",
   "execution_count": 39,
   "id": "e74c0908-a900-4ac5-9aa4-f787255654ba",
   "metadata": {},
   "outputs": [
    {
     "data": {
      "text/plain": "                   Player  Year    MVP  MVP_Rank\n15224      Andrew Wiggins  2017  False       0.0\n15399        Bradley Beal  2017  False       0.0\n15125       Kawhi Leonard  2017  False       3.0\n15256  Kristaps Porziņģis  2017  False       0.0\n15490        Goran Dragić  2017  False       0.0\n15505         Rudy Gobert  2017  False       0.0\n15148          Kevin Love  2017  False       0.0\n15154          Jeremy Lin  2017  False       0.0\n15511         Paul George  2017  False       0.0\n15227   Russell Westbrook  2017   True       1.0",
      "text/html": "<div>\n<style scoped>\n    .dataframe tbody tr th:only-of-type {\n        vertical-align: middle;\n    }\n\n    .dataframe tbody tr th {\n        vertical-align: top;\n    }\n\n    .dataframe thead th {\n        text-align: right;\n    }\n</style>\n<table border=\"1\" class=\"dataframe\">\n  <thead>\n    <tr style=\"text-align: right;\">\n      <th></th>\n      <th>Player</th>\n      <th>Year</th>\n      <th>MVP</th>\n      <th>MVP_Rank</th>\n    </tr>\n  </thead>\n  <tbody>\n    <tr>\n      <th>15224</th>\n      <td>Andrew Wiggins</td>\n      <td>2017</td>\n      <td>False</td>\n      <td>0.0</td>\n    </tr>\n    <tr>\n      <th>15399</th>\n      <td>Bradley Beal</td>\n      <td>2017</td>\n      <td>False</td>\n      <td>0.0</td>\n    </tr>\n    <tr>\n      <th>15125</th>\n      <td>Kawhi Leonard</td>\n      <td>2017</td>\n      <td>False</td>\n      <td>3.0</td>\n    </tr>\n    <tr>\n      <th>15256</th>\n      <td>Kristaps Porziņģis</td>\n      <td>2017</td>\n      <td>False</td>\n      <td>0.0</td>\n    </tr>\n    <tr>\n      <th>15490</th>\n      <td>Goran Dragić</td>\n      <td>2017</td>\n      <td>False</td>\n      <td>0.0</td>\n    </tr>\n    <tr>\n      <th>15505</th>\n      <td>Rudy Gobert</td>\n      <td>2017</td>\n      <td>False</td>\n      <td>0.0</td>\n    </tr>\n    <tr>\n      <th>15148</th>\n      <td>Kevin Love</td>\n      <td>2017</td>\n      <td>False</td>\n      <td>0.0</td>\n    </tr>\n    <tr>\n      <th>15154</th>\n      <td>Jeremy Lin</td>\n      <td>2017</td>\n      <td>False</td>\n      <td>0.0</td>\n    </tr>\n    <tr>\n      <th>15511</th>\n      <td>Paul George</td>\n      <td>2017</td>\n      <td>False</td>\n      <td>0.0</td>\n    </tr>\n    <tr>\n      <th>15227</th>\n      <td>Russell Westbrook</td>\n      <td>2017</td>\n      <td>True</td>\n      <td>1.0</td>\n    </tr>\n  </tbody>\n</table>\n</div>"
     },
     "execution_count": 39,
     "metadata": {},
     "output_type": "execute_result"
    }
   ],
   "source": [
    "check.sort_values(f'pred_{award}',ascending=False)[['Player','Year',f'{award}',f'{award}_Rank']].head(10)"
   ]
  },
  {
   "cell_type": "code",
   "execution_count": 8,
   "id": "b7927844-09fd-4a89-917d-a195500f7eca",
   "metadata": {},
   "outputs": [
    {
     "data": {
      "text/plain": "                Player   Age     G    GS   PTS   AST   TRB  STL  BLK    MVP  \\\n7357        Jason Kidd  26.0  67.0  67.0  14.3  10.1   7.2  2.0  0.4  False   \n7384     Allen Iverson  24.0  70.0  70.0  28.4   4.7   3.8  2.1  0.1  False   \n7660       Karl Malone  36.0  82.0  82.0  25.5   3.7   9.5  1.0  0.9  False   \n7487      Vince Carter  23.0  82.0  82.0  25.7   3.9   5.8  1.3  1.1  False   \n7710  Shaquille O'Neal  27.0  79.0  79.0  29.7   3.8  13.6  0.5  3.0   True   \n7314        Tim Duncan  23.0  74.0  74.0  23.2   3.2  12.4  0.9  2.2  False   \n7286     Kevin Garnett  23.0  81.0  81.0  22.9   5.0  11.8  1.5  1.6  False   \n7672       Gary Payton  31.0  82.0  82.0  24.2   8.9   6.5  1.9  0.2  False   \n7293      Tim Hardaway  33.0  52.0  52.0  13.4   7.4   2.9  0.9  0.1  False   \n7696   Alonzo Mourning  29.0  79.0  78.0  21.7   1.6   9.5  0.5  3.7  False   \n\n      MVP_Rank  MVP_Share  pred_MVP  \n7357      11.0     0.0207    0.7119  \n7384       7.0     0.1091    0.4870  \n7660       4.0     0.2579    0.3537  \n7487      10.0     0.0421    0.3537  \n7710       1.0     0.9975    0.2861  \n7314       5.0     0.2050    0.2190  \n7286       2.0     0.3372    0.0361  \n7672       6.0     0.1488    0.0346  \n7293       0.0     0.0000    0.0261  \n7696       3.0     0.3033    0.0207  ",
      "text/html": "<div>\n<style scoped>\n    .dataframe tbody tr th:only-of-type {\n        vertical-align: middle;\n    }\n\n    .dataframe tbody tr th {\n        vertical-align: top;\n    }\n\n    .dataframe thead th {\n        text-align: right;\n    }\n</style>\n<table border=\"1\" class=\"dataframe\">\n  <thead>\n    <tr style=\"text-align: right;\">\n      <th></th>\n      <th>Player</th>\n      <th>Age</th>\n      <th>G</th>\n      <th>GS</th>\n      <th>PTS</th>\n      <th>AST</th>\n      <th>TRB</th>\n      <th>STL</th>\n      <th>BLK</th>\n      <th>MVP</th>\n      <th>MVP_Rank</th>\n      <th>MVP_Share</th>\n      <th>pred_MVP</th>\n    </tr>\n  </thead>\n  <tbody>\n    <tr>\n      <th>7357</th>\n      <td>Jason Kidd</td>\n      <td>26.0</td>\n      <td>67.0</td>\n      <td>67.0</td>\n      <td>14.3</td>\n      <td>10.1</td>\n      <td>7.2</td>\n      <td>2.0</td>\n      <td>0.4</td>\n      <td>False</td>\n      <td>11.0</td>\n      <td>0.0207</td>\n      <td>0.7119</td>\n    </tr>\n    <tr>\n      <th>7384</th>\n      <td>Allen Iverson</td>\n      <td>24.0</td>\n      <td>70.0</td>\n      <td>70.0</td>\n      <td>28.4</td>\n      <td>4.7</td>\n      <td>3.8</td>\n      <td>2.1</td>\n      <td>0.1</td>\n      <td>False</td>\n      <td>7.0</td>\n      <td>0.1091</td>\n      <td>0.4870</td>\n    </tr>\n    <tr>\n      <th>7660</th>\n      <td>Karl Malone</td>\n      <td>36.0</td>\n      <td>82.0</td>\n      <td>82.0</td>\n      <td>25.5</td>\n      <td>3.7</td>\n      <td>9.5</td>\n      <td>1.0</td>\n      <td>0.9</td>\n      <td>False</td>\n      <td>4.0</td>\n      <td>0.2579</td>\n      <td>0.3537</td>\n    </tr>\n    <tr>\n      <th>7487</th>\n      <td>Vince Carter</td>\n      <td>23.0</td>\n      <td>82.0</td>\n      <td>82.0</td>\n      <td>25.7</td>\n      <td>3.9</td>\n      <td>5.8</td>\n      <td>1.3</td>\n      <td>1.1</td>\n      <td>False</td>\n      <td>10.0</td>\n      <td>0.0421</td>\n      <td>0.3537</td>\n    </tr>\n    <tr>\n      <th>7710</th>\n      <td>Shaquille O'Neal</td>\n      <td>27.0</td>\n      <td>79.0</td>\n      <td>79.0</td>\n      <td>29.7</td>\n      <td>3.8</td>\n      <td>13.6</td>\n      <td>0.5</td>\n      <td>3.0</td>\n      <td>True</td>\n      <td>1.0</td>\n      <td>0.9975</td>\n      <td>0.2861</td>\n    </tr>\n    <tr>\n      <th>7314</th>\n      <td>Tim Duncan</td>\n      <td>23.0</td>\n      <td>74.0</td>\n      <td>74.0</td>\n      <td>23.2</td>\n      <td>3.2</td>\n      <td>12.4</td>\n      <td>0.9</td>\n      <td>2.2</td>\n      <td>False</td>\n      <td>5.0</td>\n      <td>0.2050</td>\n      <td>0.2190</td>\n    </tr>\n    <tr>\n      <th>7286</th>\n      <td>Kevin Garnett</td>\n      <td>23.0</td>\n      <td>81.0</td>\n      <td>81.0</td>\n      <td>22.9</td>\n      <td>5.0</td>\n      <td>11.8</td>\n      <td>1.5</td>\n      <td>1.6</td>\n      <td>False</td>\n      <td>2.0</td>\n      <td>0.3372</td>\n      <td>0.0361</td>\n    </tr>\n    <tr>\n      <th>7672</th>\n      <td>Gary Payton</td>\n      <td>31.0</td>\n      <td>82.0</td>\n      <td>82.0</td>\n      <td>24.2</td>\n      <td>8.9</td>\n      <td>6.5</td>\n      <td>1.9</td>\n      <td>0.2</td>\n      <td>False</td>\n      <td>6.0</td>\n      <td>0.1488</td>\n      <td>0.0346</td>\n    </tr>\n    <tr>\n      <th>7293</th>\n      <td>Tim Hardaway</td>\n      <td>33.0</td>\n      <td>52.0</td>\n      <td>52.0</td>\n      <td>13.4</td>\n      <td>7.4</td>\n      <td>2.9</td>\n      <td>0.9</td>\n      <td>0.1</td>\n      <td>False</td>\n      <td>0.0</td>\n      <td>0.0000</td>\n      <td>0.0261</td>\n    </tr>\n    <tr>\n      <th>7696</th>\n      <td>Alonzo Mourning</td>\n      <td>29.0</td>\n      <td>79.0</td>\n      <td>78.0</td>\n      <td>21.7</td>\n      <td>1.6</td>\n      <td>9.5</td>\n      <td>0.5</td>\n      <td>3.7</td>\n      <td>False</td>\n      <td>3.0</td>\n      <td>0.3033</td>\n      <td>0.0207</td>\n    </tr>\n  </tbody>\n</table>\n</div>"
     },
     "execution_count": 8,
     "metadata": {},
     "output_type": "execute_result"
    }
   ],
   "source": []
  },
  {
   "cell_type": "code",
   "execution_count": 9,
   "id": "7fc216ae-3b11-46fb-bd25-3dfb62f21d0a",
   "metadata": {},
   "outputs": [
    {
     "data": {
      "text/plain": "                Player   Age     G    GS   PTS  AST   TRB  STL  BLK    MVP  \\\n7710  Shaquille O'Neal  27.0  79.0  79.0  29.7  3.8  13.6  0.5  3.0   True   \n7286     Kevin Garnett  23.0  81.0  81.0  22.9  5.0  11.8  1.5  1.6  False   \n7696   Alonzo Mourning  29.0  79.0  78.0  21.7  1.6   9.5  0.5  3.7  False   \n7660       Karl Malone  36.0  82.0  82.0  25.5  3.7   9.5  1.0  0.9  False   \n7314        Tim Duncan  23.0  74.0  74.0  23.2  3.2  12.4  0.9  2.2  False   \n7672       Gary Payton  31.0  82.0  82.0  24.2  8.9   6.5  1.9  0.2  False   \n7384     Allen Iverson  24.0  70.0  70.0  28.4  4.7   3.8  2.1  0.1  False   \n7372        Grant Hill  27.0  74.0  74.0  25.8  5.2   6.6  1.4  0.6  False   \n7582      Chris Webber  26.0  75.0  75.0  24.5  4.6  10.5  1.6  1.7  False   \n7487      Vince Carter  23.0  82.0  82.0  25.7  3.9   5.8  1.3  1.1  False   \n\n      MVP_Rank  MVP_Share  \n7710       1.0     0.9975  \n7286       2.0     0.3372  \n7696       3.0     0.3033  \n7660       4.0     0.2579  \n7314       5.0     0.2050  \n7672       6.0     0.1488  \n7384       7.0     0.1091  \n7372       8.0     0.0934  \n7582       9.0     0.0793  \n7487      10.0     0.0421  ",
      "text/html": "<div>\n<style scoped>\n    .dataframe tbody tr th:only-of-type {\n        vertical-align: middle;\n    }\n\n    .dataframe tbody tr th {\n        vertical-align: top;\n    }\n\n    .dataframe thead th {\n        text-align: right;\n    }\n</style>\n<table border=\"1\" class=\"dataframe\">\n  <thead>\n    <tr style=\"text-align: right;\">\n      <th></th>\n      <th>Player</th>\n      <th>Age</th>\n      <th>G</th>\n      <th>GS</th>\n      <th>PTS</th>\n      <th>AST</th>\n      <th>TRB</th>\n      <th>STL</th>\n      <th>BLK</th>\n      <th>MVP</th>\n      <th>MVP_Rank</th>\n      <th>MVP_Share</th>\n    </tr>\n  </thead>\n  <tbody>\n    <tr>\n      <th>7710</th>\n      <td>Shaquille O'Neal</td>\n      <td>27.0</td>\n      <td>79.0</td>\n      <td>79.0</td>\n      <td>29.7</td>\n      <td>3.8</td>\n      <td>13.6</td>\n      <td>0.5</td>\n      <td>3.0</td>\n      <td>True</td>\n      <td>1.0</td>\n      <td>0.9975</td>\n    </tr>\n    <tr>\n      <th>7286</th>\n      <td>Kevin Garnett</td>\n      <td>23.0</td>\n      <td>81.0</td>\n      <td>81.0</td>\n      <td>22.9</td>\n      <td>5.0</td>\n      <td>11.8</td>\n      <td>1.5</td>\n      <td>1.6</td>\n      <td>False</td>\n      <td>2.0</td>\n      <td>0.3372</td>\n    </tr>\n    <tr>\n      <th>7696</th>\n      <td>Alonzo Mourning</td>\n      <td>29.0</td>\n      <td>79.0</td>\n      <td>78.0</td>\n      <td>21.7</td>\n      <td>1.6</td>\n      <td>9.5</td>\n      <td>0.5</td>\n      <td>3.7</td>\n      <td>False</td>\n      <td>3.0</td>\n      <td>0.3033</td>\n    </tr>\n    <tr>\n      <th>7660</th>\n      <td>Karl Malone</td>\n      <td>36.0</td>\n      <td>82.0</td>\n      <td>82.0</td>\n      <td>25.5</td>\n      <td>3.7</td>\n      <td>9.5</td>\n      <td>1.0</td>\n      <td>0.9</td>\n      <td>False</td>\n      <td>4.0</td>\n      <td>0.2579</td>\n    </tr>\n    <tr>\n      <th>7314</th>\n      <td>Tim Duncan</td>\n      <td>23.0</td>\n      <td>74.0</td>\n      <td>74.0</td>\n      <td>23.2</td>\n      <td>3.2</td>\n      <td>12.4</td>\n      <td>0.9</td>\n      <td>2.2</td>\n      <td>False</td>\n      <td>5.0</td>\n      <td>0.2050</td>\n    </tr>\n    <tr>\n      <th>7672</th>\n      <td>Gary Payton</td>\n      <td>31.0</td>\n      <td>82.0</td>\n      <td>82.0</td>\n      <td>24.2</td>\n      <td>8.9</td>\n      <td>6.5</td>\n      <td>1.9</td>\n      <td>0.2</td>\n      <td>False</td>\n      <td>6.0</td>\n      <td>0.1488</td>\n    </tr>\n    <tr>\n      <th>7384</th>\n      <td>Allen Iverson</td>\n      <td>24.0</td>\n      <td>70.0</td>\n      <td>70.0</td>\n      <td>28.4</td>\n      <td>4.7</td>\n      <td>3.8</td>\n      <td>2.1</td>\n      <td>0.1</td>\n      <td>False</td>\n      <td>7.0</td>\n      <td>0.1091</td>\n    </tr>\n    <tr>\n      <th>7372</th>\n      <td>Grant Hill</td>\n      <td>27.0</td>\n      <td>74.0</td>\n      <td>74.0</td>\n      <td>25.8</td>\n      <td>5.2</td>\n      <td>6.6</td>\n      <td>1.4</td>\n      <td>0.6</td>\n      <td>False</td>\n      <td>8.0</td>\n      <td>0.0934</td>\n    </tr>\n    <tr>\n      <th>7582</th>\n      <td>Chris Webber</td>\n      <td>26.0</td>\n      <td>75.0</td>\n      <td>75.0</td>\n      <td>24.5</td>\n      <td>4.6</td>\n      <td>10.5</td>\n      <td>1.6</td>\n      <td>1.7</td>\n      <td>False</td>\n      <td>9.0</td>\n      <td>0.0793</td>\n    </tr>\n    <tr>\n      <th>7487</th>\n      <td>Vince Carter</td>\n      <td>23.0</td>\n      <td>82.0</td>\n      <td>82.0</td>\n      <td>25.7</td>\n      <td>3.9</td>\n      <td>5.8</td>\n      <td>1.3</td>\n      <td>1.1</td>\n      <td>False</td>\n      <td>10.0</td>\n      <td>0.0421</td>\n    </tr>\n  </tbody>\n</table>\n</div>"
     },
     "execution_count": 9,
     "metadata": {},
     "output_type": "execute_result"
    }
   ],
   "source": []
  },
  {
   "cell_type": "code",
   "execution_count": null,
   "outputs": [],
   "source": [],
   "metadata": {
    "collapsed": false,
    "pycharm": {
     "name": "#%%\n"
    }
   }
  }
 ],
 "metadata": {
  "kernelspec": {
   "display_name": "Python 3 (ipykernel)",
   "language": "python",
   "name": "python3"
  },
  "language_info": {
   "codemirror_mode": {
    "name": "ipython",
    "version": 3
   },
   "file_extension": ".py",
   "mimetype": "text/x-python",
   "name": "python",
   "nbconvert_exporter": "python",
   "pygments_lexer": "ipython3",
   "version": "3.8.5"
  }
 },
 "nbformat": 4,
 "nbformat_minor": 5
}