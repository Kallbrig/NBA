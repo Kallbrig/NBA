{
 "cells": [
  {
   "cell_type": "code",
   "execution_count": 207,
   "metadata": {
    "collapsed": true
   },
   "outputs": [],
   "source": [
    "import pandas as pd\n",
    "from matplotlib import pyplot as plt\n",
    "from sklearn.pipeline import Pipeline\n",
    "from sklearn.model_selection import train_test_split\n",
    "import numpy as np\n",
    "\n",
    "from sklearn.pipeline import Pipeline\n",
    "from sklearn.preprocessing import StandardScaler\n",
    "from sklearn.linear_model import LogisticRegression\n",
    "from sklearn.linear_model import LinearRegression\n",
    "\n",
    "\n",
    "%matplotlib inline"
   ]
  },
  {
   "cell_type": "code",
   "execution_count": 208,
   "outputs": [],
   "source": [
    "df = pd.read_csv('../Data/Players With Award Data/complete_players_with_award_voting.csv',index_col=0)\n",
    "\n",
    "df = df.drop(columns=['STAR','DPOY_Rank', 'DPOY_First', 'DPOY_Pts Won', 'DPOY_Pts Max', 'DPOY_Share',\n",
    "       'DPOY', 'MIP_Rank', 'MIP_First', 'MIP_Pts Won', 'MIP_Pts Max',\n",
    "       'MIP_Share', 'MIP', 'MVP_First', 'MVP_Pts Won',\n",
    "       'MVP_Pts Max', 'ROTY_Rank', 'ROTY_First',\n",
    "       'ROTY_Pts Won', 'ROTY_Pts Max', 'ROTY_Share', 'ROTY', 'SMOTY_Rank',\n",
    "       'SMOTY_First', 'SMOTY_Pts Won', 'SMOTY_Pts Max', 'SMOTY_Share',\n",
    "       'SMOTY'])"
   ],
   "metadata": {
    "collapsed": false,
    "pycharm": {
     "name": "#%%\n"
    }
   }
  },
  {
   "cell_type": "code",
   "execution_count": 209,
   "outputs": [
    {
     "data": {
      "text/plain": "Index(['Player', 'Pos', 'Age', 'Tm', 'G', 'GS', 'MP', 'FG', 'FGA', 'FG%', '3P',\n       '3PA', '3P%', '2P', '2PA', '2P%', 'eFG%', 'FT', 'FTA', 'FT%', 'ORB',\n       'DRB', 'TRB', 'AST', 'STL', 'BLK', 'TOV', 'PF', 'PTS', 'Year', 'Tm_AGE',\n       'Tm_W', 'Tm_L', 'Tm_PW', 'Tm_PL', 'Tm_MOV', 'Tm_SOS', 'Tm_SRS',\n       'Tm_ORtg', 'Tm_DRtg', 'Tm_NRtg', 'Tm_PACE', 'Tm_FTr', 'Tm_3PAr',\n       'Tm_TS%', 'Tm_eFG%', 'Tm_TOV%', 'Tm_ORB%', 'Tm_FT/FGA', 'Tm_Op_eFG%',\n       'Tm_Op_TOV%', 'Tm_DRB%', 'Tm_Op_FT/FGA', 'Win%', 'MVP_Rank',\n       'MVP_Share', 'MVP'],\n      dtype='object')"
     },
     "execution_count": 209,
     "metadata": {},
     "output_type": "execute_result"
    }
   ],
   "source": [
    "yr = int(input('Year = '))\n",
    "# train_set, test_set = train_test_split(df, test_size=0.2, random_state=0)\n",
    "test_set = df[(df['Year'] == yr)]\n",
    "train_set = df.drop(test_set.index)\n",
    "\n",
    "x_train = train_set.drop(columns=['MVP','MVP_Share','MVP_Rank'])\n",
    "y_train = train_set[['MVP_Share']]\n",
    "x_test = test_set.drop(columns=['MVP','MVP_Share','MVP_Rank'])\n",
    "y_test = test_set['MVP_Share']\n",
    "y_test_w_name = test_set[['Player','Year','Tm','MVP_Share','MVP','MVP_Rank']]\n",
    "\n",
    "\n",
    "train_set.columns"
   ],
   "metadata": {
    "collapsed": false,
    "pycharm": {
     "name": "#%%\n"
    }
   }
  },
  {
   "cell_type": "code",
   "execution_count": 210,
   "outputs": [],
   "source": [
    "cm = train_set.corr().MVP_Share.apply(np.absolute).sort_values(ascending=False)"
   ],
   "metadata": {
    "collapsed": false,
    "pycharm": {
     "name": "#%%\n"
    }
   }
  },
  {
   "cell_type": "code",
   "execution_count": 211,
   "outputs": [
    {
     "data": {
      "text/plain": "['MVP_Share',\n 'MVP',\n 'FTA',\n 'FT',\n 'PTS',\n 'FG',\n '2P',\n 'FGA',\n '2PA',\n 'TOV',\n 'DRB',\n 'AST',\n 'TRB',\n 'STL',\n 'GS',\n 'MP',\n 'BLK',\n 'MVP_Rank']"
     },
     "execution_count": 211,
     "metadata": {},
     "output_type": "execute_result"
    }
   ],
   "source": [
    "list(cm[cm > .1].to_dict().keys())"
   ],
   "metadata": {
    "collapsed": false,
    "pycharm": {
     "name": "#%%\n"
    }
   }
  },
  {
   "cell_type": "code",
   "execution_count": 212,
   "outputs": [],
   "source": [
    "feature_list = ['MP', 'PTS', 'FG', 'FGA', 'TOV', 'AST', 'STL', 'TRB', 'BLK']\n",
    "\n",
    "x_train = x_train[feature_list]\n",
    "x_test = x_test[feature_list]"
   ],
   "metadata": {
    "collapsed": false,
    "pycharm": {
     "name": "#%%\n"
    }
   }
  },
  {
   "cell_type": "code",
   "execution_count": 213,
   "outputs": [],
   "source": [
    "num_pipeline = Pipeline([\n",
    "        ('std_scaler', StandardScaler()),\n",
    "        ('linear_reg',LinearRegression())\n",
    "    ])\n",
    "ppln_fitted = num_pipeline.fit(x_train,y_train)"
   ],
   "metadata": {
    "collapsed": false,
    "pycharm": {
     "name": "#%%\n"
    }
   }
  },
  {
   "cell_type": "code",
   "execution_count": 214,
   "outputs": [
    {
     "name": "stderr",
     "output_type": "stream",
     "text": [
      "/var/folders/0p/ttyhqytj0zxf3tq1njp37rqw0000gn/T/ipykernel_1024/1015442088.py:3: SettingWithCopyWarning: \n",
      "A value is trying to be set on a copy of a slice from a DataFrame.\n",
      "Try using .loc[row_indexer,col_indexer] = value instead\n",
      "\n",
      "See the caveats in the documentation: https://pandas.pydata.org/pandas-docs/stable/user_guide/indexing.html#returning-a-view-versus-a-copy\n",
      "  y_test_w_name['pred'] = y_pred\n",
      "/var/folders/0p/ttyhqytj0zxf3tq1njp37rqw0000gn/T/ipykernel_1024/1015442088.py:4: SettingWithCopyWarning: \n",
      "A value is trying to be set on a copy of a slice from a DataFrame.\n",
      "Try using .loc[row_indexer,col_indexer] = value instead\n",
      "\n",
      "See the caveats in the documentation: https://pandas.pydata.org/pandas-docs/stable/user_guide/indexing.html#returning-a-view-versus-a-copy\n",
      "  y_test_w_name['pred_rank'] = y_test_w_name.pred.rank(ascending=False).astype(\"int\")\n"
     ]
    }
   ],
   "source": [
    "y_pred = ppln_fitted.predict(x_test)\n",
    "\n",
    "y_test_w_name['pred'] = y_pred\n",
    "y_test_w_name['pred_rank'] = y_test_w_name.pred.rank(ascending=False).astype(\"int\")"
   ],
   "metadata": {
    "collapsed": false,
    "pycharm": {
     "name": "#%%\n"
    }
   }
  },
  {
   "cell_type": "code",
   "execution_count": 215,
   "outputs": [
    {
     "data": {
      "text/plain": "                 Player  Year   Tm  MVP_Share    MVP  MVP_Rank      pred  \\\n12117      LeBron James  2010  CLE     0.9797   True       1.0  0.163018   \n11839      Kevin Durant  2010  OKC     0.4951  False       2.0  0.112980   \n11809       Dwyane Wade  2010  MIA     0.0967  False       5.0  0.112702   \n11995        Chris Bosh  2010  TOR     0.0008  False      12.0  0.087546   \n12082        Chris Paul  2010  NOH     0.0000  False       0.0  0.085788   \n12142     Dwight Howard  2010  ORL     0.3886  False       4.0  0.085140   \n12023     Dirk Nowitzki  2010  DAL     0.0447  False       7.0  0.083761   \n11954   Carmelo Anthony  2010  DEN     0.0528  False       6.0  0.076400   \n11804    Deron Williams  2010  UTA     0.0057  False       9.0  0.074852   \n11963  Chauncey Billups  2010  DEN     0.0008  False      12.0  0.070365   \n\n       pred_rank  \n12117          1  \n11839          2  \n11809          3  \n11995          4  \n12082          5  \n12142          6  \n12023          7  \n11954          8  \n11804          9  \n11963         10  ",
      "text/html": "<div>\n<style scoped>\n    .dataframe tbody tr th:only-of-type {\n        vertical-align: middle;\n    }\n\n    .dataframe tbody tr th {\n        vertical-align: top;\n    }\n\n    .dataframe thead th {\n        text-align: right;\n    }\n</style>\n<table border=\"1\" class=\"dataframe\">\n  <thead>\n    <tr style=\"text-align: right;\">\n      <th></th>\n      <th>Player</th>\n      <th>Year</th>\n      <th>Tm</th>\n      <th>MVP_Share</th>\n      <th>MVP</th>\n      <th>MVP_Rank</th>\n      <th>pred</th>\n      <th>pred_rank</th>\n    </tr>\n  </thead>\n  <tbody>\n    <tr>\n      <th>12117</th>\n      <td>LeBron James</td>\n      <td>2010</td>\n      <td>CLE</td>\n      <td>0.9797</td>\n      <td>True</td>\n      <td>1.0</td>\n      <td>0.163018</td>\n      <td>1</td>\n    </tr>\n    <tr>\n      <th>11839</th>\n      <td>Kevin Durant</td>\n      <td>2010</td>\n      <td>OKC</td>\n      <td>0.4951</td>\n      <td>False</td>\n      <td>2.0</td>\n      <td>0.112980</td>\n      <td>2</td>\n    </tr>\n    <tr>\n      <th>11809</th>\n      <td>Dwyane Wade</td>\n      <td>2010</td>\n      <td>MIA</td>\n      <td>0.0967</td>\n      <td>False</td>\n      <td>5.0</td>\n      <td>0.112702</td>\n      <td>3</td>\n    </tr>\n    <tr>\n      <th>11995</th>\n      <td>Chris Bosh</td>\n      <td>2010</td>\n      <td>TOR</td>\n      <td>0.0008</td>\n      <td>False</td>\n      <td>12.0</td>\n      <td>0.087546</td>\n      <td>4</td>\n    </tr>\n    <tr>\n      <th>12082</th>\n      <td>Chris Paul</td>\n      <td>2010</td>\n      <td>NOH</td>\n      <td>0.0000</td>\n      <td>False</td>\n      <td>0.0</td>\n      <td>0.085788</td>\n      <td>5</td>\n    </tr>\n    <tr>\n      <th>12142</th>\n      <td>Dwight Howard</td>\n      <td>2010</td>\n      <td>ORL</td>\n      <td>0.3886</td>\n      <td>False</td>\n      <td>4.0</td>\n      <td>0.085140</td>\n      <td>6</td>\n    </tr>\n    <tr>\n      <th>12023</th>\n      <td>Dirk Nowitzki</td>\n      <td>2010</td>\n      <td>DAL</td>\n      <td>0.0447</td>\n      <td>False</td>\n      <td>7.0</td>\n      <td>0.083761</td>\n      <td>7</td>\n    </tr>\n    <tr>\n      <th>11954</th>\n      <td>Carmelo Anthony</td>\n      <td>2010</td>\n      <td>DEN</td>\n      <td>0.0528</td>\n      <td>False</td>\n      <td>6.0</td>\n      <td>0.076400</td>\n      <td>8</td>\n    </tr>\n    <tr>\n      <th>11804</th>\n      <td>Deron Williams</td>\n      <td>2010</td>\n      <td>UTA</td>\n      <td>0.0057</td>\n      <td>False</td>\n      <td>9.0</td>\n      <td>0.074852</td>\n      <td>9</td>\n    </tr>\n    <tr>\n      <th>11963</th>\n      <td>Chauncey Billups</td>\n      <td>2010</td>\n      <td>DEN</td>\n      <td>0.0008</td>\n      <td>False</td>\n      <td>12.0</td>\n      <td>0.070365</td>\n      <td>10</td>\n    </tr>\n  </tbody>\n</table>\n</div>"
     },
     "execution_count": 215,
     "metadata": {},
     "output_type": "execute_result"
    }
   ],
   "source": [
    "y_test_w_name.sort_values('pred_rank',ascending=True).head(10)"
   ],
   "metadata": {
    "collapsed": false,
    "pycharm": {
     "name": "#%%\n"
    }
   }
  },
  {
   "cell_type": "code",
   "execution_count": 206,
   "outputs": [
    {
     "data": {
      "text/plain": "2018"
     },
     "execution_count": 206,
     "metadata": {},
     "output_type": "execute_result"
    }
   ],
   "source": [
    "df.Year.max()"
   ],
   "metadata": {
    "collapsed": false,
    "pycharm": {
     "name": "#%%\n"
    }
   }
  },
  {
   "cell_type": "code",
   "execution_count": null,
   "outputs": [],
   "source": [],
   "metadata": {
    "collapsed": false,
    "pycharm": {
     "name": "#%%\n"
    }
   }
  }
 ],
 "metadata": {
  "kernelspec": {
   "display_name": "Python 3",
   "language": "python",
   "name": "python3"
  },
  "language_info": {
   "codemirror_mode": {
    "name": "ipython",
    "version": 2
   },
   "file_extension": ".py",
   "mimetype": "text/x-python",
   "name": "python",
   "nbconvert_exporter": "python",
   "pygments_lexer": "ipython2",
   "version": "2.7.6"
  }
 },
 "nbformat": 4,
 "nbformat_minor": 0
}