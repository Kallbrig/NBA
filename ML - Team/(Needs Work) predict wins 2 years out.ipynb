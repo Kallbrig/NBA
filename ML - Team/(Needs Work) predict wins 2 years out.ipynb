{
 "cells": [
  {
   "cell_type": "code",
   "execution_count": 1,
   "metadata": {},
   "outputs": [],
   "source": [
    "from matplotlib import pyplot as plt\n",
    "import pandas as pd\n",
    "import sklearn\n",
    "from sklearn.linear_model import LinearRegression\n",
    "from sklearn.model_selection import train_test_split\n",
    "import numpy as np\n",
    "from sklearn import tree\n",
    "from sklearn.ensemble import RandomForestRegressor\n",
    "\n",
    "\n",
    "from sklearn.metrics import mean_absolute_error,r2_score,mean_squared_error\n",
    "\n",
    "\n",
    "from sklearn.preprocessing import StandardScaler\n",
    "from sklearn.decomposition import PCA\n",
    "\n",
    "pd.set_option('display.max_rows', None)"
   ]
  },
  {
   "cell_type": "code",
   "execution_count": 2,
   "outputs": [],
   "source": [
    "\n",
    "def run_experiment(model):\n",
    "    model.fit(X_train, y_train)\n",
    "    y_pred = model.predict(X_test)\n",
    "    print(\"R^2 : \", r2_score(y_test, y_pred))\n",
    "    print(\"MAE :\", mean_absolute_error(y_test,y_pred))\n",
    "    print(\"RMSE:\",np.sqrt(mean_squared_error(y_test, y_pred)))"
   ],
   "metadata": {
    "collapsed": false,
    "pycharm": {
     "name": "#%%\n"
    }
   }
  },
  {
   "cell_type": "code",
   "execution_count": 3,
   "metadata": {},
   "outputs": [
    {
     "data": {
      "text/plain": "array([1980, 1981, 1982, 1983, 1984, 1985, 1986, 1987, 1988, 1989, 1990,\n       1991, 1992, 1993, 1994, 1995, 1996, 1997, 1998, 1999, 2000, 2001,\n       2002, 2003, 2004, 2005, 2006, 2007, 2008, 2009, 2010, 2011, 2012,\n       2013, 2014, 2015, 2016, 2017, 2018, 2019, 2020, 2021, 2022, 2023])"
     },
     "execution_count": 3,
     "metadata": {},
     "output_type": "execute_result"
    }
   ],
   "source": [
    "df = pd.read_csv('../Data/Team Data/Combined/league_stats.csv',index_col=0)\n",
    "\n",
    "df.columns = [i.strip() for i in df.columns]\n",
    "\n",
    "df.Year = df.Year.astype(int)\n",
    "\n",
    "df.Year.unique()\n"
   ]
  },
  {
   "cell_type": "code",
   "execution_count": 4,
   "outputs": [],
   "source": [
    "df.columns = [i.strip() for i in df.columns]\n",
    "df.Team = df.Team.str.strip()\n",
    "df = df.drop(df[df['Team'].str.contains('League')].index)\n",
    "\n",
    "df.Team = df.Team.str.strip('*')\n",
    "\n",
    "df = df.fillna(0)\n",
    "\n",
    "\n",
    "df = df.reset_index(drop=True)\n",
    "\n",
    "\n",
    "df['Win%'] = df['W'].astype(float) / (df['W'].astype(float) + df['L'].astype(float))"
   ],
   "metadata": {
    "collapsed": false,
    "pycharm": {
     "name": "#%%\n"
    }
   }
  },
  {
   "cell_type": "code",
   "execution_count": 5,
   "metadata": {},
   "outputs": [],
   "source": [
    "\n",
    "feature_list = ['FG%','3P%','2P%', 'FT%','TRB', 'AST', 'STL', 'BLK',\n",
    "       'TOV', 'PF', 'PTS', 'Age', 'ORtg',\n",
    "       'DRtg',  'Pace', 'FTr', '3PAr', 'TS%','Win%']\n"
   ]
  },
  {
   "cell_type": "code",
   "execution_count": 6,
   "outputs": [],
   "source": [
    "for i in df.Team.unique():\n",
    "    df.loc[df['Team'] == i,'W_next'] = df.loc[df['Team'] == i,'Win%'].shift(-2)\n",
    "    df.loc[df['Team'] == i,'num_W_next'] = df.loc[df['Team'] == i,'W'].shift(-2)"
   ],
   "metadata": {
    "collapsed": false,
    "pycharm": {
     "name": "#%%\n"
    }
   }
  },
  {
   "cell_type": "code",
   "execution_count": 7,
   "outputs": [],
   "source": [
    "df = df.drop(df[df['W_next'].isna()].index)"
   ],
   "metadata": {
    "collapsed": false,
    "pycharm": {
     "name": "#%%\n"
    }
   }
  },
  {
   "cell_type": "code",
   "execution_count": 8,
   "metadata": {},
   "outputs": [],
   "source": [
    "X = df[feature_list]\n",
    "y = df['W_next']"
   ]
  },
  {
   "cell_type": "code",
   "execution_count": 9,
   "metadata": {},
   "outputs": [],
   "source": [
    "X_train, X_test, y_train, y_test = train_test_split(X, y, test_size=0.15, random_state=42)\n",
    "# df.iloc[y_test.index].Year.unique()"
   ]
  },
  {
   "cell_type": "code",
   "execution_count": 47,
   "outputs": [],
   "source": [
    "overwrite_test_set = True\n",
    "year = 2021\n",
    "\n",
    "if overwrite_test_set:\n",
    "    X_train = df.loc[df['Year'] != year, feature_list]\n",
    "    X_test = df.drop(X_train.index)[feature_list]\n",
    "\n",
    "    y_train = df.loc[df['Year'] != year, 'W_next']\n",
    "    y_test = df.drop(y_train.index)['W_next']"
   ],
   "metadata": {
    "collapsed": false,
    "pycharm": {
     "name": "#%%\n"
    }
   }
  },
  {
   "cell_type": "code",
   "execution_count": 48,
   "metadata": {},
   "outputs": [
    {
     "name": "stdout",
     "output_type": "stream",
     "text": [
      "linear reg\n",
      "R^2 :  0.09378362967192322\n",
      "MAE : 0.06430510908917536\n",
      "RMSE: 0.08740988109943272\n",
      "DecisionTree\n",
      "R^2 :  -4.539821369725709\n",
      "MAE : 0.17682926829268295\n",
      "RMSE: 0.21611875572710237\n",
      "Random Forest\n",
      "R^2 :  -0.010508619733433644\n",
      "MAE : 0.07443599329376177\n",
      "RMSE: 0.09230273912330338\n"
     ]
    }
   ],
   "source": [
    "# reg = LinearRegression().fit(X_train, y_train)\n",
    "# dec_tree = tree.DecisionTreeClassifier().fit(X_train, y_train)\n",
    "print('linear reg')\n",
    "run_experiment(LinearRegression())\n",
    "print('DecisionTree')\n",
    "run_experiment(tree.DecisionTreeRegressor())\n",
    "print('Random Forest')\n",
    "run_experiment(RandomForestRegressor())"
   ]
  },
  {
   "cell_type": "code",
   "execution_count": 49,
   "outputs": [],
   "source": [
    "reg = RandomForestRegressor().fit(X_train,y_train)"
   ],
   "metadata": {
    "collapsed": false,
    "pycharm": {
     "name": "#%%\n"
    }
   }
  },
  {
   "cell_type": "code",
   "execution_count": 50,
   "metadata": {
    "pycharm": {
     "name": "#%%\n"
    }
   },
   "outputs": [],
   "source": [
    "y_pred = reg.predict(X_test)\n"
   ]
  },
  {
   "cell_type": "code",
   "execution_count": 51,
   "outputs": [],
   "source": [
    "res = df.loc[X_test.index,['Team','Year','G','W','W_next','num_W_next']]\n",
    "res['Predicted'] = y_pred"
   ],
   "metadata": {
    "collapsed": false,
    "pycharm": {
     "name": "#%%\n"
    }
   }
  },
  {
   "cell_type": "code",
   "execution_count": 52,
   "outputs": [],
   "source": [
    "res['pred_W'] = res.Predicted * res.G\n",
    "res.pred_W = res.pred_W.astype(int)\n",
    "# res.num_W_next = res.num_W_next.astype(float).astype(int)\n",
    "# res.Year = res.Year.astype(float).astype(int)"
   ],
   "metadata": {
    "collapsed": false,
    "pycharm": {
     "name": "#%%\n"
    }
   }
  },
  {
   "cell_type": "code",
   "execution_count": 53,
   "outputs": [],
   "source": [
    "res.num_W_next = res.num_W_next.astype(float).astype(int)"
   ],
   "metadata": {
    "collapsed": false,
    "pycharm": {
     "name": "#%%\n"
    }
   }
  },
  {
   "cell_type": "code",
   "execution_count": 53,
   "outputs": [],
   "source": [],
   "metadata": {
    "collapsed": false,
    "pycharm": {
     "name": "#%%\n"
    }
   }
  },
  {
   "cell_type": "code",
   "execution_count": 54,
   "outputs": [],
   "source": [
    "res['Predicted_W_Differential'] = res.num_W_next - res.pred_W"
   ],
   "metadata": {
    "collapsed": false,
    "pycharm": {
     "name": "#%%\n"
    }
   }
  },
  {
   "cell_type": "code",
   "execution_count": 55,
   "outputs": [
    {
     "data": {
      "text/plain": "                        Team  Year  pred_W  Actual  Differential\n992       Philadelphia 76ers  2021      43      47             4\n1005          Boston Celtics  2021      41      50             9\n990                Utah Jazz  2021      39      32            -7\n991             Phoenix Suns  2021      39      39             0\n1012  Minnesota Timberwolves  2021      39      36            -3\n1001           Atlanta Hawks  2021      39      36            -3\n994           Denver Nuggets  2021      39      46             7\n993            Brooklyn Nets  2021      39      39             0\n1003   Golden State Warriors  2021      38      38             0\n1004       Memphis Grizzlies  2021      38      44             6\n999         Dallas Mavericks  2021      37      33            -4\n1009       Charlotte Hornets  2021      37      23           -14\n1011           Chicago Bulls  2021      37      35            -2\n996          Milwaukee Bucks  2021      36      50            14\n1000         New York Knicks  2021      36      41             5\n1002              Miami Heat  2021      36      38             2\n1013     Cleveland Cavaliers  2021      36      44             8\n995     Los Angeles Clippers  2021      35      38             3",
      "text/html": "<div>\n<style scoped>\n    .dataframe tbody tr th:only-of-type {\n        vertical-align: middle;\n    }\n\n    .dataframe tbody tr th {\n        vertical-align: top;\n    }\n\n    .dataframe thead th {\n        text-align: right;\n    }\n</style>\n<table border=\"1\" class=\"dataframe\">\n  <thead>\n    <tr style=\"text-align: right;\">\n      <th></th>\n      <th>Team</th>\n      <th>Year</th>\n      <th>pred_W</th>\n      <th>Actual</th>\n      <th>Differential</th>\n    </tr>\n  </thead>\n  <tbody>\n    <tr>\n      <th>992</th>\n      <td>Philadelphia 76ers</td>\n      <td>2021</td>\n      <td>43</td>\n      <td>47</td>\n      <td>4</td>\n    </tr>\n    <tr>\n      <th>1005</th>\n      <td>Boston Celtics</td>\n      <td>2021</td>\n      <td>41</td>\n      <td>50</td>\n      <td>9</td>\n    </tr>\n    <tr>\n      <th>990</th>\n      <td>Utah Jazz</td>\n      <td>2021</td>\n      <td>39</td>\n      <td>32</td>\n      <td>-7</td>\n    </tr>\n    <tr>\n      <th>991</th>\n      <td>Phoenix Suns</td>\n      <td>2021</td>\n      <td>39</td>\n      <td>39</td>\n      <td>0</td>\n    </tr>\n    <tr>\n      <th>1012</th>\n      <td>Minnesota Timberwolves</td>\n      <td>2021</td>\n      <td>39</td>\n      <td>36</td>\n      <td>-3</td>\n    </tr>\n    <tr>\n      <th>1001</th>\n      <td>Atlanta Hawks</td>\n      <td>2021</td>\n      <td>39</td>\n      <td>36</td>\n      <td>-3</td>\n    </tr>\n    <tr>\n      <th>994</th>\n      <td>Denver Nuggets</td>\n      <td>2021</td>\n      <td>39</td>\n      <td>46</td>\n      <td>7</td>\n    </tr>\n    <tr>\n      <th>993</th>\n      <td>Brooklyn Nets</td>\n      <td>2021</td>\n      <td>39</td>\n      <td>39</td>\n      <td>0</td>\n    </tr>\n    <tr>\n      <th>1003</th>\n      <td>Golden State Warriors</td>\n      <td>2021</td>\n      <td>38</td>\n      <td>38</td>\n      <td>0</td>\n    </tr>\n    <tr>\n      <th>1004</th>\n      <td>Memphis Grizzlies</td>\n      <td>2021</td>\n      <td>38</td>\n      <td>44</td>\n      <td>6</td>\n    </tr>\n    <tr>\n      <th>999</th>\n      <td>Dallas Mavericks</td>\n      <td>2021</td>\n      <td>37</td>\n      <td>33</td>\n      <td>-4</td>\n    </tr>\n    <tr>\n      <th>1009</th>\n      <td>Charlotte Hornets</td>\n      <td>2021</td>\n      <td>37</td>\n      <td>23</td>\n      <td>-14</td>\n    </tr>\n    <tr>\n      <th>1011</th>\n      <td>Chicago Bulls</td>\n      <td>2021</td>\n      <td>37</td>\n      <td>35</td>\n      <td>-2</td>\n    </tr>\n    <tr>\n      <th>996</th>\n      <td>Milwaukee Bucks</td>\n      <td>2021</td>\n      <td>36</td>\n      <td>50</td>\n      <td>14</td>\n    </tr>\n    <tr>\n      <th>1000</th>\n      <td>New York Knicks</td>\n      <td>2021</td>\n      <td>36</td>\n      <td>41</td>\n      <td>5</td>\n    </tr>\n    <tr>\n      <th>1002</th>\n      <td>Miami Heat</td>\n      <td>2021</td>\n      <td>36</td>\n      <td>38</td>\n      <td>2</td>\n    </tr>\n    <tr>\n      <th>1013</th>\n      <td>Cleveland Cavaliers</td>\n      <td>2021</td>\n      <td>36</td>\n      <td>44</td>\n      <td>8</td>\n    </tr>\n    <tr>\n      <th>995</th>\n      <td>Los Angeles Clippers</td>\n      <td>2021</td>\n      <td>35</td>\n      <td>38</td>\n      <td>3</td>\n    </tr>\n  </tbody>\n</table>\n</div>"
     },
     "execution_count": 55,
     "metadata": {},
     "output_type": "execute_result"
    }
   ],
   "source": [
    "# res[['Team','Year','num_W_next','pred_W','Predicted_W_Differential']]\n",
    "predictions = res[['Team','Year','pred_W',]].sort_values('pred_W',ascending=False)\n",
    "predictions['Actual'] = y_test * res['G']\n",
    "predictions.Actual = predictions.Actual.astype(float).astype(int)\n",
    "# predictions['Rank'] = predictions.pred_W.rank(ascending=False)\n",
    "\n",
    "\n",
    "predictions['Differential'] = predictions.Actual - predictions.pred_W\n",
    "predictions"
   ],
   "metadata": {
    "collapsed": false,
    "pycharm": {
     "name": "#%%\n"
    }
   }
  },
  {
   "cell_type": "code",
   "execution_count": 177,
   "outputs": [
    {
     "data": {
      "text/plain": "-0.9545454545454546"
     },
     "execution_count": 177,
     "metadata": {},
     "output_type": "execute_result"
    }
   ],
   "source": [
    "res.Predicted_W_Differential.mean()"
   ],
   "metadata": {
    "collapsed": false,
    "pycharm": {
     "name": "#%%\n"
    }
   }
  },
  {
   "cell_type": "code",
   "execution_count": 183,
   "outputs": [
    {
     "data": {
      "text/plain": "0       1980\n1       1980\n2       1980\n3       1980\n4       1980\n5       1980\n6       1980\n7       1980\n8       1980\n9       1980\n10      1980\n11      1980\n12      1980\n13      1980\n14      1980\n15      1980\n16      1980\n17      1980\n18      1980\n19      1980\n20      1980\n21      1980\n22      1981\n23      1981\n24      1981\n25      1981\n26      1981\n27      1981\n28      1981\n29      1981\n30      1981\n31      1981\n32      1981\n33      1981\n34      1981\n35      1981\n36      1981\n37      1981\n38      1981\n39      1981\n40      1981\n41      1981\n42      1981\n43      1981\n44      1982\n45      1982\n46      1982\n47      1982\n48      1982\n49      1982\n50      1982\n51      1982\n52      1982\n53      1982\n54      1982\n55      1982\n56      1982\n57      1982\n58      1982\n59      1982\n60      1982\n61      1982\n62      1982\n63      1982\n64      1982\n65      1982\n66      1983\n67      1983\n68      1983\n69      1983\n70      1983\n71      1983\n72      1983\n73      1983\n74      1983\n75      1983\n76      1983\n77      1983\n78      1983\n79      1983\n80      1983\n81      1983\n82      1983\n83      1983\n84      1983\n85      1983\n86      1983\n87      1983\n88      1984\n89      1984\n90      1984\n91      1984\n92      1984\n93      1984\n94      1984\n95      1984\n96      1984\n97      1984\n98      1984\n99      1984\n100     1984\n101     1984\n102     1984\n103     1984\n104     1984\n105     1984\n107     1984\n108     1984\n109     1984\n110     1985\n111     1985\n112     1985\n113     1985\n114     1985\n115     1985\n116     1985\n117     1985\n118     1985\n119     1985\n120     1985\n121     1985\n122     1985\n123     1985\n124     1985\n125     1985\n126     1985\n128     1985\n129     1985\n130     1985\n131     1985\n132     1986\n133     1986\n134     1986\n135     1986\n136     1986\n137     1986\n138     1986\n139     1986\n140     1986\n141     1986\n142     1986\n143     1986\n144     1986\n145     1986\n146     1986\n147     1986\n148     1986\n149     1986\n150     1986\n151     1986\n152     1986\n153     1986\n154     1987\n155     1987\n156     1987\n157     1987\n158     1987\n159     1987\n160     1987\n161     1987\n162     1987\n163     1987\n164     1987\n165     1987\n166     1987\n167     1987\n168     1987\n169     1987\n170     1987\n171     1987\n172     1987\n173     1987\n174     1987\n175     1987\n176     1988\n177     1988\n178     1988\n179     1988\n180     1988\n181     1988\n182     1988\n183     1988\n184     1988\n185     1988\n186     1988\n187     1988\n188     1988\n189     1988\n190     1988\n191     1988\n192     1988\n193     1988\n194     1988\n195     1988\n196     1988\n197     1988\n198     1989\n199     1989\n200     1989\n201     1989\n202     1989\n203     1989\n204     1989\n205     1989\n206     1989\n207     1989\n208     1989\n209     1989\n210     1989\n211     1989\n212     1989\n213     1989\n214     1989\n215     1989\n216     1989\n217     1989\n218     1989\n219     1989\n220     1989\n221     1990\n222     1990\n223     1990\n224     1990\n225     1990\n226     1990\n227     1990\n228     1990\n229     1990\n230     1990\n231     1990\n232     1990\n233     1990\n234     1990\n235     1990\n236     1990\n237     1990\n238     1990\n239     1990\n240     1990\n241     1990\n242     1990\n243     1990\n244     1990\n245     1991\n246     1991\n247     1991\n248     1991\n249     1991\n250     1991\n251     1991\n252     1991\n253     1991\n254     1991\n255     1991\n256     1991\n257     1991\n258     1991\n259     1991\n260     1991\n261     1991\n262     1991\n263     1991\n264     1991\n265     1991\n266     1991\n267     1991\n268     1991\n269     1992\n270     1992\n271     1992\n272     1992\n273     1992\n274     1992\n275     1992\n276     1992\n277     1992\n278     1992\n279     1992\n280     1992\n281     1992\n282     1992\n283     1992\n284     1992\n285     1992\n286     1992\n287     1992\n288     1992\n289     1992\n290     1992\n291     1992\n292     1992\n293     1993\n294     1993\n295     1993\n296     1993\n297     1993\n298     1993\n299     1993\n300     1993\n301     1993\n302     1993\n303     1993\n304     1993\n305     1993\n306     1993\n307     1993\n308     1993\n309     1993\n310     1993\n311     1993\n312     1993\n313     1993\n314     1993\n315     1993\n316     1993\n317     1994\n318     1994\n319     1994\n320     1994\n321     1994\n322     1994\n323     1994\n324     1994\n325     1994\n326     1994\n327     1994\n328     1994\n329     1994\n330     1994\n331     1994\n332     1994\n333     1994\n334     1994\n335     1994\n336     1994\n337     1994\n338     1994\n339     1994\n340     1994\n341     1995\n342     1995\n343     1995\n344     1995\n345     1995\n346     1995\n347     1995\n348     1995\n349     1995\n350     1995\n351     1995\n352     1995\n353     1995\n354     1995\n355     1995\n356     1995\n357     1995\n358     1995\n359     1995\n360     1995\n361     1995\n362     1995\n363     1995\n364     1995\n365     1996\n366     1996\n367     1996\n368     1996\n369     1996\n370     1996\n371     1996\n372     1996\n373     1996\n374     1996\n375     1996\n376     1996\n377     1996\n378     1996\n379     1996\n380     1996\n381     1996\n382     1996\n383     1996\n384     1996\n385     1996\n386     1996\n387     1996\n388     1996\n389     1996\n390     1997\n391     1997\n392     1997\n393     1997\n394     1997\n395     1997\n396     1997\n397     1997\n398     1997\n399     1997\n400     1997\n401     1997\n403     1997\n404     1997\n405     1997\n406     1997\n407     1997\n408     1997\n409     1997\n410     1997\n411     1997\n412     1997\n413     1997\n414     1997\n415     1998\n416     1998\n417     1998\n418     1998\n419     1998\n420     1998\n421     1998\n422     1998\n423     1998\n424     1998\n425     1998\n426     1998\n427     1998\n428     1998\n429     1998\n430     1998\n431     1998\n432     1998\n433     1998\n434     1998\n435     1998\n436     1998\n437     1998\n438     1998\n439     1998\n440     1999\n441     1999\n442     1999\n443     1999\n444     1999\n445     1999\n446     1999\n447     1999\n448     1999\n449     1999\n450     1999\n451     1999\n452     1999\n453     1999\n454     1999\n455     1999\n456     1999\n457     1999\n458     1999\n459     1999\n460     1999\n461     1999\n462     1999\n463     1999\n465     2000\n466     2000\n467     2000\n468     2000\n469     2000\n470     2000\n471     2000\n472     2000\n473     2000\n474     2000\n475     2000\n476     2000\n477     2000\n478     2000\n479     2000\n480     2000\n481     2000\n482     2000\n483     2000\n484     2000\n485     2000\n486     2000\n487     2000\n488     2000\n489     2000\n490     2001\n491     2001\n492     2001\n493     2001\n494     2001\n495     2001\n496     2001\n497     2001\n498     2001\n499     2001\n500     2001\n501     2001\n502     2001\n503     2001\n504     2001\n505     2001\n506     2001\n507     2001\n508     2001\n509     2001\n510     2001\n511     2001\n512     2001\n513     2001\n514     2001\n515     2002\n516     2002\n517     2002\n518     2002\n519     2002\n520     2002\n521     2002\n522     2002\n523     2002\n524     2002\n525     2002\n526     2002\n527     2002\n528     2002\n529     2002\n530     2002\n531     2002\n532     2002\n533     2002\n534     2002\n535     2002\n536     2002\n537     2002\n538     2002\n539     2002\n540     2003\n541     2003\n542     2003\n543     2003\n544     2003\n545     2003\n546     2003\n547     2003\n548     2003\n549     2003\n550     2003\n551     2003\n552     2003\n553     2003\n554     2003\n555     2003\n556     2003\n557     2003\n558     2003\n559     2003\n560     2003\n561     2003\n562     2003\n563     2003\n564     2003\n565     2004\n566     2004\n567     2004\n568     2004\n569     2004\n570     2004\n571     2004\n572     2004\n573     2004\n574     2004\n575     2004\n576     2004\n577     2004\n578     2004\n579     2004\n580     2004\n581     2004\n582     2004\n583     2004\n584     2004\n585     2004\n586     2004\n587     2004\n588     2004\n589     2004\n590     2005\n591     2005\n592     2005\n593     2005\n594     2005\n595     2005\n596     2005\n597     2005\n598     2005\n599     2005\n600     2005\n601     2005\n602     2005\n603     2005\n604     2005\n605     2005\n606     2005\n607     2005\n608     2005\n609     2005\n610     2005\n611     2005\n612     2005\n613     2005\n614     2005\n615     2006\n616     2006\n617     2006\n618     2006\n619     2006\n620     2006\n621     2006\n622     2006\n623     2006\n624     2006\n625     2006\n626     2006\n627     2006\n628     2006\n629     2006\n630     2006\n631     2006\n632     2006\n633     2006\n634     2006\n635     2006\n636     2006\n637     2006\n638     2006\n639     2006\n640     2007\n641     2007\n642     2007\n643     2007\n644     2007\n645     2007\n646     2007\n647     2007\n648     2007\n649     2007\n650     2007\n651     2007\n652     2007\n653     2007\n654     2007\n655     2007\n656     2007\n658     2007\n659     2007\n660     2007\n661     2007\n662     2007\n663     2007\n664     2007\n665     2008\n666     2008\n667     2008\n668     2008\n669     2008\n670     2008\n671     2008\n672     2008\n673     2008\n674     2008\n675     2008\n676     2008\n677     2008\n678     2008\n679     2008\n680     2008\n681     2008\n682     2008\n683     2008\n684     2008\n685     2008\n686     2008\n687     2008\n688     2008\n690     2009\n691     2009\n692     2009\n693     2009\n694     2009\n695     2009\n696     2009\n697     2009\n698     2009\n699     2009\n700     2009\n701     2009\n702     2009\n703     2009\n704     2009\n705     2009\n706     2009\n707     2009\n708     2009\n709     2009\n710     2009\n711     2009\n712     2009\n713     2009\n714     2009\n715     2010\n716     2010\n717     2010\n718     2010\n719     2010\n720     2010\n721     2010\n722     2010\n723     2010\n724     2010\n725     2010\n726     2010\n727     2010\n728     2010\n729     2010\n730     2010\n731     2010\n732     2010\n733     2010\n734     2010\n735     2010\n736     2010\n737     2010\n738     2010\n739     2010\n740     2011\n741     2011\n742     2011\n743     2011\n744     2011\n745     2011\n746     2011\n747     2011\n748     2011\n749     2011\n751     2011\n752     2011\n753     2011\n754     2011\n755     2011\n756     2011\n757     2011\n758     2011\n759     2011\n760     2011\n761     2011\n762     2011\n763     2011\n764     2011\n765     2012\n766     2012\n767     2012\n768     2012\n769     2012\n770     2012\n771     2012\n772     2012\n773     2012\n774     2012\n775     2012\n776     2012\n777     2012\n778     2012\n779     2012\n780     2012\n781     2012\n782     2012\n783     2012\n784     2012\n785     2012\n786     2012\n788     2012\n789     2012\n790     2013\n791     2013\n792     2013\n793     2013\n794     2013\n795     2013\n796     2013\n797     2013\n798     2013\n799     2013\n800     2013\n801     2013\n802     2013\n803     2013\n804     2013\n805     2013\n806     2013\n807     2013\n808     2013\n809     2013\n810     2013\n811     2013\n812     2013\n813     2013\n814     2013\n815     2014\n816     2014\n817     2014\n818     2014\n819     2014\n820     2014\n821     2014\n822     2014\n823     2014\n824     2014\n825     2014\n826     2014\n827     2014\n828     2014\n829     2014\n831     2014\n832     2014\n833     2014\n834     2014\n835     2014\n836     2014\n837     2014\n838     2014\n839     2014\n840     2015\n841     2015\n842     2015\n843     2015\n844     2015\n845     2015\n846     2015\n847     2015\n848     2015\n849     2015\n850     2015\n851     2015\n852     2015\n853     2015\n854     2015\n855     2015\n856     2015\n857     2015\n858     2015\n859     2015\n860     2015\n861     2015\n862     2015\n863     2015\n864     2015\n865     2016\n866     2016\n867     2016\n868     2016\n869     2016\n870     2016\n871     2016\n872     2016\n873     2016\n874     2016\n875     2016\n876     2016\n877     2016\n878     2016\n879     2016\n880     2016\n881     2016\n882     2016\n883     2016\n884     2016\n885     2016\n886     2016\n887     2016\n888     2016\n889     2016\n890     2017\n891     2017\n892     2017\n893     2017\n894     2017\n895     2017\n896     2017\n897     2017\n898     2017\n899     2017\n900     2017\n901     2017\n902     2017\n903     2017\n904     2017\n905     2017\n906     2017\n907     2017\n908     2017\n909     2017\n910     2017\n911     2017\n912     2017\n913     2017\n914     2017\n915     2018\n916     2018\n917     2018\n918     2018\n919     2018\n920     2018\n921     2018\n922     2018\n923     2018\n924     2018\n925     2018\n926     2018\n927     2018\n928     2018\n929     2018\n930     2018\n931     2018\n932     2018\n933     2018\n934     2018\n935     2018\n936     2018\n937     2018\n938     2018\n939     2018\n940     2019\n941     2019\n942     2019\n943     2019\n944     2019\n945     2019\n946     2019\n947     2019\n948     2019\n949     2019\n950     2019\n951     2019\n952     2019\n953     2019\n954     2019\n955     2019\n956     2019\n957     2019\n958     2019\n959     2019\n960     2019\n961     2019\n962     2019\n963     2019\n964     2019\n965     2020\n966     2020\n967     2020\n968     2020\n969     2020\n970     2020\n971     2020\n972     2020\n973     2020\n974     2020\n975     2020\n976     2020\n977     2020\n978     2020\n979     2020\n980     2020\n981     2020\n982     2020\n983     2020\n984     2020\n985     2020\n986     2020\n987     2020\n988     2020\n989     2020\n990     2021\n991     2021\n992     2021\n993     2021\n994     2021\n995     2021\n996     2021\n997     2021\n998     2021\n999     2021\n1000    2021\n1001    2021\n1002    2021\n1003    2021\n1004    2021\n1005    2021\n1007    2021\n1008    2021\n1009    2021\n1010    2021\n1011    2021\n1012    2021\n1013    2021\n1015    2022\n1016    2022\n1017    2022\n1018    2022\n1019    2022\n1020    2022\n1021    2022\n1022    2022\n1023    2022\n1024    2022\n1025    2022\n1026    2022\n1027    2022\n1028    2022\n1029    2022\n1030    2022\n1031    2022\n1032    2022\n1033    2022\n1034    2022\n1038    2022\n1039    2022\nName: Year, dtype: int64"
     },
     "execution_count": 183,
     "metadata": {},
     "output_type": "execute_result"
    }
   ],
   "source": [
    "df['Year']"
   ],
   "metadata": {
    "collapsed": false,
    "pycharm": {
     "name": "#%%\n"
    }
   }
  },
  {
   "cell_type": "code",
   "execution_count": 195,
   "outputs": [],
   "source": [
    "X_test = df.loc[(df['Year'] == 2023) & (~df['Team'].str.contains('League')),feature_list]"
   ],
   "metadata": {
    "collapsed": false,
    "pycharm": {
     "name": "#%%\n"
    }
   }
  },
  {
   "cell_type": "code",
   "execution_count": null,
   "outputs": [],
   "source": [],
   "metadata": {
    "collapsed": false,
    "pycharm": {
     "name": "#%%\n"
    }
   }
  }
 ],
 "metadata": {
  "kernelspec": {
   "display_name": "Python 3",
   "language": "python",
   "name": "python3"
  },
  "language_info": {
   "codemirror_mode": {
    "name": "ipython",
    "version": 3
   },
   "file_extension": ".py",
   "mimetype": "text/x-python",
   "name": "python",
   "nbconvert_exporter": "python",
   "pygments_lexer": "ipython3",
   "version": "3.8.5"
  }
 },
 "nbformat": 4,
 "nbformat_minor": 4
}