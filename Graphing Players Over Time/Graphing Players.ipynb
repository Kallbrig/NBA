{
 "cells": [
  {
   "cell_type": "code",
   "execution_count": 1,
   "metadata": {
    "collapsed": true
   },
   "outputs": [],
   "source": [
    "import os\n",
    "\n",
    "import pandas as pd\n",
    "import matplotlib.pyplot as plt\n",
    "\n",
    "\n",
    "import os\n",
    "import seaborn as sns\n",
    "import random"
   ]
  },
  {
   "cell_type": "code",
   "execution_count": 2,
   "outputs": [],
   "source": [
    "sns.set_context(\"poster\")\n",
    "sns.set_style('darkgrid')\n",
    "%matplotlib inline"
   ],
   "metadata": {
    "collapsed": false,
    "pycharm": {
     "name": "#%%\n"
    }
   }
  },
  {
   "cell_type": "code",
   "execution_count": 3,
   "outputs": [],
   "source": [
    "player_data_dir = '../Basketball Reference Stat Scraper/player_stats'\n"
   ],
   "metadata": {
    "collapsed": false,
    "pycharm": {
     "name": "#%%\n"
    }
   }
  },
  {
   "cell_type": "code",
   "execution_count": 4,
   "outputs": [],
   "source": [
    "full_data = []\n",
    "\n",
    "for year in range(1980,2023):\n",
    "\n",
    "    player = pd.read_csv(os.path.join(player_data_dir,f'{year}_player_stats.csv'),index_col=0)\n",
    "    player.Player = player.Player.str.strip('*')\n",
    "    player = player.fillna(0)\n",
    "    full_data.append(player)\n",
    "\n",
    "df = pd.concat(full_data)"
   ],
   "metadata": {
    "collapsed": false,
    "pycharm": {
     "name": "#%%\n"
    }
   }
  },
  {
   "cell_type": "code",
   "execution_count": 5,
   "outputs": [],
   "source": [
    "df.Player = df.Player.str.strip('*')"
   ],
   "metadata": {
    "collapsed": false,
    "pycharm": {
     "name": "#%%\n"
    }
   }
  },
  {
   "cell_type": "code",
   "execution_count": 6,
   "outputs": [
    {
     "data": {
      "text/plain": "Index(['Player', 'Pos', 'Age', 'Tm', 'G', 'GS', 'MP', 'FG', 'FGA', 'FG%', '3P',\n       '3PA', '3P%', '2P', '2PA', '2P%', 'eFG%', 'FT', 'FTA', 'FT%', 'ORB',\n       'DRB', 'TRB', 'AST', 'STL', 'BLK', 'TOV', 'PF', 'PTS', 'PER', 'TS%',\n       '3PAr', 'FTr', 'ORB%', 'DRB%', 'TRB%', 'AST%', 'STL%', 'BLK%', 'TOV%',\n       'USG%', 'OWS', 'DWS', 'WS', 'WS/48', 'OBPM', 'DBPM', 'BPM', 'VORP',\n       'Year'],\n      dtype='object')"
     },
     "execution_count": 6,
     "metadata": {},
     "output_type": "execute_result"
    }
   ],
   "source": [
    "df.columns"
   ],
   "metadata": {
    "collapsed": false,
    "pycharm": {
     "name": "#%%\n"
    }
   }
  },
  {
   "cell_type": "code",
   "execution_count": 14,
   "outputs": [],
   "source": [
    "# Randomized\n",
    "\n",
    "\n",
    "player_list = ['Shaquille O\\'Neal','Hakeem Olajuwon','Dirk Nowitzki','Nikola Jokić','Joel Embiid','Anthony Davis']\n",
    "random.shuffle(player_list)\n",
    "\n",
    "num = 1\n",
    "\n",
    "name_list = [i.split()[1] for i in player_list]\n",
    "name = ''\n",
    "for i in name_list:\n",
    "    name += i + '-'\n",
    "\n",
    "if not os.path.exists(name.rstrip('-')):\n",
    "    os.mkdir(name.rstrip('-'))\n",
    "\n",
    "\n",
    "\n",
    "#Maybe Messed this up\n",
    "j = df.loc[df.Player.isin(player_list),:]\n",
    "# j.loc[:,'Age_scaled'] = j.Age - j.Age.min()\n",
    "\n",
    "for i in ['G','MP','PTS','2P%','3P%','TS%','FT%','AST','USG%','DRB','DRB%','ORB','ORB%','TRB','TRB%','STL','BLK','WS','OBPM','DBPM','VORP']:\n",
    "    plt.figure(figsize=(15, 7))\n",
    "    plt.title(i)\n",
    "\n",
    "\n",
    "\n",
    "\n",
    "    for l in player_list:\n",
    "\n",
    "        j = df.loc[df.Player == l,['Player','Age',i]]\n",
    "        # j.loc[:,'Age_scaled'] = j.Age - j.Age.min()\n",
    "        # print(j)\n",
    "\n",
    "        sns.lineplot(j,x='Age',y=i,marker='o',)\n",
    "\n",
    "        # plt.plot('Age',i,marker='o',data=j,label=l)\n",
    "        # plt.plot('Age',i,marker='o',data=j,)\n",
    "\n",
    "        # plt.xticks(range(df.loc[df.Player.isin(player_list),'Age'].min(),df.loc[df.Player.isin(player_list),'Age'].max()+1,))\n",
    "        # plt.xticks(range(0,(df.loc[df.Player.isin(player_list),'Age'].max()+1) - df.loc[df.Player.isin(player_list),'Age'].min()))\n",
    "    plt.xticks(range(df.loc[df.Player.isin(player_list),'Age'].min(),(df.loc[df.Player.isin(player_list),'Age'].max()+1)))\n",
    "\n",
    "    # plt.legend()\n",
    "    plt.tight_layout()\n",
    "\n",
    "    plt.savefig(f'{name.rstrip(\"-\")}/Random_{num}_{i}.png',dpi=100,)\n",
    "    plt.close()\n",
    "    num += 1\n",
    "\n",
    "\n",
    "    # plt.show()"
   ],
   "metadata": {
    "collapsed": false,
    "pycharm": {
     "name": "#%%\n"
    }
   }
  },
  {
   "cell_type": "code",
   "execution_count": 15,
   "outputs": [],
   "source": [
    "plt.close()"
   ],
   "metadata": {
    "collapsed": false,
    "pycharm": {
     "name": "#%%\n"
    }
   }
  },
  {
   "cell_type": "code",
   "execution_count": 7,
   "outputs": [],
   "source": [
    "\n",
    "\n",
    "\n",
    "player_list = ['Shaquille O\\'Neal','Hakeem Olajuwon','Dirk Nowitzki','Nikola Jokić','Joel Embiid','Anthony Davis']\n",
    "num = 1\n",
    "\n",
    "name_list = [i.split()[1] for i in player_list]\n",
    "name = ''\n",
    "for i in name_list:\n",
    "    name += i + '-'\n",
    "\n",
    "if not os.path.exists(name.rstrip('-')):\n",
    "    os.mkdir(name.rstrip('-'))\n",
    "\n",
    "for i in ['G','MP','PTS','2P%','3P%','TS%','FT%','AST','USG%','DRB','DRB%','ORB','ORB%','TRB','TRB%','STL','BLK','WS','OBPM','DBPM','VORP']:\n",
    "    plt.figure(figsize=(15, 7))\n",
    "    plt.title(f'{i}\\n{name.rstrip(\"-\")}')\n",
    "    for l in player_list:\n",
    "\n",
    "        j = df.loc[df.Player == l,['Player','Age',i]]\n",
    "\n",
    "        # if l == 'Magic Johnson':\n",
    "        #     j = df.loc[df.Player == l,['Player','Age',i]]\n",
    "        #     j = j.drop(j[j.Age == 36])\n",
    "\n",
    "\n",
    "        sns.lineplot(j,x='Age',y=i,marker='o',label=l)\n",
    "\n",
    "\n",
    "        plt.xticks(range(df.loc[df.Player.isin(player_list),'Age'].min(),(df.loc[df.Player.isin(player_list),'Age'].max()+1)))\n",
    "\n",
    "\n",
    "    plt.legend()\n",
    "    plt.tight_layout()\n",
    "\n",
    "    plt.savefig(f'{name.rstrip(\"-\")}/Names_{num}_{i}.png',dpi=100,)\n",
    "    plt.close()\n",
    "    num += 1\n",
    "\n",
    "\n",
    "    # plt.show()"
   ],
   "metadata": {
    "collapsed": false,
    "pycharm": {
     "name": "#%%\n"
    }
   }
  },
  {
   "cell_type": "code",
   "execution_count": 10,
   "outputs": [],
   "source": [],
   "metadata": {
    "collapsed": false,
    "pycharm": {
     "name": "#%%\n"
    }
   }
  }
 ],
 "metadata": {
  "kernelspec": {
   "display_name": "Python 3",
   "language": "python",
   "name": "python3"
  },
  "language_info": {
   "codemirror_mode": {
    "name": "ipython",
    "version": 2
   },
   "file_extension": ".py",
   "mimetype": "text/x-python",
   "name": "python",
   "nbconvert_exporter": "python",
   "pygments_lexer": "ipython2",
   "version": "2.7.6"
  }
 },
 "nbformat": 4,
 "nbformat_minor": 0
}