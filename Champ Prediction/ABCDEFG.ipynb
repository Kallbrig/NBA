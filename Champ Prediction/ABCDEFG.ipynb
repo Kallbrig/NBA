{
 "cells": [
  {
   "cell_type": "code",
   "execution_count": 151,
   "metadata": {
    "collapsed": true
   },
   "outputs": [],
   "source": [
    "import pandas as pd\n",
    "import seaborn as sns\n",
    "import numpy as np"
   ]
  },
  {
   "cell_type": "code",
   "execution_count": 152,
   "outputs": [],
   "source": [
    "champ = pd.read_csv('champions.csv',index_col=0)\n",
    "rup = pd.read_csv('runnerups.csv',index_col=0)"
   ],
   "metadata": {
    "collapsed": false,
    "pycharm": {
     "name": "#%%\n"
    }
   }
  },
  {
   "cell_type": "code",
   "execution_count": 153,
   "outputs": [],
   "source": [
    "df = pd.read_csv('../Basketball Reference Stat Scraper/team_stats/all.csv',index_col=0)\n",
    "df.loc[:,'Playoffs'] = 0"
   ],
   "metadata": {
    "collapsed": false,
    "pycharm": {
     "name": "#%%\n"
    }
   }
  },
  {
   "cell_type": "code",
   "execution_count": 154,
   "outputs": [],
   "source": [
    "df.loc[df['Team'].str.contains('\\*'),'Playoffs'] = 1"
   ],
   "metadata": {
    "collapsed": false,
    "pycharm": {
     "name": "#%%\n"
    }
   }
  },
  {
   "cell_type": "code",
   "execution_count": 155,
   "outputs": [
    {
     "data": {
      "text/plain": "                    Team   G     MP    FG   FGA    FG%    3P   3PA    3P%  \\\n0        Boston Celtics*  82  242.4  41.9  89.2  0.470   0.9   3.2  0.286   \n1    Los Angeles Lakers*  82  242.4  45.4  96.6  0.470   1.0   3.3  0.285   \n2    Philadelphia 76ers*  82  242.1  42.0  92.2  0.455   0.9   3.4  0.271   \n3   Seattle SuperSonics*  82  241.8  41.6  90.5  0.459   0.7   2.9  0.246   \n4          Phoenix Suns*  82  240.9  43.5  91.2  0.476   1.2   3.6  0.337   \n..                   ...  ..    ...   ...   ...    ...   ...   ...    ...   \n26     Charlotte Hornets  82  241.8  41.3  90.4  0.457  10.7  32.5  0.330   \n27     San Antonio Spurs  82  242.1  43.1  92.6  0.465  11.1  32.2  0.345   \n28       Houston Rockets  82  240.9  40.6  88.9  0.457  10.4  31.9  0.327   \n29       Detroit Pistons  82  241.5  39.6  87.1  0.454  11.4  32.4  0.351   \n30   League Average 2023  82  241.8  42.0  88.3  0.475  12.3  34.2  0.361   \n\n      2P  ...   ORtg   DRtg  NRtg   Pace    FTr   3PAr    TS%  Unnamed: 0  \\\n0   41.0  ...  109.4  101.9   7.5  102.6  0.332  0.057  0.550         0.0   \n1   44.5  ...  109.5  103.9   5.6  104.1  0.284  0.014  0.569         1.0   \n2   41.1  ...  105.0  101.0   4.0  103.0  0.340  0.017  0.544         2.0   \n3   40.8  ...  105.8  101.2   4.6  101.8  0.298  0.025  0.520         3.0   \n4   42.2  ...  105.6  102.2   3.4  104.8  0.341  0.039  0.548         4.0   \n..   ...  ...    ...    ...   ...    ...    ...    ...    ...         ...   \n26  30.5  ...  109.2  115.3  -6.1  100.8  0.261  0.360  0.550         NaN   \n27  32.0  ...  110.2  120.0  -9.8  101.6  0.229  0.348  0.554         NaN   \n28  30.2  ...  111.4  119.3  -7.9   99.0  0.285  0.359  0.554         NaN   \n29  28.2  ...  110.7  118.9  -8.2   99.0  0.295  0.372  0.561         NaN   \n30  29.6  ...  114.8  114.8   NaN   99.1  0.266  0.387  0.581         NaN   \n\n      Year  Playoffs  \n0   1980.0         1  \n1   1980.0         1  \n2   1980.0         1  \n3   1980.0         1  \n4   1980.0         1  \n..     ...       ...  \n26  2023.0         0  \n27  2023.0         0  \n28  2023.0         0  \n29  2023.0         0  \n30  2023.0         0  \n\n[1268 rows x 40 columns]",
      "text/html": "<div>\n<style scoped>\n    .dataframe tbody tr th:only-of-type {\n        vertical-align: middle;\n    }\n\n    .dataframe tbody tr th {\n        vertical-align: top;\n    }\n\n    .dataframe thead th {\n        text-align: right;\n    }\n</style>\n<table border=\"1\" class=\"dataframe\">\n  <thead>\n    <tr style=\"text-align: right;\">\n      <th></th>\n      <th>Team</th>\n      <th>G</th>\n      <th>MP</th>\n      <th>FG</th>\n      <th>FGA</th>\n      <th>FG%</th>\n      <th>3P</th>\n      <th>3PA</th>\n      <th>3P%</th>\n      <th>2P</th>\n      <th>...</th>\n      <th>ORtg</th>\n      <th>DRtg</th>\n      <th>NRtg</th>\n      <th>Pace</th>\n      <th>FTr</th>\n      <th>3PAr</th>\n      <th>TS%</th>\n      <th>Unnamed: 0</th>\n      <th>Year</th>\n      <th>Playoffs</th>\n    </tr>\n  </thead>\n  <tbody>\n    <tr>\n      <th>0</th>\n      <td>Boston Celtics*</td>\n      <td>82</td>\n      <td>242.4</td>\n      <td>41.9</td>\n      <td>89.2</td>\n      <td>0.470</td>\n      <td>0.9</td>\n      <td>3.2</td>\n      <td>0.286</td>\n      <td>41.0</td>\n      <td>...</td>\n      <td>109.4</td>\n      <td>101.9</td>\n      <td>7.5</td>\n      <td>102.6</td>\n      <td>0.332</td>\n      <td>0.057</td>\n      <td>0.550</td>\n      <td>0.0</td>\n      <td>1980.0</td>\n      <td>1</td>\n    </tr>\n    <tr>\n      <th>1</th>\n      <td>Los Angeles Lakers*</td>\n      <td>82</td>\n      <td>242.4</td>\n      <td>45.4</td>\n      <td>96.6</td>\n      <td>0.470</td>\n      <td>1.0</td>\n      <td>3.3</td>\n      <td>0.285</td>\n      <td>44.5</td>\n      <td>...</td>\n      <td>109.5</td>\n      <td>103.9</td>\n      <td>5.6</td>\n      <td>104.1</td>\n      <td>0.284</td>\n      <td>0.014</td>\n      <td>0.569</td>\n      <td>1.0</td>\n      <td>1980.0</td>\n      <td>1</td>\n    </tr>\n    <tr>\n      <th>2</th>\n      <td>Philadelphia 76ers*</td>\n      <td>82</td>\n      <td>242.1</td>\n      <td>42.0</td>\n      <td>92.2</td>\n      <td>0.455</td>\n      <td>0.9</td>\n      <td>3.4</td>\n      <td>0.271</td>\n      <td>41.1</td>\n      <td>...</td>\n      <td>105.0</td>\n      <td>101.0</td>\n      <td>4.0</td>\n      <td>103.0</td>\n      <td>0.340</td>\n      <td>0.017</td>\n      <td>0.544</td>\n      <td>2.0</td>\n      <td>1980.0</td>\n      <td>1</td>\n    </tr>\n    <tr>\n      <th>3</th>\n      <td>Seattle SuperSonics*</td>\n      <td>82</td>\n      <td>241.8</td>\n      <td>41.6</td>\n      <td>90.5</td>\n      <td>0.459</td>\n      <td>0.7</td>\n      <td>2.9</td>\n      <td>0.246</td>\n      <td>40.8</td>\n      <td>...</td>\n      <td>105.8</td>\n      <td>101.2</td>\n      <td>4.6</td>\n      <td>101.8</td>\n      <td>0.298</td>\n      <td>0.025</td>\n      <td>0.520</td>\n      <td>3.0</td>\n      <td>1980.0</td>\n      <td>1</td>\n    </tr>\n    <tr>\n      <th>4</th>\n      <td>Phoenix Suns*</td>\n      <td>82</td>\n      <td>240.9</td>\n      <td>43.5</td>\n      <td>91.2</td>\n      <td>0.476</td>\n      <td>1.2</td>\n      <td>3.6</td>\n      <td>0.337</td>\n      <td>42.2</td>\n      <td>...</td>\n      <td>105.6</td>\n      <td>102.2</td>\n      <td>3.4</td>\n      <td>104.8</td>\n      <td>0.341</td>\n      <td>0.039</td>\n      <td>0.548</td>\n      <td>4.0</td>\n      <td>1980.0</td>\n      <td>1</td>\n    </tr>\n    <tr>\n      <th>...</th>\n      <td>...</td>\n      <td>...</td>\n      <td>...</td>\n      <td>...</td>\n      <td>...</td>\n      <td>...</td>\n      <td>...</td>\n      <td>...</td>\n      <td>...</td>\n      <td>...</td>\n      <td>...</td>\n      <td>...</td>\n      <td>...</td>\n      <td>...</td>\n      <td>...</td>\n      <td>...</td>\n      <td>...</td>\n      <td>...</td>\n      <td>...</td>\n      <td>...</td>\n      <td>...</td>\n    </tr>\n    <tr>\n      <th>26</th>\n      <td>Charlotte Hornets</td>\n      <td>82</td>\n      <td>241.8</td>\n      <td>41.3</td>\n      <td>90.4</td>\n      <td>0.457</td>\n      <td>10.7</td>\n      <td>32.5</td>\n      <td>0.330</td>\n      <td>30.5</td>\n      <td>...</td>\n      <td>109.2</td>\n      <td>115.3</td>\n      <td>-6.1</td>\n      <td>100.8</td>\n      <td>0.261</td>\n      <td>0.360</td>\n      <td>0.550</td>\n      <td>NaN</td>\n      <td>2023.0</td>\n      <td>0</td>\n    </tr>\n    <tr>\n      <th>27</th>\n      <td>San Antonio Spurs</td>\n      <td>82</td>\n      <td>242.1</td>\n      <td>43.1</td>\n      <td>92.6</td>\n      <td>0.465</td>\n      <td>11.1</td>\n      <td>32.2</td>\n      <td>0.345</td>\n      <td>32.0</td>\n      <td>...</td>\n      <td>110.2</td>\n      <td>120.0</td>\n      <td>-9.8</td>\n      <td>101.6</td>\n      <td>0.229</td>\n      <td>0.348</td>\n      <td>0.554</td>\n      <td>NaN</td>\n      <td>2023.0</td>\n      <td>0</td>\n    </tr>\n    <tr>\n      <th>28</th>\n      <td>Houston Rockets</td>\n      <td>82</td>\n      <td>240.9</td>\n      <td>40.6</td>\n      <td>88.9</td>\n      <td>0.457</td>\n      <td>10.4</td>\n      <td>31.9</td>\n      <td>0.327</td>\n      <td>30.2</td>\n      <td>...</td>\n      <td>111.4</td>\n      <td>119.3</td>\n      <td>-7.9</td>\n      <td>99.0</td>\n      <td>0.285</td>\n      <td>0.359</td>\n      <td>0.554</td>\n      <td>NaN</td>\n      <td>2023.0</td>\n      <td>0</td>\n    </tr>\n    <tr>\n      <th>29</th>\n      <td>Detroit Pistons</td>\n      <td>82</td>\n      <td>241.5</td>\n      <td>39.6</td>\n      <td>87.1</td>\n      <td>0.454</td>\n      <td>11.4</td>\n      <td>32.4</td>\n      <td>0.351</td>\n      <td>28.2</td>\n      <td>...</td>\n      <td>110.7</td>\n      <td>118.9</td>\n      <td>-8.2</td>\n      <td>99.0</td>\n      <td>0.295</td>\n      <td>0.372</td>\n      <td>0.561</td>\n      <td>NaN</td>\n      <td>2023.0</td>\n      <td>0</td>\n    </tr>\n    <tr>\n      <th>30</th>\n      <td>League Average 2023</td>\n      <td>82</td>\n      <td>241.8</td>\n      <td>42.0</td>\n      <td>88.3</td>\n      <td>0.475</td>\n      <td>12.3</td>\n      <td>34.2</td>\n      <td>0.361</td>\n      <td>29.6</td>\n      <td>...</td>\n      <td>114.8</td>\n      <td>114.8</td>\n      <td>NaN</td>\n      <td>99.1</td>\n      <td>0.266</td>\n      <td>0.387</td>\n      <td>0.581</td>\n      <td>NaN</td>\n      <td>2023.0</td>\n      <td>0</td>\n    </tr>\n  </tbody>\n</table>\n<p>1268 rows × 40 columns</p>\n</div>"
     },
     "execution_count": 155,
     "metadata": {},
     "output_type": "execute_result"
    }
   ],
   "source": [
    "df"
   ],
   "metadata": {
    "collapsed": false,
    "pycharm": {
     "name": "#%%\n"
    }
   }
  },
  {
   "cell_type": "code",
   "execution_count": 156,
   "outputs": [
    {
     "data": {
      "text/plain": "                   Team   G     MP    FG   FGA    FG%    3P   3PA    3P%  \\\n0        Boston Celtics  82  242.4  41.9  89.2  0.470   0.9   3.2  0.286   \n1    Los Angeles Lakers  82  242.4  45.4  96.6  0.470   1.0   3.3  0.285   \n2    Philadelphia 76ers  82  242.1  42.0  92.2  0.455   0.9   3.4  0.271   \n3   Seattle SuperSonics  82  241.8  41.6  90.5  0.459   0.7   2.9  0.246   \n4          Phoenix Suns  82  240.9  43.5  91.2  0.476   1.2   3.6  0.337   \n..                  ...  ..    ...   ...   ...    ...   ...   ...    ...   \n26    Charlotte Hornets  82  241.8  41.3  90.4  0.457  10.7  32.5  0.330   \n27    San Antonio Spurs  82  242.1  43.1  92.6  0.465  11.1  32.2  0.345   \n28      Houston Rockets  82  240.9  40.6  88.9  0.457  10.4  31.9  0.327   \n29      Detroit Pistons  82  241.5  39.6  87.1  0.454  11.4  32.4  0.351   \n30  League Average 2023  82  241.8  42.0  88.3  0.475  12.3  34.2  0.361   \n\n      2P  ...   ORtg   DRtg  NRtg   Pace    FTr   3PAr    TS%  Unnamed: 0  \\\n0   41.0  ...  109.4  101.9   7.5  102.6  0.332  0.057  0.550         0.0   \n1   44.5  ...  109.5  103.9   5.6  104.1  0.284  0.014  0.569         1.0   \n2   41.1  ...  105.0  101.0   4.0  103.0  0.340  0.017  0.544         2.0   \n3   40.8  ...  105.8  101.2   4.6  101.8  0.298  0.025  0.520         3.0   \n4   42.2  ...  105.6  102.2   3.4  104.8  0.341  0.039  0.548         4.0   \n..   ...  ...    ...    ...   ...    ...    ...    ...    ...         ...   \n26  30.5  ...  109.2  115.3  -6.1  100.8  0.261  0.360  0.550         NaN   \n27  32.0  ...  110.2  120.0  -9.8  101.6  0.229  0.348  0.554         NaN   \n28  30.2  ...  111.4  119.3  -7.9   99.0  0.285  0.359  0.554         NaN   \n29  28.2  ...  110.7  118.9  -8.2   99.0  0.295  0.372  0.561         NaN   \n30  29.6  ...  114.8  114.8   NaN   99.1  0.266  0.387  0.581         NaN   \n\n      Year  Playoffs  \n0   1980.0         1  \n1   1980.0         1  \n2   1980.0         1  \n3   1980.0         1  \n4   1980.0         1  \n..     ...       ...  \n26  2023.0         0  \n27  2023.0         0  \n28  2023.0         0  \n29  2023.0         0  \n30  2023.0         0  \n\n[1268 rows x 40 columns]",
      "text/html": "<div>\n<style scoped>\n    .dataframe tbody tr th:only-of-type {\n        vertical-align: middle;\n    }\n\n    .dataframe tbody tr th {\n        vertical-align: top;\n    }\n\n    .dataframe thead th {\n        text-align: right;\n    }\n</style>\n<table border=\"1\" class=\"dataframe\">\n  <thead>\n    <tr style=\"text-align: right;\">\n      <th></th>\n      <th>Team</th>\n      <th>G</th>\n      <th>MP</th>\n      <th>FG</th>\n      <th>FGA</th>\n      <th>FG%</th>\n      <th>3P</th>\n      <th>3PA</th>\n      <th>3P%</th>\n      <th>2P</th>\n      <th>...</th>\n      <th>ORtg</th>\n      <th>DRtg</th>\n      <th>NRtg</th>\n      <th>Pace</th>\n      <th>FTr</th>\n      <th>3PAr</th>\n      <th>TS%</th>\n      <th>Unnamed: 0</th>\n      <th>Year</th>\n      <th>Playoffs</th>\n    </tr>\n  </thead>\n  <tbody>\n    <tr>\n      <th>0</th>\n      <td>Boston Celtics</td>\n      <td>82</td>\n      <td>242.4</td>\n      <td>41.9</td>\n      <td>89.2</td>\n      <td>0.470</td>\n      <td>0.9</td>\n      <td>3.2</td>\n      <td>0.286</td>\n      <td>41.0</td>\n      <td>...</td>\n      <td>109.4</td>\n      <td>101.9</td>\n      <td>7.5</td>\n      <td>102.6</td>\n      <td>0.332</td>\n      <td>0.057</td>\n      <td>0.550</td>\n      <td>0.0</td>\n      <td>1980.0</td>\n      <td>1</td>\n    </tr>\n    <tr>\n      <th>1</th>\n      <td>Los Angeles Lakers</td>\n      <td>82</td>\n      <td>242.4</td>\n      <td>45.4</td>\n      <td>96.6</td>\n      <td>0.470</td>\n      <td>1.0</td>\n      <td>3.3</td>\n      <td>0.285</td>\n      <td>44.5</td>\n      <td>...</td>\n      <td>109.5</td>\n      <td>103.9</td>\n      <td>5.6</td>\n      <td>104.1</td>\n      <td>0.284</td>\n      <td>0.014</td>\n      <td>0.569</td>\n      <td>1.0</td>\n      <td>1980.0</td>\n      <td>1</td>\n    </tr>\n    <tr>\n      <th>2</th>\n      <td>Philadelphia 76ers</td>\n      <td>82</td>\n      <td>242.1</td>\n      <td>42.0</td>\n      <td>92.2</td>\n      <td>0.455</td>\n      <td>0.9</td>\n      <td>3.4</td>\n      <td>0.271</td>\n      <td>41.1</td>\n      <td>...</td>\n      <td>105.0</td>\n      <td>101.0</td>\n      <td>4.0</td>\n      <td>103.0</td>\n      <td>0.340</td>\n      <td>0.017</td>\n      <td>0.544</td>\n      <td>2.0</td>\n      <td>1980.0</td>\n      <td>1</td>\n    </tr>\n    <tr>\n      <th>3</th>\n      <td>Seattle SuperSonics</td>\n      <td>82</td>\n      <td>241.8</td>\n      <td>41.6</td>\n      <td>90.5</td>\n      <td>0.459</td>\n      <td>0.7</td>\n      <td>2.9</td>\n      <td>0.246</td>\n      <td>40.8</td>\n      <td>...</td>\n      <td>105.8</td>\n      <td>101.2</td>\n      <td>4.6</td>\n      <td>101.8</td>\n      <td>0.298</td>\n      <td>0.025</td>\n      <td>0.520</td>\n      <td>3.0</td>\n      <td>1980.0</td>\n      <td>1</td>\n    </tr>\n    <tr>\n      <th>4</th>\n      <td>Phoenix Suns</td>\n      <td>82</td>\n      <td>240.9</td>\n      <td>43.5</td>\n      <td>91.2</td>\n      <td>0.476</td>\n      <td>1.2</td>\n      <td>3.6</td>\n      <td>0.337</td>\n      <td>42.2</td>\n      <td>...</td>\n      <td>105.6</td>\n      <td>102.2</td>\n      <td>3.4</td>\n      <td>104.8</td>\n      <td>0.341</td>\n      <td>0.039</td>\n      <td>0.548</td>\n      <td>4.0</td>\n      <td>1980.0</td>\n      <td>1</td>\n    </tr>\n    <tr>\n      <th>...</th>\n      <td>...</td>\n      <td>...</td>\n      <td>...</td>\n      <td>...</td>\n      <td>...</td>\n      <td>...</td>\n      <td>...</td>\n      <td>...</td>\n      <td>...</td>\n      <td>...</td>\n      <td>...</td>\n      <td>...</td>\n      <td>...</td>\n      <td>...</td>\n      <td>...</td>\n      <td>...</td>\n      <td>...</td>\n      <td>...</td>\n      <td>...</td>\n      <td>...</td>\n      <td>...</td>\n    </tr>\n    <tr>\n      <th>26</th>\n      <td>Charlotte Hornets</td>\n      <td>82</td>\n      <td>241.8</td>\n      <td>41.3</td>\n      <td>90.4</td>\n      <td>0.457</td>\n      <td>10.7</td>\n      <td>32.5</td>\n      <td>0.330</td>\n      <td>30.5</td>\n      <td>...</td>\n      <td>109.2</td>\n      <td>115.3</td>\n      <td>-6.1</td>\n      <td>100.8</td>\n      <td>0.261</td>\n      <td>0.360</td>\n      <td>0.550</td>\n      <td>NaN</td>\n      <td>2023.0</td>\n      <td>0</td>\n    </tr>\n    <tr>\n      <th>27</th>\n      <td>San Antonio Spurs</td>\n      <td>82</td>\n      <td>242.1</td>\n      <td>43.1</td>\n      <td>92.6</td>\n      <td>0.465</td>\n      <td>11.1</td>\n      <td>32.2</td>\n      <td>0.345</td>\n      <td>32.0</td>\n      <td>...</td>\n      <td>110.2</td>\n      <td>120.0</td>\n      <td>-9.8</td>\n      <td>101.6</td>\n      <td>0.229</td>\n      <td>0.348</td>\n      <td>0.554</td>\n      <td>NaN</td>\n      <td>2023.0</td>\n      <td>0</td>\n    </tr>\n    <tr>\n      <th>28</th>\n      <td>Houston Rockets</td>\n      <td>82</td>\n      <td>240.9</td>\n      <td>40.6</td>\n      <td>88.9</td>\n      <td>0.457</td>\n      <td>10.4</td>\n      <td>31.9</td>\n      <td>0.327</td>\n      <td>30.2</td>\n      <td>...</td>\n      <td>111.4</td>\n      <td>119.3</td>\n      <td>-7.9</td>\n      <td>99.0</td>\n      <td>0.285</td>\n      <td>0.359</td>\n      <td>0.554</td>\n      <td>NaN</td>\n      <td>2023.0</td>\n      <td>0</td>\n    </tr>\n    <tr>\n      <th>29</th>\n      <td>Detroit Pistons</td>\n      <td>82</td>\n      <td>241.5</td>\n      <td>39.6</td>\n      <td>87.1</td>\n      <td>0.454</td>\n      <td>11.4</td>\n      <td>32.4</td>\n      <td>0.351</td>\n      <td>28.2</td>\n      <td>...</td>\n      <td>110.7</td>\n      <td>118.9</td>\n      <td>-8.2</td>\n      <td>99.0</td>\n      <td>0.295</td>\n      <td>0.372</td>\n      <td>0.561</td>\n      <td>NaN</td>\n      <td>2023.0</td>\n      <td>0</td>\n    </tr>\n    <tr>\n      <th>30</th>\n      <td>League Average 2023</td>\n      <td>82</td>\n      <td>241.8</td>\n      <td>42.0</td>\n      <td>88.3</td>\n      <td>0.475</td>\n      <td>12.3</td>\n      <td>34.2</td>\n      <td>0.361</td>\n      <td>29.6</td>\n      <td>...</td>\n      <td>114.8</td>\n      <td>114.8</td>\n      <td>NaN</td>\n      <td>99.1</td>\n      <td>0.266</td>\n      <td>0.387</td>\n      <td>0.581</td>\n      <td>NaN</td>\n      <td>2023.0</td>\n      <td>0</td>\n    </tr>\n  </tbody>\n</table>\n<p>1268 rows × 40 columns</p>\n</div>"
     },
     "execution_count": 156,
     "metadata": {},
     "output_type": "execute_result"
    }
   ],
   "source": [
    "l = []\n",
    "\n",
    "for i in df.iterrows():\n",
    "    # print(i[1]['Team'])\n",
    "    if '*' in i[1]['Team']:\n",
    "\n",
    "        l.append(i[1]['Team'].rstrip('*'))\n",
    "    else:\n",
    "        l.append(i[1]['Team'])\n",
    "\n",
    "df['Team'] = l\n",
    "df"
   ],
   "metadata": {
    "collapsed": false,
    "pycharm": {
     "name": "#%%\n"
    }
   }
  },
  {
   "cell_type": "code",
   "execution_count": 157,
   "outputs": [
    {
     "data": {
      "text/plain": "                   Team   G     MP    FG   FGA    FG%    3P   3PA    3P%  \\\n0        Boston Celtics  82  242.4  41.9  89.2  0.470   0.9   3.2  0.286   \n1    Los Angeles Lakers  82  242.4  45.4  96.6  0.470   1.0   3.3  0.285   \n2    Philadelphia 76ers  82  242.1  42.0  92.2  0.455   0.9   3.4  0.271   \n3   Seattle SuperSonics  82  241.8  41.6  90.5  0.459   0.7   2.9  0.246   \n4          Phoenix Suns  82  240.9  43.5  91.2  0.476   1.2   3.6  0.337   \n..                  ...  ..    ...   ...   ...    ...   ...   ...    ...   \n26    Charlotte Hornets  82  241.8  41.3  90.4  0.457  10.7  32.5  0.330   \n27    San Antonio Spurs  82  242.1  43.1  92.6  0.465  11.1  32.2  0.345   \n28      Houston Rockets  82  240.9  40.6  88.9  0.457  10.4  31.9  0.327   \n29      Detroit Pistons  82  241.5  39.6  87.1  0.454  11.4  32.4  0.351   \n30  League Average 2023  82  241.8  42.0  88.3  0.475  12.3  34.2  0.361   \n\n      2P  ...   DRtg  NRtg   Pace    FTr   3PAr    TS%  Unnamed: 0    Year  \\\n0   41.0  ...  101.9   7.5  102.6  0.332  0.057  0.550         0.0  1980.0   \n1   44.5  ...  103.9   5.6  104.1  0.284  0.014  0.569         1.0  1980.0   \n2   41.1  ...  101.0   4.0  103.0  0.340  0.017  0.544         2.0  1980.0   \n3   40.8  ...  101.2   4.6  101.8  0.298  0.025  0.520         3.0  1980.0   \n4   42.2  ...  102.2   3.4  104.8  0.341  0.039  0.548         4.0  1980.0   \n..   ...  ...    ...   ...    ...    ...    ...    ...         ...     ...   \n26  30.5  ...  115.3  -6.1  100.8  0.261  0.360  0.550         NaN  2023.0   \n27  32.0  ...  120.0  -9.8  101.6  0.229  0.348  0.554         NaN  2023.0   \n28  30.2  ...  119.3  -7.9   99.0  0.285  0.359  0.554         NaN  2023.0   \n29  28.2  ...  118.9  -8.2   99.0  0.295  0.372  0.561         NaN  2023.0   \n30  29.6  ...  114.8   NaN   99.1  0.266  0.387  0.581         NaN  2023.0   \n\n    Playoffs   short_name  \n0          1      Celtics  \n1          1       Lakers  \n2          1        76ers  \n3          1  SuperSonics  \n4          1         Suns  \n..       ...          ...  \n26         0      Hornets  \n27         0        Spurs  \n28         0      Rockets  \n29         0      Pistons  \n30         0         2023  \n\n[1268 rows x 41 columns]",
      "text/html": "<div>\n<style scoped>\n    .dataframe tbody tr th:only-of-type {\n        vertical-align: middle;\n    }\n\n    .dataframe tbody tr th {\n        vertical-align: top;\n    }\n\n    .dataframe thead th {\n        text-align: right;\n    }\n</style>\n<table border=\"1\" class=\"dataframe\">\n  <thead>\n    <tr style=\"text-align: right;\">\n      <th></th>\n      <th>Team</th>\n      <th>G</th>\n      <th>MP</th>\n      <th>FG</th>\n      <th>FGA</th>\n      <th>FG%</th>\n      <th>3P</th>\n      <th>3PA</th>\n      <th>3P%</th>\n      <th>2P</th>\n      <th>...</th>\n      <th>DRtg</th>\n      <th>NRtg</th>\n      <th>Pace</th>\n      <th>FTr</th>\n      <th>3PAr</th>\n      <th>TS%</th>\n      <th>Unnamed: 0</th>\n      <th>Year</th>\n      <th>Playoffs</th>\n      <th>short_name</th>\n    </tr>\n  </thead>\n  <tbody>\n    <tr>\n      <th>0</th>\n      <td>Boston Celtics</td>\n      <td>82</td>\n      <td>242.4</td>\n      <td>41.9</td>\n      <td>89.2</td>\n      <td>0.470</td>\n      <td>0.9</td>\n      <td>3.2</td>\n      <td>0.286</td>\n      <td>41.0</td>\n      <td>...</td>\n      <td>101.9</td>\n      <td>7.5</td>\n      <td>102.6</td>\n      <td>0.332</td>\n      <td>0.057</td>\n      <td>0.550</td>\n      <td>0.0</td>\n      <td>1980.0</td>\n      <td>1</td>\n      <td>Celtics</td>\n    </tr>\n    <tr>\n      <th>1</th>\n      <td>Los Angeles Lakers</td>\n      <td>82</td>\n      <td>242.4</td>\n      <td>45.4</td>\n      <td>96.6</td>\n      <td>0.470</td>\n      <td>1.0</td>\n      <td>3.3</td>\n      <td>0.285</td>\n      <td>44.5</td>\n      <td>...</td>\n      <td>103.9</td>\n      <td>5.6</td>\n      <td>104.1</td>\n      <td>0.284</td>\n      <td>0.014</td>\n      <td>0.569</td>\n      <td>1.0</td>\n      <td>1980.0</td>\n      <td>1</td>\n      <td>Lakers</td>\n    </tr>\n    <tr>\n      <th>2</th>\n      <td>Philadelphia 76ers</td>\n      <td>82</td>\n      <td>242.1</td>\n      <td>42.0</td>\n      <td>92.2</td>\n      <td>0.455</td>\n      <td>0.9</td>\n      <td>3.4</td>\n      <td>0.271</td>\n      <td>41.1</td>\n      <td>...</td>\n      <td>101.0</td>\n      <td>4.0</td>\n      <td>103.0</td>\n      <td>0.340</td>\n      <td>0.017</td>\n      <td>0.544</td>\n      <td>2.0</td>\n      <td>1980.0</td>\n      <td>1</td>\n      <td>76ers</td>\n    </tr>\n    <tr>\n      <th>3</th>\n      <td>Seattle SuperSonics</td>\n      <td>82</td>\n      <td>241.8</td>\n      <td>41.6</td>\n      <td>90.5</td>\n      <td>0.459</td>\n      <td>0.7</td>\n      <td>2.9</td>\n      <td>0.246</td>\n      <td>40.8</td>\n      <td>...</td>\n      <td>101.2</td>\n      <td>4.6</td>\n      <td>101.8</td>\n      <td>0.298</td>\n      <td>0.025</td>\n      <td>0.520</td>\n      <td>3.0</td>\n      <td>1980.0</td>\n      <td>1</td>\n      <td>SuperSonics</td>\n    </tr>\n    <tr>\n      <th>4</th>\n      <td>Phoenix Suns</td>\n      <td>82</td>\n      <td>240.9</td>\n      <td>43.5</td>\n      <td>91.2</td>\n      <td>0.476</td>\n      <td>1.2</td>\n      <td>3.6</td>\n      <td>0.337</td>\n      <td>42.2</td>\n      <td>...</td>\n      <td>102.2</td>\n      <td>3.4</td>\n      <td>104.8</td>\n      <td>0.341</td>\n      <td>0.039</td>\n      <td>0.548</td>\n      <td>4.0</td>\n      <td>1980.0</td>\n      <td>1</td>\n      <td>Suns</td>\n    </tr>\n    <tr>\n      <th>...</th>\n      <td>...</td>\n      <td>...</td>\n      <td>...</td>\n      <td>...</td>\n      <td>...</td>\n      <td>...</td>\n      <td>...</td>\n      <td>...</td>\n      <td>...</td>\n      <td>...</td>\n      <td>...</td>\n      <td>...</td>\n      <td>...</td>\n      <td>...</td>\n      <td>...</td>\n      <td>...</td>\n      <td>...</td>\n      <td>...</td>\n      <td>...</td>\n      <td>...</td>\n      <td>...</td>\n    </tr>\n    <tr>\n      <th>26</th>\n      <td>Charlotte Hornets</td>\n      <td>82</td>\n      <td>241.8</td>\n      <td>41.3</td>\n      <td>90.4</td>\n      <td>0.457</td>\n      <td>10.7</td>\n      <td>32.5</td>\n      <td>0.330</td>\n      <td>30.5</td>\n      <td>...</td>\n      <td>115.3</td>\n      <td>-6.1</td>\n      <td>100.8</td>\n      <td>0.261</td>\n      <td>0.360</td>\n      <td>0.550</td>\n      <td>NaN</td>\n      <td>2023.0</td>\n      <td>0</td>\n      <td>Hornets</td>\n    </tr>\n    <tr>\n      <th>27</th>\n      <td>San Antonio Spurs</td>\n      <td>82</td>\n      <td>242.1</td>\n      <td>43.1</td>\n      <td>92.6</td>\n      <td>0.465</td>\n      <td>11.1</td>\n      <td>32.2</td>\n      <td>0.345</td>\n      <td>32.0</td>\n      <td>...</td>\n      <td>120.0</td>\n      <td>-9.8</td>\n      <td>101.6</td>\n      <td>0.229</td>\n      <td>0.348</td>\n      <td>0.554</td>\n      <td>NaN</td>\n      <td>2023.0</td>\n      <td>0</td>\n      <td>Spurs</td>\n    </tr>\n    <tr>\n      <th>28</th>\n      <td>Houston Rockets</td>\n      <td>82</td>\n      <td>240.9</td>\n      <td>40.6</td>\n      <td>88.9</td>\n      <td>0.457</td>\n      <td>10.4</td>\n      <td>31.9</td>\n      <td>0.327</td>\n      <td>30.2</td>\n      <td>...</td>\n      <td>119.3</td>\n      <td>-7.9</td>\n      <td>99.0</td>\n      <td>0.285</td>\n      <td>0.359</td>\n      <td>0.554</td>\n      <td>NaN</td>\n      <td>2023.0</td>\n      <td>0</td>\n      <td>Rockets</td>\n    </tr>\n    <tr>\n      <th>29</th>\n      <td>Detroit Pistons</td>\n      <td>82</td>\n      <td>241.5</td>\n      <td>39.6</td>\n      <td>87.1</td>\n      <td>0.454</td>\n      <td>11.4</td>\n      <td>32.4</td>\n      <td>0.351</td>\n      <td>28.2</td>\n      <td>...</td>\n      <td>118.9</td>\n      <td>-8.2</td>\n      <td>99.0</td>\n      <td>0.295</td>\n      <td>0.372</td>\n      <td>0.561</td>\n      <td>NaN</td>\n      <td>2023.0</td>\n      <td>0</td>\n      <td>Pistons</td>\n    </tr>\n    <tr>\n      <th>30</th>\n      <td>League Average 2023</td>\n      <td>82</td>\n      <td>241.8</td>\n      <td>42.0</td>\n      <td>88.3</td>\n      <td>0.475</td>\n      <td>12.3</td>\n      <td>34.2</td>\n      <td>0.361</td>\n      <td>29.6</td>\n      <td>...</td>\n      <td>114.8</td>\n      <td>NaN</td>\n      <td>99.1</td>\n      <td>0.266</td>\n      <td>0.387</td>\n      <td>0.581</td>\n      <td>NaN</td>\n      <td>2023.0</td>\n      <td>0</td>\n      <td>2023</td>\n    </tr>\n  </tbody>\n</table>\n<p>1268 rows × 41 columns</p>\n</div>"
     },
     "execution_count": 157,
     "metadata": {},
     "output_type": "execute_result"
    }
   ],
   "source": [
    "short_l = []\n",
    "\n",
    "for i in df.iterrows():\n",
    "    # print(i[1]['Team'])\n",
    "    short_l.append(i[1]['Team'].split(' ')[-1])\n",
    "\n",
    "df['short_name'] = short_l\n",
    "df"
   ],
   "metadata": {
    "collapsed": false,
    "pycharm": {
     "name": "#%%\n"
    }
   }
  },
  {
   "cell_type": "code",
   "execution_count": 158,
   "outputs": [],
   "source": [
    "df['short_name'] = df['short_name'].str.replace('76ers', 'Sixers')\n",
    "df['short_name'] = df['short_name'].str.replace('SuperSonics', 'Sonics')"
   ],
   "metadata": {
    "collapsed": false,
    "pycharm": {
     "name": "#%%\n"
    }
   }
  },
  {
   "cell_type": "code",
   "execution_count": 159,
   "outputs": [
    {
     "data": {
      "text/plain": "    Year       Team\n0   1980     Lakers\n1   1981    Celtics\n2   1982     Lakers\n3   1983     Sixers\n4   1984    Celtics\n5   1985     Lakers\n6   1986    Celtics\n7   1987     Lakers\n8   1988     Lakers\n9   1989    Pistons\n10  1990    Pistons\n11  1991      Bulls\n12  1992      Bulls\n13  1993      Bulls\n14  1994    Rockets\n15  1995    Rockets\n16  1996      Bulls\n17  1997      Bulls\n18  1998      Bulls\n19  1999      Spurs\n20  2000     Lakers\n21  2001     Lakers\n22  2002     Lakers\n23  2003      Spurs\n24  2004    Pistons\n25  2005      Spurs\n26  2006       Heat\n27  2007      Spurs\n28  2008    Celtics\n29  2009     Lakers\n30  2010     Lakers\n31  2011  Mavericks\n32  2012       Heat\n33  2013       Heat\n34  2014      Spurs\n35  2015   Warriors\n36  2016  Cavaliers\n37  2017   Warriors\n38  2018   Warriors\n39  2019    Raptors\n40  2020     Lakers\n41  2021      Bucks\n42  2022   Warriors",
      "text/html": "<div>\n<style scoped>\n    .dataframe tbody tr th:only-of-type {\n        vertical-align: middle;\n    }\n\n    .dataframe tbody tr th {\n        vertical-align: top;\n    }\n\n    .dataframe thead th {\n        text-align: right;\n    }\n</style>\n<table border=\"1\" class=\"dataframe\">\n  <thead>\n    <tr style=\"text-align: right;\">\n      <th></th>\n      <th>Year</th>\n      <th>Team</th>\n    </tr>\n  </thead>\n  <tbody>\n    <tr>\n      <th>0</th>\n      <td>1980</td>\n      <td>Lakers</td>\n    </tr>\n    <tr>\n      <th>1</th>\n      <td>1981</td>\n      <td>Celtics</td>\n    </tr>\n    <tr>\n      <th>2</th>\n      <td>1982</td>\n      <td>Lakers</td>\n    </tr>\n    <tr>\n      <th>3</th>\n      <td>1983</td>\n      <td>Sixers</td>\n    </tr>\n    <tr>\n      <th>4</th>\n      <td>1984</td>\n      <td>Celtics</td>\n    </tr>\n    <tr>\n      <th>5</th>\n      <td>1985</td>\n      <td>Lakers</td>\n    </tr>\n    <tr>\n      <th>6</th>\n      <td>1986</td>\n      <td>Celtics</td>\n    </tr>\n    <tr>\n      <th>7</th>\n      <td>1987</td>\n      <td>Lakers</td>\n    </tr>\n    <tr>\n      <th>8</th>\n      <td>1988</td>\n      <td>Lakers</td>\n    </tr>\n    <tr>\n      <th>9</th>\n      <td>1989</td>\n      <td>Pistons</td>\n    </tr>\n    <tr>\n      <th>10</th>\n      <td>1990</td>\n      <td>Pistons</td>\n    </tr>\n    <tr>\n      <th>11</th>\n      <td>1991</td>\n      <td>Bulls</td>\n    </tr>\n    <tr>\n      <th>12</th>\n      <td>1992</td>\n      <td>Bulls</td>\n    </tr>\n    <tr>\n      <th>13</th>\n      <td>1993</td>\n      <td>Bulls</td>\n    </tr>\n    <tr>\n      <th>14</th>\n      <td>1994</td>\n      <td>Rockets</td>\n    </tr>\n    <tr>\n      <th>15</th>\n      <td>1995</td>\n      <td>Rockets</td>\n    </tr>\n    <tr>\n      <th>16</th>\n      <td>1996</td>\n      <td>Bulls</td>\n    </tr>\n    <tr>\n      <th>17</th>\n      <td>1997</td>\n      <td>Bulls</td>\n    </tr>\n    <tr>\n      <th>18</th>\n      <td>1998</td>\n      <td>Bulls</td>\n    </tr>\n    <tr>\n      <th>19</th>\n      <td>1999</td>\n      <td>Spurs</td>\n    </tr>\n    <tr>\n      <th>20</th>\n      <td>2000</td>\n      <td>Lakers</td>\n    </tr>\n    <tr>\n      <th>21</th>\n      <td>2001</td>\n      <td>Lakers</td>\n    </tr>\n    <tr>\n      <th>22</th>\n      <td>2002</td>\n      <td>Lakers</td>\n    </tr>\n    <tr>\n      <th>23</th>\n      <td>2003</td>\n      <td>Spurs</td>\n    </tr>\n    <tr>\n      <th>24</th>\n      <td>2004</td>\n      <td>Pistons</td>\n    </tr>\n    <tr>\n      <th>25</th>\n      <td>2005</td>\n      <td>Spurs</td>\n    </tr>\n    <tr>\n      <th>26</th>\n      <td>2006</td>\n      <td>Heat</td>\n    </tr>\n    <tr>\n      <th>27</th>\n      <td>2007</td>\n      <td>Spurs</td>\n    </tr>\n    <tr>\n      <th>28</th>\n      <td>2008</td>\n      <td>Celtics</td>\n    </tr>\n    <tr>\n      <th>29</th>\n      <td>2009</td>\n      <td>Lakers</td>\n    </tr>\n    <tr>\n      <th>30</th>\n      <td>2010</td>\n      <td>Lakers</td>\n    </tr>\n    <tr>\n      <th>31</th>\n      <td>2011</td>\n      <td>Mavericks</td>\n    </tr>\n    <tr>\n      <th>32</th>\n      <td>2012</td>\n      <td>Heat</td>\n    </tr>\n    <tr>\n      <th>33</th>\n      <td>2013</td>\n      <td>Heat</td>\n    </tr>\n    <tr>\n      <th>34</th>\n      <td>2014</td>\n      <td>Spurs</td>\n    </tr>\n    <tr>\n      <th>35</th>\n      <td>2015</td>\n      <td>Warriors</td>\n    </tr>\n    <tr>\n      <th>36</th>\n      <td>2016</td>\n      <td>Cavaliers</td>\n    </tr>\n    <tr>\n      <th>37</th>\n      <td>2017</td>\n      <td>Warriors</td>\n    </tr>\n    <tr>\n      <th>38</th>\n      <td>2018</td>\n      <td>Warriors</td>\n    </tr>\n    <tr>\n      <th>39</th>\n      <td>2019</td>\n      <td>Raptors</td>\n    </tr>\n    <tr>\n      <th>40</th>\n      <td>2020</td>\n      <td>Lakers</td>\n    </tr>\n    <tr>\n      <th>41</th>\n      <td>2021</td>\n      <td>Bucks</td>\n    </tr>\n    <tr>\n      <th>42</th>\n      <td>2022</td>\n      <td>Warriors</td>\n    </tr>\n  </tbody>\n</table>\n</div>"
     },
     "execution_count": 159,
     "metadata": {},
     "output_type": "execute_result"
    }
   ],
   "source": [
    "champ"
   ],
   "metadata": {
    "collapsed": false,
    "pycharm": {
     "name": "#%%\n"
    }
   }
  },
  {
   "cell_type": "code",
   "execution_count": 160,
   "outputs": [
    {
     "data": {
      "text/plain": "                   Team   G     MP    FG   FGA    FG%    3P   3PA    3P%  \\\n0        Boston Celtics  82  242.4  41.9  89.2  0.470   0.9   3.2  0.286   \n1    Los Angeles Lakers  82  242.4  45.4  96.6  0.470   1.0   3.3  0.285   \n2    Philadelphia 76ers  82  242.1  42.0  92.2  0.455   0.9   3.4  0.271   \n3   Seattle SuperSonics  82  241.8  41.6  90.5  0.459   0.7   2.9  0.246   \n4          Phoenix Suns  82  240.9  43.5  91.2  0.476   1.2   3.6  0.337   \n..                  ...  ..    ...   ...   ...    ...   ...   ...    ...   \n26    Charlotte Hornets  82  241.8  41.3  90.4  0.457  10.7  32.5  0.330   \n27    San Antonio Spurs  82  242.1  43.1  92.6  0.465  11.1  32.2  0.345   \n28      Houston Rockets  82  240.9  40.6  88.9  0.457  10.4  31.9  0.327   \n29      Detroit Pistons  82  241.5  39.6  87.1  0.454  11.4  32.4  0.351   \n30  League Average 2023  82  241.8  42.0  88.3  0.475  12.3  34.2  0.361   \n\n      2P  ...   DRtg  NRtg   Pace    FTr   3PAr    TS%  Unnamed: 0    Year  \\\n0   41.0  ...  101.9   7.5  102.6  0.332  0.057  0.550         0.0  1980.0   \n1   44.5  ...  103.9   5.6  104.1  0.284  0.014  0.569         1.0  1980.0   \n2   41.1  ...  101.0   4.0  103.0  0.340  0.017  0.544         2.0  1980.0   \n3   40.8  ...  101.2   4.6  101.8  0.298  0.025  0.520         3.0  1980.0   \n4   42.2  ...  102.2   3.4  104.8  0.341  0.039  0.548         4.0  1980.0   \n..   ...  ...    ...   ...    ...    ...    ...    ...         ...     ...   \n26  30.5  ...  115.3  -6.1  100.8  0.261  0.360  0.550         NaN  2023.0   \n27  32.0  ...  120.0  -9.8  101.6  0.229  0.348  0.554         NaN  2023.0   \n28  30.2  ...  119.3  -7.9   99.0  0.285  0.359  0.554         NaN  2023.0   \n29  28.2  ...  118.9  -8.2   99.0  0.295  0.372  0.561         NaN  2023.0   \n30  29.6  ...  114.8   NaN   99.1  0.266  0.387  0.581         NaN  2023.0   \n\n    Playoffs  short_name  \n0          1     Celtics  \n1          1      Lakers  \n2          1      Sixers  \n3          1      Sonics  \n4          1        Suns  \n..       ...         ...  \n26         0     Hornets  \n27         0       Spurs  \n28         0     Rockets  \n29         0     Pistons  \n30         0        2023  \n\n[1268 rows x 41 columns]",
      "text/html": "<div>\n<style scoped>\n    .dataframe tbody tr th:only-of-type {\n        vertical-align: middle;\n    }\n\n    .dataframe tbody tr th {\n        vertical-align: top;\n    }\n\n    .dataframe thead th {\n        text-align: right;\n    }\n</style>\n<table border=\"1\" class=\"dataframe\">\n  <thead>\n    <tr style=\"text-align: right;\">\n      <th></th>\n      <th>Team</th>\n      <th>G</th>\n      <th>MP</th>\n      <th>FG</th>\n      <th>FGA</th>\n      <th>FG%</th>\n      <th>3P</th>\n      <th>3PA</th>\n      <th>3P%</th>\n      <th>2P</th>\n      <th>...</th>\n      <th>DRtg</th>\n      <th>NRtg</th>\n      <th>Pace</th>\n      <th>FTr</th>\n      <th>3PAr</th>\n      <th>TS%</th>\n      <th>Unnamed: 0</th>\n      <th>Year</th>\n      <th>Playoffs</th>\n      <th>short_name</th>\n    </tr>\n  </thead>\n  <tbody>\n    <tr>\n      <th>0</th>\n      <td>Boston Celtics</td>\n      <td>82</td>\n      <td>242.4</td>\n      <td>41.9</td>\n      <td>89.2</td>\n      <td>0.470</td>\n      <td>0.9</td>\n      <td>3.2</td>\n      <td>0.286</td>\n      <td>41.0</td>\n      <td>...</td>\n      <td>101.9</td>\n      <td>7.5</td>\n      <td>102.6</td>\n      <td>0.332</td>\n      <td>0.057</td>\n      <td>0.550</td>\n      <td>0.0</td>\n      <td>1980.0</td>\n      <td>1</td>\n      <td>Celtics</td>\n    </tr>\n    <tr>\n      <th>1</th>\n      <td>Los Angeles Lakers</td>\n      <td>82</td>\n      <td>242.4</td>\n      <td>45.4</td>\n      <td>96.6</td>\n      <td>0.470</td>\n      <td>1.0</td>\n      <td>3.3</td>\n      <td>0.285</td>\n      <td>44.5</td>\n      <td>...</td>\n      <td>103.9</td>\n      <td>5.6</td>\n      <td>104.1</td>\n      <td>0.284</td>\n      <td>0.014</td>\n      <td>0.569</td>\n      <td>1.0</td>\n      <td>1980.0</td>\n      <td>1</td>\n      <td>Lakers</td>\n    </tr>\n    <tr>\n      <th>2</th>\n      <td>Philadelphia 76ers</td>\n      <td>82</td>\n      <td>242.1</td>\n      <td>42.0</td>\n      <td>92.2</td>\n      <td>0.455</td>\n      <td>0.9</td>\n      <td>3.4</td>\n      <td>0.271</td>\n      <td>41.1</td>\n      <td>...</td>\n      <td>101.0</td>\n      <td>4.0</td>\n      <td>103.0</td>\n      <td>0.340</td>\n      <td>0.017</td>\n      <td>0.544</td>\n      <td>2.0</td>\n      <td>1980.0</td>\n      <td>1</td>\n      <td>Sixers</td>\n    </tr>\n    <tr>\n      <th>3</th>\n      <td>Seattle SuperSonics</td>\n      <td>82</td>\n      <td>241.8</td>\n      <td>41.6</td>\n      <td>90.5</td>\n      <td>0.459</td>\n      <td>0.7</td>\n      <td>2.9</td>\n      <td>0.246</td>\n      <td>40.8</td>\n      <td>...</td>\n      <td>101.2</td>\n      <td>4.6</td>\n      <td>101.8</td>\n      <td>0.298</td>\n      <td>0.025</td>\n      <td>0.520</td>\n      <td>3.0</td>\n      <td>1980.0</td>\n      <td>1</td>\n      <td>Sonics</td>\n    </tr>\n    <tr>\n      <th>4</th>\n      <td>Phoenix Suns</td>\n      <td>82</td>\n      <td>240.9</td>\n      <td>43.5</td>\n      <td>91.2</td>\n      <td>0.476</td>\n      <td>1.2</td>\n      <td>3.6</td>\n      <td>0.337</td>\n      <td>42.2</td>\n      <td>...</td>\n      <td>102.2</td>\n      <td>3.4</td>\n      <td>104.8</td>\n      <td>0.341</td>\n      <td>0.039</td>\n      <td>0.548</td>\n      <td>4.0</td>\n      <td>1980.0</td>\n      <td>1</td>\n      <td>Suns</td>\n    </tr>\n    <tr>\n      <th>...</th>\n      <td>...</td>\n      <td>...</td>\n      <td>...</td>\n      <td>...</td>\n      <td>...</td>\n      <td>...</td>\n      <td>...</td>\n      <td>...</td>\n      <td>...</td>\n      <td>...</td>\n      <td>...</td>\n      <td>...</td>\n      <td>...</td>\n      <td>...</td>\n      <td>...</td>\n      <td>...</td>\n      <td>...</td>\n      <td>...</td>\n      <td>...</td>\n      <td>...</td>\n      <td>...</td>\n    </tr>\n    <tr>\n      <th>26</th>\n      <td>Charlotte Hornets</td>\n      <td>82</td>\n      <td>241.8</td>\n      <td>41.3</td>\n      <td>90.4</td>\n      <td>0.457</td>\n      <td>10.7</td>\n      <td>32.5</td>\n      <td>0.330</td>\n      <td>30.5</td>\n      <td>...</td>\n      <td>115.3</td>\n      <td>-6.1</td>\n      <td>100.8</td>\n      <td>0.261</td>\n      <td>0.360</td>\n      <td>0.550</td>\n      <td>NaN</td>\n      <td>2023.0</td>\n      <td>0</td>\n      <td>Hornets</td>\n    </tr>\n    <tr>\n      <th>27</th>\n      <td>San Antonio Spurs</td>\n      <td>82</td>\n      <td>242.1</td>\n      <td>43.1</td>\n      <td>92.6</td>\n      <td>0.465</td>\n      <td>11.1</td>\n      <td>32.2</td>\n      <td>0.345</td>\n      <td>32.0</td>\n      <td>...</td>\n      <td>120.0</td>\n      <td>-9.8</td>\n      <td>101.6</td>\n      <td>0.229</td>\n      <td>0.348</td>\n      <td>0.554</td>\n      <td>NaN</td>\n      <td>2023.0</td>\n      <td>0</td>\n      <td>Spurs</td>\n    </tr>\n    <tr>\n      <th>28</th>\n      <td>Houston Rockets</td>\n      <td>82</td>\n      <td>240.9</td>\n      <td>40.6</td>\n      <td>88.9</td>\n      <td>0.457</td>\n      <td>10.4</td>\n      <td>31.9</td>\n      <td>0.327</td>\n      <td>30.2</td>\n      <td>...</td>\n      <td>119.3</td>\n      <td>-7.9</td>\n      <td>99.0</td>\n      <td>0.285</td>\n      <td>0.359</td>\n      <td>0.554</td>\n      <td>NaN</td>\n      <td>2023.0</td>\n      <td>0</td>\n      <td>Rockets</td>\n    </tr>\n    <tr>\n      <th>29</th>\n      <td>Detroit Pistons</td>\n      <td>82</td>\n      <td>241.5</td>\n      <td>39.6</td>\n      <td>87.1</td>\n      <td>0.454</td>\n      <td>11.4</td>\n      <td>32.4</td>\n      <td>0.351</td>\n      <td>28.2</td>\n      <td>...</td>\n      <td>118.9</td>\n      <td>-8.2</td>\n      <td>99.0</td>\n      <td>0.295</td>\n      <td>0.372</td>\n      <td>0.561</td>\n      <td>NaN</td>\n      <td>2023.0</td>\n      <td>0</td>\n      <td>Pistons</td>\n    </tr>\n    <tr>\n      <th>30</th>\n      <td>League Average 2023</td>\n      <td>82</td>\n      <td>241.8</td>\n      <td>42.0</td>\n      <td>88.3</td>\n      <td>0.475</td>\n      <td>12.3</td>\n      <td>34.2</td>\n      <td>0.361</td>\n      <td>29.6</td>\n      <td>...</td>\n      <td>114.8</td>\n      <td>NaN</td>\n      <td>99.1</td>\n      <td>0.266</td>\n      <td>0.387</td>\n      <td>0.581</td>\n      <td>NaN</td>\n      <td>2023.0</td>\n      <td>0</td>\n      <td>2023</td>\n    </tr>\n  </tbody>\n</table>\n<p>1268 rows × 41 columns</p>\n</div>"
     },
     "execution_count": 160,
     "metadata": {},
     "output_type": "execute_result"
    }
   ],
   "source": [
    "df"
   ],
   "metadata": {
    "collapsed": false,
    "pycharm": {
     "name": "#%%\n"
    }
   }
  },
  {
   "cell_type": "code",
   "execution_count": 161,
   "outputs": [],
   "source": [
    "a = pd.merge(champ,df,left_on=['Team','Year'],right_on=['short_name','Year'],how='outer',indicator=True)"
   ],
   "metadata": {
    "collapsed": false,
    "pycharm": {
     "name": "#%%\n"
    }
   }
  },
  {
   "cell_type": "code",
   "execution_count": 162,
   "outputs": [],
   "source": [
    "a._merge = a._merge.astype(str)\n",
    "a.loc[a['_merge'] == 'both','_merge']  = 'champs'"
   ],
   "metadata": {
    "collapsed": false,
    "pycharm": {
     "name": "#%%\n"
    }
   }
  },
  {
   "cell_type": "code",
   "execution_count": 163,
   "outputs": [],
   "source": [
    "a = a.drop('Team_x',axis=1)\n"
   ],
   "metadata": {
    "collapsed": false,
    "pycharm": {
     "name": "#%%\n"
    }
   }
  },
  {
   "cell_type": "code",
   "execution_count": 164,
   "outputs": [],
   "source": [
    "a = a.rename(columns={'_merge':'champs'})"
   ],
   "metadata": {
    "collapsed": false,
    "pycharm": {
     "name": "#%%\n"
    }
   }
  },
  {
   "cell_type": "code",
   "execution_count": 165,
   "outputs": [],
   "source": [
    "a = pd.merge(rup,a,left_on=['Team','Year'],right_on=['short_name','Year'],how='outer',indicator=True)\n"
   ],
   "metadata": {
    "collapsed": false,
    "pycharm": {
     "name": "#%%\n"
    }
   }
  },
  {
   "cell_type": "code",
   "execution_count": 166,
   "outputs": [
    {
     "data": {
      "text/plain": "        Year            Team_long   G     MP    FG   FGA    FG%    3P   3PA  \\\n0     1980.0   Philadelphia 76ers  82  242.1  42.0  92.2  0.455   0.9   3.4   \n1     1981.0      Houston Rockets  82  241.5  44.1  89.5  0.493   0.6   2.1   \n2     1982.0   Philadelphia 76ers  82  242.1  41.1  86.4  0.476   0.7   2.6   \n3     1983.0   Los Angeles Lakers  82  240.6  45.5  92.9  0.490   0.7   2.6   \n4     1984.0   Los Angeles Lakers  82  241.2  44.8  92.7  0.483   0.8   2.7   \n...      ...                  ...  ..    ...   ...   ...    ...   ...   ...   \n1263  2023.0    Charlotte Hornets  82  241.8  41.3  90.4  0.457  10.7  32.5   \n1264  2023.0    San Antonio Spurs  82  242.1  43.1  92.6  0.465  11.1  32.2   \n1265  2023.0      Houston Rockets  82  240.9  40.6  88.9  0.457  10.4  31.9   \n1266  2023.0      Detroit Pistons  82  241.5  39.6  87.1  0.454  11.4  32.4   \n1267  2023.0  League Average 2023  82  241.8  42.0  88.3  0.475  12.3  34.2   \n\n        3P%  ...  NRtg   Pace    FTr   3PAr    TS%  Unnamed: 0  Playoffs  \\\n0     0.271  ...   4.0  103.0  0.340  0.017  0.544         2.0         1   \n1     0.287  ...   0.3  100.5  0.303  0.016  0.534        11.0         1   \n2     0.259  ...   5.7  100.6  0.354  0.020  0.566         1.0         1   \n3     0.259  ...   5.3  103.8  0.270  0.013  0.561         1.0         1   \n4     0.283  ...   3.6  103.7  0.313  0.031  0.574         1.0         1   \n...     ...  ...   ...    ...    ...    ...    ...         ...       ...   \n1263  0.330  ...  -6.1  100.8  0.261  0.360  0.550         NaN         0   \n1264  0.345  ...  -9.8  101.6  0.229  0.348  0.554         NaN         0   \n1265  0.327  ...  -7.9   99.0  0.285  0.359  0.554         NaN         0   \n1266  0.351  ...  -8.2   99.0  0.295  0.372  0.561         NaN         0   \n1267  0.361  ...   NaN   99.1  0.266  0.387  0.581         NaN         0   \n\n      short_name      champs   runner_up  \n0         Sixers  right_only        both  \n1        Rockets  right_only        both  \n2         Sixers  right_only        both  \n3         Lakers  right_only        both  \n4         Lakers  right_only        both  \n...          ...         ...         ...  \n1263     Hornets  right_only  right_only  \n1264       Spurs  right_only  right_only  \n1265     Rockets  right_only  right_only  \n1266     Pistons  right_only  right_only  \n1267        2023  right_only  right_only  \n\n[1268 rows x 43 columns]",
      "text/html": "<div>\n<style scoped>\n    .dataframe tbody tr th:only-of-type {\n        vertical-align: middle;\n    }\n\n    .dataframe tbody tr th {\n        vertical-align: top;\n    }\n\n    .dataframe thead th {\n        text-align: right;\n    }\n</style>\n<table border=\"1\" class=\"dataframe\">\n  <thead>\n    <tr style=\"text-align: right;\">\n      <th></th>\n      <th>Year</th>\n      <th>Team_long</th>\n      <th>G</th>\n      <th>MP</th>\n      <th>FG</th>\n      <th>FGA</th>\n      <th>FG%</th>\n      <th>3P</th>\n      <th>3PA</th>\n      <th>3P%</th>\n      <th>...</th>\n      <th>NRtg</th>\n      <th>Pace</th>\n      <th>FTr</th>\n      <th>3PAr</th>\n      <th>TS%</th>\n      <th>Unnamed: 0</th>\n      <th>Playoffs</th>\n      <th>short_name</th>\n      <th>champs</th>\n      <th>runner_up</th>\n    </tr>\n  </thead>\n  <tbody>\n    <tr>\n      <th>0</th>\n      <td>1980.0</td>\n      <td>Philadelphia 76ers</td>\n      <td>82</td>\n      <td>242.1</td>\n      <td>42.0</td>\n      <td>92.2</td>\n      <td>0.455</td>\n      <td>0.9</td>\n      <td>3.4</td>\n      <td>0.271</td>\n      <td>...</td>\n      <td>4.0</td>\n      <td>103.0</td>\n      <td>0.340</td>\n      <td>0.017</td>\n      <td>0.544</td>\n      <td>2.0</td>\n      <td>1</td>\n      <td>Sixers</td>\n      <td>right_only</td>\n      <td>both</td>\n    </tr>\n    <tr>\n      <th>1</th>\n      <td>1981.0</td>\n      <td>Houston Rockets</td>\n      <td>82</td>\n      <td>241.5</td>\n      <td>44.1</td>\n      <td>89.5</td>\n      <td>0.493</td>\n      <td>0.6</td>\n      <td>2.1</td>\n      <td>0.287</td>\n      <td>...</td>\n      <td>0.3</td>\n      <td>100.5</td>\n      <td>0.303</td>\n      <td>0.016</td>\n      <td>0.534</td>\n      <td>11.0</td>\n      <td>1</td>\n      <td>Rockets</td>\n      <td>right_only</td>\n      <td>both</td>\n    </tr>\n    <tr>\n      <th>2</th>\n      <td>1982.0</td>\n      <td>Philadelphia 76ers</td>\n      <td>82</td>\n      <td>242.1</td>\n      <td>41.1</td>\n      <td>86.4</td>\n      <td>0.476</td>\n      <td>0.7</td>\n      <td>2.6</td>\n      <td>0.259</td>\n      <td>...</td>\n      <td>5.7</td>\n      <td>100.6</td>\n      <td>0.354</td>\n      <td>0.020</td>\n      <td>0.566</td>\n      <td>1.0</td>\n      <td>1</td>\n      <td>Sixers</td>\n      <td>right_only</td>\n      <td>both</td>\n    </tr>\n    <tr>\n      <th>3</th>\n      <td>1983.0</td>\n      <td>Los Angeles Lakers</td>\n      <td>82</td>\n      <td>240.6</td>\n      <td>45.5</td>\n      <td>92.9</td>\n      <td>0.490</td>\n      <td>0.7</td>\n      <td>2.6</td>\n      <td>0.259</td>\n      <td>...</td>\n      <td>5.3</td>\n      <td>103.8</td>\n      <td>0.270</td>\n      <td>0.013</td>\n      <td>0.561</td>\n      <td>1.0</td>\n      <td>1</td>\n      <td>Lakers</td>\n      <td>right_only</td>\n      <td>both</td>\n    </tr>\n    <tr>\n      <th>4</th>\n      <td>1984.0</td>\n      <td>Los Angeles Lakers</td>\n      <td>82</td>\n      <td>241.2</td>\n      <td>44.8</td>\n      <td>92.7</td>\n      <td>0.483</td>\n      <td>0.8</td>\n      <td>2.7</td>\n      <td>0.283</td>\n      <td>...</td>\n      <td>3.6</td>\n      <td>103.7</td>\n      <td>0.313</td>\n      <td>0.031</td>\n      <td>0.574</td>\n      <td>1.0</td>\n      <td>1</td>\n      <td>Lakers</td>\n      <td>right_only</td>\n      <td>both</td>\n    </tr>\n    <tr>\n      <th>...</th>\n      <td>...</td>\n      <td>...</td>\n      <td>...</td>\n      <td>...</td>\n      <td>...</td>\n      <td>...</td>\n      <td>...</td>\n      <td>...</td>\n      <td>...</td>\n      <td>...</td>\n      <td>...</td>\n      <td>...</td>\n      <td>...</td>\n      <td>...</td>\n      <td>...</td>\n      <td>...</td>\n      <td>...</td>\n      <td>...</td>\n      <td>...</td>\n      <td>...</td>\n      <td>...</td>\n    </tr>\n    <tr>\n      <th>1263</th>\n      <td>2023.0</td>\n      <td>Charlotte Hornets</td>\n      <td>82</td>\n      <td>241.8</td>\n      <td>41.3</td>\n      <td>90.4</td>\n      <td>0.457</td>\n      <td>10.7</td>\n      <td>32.5</td>\n      <td>0.330</td>\n      <td>...</td>\n      <td>-6.1</td>\n      <td>100.8</td>\n      <td>0.261</td>\n      <td>0.360</td>\n      <td>0.550</td>\n      <td>NaN</td>\n      <td>0</td>\n      <td>Hornets</td>\n      <td>right_only</td>\n      <td>right_only</td>\n    </tr>\n    <tr>\n      <th>1264</th>\n      <td>2023.0</td>\n      <td>San Antonio Spurs</td>\n      <td>82</td>\n      <td>242.1</td>\n      <td>43.1</td>\n      <td>92.6</td>\n      <td>0.465</td>\n      <td>11.1</td>\n      <td>32.2</td>\n      <td>0.345</td>\n      <td>...</td>\n      <td>-9.8</td>\n      <td>101.6</td>\n      <td>0.229</td>\n      <td>0.348</td>\n      <td>0.554</td>\n      <td>NaN</td>\n      <td>0</td>\n      <td>Spurs</td>\n      <td>right_only</td>\n      <td>right_only</td>\n    </tr>\n    <tr>\n      <th>1265</th>\n      <td>2023.0</td>\n      <td>Houston Rockets</td>\n      <td>82</td>\n      <td>240.9</td>\n      <td>40.6</td>\n      <td>88.9</td>\n      <td>0.457</td>\n      <td>10.4</td>\n      <td>31.9</td>\n      <td>0.327</td>\n      <td>...</td>\n      <td>-7.9</td>\n      <td>99.0</td>\n      <td>0.285</td>\n      <td>0.359</td>\n      <td>0.554</td>\n      <td>NaN</td>\n      <td>0</td>\n      <td>Rockets</td>\n      <td>right_only</td>\n      <td>right_only</td>\n    </tr>\n    <tr>\n      <th>1266</th>\n      <td>2023.0</td>\n      <td>Detroit Pistons</td>\n      <td>82</td>\n      <td>241.5</td>\n      <td>39.6</td>\n      <td>87.1</td>\n      <td>0.454</td>\n      <td>11.4</td>\n      <td>32.4</td>\n      <td>0.351</td>\n      <td>...</td>\n      <td>-8.2</td>\n      <td>99.0</td>\n      <td>0.295</td>\n      <td>0.372</td>\n      <td>0.561</td>\n      <td>NaN</td>\n      <td>0</td>\n      <td>Pistons</td>\n      <td>right_only</td>\n      <td>right_only</td>\n    </tr>\n    <tr>\n      <th>1267</th>\n      <td>2023.0</td>\n      <td>League Average 2023</td>\n      <td>82</td>\n      <td>241.8</td>\n      <td>42.0</td>\n      <td>88.3</td>\n      <td>0.475</td>\n      <td>12.3</td>\n      <td>34.2</td>\n      <td>0.361</td>\n      <td>...</td>\n      <td>NaN</td>\n      <td>99.1</td>\n      <td>0.266</td>\n      <td>0.387</td>\n      <td>0.581</td>\n      <td>NaN</td>\n      <td>0</td>\n      <td>2023</td>\n      <td>right_only</td>\n      <td>right_only</td>\n    </tr>\n  </tbody>\n</table>\n<p>1268 rows × 43 columns</p>\n</div>"
     },
     "execution_count": 166,
     "metadata": {},
     "output_type": "execute_result"
    }
   ],
   "source": [
    "\n",
    "\n",
    "a = a.rename(columns={'_merge':'runner_up','Team_y':'Team_long'})\n",
    "a.drop(columns=['Team'])\n"
   ],
   "metadata": {
    "collapsed": false,
    "pycharm": {
     "name": "#%%\n"
    }
   }
  },
  {
   "cell_type": "code",
   "execution_count": 167,
   "outputs": [],
   "source": [
    "a[['champs','runner_up']] = a[['champs','runner_up']].astype(str)\n"
   ],
   "metadata": {
    "collapsed": false,
    "pycharm": {
     "name": "#%%\n"
    }
   }
  },
  {
   "cell_type": "code",
   "execution_count": 168,
   "outputs": [],
   "source": [
    "for i in ['champs','runner_up']:\n",
    "        a.loc[a[i] == 'right_only',i] = 0"
   ],
   "metadata": {
    "collapsed": false,
    "pycharm": {
     "name": "#%%\n"
    }
   }
  },
  {
   "cell_type": "code",
   "execution_count": 169,
   "outputs": [],
   "source": [
    "for i in ['champs','runner_up']:\n",
    "        a.loc[a[i] == 'champs',i] = 1"
   ],
   "metadata": {
    "collapsed": false,
    "pycharm": {
     "name": "#%%\n"
    }
   }
  },
  {
   "cell_type": "code",
   "execution_count": 170,
   "outputs": [],
   "source": [
    "a.loc[a['runner_up'] == 'both','runner_up'] = 1"
   ],
   "metadata": {
    "collapsed": false,
    "pycharm": {
     "name": "#%%\n"
    }
   }
  },
  {
   "cell_type": "code",
   "execution_count": 171,
   "outputs": [],
   "source": [
    "a = a.drop(columns=['Unnamed: 0'])\n",
    "\n"
   ],
   "metadata": {
    "collapsed": false,
    "pycharm": {
     "name": "#%%\n"
    }
   }
  },
  {
   "cell_type": "code",
   "execution_count": 172,
   "outputs": [],
   "source": [
    "a.to_csv('training_set_team.csv')"
   ],
   "metadata": {
    "collapsed": false,
    "pycharm": {
     "name": "#%%\n"
    }
   }
  },
  {
   "cell_type": "code",
   "execution_count": 173,
   "outputs": [
    {
     "data": {
      "text/plain": "        Year     Team            Team_long   G     MP    FG   FGA    FG%  \\\n0     1980.0   Sixers   Philadelphia 76ers  82  242.1  42.0  92.2  0.455   \n1     1981.0  Rockets      Houston Rockets  82  241.5  44.1  89.5  0.493   \n2     1982.0   Sixers   Philadelphia 76ers  82  242.1  41.1  86.4  0.476   \n3     1983.0   Lakers   Los Angeles Lakers  82  240.6  45.5  92.9  0.490   \n4     1984.0   Lakers   Los Angeles Lakers  82  241.2  44.8  92.7  0.483   \n...      ...      ...                  ...  ..    ...   ...   ...    ...   \n1263  2023.0      NaN    Charlotte Hornets  82  241.8  41.3  90.4  0.457   \n1264  2023.0      NaN    San Antonio Spurs  82  242.1  43.1  92.6  0.465   \n1265  2023.0      NaN      Houston Rockets  82  240.9  40.6  88.9  0.457   \n1266  2023.0      NaN      Detroit Pistons  82  241.5  39.6  87.1  0.454   \n1267  2023.0      NaN  League Average 2023  82  241.8  42.0  88.3  0.475   \n\n        3P   3PA  ...   DRtg  NRtg   Pace    FTr   3PAr    TS%  Playoffs  \\\n0      0.9   3.4  ...  101.0   4.0  103.0  0.340  0.017  0.544         1   \n1      0.6   2.1  ...  106.7   0.3  100.5  0.303  0.016  0.534         1   \n2      0.7   2.6  ...  103.9   5.7  100.6  0.354  0.020  0.566         1   \n3      0.7   2.6  ...  105.2   5.3  103.8  0.270  0.013  0.561         1   \n4      0.8   2.7  ...  107.3   3.6  103.7  0.313  0.031  0.574         1   \n...    ...   ...  ...    ...   ...    ...    ...    ...    ...       ...   \n1263  10.7  32.5  ...  115.3  -6.1  100.8  0.261  0.360  0.550         0   \n1264  11.1  32.2  ...  120.0  -9.8  101.6  0.229  0.348  0.554         0   \n1265  10.4  31.9  ...  119.3  -7.9   99.0  0.285  0.359  0.554         0   \n1266  11.4  32.4  ...  118.9  -8.2   99.0  0.295  0.372  0.561         0   \n1267  12.3  34.2  ...  114.8   NaN   99.1  0.266  0.387  0.581         0   \n\n      short_name  champs  runner_up  \n0         Sixers       0          1  \n1        Rockets       0          1  \n2         Sixers       0          1  \n3         Lakers       0          1  \n4         Lakers       0          1  \n...          ...     ...        ...  \n1263     Hornets       0          0  \n1264       Spurs       0          0  \n1265     Rockets       0          0  \n1266     Pistons       0          0  \n1267        2023       0          0  \n\n[1268 rows x 43 columns]",
      "text/html": "<div>\n<style scoped>\n    .dataframe tbody tr th:only-of-type {\n        vertical-align: middle;\n    }\n\n    .dataframe tbody tr th {\n        vertical-align: top;\n    }\n\n    .dataframe thead th {\n        text-align: right;\n    }\n</style>\n<table border=\"1\" class=\"dataframe\">\n  <thead>\n    <tr style=\"text-align: right;\">\n      <th></th>\n      <th>Year</th>\n      <th>Team</th>\n      <th>Team_long</th>\n      <th>G</th>\n      <th>MP</th>\n      <th>FG</th>\n      <th>FGA</th>\n      <th>FG%</th>\n      <th>3P</th>\n      <th>3PA</th>\n      <th>...</th>\n      <th>DRtg</th>\n      <th>NRtg</th>\n      <th>Pace</th>\n      <th>FTr</th>\n      <th>3PAr</th>\n      <th>TS%</th>\n      <th>Playoffs</th>\n      <th>short_name</th>\n      <th>champs</th>\n      <th>runner_up</th>\n    </tr>\n  </thead>\n  <tbody>\n    <tr>\n      <th>0</th>\n      <td>1980.0</td>\n      <td>Sixers</td>\n      <td>Philadelphia 76ers</td>\n      <td>82</td>\n      <td>242.1</td>\n      <td>42.0</td>\n      <td>92.2</td>\n      <td>0.455</td>\n      <td>0.9</td>\n      <td>3.4</td>\n      <td>...</td>\n      <td>101.0</td>\n      <td>4.0</td>\n      <td>103.0</td>\n      <td>0.340</td>\n      <td>0.017</td>\n      <td>0.544</td>\n      <td>1</td>\n      <td>Sixers</td>\n      <td>0</td>\n      <td>1</td>\n    </tr>\n    <tr>\n      <th>1</th>\n      <td>1981.0</td>\n      <td>Rockets</td>\n      <td>Houston Rockets</td>\n      <td>82</td>\n      <td>241.5</td>\n      <td>44.1</td>\n      <td>89.5</td>\n      <td>0.493</td>\n      <td>0.6</td>\n      <td>2.1</td>\n      <td>...</td>\n      <td>106.7</td>\n      <td>0.3</td>\n      <td>100.5</td>\n      <td>0.303</td>\n      <td>0.016</td>\n      <td>0.534</td>\n      <td>1</td>\n      <td>Rockets</td>\n      <td>0</td>\n      <td>1</td>\n    </tr>\n    <tr>\n      <th>2</th>\n      <td>1982.0</td>\n      <td>Sixers</td>\n      <td>Philadelphia 76ers</td>\n      <td>82</td>\n      <td>242.1</td>\n      <td>41.1</td>\n      <td>86.4</td>\n      <td>0.476</td>\n      <td>0.7</td>\n      <td>2.6</td>\n      <td>...</td>\n      <td>103.9</td>\n      <td>5.7</td>\n      <td>100.6</td>\n      <td>0.354</td>\n      <td>0.020</td>\n      <td>0.566</td>\n      <td>1</td>\n      <td>Sixers</td>\n      <td>0</td>\n      <td>1</td>\n    </tr>\n    <tr>\n      <th>3</th>\n      <td>1983.0</td>\n      <td>Lakers</td>\n      <td>Los Angeles Lakers</td>\n      <td>82</td>\n      <td>240.6</td>\n      <td>45.5</td>\n      <td>92.9</td>\n      <td>0.490</td>\n      <td>0.7</td>\n      <td>2.6</td>\n      <td>...</td>\n      <td>105.2</td>\n      <td>5.3</td>\n      <td>103.8</td>\n      <td>0.270</td>\n      <td>0.013</td>\n      <td>0.561</td>\n      <td>1</td>\n      <td>Lakers</td>\n      <td>0</td>\n      <td>1</td>\n    </tr>\n    <tr>\n      <th>4</th>\n      <td>1984.0</td>\n      <td>Lakers</td>\n      <td>Los Angeles Lakers</td>\n      <td>82</td>\n      <td>241.2</td>\n      <td>44.8</td>\n      <td>92.7</td>\n      <td>0.483</td>\n      <td>0.8</td>\n      <td>2.7</td>\n      <td>...</td>\n      <td>107.3</td>\n      <td>3.6</td>\n      <td>103.7</td>\n      <td>0.313</td>\n      <td>0.031</td>\n      <td>0.574</td>\n      <td>1</td>\n      <td>Lakers</td>\n      <td>0</td>\n      <td>1</td>\n    </tr>\n    <tr>\n      <th>...</th>\n      <td>...</td>\n      <td>...</td>\n      <td>...</td>\n      <td>...</td>\n      <td>...</td>\n      <td>...</td>\n      <td>...</td>\n      <td>...</td>\n      <td>...</td>\n      <td>...</td>\n      <td>...</td>\n      <td>...</td>\n      <td>...</td>\n      <td>...</td>\n      <td>...</td>\n      <td>...</td>\n      <td>...</td>\n      <td>...</td>\n      <td>...</td>\n      <td>...</td>\n      <td>...</td>\n    </tr>\n    <tr>\n      <th>1263</th>\n      <td>2023.0</td>\n      <td>NaN</td>\n      <td>Charlotte Hornets</td>\n      <td>82</td>\n      <td>241.8</td>\n      <td>41.3</td>\n      <td>90.4</td>\n      <td>0.457</td>\n      <td>10.7</td>\n      <td>32.5</td>\n      <td>...</td>\n      <td>115.3</td>\n      <td>-6.1</td>\n      <td>100.8</td>\n      <td>0.261</td>\n      <td>0.360</td>\n      <td>0.550</td>\n      <td>0</td>\n      <td>Hornets</td>\n      <td>0</td>\n      <td>0</td>\n    </tr>\n    <tr>\n      <th>1264</th>\n      <td>2023.0</td>\n      <td>NaN</td>\n      <td>San Antonio Spurs</td>\n      <td>82</td>\n      <td>242.1</td>\n      <td>43.1</td>\n      <td>92.6</td>\n      <td>0.465</td>\n      <td>11.1</td>\n      <td>32.2</td>\n      <td>...</td>\n      <td>120.0</td>\n      <td>-9.8</td>\n      <td>101.6</td>\n      <td>0.229</td>\n      <td>0.348</td>\n      <td>0.554</td>\n      <td>0</td>\n      <td>Spurs</td>\n      <td>0</td>\n      <td>0</td>\n    </tr>\n    <tr>\n      <th>1265</th>\n      <td>2023.0</td>\n      <td>NaN</td>\n      <td>Houston Rockets</td>\n      <td>82</td>\n      <td>240.9</td>\n      <td>40.6</td>\n      <td>88.9</td>\n      <td>0.457</td>\n      <td>10.4</td>\n      <td>31.9</td>\n      <td>...</td>\n      <td>119.3</td>\n      <td>-7.9</td>\n      <td>99.0</td>\n      <td>0.285</td>\n      <td>0.359</td>\n      <td>0.554</td>\n      <td>0</td>\n      <td>Rockets</td>\n      <td>0</td>\n      <td>0</td>\n    </tr>\n    <tr>\n      <th>1266</th>\n      <td>2023.0</td>\n      <td>NaN</td>\n      <td>Detroit Pistons</td>\n      <td>82</td>\n      <td>241.5</td>\n      <td>39.6</td>\n      <td>87.1</td>\n      <td>0.454</td>\n      <td>11.4</td>\n      <td>32.4</td>\n      <td>...</td>\n      <td>118.9</td>\n      <td>-8.2</td>\n      <td>99.0</td>\n      <td>0.295</td>\n      <td>0.372</td>\n      <td>0.561</td>\n      <td>0</td>\n      <td>Pistons</td>\n      <td>0</td>\n      <td>0</td>\n    </tr>\n    <tr>\n      <th>1267</th>\n      <td>2023.0</td>\n      <td>NaN</td>\n      <td>League Average 2023</td>\n      <td>82</td>\n      <td>241.8</td>\n      <td>42.0</td>\n      <td>88.3</td>\n      <td>0.475</td>\n      <td>12.3</td>\n      <td>34.2</td>\n      <td>...</td>\n      <td>114.8</td>\n      <td>NaN</td>\n      <td>99.1</td>\n      <td>0.266</td>\n      <td>0.387</td>\n      <td>0.581</td>\n      <td>0</td>\n      <td>2023</td>\n      <td>0</td>\n      <td>0</td>\n    </tr>\n  </tbody>\n</table>\n<p>1268 rows × 43 columns</p>\n</div>"
     },
     "execution_count": 173,
     "metadata": {},
     "output_type": "execute_result"
    }
   ],
   "source": [
    "a"
   ],
   "metadata": {
    "collapsed": false,
    "pycharm": {
     "name": "#%%\n"
    }
   }
  },
  {
   "cell_type": "code",
   "execution_count": null,
   "outputs": [],
   "source": [],
   "metadata": {
    "collapsed": false,
    "pycharm": {
     "name": "#%%\n"
    }
   }
  }
 ],
 "metadata": {
  "kernelspec": {
   "display_name": "Python 3",
   "language": "python",
   "name": "python3"
  },
  "language_info": {
   "codemirror_mode": {
    "name": "ipython",
    "version": 2
   },
   "file_extension": ".py",
   "mimetype": "text/x-python",
   "name": "python",
   "nbconvert_exporter": "python",
   "pygments_lexer": "ipython2",
   "version": "2.7.6"
  }
 },
 "nbformat": 4,
 "nbformat_minor": 0
}