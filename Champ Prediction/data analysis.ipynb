{
 "cells": [
  {
   "cell_type": "code",
   "execution_count": 2,
   "metadata": {
    "collapsed": true
   },
   "outputs": [],
   "source": [
    "import pandas as pd\n",
    "import seaborn as sns"
   ]
  },
  {
   "cell_type": "code",
   "execution_count": 67,
   "outputs": [],
   "source": [
    "champ = pd.read_csv('champions.csv')\n",
    "rup = pd.read_csv('runnerups.csv')"
   ],
   "metadata": {
    "collapsed": false,
    "pycharm": {
     "name": "#%%\n"
    }
   }
  },
  {
   "cell_type": "code",
   "execution_count": 63,
   "outputs": [],
   "source": [
    "champ = champ.drop_duplicates('Year')\n",
    "rup = rup.drop_duplicates('Year')"
   ],
   "metadata": {
    "collapsed": false,
    "pycharm": {
     "name": "#%%\n"
    }
   }
  },
  {
   "cell_type": "code",
   "execution_count": 64,
   "outputs": [],
   "source": [
    "champ = champ.drop(columns=[ 'Game', 'Win', 'Home', 'MP', 'FG', 'FGA', 'FGP', 'TP',\n",
    "       'TPA', 'TPP', 'FT', 'FTA', 'FTP', 'ORB', 'DRB', 'TRB', 'AST', 'STL',\n",
    "       'BLK', 'TOV', 'PF', 'PTS']).reset_index(drop=True)\n",
    "rup = rup.drop(columns=[ 'Game', 'Win', 'Home', 'MP', 'FG', 'FGA', 'FGP', 'TP',\n",
    "       'TPA', 'TPP', 'FT', 'FTA', 'FTP', 'ORB', 'DRB', 'TRB', 'AST', 'STL',\n",
    "       'BLK', 'TOV', 'PF', 'PTS']).reset_index(drop=True)\n"
   ],
   "metadata": {
    "collapsed": false,
    "pycharm": {
     "name": "#%%\n"
    }
   }
  },
  {
   "cell_type": "code",
   "execution_count": 66,
   "outputs": [],
   "source": [
    "champ.to_csv('champions.csv',)\n",
    "rup.to_csv('runnerups.csv',)"
   ],
   "metadata": {
    "collapsed": false,
    "pycharm": {
     "name": "#%%\n"
    }
   }
  },
  {
   "cell_type": "code",
   "execution_count": 50,
   "outputs": [
    {
     "name": "stdout",
     "output_type": "stream",
     "text": [
      "LAL    10\n",
      "CHI     6\n",
      "SAS     5\n",
      "BOS     4\n",
      "DET     3\n",
      "MIA     3\n",
      "GSW     3\n",
      "HOU     2\n",
      "PHI     1\n",
      "CLE     1\n",
      "Name: Team, dtype: int64\n"
     ]
    }
   ],
   "source": [
    "print(champ.Team.map({'Lakers':'LAL','Celtics':'BOS','Sixers':'PHI','Pistons':'DET','Bulls':'CHI','Rockets':'HOU','Spurs':'SAS','Heat':'MIA','Maverics':'DAL','Warriors':'GSW','Cavaliers':'CLE','Sonics':'SEA','Suns':'PHX','Blazers':'POR','Knicks':'NYK','Magic':'ORL','Nets':'IDKIDK','Pacers':'IND','Thunder':'OKC','Jazz':'UTA'}).value_counts())"
   ],
   "metadata": {
    "collapsed": false,
    "pycharm": {
     "name": "#%%\n"
    }
   }
  },
  {
   "cell_type": "code",
   "execution_count": 51,
   "outputs": [],
   "source": [
    "team_stats = pd.read_csv('../Basketball Reference Stat Scraper/team_stats/all.csv')\n",
    "team_name_mappings = pd.read_csv('Team Mappings.csv',index_col=0)"
   ],
   "metadata": {
    "collapsed": false,
    "pycharm": {
     "name": "#%%\n"
    }
   }
  },
  {
   "cell_type": "code",
   "execution_count": 52,
   "outputs": [],
   "source": [
    "mapping_dict_abb_to_team = {}\n",
    "mapping_dict_team_to_abb = {}\n",
    "\n",
    "for i in team_name_mappings.iterrows():\n",
    "       mapping_dict_abb_to_team[i[1]['abbreviation']] = i[1]['name']\n",
    "       mapping_dict_team_to_abb[i[1]['name']] = i[1]['abbreviation']\n"
   ],
   "metadata": {
    "collapsed": false,
    "pycharm": {
     "name": "#%%\n"
    }
   }
  },
  {
   "cell_type": "code",
   "execution_count": 55,
   "outputs": [
    {
     "name": "stdout",
     "output_type": "stream",
     "text": [
      "Boston Celtics\n",
      "Boston Celtics\n",
      "Boston Celtics\n",
      "Boston Celtics\n",
      "Golden State Warriors\n",
      "Golden State Warriors\n",
      "Golden State Warriors\n",
      "Los Angeles Lakers\n",
      "Los Angeles Lakers\n",
      "Los Angeles Lakers\n",
      "Los Angeles Lakers\n",
      "Los Angeles Lakers\n",
      "Los Angeles Lakers\n",
      "Los Angeles Lakers\n",
      "Los Angeles Lakers\n",
      "Los Angeles Lakers\n",
      "Los Angeles Lakers\n",
      "Chicago Bulls\n",
      "Chicago Bulls\n",
      "Chicago Bulls\n",
      "Chicago Bulls\n",
      "Chicago Bulls\n",
      "Chicago Bulls\n",
      "Cleveland Cavaliers\n",
      "Detroit Pistons\n",
      "Detroit Pistons\n",
      "Detroit Pistons\n",
      "Dallas Mavericks\n",
      "Houston Rockets\n",
      "Houston Rockets\n",
      "San Antonio Spurs\n",
      "San Antonio Spurs\n",
      "San Antonio Spurs\n",
      "San Antonio Spurs\n",
      "San Antonio Spurs\n",
      "Miami Heat\n",
      "Miami Heat\n",
      "Miami Heat\n"
     ]
    }
   ],
   "source": [
    "correct_teams = []\n",
    "\n",
    "for i in mapping_dict_team_to_abb.keys():\n",
    "       # print(i)\n",
    "       for j in champ.Team:\n",
    "\n",
    "              if j.lower() in i.lower():\n",
    "                     print(i)\n",
    "                     correct_teams.append(i)"
   ],
   "metadata": {
    "collapsed": false,
    "pycharm": {
     "name": "#%%\n"
    }
   }
  },
  {
   "cell_type": "code",
   "execution_count": 60,
   "outputs": [
    {
     "name": "stdout",
     "output_type": "stream",
     "text": [
      "1980\n",
      "Lakers\n",
      "1981\n",
      "Celtics\n",
      "1982\n",
      "Lakers\n",
      "1983\n",
      "Sixers\n",
      "1984\n",
      "Celtics\n",
      "1985\n",
      "Lakers\n",
      "1986\n",
      "Celtics\n",
      "1987\n",
      "Lakers\n",
      "1988\n",
      "Lakers\n",
      "1989\n",
      "Pistons\n",
      "1990\n",
      "Pistons\n",
      "1991\n",
      "Bulls\n",
      "1992\n",
      "Bulls\n",
      "1993\n",
      "Bulls\n",
      "1994\n",
      "Rockets\n",
      "1995\n",
      "Rockets\n",
      "1996\n",
      "Bulls\n",
      "1997\n",
      "Bulls\n",
      "1998\n",
      "Bulls\n",
      "1999\n",
      "Spurs\n",
      "2000\n",
      "Lakers\n",
      "2001\n",
      "Lakers\n",
      "2002\n",
      "Lakers\n",
      "2003\n",
      "Spurs\n",
      "2004\n",
      "Pistons\n",
      "2005\n",
      "Spurs\n",
      "2006\n",
      "Heat\n",
      "2007\n",
      "Spurs\n",
      "2008\n",
      "Celtics\n",
      "2009\n",
      "Lakers\n",
      "2010\n",
      "Lakers\n",
      "2011\n",
      "Mavericks\n",
      "2012\n",
      "Heat\n",
      "2013\n",
      "Heat\n",
      "2014\n",
      "Spurs\n",
      "2015\n",
      "Warriors\n",
      "2016\n",
      "Cavaliers\n",
      "2017\n",
      "Warriors\n",
      "2018\n",
      "Warriors\n"
     ]
    }
   ],
   "source": [
    "for i in champ.iterrows():\n",
    "       print(i[1]['Year'])\n",
    "       print(i[1]['Team'])"
   ],
   "metadata": {
    "collapsed": false,
    "pycharm": {
     "name": "#%%\n"
    }
   }
  },
  {
   "cell_type": "code",
   "execution_count": null,
   "outputs": [],
   "source": [],
   "metadata": {
    "collapsed": false,
    "pycharm": {
     "name": "#%%\n"
    }
   }
  }
 ],
 "metadata": {
  "kernelspec": {
   "display_name": "Python 3",
   "language": "python",
   "name": "python3"
  },
  "language_info": {
   "codemirror_mode": {
    "name": "ipython",
    "version": 2
   },
   "file_extension": ".py",
   "mimetype": "text/x-python",
   "name": "python",
   "nbconvert_exporter": "python",
   "pygments_lexer": "ipython2",
   "version": "2.7.6"
  }
 },
 "nbformat": 4,
 "nbformat_minor": 0
}