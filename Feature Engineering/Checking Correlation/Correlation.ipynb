{
 "cells": [
  {
   "cell_type": "code",
   "execution_count": 6,
   "metadata": {
    "collapsed": true
   },
   "outputs": [],
   "source": [
    "import numpy as np\n",
    "import pandas as pd\n",
    "# from sklearn import\n",
    "from operator import itemgetter"
   ]
  },
  {
   "cell_type": "code",
   "execution_count": 11,
   "outputs": [],
   "source": [
    "nba = pd.read_csv('../../Data/Players With Award Data/complete_players_with_award_voting.csv', index_col='Unnamed: 0')\n",
    "nba.head(5)\n",
    "\n",
    "# award = input('What Award')\n",
    "award = 'MVP'\n",
    "\n",
    "l = ['Player','Age', 'Tm', 'G', 'GS', 'MP', 'FG', 'FGA', 'FG%', '3P',\n",
    "     '3PA', '3P%', '2P', '2PA', '2P%', 'eFG%', 'FT', 'FTA', 'FT%', 'ORB',\n",
    "     'DRB', 'TRB', 'AST', 'STL', 'BLK', 'TOV', 'PF', 'PTS', 'Year',\n",
    "     'Tm_AGE', 'Tm_W', 'Tm_L', 'Tm_PW', 'Tm_PL', 'Tm_MOV', 'Tm_SOS',\n",
    "     'Tm_SRS', 'Tm_ORtg', 'Tm_DRtg', 'Tm_NRtg', 'Tm_PACE', 'Tm_FTr',\n",
    "     'Tm_3PAr', 'Tm_TS%', 'Tm_eFG%', 'Tm_TOV%', 'Tm_ORB%', 'Tm_FT/FGA',\n",
    "     'Tm_Op_eFG%', 'Tm_Op_TOV%', 'Tm_DRB%', 'Tm_Op_FT/FGA', 'Win%', f'{award}' ]\n",
    "nba = nba[l]"
   ],
   "metadata": {
    "collapsed": false,
    "pycharm": {
     "name": "#%%\n"
    }
   }
  },
  {
   "cell_type": "code",
   "execution_count": 12,
   "outputs": [
    {
     "data": {
      "text/plain": "[('TOV', 0.7885210342048069),\n ('eFG%', 0.5944009306393957),\n ('PF', nan),\n ('Tm_Op_FT/FGA', 0.8133661876927175),\n ('Tm_ORB%', 0.5623446070684605),\n ('MP', 0.5595301105913629),\n ('Tm_SRS', 0.5459195654729134),\n ('2P%', 0.5410318788997902),\n ('Tm_PACE', 0.5173966565174616),\n ('GS', 0.49352687279159413),\n ('STL', 0.48082050329202275),\n ('DRB', 0.4740042872231184),\n ('Tm_Op_eFG%', 0.46046632613466065),\n ('Tm_DRB%', 0.4440580730038665),\n ('Year', 0.4437898429265236),\n ('Tm_AGE', 0.4437898429265236),\n ('Tm_PW', 0.4308333684322033),\n ('Tm_ORtg', 0.43058124698261147),\n ('Tm_W', 0.4208748480839965),\n ('Tm_L', 0.4208748480839965),\n ('Tm_MOV', 0.41567988990805343),\n ('G', 0.4119934392045596),\n ('Tm_DRtg', 0.40991252138565154),\n ('Tm_PL', 0.39334646127231215),\n ('FG%', 0.36171908055331736),\n ('2P', 0.34830818594379936),\n ('Age', 0.32774110604390694),\n ('Tm', 0.32774110604390694),\n ('FGA', 0.31266758920889004),\n ('2PA', 0.2723060083559205),\n ('Tm_3PAr', 0.2420569142401921),\n ('Player', 0.22603040111492737),\n ('Tm_FTr', 0.2079804507271311),\n ('TRB', 0.17502782914141057),\n ('FTA', 0.1734418147584636),\n ('Tm_Op_TOV%', 0.17182898825061718),\n ('BLK', 0.15827903721626796),\n ('Tm_TOV%', 0.15198569100291692),\n ('FT', 0.13161925363410507),\n ('FT%', 0.13092054008016438),\n ('3P', 0.12393658537881508),\n ('Tm_eFG%', 0.11120511507514814),\n ('Tm_NRtg', 0.10876046095237439),\n ('Tm_SOS', 0.10725836667997588),\n ('AST', 0.09608530878885975),\n ('FG', 0.08168503436464532),\n ('3P%', 0.06905405457892198),\n ('3PA', 0.05424744145626349),\n ('Tm_TS%', 0.03915856041119653),\n ('ORB', 0.03867455279809142),\n ('Tm_FT/FGA', 0.032783413469314106),\n ('PTS', 0.0047365504092824)]"
     },
     "execution_count": 12,
     "metadata": {},
     "output_type": "execute_result"
    }
   ],
   "source": [
    "nba1 = nba[(nba['Year'] == 2018) & (nba[f'{award}_Share'] != 0)]\n",
    "l = list()\n",
    "for i in zip(nba1.drop(columns=f'{award}').keys(),\n",
    "             nba1.drop(columns=f'{award}').corrwith(nba1[f'{award}']).to_list()):\n",
    "       l.append((i[0],abs(i[1])))\n",
    "\n",
    "\n",
    "sorted(l,reverse=True, key=itemgetter(1))"
   ],
   "metadata": {
    "collapsed": false,
    "pycharm": {
     "name": "#%%\n"
    }
   }
  },
  {
   "cell_type": "code",
   "execution_count": 13,
   "outputs": [
    {
     "data": {
      "text/plain": "                      Player   Age   Tm     G    GS    MP    FG   FGA     FG%  \\\n15526           James Harden  28.0  HOU  72.0  72.0  35.4   9.0  20.1  0.4478   \n15653           LeBron James  33.0  CLE  82.0  82.0  36.9  10.5  19.3  0.5440   \n15742          Anthony Davis  24.0  NOP  75.0  75.0  36.4  10.4  19.5  0.5333   \n15975         Damian Lillard  27.0  POR  73.0  73.0  36.6   8.5  19.4  0.4381   \n15933      Russell Westbrook  29.0  OKC  80.0  80.0  36.4   9.5  21.1  0.4502   \n15718  Giannis Antetokounmpo  23.0  MIL  75.0  75.0  36.7   9.9  18.7  0.5294   \n15758           Kevin Durant  29.0  GSW  68.0  68.0  34.2   9.3  18.0  0.5167   \n15771          DeMar DeRozan  28.0  TOR  80.0  80.0  33.9   8.1  17.7  0.4576   \n15717      LaMarcus Aldridge  32.0  SAS  75.0  75.0  33.5   9.2  18.0  0.5111   \n15744          Stephen Curry  29.0  GSW  51.0  51.0  32.0   8.4  16.9  0.4970   \n15785           Jimmy Butler  28.0  MIN  59.0  59.0  36.7   7.4  15.6  0.4744   \n15613            Joel Embiid  23.0  PHI  63.0  63.0  30.3   8.1  16.8  0.4821   \n16050         Victor Oladipo  25.0  IND  75.0  75.0  34.0   8.5  17.9  0.4749   \n\n        3P  ...  Tm_TOV%  Tm_ORB%  Tm_FT/FGA  Tm_Op_eFG%  Tm_Op_TOV%  Tm_DRB%  \\\n15526  3.7  ...     12.0     22.8      0.221       0.525        13.4     74.4   \n15653  1.8  ...     12.2     23.7      0.187       0.564        11.5     77.0   \n15742  0.7  ...     12.6     24.1      0.193       0.532        11.6     76.8   \n15975  3.1  ...     12.1     26.6      0.210       0.516        11.0     77.9   \n15933  1.2  ...     11.7     26.0      0.190       0.523        14.4     78.2   \n15718  0.6  ...     12.0     20.8      0.197       0.503        11.5     80.3   \n15758  2.5  ...     12.6     22.5      0.182       0.508        11.7     77.1   \n15771  1.1  ...     12.4     21.9      0.198       0.509        13.1     77.1   \n15717  0.4  ...     11.0     21.0      0.194       0.528        11.0     79.4   \n15744  4.2  ...     12.6     22.5      0.182       0.508        11.7     77.1   \n15785  1.2  ...     11.4     24.6      0.210       0.538        12.9     74.9   \n15613  1.0  ...     12.9     24.5      0.241       0.512        11.1     78.6   \n16050  2.1  ...     12.4     21.9      0.182       0.516        14.1     76.2   \n\n       Tm_Op_FT/FGA   Win%  MVP_Share  MVP_Rank  \n15526         0.210  0.646     0.9554       1.0  \n15653         0.181  0.232     0.7307       2.0  \n15742         0.193  0.402     0.4406       3.0  \n15975         0.195  0.646     0.2050       4.0  \n15933         0.206  0.598     0.0752       5.0  \n15718         0.162  0.732     0.0743       6.0  \n15758         0.205  0.695     0.0653       7.0  \n15771         0.190  0.707     0.0317       8.0  \n15717         0.170  0.585     0.0059       9.0  \n15744         0.205  0.695     0.0050      10.0  \n15785         0.190  0.439     0.0050      10.0  \n15613         0.206  0.622     0.0040      12.0  \n16050         0.184  0.585     0.0020      13.0  \n\n[13 rows x 55 columns]",
      "text/html": "<div>\n<style scoped>\n    .dataframe tbody tr th:only-of-type {\n        vertical-align: middle;\n    }\n\n    .dataframe tbody tr th {\n        vertical-align: top;\n    }\n\n    .dataframe thead th {\n        text-align: right;\n    }\n</style>\n<table border=\"1\" class=\"dataframe\">\n  <thead>\n    <tr style=\"text-align: right;\">\n      <th></th>\n      <th>Player</th>\n      <th>Age</th>\n      <th>Tm</th>\n      <th>G</th>\n      <th>GS</th>\n      <th>MP</th>\n      <th>FG</th>\n      <th>FGA</th>\n      <th>FG%</th>\n      <th>3P</th>\n      <th>...</th>\n      <th>Tm_TOV%</th>\n      <th>Tm_ORB%</th>\n      <th>Tm_FT/FGA</th>\n      <th>Tm_Op_eFG%</th>\n      <th>Tm_Op_TOV%</th>\n      <th>Tm_DRB%</th>\n      <th>Tm_Op_FT/FGA</th>\n      <th>Win%</th>\n      <th>MVP_Share</th>\n      <th>MVP_Rank</th>\n    </tr>\n  </thead>\n  <tbody>\n    <tr>\n      <th>15526</th>\n      <td>James Harden</td>\n      <td>28.0</td>\n      <td>HOU</td>\n      <td>72.0</td>\n      <td>72.0</td>\n      <td>35.4</td>\n      <td>9.0</td>\n      <td>20.1</td>\n      <td>0.4478</td>\n      <td>3.7</td>\n      <td>...</td>\n      <td>12.0</td>\n      <td>22.8</td>\n      <td>0.221</td>\n      <td>0.525</td>\n      <td>13.4</td>\n      <td>74.4</td>\n      <td>0.210</td>\n      <td>0.646</td>\n      <td>0.9554</td>\n      <td>1.0</td>\n    </tr>\n    <tr>\n      <th>15653</th>\n      <td>LeBron James</td>\n      <td>33.0</td>\n      <td>CLE</td>\n      <td>82.0</td>\n      <td>82.0</td>\n      <td>36.9</td>\n      <td>10.5</td>\n      <td>19.3</td>\n      <td>0.5440</td>\n      <td>1.8</td>\n      <td>...</td>\n      <td>12.2</td>\n      <td>23.7</td>\n      <td>0.187</td>\n      <td>0.564</td>\n      <td>11.5</td>\n      <td>77.0</td>\n      <td>0.181</td>\n      <td>0.232</td>\n      <td>0.7307</td>\n      <td>2.0</td>\n    </tr>\n    <tr>\n      <th>15742</th>\n      <td>Anthony Davis</td>\n      <td>24.0</td>\n      <td>NOP</td>\n      <td>75.0</td>\n      <td>75.0</td>\n      <td>36.4</td>\n      <td>10.4</td>\n      <td>19.5</td>\n      <td>0.5333</td>\n      <td>0.7</td>\n      <td>...</td>\n      <td>12.6</td>\n      <td>24.1</td>\n      <td>0.193</td>\n      <td>0.532</td>\n      <td>11.6</td>\n      <td>76.8</td>\n      <td>0.193</td>\n      <td>0.402</td>\n      <td>0.4406</td>\n      <td>3.0</td>\n    </tr>\n    <tr>\n      <th>15975</th>\n      <td>Damian Lillard</td>\n      <td>27.0</td>\n      <td>POR</td>\n      <td>73.0</td>\n      <td>73.0</td>\n      <td>36.6</td>\n      <td>8.5</td>\n      <td>19.4</td>\n      <td>0.4381</td>\n      <td>3.1</td>\n      <td>...</td>\n      <td>12.1</td>\n      <td>26.6</td>\n      <td>0.210</td>\n      <td>0.516</td>\n      <td>11.0</td>\n      <td>77.9</td>\n      <td>0.195</td>\n      <td>0.646</td>\n      <td>0.2050</td>\n      <td>4.0</td>\n    </tr>\n    <tr>\n      <th>15933</th>\n      <td>Russell Westbrook</td>\n      <td>29.0</td>\n      <td>OKC</td>\n      <td>80.0</td>\n      <td>80.0</td>\n      <td>36.4</td>\n      <td>9.5</td>\n      <td>21.1</td>\n      <td>0.4502</td>\n      <td>1.2</td>\n      <td>...</td>\n      <td>11.7</td>\n      <td>26.0</td>\n      <td>0.190</td>\n      <td>0.523</td>\n      <td>14.4</td>\n      <td>78.2</td>\n      <td>0.206</td>\n      <td>0.598</td>\n      <td>0.0752</td>\n      <td>5.0</td>\n    </tr>\n    <tr>\n      <th>15718</th>\n      <td>Giannis Antetokounmpo</td>\n      <td>23.0</td>\n      <td>MIL</td>\n      <td>75.0</td>\n      <td>75.0</td>\n      <td>36.7</td>\n      <td>9.9</td>\n      <td>18.7</td>\n      <td>0.5294</td>\n      <td>0.6</td>\n      <td>...</td>\n      <td>12.0</td>\n      <td>20.8</td>\n      <td>0.197</td>\n      <td>0.503</td>\n      <td>11.5</td>\n      <td>80.3</td>\n      <td>0.162</td>\n      <td>0.732</td>\n      <td>0.0743</td>\n      <td>6.0</td>\n    </tr>\n    <tr>\n      <th>15758</th>\n      <td>Kevin Durant</td>\n      <td>29.0</td>\n      <td>GSW</td>\n      <td>68.0</td>\n      <td>68.0</td>\n      <td>34.2</td>\n      <td>9.3</td>\n      <td>18.0</td>\n      <td>0.5167</td>\n      <td>2.5</td>\n      <td>...</td>\n      <td>12.6</td>\n      <td>22.5</td>\n      <td>0.182</td>\n      <td>0.508</td>\n      <td>11.7</td>\n      <td>77.1</td>\n      <td>0.205</td>\n      <td>0.695</td>\n      <td>0.0653</td>\n      <td>7.0</td>\n    </tr>\n    <tr>\n      <th>15771</th>\n      <td>DeMar DeRozan</td>\n      <td>28.0</td>\n      <td>TOR</td>\n      <td>80.0</td>\n      <td>80.0</td>\n      <td>33.9</td>\n      <td>8.1</td>\n      <td>17.7</td>\n      <td>0.4576</td>\n      <td>1.1</td>\n      <td>...</td>\n      <td>12.4</td>\n      <td>21.9</td>\n      <td>0.198</td>\n      <td>0.509</td>\n      <td>13.1</td>\n      <td>77.1</td>\n      <td>0.190</td>\n      <td>0.707</td>\n      <td>0.0317</td>\n      <td>8.0</td>\n    </tr>\n    <tr>\n      <th>15717</th>\n      <td>LaMarcus Aldridge</td>\n      <td>32.0</td>\n      <td>SAS</td>\n      <td>75.0</td>\n      <td>75.0</td>\n      <td>33.5</td>\n      <td>9.2</td>\n      <td>18.0</td>\n      <td>0.5111</td>\n      <td>0.4</td>\n      <td>...</td>\n      <td>11.0</td>\n      <td>21.0</td>\n      <td>0.194</td>\n      <td>0.528</td>\n      <td>11.0</td>\n      <td>79.4</td>\n      <td>0.170</td>\n      <td>0.585</td>\n      <td>0.0059</td>\n      <td>9.0</td>\n    </tr>\n    <tr>\n      <th>15744</th>\n      <td>Stephen Curry</td>\n      <td>29.0</td>\n      <td>GSW</td>\n      <td>51.0</td>\n      <td>51.0</td>\n      <td>32.0</td>\n      <td>8.4</td>\n      <td>16.9</td>\n      <td>0.4970</td>\n      <td>4.2</td>\n      <td>...</td>\n      <td>12.6</td>\n      <td>22.5</td>\n      <td>0.182</td>\n      <td>0.508</td>\n      <td>11.7</td>\n      <td>77.1</td>\n      <td>0.205</td>\n      <td>0.695</td>\n      <td>0.0050</td>\n      <td>10.0</td>\n    </tr>\n    <tr>\n      <th>15785</th>\n      <td>Jimmy Butler</td>\n      <td>28.0</td>\n      <td>MIN</td>\n      <td>59.0</td>\n      <td>59.0</td>\n      <td>36.7</td>\n      <td>7.4</td>\n      <td>15.6</td>\n      <td>0.4744</td>\n      <td>1.2</td>\n      <td>...</td>\n      <td>11.4</td>\n      <td>24.6</td>\n      <td>0.210</td>\n      <td>0.538</td>\n      <td>12.9</td>\n      <td>74.9</td>\n      <td>0.190</td>\n      <td>0.439</td>\n      <td>0.0050</td>\n      <td>10.0</td>\n    </tr>\n    <tr>\n      <th>15613</th>\n      <td>Joel Embiid</td>\n      <td>23.0</td>\n      <td>PHI</td>\n      <td>63.0</td>\n      <td>63.0</td>\n      <td>30.3</td>\n      <td>8.1</td>\n      <td>16.8</td>\n      <td>0.4821</td>\n      <td>1.0</td>\n      <td>...</td>\n      <td>12.9</td>\n      <td>24.5</td>\n      <td>0.241</td>\n      <td>0.512</td>\n      <td>11.1</td>\n      <td>78.6</td>\n      <td>0.206</td>\n      <td>0.622</td>\n      <td>0.0040</td>\n      <td>12.0</td>\n    </tr>\n    <tr>\n      <th>16050</th>\n      <td>Victor Oladipo</td>\n      <td>25.0</td>\n      <td>IND</td>\n      <td>75.0</td>\n      <td>75.0</td>\n      <td>34.0</td>\n      <td>8.5</td>\n      <td>17.9</td>\n      <td>0.4749</td>\n      <td>2.1</td>\n      <td>...</td>\n      <td>12.4</td>\n      <td>21.9</td>\n      <td>0.182</td>\n      <td>0.516</td>\n      <td>14.1</td>\n      <td>76.2</td>\n      <td>0.184</td>\n      <td>0.585</td>\n      <td>0.0020</td>\n      <td>13.0</td>\n    </tr>\n  </tbody>\n</table>\n<p>13 rows × 55 columns</p>\n</div>"
     },
     "execution_count": 13,
     "metadata": {},
     "output_type": "execute_result"
    }
   ],
   "source": [
    "nba1.sort_values(f'{award}', ascending=False)"
   ],
   "metadata": {
    "collapsed": false,
    "pycharm": {
     "name": "#%%\n"
    }
   }
  },
  {
   "cell_type": "code",
   "execution_count": 14,
   "outputs": [
    {
     "data": {
      "text/plain": "                      Player  Year   PF\n15613            Joel Embiid  2018  3.3\n15718  Giannis Antetokounmpo  2018  3.1\n15933      Russell Westbrook  2018  2.5\n15526           James Harden  2018  2.3\n16050         Victor Oladipo  2018  2.3\n15744          Stephen Curry  2018  2.2\n15717      LaMarcus Aldridge  2018  2.1\n15742          Anthony Davis  2018  2.1\n15758           Kevin Durant  2018  2.0\n15771          DeMar DeRozan  2018  1.9\n15653           LeBron James  2018  1.7\n15975         Damian Lillard  2018  1.6\n15785           Jimmy Butler  2018  1.3",
      "text/html": "<div>\n<style scoped>\n    .dataframe tbody tr th:only-of-type {\n        vertical-align: middle;\n    }\n\n    .dataframe tbody tr th {\n        vertical-align: top;\n    }\n\n    .dataframe thead th {\n        text-align: right;\n    }\n</style>\n<table border=\"1\" class=\"dataframe\">\n  <thead>\n    <tr style=\"text-align: right;\">\n      <th></th>\n      <th>Player</th>\n      <th>Year</th>\n      <th>PF</th>\n    </tr>\n  </thead>\n  <tbody>\n    <tr>\n      <th>15613</th>\n      <td>Joel Embiid</td>\n      <td>2018</td>\n      <td>3.3</td>\n    </tr>\n    <tr>\n      <th>15718</th>\n      <td>Giannis Antetokounmpo</td>\n      <td>2018</td>\n      <td>3.1</td>\n    </tr>\n    <tr>\n      <th>15933</th>\n      <td>Russell Westbrook</td>\n      <td>2018</td>\n      <td>2.5</td>\n    </tr>\n    <tr>\n      <th>15526</th>\n      <td>James Harden</td>\n      <td>2018</td>\n      <td>2.3</td>\n    </tr>\n    <tr>\n      <th>16050</th>\n      <td>Victor Oladipo</td>\n      <td>2018</td>\n      <td>2.3</td>\n    </tr>\n    <tr>\n      <th>15744</th>\n      <td>Stephen Curry</td>\n      <td>2018</td>\n      <td>2.2</td>\n    </tr>\n    <tr>\n      <th>15717</th>\n      <td>LaMarcus Aldridge</td>\n      <td>2018</td>\n      <td>2.1</td>\n    </tr>\n    <tr>\n      <th>15742</th>\n      <td>Anthony Davis</td>\n      <td>2018</td>\n      <td>2.1</td>\n    </tr>\n    <tr>\n      <th>15758</th>\n      <td>Kevin Durant</td>\n      <td>2018</td>\n      <td>2.0</td>\n    </tr>\n    <tr>\n      <th>15771</th>\n      <td>DeMar DeRozan</td>\n      <td>2018</td>\n      <td>1.9</td>\n    </tr>\n    <tr>\n      <th>15653</th>\n      <td>LeBron James</td>\n      <td>2018</td>\n      <td>1.7</td>\n    </tr>\n    <tr>\n      <th>15975</th>\n      <td>Damian Lillard</td>\n      <td>2018</td>\n      <td>1.6</td>\n    </tr>\n    <tr>\n      <th>15785</th>\n      <td>Jimmy Butler</td>\n      <td>2018</td>\n      <td>1.3</td>\n    </tr>\n  </tbody>\n</table>\n</div>"
     },
     "execution_count": 14,
     "metadata": {},
     "output_type": "execute_result"
    }
   ],
   "source": [
    "\n",
    "nba1[['Player', 'Year', 'PF']].sort_values('PF', ascending=False)\n"
   ],
   "metadata": {
    "collapsed": false,
    "pycharm": {
     "name": "#%%\n"
    }
   }
  }
 ],
 "metadata": {
  "kernelspec": {
   "display_name": "Python 3",
   "language": "python",
   "name": "python3"
  },
  "language_info": {
   "codemirror_mode": {
    "name": "ipython",
    "version": 2
   },
   "file_extension": ".py",
   "mimetype": "text/x-python",
   "name": "python",
   "nbconvert_exporter": "python",
   "pygments_lexer": "ipython2",
   "version": "2.7.6"
  }
 },
 "nbformat": 4,
 "nbformat_minor": 0
}