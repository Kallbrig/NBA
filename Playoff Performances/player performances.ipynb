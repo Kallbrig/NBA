{
 "cells": [
  {
   "cell_type": "code",
   "execution_count": 105,
   "metadata": {
    "collapsed": true
   },
   "outputs": [],
   "source": [
    "\n",
    "import pandas as pd\n",
    "import os\n",
    "import numpy as np"
   ]
  },
  {
   "cell_type": "code",
   "execution_count": 106,
   "outputs": [
    {
     "data": {
      "text/plain": "                   Player Pos  Age   Tm   G  GS    MP    FG   FGA    FG%  ...  \\\n0     Kareem Abdul-Jabbar   C   32  LAL  15   0  41.2  13.2  23.1  0.572  ...   \n1             Alvan Adams   C   25  PHO   8   0  31.4   7.0  12.4  0.566  ...   \n2          Tiny Archibald  PG   31  BOS   9   0  36.9   5.0   9.9  0.506  ...   \n3            James Bailey  PF   22  SEA  12   0  11.5   1.8   3.7  0.477  ...   \n4            Greg Ballard  SF   25  WSB   2   0  36.5   4.5  14.0  0.321  ...   \n...                   ...  ..  ...  ...  ..  ..   ...   ...   ...    ...  ...   \n8369      Ziaire Williams  SF   21  MEM   4   0   3.0   0.5   1.8  0.286  ...   \n8370           Trae Young  PG   24  ATL   6   6  38.3  10.0  24.8  0.403  ...   \n8371       Omer Yurtseven   C   24  MIA   8   0   2.0   0.3   0.9  0.286  ...   \n8372          Cody Zeller   C   30  MIA  21   0   8.3   1.0   1.7  0.571  ...   \n8373          Ivica Zubac   C   25  LAC   5   5  26.0   3.4   6.0  0.567  ...   \n\n      USG%  OWS  DWS   WS  WS/48  OBPM  DBPM   BPM  VORP  Year  \n0     28.5  2.2  1.0  3.3  0.253   7.4   1.5   8.9   1.7  1980  \n1     21.6  0.5  0.3  0.8  0.157   4.2   2.1   6.2   0.5  1980  \n2     18.6  0.4  0.4  0.7  0.105   1.9  -1.8   0.1   0.2  1980  \n3     18.4  0.1  0.2  0.3  0.113  -1.1   2.3   1.2   0.1  1980  \n4     21.9 -0.3  0.0 -0.3 -0.170  -7.4  -1.7  -9.1  -0.1  1980  \n...    ...  ...  ...  ...    ...   ...   ...   ...   ...   ...  \n8369  31.4 -0.1  0.0 -0.1 -0.275  -6.3  -1.9  -8.2   0.0  2023  \n8370  34.3  0.3  0.0  0.3  0.066   4.7  -1.1   3.6   0.3  2023  \n8371  22.5 -0.1  0.0  0.0 -0.113  -8.6  -4.5 -13.1   0.0  2023  \n8372  14.1 -0.1  0.2  0.1  0.024  -6.7  -0.1  -6.8  -0.2  2023  \n8373  15.5  0.1  0.0  0.1  0.041  -1.2  -1.0  -2.3   0.0  2023  \n\n[8374 rows x 50 columns]",
      "text/html": "<div>\n<style scoped>\n    .dataframe tbody tr th:only-of-type {\n        vertical-align: middle;\n    }\n\n    .dataframe tbody tr th {\n        vertical-align: top;\n    }\n\n    .dataframe thead th {\n        text-align: right;\n    }\n</style>\n<table border=\"1\" class=\"dataframe\">\n  <thead>\n    <tr style=\"text-align: right;\">\n      <th></th>\n      <th>Player</th>\n      <th>Pos</th>\n      <th>Age</th>\n      <th>Tm</th>\n      <th>G</th>\n      <th>GS</th>\n      <th>MP</th>\n      <th>FG</th>\n      <th>FGA</th>\n      <th>FG%</th>\n      <th>...</th>\n      <th>USG%</th>\n      <th>OWS</th>\n      <th>DWS</th>\n      <th>WS</th>\n      <th>WS/48</th>\n      <th>OBPM</th>\n      <th>DBPM</th>\n      <th>BPM</th>\n      <th>VORP</th>\n      <th>Year</th>\n    </tr>\n  </thead>\n  <tbody>\n    <tr>\n      <th>0</th>\n      <td>Kareem Abdul-Jabbar</td>\n      <td>C</td>\n      <td>32</td>\n      <td>LAL</td>\n      <td>15</td>\n      <td>0</td>\n      <td>41.2</td>\n      <td>13.2</td>\n      <td>23.1</td>\n      <td>0.572</td>\n      <td>...</td>\n      <td>28.5</td>\n      <td>2.2</td>\n      <td>1.0</td>\n      <td>3.3</td>\n      <td>0.253</td>\n      <td>7.4</td>\n      <td>1.5</td>\n      <td>8.9</td>\n      <td>1.7</td>\n      <td>1980</td>\n    </tr>\n    <tr>\n      <th>1</th>\n      <td>Alvan Adams</td>\n      <td>C</td>\n      <td>25</td>\n      <td>PHO</td>\n      <td>8</td>\n      <td>0</td>\n      <td>31.4</td>\n      <td>7.0</td>\n      <td>12.4</td>\n      <td>0.566</td>\n      <td>...</td>\n      <td>21.6</td>\n      <td>0.5</td>\n      <td>0.3</td>\n      <td>0.8</td>\n      <td>0.157</td>\n      <td>4.2</td>\n      <td>2.1</td>\n      <td>6.2</td>\n      <td>0.5</td>\n      <td>1980</td>\n    </tr>\n    <tr>\n      <th>2</th>\n      <td>Tiny Archibald</td>\n      <td>PG</td>\n      <td>31</td>\n      <td>BOS</td>\n      <td>9</td>\n      <td>0</td>\n      <td>36.9</td>\n      <td>5.0</td>\n      <td>9.9</td>\n      <td>0.506</td>\n      <td>...</td>\n      <td>18.6</td>\n      <td>0.4</td>\n      <td>0.4</td>\n      <td>0.7</td>\n      <td>0.105</td>\n      <td>1.9</td>\n      <td>-1.8</td>\n      <td>0.1</td>\n      <td>0.2</td>\n      <td>1980</td>\n    </tr>\n    <tr>\n      <th>3</th>\n      <td>James Bailey</td>\n      <td>PF</td>\n      <td>22</td>\n      <td>SEA</td>\n      <td>12</td>\n      <td>0</td>\n      <td>11.5</td>\n      <td>1.8</td>\n      <td>3.7</td>\n      <td>0.477</td>\n      <td>...</td>\n      <td>18.4</td>\n      <td>0.1</td>\n      <td>0.2</td>\n      <td>0.3</td>\n      <td>0.113</td>\n      <td>-1.1</td>\n      <td>2.3</td>\n      <td>1.2</td>\n      <td>0.1</td>\n      <td>1980</td>\n    </tr>\n    <tr>\n      <th>4</th>\n      <td>Greg Ballard</td>\n      <td>SF</td>\n      <td>25</td>\n      <td>WSB</td>\n      <td>2</td>\n      <td>0</td>\n      <td>36.5</td>\n      <td>4.5</td>\n      <td>14.0</td>\n      <td>0.321</td>\n      <td>...</td>\n      <td>21.9</td>\n      <td>-0.3</td>\n      <td>0.0</td>\n      <td>-0.3</td>\n      <td>-0.170</td>\n      <td>-7.4</td>\n      <td>-1.7</td>\n      <td>-9.1</td>\n      <td>-0.1</td>\n      <td>1980</td>\n    </tr>\n    <tr>\n      <th>...</th>\n      <td>...</td>\n      <td>...</td>\n      <td>...</td>\n      <td>...</td>\n      <td>...</td>\n      <td>...</td>\n      <td>...</td>\n      <td>...</td>\n      <td>...</td>\n      <td>...</td>\n      <td>...</td>\n      <td>...</td>\n      <td>...</td>\n      <td>...</td>\n      <td>...</td>\n      <td>...</td>\n      <td>...</td>\n      <td>...</td>\n      <td>...</td>\n      <td>...</td>\n      <td>...</td>\n    </tr>\n    <tr>\n      <th>8369</th>\n      <td>Ziaire Williams</td>\n      <td>SF</td>\n      <td>21</td>\n      <td>MEM</td>\n      <td>4</td>\n      <td>0</td>\n      <td>3.0</td>\n      <td>0.5</td>\n      <td>1.8</td>\n      <td>0.286</td>\n      <td>...</td>\n      <td>31.4</td>\n      <td>-0.1</td>\n      <td>0.0</td>\n      <td>-0.1</td>\n      <td>-0.275</td>\n      <td>-6.3</td>\n      <td>-1.9</td>\n      <td>-8.2</td>\n      <td>0.0</td>\n      <td>2023</td>\n    </tr>\n    <tr>\n      <th>8370</th>\n      <td>Trae Young</td>\n      <td>PG</td>\n      <td>24</td>\n      <td>ATL</td>\n      <td>6</td>\n      <td>6</td>\n      <td>38.3</td>\n      <td>10.0</td>\n      <td>24.8</td>\n      <td>0.403</td>\n      <td>...</td>\n      <td>34.3</td>\n      <td>0.3</td>\n      <td>0.0</td>\n      <td>0.3</td>\n      <td>0.066</td>\n      <td>4.7</td>\n      <td>-1.1</td>\n      <td>3.6</td>\n      <td>0.3</td>\n      <td>2023</td>\n    </tr>\n    <tr>\n      <th>8371</th>\n      <td>Omer Yurtseven</td>\n      <td>C</td>\n      <td>24</td>\n      <td>MIA</td>\n      <td>8</td>\n      <td>0</td>\n      <td>2.0</td>\n      <td>0.3</td>\n      <td>0.9</td>\n      <td>0.286</td>\n      <td>...</td>\n      <td>22.5</td>\n      <td>-0.1</td>\n      <td>0.0</td>\n      <td>0.0</td>\n      <td>-0.113</td>\n      <td>-8.6</td>\n      <td>-4.5</td>\n      <td>-13.1</td>\n      <td>0.0</td>\n      <td>2023</td>\n    </tr>\n    <tr>\n      <th>8372</th>\n      <td>Cody Zeller</td>\n      <td>C</td>\n      <td>30</td>\n      <td>MIA</td>\n      <td>21</td>\n      <td>0</td>\n      <td>8.3</td>\n      <td>1.0</td>\n      <td>1.7</td>\n      <td>0.571</td>\n      <td>...</td>\n      <td>14.1</td>\n      <td>-0.1</td>\n      <td>0.2</td>\n      <td>0.1</td>\n      <td>0.024</td>\n      <td>-6.7</td>\n      <td>-0.1</td>\n      <td>-6.8</td>\n      <td>-0.2</td>\n      <td>2023</td>\n    </tr>\n    <tr>\n      <th>8373</th>\n      <td>Ivica Zubac</td>\n      <td>C</td>\n      <td>25</td>\n      <td>LAC</td>\n      <td>5</td>\n      <td>5</td>\n      <td>26.0</td>\n      <td>3.4</td>\n      <td>6.0</td>\n      <td>0.567</td>\n      <td>...</td>\n      <td>15.5</td>\n      <td>0.1</td>\n      <td>0.0</td>\n      <td>0.1</td>\n      <td>0.041</td>\n      <td>-1.2</td>\n      <td>-1.0</td>\n      <td>-2.3</td>\n      <td>0.0</td>\n      <td>2023</td>\n    </tr>\n  </tbody>\n</table>\n<p>8374 rows × 50 columns</p>\n</div>"
     },
     "execution_count": 106,
     "metadata": {},
     "output_type": "execute_result"
    }
   ],
   "source": [
    "all_years_data = pd.read_csv('all_player_playoff_stats.csv',index_col=0)\n",
    "all_years_data['Player'] = all_years_data['Player'].str.strip('*')\n",
    "\n",
    "all_years_data"
   ],
   "metadata": {
    "collapsed": false,
    "pycharm": {
     "name": "#%%\n"
    }
   }
  },
  {
   "cell_type": "code",
   "execution_count": 116,
   "outputs": [
    {
     "name": "stdout",
     "output_type": "stream",
     "text": [
      "1980\n",
      "1981\n",
      "1982\n",
      "1983\n",
      "1984\n",
      "1985\n",
      "1986\n",
      "1987\n",
      "1988\n",
      "1989\n",
      "1990\n",
      "1991\n",
      "1992\n",
      "1993\n",
      "1994\n",
      "1995\n",
      "1996\n",
      "1997\n",
      "1998\n",
      "1999\n",
      "2000\n",
      "2001\n",
      "2002\n",
      "2003\n",
      "2004\n",
      "2005\n",
      "2006\n",
      "2007\n",
      "2008\n",
      "2009\n",
      "2010\n",
      "2011\n",
      "2012\n",
      "2013\n",
      "2014\n",
      "2015\n",
      "2016\n",
      "2017\n",
      "2018\n",
      "2019\n",
      "2020\n",
      "2021\n",
      "2022\n",
      "2023\n"
     ]
    }
   ],
   "source": [
    "import pandas as pd\n",
    "import os\n",
    "\n",
    "# Create an empty DataFrame to store combined player stats\n",
    "combined_player_stats = pd.DataFrame()\n",
    "\n",
    "# Directory path where player stats CSV files are located\n",
    "player_stats_directory = '../Basketball Reference Stat Scraper/player_stats'\n",
    "\n",
    "# List of years based on the filenames in the directory\n",
    "years = range(1980,2024)\n",
    "\n",
    "# Loop through the list of years and read player stats CSV files\n",
    "for year in years:\n",
    "\n",
    "    csv_filename = os.path.join(player_stats_directory, f'{year}_player_stats.csv')\n",
    "\n",
    "    if os.path.exists(csv_filename):\n",
    "\n",
    "        print(year)\n",
    "        year_data = pd.read_csv(csv_filename, index_col=0)\n",
    "        year_data['Player'] = year_data['Player'].str.strip('*')\n",
    "\n",
    "        # Concatenate the player stats for the current year to the combined_player_stats DataFrame\n",
    "        combined_player_stats = pd.concat([combined_player_stats, year_data], ignore_index=True)\n",
    "\n",
    "# Now, you have the combined_player_stats DataFrame with all player stats\n",
    "\n",
    "# Merge combined_player_stats with all_years_data based on both 'Year' and 'Player'\n",
    "merged_data = pd.merge(combined_player_stats, all_years_data, on=['Year', 'Player'], how='outer',suffixes=('','_playoffs'))\n",
    "\n",
    "# Now, you have a merged DataFrame containing both playoff stats and player stats,\n",
    "# where player data is correctly matched to the corresponding player and team for each year.\n",
    "merged_data.to_csv('all_player_stats_reg_and_playoffs.csv')"
   ],
   "metadata": {
    "collapsed": false,
    "pycharm": {
     "name": "#%%\n"
    }
   }
  },
  {
   "cell_type": "code",
   "execution_count": 108,
   "outputs": [],
   "source": [
    "merged_data = merged_data.sort_values(['Year','Player']).copy()"
   ],
   "metadata": {
    "collapsed": false,
    "pycharm": {
     "name": "#%%\n"
    }
   }
  },
  {
   "cell_type": "code",
   "execution_count": 110,
   "outputs": [
    {
     "data": {
      "text/plain": "                    Player  Career_Playoff_PPG_Increase\n0            Campy Russell                    11.292405\n1              Albert King                    10.284810\n2             Ray Williams                     9.375932\n3             Billy Knight                     9.036585\n4             Walter Berry                     7.094977\n5            Michael Adams                     7.082051\n6             Ron Anderson                     6.702439\n7              Elvin Hayes                     6.560123\n8              Billy Owens                     6.376793\n9            World B. Free                     6.258099\n10        Frank Brickowski                     6.204762\n11              Ron Brewer                     6.141870\n12            Mike Woodson                     6.040741\n13          Vernon Maxwell                     6.026016\n14          David Thompson                     5.788000\n15  Micheal Ray Richardson                     5.733292\n16            Mike Gminski                     5.726585\n17           Mikal Bridges                     5.632831\n18       Orlando Woolridge                     5.631973\n19          Rod Strickland                     5.562599\n20        Micheal Williams                     5.376793\n21            Chuck Person                     5.317708\n22           Kelvin Ransey                     5.243333\n23           Kerry Kittles                     5.209957\n24             Roy Tarpley                     5.193333",
      "text/html": "<div>\n<style scoped>\n    .dataframe tbody tr th:only-of-type {\n        vertical-align: middle;\n    }\n\n    .dataframe tbody tr th {\n        vertical-align: top;\n    }\n\n    .dataframe thead th {\n        text-align: right;\n    }\n</style>\n<table border=\"1\" class=\"dataframe\">\n  <thead>\n    <tr style=\"text-align: right;\">\n      <th></th>\n      <th>Player</th>\n      <th>Career_Playoff_PPG_Increase</th>\n    </tr>\n  </thead>\n  <tbody>\n    <tr>\n      <th>0</th>\n      <td>Campy Russell</td>\n      <td>11.292405</td>\n    </tr>\n    <tr>\n      <th>1</th>\n      <td>Albert King</td>\n      <td>10.284810</td>\n    </tr>\n    <tr>\n      <th>2</th>\n      <td>Ray Williams</td>\n      <td>9.375932</td>\n    </tr>\n    <tr>\n      <th>3</th>\n      <td>Billy Knight</td>\n      <td>9.036585</td>\n    </tr>\n    <tr>\n      <th>4</th>\n      <td>Walter Berry</td>\n      <td>7.094977</td>\n    </tr>\n    <tr>\n      <th>5</th>\n      <td>Michael Adams</td>\n      <td>7.082051</td>\n    </tr>\n    <tr>\n      <th>6</th>\n      <td>Ron Anderson</td>\n      <td>6.702439</td>\n    </tr>\n    <tr>\n      <th>7</th>\n      <td>Elvin Hayes</td>\n      <td>6.560123</td>\n    </tr>\n    <tr>\n      <th>8</th>\n      <td>Billy Owens</td>\n      <td>6.376793</td>\n    </tr>\n    <tr>\n      <th>9</th>\n      <td>World B. Free</td>\n      <td>6.258099</td>\n    </tr>\n    <tr>\n      <th>10</th>\n      <td>Frank Brickowski</td>\n      <td>6.204762</td>\n    </tr>\n    <tr>\n      <th>11</th>\n      <td>Ron Brewer</td>\n      <td>6.141870</td>\n    </tr>\n    <tr>\n      <th>12</th>\n      <td>Mike Woodson</td>\n      <td>6.040741</td>\n    </tr>\n    <tr>\n      <th>13</th>\n      <td>Vernon Maxwell</td>\n      <td>6.026016</td>\n    </tr>\n    <tr>\n      <th>14</th>\n      <td>David Thompson</td>\n      <td>5.788000</td>\n    </tr>\n    <tr>\n      <th>15</th>\n      <td>Micheal Ray Richardson</td>\n      <td>5.733292</td>\n    </tr>\n    <tr>\n      <th>16</th>\n      <td>Mike Gminski</td>\n      <td>5.726585</td>\n    </tr>\n    <tr>\n      <th>17</th>\n      <td>Mikal Bridges</td>\n      <td>5.632831</td>\n    </tr>\n    <tr>\n      <th>18</th>\n      <td>Orlando Woolridge</td>\n      <td>5.631973</td>\n    </tr>\n    <tr>\n      <th>19</th>\n      <td>Rod Strickland</td>\n      <td>5.562599</td>\n    </tr>\n    <tr>\n      <th>20</th>\n      <td>Micheal Williams</td>\n      <td>5.376793</td>\n    </tr>\n    <tr>\n      <th>21</th>\n      <td>Chuck Person</td>\n      <td>5.317708</td>\n    </tr>\n    <tr>\n      <th>22</th>\n      <td>Kelvin Ransey</td>\n      <td>5.243333</td>\n    </tr>\n    <tr>\n      <th>23</th>\n      <td>Kerry Kittles</td>\n      <td>5.209957</td>\n    </tr>\n    <tr>\n      <th>24</th>\n      <td>Roy Tarpley</td>\n      <td>5.193333</td>\n    </tr>\n  </tbody>\n</table>\n</div>"
     },
     "execution_count": 110,
     "metadata": {},
     "output_type": "execute_result"
    }
   ],
   "source": [
    "import pandas as pd\n",
    "import numpy as np\n",
    "\n",
    "# Assuming you have filtered the data as mentioned in your previous code\n",
    "filtered_data = merged_data[(merged_data['PTS'] >= 15) & (merged_data['G'] > 25)].copy()\n",
    "\n",
    "# Function to calculate weighted average PPG\n",
    "def weighted_average_ppg(group, points_col, games_col):\n",
    "    values = group[points_col] / group[games_col]\n",
    "    weights = group[games_col]\n",
    "    return np.average(values, weights=weights)\n",
    "\n",
    "# Calculate the weighted average PPG in the playoffs for each player across all the years\n",
    "weighted_playoff_ppg = filtered_data.groupby('Player').apply(weighted_average_ppg, 'PTS_playoffs', 'G_playoffs')\n",
    "\n",
    "# Calculate the weighted average PPG during the regular season for each player across all the years\n",
    "weighted_regular_season_ppg = filtered_data.groupby('Player').apply(weighted_average_ppg, 'PTS', 'G')\n",
    "\n",
    "# Calculate the career increase in average PPG during the playoffs for each player\n",
    "career_playoff_ppg_increase = weighted_playoff_ppg - weighted_regular_season_ppg\n",
    "\n",
    "# Create a DataFrame to store the results\n",
    "result_df = pd.DataFrame({\n",
    "    'Player': career_playoff_ppg_increase.index,\n",
    "    'Career_Playoff_PPG_Increase': career_playoff_ppg_increase\n",
    "})\n",
    "\n",
    "# Sort the DataFrame by Career Playoff PPG Increase in descending order\n",
    "result_df = result_df.sort_values(by='Career_Playoff_PPG_Increase', ascending=False).reset_index(drop=True)\n",
    "\n",
    "# Display the top 25 players with the largest career increase in average PPG during the playoffs\n",
    "top_25_players = result_df.head(25)\n",
    "top_25_players.reset_index(drop=True)\n"
   ],
   "metadata": {
    "collapsed": false,
    "pycharm": {
     "name": "#%%\n"
    }
   }
  },
  {
   "cell_type": "code",
   "execution_count": 114,
   "outputs": [
    {
     "data": {
      "text/plain": "            Player  Career_Playoff_PPG_Increase       FG%       3P%      FT%  \\\n0    Campy Russell                    11.292405  0.464000  0.308000  0.78100   \n1      Albert King                    10.284810  0.475000  0.261000  0.77500   \n2     Ray Williams                     9.375932  0.461509  0.200366  0.82464   \n3     Billy Knight                     9.036585  0.533000  0.158000  0.83200   \n4     Walter Berry                     7.094977  0.563000  0.000000  0.60000   \n..             ...                          ...       ...       ...      ...   \n436  Jameer Nelson                     0.362381  0.503000  0.453000  0.88700   \n437   Kevin Gamble                     0.355211  0.587000  0.000000  0.81500   \n438  Kendrick Nunn                     0.178308  0.439000  0.350000  0.85000   \n439  Richard Dumas                     0.144746  0.524000  0.333000  0.70700   \n440  Charles Smith                    -0.037179  0.520000  0.083000  0.79400   \n\n          AST       TRB       STL  BLK  \n0    3.300000  4.500000  1.300000  0.1  \n1    3.700000  5.800000  1.200000  0.5  \n2    5.754658  4.049068  2.350932  0.5  \n3    1.900000  5.000000  1.000000  0.1  \n4    1.500000  5.400000  0.800000  0.9  \n..        ...       ...       ...  ...  \n436  5.400000  3.500000  1.200000  0.1  \n437  3.100000  3.300000  1.200000  0.4  \n438  3.300000  2.700000  0.800000  0.2  \n439  1.300000  4.600000  1.800000  0.8  \n440  1.500000  6.700000  1.100000  1.5  \n\n[441 rows x 9 columns]",
      "text/html": "<div>\n<style scoped>\n    .dataframe tbody tr th:only-of-type {\n        vertical-align: middle;\n    }\n\n    .dataframe tbody tr th {\n        vertical-align: top;\n    }\n\n    .dataframe thead th {\n        text-align: right;\n    }\n</style>\n<table border=\"1\" class=\"dataframe\">\n  <thead>\n    <tr style=\"text-align: right;\">\n      <th></th>\n      <th>Player</th>\n      <th>Career_Playoff_PPG_Increase</th>\n      <th>FG%</th>\n      <th>3P%</th>\n      <th>FT%</th>\n      <th>AST</th>\n      <th>TRB</th>\n      <th>STL</th>\n      <th>BLK</th>\n    </tr>\n  </thead>\n  <tbody>\n    <tr>\n      <th>0</th>\n      <td>Campy Russell</td>\n      <td>11.292405</td>\n      <td>0.464000</td>\n      <td>0.308000</td>\n      <td>0.78100</td>\n      <td>3.300000</td>\n      <td>4.500000</td>\n      <td>1.300000</td>\n      <td>0.1</td>\n    </tr>\n    <tr>\n      <th>1</th>\n      <td>Albert King</td>\n      <td>10.284810</td>\n      <td>0.475000</td>\n      <td>0.261000</td>\n      <td>0.77500</td>\n      <td>3.700000</td>\n      <td>5.800000</td>\n      <td>1.200000</td>\n      <td>0.5</td>\n    </tr>\n    <tr>\n      <th>2</th>\n      <td>Ray Williams</td>\n      <td>9.375932</td>\n      <td>0.461509</td>\n      <td>0.200366</td>\n      <td>0.82464</td>\n      <td>5.754658</td>\n      <td>4.049068</td>\n      <td>2.350932</td>\n      <td>0.5</td>\n    </tr>\n    <tr>\n      <th>3</th>\n      <td>Billy Knight</td>\n      <td>9.036585</td>\n      <td>0.533000</td>\n      <td>0.158000</td>\n      <td>0.83200</td>\n      <td>1.900000</td>\n      <td>5.000000</td>\n      <td>1.000000</td>\n      <td>0.1</td>\n    </tr>\n    <tr>\n      <th>4</th>\n      <td>Walter Berry</td>\n      <td>7.094977</td>\n      <td>0.563000</td>\n      <td>0.000000</td>\n      <td>0.60000</td>\n      <td>1.500000</td>\n      <td>5.400000</td>\n      <td>0.800000</td>\n      <td>0.9</td>\n    </tr>\n    <tr>\n      <th>...</th>\n      <td>...</td>\n      <td>...</td>\n      <td>...</td>\n      <td>...</td>\n      <td>...</td>\n      <td>...</td>\n      <td>...</td>\n      <td>...</td>\n      <td>...</td>\n    </tr>\n    <tr>\n      <th>436</th>\n      <td>Jameer Nelson</td>\n      <td>0.362381</td>\n      <td>0.503000</td>\n      <td>0.453000</td>\n      <td>0.88700</td>\n      <td>5.400000</td>\n      <td>3.500000</td>\n      <td>1.200000</td>\n      <td>0.1</td>\n    </tr>\n    <tr>\n      <th>437</th>\n      <td>Kevin Gamble</td>\n      <td>0.355211</td>\n      <td>0.587000</td>\n      <td>0.000000</td>\n      <td>0.81500</td>\n      <td>3.100000</td>\n      <td>3.300000</td>\n      <td>1.200000</td>\n      <td>0.4</td>\n    </tr>\n    <tr>\n      <th>438</th>\n      <td>Kendrick Nunn</td>\n      <td>0.178308</td>\n      <td>0.439000</td>\n      <td>0.350000</td>\n      <td>0.85000</td>\n      <td>3.300000</td>\n      <td>2.700000</td>\n      <td>0.800000</td>\n      <td>0.2</td>\n    </tr>\n    <tr>\n      <th>439</th>\n      <td>Richard Dumas</td>\n      <td>0.144746</td>\n      <td>0.524000</td>\n      <td>0.333000</td>\n      <td>0.70700</td>\n      <td>1.300000</td>\n      <td>4.600000</td>\n      <td>1.800000</td>\n      <td>0.8</td>\n    </tr>\n    <tr>\n      <th>440</th>\n      <td>Charles Smith</td>\n      <td>-0.037179</td>\n      <td>0.520000</td>\n      <td>0.083000</td>\n      <td>0.79400</td>\n      <td>1.500000</td>\n      <td>6.700000</td>\n      <td>1.100000</td>\n      <td>1.5</td>\n    </tr>\n  </tbody>\n</table>\n<p>441 rows × 9 columns</p>\n</div>"
     },
     "execution_count": 114,
     "metadata": {},
     "output_type": "execute_result"
    }
   ],
   "source": [
    "# Columns that you want to include in the result DataFrame\n",
    "additional_cols = ['FG%', '3P%', 'FT%', 'AST', 'TRB', 'STL', 'BLK']\n",
    "\n",
    "# Function to calculate weighted average for a particular column\n",
    "def weighted_average(group, col, weight_col):\n",
    "    values = group[col]\n",
    "    weights = group[weight_col]\n",
    "    return np.average(values, weights=weights)\n",
    "\n",
    "# Create a dictionary to store career stats for each player\n",
    "career_stats_dict = {}\n",
    "for col in additional_cols:\n",
    "    career_stats_dict[col] = filtered_data.groupby('Player').apply(weighted_average, col, 'G')\n",
    "\n",
    "# Convert the dictionary to a DataFrame\n",
    "career_stats_df = pd.DataFrame(career_stats_dict)\n",
    "\n",
    "# Merge with the existing result DataFrame\n",
    "final_result_df = pd.merge(result_df, career_stats_df, left_on='Player', right_index=True, how='left')\n",
    "\n",
    "# The final_result_df will now have additional career stats for each player\n",
    "final_result_df\n"
   ],
   "metadata": {
    "collapsed": false,
    "pycharm": {
     "name": "#%%\n"
    }
   }
  },
  {
   "cell_type": "code",
   "execution_count": 111,
   "outputs": [
    {
     "data": {
      "text/plain": "            Player  Career_Playoff_PPG_Increase\n0    Campy Russell                    11.292405\n1      Albert King                    10.284810\n2     Ray Williams                     9.375932\n3     Billy Knight                     9.036585\n4     Walter Berry                     7.094977\n..             ...                          ...\n436  Jameer Nelson                     0.362381\n437   Kevin Gamble                     0.355211\n438  Kendrick Nunn                     0.178308\n439  Richard Dumas                     0.144746\n440  Charles Smith                    -0.037179\n\n[441 rows x 2 columns]",
      "text/html": "<div>\n<style scoped>\n    .dataframe tbody tr th:only-of-type {\n        vertical-align: middle;\n    }\n\n    .dataframe tbody tr th {\n        vertical-align: top;\n    }\n\n    .dataframe thead th {\n        text-align: right;\n    }\n</style>\n<table border=\"1\" class=\"dataframe\">\n  <thead>\n    <tr style=\"text-align: right;\">\n      <th></th>\n      <th>Player</th>\n      <th>Career_Playoff_PPG_Increase</th>\n    </tr>\n  </thead>\n  <tbody>\n    <tr>\n      <th>0</th>\n      <td>Campy Russell</td>\n      <td>11.292405</td>\n    </tr>\n    <tr>\n      <th>1</th>\n      <td>Albert King</td>\n      <td>10.284810</td>\n    </tr>\n    <tr>\n      <th>2</th>\n      <td>Ray Williams</td>\n      <td>9.375932</td>\n    </tr>\n    <tr>\n      <th>3</th>\n      <td>Billy Knight</td>\n      <td>9.036585</td>\n    </tr>\n    <tr>\n      <th>4</th>\n      <td>Walter Berry</td>\n      <td>7.094977</td>\n    </tr>\n    <tr>\n      <th>...</th>\n      <td>...</td>\n      <td>...</td>\n    </tr>\n    <tr>\n      <th>436</th>\n      <td>Jameer Nelson</td>\n      <td>0.362381</td>\n    </tr>\n    <tr>\n      <th>437</th>\n      <td>Kevin Gamble</td>\n      <td>0.355211</td>\n    </tr>\n    <tr>\n      <th>438</th>\n      <td>Kendrick Nunn</td>\n      <td>0.178308</td>\n    </tr>\n    <tr>\n      <th>439</th>\n      <td>Richard Dumas</td>\n      <td>0.144746</td>\n    </tr>\n    <tr>\n      <th>440</th>\n      <td>Charles Smith</td>\n      <td>-0.037179</td>\n    </tr>\n  </tbody>\n</table>\n<p>441 rows × 2 columns</p>\n</div>"
     },
     "execution_count": 111,
     "metadata": {},
     "output_type": "execute_result"
    }
   ],
   "source": [
    "result_df"
   ],
   "metadata": {
    "collapsed": false,
    "pycharm": {
     "name": "#%%\n"
    }
   }
  },
  {
   "cell_type": "code",
   "execution_count": null,
   "outputs": [],
   "source": [],
   "metadata": {
    "collapsed": false,
    "pycharm": {
     "name": "#%%\n"
    }
   }
  }
 ],
 "metadata": {
  "kernelspec": {
   "display_name": "Python 3",
   "language": "python",
   "name": "python3"
  },
  "language_info": {
   "codemirror_mode": {
    "name": "ipython",
    "version": 2
   },
   "file_extension": ".py",
   "mimetype": "text/x-python",
   "name": "python",
   "nbconvert_exporter": "python",
   "pygments_lexer": "ipython2",
   "version": "2.7.6"
  }
 },
 "nbformat": 4,
 "nbformat_minor": 0
}