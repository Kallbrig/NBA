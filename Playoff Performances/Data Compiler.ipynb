{
 "cells": [
  {
   "cell_type": "code",
   "execution_count": 71,
   "metadata": {
    "collapsed": true
   },
   "outputs": [],
   "source": [
    "import pandas as pd"
   ]
  },
  {
   "cell_type": "code",
   "execution_count": 72,
   "outputs": [],
   "source": [
    "df = pd.read_csv('../Basketball Reference Stat Scraper/team_stats/all.csv',index_col=0).drop(columns=['Unnamed: 0'])"
   ],
   "metadata": {
    "collapsed": false,
    "pycharm": {
     "name": "#%%\n"
    }
   }
  },
  {
   "cell_type": "code",
   "execution_count": 73,
   "outputs": [
    {
     "data": {
      "text/plain": "                    Team   G     MP    FG   FGA    FG%    3P   3PA    3P%  \\\n0        Boston Celtics*  82  242.4  41.9  89.2  0.470   0.9   3.2  0.286   \n1    Los Angeles Lakers*  82  242.4  45.4  96.6  0.470   1.0   3.3  0.285   \n2    Philadelphia 76ers*  82  242.1  42.0  92.2  0.455   0.9   3.4  0.271   \n3   Seattle SuperSonics*  82  241.8  41.6  90.5  0.459   0.7   2.9  0.246   \n4          Phoenix Suns*  82  240.9  43.5  91.2  0.476   1.2   3.6  0.337   \n..                   ...  ..    ...   ...   ...    ...   ...   ...    ...   \n26     Charlotte Hornets  82  241.8  41.3  90.4  0.457  10.7  32.5  0.330   \n27     San Antonio Spurs  82  242.1  43.1  92.6  0.465  11.1  32.2  0.345   \n28       Houston Rockets  82  240.9  40.6  88.9  0.457  10.4  31.9  0.327   \n29       Detroit Pistons  82  241.5  39.6  87.1  0.454  11.4  32.4  0.351   \n30   League Average 2023  82  241.8  42.0  88.3  0.475  12.3  34.2  0.361   \n\n      2P  ...   SOS   SRS   ORtg   DRtg  NRtg   Pace    FTr   3PAr    TS%  \\\n0   41.0  ... -0.42  7.37  109.4  101.9   7.5  102.6  0.332  0.057  0.550   \n1   44.5  ... -0.51  5.40  109.5  103.9   5.6  104.1  0.284  0.014  0.569   \n2   41.1  ... -0.18  4.04  105.0  101.0   4.0  103.0  0.340  0.017  0.544   \n3   40.8  ... -0.42  4.24  105.8  101.2   4.6  101.8  0.298  0.025  0.520   \n4   42.2  ... -0.35  3.25  105.6  102.2   3.4  104.8  0.341  0.039  0.548   \n..   ...  ...   ...   ...    ...    ...   ...    ...    ...    ...    ...   \n26  30.5  ...  0.35 -5.89  109.2  115.3  -6.1  100.8  0.261  0.360  0.550   \n27  32.0  ...  0.22 -9.82  110.2  120.0  -9.8  101.6  0.229  0.348  0.554   \n28  30.2  ...  0.24 -7.62  111.4  119.3  -7.9   99.0  0.285  0.359  0.554   \n29  28.2  ...  0.49 -7.73  110.7  118.9  -8.2   99.0  0.295  0.372  0.561   \n30  29.6  ...  0.00  0.00  114.8  114.8   NaN   99.1  0.266  0.387  0.581   \n\n      Year  \n0   1980.0  \n1   1980.0  \n2   1980.0  \n3   1980.0  \n4   1980.0  \n..     ...  \n26  2023.0  \n27  2023.0  \n28  2023.0  \n29  2023.0  \n30  2023.0  \n\n[1268 rows x 38 columns]",
      "text/html": "<div>\n<style scoped>\n    .dataframe tbody tr th:only-of-type {\n        vertical-align: middle;\n    }\n\n    .dataframe tbody tr th {\n        vertical-align: top;\n    }\n\n    .dataframe thead th {\n        text-align: right;\n    }\n</style>\n<table border=\"1\" class=\"dataframe\">\n  <thead>\n    <tr style=\"text-align: right;\">\n      <th></th>\n      <th>Team</th>\n      <th>G</th>\n      <th>MP</th>\n      <th>FG</th>\n      <th>FGA</th>\n      <th>FG%</th>\n      <th>3P</th>\n      <th>3PA</th>\n      <th>3P%</th>\n      <th>2P</th>\n      <th>...</th>\n      <th>SOS</th>\n      <th>SRS</th>\n      <th>ORtg</th>\n      <th>DRtg</th>\n      <th>NRtg</th>\n      <th>Pace</th>\n      <th>FTr</th>\n      <th>3PAr</th>\n      <th>TS%</th>\n      <th>Year</th>\n    </tr>\n  </thead>\n  <tbody>\n    <tr>\n      <th>0</th>\n      <td>Boston Celtics*</td>\n      <td>82</td>\n      <td>242.4</td>\n      <td>41.9</td>\n      <td>89.2</td>\n      <td>0.470</td>\n      <td>0.9</td>\n      <td>3.2</td>\n      <td>0.286</td>\n      <td>41.0</td>\n      <td>...</td>\n      <td>-0.42</td>\n      <td>7.37</td>\n      <td>109.4</td>\n      <td>101.9</td>\n      <td>7.5</td>\n      <td>102.6</td>\n      <td>0.332</td>\n      <td>0.057</td>\n      <td>0.550</td>\n      <td>1980.0</td>\n    </tr>\n    <tr>\n      <th>1</th>\n      <td>Los Angeles Lakers*</td>\n      <td>82</td>\n      <td>242.4</td>\n      <td>45.4</td>\n      <td>96.6</td>\n      <td>0.470</td>\n      <td>1.0</td>\n      <td>3.3</td>\n      <td>0.285</td>\n      <td>44.5</td>\n      <td>...</td>\n      <td>-0.51</td>\n      <td>5.40</td>\n      <td>109.5</td>\n      <td>103.9</td>\n      <td>5.6</td>\n      <td>104.1</td>\n      <td>0.284</td>\n      <td>0.014</td>\n      <td>0.569</td>\n      <td>1980.0</td>\n    </tr>\n    <tr>\n      <th>2</th>\n      <td>Philadelphia 76ers*</td>\n      <td>82</td>\n      <td>242.1</td>\n      <td>42.0</td>\n      <td>92.2</td>\n      <td>0.455</td>\n      <td>0.9</td>\n      <td>3.4</td>\n      <td>0.271</td>\n      <td>41.1</td>\n      <td>...</td>\n      <td>-0.18</td>\n      <td>4.04</td>\n      <td>105.0</td>\n      <td>101.0</td>\n      <td>4.0</td>\n      <td>103.0</td>\n      <td>0.340</td>\n      <td>0.017</td>\n      <td>0.544</td>\n      <td>1980.0</td>\n    </tr>\n    <tr>\n      <th>3</th>\n      <td>Seattle SuperSonics*</td>\n      <td>82</td>\n      <td>241.8</td>\n      <td>41.6</td>\n      <td>90.5</td>\n      <td>0.459</td>\n      <td>0.7</td>\n      <td>2.9</td>\n      <td>0.246</td>\n      <td>40.8</td>\n      <td>...</td>\n      <td>-0.42</td>\n      <td>4.24</td>\n      <td>105.8</td>\n      <td>101.2</td>\n      <td>4.6</td>\n      <td>101.8</td>\n      <td>0.298</td>\n      <td>0.025</td>\n      <td>0.520</td>\n      <td>1980.0</td>\n    </tr>\n    <tr>\n      <th>4</th>\n      <td>Phoenix Suns*</td>\n      <td>82</td>\n      <td>240.9</td>\n      <td>43.5</td>\n      <td>91.2</td>\n      <td>0.476</td>\n      <td>1.2</td>\n      <td>3.6</td>\n      <td>0.337</td>\n      <td>42.2</td>\n      <td>...</td>\n      <td>-0.35</td>\n      <td>3.25</td>\n      <td>105.6</td>\n      <td>102.2</td>\n      <td>3.4</td>\n      <td>104.8</td>\n      <td>0.341</td>\n      <td>0.039</td>\n      <td>0.548</td>\n      <td>1980.0</td>\n    </tr>\n    <tr>\n      <th>...</th>\n      <td>...</td>\n      <td>...</td>\n      <td>...</td>\n      <td>...</td>\n      <td>...</td>\n      <td>...</td>\n      <td>...</td>\n      <td>...</td>\n      <td>...</td>\n      <td>...</td>\n      <td>...</td>\n      <td>...</td>\n      <td>...</td>\n      <td>...</td>\n      <td>...</td>\n      <td>...</td>\n      <td>...</td>\n      <td>...</td>\n      <td>...</td>\n      <td>...</td>\n      <td>...</td>\n    </tr>\n    <tr>\n      <th>26</th>\n      <td>Charlotte Hornets</td>\n      <td>82</td>\n      <td>241.8</td>\n      <td>41.3</td>\n      <td>90.4</td>\n      <td>0.457</td>\n      <td>10.7</td>\n      <td>32.5</td>\n      <td>0.330</td>\n      <td>30.5</td>\n      <td>...</td>\n      <td>0.35</td>\n      <td>-5.89</td>\n      <td>109.2</td>\n      <td>115.3</td>\n      <td>-6.1</td>\n      <td>100.8</td>\n      <td>0.261</td>\n      <td>0.360</td>\n      <td>0.550</td>\n      <td>2023.0</td>\n    </tr>\n    <tr>\n      <th>27</th>\n      <td>San Antonio Spurs</td>\n      <td>82</td>\n      <td>242.1</td>\n      <td>43.1</td>\n      <td>92.6</td>\n      <td>0.465</td>\n      <td>11.1</td>\n      <td>32.2</td>\n      <td>0.345</td>\n      <td>32.0</td>\n      <td>...</td>\n      <td>0.22</td>\n      <td>-9.82</td>\n      <td>110.2</td>\n      <td>120.0</td>\n      <td>-9.8</td>\n      <td>101.6</td>\n      <td>0.229</td>\n      <td>0.348</td>\n      <td>0.554</td>\n      <td>2023.0</td>\n    </tr>\n    <tr>\n      <th>28</th>\n      <td>Houston Rockets</td>\n      <td>82</td>\n      <td>240.9</td>\n      <td>40.6</td>\n      <td>88.9</td>\n      <td>0.457</td>\n      <td>10.4</td>\n      <td>31.9</td>\n      <td>0.327</td>\n      <td>30.2</td>\n      <td>...</td>\n      <td>0.24</td>\n      <td>-7.62</td>\n      <td>111.4</td>\n      <td>119.3</td>\n      <td>-7.9</td>\n      <td>99.0</td>\n      <td>0.285</td>\n      <td>0.359</td>\n      <td>0.554</td>\n      <td>2023.0</td>\n    </tr>\n    <tr>\n      <th>29</th>\n      <td>Detroit Pistons</td>\n      <td>82</td>\n      <td>241.5</td>\n      <td>39.6</td>\n      <td>87.1</td>\n      <td>0.454</td>\n      <td>11.4</td>\n      <td>32.4</td>\n      <td>0.351</td>\n      <td>28.2</td>\n      <td>...</td>\n      <td>0.49</td>\n      <td>-7.73</td>\n      <td>110.7</td>\n      <td>118.9</td>\n      <td>-8.2</td>\n      <td>99.0</td>\n      <td>0.295</td>\n      <td>0.372</td>\n      <td>0.561</td>\n      <td>2023.0</td>\n    </tr>\n    <tr>\n      <th>30</th>\n      <td>League Average 2023</td>\n      <td>82</td>\n      <td>241.8</td>\n      <td>42.0</td>\n      <td>88.3</td>\n      <td>0.475</td>\n      <td>12.3</td>\n      <td>34.2</td>\n      <td>0.361</td>\n      <td>29.6</td>\n      <td>...</td>\n      <td>0.00</td>\n      <td>0.00</td>\n      <td>114.8</td>\n      <td>114.8</td>\n      <td>NaN</td>\n      <td>99.1</td>\n      <td>0.266</td>\n      <td>0.387</td>\n      <td>0.581</td>\n      <td>2023.0</td>\n    </tr>\n  </tbody>\n</table>\n<p>1268 rows × 38 columns</p>\n</div>"
     },
     "execution_count": 73,
     "metadata": {},
     "output_type": "execute_result"
    }
   ],
   "source": [
    "df"
   ],
   "metadata": {
    "collapsed": false,
    "pycharm": {
     "name": "#%%\n"
    }
   }
  },
  {
   "cell_type": "code",
   "execution_count": 74,
   "outputs": [],
   "source": [
    "old = pd.read_csv('../Basketball Reference Stat Scraper/team_stats/pre_1980/all_pre_1980.csv',index_col=0)"
   ],
   "metadata": {
    "collapsed": false,
    "pycharm": {
     "name": "#%%\n"
    }
   }
  },
  {
   "cell_type": "code",
   "execution_count": 75,
   "outputs": [
    {
     "data": {
      "text/plain": "                     Team     G     MP    FG   FGA    FG%    3P   3PA    3P%  \\\n0     Syracuse Nationals*  64.0    NaN  29.2  82.4  0.354   NaN   NaN    NaN   \n1     Minneapolis Lakers*  68.0    NaN  31.5  85.8  0.367   NaN   NaN    NaN   \n2       Rochester Royals*  68.0    NaN  28.8  77.2  0.373   NaN   NaN    NaN   \n3        New York Knicks*  68.0    NaN  27.8  78.7  0.353   NaN   NaN    NaN   \n4     Fort Wayne Pistons*  68.0    NaN  27.6  86.8  0.318   NaN   NaN    NaN   \n..                    ...   ...    ...   ...   ...    ...   ...   ...    ...   \n26  Oklahoma City Thunder  75.0  241.7  38.2  89.3  0.428  12.1  37.6  0.321   \n27        Houston Rockets  76.0  241.0  39.1  86.0  0.455  13.4  38.5  0.349   \n28        Detroit Pistons  76.0  241.3  38.1  88.7  0.430  11.1  34.2  0.326   \n29          Orlando Magic  76.0  241.3  38.2  88.2  0.434  12.0  36.4  0.329   \n30    League Average 2022  76.0  241.4  40.5  88.1  0.460  12.4  35.2  0.352   \n\n      2P  ...   SOS   SRS   ORtg   DRtg  NRtg   Pace    FTr   3PAr    TS%  \\\n0   29.2  ... -1.70  6.48    NaN    NaN   NaN    NaN  0.454    NaN  0.429   \n1   31.5  ... -0.09  8.25    NaN    NaN   NaN    NaN  0.333    NaN  0.427   \n2   28.8  ... -0.05  7.72    NaN    NaN   NaN    NaN  0.442    NaN  0.447   \n3   27.8  ...  0.41  2.53    NaN    NaN   NaN    NaN  0.449    NaN  0.428   \n4   27.6  ...  0.47  1.84    NaN    NaN   NaN    NaN  0.395    NaN  0.389   \n..   ...  ...   ...   ...    ...    ...   ...    ...    ...    ...    ...   \n26  26.2  ...  0.30 -7.13  104.6  112.0  -7.4   98.5  0.223  0.421  0.529   \n27  25.7  ...  0.33 -8.21  107.9  116.3  -8.4  100.8  0.285  0.447  0.564   \n28  27.0  ...  0.37 -7.45  105.7  113.6  -7.9   98.4  0.248  0.386  0.532   \n29  26.2  ...  0.25 -7.49  104.3  112.1  -7.8   99.2  0.226  0.413  0.537   \n30  28.1  ...  0.00  0.00  111.6  111.6   NaN   98.1  0.247  0.399  0.564   \n\n      Year  \n0   1950.0  \n1   1950.0  \n2   1950.0  \n3   1950.0  \n4   1950.0  \n..     ...  \n26  2022.0  \n27  2022.0  \n28  2022.0  \n29  2022.0  \n30  2022.0  \n\n[1646 rows x 38 columns]",
      "text/html": "<div>\n<style scoped>\n    .dataframe tbody tr th:only-of-type {\n        vertical-align: middle;\n    }\n\n    .dataframe tbody tr th {\n        vertical-align: top;\n    }\n\n    .dataframe thead th {\n        text-align: right;\n    }\n</style>\n<table border=\"1\" class=\"dataframe\">\n  <thead>\n    <tr style=\"text-align: right;\">\n      <th></th>\n      <th>Team</th>\n      <th>G</th>\n      <th>MP</th>\n      <th>FG</th>\n      <th>FGA</th>\n      <th>FG%</th>\n      <th>3P</th>\n      <th>3PA</th>\n      <th>3P%</th>\n      <th>2P</th>\n      <th>...</th>\n      <th>SOS</th>\n      <th>SRS</th>\n      <th>ORtg</th>\n      <th>DRtg</th>\n      <th>NRtg</th>\n      <th>Pace</th>\n      <th>FTr</th>\n      <th>3PAr</th>\n      <th>TS%</th>\n      <th>Year</th>\n    </tr>\n  </thead>\n  <tbody>\n    <tr>\n      <th>0</th>\n      <td>Syracuse Nationals*</td>\n      <td>64.0</td>\n      <td>NaN</td>\n      <td>29.2</td>\n      <td>82.4</td>\n      <td>0.354</td>\n      <td>NaN</td>\n      <td>NaN</td>\n      <td>NaN</td>\n      <td>29.2</td>\n      <td>...</td>\n      <td>-1.70</td>\n      <td>6.48</td>\n      <td>NaN</td>\n      <td>NaN</td>\n      <td>NaN</td>\n      <td>NaN</td>\n      <td>0.454</td>\n      <td>NaN</td>\n      <td>0.429</td>\n      <td>1950.0</td>\n    </tr>\n    <tr>\n      <th>1</th>\n      <td>Minneapolis Lakers*</td>\n      <td>68.0</td>\n      <td>NaN</td>\n      <td>31.5</td>\n      <td>85.8</td>\n      <td>0.367</td>\n      <td>NaN</td>\n      <td>NaN</td>\n      <td>NaN</td>\n      <td>31.5</td>\n      <td>...</td>\n      <td>-0.09</td>\n      <td>8.25</td>\n      <td>NaN</td>\n      <td>NaN</td>\n      <td>NaN</td>\n      <td>NaN</td>\n      <td>0.333</td>\n      <td>NaN</td>\n      <td>0.427</td>\n      <td>1950.0</td>\n    </tr>\n    <tr>\n      <th>2</th>\n      <td>Rochester Royals*</td>\n      <td>68.0</td>\n      <td>NaN</td>\n      <td>28.8</td>\n      <td>77.2</td>\n      <td>0.373</td>\n      <td>NaN</td>\n      <td>NaN</td>\n      <td>NaN</td>\n      <td>28.8</td>\n      <td>...</td>\n      <td>-0.05</td>\n      <td>7.72</td>\n      <td>NaN</td>\n      <td>NaN</td>\n      <td>NaN</td>\n      <td>NaN</td>\n      <td>0.442</td>\n      <td>NaN</td>\n      <td>0.447</td>\n      <td>1950.0</td>\n    </tr>\n    <tr>\n      <th>3</th>\n      <td>New York Knicks*</td>\n      <td>68.0</td>\n      <td>NaN</td>\n      <td>27.8</td>\n      <td>78.7</td>\n      <td>0.353</td>\n      <td>NaN</td>\n      <td>NaN</td>\n      <td>NaN</td>\n      <td>27.8</td>\n      <td>...</td>\n      <td>0.41</td>\n      <td>2.53</td>\n      <td>NaN</td>\n      <td>NaN</td>\n      <td>NaN</td>\n      <td>NaN</td>\n      <td>0.449</td>\n      <td>NaN</td>\n      <td>0.428</td>\n      <td>1950.0</td>\n    </tr>\n    <tr>\n      <th>4</th>\n      <td>Fort Wayne Pistons*</td>\n      <td>68.0</td>\n      <td>NaN</td>\n      <td>27.6</td>\n      <td>86.8</td>\n      <td>0.318</td>\n      <td>NaN</td>\n      <td>NaN</td>\n      <td>NaN</td>\n      <td>27.6</td>\n      <td>...</td>\n      <td>0.47</td>\n      <td>1.84</td>\n      <td>NaN</td>\n      <td>NaN</td>\n      <td>NaN</td>\n      <td>NaN</td>\n      <td>0.395</td>\n      <td>NaN</td>\n      <td>0.389</td>\n      <td>1950.0</td>\n    </tr>\n    <tr>\n      <th>...</th>\n      <td>...</td>\n      <td>...</td>\n      <td>...</td>\n      <td>...</td>\n      <td>...</td>\n      <td>...</td>\n      <td>...</td>\n      <td>...</td>\n      <td>...</td>\n      <td>...</td>\n      <td>...</td>\n      <td>...</td>\n      <td>...</td>\n      <td>...</td>\n      <td>...</td>\n      <td>...</td>\n      <td>...</td>\n      <td>...</td>\n      <td>...</td>\n      <td>...</td>\n      <td>...</td>\n    </tr>\n    <tr>\n      <th>26</th>\n      <td>Oklahoma City Thunder</td>\n      <td>75.0</td>\n      <td>241.7</td>\n      <td>38.2</td>\n      <td>89.3</td>\n      <td>0.428</td>\n      <td>12.1</td>\n      <td>37.6</td>\n      <td>0.321</td>\n      <td>26.2</td>\n      <td>...</td>\n      <td>0.30</td>\n      <td>-7.13</td>\n      <td>104.6</td>\n      <td>112.0</td>\n      <td>-7.4</td>\n      <td>98.5</td>\n      <td>0.223</td>\n      <td>0.421</td>\n      <td>0.529</td>\n      <td>2022.0</td>\n    </tr>\n    <tr>\n      <th>27</th>\n      <td>Houston Rockets</td>\n      <td>76.0</td>\n      <td>241.0</td>\n      <td>39.1</td>\n      <td>86.0</td>\n      <td>0.455</td>\n      <td>13.4</td>\n      <td>38.5</td>\n      <td>0.349</td>\n      <td>25.7</td>\n      <td>...</td>\n      <td>0.33</td>\n      <td>-8.21</td>\n      <td>107.9</td>\n      <td>116.3</td>\n      <td>-8.4</td>\n      <td>100.8</td>\n      <td>0.285</td>\n      <td>0.447</td>\n      <td>0.564</td>\n      <td>2022.0</td>\n    </tr>\n    <tr>\n      <th>28</th>\n      <td>Detroit Pistons</td>\n      <td>76.0</td>\n      <td>241.3</td>\n      <td>38.1</td>\n      <td>88.7</td>\n      <td>0.430</td>\n      <td>11.1</td>\n      <td>34.2</td>\n      <td>0.326</td>\n      <td>27.0</td>\n      <td>...</td>\n      <td>0.37</td>\n      <td>-7.45</td>\n      <td>105.7</td>\n      <td>113.6</td>\n      <td>-7.9</td>\n      <td>98.4</td>\n      <td>0.248</td>\n      <td>0.386</td>\n      <td>0.532</td>\n      <td>2022.0</td>\n    </tr>\n    <tr>\n      <th>29</th>\n      <td>Orlando Magic</td>\n      <td>76.0</td>\n      <td>241.3</td>\n      <td>38.2</td>\n      <td>88.2</td>\n      <td>0.434</td>\n      <td>12.0</td>\n      <td>36.4</td>\n      <td>0.329</td>\n      <td>26.2</td>\n      <td>...</td>\n      <td>0.25</td>\n      <td>-7.49</td>\n      <td>104.3</td>\n      <td>112.1</td>\n      <td>-7.8</td>\n      <td>99.2</td>\n      <td>0.226</td>\n      <td>0.413</td>\n      <td>0.537</td>\n      <td>2022.0</td>\n    </tr>\n    <tr>\n      <th>30</th>\n      <td>League Average 2022</td>\n      <td>76.0</td>\n      <td>241.4</td>\n      <td>40.5</td>\n      <td>88.1</td>\n      <td>0.460</td>\n      <td>12.4</td>\n      <td>35.2</td>\n      <td>0.352</td>\n      <td>28.1</td>\n      <td>...</td>\n      <td>0.00</td>\n      <td>0.00</td>\n      <td>111.6</td>\n      <td>111.6</td>\n      <td>NaN</td>\n      <td>98.1</td>\n      <td>0.247</td>\n      <td>0.399</td>\n      <td>0.564</td>\n      <td>2022.0</td>\n    </tr>\n  </tbody>\n</table>\n<p>1646 rows × 38 columns</p>\n</div>"
     },
     "execution_count": 75,
     "metadata": {},
     "output_type": "execute_result"
    }
   ],
   "source": [
    "old"
   ],
   "metadata": {
    "collapsed": false,
    "pycharm": {
     "name": "#%%\n"
    }
   }
  },
  {
   "cell_type": "code",
   "execution_count": 76,
   "outputs": [],
   "source": [
    "total = pd.concat([old,df]).drop_duplicates().reset_index(drop=True)\n"
   ],
   "metadata": {
    "collapsed": false,
    "pycharm": {
     "name": "#%%\n"
    }
   }
  },
  {
   "cell_type": "code",
   "execution_count": 77,
   "outputs": [],
   "source": [
    "league = total[total['Team'].str.contains('League')].copy()"
   ],
   "metadata": {
    "collapsed": false,
    "pycharm": {
     "name": "#%%\n"
    }
   }
  },
  {
   "cell_type": "code",
   "execution_count": 78,
   "outputs": [
    {
     "name": "stderr",
     "output_type": "stream",
     "text": [
      "/var/folders/0p/ttyhqytj0zxf3tq1njp37rqw0000gn/T/ipykernel_67580/992794134.py:1: DeprecationWarning: In a future version, `df.iloc[:, i] = newvals` will attempt to set the values inplace instead of always setting a new array. To retain the old behavior, use either `df[df.columns[i]] = newvals` or, if columns are non-unique, `df.isetitem(i, newvals)`\n",
      "  league.loc[:,'Year'] = league.loc[:,'Year'].astype(int)\n"
     ]
    }
   ],
   "source": [
    "league.loc[:,'Year'] = league.loc[:,'Year'].astype(int)"
   ],
   "metadata": {
    "collapsed": false,
    "pycharm": {
     "name": "#%%\n"
    }
   }
  },
  {
   "cell_type": "code",
   "execution_count": 79,
   "outputs": [],
   "source": [
    "total = total.drop(league.index).reset_index(drop=True)"
   ],
   "metadata": {
    "collapsed": false,
    "pycharm": {
     "name": "#%%\n"
    }
   }
  },
  {
   "cell_type": "code",
   "execution_count": 80,
   "outputs": [],
   "source": [
    "league.to_csv('league_stats.csv')\n",
    "total.to_csv('team_stats.csv')"
   ],
   "metadata": {
    "collapsed": false,
    "pycharm": {
     "name": "#%%\n"
    }
   }
  }
 ],
 "metadata": {
  "kernelspec": {
   "display_name": "Python 3",
   "language": "python",
   "name": "python3"
  },
  "language_info": {
   "codemirror_mode": {
    "name": "ipython",
    "version": 2
   },
   "file_extension": ".py",
   "mimetype": "text/x-python",
   "name": "python",
   "nbconvert_exporter": "python",
   "pygments_lexer": "ipython2",
   "version": "2.7.6"
  }
 },
 "nbformat": 4,
 "nbformat_minor": 0
}