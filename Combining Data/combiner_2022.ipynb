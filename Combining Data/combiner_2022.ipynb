{
 "cells": [
  {
   "cell_type": "code",
   "execution_count": 3,
   "metadata": {
    "collapsed": true
   },
   "outputs": [],
   "source": [
    "import pandas as pd\n",
    "from datetime import datetime"
   ]
  },
  {
   "cell_type": "code",
   "execution_count": 6,
   "outputs": [],
   "source": [
    "for i in range(1980,datetime.now().year):\n",
    "    df = pd.read_csv(f'/Users/chaseallbright/Dropbox/NBA/Basketball Reference Stat Scraper/Old/cleaned_stats/{i}.csv',index_col=0)\n",
    "    df = df.drop(df[df['Tm'] == 'Traded'].index)\n",
    "\n",
    "    break\n"
   ],
   "metadata": {
    "collapsed": false,
    "pycharm": {
     "name": "#%%\n"
    }
   }
  },
  {
   "cell_type": "code",
   "execution_count": 7,
   "outputs": [
    {
     "data": {
      "text/plain": "                  Player Pos   Age   Tm     G    GS    MP    FG   FGA    FG%  \\\n0    Kareem Abdul-Jabbar   C  32.0  LAL  82.0   NaN  38.3  10.2  16.9  0.604   \n1          Tom Abernethy  PF  25.0  GSW  67.0   NaN  18.2   2.3   4.7  0.481   \n2            Alvan Adams   C  25.0  PHO  75.0   NaN  28.9   6.2  11.7  0.531   \n3         Tiny Archibald  PG  31.0  BOS  80.0  80.0  35.8   4.8   9.9  0.482   \n4          Dennis Awtrey   C  31.0  CHI  26.0   NaN  21.5   1.0   2.3  0.450   \n..                   ...  ..   ...  ...   ...   ...   ...   ...   ...    ...   \n281         Bubba Wilson  SG  24.0  GSW  16.0   NaN   8.9   0.4   1.6  0.280   \n282          Rick Wilson  SG  23.0  ATL   5.0   NaN  11.8   0.4   2.8  0.143   \n283        Brian Winters  SG  27.0  MIL  80.0   NaN  32.8   6.7  14.0  0.479   \n284         Larry Wright  PG  25.0  WSB  76.0   NaN  16.9   3.0   6.6  0.458   \n285            Tony Zeno  SF  22.0  IND   8.0   NaN   7.4   0.8   2.6  0.286   \n\n     ...  DRB   TRB  AST  STL  BLK  TOV   PF   PTS   STAR  Year  \n0    ...  8.5  10.8  4.5  1.0  3.4  3.6  2.6  24.8   True  1980  \n1    ...  1.9   2.9  1.3  0.5  0.2  0.6  1.8   5.4  False  1980  \n2    ...  6.0   8.1  4.3  1.4  0.7  2.9  3.2  14.9  False  1980  \n3    ...  1.7   2.5  8.4  1.3  0.1  3.0  2.7  14.1   True  1980  \n4    ...  3.3   4.4  1.5  0.5  0.6  1.0  2.5   3.3  False  1980  \n..   ...  ...   ...  ...  ...  ...  ...  ...   ...    ...   ...  \n281  ...  0.6   1.0  0.8  0.1  0.0  0.5  0.7   1.1  False  1980  \n282  ...  0.2   0.6  2.2  0.8  0.2  1.6  0.6   1.6  False  1980  \n283  ...  2.2   2.8  4.5  1.3  0.4  2.3  2.6  16.2  False  1980  \n284  ...  1.1   1.6  2.9  0.6  0.2  1.4  1.9   7.3  False  1980  \n285  ...  1.4   1.8  0.1  0.5  0.4  1.1  1.6   1.8  False  1980  \n\n[251 rows x 31 columns]",
      "text/html": "<div>\n<style scoped>\n    .dataframe tbody tr th:only-of-type {\n        vertical-align: middle;\n    }\n\n    .dataframe tbody tr th {\n        vertical-align: top;\n    }\n\n    .dataframe thead th {\n        text-align: right;\n    }\n</style>\n<table border=\"1\" class=\"dataframe\">\n  <thead>\n    <tr style=\"text-align: right;\">\n      <th></th>\n      <th>Player</th>\n      <th>Pos</th>\n      <th>Age</th>\n      <th>Tm</th>\n      <th>G</th>\n      <th>GS</th>\n      <th>MP</th>\n      <th>FG</th>\n      <th>FGA</th>\n      <th>FG%</th>\n      <th>...</th>\n      <th>DRB</th>\n      <th>TRB</th>\n      <th>AST</th>\n      <th>STL</th>\n      <th>BLK</th>\n      <th>TOV</th>\n      <th>PF</th>\n      <th>PTS</th>\n      <th>STAR</th>\n      <th>Year</th>\n    </tr>\n  </thead>\n  <tbody>\n    <tr>\n      <th>0</th>\n      <td>Kareem Abdul-Jabbar</td>\n      <td>C</td>\n      <td>32.0</td>\n      <td>LAL</td>\n      <td>82.0</td>\n      <td>NaN</td>\n      <td>38.3</td>\n      <td>10.2</td>\n      <td>16.9</td>\n      <td>0.604</td>\n      <td>...</td>\n      <td>8.5</td>\n      <td>10.8</td>\n      <td>4.5</td>\n      <td>1.0</td>\n      <td>3.4</td>\n      <td>3.6</td>\n      <td>2.6</td>\n      <td>24.8</td>\n      <td>True</td>\n      <td>1980</td>\n    </tr>\n    <tr>\n      <th>1</th>\n      <td>Tom Abernethy</td>\n      <td>PF</td>\n      <td>25.0</td>\n      <td>GSW</td>\n      <td>67.0</td>\n      <td>NaN</td>\n      <td>18.2</td>\n      <td>2.3</td>\n      <td>4.7</td>\n      <td>0.481</td>\n      <td>...</td>\n      <td>1.9</td>\n      <td>2.9</td>\n      <td>1.3</td>\n      <td>0.5</td>\n      <td>0.2</td>\n      <td>0.6</td>\n      <td>1.8</td>\n      <td>5.4</td>\n      <td>False</td>\n      <td>1980</td>\n    </tr>\n    <tr>\n      <th>2</th>\n      <td>Alvan Adams</td>\n      <td>C</td>\n      <td>25.0</td>\n      <td>PHO</td>\n      <td>75.0</td>\n      <td>NaN</td>\n      <td>28.9</td>\n      <td>6.2</td>\n      <td>11.7</td>\n      <td>0.531</td>\n      <td>...</td>\n      <td>6.0</td>\n      <td>8.1</td>\n      <td>4.3</td>\n      <td>1.4</td>\n      <td>0.7</td>\n      <td>2.9</td>\n      <td>3.2</td>\n      <td>14.9</td>\n      <td>False</td>\n      <td>1980</td>\n    </tr>\n    <tr>\n      <th>3</th>\n      <td>Tiny Archibald</td>\n      <td>PG</td>\n      <td>31.0</td>\n      <td>BOS</td>\n      <td>80.0</td>\n      <td>80.0</td>\n      <td>35.8</td>\n      <td>4.8</td>\n      <td>9.9</td>\n      <td>0.482</td>\n      <td>...</td>\n      <td>1.7</td>\n      <td>2.5</td>\n      <td>8.4</td>\n      <td>1.3</td>\n      <td>0.1</td>\n      <td>3.0</td>\n      <td>2.7</td>\n      <td>14.1</td>\n      <td>True</td>\n      <td>1980</td>\n    </tr>\n    <tr>\n      <th>4</th>\n      <td>Dennis Awtrey</td>\n      <td>C</td>\n      <td>31.0</td>\n      <td>CHI</td>\n      <td>26.0</td>\n      <td>NaN</td>\n      <td>21.5</td>\n      <td>1.0</td>\n      <td>2.3</td>\n      <td>0.450</td>\n      <td>...</td>\n      <td>3.3</td>\n      <td>4.4</td>\n      <td>1.5</td>\n      <td>0.5</td>\n      <td>0.6</td>\n      <td>1.0</td>\n      <td>2.5</td>\n      <td>3.3</td>\n      <td>False</td>\n      <td>1980</td>\n    </tr>\n    <tr>\n      <th>...</th>\n      <td>...</td>\n      <td>...</td>\n      <td>...</td>\n      <td>...</td>\n      <td>...</td>\n      <td>...</td>\n      <td>...</td>\n      <td>...</td>\n      <td>...</td>\n      <td>...</td>\n      <td>...</td>\n      <td>...</td>\n      <td>...</td>\n      <td>...</td>\n      <td>...</td>\n      <td>...</td>\n      <td>...</td>\n      <td>...</td>\n      <td>...</td>\n      <td>...</td>\n      <td>...</td>\n    </tr>\n    <tr>\n      <th>281</th>\n      <td>Bubba Wilson</td>\n      <td>SG</td>\n      <td>24.0</td>\n      <td>GSW</td>\n      <td>16.0</td>\n      <td>NaN</td>\n      <td>8.9</td>\n      <td>0.4</td>\n      <td>1.6</td>\n      <td>0.280</td>\n      <td>...</td>\n      <td>0.6</td>\n      <td>1.0</td>\n      <td>0.8</td>\n      <td>0.1</td>\n      <td>0.0</td>\n      <td>0.5</td>\n      <td>0.7</td>\n      <td>1.1</td>\n      <td>False</td>\n      <td>1980</td>\n    </tr>\n    <tr>\n      <th>282</th>\n      <td>Rick Wilson</td>\n      <td>SG</td>\n      <td>23.0</td>\n      <td>ATL</td>\n      <td>5.0</td>\n      <td>NaN</td>\n      <td>11.8</td>\n      <td>0.4</td>\n      <td>2.8</td>\n      <td>0.143</td>\n      <td>...</td>\n      <td>0.2</td>\n      <td>0.6</td>\n      <td>2.2</td>\n      <td>0.8</td>\n      <td>0.2</td>\n      <td>1.6</td>\n      <td>0.6</td>\n      <td>1.6</td>\n      <td>False</td>\n      <td>1980</td>\n    </tr>\n    <tr>\n      <th>283</th>\n      <td>Brian Winters</td>\n      <td>SG</td>\n      <td>27.0</td>\n      <td>MIL</td>\n      <td>80.0</td>\n      <td>NaN</td>\n      <td>32.8</td>\n      <td>6.7</td>\n      <td>14.0</td>\n      <td>0.479</td>\n      <td>...</td>\n      <td>2.2</td>\n      <td>2.8</td>\n      <td>4.5</td>\n      <td>1.3</td>\n      <td>0.4</td>\n      <td>2.3</td>\n      <td>2.6</td>\n      <td>16.2</td>\n      <td>False</td>\n      <td>1980</td>\n    </tr>\n    <tr>\n      <th>284</th>\n      <td>Larry Wright</td>\n      <td>PG</td>\n      <td>25.0</td>\n      <td>WSB</td>\n      <td>76.0</td>\n      <td>NaN</td>\n      <td>16.9</td>\n      <td>3.0</td>\n      <td>6.6</td>\n      <td>0.458</td>\n      <td>...</td>\n      <td>1.1</td>\n      <td>1.6</td>\n      <td>2.9</td>\n      <td>0.6</td>\n      <td>0.2</td>\n      <td>1.4</td>\n      <td>1.9</td>\n      <td>7.3</td>\n      <td>False</td>\n      <td>1980</td>\n    </tr>\n    <tr>\n      <th>285</th>\n      <td>Tony Zeno</td>\n      <td>SF</td>\n      <td>22.0</td>\n      <td>IND</td>\n      <td>8.0</td>\n      <td>NaN</td>\n      <td>7.4</td>\n      <td>0.8</td>\n      <td>2.6</td>\n      <td>0.286</td>\n      <td>...</td>\n      <td>1.4</td>\n      <td>1.8</td>\n      <td>0.1</td>\n      <td>0.5</td>\n      <td>0.4</td>\n      <td>1.1</td>\n      <td>1.6</td>\n      <td>1.8</td>\n      <td>False</td>\n      <td>1980</td>\n    </tr>\n  </tbody>\n</table>\n<p>251 rows × 31 columns</p>\n</div>"
     },
     "execution_count": 7,
     "metadata": {},
     "output_type": "execute_result"
    }
   ],
   "source": [
    "\n",
    "df"
   ],
   "metadata": {
    "collapsed": false,
    "pycharm": {
     "name": "#%%\n"
    }
   }
  },
  {
   "cell_type": "code",
   "execution_count": null,
   "outputs": [],
   "source": [],
   "metadata": {
    "collapsed": false,
    "pycharm": {
     "name": "#%%\n"
    }
   }
  }
 ],
 "metadata": {
  "kernelspec": {
   "display_name": "Python 3",
   "language": "python",
   "name": "python3"
  },
  "language_info": {
   "codemirror_mode": {
    "name": "ipython",
    "version": 2
   },
   "file_extension": ".py",
   "mimetype": "text/x-python",
   "name": "python",
   "nbconvert_exporter": "python",
   "pygments_lexer": "ipython2",
   "version": "2.7.6"
  }
 },
 "nbformat": 4,
 "nbformat_minor": 0
}