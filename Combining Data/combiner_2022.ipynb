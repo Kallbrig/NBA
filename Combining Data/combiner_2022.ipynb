{
 "cells": [
  {
   "cell_type": "code",
   "execution_count": 5,
   "metadata": {
    "collapsed": true
   },
   "outputs": [],
   "source": [
    "import pandas as pd\n",
    "from datetime import datetime"
   ]
  },
  {
   "cell_type": "code",
   "execution_count": 8,
   "outputs": [],
   "source": [
    "for i in range(1980,datetime.now().year):\n",
    "    df = pd.read_csv(f'../Basketball Reference Stat Scraper/cleaned_stats/{i}.csv',index_col=0)\n",
    "    df = df.drop(df[df['Tm'] == 'Traded'].index)"
   ],
   "metadata": {
    "collapsed": false,
    "pycharm": {
     "name": "#%%\n"
    }
   }
  },
  {
   "cell_type": "code",
   "execution_count": 11,
   "outputs": [
    {
     "data": {
      "text/plain": "                Player    Pos   Age      Tm      G    GS     MP    FG    FGA  \\\n4    LaMarcus Aldridge      C  35.0  Traded   52.0  46.0  25.91  5.40  11.39   \n8        Jarrett Allen      C  22.0  Traded  126.0  90.0  29.61  4.73   7.68   \n9      Al-Farouq Aminu     PF  30.0  Traded   46.0  28.0  18.89  1.67   4.29   \n19       D.J. Augustin     PG  33.0  Traded  114.0  24.0  19.81  2.38   6.02   \n39         Jordan Bell      C  26.0  Traded   12.0   2.0  13.68  1.18   3.68   \n..                 ...    ...   ...     ...    ...   ...    ...   ...    ...   \n505      Moritz Wagner      C  23.0  Traded   90.0  48.0  16.02  2.31   5.11   \n509     Brad Wanamaker     PG  31.0  Traded  122.0   0.0  17.28  1.91   4.88   \n524       Lou Williams     PG  34.0  Traded  132.0   8.0  21.59  4.00   9.78   \n528        D.J. Wilson     PF  24.0  Traded   70.0   2.0  12.41  1.93   4.79   \n535       Delon Wright  SG-PG  28.0  Traded  126.0  78.0  27.72  3.82   8.19   \n\n      FG%  ...   DRB    TRB   AST   STL   BLK   TOV    PF    PTS   STAR  Year  \n4    0.47  ...  3.82   4.53  1.89  0.42  1.12  1.04  1.80  13.51  False  2021  \n8    0.62  ...  6.90  10.00  1.70  0.51  1.42  1.58  1.53  12.81  False  2021  \n9    0.37  ...  3.82   4.81  1.32  0.81  0.38  1.22  1.29   4.43  False  2021  \n19   0.39  ...  1.32   1.64  3.31  0.48  0.00  1.12  1.00   7.69  False  2021  \n39   0.30  ...  2.82   4.00  1.18  0.50  0.82  0.68  1.18   2.50  False  2021  \n..    ...  ...   ...    ...   ...   ...   ...   ...   ...    ...    ...   ...  \n505  0.45  ...  2.62   3.21  1.12  0.60  0.39  0.97  2.41   6.89  False  2021  \n509  0.38  ...  1.41   1.72  2.86  0.72  0.20  1.16  1.52   5.50  False  2021  \n524  0.41  ...  1.77   2.10  3.40  0.69  0.10  1.64  0.91  11.32  False  2021  \n528  0.40  ...  2.59   3.21  0.70  0.30  0.47  0.61  1.27   5.22  False  2021  \n535  0.46  ...  3.22   4.30  4.40  1.60  0.48  1.30  1.21  10.21  False  2021  \n\n[79 rows x 31 columns]",
      "text/html": "<div>\n<style scoped>\n    .dataframe tbody tr th:only-of-type {\n        vertical-align: middle;\n    }\n\n    .dataframe tbody tr th {\n        vertical-align: top;\n    }\n\n    .dataframe thead th {\n        text-align: right;\n    }\n</style>\n<table border=\"1\" class=\"dataframe\">\n  <thead>\n    <tr style=\"text-align: right;\">\n      <th></th>\n      <th>Player</th>\n      <th>Pos</th>\n      <th>Age</th>\n      <th>Tm</th>\n      <th>G</th>\n      <th>GS</th>\n      <th>MP</th>\n      <th>FG</th>\n      <th>FGA</th>\n      <th>FG%</th>\n      <th>...</th>\n      <th>DRB</th>\n      <th>TRB</th>\n      <th>AST</th>\n      <th>STL</th>\n      <th>BLK</th>\n      <th>TOV</th>\n      <th>PF</th>\n      <th>PTS</th>\n      <th>STAR</th>\n      <th>Year</th>\n    </tr>\n  </thead>\n  <tbody>\n    <tr>\n      <th>4</th>\n      <td>LaMarcus Aldridge</td>\n      <td>C</td>\n      <td>35.0</td>\n      <td>Traded</td>\n      <td>52.0</td>\n      <td>46.0</td>\n      <td>25.91</td>\n      <td>5.40</td>\n      <td>11.39</td>\n      <td>0.47</td>\n      <td>...</td>\n      <td>3.82</td>\n      <td>4.53</td>\n      <td>1.89</td>\n      <td>0.42</td>\n      <td>1.12</td>\n      <td>1.04</td>\n      <td>1.80</td>\n      <td>13.51</td>\n      <td>False</td>\n      <td>2021</td>\n    </tr>\n    <tr>\n      <th>8</th>\n      <td>Jarrett Allen</td>\n      <td>C</td>\n      <td>22.0</td>\n      <td>Traded</td>\n      <td>126.0</td>\n      <td>90.0</td>\n      <td>29.61</td>\n      <td>4.73</td>\n      <td>7.68</td>\n      <td>0.62</td>\n      <td>...</td>\n      <td>6.90</td>\n      <td>10.00</td>\n      <td>1.70</td>\n      <td>0.51</td>\n      <td>1.42</td>\n      <td>1.58</td>\n      <td>1.53</td>\n      <td>12.81</td>\n      <td>False</td>\n      <td>2021</td>\n    </tr>\n    <tr>\n      <th>9</th>\n      <td>Al-Farouq Aminu</td>\n      <td>PF</td>\n      <td>30.0</td>\n      <td>Traded</td>\n      <td>46.0</td>\n      <td>28.0</td>\n      <td>18.89</td>\n      <td>1.67</td>\n      <td>4.29</td>\n      <td>0.37</td>\n      <td>...</td>\n      <td>3.82</td>\n      <td>4.81</td>\n      <td>1.32</td>\n      <td>0.81</td>\n      <td>0.38</td>\n      <td>1.22</td>\n      <td>1.29</td>\n      <td>4.43</td>\n      <td>False</td>\n      <td>2021</td>\n    </tr>\n    <tr>\n      <th>19</th>\n      <td>D.J. Augustin</td>\n      <td>PG</td>\n      <td>33.0</td>\n      <td>Traded</td>\n      <td>114.0</td>\n      <td>24.0</td>\n      <td>19.81</td>\n      <td>2.38</td>\n      <td>6.02</td>\n      <td>0.39</td>\n      <td>...</td>\n      <td>1.32</td>\n      <td>1.64</td>\n      <td>3.31</td>\n      <td>0.48</td>\n      <td>0.00</td>\n      <td>1.12</td>\n      <td>1.00</td>\n      <td>7.69</td>\n      <td>False</td>\n      <td>2021</td>\n    </tr>\n    <tr>\n      <th>39</th>\n      <td>Jordan Bell</td>\n      <td>C</td>\n      <td>26.0</td>\n      <td>Traded</td>\n      <td>12.0</td>\n      <td>2.0</td>\n      <td>13.68</td>\n      <td>1.18</td>\n      <td>3.68</td>\n      <td>0.30</td>\n      <td>...</td>\n      <td>2.82</td>\n      <td>4.00</td>\n      <td>1.18</td>\n      <td>0.50</td>\n      <td>0.82</td>\n      <td>0.68</td>\n      <td>1.18</td>\n      <td>2.50</td>\n      <td>False</td>\n      <td>2021</td>\n    </tr>\n    <tr>\n      <th>...</th>\n      <td>...</td>\n      <td>...</td>\n      <td>...</td>\n      <td>...</td>\n      <td>...</td>\n      <td>...</td>\n      <td>...</td>\n      <td>...</td>\n      <td>...</td>\n      <td>...</td>\n      <td>...</td>\n      <td>...</td>\n      <td>...</td>\n      <td>...</td>\n      <td>...</td>\n      <td>...</td>\n      <td>...</td>\n      <td>...</td>\n      <td>...</td>\n      <td>...</td>\n      <td>...</td>\n    </tr>\n    <tr>\n      <th>505</th>\n      <td>Moritz Wagner</td>\n      <td>C</td>\n      <td>23.0</td>\n      <td>Traded</td>\n      <td>90.0</td>\n      <td>48.0</td>\n      <td>16.02</td>\n      <td>2.31</td>\n      <td>5.11</td>\n      <td>0.45</td>\n      <td>...</td>\n      <td>2.62</td>\n      <td>3.21</td>\n      <td>1.12</td>\n      <td>0.60</td>\n      <td>0.39</td>\n      <td>0.97</td>\n      <td>2.41</td>\n      <td>6.89</td>\n      <td>False</td>\n      <td>2021</td>\n    </tr>\n    <tr>\n      <th>509</th>\n      <td>Brad Wanamaker</td>\n      <td>PG</td>\n      <td>31.0</td>\n      <td>Traded</td>\n      <td>122.0</td>\n      <td>0.0</td>\n      <td>17.28</td>\n      <td>1.91</td>\n      <td>4.88</td>\n      <td>0.38</td>\n      <td>...</td>\n      <td>1.41</td>\n      <td>1.72</td>\n      <td>2.86</td>\n      <td>0.72</td>\n      <td>0.20</td>\n      <td>1.16</td>\n      <td>1.52</td>\n      <td>5.50</td>\n      <td>False</td>\n      <td>2021</td>\n    </tr>\n    <tr>\n      <th>524</th>\n      <td>Lou Williams</td>\n      <td>PG</td>\n      <td>34.0</td>\n      <td>Traded</td>\n      <td>132.0</td>\n      <td>8.0</td>\n      <td>21.59</td>\n      <td>4.00</td>\n      <td>9.78</td>\n      <td>0.41</td>\n      <td>...</td>\n      <td>1.77</td>\n      <td>2.10</td>\n      <td>3.40</td>\n      <td>0.69</td>\n      <td>0.10</td>\n      <td>1.64</td>\n      <td>0.91</td>\n      <td>11.32</td>\n      <td>False</td>\n      <td>2021</td>\n    </tr>\n    <tr>\n      <th>528</th>\n      <td>D.J. Wilson</td>\n      <td>PF</td>\n      <td>24.0</td>\n      <td>Traded</td>\n      <td>70.0</td>\n      <td>2.0</td>\n      <td>12.41</td>\n      <td>1.93</td>\n      <td>4.79</td>\n      <td>0.40</td>\n      <td>...</td>\n      <td>2.59</td>\n      <td>3.21</td>\n      <td>0.70</td>\n      <td>0.30</td>\n      <td>0.47</td>\n      <td>0.61</td>\n      <td>1.27</td>\n      <td>5.22</td>\n      <td>False</td>\n      <td>2021</td>\n    </tr>\n    <tr>\n      <th>535</th>\n      <td>Delon Wright</td>\n      <td>SG-PG</td>\n      <td>28.0</td>\n      <td>Traded</td>\n      <td>126.0</td>\n      <td>78.0</td>\n      <td>27.72</td>\n      <td>3.82</td>\n      <td>8.19</td>\n      <td>0.46</td>\n      <td>...</td>\n      <td>3.22</td>\n      <td>4.30</td>\n      <td>4.40</td>\n      <td>1.60</td>\n      <td>0.48</td>\n      <td>1.30</td>\n      <td>1.21</td>\n      <td>10.21</td>\n      <td>False</td>\n      <td>2021</td>\n    </tr>\n  </tbody>\n</table>\n<p>79 rows × 31 columns</p>\n</div>"
     },
     "execution_count": 11,
     "metadata": {},
     "output_type": "execute_result"
    }
   ],
   "source": [],
   "metadata": {
    "collapsed": false,
    "pycharm": {
     "name": "#%%\n"
    }
   }
  },
  {
   "cell_type": "code",
   "execution_count": null,
   "outputs": [],
   "source": [],
   "metadata": {
    "collapsed": false,
    "pycharm": {
     "name": "#%%\n"
    }
   }
  }
 ],
 "metadata": {
  "kernelspec": {
   "display_name": "Python 3",
   "language": "python",
   "name": "python3"
  },
  "language_info": {
   "codemirror_mode": {
    "name": "ipython",
    "version": 2
   },
   "file_extension": ".py",
   "mimetype": "text/x-python",
   "name": "python",
   "nbconvert_exporter": "python",
   "pygments_lexer": "ipython2",
   "version": "2.7.6"
  }
 },
 "nbformat": 4,
 "nbformat_minor": 0
}