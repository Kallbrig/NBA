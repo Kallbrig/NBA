{
 "cells": [
  {
   "cell_type": "code",
   "execution_count": 2,
   "metadata": {},
   "outputs": [],
   "source": [
    "import pandas as pd\n",
    "import os"
   ]
  },
  {
   "cell_type": "code",
   "execution_count": 3,
   "metadata": {},
   "outputs": [
    {
     "data": {
      "text/plain": "['1980', '1981', '1982', '1983', '1984']"
     },
     "execution_count": 3,
     "metadata": {},
     "output_type": "execute_result"
    }
   ],
   "source": [
    "Path_To_Raw_Team_Data = '/Users/chaseallbright/Dropbox/NBA/Data/Team Data/raw/'\n",
    "# Path_To_Raw_Team_Data = input('Input the path to the raw team data.')\n",
    "\n",
    "file_list = [i[2] for i in os.walk(Path_To_Raw_Team_Data)][0]\n",
    "\n",
    "\n",
    "teams_active_years = dict()\n",
    "\n",
    "try:\n",
    "    file_list.remove('.DS_Store')\n",
    "except:\n",
    "    pass\n",
    "\n",
    "\n",
    "\n",
    "\n",
    "for i in file_list:\n",
    "    year, tm, _, __ = i.split('_')\n",
    "    \n",
    "    teams_active_years[tm] = []\n",
    "\n",
    "\n",
    "\n",
    "\n",
    "    \n",
    "for j in teams_active_years:\n",
    "    for i in file_list:\n",
    "        if j in i:\n",
    "            year, tm, _, __ = i.split('_')\n",
    "            teams_active_years[j].append(year)\n",
    "\n",
    "for i in teams_active_years:\n",
    "    teams_active_years[i].sort()\n",
    "            \n",
    "teams_active_years['SDC']\n"
   ]
  },
  {
   "cell_type": "code",
   "execution_count": 4,
   "metadata": {},
   "outputs": [],
   "source": [
    "l = list()\n",
    "d = dict()"
   ]
  },
  {
   "cell_type": "code",
   "execution_count": 6,
   "metadata": {},
   "outputs": [],
   "source": [
    "for team in teams_active_years:\n",
    "#     print('\\n'+team+'\\n-------')\n",
    "    d[team] = []\n",
    "    for year in teams_active_years[team]:\n",
    "#         print(year)\n",
    "        raw = pd.read_csv(f'../../Data/Team Data/Raw/{year}_{team}_team_stats.csv')\n",
    "        raw = raw.transpose()\n",
    "        raw = raw.rename(columns=raw.iloc[0]).drop('Unnamed: 0')\n",
    "#         raw.to_csv(f'/Users/chaseallbright/Dropbox/NBA/NBA Data/Data/fixed/{team}_{year}_team_stats.csv')\n",
    "        l.append(raw)\n",
    "        \n",
    "    "
   ]
  },
  {
   "cell_type": "code",
   "execution_count": 33,
   "metadata": {},
   "outputs": [
    {
     "name": "stdout",
     "output_type": "stream",
     "text": [
      "1104\n"
     ]
    }
   ],
   "source": [
    "full_list = pd.concat(l, axis=0)\n",
    "\n",
    "full_list = full_list.reset_index().drop(labels='index',axis=1)\n",
    "\n",
    "print(len(full_list))\n",
    "\n",
    "full_list.to_csv('league_stats.csv')"
   ]
  }
 ],
 "metadata": {
  "kernelspec": {
   "display_name": "Python 3",
   "language": "python",
   "name": "python3"
  },
  "language_info": {
   "codemirror_mode": {
    "name": "ipython",
    "version": 3
   },
   "file_extension": ".py",
   "mimetype": "text/x-python",
   "name": "python",
   "nbconvert_exporter": "python",
   "pygments_lexer": "ipython3",
   "version": "3.8.5"
  }
 },
 "nbformat": 4,
 "nbformat_minor": 4
}