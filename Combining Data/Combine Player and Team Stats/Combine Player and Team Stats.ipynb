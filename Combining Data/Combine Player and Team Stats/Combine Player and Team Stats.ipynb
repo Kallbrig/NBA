{
 "cells": [
  {
   "cell_type": "code",
   "execution_count": 78,
   "metadata": {},
   "outputs": [],
   "source": [
    "import pandas as pd\n",
    "import os"
   ]
  },
  {
   "cell_type": "code",
   "execution_count": 79,
   "metadata": {},
   "outputs": [],
   "source": [
    "# Reads in player data and team data\n",
    "# creates a list of years in the player list. Should be 1980-2021\n",
    "# creates team_list which contains all unique team values\n",
    "\n",
    "# A list of all player files. Will be converted into a consolidated df in the next block.\n",
    "player_file_list = [file for file in os.walk('../Data/Basic Player Stats By Year/')][0][2]\n",
    "\n",
    "# df containing all team stats\n",
    "team_data_df = pd.read_csv('../Data/Team Data/Combined/league_stats.csv',index_col=0)\n",
    "\n",
    "# contains all years (should be 1980-current)\n",
    "year_list = [i.split('.')[0] for i in player_file_list]\n",
    "\n",
    "# contains all unique team values\n",
    "team_list = [i for i in team_data_df.TEAM.unique()]\n",
    "\n",
    "team_keys = [key for key in team_data_df.keys()]\n"
   ]
  },
  {
   "cell_type": "code",
   "execution_count": 80,
   "metadata": {},
   "outputs": [],
   "source": [
    "# Edits team columns to contain the TM_ prefix. This prevents duplicates when combining with player data.\n",
    "\n",
    "for key in range(len(team_keys)):\n",
    "    team_keys[key] = 'TM_' + team_keys[key]\n",
    "team_data_df.columns = team_keys\n",
    "\n",
    "\n",
    "# Adds TM_SEASON_SHORT which is the first year in a season (1990-91) -> (1990)\n",
    "# This allows matching with the player data frame\n",
    "\n",
    "team_data_df['Year'] = [int(i.split('-')[0]) for i in list(team_data_df.TM_SEASON)]\n",
    "\n",
    "tm = list(team_data_df.keys())\n",
    "tm[0] = 'Tm'\n",
    "team_data_df.columns = tm\n"
   ]
  },
  {
   "cell_type": "code",
   "execution_count": 81,
   "metadata": {},
   "outputs": [],
   "source": [
    "# Creates combined_df which is a consolidated list of all players.\n",
    "\n",
    "df_list = list()\n",
    "for file_name in player_file_list:\n",
    "    df_list.append(pd.read_csv(f'../Data/Basic Player Stats By Year/{file_name}',index_col=0))\n",
    "    \n",
    "combined_df = pd.concat(df_list)\n",
    "\n",
    "# combined.to_csv('../Data/Basic Player Stats Combined.csv')\n",
    "\n",
    "combined_df = combined_df.reset_index().drop(labels='index',axis=1)"
   ]
  },
  {
   "cell_type": "code",
   "execution_count": 82,
   "metadata": {},
   "outputs": [],
   "source": [
    "# Merging the two\n",
    "combined_df = combined_df.merge(team_data_df)\n",
    "combined_df.keys()"
   ]
  },
  {
   "cell_type": "code",
   "execution_count": 93,
   "metadata": {},
   "outputs": [],
   "source": [
    "combined_df.to_csv(f'../Data/Combined Player and Team Data/combined_player_and_team_data.csv')"
   ]
  }
 ],
 "metadata": {
  "kernelspec": {
   "display_name": "Python 3",
   "language": "python",
   "name": "python3"
  },
  "language_info": {
   "codemirror_mode": {
    "name": "ipython",
    "version": 3
   },
   "file_extension": ".py",
   "mimetype": "text/x-python",
   "name": "python",
   "nbconvert_exporter": "python",
   "pygments_lexer": "ipython3",
   "version": "3.8.5"
  }
 },
 "nbformat": 4,
 "nbformat_minor": 4
}
