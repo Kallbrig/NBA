{
 "cells": [
  {
   "cell_type": "code",
   "execution_count": 2,
   "metadata": {
    "collapsed": true
   },
   "outputs": [],
   "source": [
    "import pandas as pd\n",
    "import os"
   ]
  },
  {
   "cell_type": "code",
   "execution_count": 4,
   "outputs": [
    {
     "name": "stdout",
     "output_type": "stream",
     "text": [
      "Most Valuable Player  -  1997\n"
     ]
    }
   ],
   "source": [
    "award_dict = {'Most Valuable Player': 'MVP','Most Improved Player': 'MIP',\n",
    "              'Defensive Player of the Year': 'DPOY', 'Rookie of the Year' : 'ROTY',\n",
    "              'Sixth Man of the Year': 'SMOTY'}\n",
    "path = '/Users/chaseallbright/Desktop/content/Awards/'\n",
    "\n",
    "\n",
    "for i in os.listdir(path):\n",
    "\n",
    "    if i != '.DS_Store':\n",
    "\n",
    "        award, year = i.split('-')\n",
    "\n",
    "        year = year.split('.')[0]\n",
    "\n",
    "        print(award, ' - ',year)\n",
    "\n",
    "        a = pd.read_excel(f'/Users/chaseallbright/Desktop/content/Awards/{award}-{year}.xlsx',index_col=0)\n",
    "        # a = a.drop(columns='Unnamed: 0')\n",
    "        a.columns = a.iloc[0].to_list()\n",
    "        a = a.drop([0,1])\n",
    "        a = a.dropna()\n",
    "        a = a.drop(a[a.Player == 'Player'].index).reset_index(drop=True)\n",
    "        a.drop(columns=['G','Tm', 'MP', 'PTS', 'TRB', 'AST', 'STL', 'BLK', 'FG%', '3P%', 'FT%', 'WS',\n",
    "               'WS/48'],inplace=True)\n",
    "\n",
    "        a.Rank = [int(str(i).strip('T')) for i in a.Rank.to_list()]\n",
    "\n",
    "        a.columns = [f'{award_dict[award]}_{i}' for i in a.columns]\n",
    "\n",
    "        a['Year'] = year\n",
    "        a.to_csv(f'{\"/Users/chaseallbright/Desktop/content/Cleaned Awards/\"}{year}-{award}.csv')\n",
    "\n",
    "\n",
    "\n"
   ],
   "metadata": {
    "collapsed": false,
    "pycharm": {
     "name": "#%%\n"
    }
   }
  },
  {
   "cell_type": "code",
   "execution_count": 75,
   "outputs": [],
   "source": [
    "award = 'Most Valuable Player'\n",
    "for year in range(1980,2022):\n",
    "    df_awards = pd.read_csv(f'{\"/Users/chaseallbright/Desktop/content/Cleaned Awards/\"}{year}-{award}.csv',index_col=0)\n",
    "\n",
    "\n",
    "    df_players = pd.read_csv(f'/Users/chaseallbright/Dropbox/NBA/Basketball Reference Stat Scraper/player_stats/{year}_player_stats.csv',index_col=0)\n",
    "    df_players.Player = df_players.copy().Player.str.strip('*')\n",
    "\n",
    "\n",
    "    new = pd.merge(df_awards,df_players,left_on=['MVP_Player','MVP_Age'],right_on=['Player','Age'],how='right')\n",
    "\n",
    "    new = new[[ 'Year_y', 'Player', 'Pos', 'Age', 'Tm', 'G',\n",
    "           'GS', 'MP', 'FG', 'FGA', 'FG%', '3P', '3PA', '3P%', '2P', '2PA', '2P%',\n",
    "           'eFG%', 'FT', 'FTA', 'FT%', 'ORB', 'DRB', 'TRB', 'AST', 'STL', 'BLK',\n",
    "           'TOV', 'PF', 'PTS', 'PER', 'TS%', '3PAr', 'FTr', 'ORB%', 'DRB%', 'TRB%',\n",
    "           'AST%', 'STL%', 'BLK%', 'TOV%', 'USG%', 'OWS', 'DWS', 'WS', 'WS/48',\n",
    "           'OBPM', 'DBPM', 'BPM', 'VORP','MVP_Rank', 'MVP_First', 'MVP_Pts Won',\n",
    "           'MVP_Pts Max', 'MVP_Share',]]\n",
    "\n",
    "    new.columns = [ 'Year', 'Player', 'Pos', 'Age', 'Tm', 'G',\n",
    "           'GS', 'MP', 'FG', 'FGA', 'FG%', '3P', '3PA', '3P%', '2P', '2PA', '2P%',\n",
    "           'eFG%', 'FT', 'FTA', 'FT%', 'ORB', 'DRB', 'TRB', 'AST', 'STL', 'BLK',\n",
    "           'TOV', 'PF', 'PTS', 'PER', 'TS%', '3PAr', 'FTr', 'ORB%', 'DRB%', 'TRB%',\n",
    "           'AST%', 'STL%', 'BLK%', 'TOV%', 'USG%', 'OWS', 'DWS', 'WS', 'WS/48',\n",
    "           'OBPM', 'DBPM', 'BPM', 'VORP','MVP_Rank', 'MVP_First', 'MVP_Pts Won',\n",
    "           'MVP_Pts Max', 'MVP_Share']\n",
    "\n",
    "    new.to_csv(f'train_set/{year}.csv')"
   ],
   "metadata": {
    "collapsed": false,
    "pycharm": {
     "name": "#%%\n"
    }
   }
  },
  {
   "cell_type": "code",
   "execution_count": 81,
   "outputs": [],
   "source": [
    "df_og = pd.read_csv('train_set/1980.csv',index_col=0)\n",
    "for year in range(1981,2022):\n",
    "    df_og = df_og.append(pd.read_csv(f'train_set/{year}.csv',index_col=0))\n",
    "df_og.fillna(0,inplace=True)\n",
    "df_og.to_csv('train_set_full.csv')\n"
   ],
   "metadata": {
    "collapsed": false,
    "pycharm": {
     "name": "#%%\n"
    }
   }
  },
  {
   "cell_type": "code",
   "execution_count": null,
   "outputs": [],
   "source": [],
   "metadata": {
    "collapsed": false,
    "pycharm": {
     "name": "#%%\n"
    }
   }
  }
 ],
 "metadata": {
  "kernelspec": {
   "display_name": "Python 3",
   "language": "python",
   "name": "python3"
  },
  "language_info": {
   "codemirror_mode": {
    "name": "ipython",
    "version": 2
   },
   "file_extension": ".py",
   "mimetype": "text/x-python",
   "name": "python",
   "nbconvert_exporter": "python",
   "pygments_lexer": "ipython2",
   "version": "2.7.6"
  }
 },
 "nbformat": 4,
 "nbformat_minor": 0
}